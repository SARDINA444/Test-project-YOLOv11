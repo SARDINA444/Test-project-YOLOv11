{
  "nbformat": 4,
  "nbformat_minor": 0,
  "metadata": {
    "colab": {
      "provenance": [],
      "gpuType": "T4"
    },
    "kernelspec": {
      "name": "python3",
      "display_name": "Python 3"
    },
    "language_info": {
      "name": "python"
    },
    "accelerator": "GPU"
  },
  "cells": [
    {
      "cell_type": "code",
      "execution_count": null,
      "metadata": {
        "colab": {
          "base_uri": "https://localhost:8080/"
        },
        "id": "-z6HnDFY4X54",
        "outputId": "8fccabf2-9c02-46f3-e759-d926b26daee8"
      },
      "outputs": [
        {
          "output_type": "stream",
          "name": "stdout",
          "text": [
            "Requirement already satisfied: ultralytics in /usr/local/lib/python3.11/dist-packages (8.3.159)\n",
            "Requirement already satisfied: numpy>=1.23.0 in /usr/local/lib/python3.11/dist-packages (from ultralytics) (2.0.2)\n",
            "Requirement already satisfied: matplotlib>=3.3.0 in /usr/local/lib/python3.11/dist-packages (from ultralytics) (3.10.0)\n",
            "Requirement already satisfied: opencv-python>=4.6.0 in /usr/local/lib/python3.11/dist-packages (from ultralytics) (4.11.0.86)\n",
            "Requirement already satisfied: pillow>=7.1.2 in /usr/local/lib/python3.11/dist-packages (from ultralytics) (11.2.1)\n",
            "Requirement already satisfied: pyyaml>=5.3.1 in /usr/local/lib/python3.11/dist-packages (from ultralytics) (6.0.2)\n",
            "Requirement already satisfied: requests>=2.23.0 in /usr/local/lib/python3.11/dist-packages (from ultralytics) (2.32.3)\n",
            "Requirement already satisfied: scipy>=1.4.1 in /usr/local/lib/python3.11/dist-packages (from ultralytics) (1.15.3)\n",
            "Requirement already satisfied: torch>=1.8.0 in /usr/local/lib/python3.11/dist-packages (from ultralytics) (2.6.0+cu124)\n",
            "Requirement already satisfied: torchvision>=0.9.0 in /usr/local/lib/python3.11/dist-packages (from ultralytics) (0.21.0+cu124)\n",
            "Requirement already satisfied: tqdm>=4.64.0 in /usr/local/lib/python3.11/dist-packages (from ultralytics) (4.67.1)\n",
            "Requirement already satisfied: psutil in /usr/local/lib/python3.11/dist-packages (from ultralytics) (5.9.5)\n",
            "Requirement already satisfied: py-cpuinfo in /usr/local/lib/python3.11/dist-packages (from ultralytics) (9.0.0)\n",
            "Requirement already satisfied: pandas>=1.1.4 in /usr/local/lib/python3.11/dist-packages (from ultralytics) (2.2.2)\n",
            "Requirement already satisfied: ultralytics-thop>=2.0.0 in /usr/local/lib/python3.11/dist-packages (from ultralytics) (2.0.14)\n",
            "Requirement already satisfied: contourpy>=1.0.1 in /usr/local/lib/python3.11/dist-packages (from matplotlib>=3.3.0->ultralytics) (1.3.2)\n",
            "Requirement already satisfied: cycler>=0.10 in /usr/local/lib/python3.11/dist-packages (from matplotlib>=3.3.0->ultralytics) (0.12.1)\n",
            "Requirement already satisfied: fonttools>=4.22.0 in /usr/local/lib/python3.11/dist-packages (from matplotlib>=3.3.0->ultralytics) (4.58.4)\n",
            "Requirement already satisfied: kiwisolver>=1.3.1 in /usr/local/lib/python3.11/dist-packages (from matplotlib>=3.3.0->ultralytics) (1.4.8)\n",
            "Requirement already satisfied: packaging>=20.0 in /usr/local/lib/python3.11/dist-packages (from matplotlib>=3.3.0->ultralytics) (24.2)\n",
            "Requirement already satisfied: pyparsing>=2.3.1 in /usr/local/lib/python3.11/dist-packages (from matplotlib>=3.3.0->ultralytics) (3.2.3)\n",
            "Requirement already satisfied: python-dateutil>=2.7 in /usr/local/lib/python3.11/dist-packages (from matplotlib>=3.3.0->ultralytics) (2.9.0.post0)\n",
            "Requirement already satisfied: pytz>=2020.1 in /usr/local/lib/python3.11/dist-packages (from pandas>=1.1.4->ultralytics) (2025.2)\n",
            "Requirement already satisfied: tzdata>=2022.7 in /usr/local/lib/python3.11/dist-packages (from pandas>=1.1.4->ultralytics) (2025.2)\n",
            "Requirement already satisfied: charset-normalizer<4,>=2 in /usr/local/lib/python3.11/dist-packages (from requests>=2.23.0->ultralytics) (3.4.2)\n",
            "Requirement already satisfied: idna<4,>=2.5 in /usr/local/lib/python3.11/dist-packages (from requests>=2.23.0->ultralytics) (3.10)\n",
            "Requirement already satisfied: urllib3<3,>=1.21.1 in /usr/local/lib/python3.11/dist-packages (from requests>=2.23.0->ultralytics) (2.4.0)\n",
            "Requirement already satisfied: certifi>=2017.4.17 in /usr/local/lib/python3.11/dist-packages (from requests>=2.23.0->ultralytics) (2025.6.15)\n",
            "Requirement already satisfied: filelock in /usr/local/lib/python3.11/dist-packages (from torch>=1.8.0->ultralytics) (3.18.0)\n",
            "Requirement already satisfied: typing-extensions>=4.10.0 in /usr/local/lib/python3.11/dist-packages (from torch>=1.8.0->ultralytics) (4.14.0)\n",
            "Requirement already satisfied: networkx in /usr/local/lib/python3.11/dist-packages (from torch>=1.8.0->ultralytics) (3.5)\n",
            "Requirement already satisfied: jinja2 in /usr/local/lib/python3.11/dist-packages (from torch>=1.8.0->ultralytics) (3.1.6)\n",
            "Requirement already satisfied: fsspec in /usr/local/lib/python3.11/dist-packages (from torch>=1.8.0->ultralytics) (2025.3.2)\n",
            "Requirement already satisfied: nvidia-cuda-nvrtc-cu12==12.4.127 in /usr/local/lib/python3.11/dist-packages (from torch>=1.8.0->ultralytics) (12.4.127)\n",
            "Requirement already satisfied: nvidia-cuda-runtime-cu12==12.4.127 in /usr/local/lib/python3.11/dist-packages (from torch>=1.8.0->ultralytics) (12.4.127)\n",
            "Requirement already satisfied: nvidia-cuda-cupti-cu12==12.4.127 in /usr/local/lib/python3.11/dist-packages (from torch>=1.8.0->ultralytics) (12.4.127)\n",
            "Requirement already satisfied: nvidia-cudnn-cu12==9.1.0.70 in /usr/local/lib/python3.11/dist-packages (from torch>=1.8.0->ultralytics) (9.1.0.70)\n",
            "Requirement already satisfied: nvidia-cublas-cu12==12.4.5.8 in /usr/local/lib/python3.11/dist-packages (from torch>=1.8.0->ultralytics) (12.4.5.8)\n",
            "Requirement already satisfied: nvidia-cufft-cu12==11.2.1.3 in /usr/local/lib/python3.11/dist-packages (from torch>=1.8.0->ultralytics) (11.2.1.3)\n",
            "Requirement already satisfied: nvidia-curand-cu12==10.3.5.147 in /usr/local/lib/python3.11/dist-packages (from torch>=1.8.0->ultralytics) (10.3.5.147)\n",
            "Requirement already satisfied: nvidia-cusolver-cu12==11.6.1.9 in /usr/local/lib/python3.11/dist-packages (from torch>=1.8.0->ultralytics) (11.6.1.9)\n",
            "Requirement already satisfied: nvidia-cusparse-cu12==12.3.1.170 in /usr/local/lib/python3.11/dist-packages (from torch>=1.8.0->ultralytics) (12.3.1.170)\n",
            "Requirement already satisfied: nvidia-cusparselt-cu12==0.6.2 in /usr/local/lib/python3.11/dist-packages (from torch>=1.8.0->ultralytics) (0.6.2)\n",
            "Requirement already satisfied: nvidia-nccl-cu12==2.21.5 in /usr/local/lib/python3.11/dist-packages (from torch>=1.8.0->ultralytics) (2.21.5)\n",
            "Requirement already satisfied: nvidia-nvtx-cu12==12.4.127 in /usr/local/lib/python3.11/dist-packages (from torch>=1.8.0->ultralytics) (12.4.127)\n",
            "Requirement already satisfied: nvidia-nvjitlink-cu12==12.4.127 in /usr/local/lib/python3.11/dist-packages (from torch>=1.8.0->ultralytics) (12.4.127)\n",
            "Requirement already satisfied: triton==3.2.0 in /usr/local/lib/python3.11/dist-packages (from torch>=1.8.0->ultralytics) (3.2.0)\n",
            "Requirement already satisfied: sympy==1.13.1 in /usr/local/lib/python3.11/dist-packages (from torch>=1.8.0->ultralytics) (1.13.1)\n",
            "Requirement already satisfied: mpmath<1.4,>=1.1.0 in /usr/local/lib/python3.11/dist-packages (from sympy==1.13.1->torch>=1.8.0->ultralytics) (1.3.0)\n",
            "Requirement already satisfied: six>=1.5 in /usr/local/lib/python3.11/dist-packages (from python-dateutil>=2.7->matplotlib>=3.3.0->ultralytics) (1.17.0)\n",
            "Requirement already satisfied: MarkupSafe>=2.0 in /usr/local/lib/python3.11/dist-packages (from jinja2->torch>=1.8.0->ultralytics) (3.0.2)\n"
          ]
        }
      ],
      "source": [
        "!pip install ultralytics"
      ]
    },
    {
      "cell_type": "markdown",
      "source": [
        "Для запуска вне Google Colab"
      ],
      "metadata": {
        "id": "iqCHHlTUuR3B"
      }
    },
    {
      "cell_type": "code",
      "source": [
        "!pip install torch opencv-python"
      ],
      "metadata": {
        "id": "MjsBoG2auBOi"
      },
      "execution_count": null,
      "outputs": []
    },
    {
      "cell_type": "markdown",
      "source": [
        "Раскаковка архива с датасетом"
      ],
      "metadata": {
        "id": "xaTDryzauW_h"
      }
    },
    {
      "cell_type": "code",
      "source": [
        "!unzip -q /content/dataset.zip -d /content/"
      ],
      "metadata": {
        "id": "xtwCWgSBUdKY"
      },
      "execution_count": null,
      "outputs": []
    },
    {
      "cell_type": "markdown",
      "source": [
        "Проверка доступа к GPU"
      ],
      "metadata": {
        "id": "yPC1XaD7uZuB"
      }
    },
    {
      "cell_type": "code",
      "source": [
        "import torch\n",
        "torch.cuda.is_available()"
      ],
      "metadata": {
        "id": "Tlj_TwUT67U-",
        "outputId": "a5855a9a-2884-4723-de1f-4f67137e8646",
        "colab": {
          "base_uri": "https://localhost:8080/"
        }
      },
      "execution_count": null,
      "outputs": [
        {
          "output_type": "execute_result",
          "data": {
            "text/plain": [
              "True"
            ]
          },
          "metadata": {},
          "execution_count": 3
        }
      ]
    },
    {
      "cell_type": "code",
      "source": [
        "from ultralytics import YOLO"
      ],
      "metadata": {
        "id": "qCm-58Qi6CP1"
      },
      "execution_count": null,
      "outputs": []
    },
    {
      "cell_type": "markdown",
      "source": [
        "# Обучение модели YOLO11 на 100 эпох"
      ],
      "metadata": {
        "id": "CQxUOJ6Kcnny"
      }
    },
    {
      "cell_type": "code",
      "source": [
        "model = YOLO(\"yolo11n.pt\")"
      ],
      "metadata": {
        "colab": {
          "base_uri": "https://localhost:8080/"
        },
        "id": "FrU-E9ph6RgV",
        "outputId": "4a7ae358-01ed-4e28-e9d8-65ebca3514db"
      },
      "execution_count": null,
      "outputs": [
        {
          "output_type": "stream",
          "name": "stdout",
          "text": [
            "Downloading https://github.com/ultralytics/assets/releases/download/v8.3.0/yolo11n.pt to 'yolo11n.pt'...\n"
          ]
        },
        {
          "output_type": "stream",
          "name": "stderr",
          "text": [
            "100%|██████████| 5.35M/5.35M [00:00<00:00, 77.2MB/s]\n"
          ]
        }
      ]
    },
    {
      "cell_type": "code",
      "source": [
        "epochs = 100\n",
        "batch = 64\n",
        "imgsz = 640\n",
        "device = torch.device('cuda' if torch.cuda.is_available() else 'cpu')"
      ],
      "metadata": {
        "id": "9o7ZPW4oU1rY"
      },
      "execution_count": null,
      "outputs": []
    },
    {
      "cell_type": "code",
      "source": [
        "results = model.train(data='data.yaml',\n",
        "                  epochs=epochs,\n",
        "                  batch=batch,\n",
        "                  imgsz=imgsz,\n",
        "                  name='YOLO_test_project',\n",
        "                  device=device)"
      ],
      "metadata": {
        "colab": {
          "base_uri": "https://localhost:8080/"
        },
        "id": "Nuiv0UkJVDqQ",
        "outputId": "2bc01843-484c-4ef4-bb2f-b0e681120482"
      },
      "execution_count": null,
      "outputs": [
        {
          "output_type": "stream",
          "name": "stdout",
          "text": [
            "\u001b[34m\u001b[1mengine/trainer: \u001b[0magnostic_nms=False, amp=True, augment=False, auto_augment=randaugment, batch=64, bgr=0.0, box=7.5, cache=False, cfg=None, classes=None, close_mosaic=10, cls=0.5, conf=None, copy_paste=0.0, copy_paste_mode=flip, cos_lr=False, cutmix=0.0, data=data.yaml, degrees=0.0, deterministic=True, device=None, dfl=1.5, dnn=False, dropout=0.0, dynamic=False, embed=None, epochs=100, erasing=0.4, exist_ok=False, fliplr=0.5, flipud=0.0, format=torchscript, fraction=1.0, freeze=None, half=False, hsv_h=0.015, hsv_s=0.7, hsv_v=0.4, imgsz=640, int8=False, iou=0.7, keras=False, kobj=1.0, line_width=None, lr0=0.01, lrf=0.01, mask_ratio=4, max_det=300, mixup=0.0, mode=train, model=yolo11n.pt, momentum=0.937, mosaic=1.0, multi_scale=False, name=YOLO_test_project3, nbs=64, nms=False, opset=None, optimize=False, optimizer=auto, overlap_mask=True, patience=100, perspective=0.0, plots=True, pose=12.0, pretrained=True, profile=False, project=None, rect=False, resume=False, retina_masks=False, save=True, save_conf=False, save_crop=False, save_dir=runs/detect/YOLO_test_project3, save_frames=False, save_json=False, save_period=-1, save_txt=False, scale=0.5, seed=0, shear=0.0, show=False, show_boxes=True, show_conf=True, show_labels=True, simplify=True, single_cls=False, source=None, split=val, stream_buffer=False, task=detect, time=None, tracker=botsort.yaml, translate=0.1, val=True, verbose=True, vid_stride=1, visualize=False, warmup_bias_lr=0.1, warmup_epochs=3.0, warmup_momentum=0.8, weight_decay=0.0005, workers=8, workspace=None\n",
            "Downloading https://ultralytics.com/assets/Arial.ttf to '/root/.config/Ultralytics/Arial.ttf'...\n"
          ]
        },
        {
          "output_type": "stream",
          "name": "stderr",
          "text": [
            "100%|██████████| 755k/755k [00:00<00:00, 21.7MB/s]"
          ]
        },
        {
          "output_type": "stream",
          "name": "stdout",
          "text": [
            "Overriding model.yaml nc=80 with nc=13\n",
            "\n",
            "                   from  n    params  module                                       arguments                     \n",
            "  0                  -1  1       464  ultralytics.nn.modules.conv.Conv             [3, 16, 3, 2]                 \n",
            "  1                  -1  1      4672  ultralytics.nn.modules.conv.Conv             [16, 32, 3, 2]                \n",
            "  2                  -1  1      6640  ultralytics.nn.modules.block.C3k2            [32, 64, 1, False, 0.25]      \n",
            "  3                  -1  1     36992  ultralytics.nn.modules.conv.Conv             [64, 64, 3, 2]                \n",
            "  4                  -1  1     26080  ultralytics.nn.modules.block.C3k2            [64, 128, 1, False, 0.25]     \n",
            "  5                  -1  1    147712  ultralytics.nn.modules.conv.Conv             [128, 128, 3, 2]              \n",
            "  6                  -1  1     87040  ultralytics.nn.modules.block.C3k2            [128, 128, 1, True]           \n",
            "  7                  -1  1    295424  ultralytics.nn.modules.conv.Conv             [128, 256, 3, 2]              \n",
            "  8                  -1  1    346112  ultralytics.nn.modules.block.C3k2            [256, 256, 1, True]           \n",
            "  9                  -1  1    164608  ultralytics.nn.modules.block.SPPF            [256, 256, 5]                 \n",
            " 10                  -1  1    249728  ultralytics.nn.modules.block.C2PSA           [256, 256, 1]                 \n",
            " 11                  -1  1         0  torch.nn.modules.upsampling.Upsample         [None, 2, 'nearest']          \n",
            " 12             [-1, 6]  1         0  ultralytics.nn.modules.conv.Concat           [1]                           \n",
            " 13                  -1  1    111296  ultralytics.nn.modules.block.C3k2            [384, 128, 1, False]          \n",
            " 14                  -1  1         0  torch.nn.modules.upsampling.Upsample         [None, 2, 'nearest']          \n",
            " 15             [-1, 4]  1         0  ultralytics.nn.modules.conv.Concat           [1]                           \n",
            " 16                  -1  1     32096  ultralytics.nn.modules.block.C3k2            [256, 64, 1, False]           \n",
            " 17                  -1  1     36992  ultralytics.nn.modules.conv.Conv             [64, 64, 3, 2]                \n",
            " 18            [-1, 13]  1         0  ultralytics.nn.modules.conv.Concat           [1]                           \n",
            " 19                  -1  1     86720  ultralytics.nn.modules.block.C3k2            [192, 128, 1, False]          \n",
            " 20                  -1  1    147712  ultralytics.nn.modules.conv.Conv             [128, 128, 3, 2]              \n",
            " 21            [-1, 10]  1         0  ultralytics.nn.modules.conv.Concat           [1]                           \n",
            " 22                  -1  1    378880  ultralytics.nn.modules.block.C3k2            [384, 256, 1, True]           \n",
            " 23        [16, 19, 22]  1    433207  ultralytics.nn.modules.head.Detect           [13, [64, 128, 256]]          \n"
          ]
        },
        {
          "output_type": "stream",
          "name": "stderr",
          "text": [
            "\n"
          ]
        },
        {
          "output_type": "stream",
          "name": "stdout",
          "text": [
            "YOLO11n summary: 181 layers, 2,592,375 parameters, 2,592,359 gradients, 6.5 GFLOPs\n",
            "\n",
            "Transferred 448/499 items from pretrained weights\n",
            "Freezing layer 'model.23.dfl.conv.weight'\n",
            "\u001b[34m\u001b[1mAMP: \u001b[0mrunning Automatic Mixed Precision (AMP) checks...\n",
            "\u001b[34m\u001b[1mAMP: \u001b[0mchecks passed ✅\n",
            "\u001b[34m\u001b[1mtrain: \u001b[0mFast image access ✅ (ping: 0.0±0.0 ms, read: 2168.4±1316.2 MB/s, size: 2075.3 KB)\n"
          ]
        },
        {
          "output_type": "stream",
          "name": "stderr",
          "text": [
            "\u001b[34m\u001b[1mtrain: \u001b[0mScanning /content/dataset/train/labels... 158 images, 0 backgrounds, 0 corrupt: 100%|██████████| 158/158 [00:00<00:00, 2184.71it/s]"
          ]
        },
        {
          "output_type": "stream",
          "name": "stdout",
          "text": [
            "\u001b[34m\u001b[1mtrain: \u001b[0mNew cache created: /content/dataset/train/labels.cache\n"
          ]
        },
        {
          "output_type": "stream",
          "name": "stderr",
          "text": [
            "\n"
          ]
        },
        {
          "output_type": "stream",
          "name": "stdout",
          "text": [
            "\u001b[34m\u001b[1malbumentations: \u001b[0mBlur(p=0.01, blur_limit=(3, 7)), MedianBlur(p=0.01, blur_limit=(3, 7)), ToGray(p=0.01, method='weighted_average', num_output_channels=3), CLAHE(p=0.01, clip_limit=(1.0, 4.0), tile_grid_size=(8, 8))\n",
            "\u001b[34m\u001b[1mval: \u001b[0mFast image access ✅ (ping: 0.0±0.0 ms, read: 1705.2±1264.7 MB/s, size: 1122.7 KB)\n"
          ]
        },
        {
          "output_type": "stream",
          "name": "stderr",
          "text": [
            "\u001b[34m\u001b[1mval: \u001b[0mScanning /content/dataset/val/labels... 20 images, 0 backgrounds, 0 corrupt: 100%|██████████| 20/20 [00:00<00:00, 771.20it/s]"
          ]
        },
        {
          "output_type": "stream",
          "name": "stdout",
          "text": [
            "\u001b[34m\u001b[1mval: \u001b[0mNew cache created: /content/dataset/val/labels.cache\n"
          ]
        },
        {
          "output_type": "stream",
          "name": "stderr",
          "text": [
            "\n"
          ]
        },
        {
          "output_type": "stream",
          "name": "stdout",
          "text": [
            "Plotting labels to runs/detect/YOLO_test_project3/labels.jpg... \n",
            "\u001b[34m\u001b[1moptimizer:\u001b[0m 'optimizer=auto' found, ignoring 'lr0=0.01' and 'momentum=0.937' and determining best 'optimizer', 'lr0' and 'momentum' automatically... \n",
            "\u001b[34m\u001b[1moptimizer:\u001b[0m AdamW(lr=0.000588, momentum=0.9) with parameter groups 81 weight(decay=0.0), 88 weight(decay=0.0005), 87 bias(decay=0.0)\n",
            "Image sizes 640 train, 640 val\n",
            "Using 2 dataloader workers\n",
            "Logging results to \u001b[1mruns/detect/YOLO_test_project3\u001b[0m\n",
            "Starting training for 100 epochs...\n",
            "\n",
            "      Epoch    GPU_mem   box_loss   cls_loss   dfl_loss  Instances       Size\n"
          ]
        },
        {
          "output_type": "stream",
          "name": "stderr",
          "text": [
            "      1/100      8.68G      1.842      4.458      1.486        401        640: 100%|██████████| 3/3 [00:11<00:00,  3.82s/it]\n",
            "                 Class     Images  Instances      Box(P          R      mAP50  mAP50-95): 100%|██████████| 1/1 [00:03<00:00,  3.64s/it]"
          ]
        },
        {
          "output_type": "stream",
          "name": "stdout",
          "text": [
            "                   all         20        152          0          0          0          0\n"
          ]
        },
        {
          "output_type": "stream",
          "name": "stderr",
          "text": [
            "\n"
          ]
        },
        {
          "output_type": "stream",
          "name": "stdout",
          "text": [
            "\n",
            "      Epoch    GPU_mem   box_loss   cls_loss   dfl_loss  Instances       Size\n"
          ]
        },
        {
          "output_type": "stream",
          "name": "stderr",
          "text": [
            "      2/100      8.54G      1.839      4.426      1.524        330        640: 100%|██████████| 3/3 [00:02<00:00,  1.48it/s]\n",
            "                 Class     Images  Instances      Box(P          R      mAP50  mAP50-95): 100%|██████████| 1/1 [00:00<00:00,  3.01it/s]"
          ]
        },
        {
          "output_type": "stream",
          "name": "stdout",
          "text": [
            "                   all         20        152     0.0769    0.00452     0.0407     0.0285\n"
          ]
        },
        {
          "output_type": "stream",
          "name": "stderr",
          "text": [
            "\n"
          ]
        },
        {
          "output_type": "stream",
          "name": "stdout",
          "text": [
            "\n",
            "      Epoch    GPU_mem   box_loss   cls_loss   dfl_loss  Instances       Size\n"
          ]
        },
        {
          "output_type": "stream",
          "name": "stderr",
          "text": [
            "      3/100      8.43G      1.737      4.365      1.448        393        640: 100%|██████████| 3/3 [00:04<00:00,  1.52s/it]\n",
            "                 Class     Images  Instances      Box(P          R      mAP50  mAP50-95): 100%|██████████| 1/1 [00:00<00:00,  5.19it/s]\n"
          ]
        },
        {
          "output_type": "stream",
          "name": "stdout",
          "text": [
            "                   all         20        152     0.0769    0.00452     0.0407     0.0244\n",
            "\n",
            "      Epoch    GPU_mem   box_loss   cls_loss   dfl_loss  Instances       Size\n"
          ]
        },
        {
          "output_type": "stream",
          "name": "stderr",
          "text": [
            "      4/100      8.69G      1.684      4.245      1.393        374        640: 100%|██████████| 3/3 [00:01<00:00,  1.52it/s]\n",
            "                 Class     Images  Instances      Box(P          R      mAP50  mAP50-95): 100%|██████████| 1/1 [00:00<00:00,  4.00it/s]"
          ]
        },
        {
          "output_type": "stream",
          "name": "stdout",
          "text": [
            "                   all         20        152     0.0692     0.0244     0.0444     0.0284\n"
          ]
        },
        {
          "output_type": "stream",
          "name": "stderr",
          "text": [
            "\n"
          ]
        },
        {
          "output_type": "stream",
          "name": "stdout",
          "text": [
            "\n",
            "      Epoch    GPU_mem   box_loss   cls_loss   dfl_loss  Instances       Size\n"
          ]
        },
        {
          "output_type": "stream",
          "name": "stderr",
          "text": [
            "      5/100      8.55G      1.612      4.127       1.33        390        640: 100%|██████████| 3/3 [00:02<00:00,  1.17it/s]\n",
            "                 Class     Images  Instances      Box(P          R      mAP50  mAP50-95): 100%|██████████| 1/1 [00:00<00:00,  2.72it/s]"
          ]
        },
        {
          "output_type": "stream",
          "name": "stdout",
          "text": [
            "                   all         20        152     0.0719     0.0789     0.0609     0.0417\n"
          ]
        },
        {
          "output_type": "stream",
          "name": "stderr",
          "text": [
            "\n"
          ]
        },
        {
          "output_type": "stream",
          "name": "stdout",
          "text": [
            "\n",
            "      Epoch    GPU_mem   box_loss   cls_loss   dfl_loss  Instances       Size\n"
          ]
        },
        {
          "output_type": "stream",
          "name": "stderr",
          "text": [
            "      6/100      8.57G      1.575      4.011      1.271        373        640: 100%|██████████| 3/3 [00:01<00:00,  1.56it/s]\n",
            "                 Class     Images  Instances      Box(P          R      mAP50  mAP50-95): 100%|██████████| 1/1 [00:00<00:00,  2.46it/s]"
          ]
        },
        {
          "output_type": "stream",
          "name": "stdout",
          "text": [
            "                   all         20        152     0.0544       0.18     0.0841     0.0487\n"
          ]
        },
        {
          "output_type": "stream",
          "name": "stderr",
          "text": [
            "\n"
          ]
        },
        {
          "output_type": "stream",
          "name": "stdout",
          "text": [
            "\n",
            "      Epoch    GPU_mem   box_loss   cls_loss   dfl_loss  Instances       Size\n"
          ]
        },
        {
          "output_type": "stream",
          "name": "stderr",
          "text": [
            "      7/100      8.38G      1.565      3.864      1.238        477        640: 100%|██████████| 3/3 [00:01<00:00,  1.51it/s]\n",
            "                 Class     Images  Instances      Box(P          R      mAP50  mAP50-95): 100%|██████████| 1/1 [00:00<00:00,  2.53it/s]"
          ]
        },
        {
          "output_type": "stream",
          "name": "stdout",
          "text": [
            "                   all         20        152     0.0352      0.267      0.127     0.0867\n"
          ]
        },
        {
          "output_type": "stream",
          "name": "stderr",
          "text": [
            "\n"
          ]
        },
        {
          "output_type": "stream",
          "name": "stdout",
          "text": [
            "\n",
            "      Epoch    GPU_mem   box_loss   cls_loss   dfl_loss  Instances       Size\n"
          ]
        },
        {
          "output_type": "stream",
          "name": "stderr",
          "text": [
            "      8/100      8.53G      1.522      3.661      1.221        373        640: 100%|██████████| 3/3 [00:02<00:00,  1.34it/s]\n",
            "                 Class     Images  Instances      Box(P          R      mAP50  mAP50-95): 100%|██████████| 1/1 [00:00<00:00,  2.74it/s]"
          ]
        },
        {
          "output_type": "stream",
          "name": "stdout",
          "text": [
            "                   all         20        152      0.025      0.355      0.165      0.117\n"
          ]
        },
        {
          "output_type": "stream",
          "name": "stderr",
          "text": [
            "\n"
          ]
        },
        {
          "output_type": "stream",
          "name": "stdout",
          "text": [
            "\n",
            "      Epoch    GPU_mem   box_loss   cls_loss   dfl_loss  Instances       Size\n"
          ]
        },
        {
          "output_type": "stream",
          "name": "stderr",
          "text": [
            "      9/100      8.39G      1.479      3.463      1.206        397        640: 100%|██████████| 3/3 [00:01<00:00,  1.59it/s]\n",
            "                 Class     Images  Instances      Box(P          R      mAP50  mAP50-95): 100%|██████████| 1/1 [00:00<00:00,  2.27it/s]"
          ]
        },
        {
          "output_type": "stream",
          "name": "stdout",
          "text": [
            "                   all         20        152     0.0204      0.432      0.185      0.126\n"
          ]
        },
        {
          "output_type": "stream",
          "name": "stderr",
          "text": [
            "\n"
          ]
        },
        {
          "output_type": "stream",
          "name": "stdout",
          "text": [
            "\n",
            "      Epoch    GPU_mem   box_loss   cls_loss   dfl_loss  Instances       Size\n"
          ]
        },
        {
          "output_type": "stream",
          "name": "stderr",
          "text": [
            "     10/100      8.42G      1.516      3.269      1.207        465        640: 100%|██████████| 3/3 [00:01<00:00,  1.58it/s]\n",
            "                 Class     Images  Instances      Box(P          R      mAP50  mAP50-95): 100%|██████████| 1/1 [00:00<00:00,  3.15it/s]"
          ]
        },
        {
          "output_type": "stream",
          "name": "stdout",
          "text": [
            "                   all         20        152     0.0175      0.444      0.197      0.135\n"
          ]
        },
        {
          "output_type": "stream",
          "name": "stderr",
          "text": [
            "\n"
          ]
        },
        {
          "output_type": "stream",
          "name": "stdout",
          "text": [
            "\n",
            "      Epoch    GPU_mem   box_loss   cls_loss   dfl_loss  Instances       Size\n"
          ]
        },
        {
          "output_type": "stream",
          "name": "stderr",
          "text": [
            "     11/100      8.53G      1.513      3.002      1.197        380        640: 100%|██████████| 3/3 [00:02<00:00,  1.26it/s]\n",
            "                 Class     Images  Instances      Box(P          R      mAP50  mAP50-95): 100%|██████████| 1/1 [00:00<00:00,  3.34it/s]"
          ]
        },
        {
          "output_type": "stream",
          "name": "stdout",
          "text": [
            "                   all         20        152     0.0177      0.469      0.227       0.15\n"
          ]
        },
        {
          "output_type": "stream",
          "name": "stderr",
          "text": [
            "\n"
          ]
        },
        {
          "output_type": "stream",
          "name": "stdout",
          "text": [
            "\n",
            "      Epoch    GPU_mem   box_loss   cls_loss   dfl_loss  Instances       Size\n"
          ]
        },
        {
          "output_type": "stream",
          "name": "stderr",
          "text": [
            "     12/100      8.64G      1.462       2.73      1.183        359        640: 100%|██████████| 3/3 [00:01<00:00,  1.57it/s]\n",
            "                 Class     Images  Instances      Box(P          R      mAP50  mAP50-95): 100%|██████████| 1/1 [00:00<00:00,  2.95it/s]"
          ]
        },
        {
          "output_type": "stream",
          "name": "stdout",
          "text": [
            "                   all         20        152     0.0187      0.452      0.256      0.172\n"
          ]
        },
        {
          "output_type": "stream",
          "name": "stderr",
          "text": [
            "\n"
          ]
        },
        {
          "output_type": "stream",
          "name": "stdout",
          "text": [
            "\n",
            "      Epoch    GPU_mem   box_loss   cls_loss   dfl_loss  Instances       Size\n"
          ]
        },
        {
          "output_type": "stream",
          "name": "stderr",
          "text": [
            "     13/100      8.65G      1.498      2.526      1.193        372        640: 100%|██████████| 3/3 [00:01<00:00,  1.54it/s]\n",
            "                 Class     Images  Instances      Box(P          R      mAP50  mAP50-95): 100%|██████████| 1/1 [00:00<00:00,  4.32it/s]"
          ]
        },
        {
          "output_type": "stream",
          "name": "stdout",
          "text": [
            "                   all         20        152     0.0164      0.441      0.244      0.155\n"
          ]
        },
        {
          "output_type": "stream",
          "name": "stderr",
          "text": [
            "\n"
          ]
        },
        {
          "output_type": "stream",
          "name": "stdout",
          "text": [
            "\n",
            "      Epoch    GPU_mem   box_loss   cls_loss   dfl_loss  Instances       Size\n"
          ]
        },
        {
          "output_type": "stream",
          "name": "stderr",
          "text": [
            "     14/100      8.51G       1.42      2.299      1.169        430        640: 100%|██████████| 3/3 [00:02<00:00,  1.24it/s]\n",
            "                 Class     Images  Instances      Box(P          R      mAP50  mAP50-95): 100%|██████████| 1/1 [00:00<00:00,  3.18it/s]"
          ]
        },
        {
          "output_type": "stream",
          "name": "stdout",
          "text": [
            "                   all         20        152     0.0169      0.532      0.287      0.193\n"
          ]
        },
        {
          "output_type": "stream",
          "name": "stderr",
          "text": [
            "\n"
          ]
        },
        {
          "output_type": "stream",
          "name": "stdout",
          "text": [
            "\n",
            "      Epoch    GPU_mem   box_loss   cls_loss   dfl_loss  Instances       Size\n"
          ]
        },
        {
          "output_type": "stream",
          "name": "stderr",
          "text": [
            "     15/100      8.56G      1.426      2.151      1.185        415        640: 100%|██████████| 3/3 [00:01<00:00,  1.54it/s]\n",
            "                 Class     Images  Instances      Box(P          R      mAP50  mAP50-95): 100%|██████████| 1/1 [00:00<00:00,  3.46it/s]"
          ]
        },
        {
          "output_type": "stream",
          "name": "stdout",
          "text": [
            "                   all         20        152     0.0168      0.532      0.354      0.257\n"
          ]
        },
        {
          "output_type": "stream",
          "name": "stderr",
          "text": [
            "\n"
          ]
        },
        {
          "output_type": "stream",
          "name": "stdout",
          "text": [
            "\n",
            "      Epoch    GPU_mem   box_loss   cls_loss   dfl_loss  Instances       Size\n"
          ]
        },
        {
          "output_type": "stream",
          "name": "stderr",
          "text": [
            "     16/100      8.32G      1.404      1.933      1.171        432        640: 100%|██████████| 3/3 [00:01<00:00,  1.55it/s]\n",
            "                 Class     Images  Instances      Box(P          R      mAP50  mAP50-95): 100%|██████████| 1/1 [00:00<00:00,  4.73it/s]"
          ]
        },
        {
          "output_type": "stream",
          "name": "stdout",
          "text": [
            "                   all         20        152      0.996     0.0362       0.37      0.265\n"
          ]
        },
        {
          "output_type": "stream",
          "name": "stderr",
          "text": [
            "\n"
          ]
        },
        {
          "output_type": "stream",
          "name": "stdout",
          "text": [
            "\n",
            "      Epoch    GPU_mem   box_loss   cls_loss   dfl_loss  Instances       Size\n"
          ]
        },
        {
          "output_type": "stream",
          "name": "stderr",
          "text": [
            "     17/100      8.58G      1.381      1.769      1.147        328        640: 100%|██████████| 3/3 [00:02<00:00,  1.25it/s]\n",
            "                 Class     Images  Instances      Box(P          R      mAP50  mAP50-95): 100%|██████████| 1/1 [00:00<00:00,  2.86it/s]"
          ]
        },
        {
          "output_type": "stream",
          "name": "stdout",
          "text": [
            "                   all         20        152      0.993      0.044       0.38      0.273\n"
          ]
        },
        {
          "output_type": "stream",
          "name": "stderr",
          "text": [
            "\n"
          ]
        },
        {
          "output_type": "stream",
          "name": "stdout",
          "text": [
            "\n",
            "      Epoch    GPU_mem   box_loss   cls_loss   dfl_loss  Instances       Size\n"
          ]
        },
        {
          "output_type": "stream",
          "name": "stderr",
          "text": [
            "     18/100      8.44G      1.331      1.662      1.129        430        640: 100%|██████████| 3/3 [00:01<00:00,  1.50it/s]\n",
            "                 Class     Images  Instances      Box(P          R      mAP50  mAP50-95): 100%|██████████| 1/1 [00:00<00:00,  3.34it/s]"
          ]
        },
        {
          "output_type": "stream",
          "name": "stdout",
          "text": [
            "                   all         20        152      0.987      0.209      0.408        0.3\n"
          ]
        },
        {
          "output_type": "stream",
          "name": "stderr",
          "text": [
            "\n"
          ]
        },
        {
          "output_type": "stream",
          "name": "stdout",
          "text": [
            "\n",
            "      Epoch    GPU_mem   box_loss   cls_loss   dfl_loss  Instances       Size\n"
          ]
        },
        {
          "output_type": "stream",
          "name": "stderr",
          "text": [
            "     19/100      8.49G      1.282      1.524       1.12        413        640: 100%|██████████| 3/3 [00:01<00:00,  1.59it/s]\n",
            "                 Class     Images  Instances      Box(P          R      mAP50  mAP50-95): 100%|██████████| 1/1 [00:00<00:00,  3.34it/s]"
          ]
        },
        {
          "output_type": "stream",
          "name": "stdout",
          "text": [
            "                   all         20        152      0.023      0.518      0.429      0.325\n"
          ]
        },
        {
          "output_type": "stream",
          "name": "stderr",
          "text": [
            "\n"
          ]
        },
        {
          "output_type": "stream",
          "name": "stdout",
          "text": [
            "\n",
            "      Epoch    GPU_mem   box_loss   cls_loss   dfl_loss  Instances       Size\n"
          ]
        },
        {
          "output_type": "stream",
          "name": "stderr",
          "text": [
            "     20/100      8.48G      1.296      1.439      1.125        394        640: 100%|██████████| 3/3 [00:02<00:00,  1.28it/s]\n",
            "                 Class     Images  Instances      Box(P          R      mAP50  mAP50-95): 100%|██████████| 1/1 [00:00<00:00,  3.27it/s]"
          ]
        },
        {
          "output_type": "stream",
          "name": "stdout",
          "text": [
            "                   all         20        152     0.0261      0.551      0.443      0.339\n"
          ]
        },
        {
          "output_type": "stream",
          "name": "stderr",
          "text": [
            "\n"
          ]
        },
        {
          "output_type": "stream",
          "name": "stdout",
          "text": [
            "\n",
            "      Epoch    GPU_mem   box_loss   cls_loss   dfl_loss  Instances       Size\n"
          ]
        },
        {
          "output_type": "stream",
          "name": "stderr",
          "text": [
            "     21/100      8.64G      1.276      1.351      1.106        415        640: 100%|██████████| 3/3 [00:01<00:00,  1.51it/s]\n",
            "                 Class     Images  Instances      Box(P          R      mAP50  mAP50-95): 100%|██████████| 1/1 [00:00<00:00,  3.76it/s]"
          ]
        },
        {
          "output_type": "stream",
          "name": "stdout",
          "text": [
            "                   all         20        152     0.0286      0.569      0.467      0.344\n"
          ]
        },
        {
          "output_type": "stream",
          "name": "stderr",
          "text": [
            "\n"
          ]
        },
        {
          "output_type": "stream",
          "name": "stdout",
          "text": [
            "\n",
            "      Epoch    GPU_mem   box_loss   cls_loss   dfl_loss  Instances       Size\n"
          ]
        },
        {
          "output_type": "stream",
          "name": "stderr",
          "text": [
            "     22/100      8.62G      1.244      1.283      1.099        411        640: 100%|██████████| 3/3 [00:01<00:00,  1.55it/s]\n",
            "                 Class     Images  Instances      Box(P          R      mAP50  mAP50-95): 100%|██████████| 1/1 [00:00<00:00,  4.28it/s]"
          ]
        },
        {
          "output_type": "stream",
          "name": "stdout",
          "text": [
            "                   all         20        152      0.972      0.214      0.478      0.365\n"
          ]
        },
        {
          "output_type": "stream",
          "name": "stderr",
          "text": [
            "\n"
          ]
        },
        {
          "output_type": "stream",
          "name": "stdout",
          "text": [
            "\n",
            "      Epoch    GPU_mem   box_loss   cls_loss   dfl_loss  Instances       Size\n"
          ]
        },
        {
          "output_type": "stream",
          "name": "stderr",
          "text": [
            "     23/100      8.47G      1.236      1.247      1.089        403        640: 100%|██████████| 3/3 [00:02<00:00,  1.34it/s]\n",
            "                 Class     Images  Instances      Box(P          R      mAP50  mAP50-95): 100%|██████████| 1/1 [00:00<00:00,  2.02it/s]"
          ]
        },
        {
          "output_type": "stream",
          "name": "stdout",
          "text": [
            "                   all         20        152      0.993      0.114      0.549      0.394\n"
          ]
        },
        {
          "output_type": "stream",
          "name": "stderr",
          "text": [
            "\n"
          ]
        },
        {
          "output_type": "stream",
          "name": "stdout",
          "text": [
            "\n",
            "      Epoch    GPU_mem   box_loss   cls_loss   dfl_loss  Instances       Size\n"
          ]
        },
        {
          "output_type": "stream",
          "name": "stderr",
          "text": [
            "     24/100      8.62G      1.208      1.214      1.092        322        640: 100%|██████████| 3/3 [00:01<00:00,  1.59it/s]\n",
            "                 Class     Images  Instances      Box(P          R      mAP50  mAP50-95): 100%|██████████| 1/1 [00:00<00:00,  2.30it/s]"
          ]
        },
        {
          "output_type": "stream",
          "name": "stdout",
          "text": [
            "                   all         20        152     0.0318      0.676      0.593      0.445\n"
          ]
        },
        {
          "output_type": "stream",
          "name": "stderr",
          "text": [
            "\n"
          ]
        },
        {
          "output_type": "stream",
          "name": "stdout",
          "text": [
            "\n",
            "      Epoch    GPU_mem   box_loss   cls_loss   dfl_loss  Instances       Size\n"
          ]
        },
        {
          "output_type": "stream",
          "name": "stderr",
          "text": [
            "     25/100      8.55G      1.197      1.156      1.071        354        640: 100%|██████████| 3/3 [00:01<00:00,  1.55it/s]\n",
            "                 Class     Images  Instances      Box(P          R      mAP50  mAP50-95): 100%|██████████| 1/1 [00:00<00:00,  3.27it/s]"
          ]
        },
        {
          "output_type": "stream",
          "name": "stdout",
          "text": [
            "                   all         20        152      0.879      0.526      0.641      0.452\n"
          ]
        },
        {
          "output_type": "stream",
          "name": "stderr",
          "text": [
            "\n"
          ]
        },
        {
          "output_type": "stream",
          "name": "stdout",
          "text": [
            "\n",
            "      Epoch    GPU_mem   box_loss   cls_loss   dfl_loss  Instances       Size\n"
          ]
        },
        {
          "output_type": "stream",
          "name": "stderr",
          "text": [
            "     26/100      8.33G       1.19      1.117      1.065        327        640: 100%|██████████| 3/3 [00:02<00:00,  1.44it/s]\n",
            "                 Class     Images  Instances      Box(P          R      mAP50  mAP50-95): 100%|██████████| 1/1 [00:00<00:00,  2.35it/s]"
          ]
        },
        {
          "output_type": "stream",
          "name": "stdout",
          "text": [
            "                   all         20        152      0.989      0.118      0.673      0.481\n"
          ]
        },
        {
          "output_type": "stream",
          "name": "stderr",
          "text": [
            "\n"
          ]
        },
        {
          "output_type": "stream",
          "name": "stdout",
          "text": [
            "\n",
            "      Epoch    GPU_mem   box_loss   cls_loss   dfl_loss  Instances       Size\n"
          ]
        },
        {
          "output_type": "stream",
          "name": "stderr",
          "text": [
            "     27/100      8.49G      1.161      1.055      1.052        411        640: 100%|██████████| 3/3 [00:01<00:00,  1.58it/s]\n",
            "                 Class     Images  Instances      Box(P          R      mAP50  mAP50-95): 100%|██████████| 1/1 [00:00<00:00,  3.13it/s]"
          ]
        },
        {
          "output_type": "stream",
          "name": "stdout",
          "text": [
            "                   all         20        152      0.978      0.136      0.704      0.492\n"
          ]
        },
        {
          "output_type": "stream",
          "name": "stderr",
          "text": [
            "\n"
          ]
        },
        {
          "output_type": "stream",
          "name": "stdout",
          "text": [
            "\n",
            "      Epoch    GPU_mem   box_loss   cls_loss   dfl_loss  Instances       Size\n"
          ]
        },
        {
          "output_type": "stream",
          "name": "stderr",
          "text": [
            "     28/100      8.52G      1.192      1.087      1.068        335        640: 100%|██████████| 3/3 [00:01<00:00,  1.54it/s]\n",
            "                 Class     Images  Instances      Box(P          R      mAP50  mAP50-95): 100%|██████████| 1/1 [00:00<00:00,  2.71it/s]"
          ]
        },
        {
          "output_type": "stream",
          "name": "stdout",
          "text": [
            "                   all         20        152      0.993      0.145      0.735      0.533\n"
          ]
        },
        {
          "output_type": "stream",
          "name": "stderr",
          "text": [
            "\n"
          ]
        },
        {
          "output_type": "stream",
          "name": "stdout",
          "text": [
            "\n",
            "      Epoch    GPU_mem   box_loss   cls_loss   dfl_loss  Instances       Size\n"
          ]
        },
        {
          "output_type": "stream",
          "name": "stderr",
          "text": [
            "     29/100      8.38G      1.151       1.03       1.04        461        640: 100%|██████████| 3/3 [00:02<00:00,  1.41it/s]\n",
            "                 Class     Images  Instances      Box(P          R      mAP50  mAP50-95): 100%|██████████| 1/1 [00:00<00:00,  1.88it/s]"
          ]
        },
        {
          "output_type": "stream",
          "name": "stdout",
          "text": [
            "                   all         20        152      0.992      0.126      0.714      0.474\n"
          ]
        },
        {
          "output_type": "stream",
          "name": "stderr",
          "text": [
            "\n"
          ]
        },
        {
          "output_type": "stream",
          "name": "stdout",
          "text": [
            "\n",
            "      Epoch    GPU_mem   box_loss   cls_loss   dfl_loss  Instances       Size\n"
          ]
        },
        {
          "output_type": "stream",
          "name": "stderr",
          "text": [
            "     30/100      8.53G      1.182       1.02      1.058        385        640: 100%|██████████| 3/3 [00:02<00:00,  1.45it/s]\n",
            "                 Class     Images  Instances      Box(P          R      mAP50  mAP50-95): 100%|██████████| 1/1 [00:00<00:00,  4.21it/s]"
          ]
        },
        {
          "output_type": "stream",
          "name": "stdout",
          "text": [
            "                   all         20        152      0.989      0.144      0.749      0.536\n"
          ]
        },
        {
          "output_type": "stream",
          "name": "stderr",
          "text": [
            "\n"
          ]
        },
        {
          "output_type": "stream",
          "name": "stdout",
          "text": [
            "\n",
            "      Epoch    GPU_mem   box_loss   cls_loss   dfl_loss  Instances       Size\n"
          ]
        },
        {
          "output_type": "stream",
          "name": "stderr",
          "text": [
            "     31/100      8.56G      1.142     0.9901      1.049        446        640: 100%|██████████| 3/3 [00:02<00:00,  1.49it/s]\n",
            "                 Class     Images  Instances      Box(P          R      mAP50  mAP50-95): 100%|██████████| 1/1 [00:00<00:00,  3.02it/s]"
          ]
        },
        {
          "output_type": "stream",
          "name": "stdout",
          "text": [
            "                   all         20        152      0.998      0.204      0.766      0.532\n"
          ]
        },
        {
          "output_type": "stream",
          "name": "stderr",
          "text": [
            "\n"
          ]
        },
        {
          "output_type": "stream",
          "name": "stdout",
          "text": [
            "\n",
            "      Epoch    GPU_mem   box_loss   cls_loss   dfl_loss  Instances       Size\n"
          ]
        },
        {
          "output_type": "stream",
          "name": "stderr",
          "text": [
            "     32/100      8.47G      1.135     0.9722      1.055        386        640: 100%|██████████| 3/3 [00:01<00:00,  1.60it/s]\n",
            "                 Class     Images  Instances      Box(P          R      mAP50  mAP50-95): 100%|██████████| 1/1 [00:00<00:00,  2.11it/s]"
          ]
        },
        {
          "output_type": "stream",
          "name": "stdout",
          "text": [
            "                   all         20        152       0.99      0.309      0.765      0.549\n"
          ]
        },
        {
          "output_type": "stream",
          "name": "stderr",
          "text": [
            "\n"
          ]
        },
        {
          "output_type": "stream",
          "name": "stdout",
          "text": [
            "\n",
            "      Epoch    GPU_mem   box_loss   cls_loss   dfl_loss  Instances       Size\n"
          ]
        },
        {
          "output_type": "stream",
          "name": "stderr",
          "text": [
            "     33/100       8.6G      1.131     0.9561       1.04        423        640: 100%|██████████| 3/3 [00:02<00:00,  1.34it/s]\n",
            "                 Class     Images  Instances      Box(P          R      mAP50  mAP50-95): 100%|██████████| 1/1 [00:00<00:00,  2.87it/s]"
          ]
        },
        {
          "output_type": "stream",
          "name": "stdout",
          "text": [
            "                   all         20        152       0.99      0.262      0.781      0.533\n"
          ]
        },
        {
          "output_type": "stream",
          "name": "stderr",
          "text": [
            "\n"
          ]
        },
        {
          "output_type": "stream",
          "name": "stdout",
          "text": [
            "\n",
            "      Epoch    GPU_mem   box_loss   cls_loss   dfl_loss  Instances       Size\n"
          ]
        },
        {
          "output_type": "stream",
          "name": "stderr",
          "text": [
            "     34/100      8.58G      1.145     0.9523      1.048        335        640: 100%|██████████| 3/3 [00:02<00:00,  1.40it/s]\n",
            "                 Class     Images  Instances      Box(P          R      mAP50  mAP50-95): 100%|██████████| 1/1 [00:00<00:00,  4.97it/s]"
          ]
        },
        {
          "output_type": "stream",
          "name": "stdout",
          "text": [
            "                   all         20        152      0.987      0.274      0.845      0.607\n"
          ]
        },
        {
          "output_type": "stream",
          "name": "stderr",
          "text": [
            "\n"
          ]
        },
        {
          "output_type": "stream",
          "name": "stdout",
          "text": [
            "\n",
            "      Epoch    GPU_mem   box_loss   cls_loss   dfl_loss  Instances       Size\n"
          ]
        },
        {
          "output_type": "stream",
          "name": "stderr",
          "text": [
            "     35/100      8.39G      1.092     0.9243      1.027        299        640: 100%|██████████| 3/3 [00:01<00:00,  1.52it/s]\n",
            "                 Class     Images  Instances      Box(P          R      mAP50  mAP50-95): 100%|██████████| 1/1 [00:00<00:00,  2.80it/s]"
          ]
        },
        {
          "output_type": "stream",
          "name": "stdout",
          "text": [
            "                   all         20        152      0.989      0.331      0.863      0.609\n"
          ]
        },
        {
          "output_type": "stream",
          "name": "stderr",
          "text": [
            "\n"
          ]
        },
        {
          "output_type": "stream",
          "name": "stdout",
          "text": [
            "\n",
            "      Epoch    GPU_mem   box_loss   cls_loss   dfl_loss  Instances       Size\n"
          ]
        },
        {
          "output_type": "stream",
          "name": "stderr",
          "text": [
            "     36/100      8.53G      1.109     0.9161      1.035        376        640: 100%|██████████| 3/3 [00:02<00:00,  1.28it/s]\n",
            "                 Class     Images  Instances      Box(P          R      mAP50  mAP50-95): 100%|██████████| 1/1 [00:00<00:00,  2.59it/s]"
          ]
        },
        {
          "output_type": "stream",
          "name": "stdout",
          "text": [
            "                   all         20        152       0.99      0.332      0.853      0.603\n"
          ]
        },
        {
          "output_type": "stream",
          "name": "stderr",
          "text": [
            "\n"
          ]
        },
        {
          "output_type": "stream",
          "name": "stdout",
          "text": [
            "\n",
            "      Epoch    GPU_mem   box_loss   cls_loss   dfl_loss  Instances       Size\n"
          ]
        },
        {
          "output_type": "stream",
          "name": "stderr",
          "text": [
            "     37/100      8.57G      1.146      0.946      1.055        311        640: 100%|██████████| 3/3 [00:01<00:00,  1.56it/s]\n",
            "                 Class     Images  Instances      Box(P          R      mAP50  mAP50-95): 100%|██████████| 1/1 [00:00<00:00,  2.67it/s]"
          ]
        },
        {
          "output_type": "stream",
          "name": "stdout",
          "text": [
            "                   all         20        152      0.984      0.357      0.824      0.573\n"
          ]
        },
        {
          "output_type": "stream",
          "name": "stderr",
          "text": [
            "\n"
          ]
        },
        {
          "output_type": "stream",
          "name": "stdout",
          "text": [
            "\n",
            "      Epoch    GPU_mem   box_loss   cls_loss   dfl_loss  Instances       Size\n"
          ]
        },
        {
          "output_type": "stream",
          "name": "stderr",
          "text": [
            "     38/100      8.51G      1.084      0.907      1.035        324        640: 100%|██████████| 3/3 [00:01<00:00,  1.52it/s]\n",
            "                 Class     Images  Instances      Box(P          R      mAP50  mAP50-95): 100%|██████████| 1/1 [00:00<00:00,  3.19it/s]"
          ]
        },
        {
          "output_type": "stream",
          "name": "stdout",
          "text": [
            "                   all         20        152      0.985      0.344      0.835      0.563\n"
          ]
        },
        {
          "output_type": "stream",
          "name": "stderr",
          "text": [
            "\n"
          ]
        },
        {
          "output_type": "stream",
          "name": "stdout",
          "text": [
            "\n",
            "      Epoch    GPU_mem   box_loss   cls_loss   dfl_loss  Instances       Size\n"
          ]
        },
        {
          "output_type": "stream",
          "name": "stderr",
          "text": [
            "     39/100      8.55G      1.105     0.9151      1.027        408        640: 100%|██████████| 3/3 [00:02<00:00,  1.22it/s]\n",
            "                 Class     Images  Instances      Box(P          R      mAP50  mAP50-95): 100%|██████████| 1/1 [00:00<00:00,  1.92it/s]"
          ]
        },
        {
          "output_type": "stream",
          "name": "stdout",
          "text": [
            "                   all         20        152      0.984      0.528      0.883      0.619\n"
          ]
        },
        {
          "output_type": "stream",
          "name": "stderr",
          "text": [
            "\n"
          ]
        },
        {
          "output_type": "stream",
          "name": "stdout",
          "text": [
            "\n",
            "      Epoch    GPU_mem   box_loss   cls_loss   dfl_loss  Instances       Size\n"
          ]
        },
        {
          "output_type": "stream",
          "name": "stderr",
          "text": [
            "     40/100      8.36G       1.08     0.8773      1.026        352        640: 100%|██████████| 3/3 [00:01<00:00,  1.60it/s]\n",
            "                 Class     Images  Instances      Box(P          R      mAP50  mAP50-95): 100%|██████████| 1/1 [00:00<00:00,  3.07it/s]"
          ]
        },
        {
          "output_type": "stream",
          "name": "stdout",
          "text": [
            "                   all         20        152      0.976      0.587      0.889      0.616\n"
          ]
        },
        {
          "output_type": "stream",
          "name": "stderr",
          "text": [
            "\n"
          ]
        },
        {
          "output_type": "stream",
          "name": "stdout",
          "text": [
            "\n",
            "      Epoch    GPU_mem   box_loss   cls_loss   dfl_loss  Instances       Size\n"
          ]
        },
        {
          "output_type": "stream",
          "name": "stderr",
          "text": [
            "     41/100      8.65G      1.101     0.8908      1.027        419        640: 100%|██████████| 3/3 [00:02<00:00,  1.49it/s]\n",
            "                 Class     Images  Instances      Box(P          R      mAP50  mAP50-95): 100%|██████████| 1/1 [00:00<00:00,  2.85it/s]"
          ]
        },
        {
          "output_type": "stream",
          "name": "stdout",
          "text": [
            "                   all         20        152      0.968      0.659      0.894      0.634\n"
          ]
        },
        {
          "output_type": "stream",
          "name": "stderr",
          "text": [
            "\n"
          ]
        },
        {
          "output_type": "stream",
          "name": "stdout",
          "text": [
            "\n",
            "      Epoch    GPU_mem   box_loss   cls_loss   dfl_loss  Instances       Size\n"
          ]
        },
        {
          "output_type": "stream",
          "name": "stderr",
          "text": [
            "     42/100      8.54G      1.062     0.8829      1.016        299        640: 100%|██████████| 3/3 [00:02<00:00,  1.30it/s]\n",
            "                 Class     Images  Instances      Box(P          R      mAP50  mAP50-95): 100%|██████████| 1/1 [00:00<00:00,  3.52it/s]"
          ]
        },
        {
          "output_type": "stream",
          "name": "stdout",
          "text": [
            "                   all         20        152      0.971       0.65      0.898      0.643\n"
          ]
        },
        {
          "output_type": "stream",
          "name": "stderr",
          "text": [
            "\n"
          ]
        },
        {
          "output_type": "stream",
          "name": "stdout",
          "text": [
            "\n",
            "      Epoch    GPU_mem   box_loss   cls_loss   dfl_loss  Instances       Size\n"
          ]
        },
        {
          "output_type": "stream",
          "name": "stderr",
          "text": [
            "     43/100      8.38G      1.081     0.8636       1.02        392        640: 100%|██████████| 3/3 [00:01<00:00,  1.51it/s]\n",
            "                 Class     Images  Instances      Box(P          R      mAP50  mAP50-95): 100%|██████████| 1/1 [00:00<00:00,  5.60it/s]\n"
          ]
        },
        {
          "output_type": "stream",
          "name": "stdout",
          "text": [
            "                   all         20        152      0.975       0.65      0.901       0.65\n",
            "\n",
            "      Epoch    GPU_mem   box_loss   cls_loss   dfl_loss  Instances       Size\n"
          ]
        },
        {
          "output_type": "stream",
          "name": "stderr",
          "text": [
            "     44/100      8.36G      1.083     0.8572      1.008        374        640: 100%|██████████| 3/3 [00:01<00:00,  1.51it/s]\n",
            "                 Class     Images  Instances      Box(P          R      mAP50  mAP50-95): 100%|██████████| 1/1 [00:00<00:00,  3.10it/s]"
          ]
        },
        {
          "output_type": "stream",
          "name": "stdout",
          "text": [
            "                   all         20        152      0.969      0.695      0.911       0.65\n"
          ]
        },
        {
          "output_type": "stream",
          "name": "stderr",
          "text": [
            "\n"
          ]
        },
        {
          "output_type": "stream",
          "name": "stdout",
          "text": [
            "\n",
            "      Epoch    GPU_mem   box_loss   cls_loss   dfl_loss  Instances       Size\n"
          ]
        },
        {
          "output_type": "stream",
          "name": "stderr",
          "text": [
            "     45/100      8.67G      1.078      0.833      1.004        416        640: 100%|██████████| 3/3 [00:02<00:00,  1.31it/s]\n",
            "                 Class     Images  Instances      Box(P          R      mAP50  mAP50-95): 100%|██████████| 1/1 [00:00<00:00,  2.60it/s]"
          ]
        },
        {
          "output_type": "stream",
          "name": "stdout",
          "text": [
            "                   all         20        152      0.954      0.705      0.919      0.664\n"
          ]
        },
        {
          "output_type": "stream",
          "name": "stderr",
          "text": [
            "\n"
          ]
        },
        {
          "output_type": "stream",
          "name": "stdout",
          "text": [
            "\n",
            "      Epoch    GPU_mem   box_loss   cls_loss   dfl_loss  Instances       Size\n"
          ]
        },
        {
          "output_type": "stream",
          "name": "stderr",
          "text": [
            "     46/100       8.4G      1.024     0.8228       1.01        362        640: 100%|██████████| 3/3 [00:01<00:00,  1.58it/s]\n",
            "                 Class     Images  Instances      Box(P          R      mAP50  mAP50-95): 100%|██████████| 1/1 [00:00<00:00,  3.60it/s]"
          ]
        },
        {
          "output_type": "stream",
          "name": "stdout",
          "text": [
            "                   all         20        152      0.944      0.754      0.932      0.685\n"
          ]
        },
        {
          "output_type": "stream",
          "name": "stderr",
          "text": [
            "\n"
          ]
        },
        {
          "output_type": "stream",
          "name": "stdout",
          "text": [
            "\n",
            "      Epoch    GPU_mem   box_loss   cls_loss   dfl_loss  Instances       Size\n"
          ]
        },
        {
          "output_type": "stream",
          "name": "stderr",
          "text": [
            "     47/100      8.52G      1.069     0.8426      1.014        420        640: 100%|██████████| 3/3 [00:01<00:00,  1.57it/s]\n",
            "                 Class     Images  Instances      Box(P          R      mAP50  mAP50-95): 100%|██████████| 1/1 [00:00<00:00,  2.98it/s]"
          ]
        },
        {
          "output_type": "stream",
          "name": "stdout",
          "text": [
            "                   all         20        152      0.932       0.75      0.941      0.682\n"
          ]
        },
        {
          "output_type": "stream",
          "name": "stderr",
          "text": [
            "\n"
          ]
        },
        {
          "output_type": "stream",
          "name": "stdout",
          "text": [
            "\n",
            "      Epoch    GPU_mem   box_loss   cls_loss   dfl_loss  Instances       Size\n"
          ]
        },
        {
          "output_type": "stream",
          "name": "stderr",
          "text": [
            "     48/100      8.54G       1.03     0.8206      1.001        368        640: 100%|██████████| 3/3 [00:02<00:00,  1.46it/s]\n",
            "                 Class     Images  Instances      Box(P          R      mAP50  mAP50-95): 100%|██████████| 1/1 [00:00<00:00,  2.29it/s]"
          ]
        },
        {
          "output_type": "stream",
          "name": "stdout",
          "text": [
            "                   all         20        152      0.932      0.754      0.947      0.692\n"
          ]
        },
        {
          "output_type": "stream",
          "name": "stderr",
          "text": [
            "\n"
          ]
        },
        {
          "output_type": "stream",
          "name": "stdout",
          "text": [
            "\n",
            "      Epoch    GPU_mem   box_loss   cls_loss   dfl_loss  Instances       Size\n"
          ]
        },
        {
          "output_type": "stream",
          "name": "stderr",
          "text": [
            "     49/100       8.5G      1.013     0.8177      1.003        381        640: 100%|██████████| 3/3 [00:02<00:00,  1.44it/s]\n",
            "                 Class     Images  Instances      Box(P          R      mAP50  mAP50-95): 100%|██████████| 1/1 [00:00<00:00,  5.33it/s]\n"
          ]
        },
        {
          "output_type": "stream",
          "name": "stdout",
          "text": [
            "                   all         20        152      0.927      0.792      0.946      0.692\n",
            "\n",
            "      Epoch    GPU_mem   box_loss   cls_loss   dfl_loss  Instances       Size\n"
          ]
        },
        {
          "output_type": "stream",
          "name": "stderr",
          "text": [
            "     50/100       8.4G      1.056      0.816      1.012        373        640: 100%|██████████| 3/3 [00:01<00:00,  1.53it/s]\n",
            "                 Class     Images  Instances      Box(P          R      mAP50  mAP50-95): 100%|██████████| 1/1 [00:00<00:00,  3.16it/s]"
          ]
        },
        {
          "output_type": "stream",
          "name": "stdout",
          "text": [
            "                   all         20        152       0.92      0.829      0.952      0.717\n"
          ]
        },
        {
          "output_type": "stream",
          "name": "stderr",
          "text": [
            "\n"
          ]
        },
        {
          "output_type": "stream",
          "name": "stdout",
          "text": [
            "\n",
            "      Epoch    GPU_mem   box_loss   cls_loss   dfl_loss  Instances       Size\n"
          ]
        },
        {
          "output_type": "stream",
          "name": "stderr",
          "text": [
            "     51/100      8.58G      1.066     0.8187      1.024        403        640: 100%|██████████| 3/3 [00:02<00:00,  1.48it/s]\n",
            "                 Class     Images  Instances      Box(P          R      mAP50  mAP50-95): 100%|██████████| 1/1 [00:00<00:00,  2.85it/s]"
          ]
        },
        {
          "output_type": "stream",
          "name": "stdout",
          "text": [
            "                   all         20        152      0.917      0.884      0.961       0.71\n"
          ]
        },
        {
          "output_type": "stream",
          "name": "stderr",
          "text": [
            "\n"
          ]
        },
        {
          "output_type": "stream",
          "name": "stdout",
          "text": [
            "\n",
            "      Epoch    GPU_mem   box_loss   cls_loss   dfl_loss  Instances       Size\n"
          ]
        },
        {
          "output_type": "stream",
          "name": "stderr",
          "text": [
            "     52/100       8.5G      1.007     0.7976     0.9888        438        640: 100%|██████████| 3/3 [00:02<00:00,  1.37it/s]\n",
            "                 Class     Images  Instances      Box(P          R      mAP50  mAP50-95): 100%|██████████| 1/1 [00:00<00:00,  2.91it/s]"
          ]
        },
        {
          "output_type": "stream",
          "name": "stdout",
          "text": [
            "                   all         20        152      0.913      0.909      0.962      0.722\n"
          ]
        },
        {
          "output_type": "stream",
          "name": "stderr",
          "text": [
            "\n"
          ]
        },
        {
          "output_type": "stream",
          "name": "stdout",
          "text": [
            "\n",
            "      Epoch    GPU_mem   box_loss   cls_loss   dfl_loss  Instances       Size\n"
          ]
        },
        {
          "output_type": "stream",
          "name": "stderr",
          "text": [
            "     53/100      8.55G     0.9962     0.7624      1.004        400        640: 100%|██████████| 3/3 [00:01<00:00,  1.50it/s]\n",
            "                 Class     Images  Instances      Box(P          R      mAP50  mAP50-95): 100%|██████████| 1/1 [00:00<00:00,  3.07it/s]"
          ]
        },
        {
          "output_type": "stream",
          "name": "stdout",
          "text": [
            "                   all         20        152      0.921      0.921      0.962      0.712\n"
          ]
        },
        {
          "output_type": "stream",
          "name": "stderr",
          "text": [
            "\n"
          ]
        },
        {
          "output_type": "stream",
          "name": "stdout",
          "text": [
            "\n",
            "      Epoch    GPU_mem   box_loss   cls_loss   dfl_loss  Instances       Size\n"
          ]
        },
        {
          "output_type": "stream",
          "name": "stderr",
          "text": [
            "     54/100      8.55G      1.001     0.7763     0.9756        443        640: 100%|██████████| 3/3 [00:01<00:00,  1.57it/s]\n",
            "                 Class     Images  Instances      Box(P          R      mAP50  mAP50-95): 100%|██████████| 1/1 [00:00<00:00,  4.65it/s]"
          ]
        },
        {
          "output_type": "stream",
          "name": "stdout",
          "text": [
            "                   all         20        152      0.891      0.891      0.954      0.689\n"
          ]
        },
        {
          "output_type": "stream",
          "name": "stderr",
          "text": [
            "\n"
          ]
        },
        {
          "output_type": "stream",
          "name": "stdout",
          "text": [
            "\n",
            "      Epoch    GPU_mem   box_loss   cls_loss   dfl_loss  Instances       Size\n"
          ]
        },
        {
          "output_type": "stream",
          "name": "stderr",
          "text": [
            "     55/100      8.59G      1.026     0.7928     0.9985        370        640: 100%|██████████| 3/3 [00:02<00:00,  1.13it/s]\n",
            "                 Class     Images  Instances      Box(P          R      mAP50  mAP50-95): 100%|██████████| 1/1 [00:00<00:00,  3.06it/s]"
          ]
        },
        {
          "output_type": "stream",
          "name": "stdout",
          "text": [
            "                   all         20        152      0.912      0.898      0.955      0.693\n"
          ]
        },
        {
          "output_type": "stream",
          "name": "stderr",
          "text": [
            "\n"
          ]
        },
        {
          "output_type": "stream",
          "name": "stdout",
          "text": [
            "\n",
            "      Epoch    GPU_mem   box_loss   cls_loss   dfl_loss  Instances       Size\n"
          ]
        },
        {
          "output_type": "stream",
          "name": "stderr",
          "text": [
            "     56/100       8.3G      1.002     0.7779     0.9916        412        640: 100%|██████████| 3/3 [00:01<00:00,  1.59it/s]\n",
            "                 Class     Images  Instances      Box(P          R      mAP50  mAP50-95): 100%|██████████| 1/1 [00:00<00:00,  4.02it/s]"
          ]
        },
        {
          "output_type": "stream",
          "name": "stdout",
          "text": [
            "                   all         20        152      0.944      0.903      0.961      0.709\n"
          ]
        },
        {
          "output_type": "stream",
          "name": "stderr",
          "text": [
            "\n"
          ]
        },
        {
          "output_type": "stream",
          "name": "stdout",
          "text": [
            "\n",
            "      Epoch    GPU_mem   box_loss   cls_loss   dfl_loss  Instances       Size\n"
          ]
        },
        {
          "output_type": "stream",
          "name": "stderr",
          "text": [
            "     57/100      8.59G     0.9808     0.7744     0.9781        375        640: 100%|██████████| 3/3 [00:01<00:00,  1.53it/s]\n",
            "                 Class     Images  Instances      Box(P          R      mAP50  mAP50-95): 100%|██████████| 1/1 [00:00<00:00,  3.71it/s]"
          ]
        },
        {
          "output_type": "stream",
          "name": "stdout",
          "text": [
            "                   all         20        152      0.902      0.899      0.944      0.673\n"
          ]
        },
        {
          "output_type": "stream",
          "name": "stderr",
          "text": [
            "\n"
          ]
        },
        {
          "output_type": "stream",
          "name": "stdout",
          "text": [
            "\n",
            "      Epoch    GPU_mem   box_loss   cls_loss   dfl_loss  Instances       Size\n"
          ]
        },
        {
          "output_type": "stream",
          "name": "stderr",
          "text": [
            "     58/100      8.68G     0.9906     0.7861     0.9783        463        640: 100%|██████████| 3/3 [00:02<00:00,  1.20it/s]\n",
            "                 Class     Images  Instances      Box(P          R      mAP50  mAP50-95): 100%|██████████| 1/1 [00:00<00:00,  3.51it/s]"
          ]
        },
        {
          "output_type": "stream",
          "name": "stdout",
          "text": [
            "                   all         20        152      0.938      0.909      0.962      0.705\n"
          ]
        },
        {
          "output_type": "stream",
          "name": "stderr",
          "text": [
            "\n"
          ]
        },
        {
          "output_type": "stream",
          "name": "stdout",
          "text": [
            "\n",
            "      Epoch    GPU_mem   box_loss   cls_loss   dfl_loss  Instances       Size\n"
          ]
        },
        {
          "output_type": "stream",
          "name": "stderr",
          "text": [
            "     59/100       8.6G     0.9973     0.7811     0.9962        323        640: 100%|██████████| 3/3 [00:02<00:00,  1.47it/s]\n",
            "                 Class     Images  Instances      Box(P          R      mAP50  mAP50-95): 100%|██████████| 1/1 [00:00<00:00,  3.32it/s]"
          ]
        },
        {
          "output_type": "stream",
          "name": "stdout",
          "text": [
            "                   all         20        152      0.932      0.909      0.954      0.696\n"
          ]
        },
        {
          "output_type": "stream",
          "name": "stderr",
          "text": [
            "\n"
          ]
        },
        {
          "output_type": "stream",
          "name": "stdout",
          "text": [
            "\n",
            "      Epoch    GPU_mem   box_loss   cls_loss   dfl_loss  Instances       Size\n"
          ]
        },
        {
          "output_type": "stream",
          "name": "stderr",
          "text": [
            "     60/100      8.66G     0.9792     0.7458     0.9695        401        640: 100%|██████████| 3/3 [00:02<00:00,  1.45it/s]\n",
            "                 Class     Images  Instances      Box(P          R      mAP50  mAP50-95): 100%|██████████| 1/1 [00:00<00:00,  4.30it/s]"
          ]
        },
        {
          "output_type": "stream",
          "name": "stdout",
          "text": [
            "                   all         20        152      0.938      0.884      0.946       0.69\n"
          ]
        },
        {
          "output_type": "stream",
          "name": "stderr",
          "text": [
            "\n"
          ]
        },
        {
          "output_type": "stream",
          "name": "stdout",
          "text": [
            "\n",
            "      Epoch    GPU_mem   box_loss   cls_loss   dfl_loss  Instances       Size\n"
          ]
        },
        {
          "output_type": "stream",
          "name": "stderr",
          "text": [
            "     61/100      8.47G     0.9953     0.7673     0.9839        385        640: 100%|██████████| 3/3 [00:02<00:00,  1.31it/s]\n",
            "                 Class     Images  Instances      Box(P          R      mAP50  mAP50-95): 100%|██████████| 1/1 [00:00<00:00,  2.21it/s]"
          ]
        },
        {
          "output_type": "stream",
          "name": "stdout",
          "text": [
            "                   all         20        152      0.927      0.926      0.958      0.706\n"
          ]
        },
        {
          "output_type": "stream",
          "name": "stderr",
          "text": [
            "\n"
          ]
        },
        {
          "output_type": "stream",
          "name": "stdout",
          "text": [
            "\n",
            "      Epoch    GPU_mem   box_loss   cls_loss   dfl_loss  Instances       Size\n"
          ]
        },
        {
          "output_type": "stream",
          "name": "stderr",
          "text": [
            "     62/100      8.39G     0.9474     0.7414     0.9684        358        640: 100%|██████████| 3/3 [00:02<00:00,  1.46it/s]\n",
            "                 Class     Images  Instances      Box(P          R      mAP50  mAP50-95): 100%|██████████| 1/1 [00:00<00:00,  6.02it/s]"
          ]
        },
        {
          "output_type": "stream",
          "name": "stdout",
          "text": [
            "                   all         20        152      0.937      0.924       0.96      0.701\n"
          ]
        },
        {
          "output_type": "stream",
          "name": "stderr",
          "text": [
            "\n"
          ]
        },
        {
          "output_type": "stream",
          "name": "stdout",
          "text": [
            "\n",
            "      Epoch    GPU_mem   box_loss   cls_loss   dfl_loss  Instances       Size\n"
          ]
        },
        {
          "output_type": "stream",
          "name": "stderr",
          "text": [
            "     63/100      8.59G     0.9429     0.7448     0.9636        392        640: 100%|██████████| 3/3 [00:02<00:00,  1.50it/s]\n",
            "                 Class     Images  Instances      Box(P          R      mAP50  mAP50-95): 100%|██████████| 1/1 [00:00<00:00,  2.58it/s]"
          ]
        },
        {
          "output_type": "stream",
          "name": "stdout",
          "text": [
            "                   all         20        152      0.946      0.933      0.957      0.708\n"
          ]
        },
        {
          "output_type": "stream",
          "name": "stderr",
          "text": [
            "\n"
          ]
        },
        {
          "output_type": "stream",
          "name": "stdout",
          "text": [
            "\n",
            "      Epoch    GPU_mem   box_loss   cls_loss   dfl_loss  Instances       Size\n"
          ]
        },
        {
          "output_type": "stream",
          "name": "stderr",
          "text": [
            "     64/100      8.58G     0.9278     0.7419      0.967        301        640: 100%|██████████| 3/3 [00:02<00:00,  1.35it/s]\n",
            "                 Class     Images  Instances      Box(P          R      mAP50  mAP50-95): 100%|██████████| 1/1 [00:00<00:00,  1.54it/s]"
          ]
        },
        {
          "output_type": "stream",
          "name": "stdout",
          "text": [
            "                   all         20        152      0.944      0.931      0.954        0.7\n"
          ]
        },
        {
          "output_type": "stream",
          "name": "stderr",
          "text": [
            "\n"
          ]
        },
        {
          "output_type": "stream",
          "name": "stdout",
          "text": [
            "\n",
            "      Epoch    GPU_mem   box_loss   cls_loss   dfl_loss  Instances       Size\n"
          ]
        },
        {
          "output_type": "stream",
          "name": "stderr",
          "text": [
            "     65/100      8.45G      0.953     0.7546     0.9622        405        640: 100%|██████████| 3/3 [00:01<00:00,  1.52it/s]\n",
            "                 Class     Images  Instances      Box(P          R      mAP50  mAP50-95): 100%|██████████| 1/1 [00:00<00:00,  3.73it/s]"
          ]
        },
        {
          "output_type": "stream",
          "name": "stdout",
          "text": [
            "                   all         20        152      0.955      0.928      0.955      0.691\n"
          ]
        },
        {
          "output_type": "stream",
          "name": "stderr",
          "text": [
            "\n"
          ]
        },
        {
          "output_type": "stream",
          "name": "stdout",
          "text": [
            "\n",
            "      Epoch    GPU_mem   box_loss   cls_loss   dfl_loss  Instances       Size\n"
          ]
        },
        {
          "output_type": "stream",
          "name": "stderr",
          "text": [
            "     66/100       8.6G     0.9513     0.7405     0.9642        431        640: 100%|██████████| 3/3 [00:01<00:00,  1.55it/s]\n",
            "                 Class     Images  Instances      Box(P          R      mAP50  mAP50-95): 100%|██████████| 1/1 [00:00<00:00,  3.29it/s]"
          ]
        },
        {
          "output_type": "stream",
          "name": "stdout",
          "text": [
            "                   all         20        152      0.938       0.93       0.96      0.708\n"
          ]
        },
        {
          "output_type": "stream",
          "name": "stderr",
          "text": [
            "\n"
          ]
        },
        {
          "output_type": "stream",
          "name": "stdout",
          "text": [
            "\n",
            "      Epoch    GPU_mem   box_loss   cls_loss   dfl_loss  Instances       Size\n"
          ]
        },
        {
          "output_type": "stream",
          "name": "stderr",
          "text": [
            "     67/100      8.37G      0.956     0.7396     0.9807        436        640: 100%|██████████| 3/3 [00:02<00:00,  1.38it/s]\n",
            "                 Class     Images  Instances      Box(P          R      mAP50  mAP50-95): 100%|██████████| 1/1 [00:00<00:00,  2.02it/s]"
          ]
        },
        {
          "output_type": "stream",
          "name": "stdout",
          "text": [
            "                   all         20        152      0.949      0.936      0.963      0.702\n"
          ]
        },
        {
          "output_type": "stream",
          "name": "stderr",
          "text": [
            "\n"
          ]
        },
        {
          "output_type": "stream",
          "name": "stdout",
          "text": [
            "\n",
            "      Epoch    GPU_mem   box_loss   cls_loss   dfl_loss  Instances       Size\n"
          ]
        },
        {
          "output_type": "stream",
          "name": "stderr",
          "text": [
            "     68/100      8.58G     0.9395     0.7236     0.9627        406        640: 100%|██████████| 3/3 [00:02<00:00,  1.45it/s]\n",
            "                 Class     Images  Instances      Box(P          R      mAP50  mAP50-95): 100%|██████████| 1/1 [00:00<00:00,  3.58it/s]"
          ]
        },
        {
          "output_type": "stream",
          "name": "stdout",
          "text": [
            "                   all         20        152      0.939      0.929      0.961      0.686\n"
          ]
        },
        {
          "output_type": "stream",
          "name": "stderr",
          "text": [
            "\n"
          ]
        },
        {
          "output_type": "stream",
          "name": "stdout",
          "text": [
            "\n",
            "      Epoch    GPU_mem   box_loss   cls_loss   dfl_loss  Instances       Size\n"
          ]
        },
        {
          "output_type": "stream",
          "name": "stderr",
          "text": [
            "     69/100      8.33G     0.9618     0.7421     0.9739        459        640: 100%|██████████| 3/3 [00:01<00:00,  1.52it/s]\n",
            "                 Class     Images  Instances      Box(P          R      mAP50  mAP50-95): 100%|██████████| 1/1 [00:00<00:00,  2.80it/s]"
          ]
        },
        {
          "output_type": "stream",
          "name": "stdout",
          "text": [
            "                   all         20        152      0.948      0.928      0.962      0.702\n"
          ]
        },
        {
          "output_type": "stream",
          "name": "stderr",
          "text": [
            "\n"
          ]
        },
        {
          "output_type": "stream",
          "name": "stdout",
          "text": [
            "\n",
            "      Epoch    GPU_mem   box_loss   cls_loss   dfl_loss  Instances       Size\n"
          ]
        },
        {
          "output_type": "stream",
          "name": "stderr",
          "text": [
            "     70/100      8.56G     0.9273     0.7168     0.9598        428        640: 100%|██████████| 3/3 [00:02<00:00,  1.49it/s]\n",
            "                 Class     Images  Instances      Box(P          R      mAP50  mAP50-95): 100%|██████████| 1/1 [00:00<00:00,  2.16it/s]"
          ]
        },
        {
          "output_type": "stream",
          "name": "stdout",
          "text": [
            "                   all         20        152      0.939      0.932      0.961      0.703\n"
          ]
        },
        {
          "output_type": "stream",
          "name": "stderr",
          "text": [
            "\n"
          ]
        },
        {
          "output_type": "stream",
          "name": "stdout",
          "text": [
            "\n",
            "      Epoch    GPU_mem   box_loss   cls_loss   dfl_loss  Instances       Size\n"
          ]
        },
        {
          "output_type": "stream",
          "name": "stderr",
          "text": [
            "     71/100      8.58G     0.9251     0.7246     0.9593        384        640: 100%|██████████| 3/3 [00:01<00:00,  1.52it/s]\n",
            "                 Class     Images  Instances      Box(P          R      mAP50  mAP50-95): 100%|██████████| 1/1 [00:00<00:00,  3.11it/s]"
          ]
        },
        {
          "output_type": "stream",
          "name": "stdout",
          "text": [
            "                   all         20        152      0.939      0.943      0.964      0.699\n"
          ]
        },
        {
          "output_type": "stream",
          "name": "stderr",
          "text": [
            "\n"
          ]
        },
        {
          "output_type": "stream",
          "name": "stdout",
          "text": [
            "\n",
            "      Epoch    GPU_mem   box_loss   cls_loss   dfl_loss  Instances       Size\n"
          ]
        },
        {
          "output_type": "stream",
          "name": "stderr",
          "text": [
            "     72/100      8.68G     0.9272     0.7089     0.9574        380        640: 100%|██████████| 3/3 [00:01<00:00,  1.54it/s]\n",
            "                 Class     Images  Instances      Box(P          R      mAP50  mAP50-95): 100%|██████████| 1/1 [00:00<00:00,  3.04it/s]"
          ]
        },
        {
          "output_type": "stream",
          "name": "stdout",
          "text": [
            "                   all         20        152      0.951      0.933      0.965      0.697\n"
          ]
        },
        {
          "output_type": "stream",
          "name": "stderr",
          "text": [
            "\n"
          ]
        },
        {
          "output_type": "stream",
          "name": "stdout",
          "text": [
            "\n",
            "      Epoch    GPU_mem   box_loss   cls_loss   dfl_loss  Instances       Size\n"
          ]
        },
        {
          "output_type": "stream",
          "name": "stderr",
          "text": [
            "     73/100      8.58G     0.9296     0.7219     0.9646        402        640: 100%|██████████| 3/3 [00:01<00:00,  1.58it/s]\n",
            "                 Class     Images  Instances      Box(P          R      mAP50  mAP50-95): 100%|██████████| 1/1 [00:00<00:00,  1.43it/s]"
          ]
        },
        {
          "output_type": "stream",
          "name": "stdout",
          "text": [
            "                   all         20        152      0.948      0.947      0.969      0.699\n"
          ]
        },
        {
          "output_type": "stream",
          "name": "stderr",
          "text": [
            "\n"
          ]
        },
        {
          "output_type": "stream",
          "name": "stdout",
          "text": [
            "\n",
            "      Epoch    GPU_mem   box_loss   cls_loss   dfl_loss  Instances       Size\n"
          ]
        },
        {
          "output_type": "stream",
          "name": "stderr",
          "text": [
            "     74/100      8.78G     0.9341     0.7138     0.9513        414        640: 100%|██████████| 3/3 [00:01<00:00,  1.54it/s]\n",
            "                 Class     Images  Instances      Box(P          R      mAP50  mAP50-95): 100%|██████████| 1/1 [00:00<00:00,  5.23it/s]\n"
          ]
        },
        {
          "output_type": "stream",
          "name": "stdout",
          "text": [
            "                   all         20        152      0.958      0.953      0.968      0.704\n",
            "\n",
            "      Epoch    GPU_mem   box_loss   cls_loss   dfl_loss  Instances       Size\n"
          ]
        },
        {
          "output_type": "stream",
          "name": "stderr",
          "text": [
            "     75/100      8.57G     0.9117     0.7109      0.972        333        640: 100%|██████████| 3/3 [00:01<00:00,  1.55it/s]\n",
            "                 Class     Images  Instances      Box(P          R      mAP50  mAP50-95): 100%|██████████| 1/1 [00:00<00:00,  3.21it/s]"
          ]
        },
        {
          "output_type": "stream",
          "name": "stdout",
          "text": [
            "                   all         20        152      0.964      0.947      0.971      0.704\n"
          ]
        },
        {
          "output_type": "stream",
          "name": "stderr",
          "text": [
            "\n"
          ]
        },
        {
          "output_type": "stream",
          "name": "stdout",
          "text": [
            "\n",
            "      Epoch    GPU_mem   box_loss   cls_loss   dfl_loss  Instances       Size\n"
          ]
        },
        {
          "output_type": "stream",
          "name": "stderr",
          "text": [
            "     76/100      8.56G     0.9152     0.7142     0.9544        360        640: 100%|██████████| 3/3 [00:02<00:00,  1.47it/s]\n",
            "                 Class     Images  Instances      Box(P          R      mAP50  mAP50-95): 100%|██████████| 1/1 [00:00<00:00,  2.68it/s]"
          ]
        },
        {
          "output_type": "stream",
          "name": "stdout",
          "text": [
            "                   all         20        152      0.976      0.947      0.969      0.715\n"
          ]
        },
        {
          "output_type": "stream",
          "name": "stderr",
          "text": [
            "\n"
          ]
        },
        {
          "output_type": "stream",
          "name": "stdout",
          "text": [
            "\n",
            "      Epoch    GPU_mem   box_loss   cls_loss   dfl_loss  Instances       Size\n"
          ]
        },
        {
          "output_type": "stream",
          "name": "stderr",
          "text": [
            "     77/100      8.36G     0.8921     0.6878      0.947        365        640: 100%|██████████| 3/3 [00:02<00:00,  1.36it/s]\n",
            "                 Class     Images  Instances      Box(P          R      mAP50  mAP50-95): 100%|██████████| 1/1 [00:00<00:00,  2.87it/s]"
          ]
        },
        {
          "output_type": "stream",
          "name": "stdout",
          "text": [
            "                   all         20        152      0.973      0.936      0.969      0.711\n"
          ]
        },
        {
          "output_type": "stream",
          "name": "stderr",
          "text": [
            "\n"
          ]
        },
        {
          "output_type": "stream",
          "name": "stdout",
          "text": [
            "\n",
            "      Epoch    GPU_mem   box_loss   cls_loss   dfl_loss  Instances       Size\n"
          ]
        },
        {
          "output_type": "stream",
          "name": "stderr",
          "text": [
            "     78/100      8.63G     0.8851     0.6963     0.9408        352        640: 100%|██████████| 3/3 [00:01<00:00,  1.53it/s]\n",
            "                 Class     Images  Instances      Box(P          R      mAP50  mAP50-95): 100%|██████████| 1/1 [00:00<00:00,  3.13it/s]"
          ]
        },
        {
          "output_type": "stream",
          "name": "stdout",
          "text": [
            "                   all         20        152      0.965      0.937      0.967      0.713\n"
          ]
        },
        {
          "output_type": "stream",
          "name": "stderr",
          "text": [
            "\n"
          ]
        },
        {
          "output_type": "stream",
          "name": "stdout",
          "text": [
            "\n",
            "      Epoch    GPU_mem   box_loss   cls_loss   dfl_loss  Instances       Size\n"
          ]
        },
        {
          "output_type": "stream",
          "name": "stderr",
          "text": [
            "     79/100      8.62G     0.8899      0.712     0.9502        414        640: 100%|██████████| 3/3 [00:02<00:00,  1.48it/s]\n",
            "                 Class     Images  Instances      Box(P          R      mAP50  mAP50-95): 100%|██████████| 1/1 [00:00<00:00,  2.25it/s]"
          ]
        },
        {
          "output_type": "stream",
          "name": "stdout",
          "text": [
            "                   all         20        152      0.949      0.936      0.964      0.713\n"
          ]
        },
        {
          "output_type": "stream",
          "name": "stderr",
          "text": [
            "\n"
          ]
        },
        {
          "output_type": "stream",
          "name": "stdout",
          "text": [
            "\n",
            "      Epoch    GPU_mem   box_loss   cls_loss   dfl_loss  Instances       Size\n"
          ]
        },
        {
          "output_type": "stream",
          "name": "stderr",
          "text": [
            "     80/100      8.54G     0.8737     0.6997     0.9448        333        640: 100%|██████████| 3/3 [00:02<00:00,  1.32it/s]\n",
            "                 Class     Images  Instances      Box(P          R      mAP50  mAP50-95): 100%|██████████| 1/1 [00:00<00:00,  2.28it/s]"
          ]
        },
        {
          "output_type": "stream",
          "name": "stdout",
          "text": [
            "                   all         20        152      0.966      0.932      0.967      0.713\n"
          ]
        },
        {
          "output_type": "stream",
          "name": "stderr",
          "text": [
            "\n"
          ]
        },
        {
          "output_type": "stream",
          "name": "stdout",
          "text": [
            "\n",
            "      Epoch    GPU_mem   box_loss   cls_loss   dfl_loss  Instances       Size\n"
          ]
        },
        {
          "output_type": "stream",
          "name": "stderr",
          "text": [
            "     81/100      8.57G     0.8818     0.6984     0.9497        408        640: 100%|██████████| 3/3 [00:01<00:00,  1.52it/s]\n",
            "                 Class     Images  Instances      Box(P          R      mAP50  mAP50-95): 100%|██████████| 1/1 [00:00<00:00,  3.36it/s]"
          ]
        },
        {
          "output_type": "stream",
          "name": "stdout",
          "text": [
            "                   all         20        152      0.967      0.934      0.972      0.722\n"
          ]
        },
        {
          "output_type": "stream",
          "name": "stderr",
          "text": [
            "\n"
          ]
        },
        {
          "output_type": "stream",
          "name": "stdout",
          "text": [
            "\n",
            "      Epoch    GPU_mem   box_loss   cls_loss   dfl_loss  Instances       Size\n"
          ]
        },
        {
          "output_type": "stream",
          "name": "stderr",
          "text": [
            "     82/100      8.58G     0.8957        0.7     0.9553        344        640: 100%|██████████| 3/3 [00:01<00:00,  1.52it/s]\n",
            "                 Class     Images  Instances      Box(P          R      mAP50  mAP50-95): 100%|██████████| 1/1 [00:00<00:00,  4.78it/s]"
          ]
        },
        {
          "output_type": "stream",
          "name": "stdout",
          "text": [
            "                   all         20        152      0.954      0.933      0.968      0.716\n"
          ]
        },
        {
          "output_type": "stream",
          "name": "stderr",
          "text": [
            "\n"
          ]
        },
        {
          "output_type": "stream",
          "name": "stdout",
          "text": [
            "\n",
            "      Epoch    GPU_mem   box_loss   cls_loss   dfl_loss  Instances       Size\n"
          ]
        },
        {
          "output_type": "stream",
          "name": "stderr",
          "text": [
            "     83/100      8.32G     0.8749     0.6824     0.9536        346        640: 100%|██████████| 3/3 [00:02<00:00,  1.24it/s]\n",
            "                 Class     Images  Instances      Box(P          R      mAP50  mAP50-95): 100%|██████████| 1/1 [00:00<00:00,  2.60it/s]"
          ]
        },
        {
          "output_type": "stream",
          "name": "stdout",
          "text": [
            "                   all         20        152       0.96      0.909      0.967      0.716\n"
          ]
        },
        {
          "output_type": "stream",
          "name": "stderr",
          "text": [
            "\n"
          ]
        },
        {
          "output_type": "stream",
          "name": "stdout",
          "text": [
            "\n",
            "      Epoch    GPU_mem   box_loss   cls_loss   dfl_loss  Instances       Size\n"
          ]
        },
        {
          "output_type": "stream",
          "name": "stderr",
          "text": [
            "     84/100       8.5G     0.8761     0.6808     0.9398        372        640: 100%|██████████| 3/3 [00:02<00:00,  1.42it/s]\n",
            "                 Class     Images  Instances      Box(P          R      mAP50  mAP50-95): 100%|██████████| 1/1 [00:00<00:00,  5.03it/s]\n"
          ]
        },
        {
          "output_type": "stream",
          "name": "stdout",
          "text": [
            "                   all         20        152      0.966      0.905      0.969      0.721\n",
            "\n",
            "      Epoch    GPU_mem   box_loss   cls_loss   dfl_loss  Instances       Size\n"
          ]
        },
        {
          "output_type": "stream",
          "name": "stderr",
          "text": [
            "     85/100      8.58G     0.8783     0.6844     0.9474        441        640: 100%|██████████| 3/3 [00:01<00:00,  1.57it/s]\n",
            "                 Class     Images  Instances      Box(P          R      mAP50  mAP50-95): 100%|██████████| 1/1 [00:00<00:00,  3.66it/s]"
          ]
        },
        {
          "output_type": "stream",
          "name": "stdout",
          "text": [
            "                   all         20        152      0.972      0.915      0.972      0.722\n"
          ]
        },
        {
          "output_type": "stream",
          "name": "stderr",
          "text": [
            "\n"
          ]
        },
        {
          "output_type": "stream",
          "name": "stdout",
          "text": [
            "\n",
            "      Epoch    GPU_mem   box_loss   cls_loss   dfl_loss  Instances       Size\n"
          ]
        },
        {
          "output_type": "stream",
          "name": "stderr",
          "text": [
            "     86/100      8.57G     0.8795     0.6794      0.949        377        640: 100%|██████████| 3/3 [00:02<00:00,  1.26it/s]\n",
            "                 Class     Images  Instances      Box(P          R      mAP50  mAP50-95): 100%|██████████| 1/1 [00:00<00:00,  3.40it/s]"
          ]
        },
        {
          "output_type": "stream",
          "name": "stdout",
          "text": [
            "                   all         20        152       0.97      0.914      0.971       0.72\n"
          ]
        },
        {
          "output_type": "stream",
          "name": "stderr",
          "text": [
            "\n"
          ]
        },
        {
          "output_type": "stream",
          "name": "stdout",
          "text": [
            "\n",
            "      Epoch    GPU_mem   box_loss   cls_loss   dfl_loss  Instances       Size\n"
          ]
        },
        {
          "output_type": "stream",
          "name": "stderr",
          "text": [
            "     87/100      8.55G     0.8975     0.7008     0.9543        329        640: 100%|██████████| 3/3 [00:02<00:00,  1.45it/s]\n",
            "                 Class     Images  Instances      Box(P          R      mAP50  mAP50-95): 100%|██████████| 1/1 [00:00<00:00,  3.11it/s]"
          ]
        },
        {
          "output_type": "stream",
          "name": "stdout",
          "text": [
            "                   all         20        152      0.965      0.916       0.97      0.719\n"
          ]
        },
        {
          "output_type": "stream",
          "name": "stderr",
          "text": [
            "\n"
          ]
        },
        {
          "output_type": "stream",
          "name": "stdout",
          "text": [
            "\n",
            "      Epoch    GPU_mem   box_loss   cls_loss   dfl_loss  Instances       Size\n"
          ]
        },
        {
          "output_type": "stream",
          "name": "stderr",
          "text": [
            "     88/100      8.38G     0.8702     0.6878     0.9508        377        640: 100%|██████████| 3/3 [00:01<00:00,  1.57it/s]\n",
            "                 Class     Images  Instances      Box(P          R      mAP50  mAP50-95): 100%|██████████| 1/1 [00:00<00:00,  3.08it/s]"
          ]
        },
        {
          "output_type": "stream",
          "name": "stdout",
          "text": [
            "                   all         20        152      0.969      0.904      0.969      0.721\n"
          ]
        },
        {
          "output_type": "stream",
          "name": "stderr",
          "text": [
            "\n"
          ]
        },
        {
          "output_type": "stream",
          "name": "stdout",
          "text": [
            "\n",
            "      Epoch    GPU_mem   box_loss   cls_loss   dfl_loss  Instances       Size\n"
          ]
        },
        {
          "output_type": "stream",
          "name": "stderr",
          "text": [
            "     89/100      8.63G     0.8739      0.673     0.9388        383        640: 100%|██████████| 3/3 [00:02<00:00,  1.21it/s]\n",
            "                 Class     Images  Instances      Box(P          R      mAP50  mAP50-95): 100%|██████████| 1/1 [00:00<00:00,  4.03it/s]"
          ]
        },
        {
          "output_type": "stream",
          "name": "stdout",
          "text": [
            "                   all         20        152      0.965      0.905      0.969      0.718\n"
          ]
        },
        {
          "output_type": "stream",
          "name": "stderr",
          "text": [
            "\n"
          ]
        },
        {
          "output_type": "stream",
          "name": "stdout",
          "text": [
            "\n",
            "      Epoch    GPU_mem   box_loss   cls_loss   dfl_loss  Instances       Size\n"
          ]
        },
        {
          "output_type": "stream",
          "name": "stderr",
          "text": [
            "     90/100      8.56G     0.8657     0.6738     0.9432        345        640: 100%|██████████| 3/3 [00:01<00:00,  1.55it/s]\n",
            "                 Class     Images  Instances      Box(P          R      mAP50  mAP50-95): 100%|██████████| 1/1 [00:00<00:00,  2.03it/s]"
          ]
        },
        {
          "output_type": "stream",
          "name": "stdout",
          "text": [
            "                   all         20        152      0.952      0.929      0.973      0.719\n"
          ]
        },
        {
          "output_type": "stream",
          "name": "stderr",
          "text": [
            "\n"
          ]
        },
        {
          "output_type": "stream",
          "name": "stdout",
          "text": [
            "Closing dataloader mosaic\n",
            "\u001b[34m\u001b[1malbumentations: \u001b[0mBlur(p=0.01, blur_limit=(3, 7)), MedianBlur(p=0.01, blur_limit=(3, 7)), ToGray(p=0.01, method='weighted_average', num_output_channels=3), CLAHE(p=0.01, clip_limit=(1.0, 4.0), tile_grid_size=(8, 8))\n",
            "\n",
            "      Epoch    GPU_mem   box_loss   cls_loss   dfl_loss  Instances       Size\n"
          ]
        },
        {
          "output_type": "stream",
          "name": "stderr",
          "text": [
            "     91/100      8.26G     0.8527     0.7315     0.9644        231        640: 100%|██████████| 3/3 [00:14<00:00,  4.83s/it]\n",
            "                 Class     Images  Instances      Box(P          R      mAP50  mAP50-95): 100%|██████████| 1/1 [00:00<00:00,  1.86it/s]"
          ]
        },
        {
          "output_type": "stream",
          "name": "stdout",
          "text": [
            "                   all         20        152      0.946      0.933      0.973      0.707\n"
          ]
        },
        {
          "output_type": "stream",
          "name": "stderr",
          "text": [
            "\n"
          ]
        },
        {
          "output_type": "stream",
          "name": "stdout",
          "text": [
            "\n",
            "      Epoch    GPU_mem   box_loss   cls_loss   dfl_loss  Instances       Size\n"
          ]
        },
        {
          "output_type": "stream",
          "name": "stderr",
          "text": [
            "     92/100      8.16G     0.8303     0.6939     0.9449        197        640: 100%|██████████| 3/3 [00:04<00:00,  1.60s/it]\n",
            "                 Class     Images  Instances      Box(P          R      mAP50  mAP50-95): 100%|██████████| 1/1 [00:00<00:00,  3.29it/s]"
          ]
        },
        {
          "output_type": "stream",
          "name": "stdout",
          "text": [
            "                   all         20        152      0.941      0.912      0.968      0.697\n"
          ]
        },
        {
          "output_type": "stream",
          "name": "stderr",
          "text": [
            "\n"
          ]
        },
        {
          "output_type": "stream",
          "name": "stdout",
          "text": [
            "\n",
            "      Epoch    GPU_mem   box_loss   cls_loss   dfl_loss  Instances       Size\n"
          ]
        },
        {
          "output_type": "stream",
          "name": "stderr",
          "text": [
            "     93/100      8.16G     0.8388     0.6989     0.9388        205        640: 100%|██████████| 3/3 [00:03<00:00,  1.26s/it]\n",
            "                 Class     Images  Instances      Box(P          R      mAP50  mAP50-95): 100%|██████████| 1/1 [00:00<00:00,  3.08it/s]"
          ]
        },
        {
          "output_type": "stream",
          "name": "stdout",
          "text": [
            "                   all         20        152      0.968      0.916      0.967      0.713\n"
          ]
        },
        {
          "output_type": "stream",
          "name": "stderr",
          "text": [
            "\n"
          ]
        },
        {
          "output_type": "stream",
          "name": "stdout",
          "text": [
            "\n",
            "      Epoch    GPU_mem   box_loss   cls_loss   dfl_loss  Instances       Size\n"
          ]
        },
        {
          "output_type": "stream",
          "name": "stderr",
          "text": [
            "     94/100      8.16G     0.8214      0.691     0.9319        215        640: 100%|██████████| 3/3 [00:02<00:00,  1.28it/s]\n",
            "                 Class     Images  Instances      Box(P          R      mAP50  mAP50-95): 100%|██████████| 1/1 [00:00<00:00,  3.13it/s]"
          ]
        },
        {
          "output_type": "stream",
          "name": "stdout",
          "text": [
            "                   all         20        152      0.973      0.915      0.968      0.718\n"
          ]
        },
        {
          "output_type": "stream",
          "name": "stderr",
          "text": [
            "\n"
          ]
        },
        {
          "output_type": "stream",
          "name": "stdout",
          "text": [
            "\n",
            "      Epoch    GPU_mem   box_loss   cls_loss   dfl_loss  Instances       Size\n"
          ]
        },
        {
          "output_type": "stream",
          "name": "stderr",
          "text": [
            "     95/100      8.16G      0.817     0.6929     0.9378        193        640: 100%|██████████| 3/3 [00:02<00:00,  1.06it/s]\n",
            "                 Class     Images  Instances      Box(P          R      mAP50  mAP50-95): 100%|██████████| 1/1 [00:00<00:00,  2.84it/s]"
          ]
        },
        {
          "output_type": "stream",
          "name": "stdout",
          "text": [
            "                   all         20        152       0.95      0.932      0.966      0.724\n"
          ]
        },
        {
          "output_type": "stream",
          "name": "stderr",
          "text": [
            "\n"
          ]
        },
        {
          "output_type": "stream",
          "name": "stdout",
          "text": [
            "\n",
            "      Epoch    GPU_mem   box_loss   cls_loss   dfl_loss  Instances       Size\n"
          ]
        },
        {
          "output_type": "stream",
          "name": "stderr",
          "text": [
            "     96/100      8.16G     0.8045     0.6749     0.9404        205        640: 100%|██████████| 3/3 [00:01<00:00,  1.63it/s]\n",
            "                 Class     Images  Instances      Box(P          R      mAP50  mAP50-95): 100%|██████████| 1/1 [00:00<00:00,  1.73it/s]"
          ]
        },
        {
          "output_type": "stream",
          "name": "stdout",
          "text": [
            "                   all         20        152      0.949      0.929      0.974      0.724\n"
          ]
        },
        {
          "output_type": "stream",
          "name": "stderr",
          "text": [
            "\n"
          ]
        },
        {
          "output_type": "stream",
          "name": "stdout",
          "text": [
            "\n",
            "      Epoch    GPU_mem   box_loss   cls_loss   dfl_loss  Instances       Size\n"
          ]
        },
        {
          "output_type": "stream",
          "name": "stderr",
          "text": [
            "     97/100      8.26G     0.7875      0.659     0.9381        227        640: 100%|██████████| 3/3 [00:02<00:00,  1.38it/s]\n",
            "                 Class     Images  Instances      Box(P          R      mAP50  mAP50-95): 100%|██████████| 1/1 [00:00<00:00,  2.60it/s]"
          ]
        },
        {
          "output_type": "stream",
          "name": "stdout",
          "text": [
            "                   all         20        152      0.947      0.934      0.973       0.72\n"
          ]
        },
        {
          "output_type": "stream",
          "name": "stderr",
          "text": [
            "\n"
          ]
        },
        {
          "output_type": "stream",
          "name": "stdout",
          "text": [
            "\n",
            "      Epoch    GPU_mem   box_loss   cls_loss   dfl_loss  Instances       Size\n"
          ]
        },
        {
          "output_type": "stream",
          "name": "stderr",
          "text": [
            "     98/100      8.21G     0.7975     0.6638     0.9276        231        640: 100%|██████████| 3/3 [00:01<00:00,  1.55it/s]\n",
            "                 Class     Images  Instances      Box(P          R      mAP50  mAP50-95): 100%|██████████| 1/1 [00:00<00:00,  3.47it/s]"
          ]
        },
        {
          "output_type": "stream",
          "name": "stdout",
          "text": [
            "                   all         20        152      0.954      0.941      0.973      0.722\n"
          ]
        },
        {
          "output_type": "stream",
          "name": "stderr",
          "text": [
            "\n"
          ]
        },
        {
          "output_type": "stream",
          "name": "stdout",
          "text": [
            "\n",
            "      Epoch    GPU_mem   box_loss   cls_loss   dfl_loss  Instances       Size\n"
          ]
        },
        {
          "output_type": "stream",
          "name": "stderr",
          "text": [
            "     99/100      8.16G     0.7972       0.67     0.9237        224        640: 100%|██████████| 3/3 [00:01<00:00,  1.58it/s]\n",
            "                 Class     Images  Instances      Box(P          R      mAP50  mAP50-95): 100%|██████████| 1/1 [00:00<00:00,  3.11it/s]"
          ]
        },
        {
          "output_type": "stream",
          "name": "stdout",
          "text": [
            "                   all         20        152       0.96       0.94      0.973      0.728\n"
          ]
        },
        {
          "output_type": "stream",
          "name": "stderr",
          "text": [
            "\n"
          ]
        },
        {
          "output_type": "stream",
          "name": "stdout",
          "text": [
            "\n",
            "      Epoch    GPU_mem   box_loss   cls_loss   dfl_loss  Instances       Size\n"
          ]
        },
        {
          "output_type": "stream",
          "name": "stderr",
          "text": [
            "    100/100      8.16G     0.7842     0.6598     0.9162        214        640: 100%|██████████| 3/3 [00:02<00:00,  1.26it/s]\n",
            "                 Class     Images  Instances      Box(P          R      mAP50  mAP50-95): 100%|██████████| 1/1 [00:00<00:00,  2.98it/s]"
          ]
        },
        {
          "output_type": "stream",
          "name": "stdout",
          "text": [
            "                   all         20        152      0.958      0.942      0.973      0.725\n"
          ]
        },
        {
          "output_type": "stream",
          "name": "stderr",
          "text": [
            "\n"
          ]
        },
        {
          "output_type": "stream",
          "name": "stdout",
          "text": [
            "\n",
            "100 epochs completed in 0.128 hours.\n",
            "Optimizer stripped from runs/detect/YOLO_test_project3/weights/last.pt, 5.5MB\n",
            "Optimizer stripped from runs/detect/YOLO_test_project3/weights/best.pt, 5.5MB\n",
            "\n",
            "Validating runs/detect/YOLO_test_project3/weights/best.pt...\n",
            "Ultralytics 8.3.159 🚀 Python-3.11.13 torch-2.6.0+cu124 CUDA:0 (Tesla T4, 15095MiB)\n",
            "YOLO11n summary (fused): 100 layers, 2,584,687 parameters, 0 gradients, 6.3 GFLOPs\n"
          ]
        },
        {
          "output_type": "stream",
          "name": "stderr",
          "text": [
            "                 Class     Images  Instances      Box(P          R      mAP50  mAP50-95): 100%|██████████| 1/1 [00:00<00:00,  3.77it/s]\n"
          ]
        },
        {
          "output_type": "stream",
          "name": "stdout",
          "text": [
            "                   all         20        152      0.961       0.94      0.973      0.728\n",
            "                people          9         17      0.963          1      0.995      0.617\n",
            "                  fork          7         10          1      0.892      0.986      0.737\n",
            "                 spoon         15         25      0.903       0.72      0.811      0.521\n",
            "                   cup         16         21      0.991      0.952      0.993      0.647\n",
            "                kettle          9          9      0.962          1      0.995      0.752\n",
            "                basket         10         10      0.977          1      0.995      0.794\n",
            "                 salad         11         11      0.966          1      0.995      0.761\n",
            "                  ribs         10         10      0.958          1      0.995      0.894\n",
            "                Caesar         15         15          1      0.946      0.995      0.798\n",
            "                  fish          5          5       0.92          1      0.995      0.915\n",
            "                  soup          8          8          1      0.711       0.91      0.525\n",
            "                borsch          8          8      0.972          1      0.995      0.738\n",
            "                 phone          3          3      0.876          1      0.995      0.763\n",
            "Speed: 0.5ms preprocess, 2.8ms inference, 0.0ms loss, 2.7ms postprocess per image\n",
            "Results saved to \u001b[1mruns/detect/YOLO_test_project3\u001b[0m\n"
          ]
        }
      ]
    },
    {
      "cell_type": "markdown",
      "source": [
        "#Изменение гиперпараметров"
      ],
      "metadata": {
        "id": "DvZkfoRjxHD6"
      }
    },
    {
      "cell_type": "markdown",
      "source": [
        "Уменьшим ограничение к терпимости на отсутсвие улучшений до 20 эпох\n",
        "\n",
        "Увеличим размер изображения до 1024х1024\n",
        "\n",
        "Уменьшим размер батча до 32"
      ],
      "metadata": {
        "id": "cuCxBgiJFipF"
      }
    },
    {
      "cell_type": "code",
      "source": [
        "model = YOLO(\"yolo11n.pt\")\n",
        "\n",
        "epochs = 100\n",
        "batch = 32\n",
        "imgsz = 1024\n",
        "device = torch.device('cuda' if torch.cuda.is_available() else 'cpu')\n",
        "\n",
        "results = model.train(data='data.yaml',\n",
        "                  epochs=epochs,\n",
        "                  batch=batch,\n",
        "                  imgsz=imgsz,\n",
        "                  name='YOLO_test_project',\n",
        "                  device=device,\n",
        "                  patience=20)"
      ],
      "metadata": {
        "colab": {
          "base_uri": "https://localhost:8080/"
        },
        "id": "NnqNTp2jxj-J",
        "outputId": "c47fd07e-eed0-4073-bbc4-e6df6fb77dc8"
      },
      "execution_count": null,
      "outputs": [
        {
          "output_type": "stream",
          "name": "stdout",
          "text": [
            "\u001b[34m\u001b[1mengine/trainer: \u001b[0magnostic_nms=False, amp=True, augment=False, auto_augment=randaugment, batch=32, bgr=0.0, box=7.5, cache=False, cfg=None, classes=None, close_mosaic=10, cls=0.5, conf=None, copy_paste=0.0, copy_paste_mode=flip, cos_lr=False, cutmix=0.0, data=data.yaml, degrees=0.0, deterministic=True, device=None, dfl=1.5, dnn=False, dropout=0.0, dynamic=False, embed=None, epochs=100, erasing=0.4, exist_ok=False, fliplr=0.5, flipud=0.0, format=torchscript, fraction=1.0, freeze=None, half=False, hsv_h=0.015, hsv_s=0.7, hsv_v=0.4, imgsz=1024, int8=False, iou=0.7, keras=False, kobj=1.0, line_width=None, lr0=0.01, lrf=0.01, mask_ratio=4, max_det=300, mixup=0.0, mode=train, model=yolo11n.pt, momentum=0.937, mosaic=1.0, multi_scale=False, name=YOLO_test_project12, nbs=64, nms=False, opset=None, optimize=False, optimizer=auto, overlap_mask=True, patience=20, perspective=0.0, plots=True, pose=12.0, pretrained=True, profile=False, project=None, rect=False, resume=False, retina_masks=False, save=True, save_conf=False, save_crop=False, save_dir=runs/detect/YOLO_test_project12, save_frames=False, save_json=False, save_period=-1, save_txt=False, scale=0.5, seed=0, shear=0.0, show=False, show_boxes=True, show_conf=True, show_labels=True, simplify=True, single_cls=False, source=None, split=val, stream_buffer=False, task=detect, time=None, tracker=botsort.yaml, translate=0.1, val=True, verbose=True, vid_stride=1, visualize=False, warmup_bias_lr=0.1, warmup_epochs=3.0, warmup_momentum=0.8, weight_decay=0.0005, workers=8, workspace=None\n",
            "Overriding model.yaml nc=80 with nc=13\n",
            "\n",
            "                   from  n    params  module                                       arguments                     \n",
            "  0                  -1  1       464  ultralytics.nn.modules.conv.Conv             [3, 16, 3, 2]                 \n",
            "  1                  -1  1      4672  ultralytics.nn.modules.conv.Conv             [16, 32, 3, 2]                \n",
            "  2                  -1  1      6640  ultralytics.nn.modules.block.C3k2            [32, 64, 1, False, 0.25]      \n",
            "  3                  -1  1     36992  ultralytics.nn.modules.conv.Conv             [64, 64, 3, 2]                \n",
            "  4                  -1  1     26080  ultralytics.nn.modules.block.C3k2            [64, 128, 1, False, 0.25]     \n",
            "  5                  -1  1    147712  ultralytics.nn.modules.conv.Conv             [128, 128, 3, 2]              \n",
            "  6                  -1  1     87040  ultralytics.nn.modules.block.C3k2            [128, 128, 1, True]           \n",
            "  7                  -1  1    295424  ultralytics.nn.modules.conv.Conv             [128, 256, 3, 2]              \n",
            "  8                  -1  1    346112  ultralytics.nn.modules.block.C3k2            [256, 256, 1, True]           \n",
            "  9                  -1  1    164608  ultralytics.nn.modules.block.SPPF            [256, 256, 5]                 \n",
            " 10                  -1  1    249728  ultralytics.nn.modules.block.C2PSA           [256, 256, 1]                 \n",
            " 11                  -1  1         0  torch.nn.modules.upsampling.Upsample         [None, 2, 'nearest']          \n",
            " 12             [-1, 6]  1         0  ultralytics.nn.modules.conv.Concat           [1]                           \n",
            " 13                  -1  1    111296  ultralytics.nn.modules.block.C3k2            [384, 128, 1, False]          \n",
            " 14                  -1  1         0  torch.nn.modules.upsampling.Upsample         [None, 2, 'nearest']          \n",
            " 15             [-1, 4]  1         0  ultralytics.nn.modules.conv.Concat           [1]                           \n",
            " 16                  -1  1     32096  ultralytics.nn.modules.block.C3k2            [256, 64, 1, False]           \n",
            " 17                  -1  1     36992  ultralytics.nn.modules.conv.Conv             [64, 64, 3, 2]                \n",
            " 18            [-1, 13]  1         0  ultralytics.nn.modules.conv.Concat           [1]                           \n",
            " 19                  -1  1     86720  ultralytics.nn.modules.block.C3k2            [192, 128, 1, False]          \n",
            " 20                  -1  1    147712  ultralytics.nn.modules.conv.Conv             [128, 128, 3, 2]              \n",
            " 21            [-1, 10]  1         0  ultralytics.nn.modules.conv.Concat           [1]                           \n",
            " 22                  -1  1    378880  ultralytics.nn.modules.block.C3k2            [384, 256, 1, True]           \n",
            " 23        [16, 19, 22]  1    433207  ultralytics.nn.modules.head.Detect           [13, [64, 128, 256]]          \n",
            "YOLO11n summary: 181 layers, 2,592,375 parameters, 2,592,359 gradients, 6.5 GFLOPs\n",
            "\n",
            "Transferred 448/499 items from pretrained weights\n",
            "Freezing layer 'model.23.dfl.conv.weight'\n",
            "\u001b[34m\u001b[1mAMP: \u001b[0mrunning Automatic Mixed Precision (AMP) checks...\n",
            "\u001b[34m\u001b[1mAMP: \u001b[0mchecks passed ✅\n",
            "\u001b[34m\u001b[1mtrain: \u001b[0mFast image access ✅ (ping: 0.1±0.1 ms, read: 166.9±6.3 MB/s, size: 2075.3 KB)\n"
          ]
        },
        {
          "output_type": "stream",
          "name": "stderr",
          "text": [
            "\u001b[34m\u001b[1mtrain: \u001b[0mScanning /content/dataset/train/labels.cache... 158 images, 0 backgrounds, 0 corrupt: 100%|██████████| 158/158 [00:00<?, ?it/s]\n"
          ]
        },
        {
          "output_type": "stream",
          "name": "stdout",
          "text": [
            "\u001b[34m\u001b[1malbumentations: \u001b[0mBlur(p=0.01, blur_limit=(3, 7)), MedianBlur(p=0.01, blur_limit=(3, 7)), ToGray(p=0.01, method='weighted_average', num_output_channels=3), CLAHE(p=0.01, clip_limit=(1.0, 4.0), tile_grid_size=(8, 8))\n",
            "\u001b[34m\u001b[1mval: \u001b[0mFast image access ✅ (ping: 0.0±0.0 ms, read: 113.7±37.6 MB/s, size: 1122.7 KB)\n"
          ]
        },
        {
          "output_type": "stream",
          "name": "stderr",
          "text": [
            "\u001b[34m\u001b[1mval: \u001b[0mScanning /content/dataset/val/labels.cache... 20 images, 0 backgrounds, 0 corrupt: 100%|██████████| 20/20 [00:00<?, ?it/s]\n"
          ]
        },
        {
          "output_type": "stream",
          "name": "stdout",
          "text": [
            "Plotting labels to runs/detect/YOLO_test_project12/labels.jpg... \n",
            "\u001b[34m\u001b[1moptimizer:\u001b[0m 'optimizer=auto' found, ignoring 'lr0=0.01' and 'momentum=0.937' and determining best 'optimizer', 'lr0' and 'momentum' automatically... \n",
            "\u001b[34m\u001b[1moptimizer:\u001b[0m AdamW(lr=0.000588, momentum=0.9) with parameter groups 81 weight(decay=0.0), 88 weight(decay=0.0005), 87 bias(decay=0.0)\n",
            "Image sizes 1024 train, 1024 val\n",
            "Using 2 dataloader workers\n",
            "Logging results to \u001b[1mruns/detect/YOLO_test_project12\u001b[0m\n",
            "Starting training for 100 epochs...\n",
            "\n",
            "      Epoch    GPU_mem   box_loss   cls_loss   dfl_loss  Instances       Size\n"
          ]
        },
        {
          "output_type": "stream",
          "name": "stderr",
          "text": [
            "      1/100      11.2G       1.83      4.383      1.613        367       1024: 100%|██████████| 5/5 [00:15<00:00,  3.12s/it]\n",
            "                 Class     Images  Instances      Box(P          R      mAP50  mAP50-95): 100%|██████████| 1/1 [00:00<00:00,  1.32it/s]"
          ]
        },
        {
          "output_type": "stream",
          "name": "stdout",
          "text": [
            "                   all         20        152          0          0          0          0\n"
          ]
        },
        {
          "output_type": "stream",
          "name": "stderr",
          "text": [
            "\n"
          ]
        },
        {
          "output_type": "stream",
          "name": "stdout",
          "text": [
            "\n",
            "      Epoch    GPU_mem   box_loss   cls_loss   dfl_loss  Instances       Size\n"
          ]
        },
        {
          "output_type": "stream",
          "name": "stderr",
          "text": [
            "      2/100      11.1G      1.721       4.35      1.578        323       1024: 100%|██████████| 5/5 [00:08<00:00,  1.60s/it]\n",
            "                 Class     Images  Instances      Box(P          R      mAP50  mAP50-95): 100%|██████████| 1/1 [00:00<00:00,  2.88it/s]"
          ]
        },
        {
          "output_type": "stream",
          "name": "stdout",
          "text": [
            "                   all         20        152     0.0273       0.03     0.0202     0.0128\n"
          ]
        },
        {
          "output_type": "stream",
          "name": "stderr",
          "text": [
            "\n"
          ]
        },
        {
          "output_type": "stream",
          "name": "stdout",
          "text": [
            "\n",
            "      Epoch    GPU_mem   box_loss   cls_loss   dfl_loss  Instances       Size\n"
          ]
        },
        {
          "output_type": "stream",
          "name": "stderr",
          "text": [
            "      3/100      11.1G      1.537      4.112      1.443        393       1024: 100%|██████████| 5/5 [00:09<00:00,  1.92s/it]\n",
            "                 Class     Images  Instances      Box(P          R      mAP50  mAP50-95): 100%|██████████| 1/1 [00:00<00:00,  2.58it/s]"
          ]
        },
        {
          "output_type": "stream",
          "name": "stdout",
          "text": [
            "                   all         20        152     0.0809      0.225      0.097     0.0762\n"
          ]
        },
        {
          "output_type": "stream",
          "name": "stderr",
          "text": [
            "\n"
          ]
        },
        {
          "output_type": "stream",
          "name": "stdout",
          "text": [
            "\n",
            "      Epoch    GPU_mem   box_loss   cls_loss   dfl_loss  Instances       Size\n"
          ]
        },
        {
          "output_type": "stream",
          "name": "stderr",
          "text": [
            "      4/100      11.1G      1.421      3.817      1.346        419       1024: 100%|██████████| 5/5 [00:06<00:00,  1.23s/it]\n",
            "                 Class     Images  Instances      Box(P          R      mAP50  mAP50-95): 100%|██████████| 1/1 [00:00<00:00,  2.71it/s]"
          ]
        },
        {
          "output_type": "stream",
          "name": "stdout",
          "text": [
            "                   all         20        152     0.0382      0.349      0.133     0.0941\n"
          ]
        },
        {
          "output_type": "stream",
          "name": "stderr",
          "text": [
            "\n"
          ]
        },
        {
          "output_type": "stream",
          "name": "stdout",
          "text": [
            "\n",
            "      Epoch    GPU_mem   box_loss   cls_loss   dfl_loss  Instances       Size\n"
          ]
        },
        {
          "output_type": "stream",
          "name": "stderr",
          "text": [
            "      5/100      11.2G      1.406      3.494      1.327        391       1024: 100%|██████████| 5/5 [00:06<00:00,  1.29s/it]\n",
            "                 Class     Images  Instances      Box(P          R      mAP50  mAP50-95): 100%|██████████| 1/1 [00:00<00:00,  2.40it/s]"
          ]
        },
        {
          "output_type": "stream",
          "name": "stdout",
          "text": [
            "                   all         20        152     0.0333      0.586       0.25      0.172\n"
          ]
        },
        {
          "output_type": "stream",
          "name": "stderr",
          "text": [
            "\n"
          ]
        },
        {
          "output_type": "stream",
          "name": "stdout",
          "text": [
            "\n",
            "      Epoch    GPU_mem   box_loss   cls_loss   dfl_loss  Instances       Size\n"
          ]
        },
        {
          "output_type": "stream",
          "name": "stderr",
          "text": [
            "      6/100        11G      1.385      3.108       1.32        365       1024: 100%|██████████| 5/5 [00:04<00:00,  1.09it/s]\n",
            "                 Class     Images  Instances      Box(P          R      mAP50  mAP50-95): 100%|██████████| 1/1 [00:00<00:00,  2.56it/s]"
          ]
        },
        {
          "output_type": "stream",
          "name": "stdout",
          "text": [
            "                   all         20        152     0.0252      0.635      0.285      0.203\n"
          ]
        },
        {
          "output_type": "stream",
          "name": "stderr",
          "text": [
            "\n"
          ]
        },
        {
          "output_type": "stream",
          "name": "stdout",
          "text": [
            "\n",
            "      Epoch    GPU_mem   box_loss   cls_loss   dfl_loss  Instances       Size\n"
          ]
        },
        {
          "output_type": "stream",
          "name": "stderr",
          "text": [
            "      7/100      11.1G      1.384      2.647      1.317        491       1024: 100%|██████████| 5/5 [00:06<00:00,  1.29s/it]\n",
            "                 Class     Images  Instances      Box(P          R      mAP50  mAP50-95): 100%|██████████| 1/1 [00:00<00:00,  2.54it/s]"
          ]
        },
        {
          "output_type": "stream",
          "name": "stdout",
          "text": [
            "                   all         20        152     0.0207      0.677      0.342      0.249\n"
          ]
        },
        {
          "output_type": "stream",
          "name": "stderr",
          "text": [
            "\n"
          ]
        },
        {
          "output_type": "stream",
          "name": "stdout",
          "text": [
            "\n",
            "      Epoch    GPU_mem   box_loss   cls_loss   dfl_loss  Instances       Size\n"
          ]
        },
        {
          "output_type": "stream",
          "name": "stderr",
          "text": [
            "      8/100      11.3G      1.389      2.296      1.322        382       1024: 100%|██████████| 5/5 [00:04<00:00,  1.02it/s]\n",
            "                 Class     Images  Instances      Box(P          R      mAP50  mAP50-95): 100%|██████████| 1/1 [00:00<00:00,  2.08it/s]"
          ]
        },
        {
          "output_type": "stream",
          "name": "stdout",
          "text": [
            "                   all         20        152     0.0181      0.619      0.341      0.233\n"
          ]
        },
        {
          "output_type": "stream",
          "name": "stderr",
          "text": [
            "\n"
          ]
        },
        {
          "output_type": "stream",
          "name": "stdout",
          "text": [
            "\n",
            "      Epoch    GPU_mem   box_loss   cls_loss   dfl_loss  Instances       Size\n"
          ]
        },
        {
          "output_type": "stream",
          "name": "stderr",
          "text": [
            "      9/100      10.7G      1.334       1.98      1.289        380       1024: 100%|██████████| 5/5 [00:06<00:00,  1.32s/it]\n",
            "                 Class     Images  Instances      Box(P          R      mAP50  mAP50-95): 100%|██████████| 1/1 [00:00<00:00,  2.58it/s]"
          ]
        },
        {
          "output_type": "stream",
          "name": "stdout",
          "text": [
            "                   all         20        152     0.0197      0.618      0.364      0.262\n"
          ]
        },
        {
          "output_type": "stream",
          "name": "stderr",
          "text": [
            "\n"
          ]
        },
        {
          "output_type": "stream",
          "name": "stdout",
          "text": [
            "\n",
            "      Epoch    GPU_mem   box_loss   cls_loss   dfl_loss  Instances       Size\n"
          ]
        },
        {
          "output_type": "stream",
          "name": "stderr",
          "text": [
            "     10/100      11.3G      1.299      1.825      1.254        440       1024: 100%|██████████| 5/5 [00:04<00:00,  1.14it/s]\n",
            "                 Class     Images  Instances      Box(P          R      mAP50  mAP50-95): 100%|██████████| 1/1 [00:00<00:00,  2.09it/s]"
          ]
        },
        {
          "output_type": "stream",
          "name": "stdout",
          "text": [
            "                   all         20        152     0.0176      0.571      0.364      0.251\n"
          ]
        },
        {
          "output_type": "stream",
          "name": "stderr",
          "text": [
            "\n"
          ]
        },
        {
          "output_type": "stream",
          "name": "stdout",
          "text": [
            "\n",
            "      Epoch    GPU_mem   box_loss   cls_loss   dfl_loss  Instances       Size\n"
          ]
        },
        {
          "output_type": "stream",
          "name": "stderr",
          "text": [
            "     11/100      11.1G      1.279      1.666       1.23        325       1024: 100%|██████████| 5/5 [00:06<00:00,  1.22s/it]\n",
            "                 Class     Images  Instances      Box(P          R      mAP50  mAP50-95): 100%|██████████| 1/1 [00:00<00:00,  2.26it/s]"
          ]
        },
        {
          "output_type": "stream",
          "name": "stdout",
          "text": [
            "                   all         20        152      0.984      0.247      0.384      0.272\n"
          ]
        },
        {
          "output_type": "stream",
          "name": "stderr",
          "text": [
            "\n"
          ]
        },
        {
          "output_type": "stream",
          "name": "stdout",
          "text": [
            "\n",
            "      Epoch    GPU_mem   box_loss   cls_loss   dfl_loss  Instances       Size\n"
          ]
        },
        {
          "output_type": "stream",
          "name": "stderr",
          "text": [
            "     12/100      11.2G      1.217      1.522      1.187        430       1024: 100%|██████████| 5/5 [00:05<00:00,  1.02s/it]\n",
            "                 Class     Images  Instances      Box(P          R      mAP50  mAP50-95): 100%|██████████| 1/1 [00:00<00:00,  1.68it/s]"
          ]
        },
        {
          "output_type": "stream",
          "name": "stdout",
          "text": [
            "                   all         20        152      0.984      0.152      0.396       0.28\n"
          ]
        },
        {
          "output_type": "stream",
          "name": "stderr",
          "text": [
            "\n"
          ]
        },
        {
          "output_type": "stream",
          "name": "stdout",
          "text": [
            "\n",
            "      Epoch    GPU_mem   box_loss   cls_loss   dfl_loss  Instances       Size\n"
          ]
        },
        {
          "output_type": "stream",
          "name": "stderr",
          "text": [
            "     13/100      10.9G      1.214      1.463      1.192        315       1024: 100%|██████████| 5/5 [00:05<00:00,  1.19s/it]\n",
            "                 Class     Images  Instances      Box(P          R      mAP50  mAP50-95): 100%|██████████| 1/1 [00:00<00:00,  2.35it/s]"
          ]
        },
        {
          "output_type": "stream",
          "name": "stdout",
          "text": [
            "                   all         20        152      0.994      0.165      0.395      0.287\n"
          ]
        },
        {
          "output_type": "stream",
          "name": "stderr",
          "text": [
            "\n"
          ]
        },
        {
          "output_type": "stream",
          "name": "stdout",
          "text": [
            "\n",
            "      Epoch    GPU_mem   box_loss   cls_loss   dfl_loss  Instances       Size\n"
          ]
        },
        {
          "output_type": "stream",
          "name": "stderr",
          "text": [
            "     14/100      11.4G      1.178       1.37       1.18        419       1024: 100%|██████████| 5/5 [00:05<00:00,  1.08s/it]\n",
            "                 Class     Images  Instances      Box(P          R      mAP50  mAP50-95): 100%|██████████| 1/1 [00:00<00:00,  2.14it/s]"
          ]
        },
        {
          "output_type": "stream",
          "name": "stdout",
          "text": [
            "                   all         20        152      0.983      0.167      0.544      0.408\n"
          ]
        },
        {
          "output_type": "stream",
          "name": "stderr",
          "text": [
            "\n"
          ]
        },
        {
          "output_type": "stream",
          "name": "stdout",
          "text": [
            "\n",
            "      Epoch    GPU_mem   box_loss   cls_loss   dfl_loss  Instances       Size\n"
          ]
        },
        {
          "output_type": "stream",
          "name": "stderr",
          "text": [
            "     15/100      10.8G      1.139      1.283      1.149        345       1024: 100%|██████████| 5/5 [00:04<00:00,  1.04it/s]\n",
            "                 Class     Images  Instances      Box(P          R      mAP50  mAP50-95): 100%|██████████| 1/1 [00:00<00:00,  2.49it/s]"
          ]
        },
        {
          "output_type": "stream",
          "name": "stdout",
          "text": [
            "                   all         20        152      0.972      0.225      0.641      0.469\n"
          ]
        },
        {
          "output_type": "stream",
          "name": "stderr",
          "text": [
            "\n"
          ]
        },
        {
          "output_type": "stream",
          "name": "stdout",
          "text": [
            "\n",
            "      Epoch    GPU_mem   box_loss   cls_loss   dfl_loss  Instances       Size\n"
          ]
        },
        {
          "output_type": "stream",
          "name": "stderr",
          "text": [
            "     16/100      10.8G      1.143      1.258      1.158        437       1024: 100%|██████████| 5/5 [00:05<00:00,  1.01s/it]\n",
            "                 Class     Images  Instances      Box(P          R      mAP50  mAP50-95): 100%|██████████| 1/1 [00:00<00:00,  2.25it/s]"
          ]
        },
        {
          "output_type": "stream",
          "name": "stdout",
          "text": [
            "                   all         20        152      0.985      0.268       0.78      0.569\n"
          ]
        },
        {
          "output_type": "stream",
          "name": "stderr",
          "text": [
            "\n"
          ]
        },
        {
          "output_type": "stream",
          "name": "stdout",
          "text": [
            "\n",
            "      Epoch    GPU_mem   box_loss   cls_loss   dfl_loss  Instances       Size\n"
          ]
        },
        {
          "output_type": "stream",
          "name": "stderr",
          "text": [
            "     17/100      10.9G      1.193      1.231      1.146        378       1024: 100%|██████████| 5/5 [00:05<00:00,  1.01s/it]\n",
            "                 Class     Images  Instances      Box(P          R      mAP50  mAP50-95): 100%|██████████| 1/1 [00:00<00:00,  1.54it/s]"
          ]
        },
        {
          "output_type": "stream",
          "name": "stdout",
          "text": [
            "                   all         20        152      0.963      0.285      0.863      0.618\n"
          ]
        },
        {
          "output_type": "stream",
          "name": "stderr",
          "text": [
            "\n"
          ]
        },
        {
          "output_type": "stream",
          "name": "stdout",
          "text": [
            "\n",
            "      Epoch    GPU_mem   box_loss   cls_loss   dfl_loss  Instances       Size\n"
          ]
        },
        {
          "output_type": "stream",
          "name": "stderr",
          "text": [
            "     18/100      11.4G      1.142      1.162      1.132        389       1024: 100%|██████████| 5/5 [00:05<00:00,  1.07s/it]\n",
            "                 Class     Images  Instances      Box(P          R      mAP50  mAP50-95): 100%|██████████| 1/1 [00:00<00:00,  2.68it/s]"
          ]
        },
        {
          "output_type": "stream",
          "name": "stdout",
          "text": [
            "                   all         20        152      0.992       0.35      0.906      0.638\n"
          ]
        },
        {
          "output_type": "stream",
          "name": "stderr",
          "text": [
            "\n"
          ]
        },
        {
          "output_type": "stream",
          "name": "stdout",
          "text": [
            "\n",
            "      Epoch    GPU_mem   box_loss   cls_loss   dfl_loss  Instances       Size\n"
          ]
        },
        {
          "output_type": "stream",
          "name": "stderr",
          "text": [
            "     19/100        11G      1.118      1.138      1.133        384       1024: 100%|██████████| 5/5 [00:06<00:00,  1.23s/it]\n",
            "                 Class     Images  Instances      Box(P          R      mAP50  mAP50-95): 100%|██████████| 1/1 [00:00<00:00,  2.22it/s]"
          ]
        },
        {
          "output_type": "stream",
          "name": "stdout",
          "text": [
            "                   all         20        152      0.996      0.347      0.921      0.652\n"
          ]
        },
        {
          "output_type": "stream",
          "name": "stderr",
          "text": [
            "\n"
          ]
        },
        {
          "output_type": "stream",
          "name": "stdout",
          "text": [
            "\n",
            "      Epoch    GPU_mem   box_loss   cls_loss   dfl_loss  Instances       Size\n"
          ]
        },
        {
          "output_type": "stream",
          "name": "stderr",
          "text": [
            "     20/100      10.8G      1.112      1.133      1.141        393       1024: 100%|██████████| 5/5 [00:04<00:00,  1.08it/s]\n",
            "                 Class     Images  Instances      Box(P          R      mAP50  mAP50-95): 100%|██████████| 1/1 [00:00<00:00,  2.44it/s]"
          ]
        },
        {
          "output_type": "stream",
          "name": "stdout",
          "text": [
            "                   all         20        152      0.995      0.539      0.954      0.668\n"
          ]
        },
        {
          "output_type": "stream",
          "name": "stderr",
          "text": [
            "\n"
          ]
        },
        {
          "output_type": "stream",
          "name": "stdout",
          "text": [
            "\n",
            "      Epoch    GPU_mem   box_loss   cls_loss   dfl_loss  Instances       Size\n"
          ]
        },
        {
          "output_type": "stream",
          "name": "stderr",
          "text": [
            "     21/100      11.1G      1.123      1.086      1.117        426       1024: 100%|██████████| 5/5 [00:05<00:00,  1.10s/it]\n",
            "                 Class     Images  Instances      Box(P          R      mAP50  mAP50-95): 100%|██████████| 1/1 [00:00<00:00,  1.93it/s]"
          ]
        },
        {
          "output_type": "stream",
          "name": "stdout",
          "text": [
            "                   all         20        152       0.98       0.68      0.945      0.666\n"
          ]
        },
        {
          "output_type": "stream",
          "name": "stderr",
          "text": [
            "\n"
          ]
        },
        {
          "output_type": "stream",
          "name": "stdout",
          "text": [
            "\n",
            "      Epoch    GPU_mem   box_loss   cls_loss   dfl_loss  Instances       Size\n"
          ]
        },
        {
          "output_type": "stream",
          "name": "stderr",
          "text": [
            "     22/100      11.3G      1.099      1.056      1.117        402       1024: 100%|██████████| 5/5 [00:05<00:00,  1.04s/it]\n",
            "                 Class     Images  Instances      Box(P          R      mAP50  mAP50-95): 100%|██████████| 1/1 [00:00<00:00,  1.45it/s]"
          ]
        },
        {
          "output_type": "stream",
          "name": "stdout",
          "text": [
            "                   all         20        152      0.963      0.702      0.955      0.698\n"
          ]
        },
        {
          "output_type": "stream",
          "name": "stderr",
          "text": [
            "\n"
          ]
        },
        {
          "output_type": "stream",
          "name": "stdout",
          "text": [
            "\n",
            "      Epoch    GPU_mem   box_loss   cls_loss   dfl_loss  Instances       Size\n"
          ]
        },
        {
          "output_type": "stream",
          "name": "stderr",
          "text": [
            "     23/100      11.3G      1.085      1.043      1.104        438       1024: 100%|██████████| 5/5 [00:05<00:00,  1.11s/it]\n",
            "                 Class     Images  Instances      Box(P          R      mAP50  mAP50-95): 100%|██████████| 1/1 [00:00<00:00,  2.55it/s]"
          ]
        },
        {
          "output_type": "stream",
          "name": "stdout",
          "text": [
            "                   all         20        152      0.964      0.741      0.967      0.693\n"
          ]
        },
        {
          "output_type": "stream",
          "name": "stderr",
          "text": [
            "\n"
          ]
        },
        {
          "output_type": "stream",
          "name": "stdout",
          "text": [
            "\n",
            "      Epoch    GPU_mem   box_loss   cls_loss   dfl_loss  Instances       Size\n"
          ]
        },
        {
          "output_type": "stream",
          "name": "stderr",
          "text": [
            "     24/100      11.3G      1.079      1.022      1.118        372       1024: 100%|██████████| 5/5 [00:05<00:00,  1.11s/it]\n",
            "                 Class     Images  Instances      Box(P          R      mAP50  mAP50-95): 100%|██████████| 1/1 [00:00<00:00,  2.18it/s]"
          ]
        },
        {
          "output_type": "stream",
          "name": "stdout",
          "text": [
            "                   all         20        152      0.938       0.83      0.949      0.684\n"
          ]
        },
        {
          "output_type": "stream",
          "name": "stderr",
          "text": [
            "\n"
          ]
        },
        {
          "output_type": "stream",
          "name": "stdout",
          "text": [
            "\n",
            "      Epoch    GPU_mem   box_loss   cls_loss   dfl_loss  Instances       Size\n"
          ]
        },
        {
          "output_type": "stream",
          "name": "stderr",
          "text": [
            "     25/100      11.1G      1.079      1.022      1.127        341       1024: 100%|██████████| 5/5 [00:05<00:00,  1.07s/it]\n",
            "                 Class     Images  Instances      Box(P          R      mAP50  mAP50-95): 100%|██████████| 1/1 [00:00<00:00,  2.03it/s]"
          ]
        },
        {
          "output_type": "stream",
          "name": "stdout",
          "text": [
            "                   all         20        152      0.934      0.843      0.957       0.68\n"
          ]
        },
        {
          "output_type": "stream",
          "name": "stderr",
          "text": [
            "\n"
          ]
        },
        {
          "output_type": "stream",
          "name": "stdout",
          "text": [
            "\n",
            "      Epoch    GPU_mem   box_loss   cls_loss   dfl_loss  Instances       Size\n"
          ]
        },
        {
          "output_type": "stream",
          "name": "stderr",
          "text": [
            "     26/100      11.2G      1.062      1.052      1.108        337       1024: 100%|██████████| 5/5 [00:04<00:00,  1.02it/s]\n",
            "                 Class     Images  Instances      Box(P          R      mAP50  mAP50-95): 100%|██████████| 1/1 [00:00<00:00,  2.08it/s]"
          ]
        },
        {
          "output_type": "stream",
          "name": "stdout",
          "text": [
            "                   all         20        152      0.922      0.856      0.954      0.693\n"
          ]
        },
        {
          "output_type": "stream",
          "name": "stderr",
          "text": [
            "\n"
          ]
        },
        {
          "output_type": "stream",
          "name": "stdout",
          "text": [
            "\n",
            "      Epoch    GPU_mem   box_loss   cls_loss   dfl_loss  Instances       Size\n"
          ]
        },
        {
          "output_type": "stream",
          "name": "stderr",
          "text": [
            "     27/100      11.2G      1.048     0.9967      1.092        347       1024: 100%|██████████| 5/5 [00:05<00:00,  1.19s/it]\n",
            "                 Class     Images  Instances      Box(P          R      mAP50  mAP50-95): 100%|██████████| 1/1 [00:00<00:00,  2.56it/s]"
          ]
        },
        {
          "output_type": "stream",
          "name": "stdout",
          "text": [
            "                   all         20        152      0.897      0.907      0.956      0.667\n"
          ]
        },
        {
          "output_type": "stream",
          "name": "stderr",
          "text": [
            "\n"
          ]
        },
        {
          "output_type": "stream",
          "name": "stdout",
          "text": [
            "\n",
            "      Epoch    GPU_mem   box_loss   cls_loss   dfl_loss  Instances       Size\n"
          ]
        },
        {
          "output_type": "stream",
          "name": "stderr",
          "text": [
            "     28/100      11.1G      1.039     0.9769      1.079        341       1024: 100%|██████████| 5/5 [00:05<00:00,  1.01s/it]\n",
            "                 Class     Images  Instances      Box(P          R      mAP50  mAP50-95): 100%|██████████| 1/1 [00:00<00:00,  2.34it/s]"
          ]
        },
        {
          "output_type": "stream",
          "name": "stdout",
          "text": [
            "                   all         20        152       0.88      0.912      0.955      0.696\n"
          ]
        },
        {
          "output_type": "stream",
          "name": "stderr",
          "text": [
            "\n"
          ]
        },
        {
          "output_type": "stream",
          "name": "stdout",
          "text": [
            "\n",
            "      Epoch    GPU_mem   box_loss   cls_loss   dfl_loss  Instances       Size\n"
          ]
        },
        {
          "output_type": "stream",
          "name": "stderr",
          "text": [
            "     29/100      11.2G      1.018     0.9559      1.078        489       1024: 100%|██████████| 5/5 [00:05<00:00,  1.14s/it]\n",
            "                 Class     Images  Instances      Box(P          R      mAP50  mAP50-95): 100%|██████████| 1/1 [00:00<00:00,  2.32it/s]"
          ]
        },
        {
          "output_type": "stream",
          "name": "stdout",
          "text": [
            "                   all         20        152      0.864      0.892      0.945      0.653\n"
          ]
        },
        {
          "output_type": "stream",
          "name": "stderr",
          "text": [
            "\n"
          ]
        },
        {
          "output_type": "stream",
          "name": "stdout",
          "text": [
            "\n",
            "      Epoch    GPU_mem   box_loss   cls_loss   dfl_loss  Instances       Size\n"
          ]
        },
        {
          "output_type": "stream",
          "name": "stderr",
          "text": [
            "     30/100      11.3G      1.035     0.9398      1.075        431       1024: 100%|██████████| 5/5 [00:05<00:00,  1.04s/it]\n",
            "                 Class     Images  Instances      Box(P          R      mAP50  mAP50-95): 100%|██████████| 1/1 [00:00<00:00,  1.84it/s]"
          ]
        },
        {
          "output_type": "stream",
          "name": "stdout",
          "text": [
            "                   all         20        152      0.933      0.913      0.958      0.702\n"
          ]
        },
        {
          "output_type": "stream",
          "name": "stderr",
          "text": [
            "\n"
          ]
        },
        {
          "output_type": "stream",
          "name": "stdout",
          "text": [
            "\n",
            "      Epoch    GPU_mem   box_loss   cls_loss   dfl_loss  Instances       Size\n"
          ]
        },
        {
          "output_type": "stream",
          "name": "stderr",
          "text": [
            "     31/100        11G      1.006     0.9221      1.061        381       1024: 100%|██████████| 5/5 [00:04<00:00,  1.02it/s]\n",
            "                 Class     Images  Instances      Box(P          R      mAP50  mAP50-95): 100%|██████████| 1/1 [00:00<00:00,  2.57it/s]"
          ]
        },
        {
          "output_type": "stream",
          "name": "stdout",
          "text": [
            "                   all         20        152      0.934      0.929      0.968      0.695\n"
          ]
        },
        {
          "output_type": "stream",
          "name": "stderr",
          "text": [
            "\n"
          ]
        },
        {
          "output_type": "stream",
          "name": "stdout",
          "text": [
            "\n",
            "      Epoch    GPU_mem   box_loss   cls_loss   dfl_loss  Instances       Size\n"
          ]
        },
        {
          "output_type": "stream",
          "name": "stderr",
          "text": [
            "     32/100      10.9G      1.009       0.92      1.082        361       1024: 100%|██████████| 5/5 [00:05<00:00,  1.05s/it]\n",
            "                 Class     Images  Instances      Box(P          R      mAP50  mAP50-95): 100%|██████████| 1/1 [00:00<00:00,  1.69it/s]"
          ]
        },
        {
          "output_type": "stream",
          "name": "stdout",
          "text": [
            "                   all         20        152      0.903      0.942      0.975      0.694\n"
          ]
        },
        {
          "output_type": "stream",
          "name": "stderr",
          "text": [
            "\n"
          ]
        },
        {
          "output_type": "stream",
          "name": "stdout",
          "text": [
            "\n",
            "      Epoch    GPU_mem   box_loss   cls_loss   dfl_loss  Instances       Size\n"
          ]
        },
        {
          "output_type": "stream",
          "name": "stderr",
          "text": [
            "     33/100      11.2G      1.005     0.9321       1.06        414       1024: 100%|██████████| 5/5 [00:05<00:00,  1.03s/it]\n",
            "                 Class     Images  Instances      Box(P          R      mAP50  mAP50-95): 100%|██████████| 1/1 [00:00<00:00,  2.38it/s]"
          ]
        },
        {
          "output_type": "stream",
          "name": "stdout",
          "text": [
            "                   all         20        152      0.924      0.946      0.979      0.734\n"
          ]
        },
        {
          "output_type": "stream",
          "name": "stderr",
          "text": [
            "\n"
          ]
        },
        {
          "output_type": "stream",
          "name": "stdout",
          "text": [
            "\n",
            "      Epoch    GPU_mem   box_loss   cls_loss   dfl_loss  Instances       Size\n"
          ]
        },
        {
          "output_type": "stream",
          "name": "stderr",
          "text": [
            "     34/100      11.2G      1.011     0.9167      1.074        338       1024: 100%|██████████| 5/5 [00:06<00:00,  1.34s/it]\n",
            "                 Class     Images  Instances      Box(P          R      mAP50  mAP50-95): 100%|██████████| 1/1 [00:00<00:00,  2.60it/s]"
          ]
        },
        {
          "output_type": "stream",
          "name": "stdout",
          "text": [
            "                   all         20        152      0.912      0.946      0.972       0.72\n"
          ]
        },
        {
          "output_type": "stream",
          "name": "stderr",
          "text": [
            "\n"
          ]
        },
        {
          "output_type": "stream",
          "name": "stdout",
          "text": [
            "\n",
            "      Epoch    GPU_mem   box_loss   cls_loss   dfl_loss  Instances       Size\n"
          ]
        },
        {
          "output_type": "stream",
          "name": "stderr",
          "text": [
            "     35/100      11.2G          1     0.8991      1.063        346       1024: 100%|██████████| 5/5 [00:04<00:00,  1.12it/s]\n",
            "                 Class     Images  Instances      Box(P          R      mAP50  mAP50-95): 100%|██████████| 1/1 [00:00<00:00,  2.37it/s]"
          ]
        },
        {
          "output_type": "stream",
          "name": "stdout",
          "text": [
            "                   all         20        152      0.936      0.936      0.982      0.713\n"
          ]
        },
        {
          "output_type": "stream",
          "name": "stderr",
          "text": [
            "\n"
          ]
        },
        {
          "output_type": "stream",
          "name": "stdout",
          "text": [
            "\n",
            "      Epoch    GPU_mem   box_loss   cls_loss   dfl_loss  Instances       Size\n"
          ]
        },
        {
          "output_type": "stream",
          "name": "stderr",
          "text": [
            "     36/100      11.1G     0.9807     0.8944      1.047        368       1024: 100%|██████████| 5/5 [00:05<00:00,  1.14s/it]\n",
            "                 Class     Images  Instances      Box(P          R      mAP50  mAP50-95): 100%|██████████| 1/1 [00:00<00:00,  2.42it/s]"
          ]
        },
        {
          "output_type": "stream",
          "name": "stdout",
          "text": [
            "                   all         20        152      0.892      0.942      0.966      0.702\n"
          ]
        },
        {
          "output_type": "stream",
          "name": "stderr",
          "text": [
            "\n"
          ]
        },
        {
          "output_type": "stream",
          "name": "stdout",
          "text": [
            "\n",
            "      Epoch    GPU_mem   box_loss   cls_loss   dfl_loss  Instances       Size\n"
          ]
        },
        {
          "output_type": "stream",
          "name": "stderr",
          "text": [
            "     37/100      11.3G     0.9849     0.8946      1.061        335       1024: 100%|██████████| 5/5 [00:04<00:00,  1.01it/s]\n",
            "                 Class     Images  Instances      Box(P          R      mAP50  mAP50-95): 100%|██████████| 1/1 [00:00<00:00,  1.95it/s]"
          ]
        },
        {
          "output_type": "stream",
          "name": "stdout",
          "text": [
            "                   all         20        152       0.89      0.941      0.959       0.69\n"
          ]
        },
        {
          "output_type": "stream",
          "name": "stderr",
          "text": [
            "\n"
          ]
        },
        {
          "output_type": "stream",
          "name": "stdout",
          "text": [
            "\n",
            "      Epoch    GPU_mem   box_loss   cls_loss   dfl_loss  Instances       Size\n"
          ]
        },
        {
          "output_type": "stream",
          "name": "stderr",
          "text": [
            "     38/100      11.1G     0.9836     0.8875      1.066        333       1024: 100%|██████████| 5/5 [00:06<00:00,  1.26s/it]\n",
            "                 Class     Images  Instances      Box(P          R      mAP50  mAP50-95): 100%|██████████| 1/1 [00:00<00:00,  2.97it/s]"
          ]
        },
        {
          "output_type": "stream",
          "name": "stdout",
          "text": [
            "                   all         20        152      0.905      0.967       0.98      0.723\n"
          ]
        },
        {
          "output_type": "stream",
          "name": "stderr",
          "text": [
            "\n"
          ]
        },
        {
          "output_type": "stream",
          "name": "stdout",
          "text": [
            "\n",
            "      Epoch    GPU_mem   box_loss   cls_loss   dfl_loss  Instances       Size\n"
          ]
        },
        {
          "output_type": "stream",
          "name": "stderr",
          "text": [
            "     39/100      11.2G     0.9876     0.8884      1.056        407       1024: 100%|██████████| 5/5 [00:06<00:00,  1.28s/it]\n",
            "                 Class     Images  Instances      Box(P          R      mAP50  mAP50-95): 100%|██████████| 1/1 [00:00<00:00,  2.64it/s]"
          ]
        },
        {
          "output_type": "stream",
          "name": "stdout",
          "text": [
            "                   all         20        152      0.912      0.965      0.977      0.709\n"
          ]
        },
        {
          "output_type": "stream",
          "name": "stderr",
          "text": [
            "\n"
          ]
        },
        {
          "output_type": "stream",
          "name": "stdout",
          "text": [
            "\n",
            "      Epoch    GPU_mem   box_loss   cls_loss   dfl_loss  Instances       Size\n"
          ]
        },
        {
          "output_type": "stream",
          "name": "stderr",
          "text": [
            "     40/100        11G     0.9512      0.861      1.041        325       1024: 100%|██████████| 5/5 [00:05<00:00,  1.01s/it]\n",
            "                 Class     Images  Instances      Box(P          R      mAP50  mAP50-95): 100%|██████████| 1/1 [00:00<00:00,  1.69it/s]"
          ]
        },
        {
          "output_type": "stream",
          "name": "stdout",
          "text": [
            "                   all         20        152      0.928      0.947      0.975       0.71\n"
          ]
        },
        {
          "output_type": "stream",
          "name": "stderr",
          "text": [
            "\n"
          ]
        },
        {
          "output_type": "stream",
          "name": "stdout",
          "text": [
            "\n",
            "      Epoch    GPU_mem   box_loss   cls_loss   dfl_loss  Instances       Size\n"
          ]
        },
        {
          "output_type": "stream",
          "name": "stderr",
          "text": [
            "     41/100      11.1G     0.9541     0.8637      1.033        409       1024: 100%|██████████| 5/5 [00:04<00:00,  1.10it/s]\n",
            "                 Class     Images  Instances      Box(P          R      mAP50  mAP50-95): 100%|██████████| 1/1 [00:00<00:00,  2.53it/s]"
          ]
        },
        {
          "output_type": "stream",
          "name": "stdout",
          "text": [
            "                   all         20        152       0.94      0.947      0.978      0.708\n"
          ]
        },
        {
          "output_type": "stream",
          "name": "stderr",
          "text": [
            "\n"
          ]
        },
        {
          "output_type": "stream",
          "name": "stdout",
          "text": [
            "\n",
            "      Epoch    GPU_mem   box_loss   cls_loss   dfl_loss  Instances       Size\n"
          ]
        },
        {
          "output_type": "stream",
          "name": "stderr",
          "text": [
            "     42/100      11.4G     0.9433     0.8432      1.043        304       1024: 100%|██████████| 5/5 [00:06<00:00,  1.28s/it]\n",
            "                 Class     Images  Instances      Box(P          R      mAP50  mAP50-95): 100%|██████████| 1/1 [00:00<00:00,  2.51it/s]"
          ]
        },
        {
          "output_type": "stream",
          "name": "stdout",
          "text": [
            "                   all         20        152      0.905       0.94      0.966      0.704\n"
          ]
        },
        {
          "output_type": "stream",
          "name": "stderr",
          "text": [
            "\n"
          ]
        },
        {
          "output_type": "stream",
          "name": "stdout",
          "text": [
            "\n",
            "      Epoch    GPU_mem   box_loss   cls_loss   dfl_loss  Instances       Size\n"
          ]
        },
        {
          "output_type": "stream",
          "name": "stderr",
          "text": [
            "     43/100      10.9G     0.9413     0.8343      1.028        376       1024: 100%|██████████| 5/5 [00:05<00:00,  1.03s/it]\n",
            "                 Class     Images  Instances      Box(P          R      mAP50  mAP50-95): 100%|██████████| 1/1 [00:00<00:00,  2.58it/s]"
          ]
        },
        {
          "output_type": "stream",
          "name": "stdout",
          "text": [
            "                   all         20        152      0.959      0.883      0.962      0.697\n"
          ]
        },
        {
          "output_type": "stream",
          "name": "stderr",
          "text": [
            "\n"
          ]
        },
        {
          "output_type": "stream",
          "name": "stdout",
          "text": [
            "\n",
            "      Epoch    GPU_mem   box_loss   cls_loss   dfl_loss  Instances       Size\n"
          ]
        },
        {
          "output_type": "stream",
          "name": "stderr",
          "text": [
            "     44/100      11.1G     0.9205     0.8329      1.023        391       1024: 100%|██████████| 5/5 [00:06<00:00,  1.24s/it]\n",
            "                 Class     Images  Instances      Box(P          R      mAP50  mAP50-95): 100%|██████████| 1/1 [00:00<00:00,  2.43it/s]"
          ]
        },
        {
          "output_type": "stream",
          "name": "stdout",
          "text": [
            "                   all         20        152      0.941      0.928      0.986      0.739\n"
          ]
        },
        {
          "output_type": "stream",
          "name": "stderr",
          "text": [
            "\n"
          ]
        },
        {
          "output_type": "stream",
          "name": "stdout",
          "text": [
            "\n",
            "      Epoch    GPU_mem   box_loss   cls_loss   dfl_loss  Instances       Size\n"
          ]
        },
        {
          "output_type": "stream",
          "name": "stderr",
          "text": [
            "     45/100      11.2G     0.9208       0.82      1.026        403       1024: 100%|██████████| 5/5 [00:04<00:00,  1.10it/s]\n",
            "                 Class     Images  Instances      Box(P          R      mAP50  mAP50-95): 100%|██████████| 1/1 [00:00<00:00,  1.77it/s]"
          ]
        },
        {
          "output_type": "stream",
          "name": "stdout",
          "text": [
            "                   all         20        152       0.94      0.904      0.979      0.719\n"
          ]
        },
        {
          "output_type": "stream",
          "name": "stderr",
          "text": [
            "\n"
          ]
        },
        {
          "output_type": "stream",
          "name": "stdout",
          "text": [
            "\n",
            "      Epoch    GPU_mem   box_loss   cls_loss   dfl_loss  Instances       Size\n"
          ]
        },
        {
          "output_type": "stream",
          "name": "stderr",
          "text": [
            "     46/100      11.2G     0.9071     0.8173      1.036        351       1024: 100%|██████████| 5/5 [00:05<00:00,  1.17s/it]\n",
            "                 Class     Images  Instances      Box(P          R      mAP50  mAP50-95): 100%|██████████| 1/1 [00:00<00:00,  2.49it/s]"
          ]
        },
        {
          "output_type": "stream",
          "name": "stdout",
          "text": [
            "                   all         20        152      0.956      0.926      0.981      0.728\n"
          ]
        },
        {
          "output_type": "stream",
          "name": "stderr",
          "text": [
            "\n"
          ]
        },
        {
          "output_type": "stream",
          "name": "stdout",
          "text": [
            "\n",
            "      Epoch    GPU_mem   box_loss   cls_loss   dfl_loss  Instances       Size\n"
          ]
        },
        {
          "output_type": "stream",
          "name": "stderr",
          "text": [
            "     47/100      10.9G     0.9301     0.8031      1.016        391       1024: 100%|██████████| 5/5 [00:04<00:00,  1.04it/s]\n",
            "                 Class     Images  Instances      Box(P          R      mAP50  mAP50-95): 100%|██████████| 1/1 [00:00<00:00,  2.66it/s]"
          ]
        },
        {
          "output_type": "stream",
          "name": "stdout",
          "text": [
            "                   all         20        152      0.924      0.918      0.957      0.689\n"
          ]
        },
        {
          "output_type": "stream",
          "name": "stderr",
          "text": [
            "\n"
          ]
        },
        {
          "output_type": "stream",
          "name": "stdout",
          "text": [
            "\n",
            "      Epoch    GPU_mem   box_loss   cls_loss   dfl_loss  Instances       Size\n"
          ]
        },
        {
          "output_type": "stream",
          "name": "stderr",
          "text": [
            "     48/100      10.9G      0.915     0.8045      1.031        341       1024: 100%|██████████| 5/5 [00:06<00:00,  1.22s/it]\n",
            "                 Class     Images  Instances      Box(P          R      mAP50  mAP50-95): 100%|██████████| 1/1 [00:00<00:00,  2.61it/s]"
          ]
        },
        {
          "output_type": "stream",
          "name": "stdout",
          "text": [
            "                   all         20        152      0.922      0.959      0.978      0.734\n"
          ]
        },
        {
          "output_type": "stream",
          "name": "stderr",
          "text": [
            "\n"
          ]
        },
        {
          "output_type": "stream",
          "name": "stdout",
          "text": [
            "\n",
            "      Epoch    GPU_mem   box_loss   cls_loss   dfl_loss  Instances       Size\n"
          ]
        },
        {
          "output_type": "stream",
          "name": "stderr",
          "text": [
            "     49/100      11.1G     0.9092     0.7979      1.022        362       1024: 100%|██████████| 5/5 [00:05<00:00,  1.06s/it]\n",
            "                 Class     Images  Instances      Box(P          R      mAP50  mAP50-95): 100%|██████████| 1/1 [00:00<00:00,  2.27it/s]"
          ]
        },
        {
          "output_type": "stream",
          "name": "stdout",
          "text": [
            "                   all         20        152      0.925      0.959      0.977      0.737\n"
          ]
        },
        {
          "output_type": "stream",
          "name": "stderr",
          "text": [
            "\n"
          ]
        },
        {
          "output_type": "stream",
          "name": "stdout",
          "text": [
            "\n",
            "      Epoch    GPU_mem   box_loss   cls_loss   dfl_loss  Instances       Size\n"
          ]
        },
        {
          "output_type": "stream",
          "name": "stderr",
          "text": [
            "     50/100      11.3G     0.9075     0.7824      1.027        382       1024: 100%|██████████| 5/5 [00:05<00:00,  1.15s/it]\n",
            "                 Class     Images  Instances      Box(P          R      mAP50  mAP50-95): 100%|██████████| 1/1 [00:00<00:00,  1.68it/s]"
          ]
        },
        {
          "output_type": "stream",
          "name": "stdout",
          "text": [
            "                   all         20        152      0.928       0.94      0.974      0.726\n"
          ]
        },
        {
          "output_type": "stream",
          "name": "stderr",
          "text": [
            "\n"
          ]
        },
        {
          "output_type": "stream",
          "name": "stdout",
          "text": [
            "\n",
            "      Epoch    GPU_mem   box_loss   cls_loss   dfl_loss  Instances       Size\n"
          ]
        },
        {
          "output_type": "stream",
          "name": "stderr",
          "text": [
            "     51/100      11.1G     0.9179     0.7883      1.043        373       1024: 100%|██████████| 5/5 [00:05<00:00,  1.07s/it]\n",
            "                 Class     Images  Instances      Box(P          R      mAP50  mAP50-95): 100%|██████████| 1/1 [00:00<00:00,  2.12it/s]"
          ]
        },
        {
          "output_type": "stream",
          "name": "stdout",
          "text": [
            "                   all         20        152      0.921      0.935      0.977      0.721\n"
          ]
        },
        {
          "output_type": "stream",
          "name": "stderr",
          "text": [
            "\n"
          ]
        },
        {
          "output_type": "stream",
          "name": "stdout",
          "text": [
            "\n",
            "      Epoch    GPU_mem   box_loss   cls_loss   dfl_loss  Instances       Size\n"
          ]
        },
        {
          "output_type": "stream",
          "name": "stderr",
          "text": [
            "     52/100      11.3G     0.9045     0.7825      1.032        426       1024: 100%|██████████| 5/5 [00:05<00:00,  1.12s/it]\n",
            "                 Class     Images  Instances      Box(P          R      mAP50  mAP50-95): 100%|██████████| 1/1 [00:00<00:00,  2.67it/s]"
          ]
        },
        {
          "output_type": "stream",
          "name": "stdout",
          "text": [
            "                   all         20        152      0.906      0.974      0.976      0.718\n"
          ]
        },
        {
          "output_type": "stream",
          "name": "stderr",
          "text": [
            "\n"
          ]
        },
        {
          "output_type": "stream",
          "name": "stdout",
          "text": [
            "\n",
            "      Epoch    GPU_mem   box_loss   cls_loss   dfl_loss  Instances       Size\n"
          ]
        },
        {
          "output_type": "stream",
          "name": "stderr",
          "text": [
            "     53/100        11G      0.901     0.7789      1.031        417       1024: 100%|██████████| 5/5 [00:05<00:00,  1.01s/it]\n",
            "                 Class     Images  Instances      Box(P          R      mAP50  mAP50-95): 100%|██████████| 1/1 [00:00<00:00,  2.01it/s]"
          ]
        },
        {
          "output_type": "stream",
          "name": "stdout",
          "text": [
            "                   all         20        152      0.939      0.959      0.978       0.74\n"
          ]
        },
        {
          "output_type": "stream",
          "name": "stderr",
          "text": [
            "\n"
          ]
        },
        {
          "output_type": "stream",
          "name": "stdout",
          "text": [
            "\n",
            "      Epoch    GPU_mem   box_loss   cls_loss   dfl_loss  Instances       Size\n"
          ]
        },
        {
          "output_type": "stream",
          "name": "stderr",
          "text": [
            "     54/100      11.2G     0.9212     0.7765      1.015        479       1024: 100%|██████████| 5/5 [00:05<00:00,  1.19s/it]\n",
            "                 Class     Images  Instances      Box(P          R      mAP50  mAP50-95): 100%|██████████| 1/1 [00:00<00:00,  2.27it/s]"
          ]
        },
        {
          "output_type": "stream",
          "name": "stdout",
          "text": [
            "                   all         20        152      0.942      0.974      0.981      0.691\n"
          ]
        },
        {
          "output_type": "stream",
          "name": "stderr",
          "text": [
            "\n"
          ]
        },
        {
          "output_type": "stream",
          "name": "stdout",
          "text": [
            "\n",
            "      Epoch    GPU_mem   box_loss   cls_loss   dfl_loss  Instances       Size\n"
          ]
        },
        {
          "output_type": "stream",
          "name": "stderr",
          "text": [
            "     55/100      10.9G     0.8939     0.7712      1.011        390       1024: 100%|██████████| 5/5 [00:05<00:00,  1.06s/it]\n",
            "                 Class     Images  Instances      Box(P          R      mAP50  mAP50-95): 100%|██████████| 1/1 [00:00<00:00,  1.68it/s]"
          ]
        },
        {
          "output_type": "stream",
          "name": "stdout",
          "text": [
            "                   all         20        152      0.934      0.965      0.978       0.72\n"
          ]
        },
        {
          "output_type": "stream",
          "name": "stderr",
          "text": [
            "\n"
          ]
        },
        {
          "output_type": "stream",
          "name": "stdout",
          "text": [
            "\n",
            "      Epoch    GPU_mem   box_loss   cls_loss   dfl_loss  Instances       Size\n"
          ]
        },
        {
          "output_type": "stream",
          "name": "stderr",
          "text": [
            "     56/100      11.3G      0.889      0.749      1.021        402       1024: 100%|██████████| 5/5 [00:04<00:00,  1.03it/s]\n",
            "                 Class     Images  Instances      Box(P          R      mAP50  mAP50-95): 100%|██████████| 1/1 [00:00<00:00,  2.57it/s]"
          ]
        },
        {
          "output_type": "stream",
          "name": "stdout",
          "text": [
            "                   all         20        152      0.954      0.972      0.982      0.738\n"
          ]
        },
        {
          "output_type": "stream",
          "name": "stderr",
          "text": [
            "\n"
          ]
        },
        {
          "output_type": "stream",
          "name": "stdout",
          "text": [
            "\n",
            "      Epoch    GPU_mem   box_loss   cls_loss   dfl_loss  Instances       Size\n"
          ]
        },
        {
          "output_type": "stream",
          "name": "stderr",
          "text": [
            "     57/100      11.2G     0.8924     0.7542      1.011        402       1024: 100%|██████████| 5/5 [00:05<00:00,  1.13s/it]\n",
            "                 Class     Images  Instances      Box(P          R      mAP50  mAP50-95): 100%|██████████| 1/1 [00:00<00:00,  2.03it/s]"
          ]
        },
        {
          "output_type": "stream",
          "name": "stdout",
          "text": [
            "                   all         20        152      0.941      0.967      0.981      0.707\n"
          ]
        },
        {
          "output_type": "stream",
          "name": "stderr",
          "text": [
            "\n"
          ]
        },
        {
          "output_type": "stream",
          "name": "stdout",
          "text": [
            "\n",
            "      Epoch    GPU_mem   box_loss   cls_loss   dfl_loss  Instances       Size\n"
          ]
        },
        {
          "output_type": "stream",
          "name": "stderr",
          "text": [
            "     58/100      11.3G     0.8846     0.7481      1.011        430       1024: 100%|██████████| 5/5 [00:05<00:00,  1.12s/it]\n",
            "                 Class     Images  Instances      Box(P          R      mAP50  mAP50-95): 100%|██████████| 1/1 [00:00<00:00,  2.72it/s]"
          ]
        },
        {
          "output_type": "stream",
          "name": "stdout",
          "text": [
            "                   all         20        152      0.939      0.994      0.977      0.719\n"
          ]
        },
        {
          "output_type": "stream",
          "name": "stderr",
          "text": [
            "\n"
          ]
        },
        {
          "output_type": "stream",
          "name": "stdout",
          "text": [
            "\n",
            "      Epoch    GPU_mem   box_loss   cls_loss   dfl_loss  Instances       Size\n"
          ]
        },
        {
          "output_type": "stream",
          "name": "stderr",
          "text": [
            "     59/100      11.1G     0.8911     0.7531      1.025        329       1024: 100%|██████████| 5/5 [00:05<00:00,  1.11s/it]\n",
            "                 Class     Images  Instances      Box(P          R      mAP50  mAP50-95): 100%|██████████| 1/1 [00:00<00:00,  2.65it/s]"
          ]
        },
        {
          "output_type": "stream",
          "name": "stdout",
          "text": [
            "                   all         20        152      0.938      0.993      0.978      0.726\n"
          ]
        },
        {
          "output_type": "stream",
          "name": "stderr",
          "text": [
            "\n"
          ]
        },
        {
          "output_type": "stream",
          "name": "stdout",
          "text": [
            "\n",
            "      Epoch    GPU_mem   box_loss   cls_loss   dfl_loss  Instances       Size\n"
          ]
        },
        {
          "output_type": "stream",
          "name": "stderr",
          "text": [
            "     60/100      11.1G     0.8852     0.7427      1.008        377       1024: 100%|██████████| 5/5 [00:05<00:00,  1.01s/it]\n",
            "                 Class     Images  Instances      Box(P          R      mAP50  mAP50-95): 100%|██████████| 1/1 [00:00<00:00,  1.53it/s]"
          ]
        },
        {
          "output_type": "stream",
          "name": "stdout",
          "text": [
            "                   all         20        152      0.936       0.99      0.977       0.72\n"
          ]
        },
        {
          "output_type": "stream",
          "name": "stderr",
          "text": [
            "\n"
          ]
        },
        {
          "output_type": "stream",
          "name": "stdout",
          "text": [
            "\n",
            "      Epoch    GPU_mem   box_loss   cls_loss   dfl_loss  Instances       Size\n"
          ]
        },
        {
          "output_type": "stream",
          "name": "stderr",
          "text": [
            "     61/100        11G     0.8746     0.7469      1.013        380       1024: 100%|██████████| 5/5 [00:05<00:00,  1.12s/it]\n",
            "                 Class     Images  Instances      Box(P          R      mAP50  mAP50-95): 100%|██████████| 1/1 [00:00<00:00,  3.05it/s]"
          ]
        },
        {
          "output_type": "stream",
          "name": "stdout",
          "text": [
            "                   all         20        152      0.943      0.967      0.984      0.738\n"
          ]
        },
        {
          "output_type": "stream",
          "name": "stderr",
          "text": [
            "\n"
          ]
        },
        {
          "output_type": "stream",
          "name": "stdout",
          "text": [
            "\n",
            "      Epoch    GPU_mem   box_loss   cls_loss   dfl_loss  Instances       Size\n"
          ]
        },
        {
          "output_type": "stream",
          "name": "stderr",
          "text": [
            "     62/100      11.5G     0.8762     0.7391      1.007        414       1024: 100%|██████████| 5/5 [00:05<00:00,  1.19s/it]\n",
            "                 Class     Images  Instances      Box(P          R      mAP50  mAP50-95): 100%|██████████| 1/1 [00:00<00:00,  2.08it/s]"
          ]
        },
        {
          "output_type": "stream",
          "name": "stdout",
          "text": [
            "                   all         20        152      0.909      0.978      0.979       0.72\n"
          ]
        },
        {
          "output_type": "stream",
          "name": "stderr",
          "text": [
            "\n"
          ]
        },
        {
          "output_type": "stream",
          "name": "stdout",
          "text": [
            "\n",
            "      Epoch    GPU_mem   box_loss   cls_loss   dfl_loss  Instances       Size\n"
          ]
        },
        {
          "output_type": "stream",
          "name": "stderr",
          "text": [
            "     63/100      11.1G     0.8692     0.7518      1.012        361       1024: 100%|██████████| 5/5 [00:05<00:00,  1.01s/it]\n",
            "                 Class     Images  Instances      Box(P          R      mAP50  mAP50-95): 100%|██████████| 1/1 [00:00<00:00,  2.43it/s]"
          ]
        },
        {
          "output_type": "stream",
          "name": "stdout",
          "text": [
            "                   all         20        152      0.925      0.983      0.987      0.734\n"
          ]
        },
        {
          "output_type": "stream",
          "name": "stderr",
          "text": [
            "\n"
          ]
        },
        {
          "output_type": "stream",
          "name": "stdout",
          "text": [
            "\n",
            "      Epoch    GPU_mem   box_loss   cls_loss   dfl_loss  Instances       Size\n"
          ]
        },
        {
          "output_type": "stream",
          "name": "stderr",
          "text": [
            "     64/100      10.8G     0.8601     0.7393      1.006        315       1024: 100%|██████████| 5/5 [00:05<00:00,  1.19s/it]\n",
            "                 Class     Images  Instances      Box(P          R      mAP50  mAP50-95): 100%|██████████| 1/1 [00:00<00:00,  2.03it/s]"
          ]
        },
        {
          "output_type": "stream",
          "name": "stdout",
          "text": [
            "                   all         20        152      0.961      0.955      0.981      0.733\n"
          ]
        },
        {
          "output_type": "stream",
          "name": "stderr",
          "text": [
            "\n"
          ]
        },
        {
          "output_type": "stream",
          "name": "stdout",
          "text": [
            "\n",
            "      Epoch    GPU_mem   box_loss   cls_loss   dfl_loss  Instances       Size\n"
          ]
        },
        {
          "output_type": "stream",
          "name": "stderr",
          "text": [
            "     65/100      11.4G     0.8619     0.7254     0.9954        403       1024: 100%|██████████| 5/5 [00:05<00:00,  1.12s/it]\n",
            "                 Class     Images  Instances      Box(P          R      mAP50  mAP50-95): 100%|██████████| 1/1 [00:00<00:00,  2.15it/s]"
          ]
        },
        {
          "output_type": "stream",
          "name": "stdout",
          "text": [
            "                   all         20        152      0.942      0.957      0.984      0.747\n"
          ]
        },
        {
          "output_type": "stream",
          "name": "stderr",
          "text": [
            "\n"
          ]
        },
        {
          "output_type": "stream",
          "name": "stdout",
          "text": [
            "\n",
            "      Epoch    GPU_mem   box_loss   cls_loss   dfl_loss  Instances       Size\n"
          ]
        },
        {
          "output_type": "stream",
          "name": "stderr",
          "text": [
            "     66/100      11.1G     0.8509     0.7202     0.9894        448       1024: 100%|██████████| 5/5 [00:05<00:00,  1.10s/it]\n",
            "                 Class     Images  Instances      Box(P          R      mAP50  mAP50-95): 100%|██████████| 1/1 [00:00<00:00,  2.79it/s]"
          ]
        },
        {
          "output_type": "stream",
          "name": "stdout",
          "text": [
            "                   all         20        152      0.943      0.953      0.982      0.742\n"
          ]
        },
        {
          "output_type": "stream",
          "name": "stderr",
          "text": [
            "\n"
          ]
        },
        {
          "output_type": "stream",
          "name": "stdout",
          "text": [
            "\n",
            "      Epoch    GPU_mem   box_loss   cls_loss   dfl_loss  Instances       Size\n"
          ]
        },
        {
          "output_type": "stream",
          "name": "stderr",
          "text": [
            "     67/100      11.1G     0.8493     0.7448       1.01        418       1024: 100%|██████████| 5/5 [00:06<00:00,  1.29s/it]\n",
            "                 Class     Images  Instances      Box(P          R      mAP50  mAP50-95): 100%|██████████| 1/1 [00:00<00:00,  2.36it/s]"
          ]
        },
        {
          "output_type": "stream",
          "name": "stdout",
          "text": [
            "                   all         20        152      0.969      0.951      0.985      0.734\n"
          ]
        },
        {
          "output_type": "stream",
          "name": "stderr",
          "text": [
            "\n"
          ]
        },
        {
          "output_type": "stream",
          "name": "stdout",
          "text": [
            "\n",
            "      Epoch    GPU_mem   box_loss   cls_loss   dfl_loss  Instances       Size\n"
          ]
        },
        {
          "output_type": "stream",
          "name": "stderr",
          "text": [
            "     68/100      11.2G     0.8307      0.708     0.9899        388       1024: 100%|██████████| 5/5 [00:04<00:00,  1.19it/s]\n",
            "                 Class     Images  Instances      Box(P          R      mAP50  mAP50-95): 100%|██████████| 1/1 [00:00<00:00,  2.55it/s]"
          ]
        },
        {
          "output_type": "stream",
          "name": "stdout",
          "text": [
            "                   all         20        152      0.945      0.968      0.983      0.725\n"
          ]
        },
        {
          "output_type": "stream",
          "name": "stderr",
          "text": [
            "\n"
          ]
        },
        {
          "output_type": "stream",
          "name": "stdout",
          "text": [
            "\n",
            "      Epoch    GPU_mem   box_loss   cls_loss   dfl_loss  Instances       Size\n"
          ]
        },
        {
          "output_type": "stream",
          "name": "stderr",
          "text": [
            "     69/100      10.8G     0.8599     0.7305      1.011        396       1024: 100%|██████████| 5/5 [00:05<00:00,  1.17s/it]\n",
            "                 Class     Images  Instances      Box(P          R      mAP50  mAP50-95): 100%|██████████| 1/1 [00:00<00:00,  2.48it/s]"
          ]
        },
        {
          "output_type": "stream",
          "name": "stdout",
          "text": [
            "                   all         20        152      0.939       0.98      0.982      0.737\n"
          ]
        },
        {
          "output_type": "stream",
          "name": "stderr",
          "text": [
            "\n"
          ]
        },
        {
          "output_type": "stream",
          "name": "stdout",
          "text": [
            "\n",
            "      Epoch    GPU_mem   box_loss   cls_loss   dfl_loss  Instances       Size\n"
          ]
        },
        {
          "output_type": "stream",
          "name": "stderr",
          "text": [
            "     70/100      11.5G      0.832      0.702     0.9765        442       1024: 100%|██████████| 5/5 [00:04<00:00,  1.02it/s]\n",
            "                 Class     Images  Instances      Box(P          R      mAP50  mAP50-95): 100%|██████████| 1/1 [00:00<00:00,  1.93it/s]"
          ]
        },
        {
          "output_type": "stream",
          "name": "stdout",
          "text": [
            "                   all         20        152      0.962       0.97       0.99      0.736\n"
          ]
        },
        {
          "output_type": "stream",
          "name": "stderr",
          "text": [
            "\n"
          ]
        },
        {
          "output_type": "stream",
          "name": "stdout",
          "text": [
            "\n",
            "      Epoch    GPU_mem   box_loss   cls_loss   dfl_loss  Instances       Size\n"
          ]
        },
        {
          "output_type": "stream",
          "name": "stderr",
          "text": [
            "     71/100      11.1G     0.8355     0.7049     0.9914        381       1024: 100%|██████████| 5/5 [00:05<00:00,  1.05s/it]\n",
            "                 Class     Images  Instances      Box(P          R      mAP50  mAP50-95): 100%|██████████| 1/1 [00:00<00:00,  2.71it/s]"
          ]
        },
        {
          "output_type": "stream",
          "name": "stdout",
          "text": [
            "                   all         20        152      0.953      0.966       0.99      0.734\n"
          ]
        },
        {
          "output_type": "stream",
          "name": "stderr",
          "text": [
            "\n"
          ]
        },
        {
          "output_type": "stream",
          "name": "stdout",
          "text": [
            "\n",
            "      Epoch    GPU_mem   box_loss   cls_loss   dfl_loss  Instances       Size\n"
          ]
        },
        {
          "output_type": "stream",
          "name": "stderr",
          "text": [
            "     72/100      11.2G     0.8066     0.6914      0.971        368       1024: 100%|██████████| 5/5 [00:06<00:00,  1.22s/it]\n",
            "                 Class     Images  Instances      Box(P          R      mAP50  mAP50-95): 100%|██████████| 1/1 [00:00<00:00,  2.64it/s]"
          ]
        },
        {
          "output_type": "stream",
          "name": "stdout",
          "text": [
            "                   all         20        152      0.962      0.958       0.99       0.74\n"
          ]
        },
        {
          "output_type": "stream",
          "name": "stderr",
          "text": [
            "\n"
          ]
        },
        {
          "output_type": "stream",
          "name": "stdout",
          "text": [
            "\n",
            "      Epoch    GPU_mem   box_loss   cls_loss   dfl_loss  Instances       Size\n"
          ]
        },
        {
          "output_type": "stream",
          "name": "stderr",
          "text": [
            "     73/100        11G      0.812     0.6933     0.9705        426       1024: 100%|██████████| 5/5 [00:05<00:00,  1.03s/it]\n",
            "                 Class     Images  Instances      Box(P          R      mAP50  mAP50-95): 100%|██████████| 1/1 [00:00<00:00,  2.55it/s]"
          ]
        },
        {
          "output_type": "stream",
          "name": "stdout",
          "text": [
            "                   all         20        152      0.967      0.961      0.992      0.742\n"
          ]
        },
        {
          "output_type": "stream",
          "name": "stderr",
          "text": [
            "\n"
          ]
        },
        {
          "output_type": "stream",
          "name": "stdout",
          "text": [
            "\n",
            "      Epoch    GPU_mem   box_loss   cls_loss   dfl_loss  Instances       Size\n"
          ]
        },
        {
          "output_type": "stream",
          "name": "stderr",
          "text": [
            "     74/100      11.4G      0.815     0.6826       0.98        431       1024: 100%|██████████| 5/5 [00:05<00:00,  1.12s/it]\n",
            "                 Class     Images  Instances      Box(P          R      mAP50  mAP50-95): 100%|██████████| 1/1 [00:00<00:00,  2.13it/s]"
          ]
        },
        {
          "output_type": "stream",
          "name": "stdout",
          "text": [
            "                   all         20        152      0.966      0.966      0.988      0.731\n"
          ]
        },
        {
          "output_type": "stream",
          "name": "stderr",
          "text": [
            "\n"
          ]
        },
        {
          "output_type": "stream",
          "name": "stdout",
          "text": [
            "\n",
            "      Epoch    GPU_mem   box_loss   cls_loss   dfl_loss  Instances       Size\n"
          ]
        },
        {
          "output_type": "stream",
          "name": "stderr",
          "text": [
            "     75/100      11.6G     0.8133     0.7042     0.9906        350       1024: 100%|██████████| 5/5 [00:05<00:00,  1.02s/it]\n",
            "                 Class     Images  Instances      Box(P          R      mAP50  mAP50-95): 100%|██████████| 1/1 [00:00<00:00,  1.86it/s]"
          ]
        },
        {
          "output_type": "stream",
          "name": "stdout",
          "text": [
            "                   all         20        152      0.963      0.967       0.99      0.737\n"
          ]
        },
        {
          "output_type": "stream",
          "name": "stderr",
          "text": [
            "\n"
          ]
        },
        {
          "output_type": "stream",
          "name": "stdout",
          "text": [
            "\n",
            "      Epoch    GPU_mem   box_loss   cls_loss   dfl_loss  Instances       Size\n"
          ]
        },
        {
          "output_type": "stream",
          "name": "stderr",
          "text": [
            "     76/100      11.2G     0.8134     0.6876      0.977        390       1024: 100%|██████████| 5/5 [00:05<00:00,  1.01s/it]\n",
            "                 Class     Images  Instances      Box(P          R      mAP50  mAP50-95): 100%|██████████| 1/1 [00:00<00:00,  2.04it/s]"
          ]
        },
        {
          "output_type": "stream",
          "name": "stdout",
          "text": [
            "                   all         20        152      0.964      0.961      0.988      0.737\n"
          ]
        },
        {
          "output_type": "stream",
          "name": "stderr",
          "text": [
            "\n"
          ]
        },
        {
          "output_type": "stream",
          "name": "stdout",
          "text": [
            "\n",
            "      Epoch    GPU_mem   box_loss   cls_loss   dfl_loss  Instances       Size\n"
          ]
        },
        {
          "output_type": "stream",
          "name": "stderr",
          "text": [
            "     77/100      11.4G     0.7937     0.6738     0.9745        416       1024: 100%|██████████| 5/5 [00:06<00:00,  1.23s/it]\n",
            "                 Class     Images  Instances      Box(P          R      mAP50  mAP50-95): 100%|██████████| 1/1 [00:00<00:00,  2.73it/s]"
          ]
        },
        {
          "output_type": "stream",
          "name": "stdout",
          "text": [
            "                   all         20        152      0.931      0.974      0.982      0.727\n"
          ]
        },
        {
          "output_type": "stream",
          "name": "stderr",
          "text": [
            "\n"
          ]
        },
        {
          "output_type": "stream",
          "name": "stdout",
          "text": [
            "\n",
            "      Epoch    GPU_mem   box_loss   cls_loss   dfl_loss  Instances       Size\n"
          ]
        },
        {
          "output_type": "stream",
          "name": "stderr",
          "text": [
            "     78/100      11.2G     0.7903     0.6711     0.9668        390       1024: 100%|██████████| 5/5 [00:04<00:00,  1.15it/s]\n",
            "                 Class     Images  Instances      Box(P          R      mAP50  mAP50-95): 100%|██████████| 1/1 [00:00<00:00,  1.96it/s]"
          ]
        },
        {
          "output_type": "stream",
          "name": "stdout",
          "text": [
            "                   all         20        152      0.956       0.95      0.981      0.728\n"
          ]
        },
        {
          "output_type": "stream",
          "name": "stderr",
          "text": [
            "\n"
          ]
        },
        {
          "output_type": "stream",
          "name": "stdout",
          "text": [
            "\n",
            "      Epoch    GPU_mem   box_loss   cls_loss   dfl_loss  Instances       Size\n"
          ]
        },
        {
          "output_type": "stream",
          "name": "stderr",
          "text": [
            "     79/100      11.2G     0.8078     0.6919     0.9865        369       1024: 100%|██████████| 5/5 [00:06<00:00,  1.22s/it]\n",
            "                 Class     Images  Instances      Box(P          R      mAP50  mAP50-95): 100%|██████████| 1/1 [00:00<00:00,  2.63it/s]"
          ]
        },
        {
          "output_type": "stream",
          "name": "stdout",
          "text": [
            "                   all         20        152      0.958      0.951      0.982      0.725\n"
          ]
        },
        {
          "output_type": "stream",
          "name": "stderr",
          "text": [
            "\n"
          ]
        },
        {
          "output_type": "stream",
          "name": "stdout",
          "text": [
            "\n",
            "      Epoch    GPU_mem   box_loss   cls_loss   dfl_loss  Instances       Size\n"
          ]
        },
        {
          "output_type": "stream",
          "name": "stderr",
          "text": [
            "     80/100      11.2G     0.7933     0.6687     0.9766        311       1024: 100%|██████████| 5/5 [00:04<00:00,  1.02it/s]\n",
            "                 Class     Images  Instances      Box(P          R      mAP50  mAP50-95): 100%|██████████| 1/1 [00:00<00:00,  1.59it/s]"
          ]
        },
        {
          "output_type": "stream",
          "name": "stdout",
          "text": [
            "                   all         20        152      0.965      0.957      0.982      0.719\n"
          ]
        },
        {
          "output_type": "stream",
          "name": "stderr",
          "text": [
            "\n"
          ]
        },
        {
          "output_type": "stream",
          "name": "stdout",
          "text": [
            "\n",
            "      Epoch    GPU_mem   box_loss   cls_loss   dfl_loss  Instances       Size\n"
          ]
        },
        {
          "output_type": "stream",
          "name": "stderr",
          "text": [
            "     81/100      11.3G     0.7943     0.6678     0.9731        405       1024: 100%|██████████| 5/5 [00:05<00:00,  1.09s/it]\n",
            "                 Class     Images  Instances      Box(P          R      mAP50  mAP50-95): 100%|██████████| 1/1 [00:00<00:00,  2.57it/s]"
          ]
        },
        {
          "output_type": "stream",
          "name": "stdout",
          "text": [
            "                   all         20        152      0.975      0.949      0.985      0.734\n"
          ]
        },
        {
          "output_type": "stream",
          "name": "stderr",
          "text": [
            "\n"
          ]
        },
        {
          "output_type": "stream",
          "name": "stdout",
          "text": [
            "\n",
            "      Epoch    GPU_mem   box_loss   cls_loss   dfl_loss  Instances       Size\n"
          ]
        },
        {
          "output_type": "stream",
          "name": "stderr",
          "text": [
            "     82/100      11.2G     0.7925     0.6847     0.9836        349       1024: 100%|██████████| 5/5 [00:05<00:00,  1.20s/it]\n",
            "                 Class     Images  Instances      Box(P          R      mAP50  mAP50-95): 100%|██████████| 1/1 [00:00<00:00,  1.97it/s]"
          ]
        },
        {
          "output_type": "stream",
          "name": "stdout",
          "text": [
            "                   all         20        152      0.971      0.946      0.984      0.738\n"
          ]
        },
        {
          "output_type": "stream",
          "name": "stderr",
          "text": [
            "\n"
          ]
        },
        {
          "output_type": "stream",
          "name": "stdout",
          "text": [
            "\n",
            "      Epoch    GPU_mem   box_loss   cls_loss   dfl_loss  Instances       Size\n"
          ]
        },
        {
          "output_type": "stream",
          "name": "stderr",
          "text": [
            "     83/100      11.2G     0.7875     0.6672     0.9792        409       1024: 100%|██████████| 5/5 [00:05<00:00,  1.10s/it]\n",
            "                 Class     Images  Instances      Box(P          R      mAP50  mAP50-95): 100%|██████████| 1/1 [00:00<00:00,  1.97it/s]"
          ]
        },
        {
          "output_type": "stream",
          "name": "stdout",
          "text": [
            "                   all         20        152      0.977      0.941      0.985      0.735\n"
          ]
        },
        {
          "output_type": "stream",
          "name": "stderr",
          "text": [
            "\n"
          ]
        },
        {
          "output_type": "stream",
          "name": "stdout",
          "text": [
            "\n",
            "      Epoch    GPU_mem   box_loss   cls_loss   dfl_loss  Instances       Size\n"
          ]
        },
        {
          "output_type": "stream",
          "name": "stderr",
          "text": [
            "     84/100      11.2G     0.7659     0.6472     0.9549        391       1024: 100%|██████████| 5/5 [00:06<00:00,  1.22s/it]\n",
            "                 Class     Images  Instances      Box(P          R      mAP50  mAP50-95): 100%|██████████| 1/1 [00:00<00:00,  2.55it/s]"
          ]
        },
        {
          "output_type": "stream",
          "name": "stdout",
          "text": [
            "                   all         20        152      0.934      0.962      0.982      0.726\n"
          ]
        },
        {
          "output_type": "stream",
          "name": "stderr",
          "text": [
            "\n"
          ]
        },
        {
          "output_type": "stream",
          "name": "stdout",
          "text": [
            "\n",
            "      Epoch    GPU_mem   box_loss   cls_loss   dfl_loss  Instances       Size\n"
          ]
        },
        {
          "output_type": "stream",
          "name": "stderr",
          "text": [
            "     85/100      11.1G     0.7767     0.6571     0.9662        399       1024: 100%|██████████| 5/5 [00:06<00:00,  1.25s/it]\n",
            "                 Class     Images  Instances      Box(P          R      mAP50  mAP50-95): 100%|██████████| 1/1 [00:00<00:00,  1.89it/s]"
          ]
        },
        {
          "output_type": "stream",
          "name": "stdout",
          "text": [
            "                   all         20        152      0.948      0.966       0.98      0.729\n",
            "\u001b[34m\u001b[1mEarlyStopping: \u001b[0mTraining stopped early as no improvement observed in last 20 epochs. Best results observed at epoch 65, best model saved as best.pt.\n",
            "To update EarlyStopping(patience=20) pass a new patience value, i.e. `patience=300` or use `patience=0` to disable EarlyStopping.\n"
          ]
        },
        {
          "output_type": "stream",
          "name": "stderr",
          "text": [
            "\n"
          ]
        },
        {
          "output_type": "stream",
          "name": "stdout",
          "text": [
            "\n",
            "85 epochs completed in 0.192 hours.\n",
            "Optimizer stripped from runs/detect/YOLO_test_project12/weights/last.pt, 5.5MB\n",
            "Optimizer stripped from runs/detect/YOLO_test_project12/weights/best.pt, 5.5MB\n",
            "\n",
            "Validating runs/detect/YOLO_test_project12/weights/best.pt...\n",
            "Ultralytics 8.3.159 🚀 Python-3.11.13 torch-2.6.0+cu124 CUDA:0 (Tesla T4, 15095MiB)\n",
            "YOLO11n summary (fused): 100 layers, 2,584,687 parameters, 0 gradients, 6.3 GFLOPs\n"
          ]
        },
        {
          "output_type": "stream",
          "name": "stderr",
          "text": [
            "                 Class     Images  Instances      Box(P          R      mAP50  mAP50-95): 100%|██████████| 1/1 [00:00<00:00,  1.44it/s]\n"
          ]
        },
        {
          "output_type": "stream",
          "name": "stdout",
          "text": [
            "                   all         20        152      0.942      0.957      0.984      0.749\n",
            "                people          9         17      0.921          1      0.995      0.672\n",
            "                  fork          7         10      0.985        0.9      0.978      0.782\n",
            "                 spoon         15         25      0.955      0.854      0.957      0.603\n",
            "                   cup         16         21      0.988          1      0.995      0.692\n",
            "                kettle          9          9      0.951          1      0.995      0.781\n",
            "                basket         10         10      0.958          1      0.995      0.762\n",
            "                 salad         11         11       0.96          1      0.995      0.766\n",
            "                  ribs         10         10      0.953          1      0.995      0.894\n",
            "                Caesar         15         15          1      0.908      0.995      0.823\n",
            "                  fish          5          5      0.918          1      0.995       0.86\n",
            "                  soup          8          8      0.861       0.78      0.926      0.549\n",
            "                borsch          8          8      0.886          1      0.982      0.711\n",
            "                 phone          3          3       0.91          1      0.995      0.841\n",
            "Speed: 0.7ms preprocess, 7.0ms inference, 0.0ms loss, 5.0ms postprocess per image\n",
            "Results saved to \u001b[1mruns/detect/YOLO_test_project12\u001b[0m\n"
          ]
        }
      ]
    },
    {
      "cell_type": "markdown",
      "source": [
        "# Создание видеофайла с результатом работы модели"
      ],
      "metadata": {
        "id": "yR8ANpSGkgDx"
      }
    },
    {
      "cell_type": "code",
      "source": [
        "import cv2\n",
        "\n",
        "cap = cv2.VideoCapture('3_1.MOV')\n",
        "ret, frame = cap.read()\n",
        "height, width, layers = frame.shape\n",
        "\n",
        "video_name = 'output_video.avi'\n",
        "fps = 30\n",
        "\n",
        "\n",
        "fourcc = cv2.VideoWriter_fourcc(*'XVID')\n",
        "video = cv2.VideoWriter(video_name, fourcc, fps, (width, height))\n",
        "\n",
        "while cap.isOpened():\n",
        "  ret, frame = cap.read()\n",
        "  if not ret:\n",
        "    break\n",
        "  res = model(frame, conf=0.5)\n",
        "\n",
        "  video.write(res[0].plot())\n",
        "\n",
        "\n",
        "video.release()"
      ],
      "metadata": {
        "colab": {
          "base_uri": "https://localhost:8080/"
        },
        "id": "4ta0Holgii5-",
        "outputId": "eea3dfa9-2094-4cd5-9f07-4bf10578ec21"
      },
      "execution_count": null,
      "outputs": [
        {
          "output_type": "stream",
          "name": "stdout",
          "text": [
            "\u001b[1;30;43mВыходные данные были обрезаны до нескольких последних строк (5000).\u001b[0m\n",
            "0: 384x640 2 peoples, 2 forks, 3 spoons, 2 cups, 1 kettle, 1 basket, 1 salad, 1 ribs, 1 Caesar, 1 fish, 1 soup, 1 borsch, 1 phone, 16.1ms\n",
            "Speed: 3.7ms preprocess, 16.1ms inference, 2.4ms postprocess per image at shape (1, 3, 384, 640)\n",
            "\n",
            "0: 384x640 2 peoples, 2 forks, 3 spoons, 2 cups, 1 kettle, 1 basket, 1 salad, 1 ribs, 1 Caesar, 1 fish, 1 soup, 1 borsch, 1 phone, 16.6ms\n",
            "Speed: 10.0ms preprocess, 16.6ms inference, 2.2ms postprocess per image at shape (1, 3, 384, 640)\n",
            "\n",
            "0: 384x640 2 peoples, 2 forks, 3 spoons, 2 cups, 1 kettle, 1 basket, 1 salad, 1 ribs, 1 Caesar, 1 fish, 1 soup, 1 borsch, 1 phone, 15.4ms\n",
            "Speed: 6.6ms preprocess, 15.4ms inference, 2.2ms postprocess per image at shape (1, 3, 384, 640)\n",
            "\n",
            "0: 384x640 2 peoples, 2 forks, 3 spoons, 2 cups, 1 kettle, 1 basket, 1 salad, 1 ribs, 1 Caesar, 1 fish, 1 soup, 1 borsch, 1 phone, 16.2ms\n",
            "Speed: 3.9ms preprocess, 16.2ms inference, 2.3ms postprocess per image at shape (1, 3, 384, 640)\n",
            "\n",
            "0: 384x640 2 peoples, 2 forks, 3 spoons, 2 cups, 1 kettle, 1 basket, 1 salad, 1 ribs, 1 Caesar, 1 fish, 1 soup, 1 borsch, 1 phone, 16.5ms\n",
            "Speed: 3.7ms preprocess, 16.5ms inference, 3.2ms postprocess per image at shape (1, 3, 384, 640)\n",
            "\n",
            "0: 384x640 2 peoples, 2 forks, 3 spoons, 2 cups, 1 kettle, 1 basket, 1 salad, 1 ribs, 1 Caesar, 1 fish, 1 soup, 1 borsch, 1 phone, 16.0ms\n",
            "Speed: 3.7ms preprocess, 16.0ms inference, 2.3ms postprocess per image at shape (1, 3, 384, 640)\n",
            "\n",
            "0: 384x640 2 peoples, 2 forks, 3 spoons, 2 cups, 1 kettle, 1 basket, 1 salad, 1 ribs, 1 Caesar, 1 fish, 1 soup, 1 borsch, 1 phone, 15.1ms\n",
            "Speed: 10.6ms preprocess, 15.1ms inference, 2.2ms postprocess per image at shape (1, 3, 384, 640)\n",
            "\n",
            "0: 384x640 2 peoples, 2 forks, 3 spoons, 2 cups, 1 kettle, 1 basket, 1 salad, 1 ribs, 1 Caesar, 1 fish, 1 soup, 1 borsch, 1 phone, 21.0ms\n",
            "Speed: 3.9ms preprocess, 21.0ms inference, 2.3ms postprocess per image at shape (1, 3, 384, 640)\n",
            "\n",
            "0: 384x640 2 peoples, 2 forks, 3 spoons, 2 cups, 1 kettle, 1 basket, 1 salad, 1 ribs, 1 Caesar, 1 fish, 1 soup, 1 borsch, 1 phone, 15.6ms\n",
            "Speed: 4.2ms preprocess, 15.6ms inference, 2.2ms postprocess per image at shape (1, 3, 384, 640)\n",
            "\n",
            "0: 384x640 2 peoples, 2 forks, 3 spoons, 2 cups, 1 kettle, 1 basket, 1 salad, 1 ribs, 1 Caesar, 1 fish, 1 soup, 1 borsch, 1 phone, 15.7ms\n",
            "Speed: 9.8ms preprocess, 15.7ms inference, 2.6ms postprocess per image at shape (1, 3, 384, 640)\n",
            "\n",
            "0: 384x640 2 peoples, 2 forks, 3 spoons, 2 cups, 1 kettle, 1 basket, 1 salad, 1 ribs, 1 Caesar, 1 fish, 1 soup, 1 borsch, 1 phone, 20.0ms\n",
            "Speed: 15.8ms preprocess, 20.0ms inference, 2.3ms postprocess per image at shape (1, 3, 384, 640)\n",
            "\n",
            "0: 384x640 2 peoples, 2 forks, 3 spoons, 2 cups, 1 kettle, 1 basket, 1 salad, 1 ribs, 1 Caesar, 1 fish, 1 soup, 1 borsch, 1 phone, 24.4ms\n",
            "Speed: 8.0ms preprocess, 24.4ms inference, 2.3ms postprocess per image at shape (1, 3, 384, 640)\n",
            "\n",
            "0: 384x640 2 peoples, 2 forks, 3 spoons, 2 cups, 1 kettle, 1 basket, 1 salad, 1 ribs, 1 Caesar, 1 fish, 1 soup, 1 borsch, 1 phone, 34.0ms\n",
            "Speed: 3.8ms preprocess, 34.0ms inference, 2.3ms postprocess per image at shape (1, 3, 384, 640)\n",
            "\n",
            "0: 384x640 2 peoples, 2 forks, 2 spoons, 2 cups, 1 kettle, 1 basket, 1 salad, 1 ribs, 1 Caesar, 1 fish, 1 soup, 1 borsch, 1 phone, 15.6ms\n",
            "Speed: 3.7ms preprocess, 15.6ms inference, 2.2ms postprocess per image at shape (1, 3, 384, 640)\n",
            "\n",
            "0: 384x640 2 peoples, 2 forks, 2 spoons, 2 cups, 1 kettle, 1 basket, 1 salad, 1 ribs, 1 Caesar, 1 fish, 1 soup, 1 borsch, 1 phone, 16.1ms\n",
            "Speed: 3.9ms preprocess, 16.1ms inference, 2.2ms postprocess per image at shape (1, 3, 384, 640)\n",
            "\n",
            "0: 384x640 2 peoples, 2 forks, 2 spoons, 2 cups, 1 kettle, 1 basket, 1 salad, 1 ribs, 1 Caesar, 1 fish, 1 soup, 1 borsch, 1 phone, 15.6ms\n",
            "Speed: 4.0ms preprocess, 15.6ms inference, 2.2ms postprocess per image at shape (1, 3, 384, 640)\n",
            "\n",
            "0: 384x640 2 peoples, 2 forks, 2 spoons, 2 cups, 1 kettle, 1 basket, 1 salad, 1 ribs, 1 Caesar, 1 fish, 1 soup, 1 borsch, 1 phone, 18.9ms\n",
            "Speed: 3.9ms preprocess, 18.9ms inference, 2.3ms postprocess per image at shape (1, 3, 384, 640)\n",
            "\n",
            "0: 384x640 2 peoples, 2 forks, 2 spoons, 2 cups, 1 kettle, 1 basket, 1 salad, 1 ribs, 1 Caesar, 1 fish, 1 soup, 1 borsch, 1 phone, 18.3ms\n",
            "Speed: 3.7ms preprocess, 18.3ms inference, 2.4ms postprocess per image at shape (1, 3, 384, 640)\n",
            "\n",
            "0: 384x640 2 peoples, 2 forks, 2 spoons, 2 cups, 1 kettle, 1 basket, 1 salad, 1 ribs, 1 Caesar, 1 fish, 1 soup, 1 borsch, 1 phone, 15.9ms\n",
            "Speed: 3.9ms preprocess, 15.9ms inference, 2.3ms postprocess per image at shape (1, 3, 384, 640)\n",
            "\n",
            "0: 384x640 2 peoples, 2 forks, 2 spoons, 2 cups, 1 kettle, 1 basket, 1 salad, 1 ribs, 1 Caesar, 1 fish, 1 soup, 1 borsch, 1 phone, 16.1ms\n",
            "Speed: 6.9ms preprocess, 16.1ms inference, 2.3ms postprocess per image at shape (1, 3, 384, 640)\n",
            "\n",
            "0: 384x640 2 peoples, 2 forks, 2 spoons, 2 cups, 1 kettle, 1 basket, 1 salad, 1 ribs, 1 Caesar, 1 fish, 1 soup, 1 borsch, 1 phone, 20.6ms\n",
            "Speed: 11.0ms preprocess, 20.6ms inference, 2.2ms postprocess per image at shape (1, 3, 384, 640)\n",
            "\n",
            "0: 384x640 2 peoples, 2 forks, 2 spoons, 2 cups, 1 kettle, 1 basket, 1 salad, 1 ribs, 1 Caesar, 1 fish, 1 soup, 1 borsch, 1 phone, 16.0ms\n",
            "Speed: 3.9ms preprocess, 16.0ms inference, 2.4ms postprocess per image at shape (1, 3, 384, 640)\n",
            "\n",
            "0: 384x640 2 peoples, 2 forks, 2 spoons, 2 cups, 1 kettle, 1 basket, 1 salad, 1 ribs, 1 Caesar, 1 fish, 1 soup, 1 borsch, 1 phone, 16.2ms\n",
            "Speed: 3.9ms preprocess, 16.2ms inference, 2.3ms postprocess per image at shape (1, 3, 384, 640)\n",
            "\n",
            "0: 384x640 2 peoples, 2 forks, 2 spoons, 2 cups, 1 kettle, 1 basket, 1 salad, 1 ribs, 1 Caesar, 1 fish, 1 soup, 1 borsch, 1 phone, 23.9ms\n",
            "Speed: 3.8ms preprocess, 23.9ms inference, 2.3ms postprocess per image at shape (1, 3, 384, 640)\n",
            "\n",
            "0: 384x640 2 peoples, 2 forks, 2 spoons, 2 cups, 1 kettle, 1 basket, 1 salad, 1 ribs, 1 Caesar, 1 fish, 1 soup, 1 borsch, 1 phone, 16.0ms\n",
            "Speed: 3.6ms preprocess, 16.0ms inference, 2.5ms postprocess per image at shape (1, 3, 384, 640)\n",
            "\n",
            "0: 384x640 2 peoples, 2 forks, 2 spoons, 2 cups, 1 kettle, 1 basket, 1 salad, 1 ribs, 1 Caesar, 1 fish, 1 soup, 1 borsch, 1 phone, 25.0ms\n",
            "Speed: 5.0ms preprocess, 25.0ms inference, 2.2ms postprocess per image at shape (1, 3, 384, 640)\n",
            "\n",
            "0: 384x640 2 peoples, 2 forks, 2 spoons, 2 cups, 1 kettle, 1 basket, 1 salad, 1 ribs, 1 Caesar, 1 fish, 1 soup, 1 borsch, 1 phone, 14.1ms\n",
            "Speed: 3.6ms preprocess, 14.1ms inference, 2.0ms postprocess per image at shape (1, 3, 384, 640)\n",
            "\n",
            "0: 384x640 2 peoples, 2 forks, 2 spoons, 2 cups, 1 kettle, 1 basket, 1 salad, 1 ribs, 1 Caesar, 1 fish, 1 soup, 1 borsch, 1 phone, 15.6ms\n",
            "Speed: 3.9ms preprocess, 15.6ms inference, 2.3ms postprocess per image at shape (1, 3, 384, 640)\n",
            "\n",
            "0: 384x640 2 peoples, 2 forks, 2 spoons, 2 cups, 1 kettle, 1 basket, 1 salad, 1 ribs, 1 Caesar, 1 fish, 1 soup, 1 borsch, 1 phone, 14.9ms\n",
            "Speed: 3.9ms preprocess, 14.9ms inference, 2.1ms postprocess per image at shape (1, 3, 384, 640)\n",
            "\n",
            "0: 384x640 2 peoples, 2 forks, 2 spoons, 2 cups, 1 kettle, 1 basket, 1 salad, 1 ribs, 1 Caesar, 1 fish, 1 soup, 1 borsch, 1 phone, 15.0ms\n",
            "Speed: 3.8ms preprocess, 15.0ms inference, 2.3ms postprocess per image at shape (1, 3, 384, 640)\n",
            "\n",
            "0: 384x640 2 peoples, 2 forks, 2 spoons, 2 cups, 1 kettle, 1 basket, 1 salad, 1 ribs, 1 Caesar, 1 fish, 1 soup, 1 borsch, 1 phone, 15.0ms\n",
            "Speed: 4.2ms preprocess, 15.0ms inference, 2.1ms postprocess per image at shape (1, 3, 384, 640)\n",
            "\n",
            "0: 384x640 2 peoples, 2 forks, 2 spoons, 2 cups, 1 kettle, 1 basket, 1 salad, 1 ribs, 1 Caesar, 1 fish, 1 soup, 1 borsch, 1 phone, 21.1ms\n",
            "Speed: 5.2ms preprocess, 21.1ms inference, 2.4ms postprocess per image at shape (1, 3, 384, 640)\n",
            "\n",
            "0: 384x640 2 peoples, 2 forks, 2 spoons, 2 cups, 1 kettle, 1 basket, 1 salad, 1 ribs, 1 Caesar, 1 fish, 1 soup, 1 borsch, 1 phone, 19.2ms\n",
            "Speed: 3.9ms preprocess, 19.2ms inference, 6.2ms postprocess per image at shape (1, 3, 384, 640)\n",
            "\n",
            "0: 384x640 2 peoples, 2 forks, 2 spoons, 2 cups, 1 kettle, 1 basket, 1 salad, 1 ribs, 1 Caesar, 1 fish, 1 soup, 1 borsch, 1 phone, 27.0ms\n",
            "Speed: 10.4ms preprocess, 27.0ms inference, 2.3ms postprocess per image at shape (1, 3, 384, 640)\n",
            "\n",
            "0: 384x640 2 peoples, 2 forks, 2 spoons, 2 cups, 1 kettle, 1 basket, 1 salad, 1 ribs, 1 Caesar, 1 fish, 1 soup, 1 borsch, 1 phone, 36.7ms\n",
            "Speed: 3.6ms preprocess, 36.7ms inference, 10.4ms postprocess per image at shape (1, 3, 384, 640)\n",
            "\n",
            "0: 384x640 2 peoples, 2 forks, 2 spoons, 2 cups, 1 kettle, 1 basket, 1 salad, 1 ribs, 1 Caesar, 1 fish, 1 soup, 1 borsch, 1 phone, 16.8ms\n",
            "Speed: 7.1ms preprocess, 16.8ms inference, 2.3ms postprocess per image at shape (1, 3, 384, 640)\n",
            "\n",
            "0: 384x640 2 peoples, 2 forks, 2 spoons, 2 cups, 1 kettle, 1 basket, 1 salad, 1 ribs, 1 Caesar, 1 fish, 1 soup, 1 borsch, 1 phone, 36.9ms\n",
            "Speed: 3.6ms preprocess, 36.9ms inference, 1.9ms postprocess per image at shape (1, 3, 384, 640)\n",
            "\n",
            "0: 384x640 2 peoples, 2 forks, 2 spoons, 2 cups, 1 kettle, 1 basket, 1 salad, 1 ribs, 1 Caesar, 1 fish, 1 soup, 1 borsch, 1 phone, 19.1ms\n",
            "Speed: 4.5ms preprocess, 19.1ms inference, 3.2ms postprocess per image at shape (1, 3, 384, 640)\n",
            "\n",
            "0: 384x640 2 peoples, 2 forks, 2 spoons, 2 cups, 1 kettle, 1 basket, 1 salad, 1 ribs, 1 Caesar, 1 fish, 1 soup, 1 borsch, 1 phone, 38.9ms\n",
            "Speed: 3.8ms preprocess, 38.9ms inference, 2.3ms postprocess per image at shape (1, 3, 384, 640)\n",
            "\n",
            "0: 384x640 2 peoples, 2 forks, 2 spoons, 2 cups, 1 kettle, 1 basket, 1 salad, 1 ribs, 1 Caesar, 1 fish, 1 soup, 1 borsch, 1 phone, 30.7ms\n",
            "Speed: 5.1ms preprocess, 30.7ms inference, 2.4ms postprocess per image at shape (1, 3, 384, 640)\n",
            "\n",
            "0: 384x640 2 peoples, 2 forks, 2 spoons, 2 cups, 1 kettle, 1 basket, 1 salad, 1 ribs, 1 Caesar, 1 fish, 1 soup, 1 borsch, 1 phone, 40.4ms\n",
            "Speed: 8.6ms preprocess, 40.4ms inference, 3.3ms postprocess per image at shape (1, 3, 384, 640)\n",
            "\n",
            "0: 384x640 2 peoples, 2 forks, 2 spoons, 2 cups, 1 kettle, 1 basket, 1 salad, 1 ribs, 1 Caesar, 1 fish, 1 soup, 1 borsch, 1 phone, 27.2ms\n",
            "Speed: 10.9ms preprocess, 27.2ms inference, 2.3ms postprocess per image at shape (1, 3, 384, 640)\n",
            "\n",
            "0: 384x640 2 peoples, 2 forks, 2 spoons, 2 cups, 1 kettle, 1 basket, 1 salad, 1 ribs, 1 Caesar, 1 fish, 1 soup, 1 borsch, 1 phone, 16.0ms\n",
            "Speed: 6.3ms preprocess, 16.0ms inference, 2.7ms postprocess per image at shape (1, 3, 384, 640)\n",
            "\n",
            "0: 384x640 2 peoples, 2 forks, 2 spoons, 2 cups, 1 kettle, 1 basket, 1 salad, 1 ribs, 1 Caesar, 1 fish, 1 soup, 1 borsch, 1 phone, 16.5ms\n",
            "Speed: 4.4ms preprocess, 16.5ms inference, 2.4ms postprocess per image at shape (1, 3, 384, 640)\n",
            "\n",
            "0: 384x640 2 peoples, 2 forks, 2 spoons, 2 cups, 1 kettle, 1 basket, 1 salad, 1 ribs, 1 Caesar, 1 fish, 1 soup, 1 borsch, 1 phone, 18.6ms\n",
            "Speed: 3.7ms preprocess, 18.6ms inference, 2.3ms postprocess per image at shape (1, 3, 384, 640)\n",
            "\n",
            "0: 384x640 2 peoples, 2 forks, 2 spoons, 2 cups, 1 kettle, 1 basket, 1 salad, 1 ribs, 1 Caesar, 1 fish, 1 soup, 1 borsch, 1 phone, 17.1ms\n",
            "Speed: 4.1ms preprocess, 17.1ms inference, 2.4ms postprocess per image at shape (1, 3, 384, 640)\n",
            "\n",
            "0: 384x640 2 peoples, 2 forks, 2 spoons, 2 cups, 1 kettle, 1 basket, 1 salad, 1 ribs, 1 Caesar, 1 fish, 2 soups, 1 borsch, 1 phone, 18.8ms\n",
            "Speed: 6.5ms preprocess, 18.8ms inference, 2.3ms postprocess per image at shape (1, 3, 384, 640)\n",
            "\n",
            "0: 384x640 2 peoples, 2 forks, 2 spoons, 2 cups, 1 kettle, 1 basket, 1 salad, 1 ribs, 1 Caesar, 1 fish, 2 soups, 1 borsch, 1 phone, 21.6ms\n",
            "Speed: 6.6ms preprocess, 21.6ms inference, 2.3ms postprocess per image at shape (1, 3, 384, 640)\n",
            "\n",
            "0: 384x640 2 peoples, 2 forks, 2 spoons, 2 cups, 1 kettle, 1 basket, 1 salad, 1 ribs, 1 Caesar, 1 fish, 1 soup, 1 borsch, 1 phone, 15.7ms\n",
            "Speed: 4.4ms preprocess, 15.7ms inference, 2.1ms postprocess per image at shape (1, 3, 384, 640)\n",
            "\n",
            "0: 384x640 2 peoples, 2 forks, 2 spoons, 2 cups, 1 kettle, 1 basket, 1 salad, 1 ribs, 1 Caesar, 1 fish, 1 soup, 1 borsch, 1 phone, 15.8ms\n",
            "Speed: 3.6ms preprocess, 15.8ms inference, 2.3ms postprocess per image at shape (1, 3, 384, 640)\n",
            "\n",
            "0: 384x640 2 peoples, 2 forks, 2 spoons, 2 cups, 1 kettle, 1 basket, 1 salad, 1 ribs, 1 Caesar, 1 fish, 1 soup, 1 borsch, 1 phone, 15.5ms\n",
            "Speed: 3.6ms preprocess, 15.5ms inference, 2.4ms postprocess per image at shape (1, 3, 384, 640)\n",
            "\n",
            "0: 384x640 2 peoples, 2 forks, 2 spoons, 2 cups, 1 kettle, 1 basket, 1 salad, 1 ribs, 1 Caesar, 1 fish, 1 soup, 1 borsch, 1 phone, 29.0ms\n",
            "Speed: 9.2ms preprocess, 29.0ms inference, 2.3ms postprocess per image at shape (1, 3, 384, 640)\n",
            "\n",
            "0: 384x640 2 peoples, 2 forks, 2 spoons, 2 cups, 1 kettle, 1 basket, 1 salad, 1 ribs, 1 Caesar, 1 fish, 1 soup, 1 borsch, 1 phone, 15.7ms\n",
            "Speed: 7.8ms preprocess, 15.7ms inference, 2.3ms postprocess per image at shape (1, 3, 384, 640)\n",
            "\n",
            "0: 384x640 2 peoples, 2 forks, 2 spoons, 2 cups, 1 kettle, 1 basket, 1 salad, 1 ribs, 1 Caesar, 1 fish, 1 soup, 1 borsch, 1 phone, 16.0ms\n",
            "Speed: 3.9ms preprocess, 16.0ms inference, 2.6ms postprocess per image at shape (1, 3, 384, 640)\n",
            "\n",
            "0: 384x640 2 peoples, 2 forks, 2 spoons, 2 cups, 1 kettle, 1 basket, 1 salad, 1 ribs, 1 Caesar, 1 fish, 1 soup, 1 borsch, 1 phone, 22.4ms\n",
            "Speed: 3.9ms preprocess, 22.4ms inference, 2.6ms postprocess per image at shape (1, 3, 384, 640)\n",
            "\n",
            "0: 384x640 2 peoples, 2 forks, 2 spoons, 2 cups, 1 kettle, 1 basket, 1 salad, 1 ribs, 1 Caesar, 1 fish, 1 soup, 1 borsch, 1 phone, 33.0ms\n",
            "Speed: 3.7ms preprocess, 33.0ms inference, 2.2ms postprocess per image at shape (1, 3, 384, 640)\n",
            "\n",
            "0: 384x640 2 peoples, 2 forks, 2 spoons, 2 cups, 1 kettle, 1 basket, 1 salad, 1 ribs, 1 Caesar, 1 fish, 1 soup, 1 borsch, 1 phone, 18.3ms\n",
            "Speed: 3.8ms preprocess, 18.3ms inference, 2.4ms postprocess per image at shape (1, 3, 384, 640)\n",
            "\n",
            "0: 384x640 2 peoples, 2 forks, 2 spoons, 2 cups, 1 kettle, 1 basket, 1 salad, 1 ribs, 1 Caesar, 1 fish, 1 soup, 1 borsch, 1 phone, 15.6ms\n",
            "Speed: 4.4ms preprocess, 15.6ms inference, 2.2ms postprocess per image at shape (1, 3, 384, 640)\n",
            "\n",
            "0: 384x640 2 peoples, 2 forks, 2 spoons, 2 cups, 1 kettle, 1 basket, 1 salad, 1 ribs, 1 Caesar, 1 fish, 1 soup, 1 borsch, 1 phone, 15.3ms\n",
            "Speed: 3.8ms preprocess, 15.3ms inference, 2.1ms postprocess per image at shape (1, 3, 384, 640)\n",
            "\n",
            "0: 384x640 2 peoples, 2 forks, 2 spoons, 2 cups, 1 kettle, 1 basket, 1 salad, 1 ribs, 1 Caesar, 1 fish, 1 soup, 1 borsch, 1 phone, 28.0ms\n",
            "Speed: 3.8ms preprocess, 28.0ms inference, 2.3ms postprocess per image at shape (1, 3, 384, 640)\n",
            "\n",
            "0: 384x640 2 peoples, 2 forks, 2 spoons, 2 cups, 1 kettle, 1 basket, 1 salad, 1 ribs, 1 Caesar, 1 fish, 1 soup, 1 borsch, 1 phone, 27.1ms\n",
            "Speed: 6.5ms preprocess, 27.1ms inference, 4.8ms postprocess per image at shape (1, 3, 384, 640)\n",
            "\n",
            "0: 384x640 2 peoples, 2 forks, 2 spoons, 2 cups, 1 kettle, 1 basket, 1 salad, 1 ribs, 1 Caesar, 1 fish, 1 soup, 1 borsch, 1 phone, 16.4ms\n",
            "Speed: 3.8ms preprocess, 16.4ms inference, 2.3ms postprocess per image at shape (1, 3, 384, 640)\n",
            "\n",
            "0: 384x640 2 peoples, 2 forks, 2 spoons, 2 cups, 1 kettle, 1 basket, 1 salad, 1 ribs, 1 Caesar, 1 fish, 1 soup, 1 borsch, 1 phone, 15.7ms\n",
            "Speed: 7.0ms preprocess, 15.7ms inference, 2.2ms postprocess per image at shape (1, 3, 384, 640)\n",
            "\n",
            "0: 384x640 2 peoples, 2 forks, 2 spoons, 2 cups, 1 kettle, 1 basket, 1 salad, 1 ribs, 1 Caesar, 1 fish, 1 soup, 1 borsch, 1 phone, 18.5ms\n",
            "Speed: 7.0ms preprocess, 18.5ms inference, 2.2ms postprocess per image at shape (1, 3, 384, 640)\n",
            "\n",
            "0: 384x640 2 peoples, 2 forks, 2 spoons, 2 cups, 1 kettle, 1 basket, 1 salad, 1 ribs, 1 Caesar, 1 fish, 1 soup, 1 borsch, 1 phone, 15.1ms\n",
            "Speed: 4.0ms preprocess, 15.1ms inference, 2.3ms postprocess per image at shape (1, 3, 384, 640)\n",
            "\n",
            "0: 384x640 2 peoples, 2 forks, 2 spoons, 2 cups, 1 kettle, 1 basket, 1 salad, 1 ribs, 1 Caesar, 1 fish, 1 soup, 1 borsch, 1 phone, 15.2ms\n",
            "Speed: 3.6ms preprocess, 15.2ms inference, 2.3ms postprocess per image at shape (1, 3, 384, 640)\n",
            "\n",
            "0: 384x640 2 peoples, 2 forks, 2 spoons, 2 cups, 1 kettle, 1 basket, 1 salad, 1 ribs, 1 Caesar, 1 fish, 1 soup, 1 borsch, 1 phone, 24.8ms\n",
            "Speed: 3.2ms preprocess, 24.8ms inference, 2.2ms postprocess per image at shape (1, 3, 384, 640)\n",
            "\n",
            "0: 384x640 2 peoples, 2 forks, 2 spoons, 2 cups, 1 kettle, 2 baskets, 1 salad, 1 ribs, 1 Caesar, 1 fish, 1 soup, 1 borsch, 1 phone, 17.2ms\n",
            "Speed: 3.6ms preprocess, 17.2ms inference, 2.3ms postprocess per image at shape (1, 3, 384, 640)\n",
            "\n",
            "0: 384x640 3 peoples, 2 forks, 2 spoons, 2 cups, 1 kettle, 2 baskets, 1 salad, 1 ribs, 1 Caesar, 1 fish, 1 soup, 1 borsch, 1 phone, 18.3ms\n",
            "Speed: 6.7ms preprocess, 18.3ms inference, 2.3ms postprocess per image at shape (1, 3, 384, 640)\n",
            "\n",
            "0: 384x640 2 peoples, 2 forks, 2 spoons, 2 cups, 1 kettle, 1 basket, 1 salad, 1 ribs, 1 Caesar, 1 fish, 1 soup, 1 borsch, 1 phone, 15.1ms\n",
            "Speed: 3.6ms preprocess, 15.1ms inference, 4.6ms postprocess per image at shape (1, 3, 384, 640)\n",
            "\n",
            "0: 384x640 3 peoples, 2 forks, 2 spoons, 2 cups, 1 kettle, 1 basket, 1 salad, 1 ribs, 1 Caesar, 1 fish, 1 soup, 1 borsch, 1 phone, 16.0ms\n",
            "Speed: 10.6ms preprocess, 16.0ms inference, 5.2ms postprocess per image at shape (1, 3, 384, 640)\n",
            "\n",
            "0: 384x640 3 peoples, 2 forks, 2 spoons, 2 cups, 1 kettle, 1 basket, 1 salad, 1 ribs, 1 Caesar, 1 fish, 1 soup, 1 borsch, 1 phone, 14.9ms\n",
            "Speed: 3.9ms preprocess, 14.9ms inference, 2.0ms postprocess per image at shape (1, 3, 384, 640)\n",
            "\n",
            "0: 384x640 3 peoples, 2 forks, 2 spoons, 2 cups, 1 kettle, 1 basket, 1 salad, 1 ribs, 1 Caesar, 1 fish, 1 soup, 1 borsch, 1 phone, 16.3ms\n",
            "Speed: 10.9ms preprocess, 16.3ms inference, 2.2ms postprocess per image at shape (1, 3, 384, 640)\n",
            "\n",
            "0: 384x640 3 peoples, 2 forks, 2 spoons, 2 cups, 1 kettle, 1 basket, 1 salad, 1 ribs, 1 Caesar, 1 fish, 1 soup, 1 borsch, 1 phone, 15.7ms\n",
            "Speed: 3.9ms preprocess, 15.7ms inference, 2.4ms postprocess per image at shape (1, 3, 384, 640)\n",
            "\n",
            "0: 384x640 2 peoples, 2 forks, 2 spoons, 2 cups, 1 kettle, 1 basket, 1 salad, 1 ribs, 1 Caesar, 1 fish, 1 soup, 1 borsch, 1 phone, 15.0ms\n",
            "Speed: 3.4ms preprocess, 15.0ms inference, 2.1ms postprocess per image at shape (1, 3, 384, 640)\n",
            "\n",
            "0: 384x640 2 peoples, 2 forks, 2 spoons, 2 cups, 1 kettle, 1 basket, 1 salad, 1 ribs, 1 Caesar, 1 fish, 2 soups, 1 borsch, 1 phone, 16.6ms\n",
            "Speed: 3.7ms preprocess, 16.6ms inference, 2.4ms postprocess per image at shape (1, 3, 384, 640)\n",
            "\n",
            "0: 384x640 2 peoples, 2 forks, 2 spoons, 2 cups, 1 kettle, 1 basket, 1 salad, 1 ribs, 1 Caesar, 1 fish, 2 soups, 1 borsch, 1 phone, 16.4ms\n",
            "Speed: 4.3ms preprocess, 16.4ms inference, 2.3ms postprocess per image at shape (1, 3, 384, 640)\n",
            "\n",
            "0: 384x640 2 peoples, 2 forks, 2 spoons, 2 cups, 1 kettle, 1 basket, 1 salad, 1 ribs, 1 Caesar, 1 fish, 2 soups, 1 borsch, 1 phone, 14.4ms\n",
            "Speed: 3.9ms preprocess, 14.4ms inference, 2.7ms postprocess per image at shape (1, 3, 384, 640)\n",
            "\n",
            "0: 384x640 2 peoples, 2 forks, 2 spoons, 2 cups, 1 kettle, 1 basket, 1 salad, 1 ribs, 1 Caesar, 1 fish, 2 soups, 1 borsch, 1 phone, 17.1ms\n",
            "Speed: 3.8ms preprocess, 17.1ms inference, 2.4ms postprocess per image at shape (1, 3, 384, 640)\n",
            "\n",
            "0: 384x640 2 peoples, 2 forks, 2 spoons, 2 cups, 1 kettle, 1 basket, 1 salad, 1 ribs, 1 Caesar, 1 fish, 2 soups, 1 borsch, 1 phone, 16.3ms\n",
            "Speed: 3.9ms preprocess, 16.3ms inference, 2.2ms postprocess per image at shape (1, 3, 384, 640)\n",
            "\n",
            "0: 384x640 2 peoples, 2 forks, 2 spoons, 2 cups, 1 kettle, 1 basket, 1 salad, 1 ribs, 1 Caesar, 1 fish, 2 soups, 1 borsch, 1 phone, 21.1ms\n",
            "Speed: 3.9ms preprocess, 21.1ms inference, 2.3ms postprocess per image at shape (1, 3, 384, 640)\n",
            "\n",
            "0: 384x640 1 people, 2 forks, 2 spoons, 2 cups, 1 kettle, 1 basket, 1 salad, 1 ribs, 1 Caesar, 1 fish, 2 soups, 1 borsch, 1 phone, 14.4ms\n",
            "Speed: 6.8ms preprocess, 14.4ms inference, 2.1ms postprocess per image at shape (1, 3, 384, 640)\n",
            "\n",
            "0: 384x640 1 people, 2 forks, 2 spoons, 2 cups, 1 kettle, 1 basket, 1 salad, 1 ribs, 1 Caesar, 1 fish, 2 soups, 1 borsch, 1 phone, 23.2ms\n",
            "Speed: 4.1ms preprocess, 23.2ms inference, 2.2ms postprocess per image at shape (1, 3, 384, 640)\n",
            "\n",
            "0: 384x640 1 people, 2 forks, 2 spoons, 2 cups, 1 kettle, 1 basket, 1 salad, 1 ribs, 1 Caesar, 1 fish, 2 soups, 1 borsch, 1 phone, 15.7ms\n",
            "Speed: 4.2ms preprocess, 15.7ms inference, 2.3ms postprocess per image at shape (1, 3, 384, 640)\n",
            "\n",
            "0: 384x640 1 people, 2 forks, 2 spoons, 2 cups, 1 kettle, 1 basket, 1 salad, 1 ribs, 1 Caesar, 1 fish, 1 soup, 1 borsch, 1 phone, 16.2ms\n",
            "Speed: 4.0ms preprocess, 16.2ms inference, 2.3ms postprocess per image at shape (1, 3, 384, 640)\n",
            "\n",
            "0: 384x640 2 peoples, 2 forks, 2 spoons, 2 cups, 1 kettle, 1 basket, 1 salad, 1 ribs, 1 Caesar, 1 fish, 1 soup, 1 borsch, 1 phone, 15.6ms\n",
            "Speed: 4.0ms preprocess, 15.6ms inference, 2.2ms postprocess per image at shape (1, 3, 384, 640)\n",
            "\n",
            "0: 384x640 2 peoples, 2 forks, 2 spoons, 2 cups, 1 kettle, 2 baskets, 1 salad, 1 ribs, 1 Caesar, 1 fish, 1 soup, 1 borsch, 1 phone, 13.3ms\n",
            "Speed: 12.9ms preprocess, 13.3ms inference, 2.1ms postprocess per image at shape (1, 3, 384, 640)\n",
            "\n",
            "0: 384x640 2 peoples, 2 forks, 2 spoons, 2 cups, 1 kettle, 1 basket, 1 salad, 1 ribs, 1 Caesar, 1 fish, 1 soup, 1 borsch, 1 phone, 15.9ms\n",
            "Speed: 4.1ms preprocess, 15.9ms inference, 2.2ms postprocess per image at shape (1, 3, 384, 640)\n",
            "\n",
            "0: 384x640 2 peoples, 2 forks, 2 spoons, 2 cups, 1 kettle, 1 basket, 1 salad, 1 ribs, 1 Caesar, 1 fish, 1 soup, 1 borsch, 1 phone, 33.2ms\n",
            "Speed: 7.9ms preprocess, 33.2ms inference, 3.0ms postprocess per image at shape (1, 3, 384, 640)\n",
            "\n",
            "0: 384x640 2 peoples, 2 forks, 2 spoons, 2 cups, 1 kettle, 1 basket, 1 salad, 1 ribs, 1 Caesar, 1 fish, 1 soup, 1 borsch, 1 phone, 16.9ms\n",
            "Speed: 4.9ms preprocess, 16.9ms inference, 2.0ms postprocess per image at shape (1, 3, 384, 640)\n",
            "\n",
            "0: 384x640 2 peoples, 2 forks, 2 spoons, 2 cups, 1 kettle, 2 baskets, 1 salad, 1 ribs, 1 Caesar, 1 fish, 1 soup, 1 borsch, 1 phone, 29.9ms\n",
            "Speed: 3.3ms preprocess, 29.9ms inference, 8.7ms postprocess per image at shape (1, 3, 384, 640)\n",
            "\n",
            "0: 384x640 2 peoples, 2 forks, 2 spoons, 2 cups, 1 kettle, 2 baskets, 1 salad, 1 ribs, 1 Caesar, 1 fish, 1 soup, 1 borsch, 1 phone, 51.1ms\n",
            "Speed: 3.9ms preprocess, 51.1ms inference, 2.4ms postprocess per image at shape (1, 3, 384, 640)\n",
            "\n",
            "0: 384x640 2 peoples, 2 forks, 2 spoons, 2 cups, 1 kettle, 2 baskets, 1 salad, 1 ribs, 1 Caesar, 1 fish, 1 soup, 1 borsch, 1 phone, 22.8ms\n",
            "Speed: 3.8ms preprocess, 22.8ms inference, 9.0ms postprocess per image at shape (1, 3, 384, 640)\n",
            "\n",
            "0: 384x640 2 peoples, 2 forks, 2 spoons, 2 cups, 1 kettle, 2 baskets, 1 salad, 1 ribs, 1 Caesar, 1 fish, 1 soup, 1 borsch, 1 phone, 29.8ms\n",
            "Speed: 3.5ms preprocess, 29.8ms inference, 9.3ms postprocess per image at shape (1, 3, 384, 640)\n",
            "\n",
            "0: 384x640 2 peoples, 2 forks, 2 spoons, 2 cups, 1 kettle, 2 baskets, 1 salad, 1 ribs, 1 Caesar, 1 fish, 1 soup, 1 borsch, 1 phone, 33.9ms\n",
            "Speed: 3.5ms preprocess, 33.9ms inference, 9.5ms postprocess per image at shape (1, 3, 384, 640)\n",
            "\n",
            "0: 384x640 2 peoples, 2 forks, 2 spoons, 2 cups, 1 kettle, 1 basket, 1 salad, 1 ribs, 1 Caesar, 1 fish, 1 soup, 1 borsch, 1 phone, 42.0ms\n",
            "Speed: 3.6ms preprocess, 42.0ms inference, 9.6ms postprocess per image at shape (1, 3, 384, 640)\n",
            "\n",
            "0: 384x640 2 peoples, 2 forks, 2 spoons, 2 cups, 1 kettle, 1 basket, 1 salad, 1 ribs, 1 Caesar, 1 fish, 1 soup, 1 borsch, 1 phone, 20.3ms\n",
            "Speed: 3.8ms preprocess, 20.3ms inference, 2.6ms postprocess per image at shape (1, 3, 384, 640)\n",
            "\n",
            "0: 384x640 2 peoples, 2 forks, 2 spoons, 2 cups, 1 kettle, 1 basket, 1 salad, 1 ribs, 1 Caesar, 1 fish, 1 soup, 1 borsch, 1 phone, 15.5ms\n",
            "Speed: 3.8ms preprocess, 15.5ms inference, 2.3ms postprocess per image at shape (1, 3, 384, 640)\n",
            "\n",
            "0: 384x640 2 peoples, 2 forks, 2 spoons, 2 cups, 1 kettle, 1 basket, 1 salad, 1 ribs, 1 Caesar, 1 fish, 1 soup, 1 borsch, 1 phone, 23.9ms\n",
            "Speed: 3.7ms preprocess, 23.9ms inference, 2.6ms postprocess per image at shape (1, 3, 384, 640)\n",
            "\n",
            "0: 384x640 2 peoples, 2 forks, 2 spoons, 2 cups, 1 kettle, 1 basket, 1 salad, 1 ribs, 1 Caesar, 1 fish, 1 soup, 1 borsch, 1 phone, 18.6ms\n",
            "Speed: 8.0ms preprocess, 18.6ms inference, 2.3ms postprocess per image at shape (1, 3, 384, 640)\n",
            "\n",
            "0: 384x640 2 peoples, 2 forks, 2 spoons, 2 cups, 1 kettle, 1 basket, 1 salad, 1 ribs, 1 Caesar, 1 fish, 1 soup, 1 borsch, 1 phone, 25.8ms\n",
            "Speed: 3.9ms preprocess, 25.8ms inference, 2.4ms postprocess per image at shape (1, 3, 384, 640)\n",
            "\n",
            "0: 384x640 2 peoples, 2 forks, 2 spoons, 2 cups, 1 kettle, 1 basket, 1 salad, 1 ribs, 1 Caesar, 1 fish, 1 soup, 1 borsch, 1 phone, 27.0ms\n",
            "Speed: 4.0ms preprocess, 27.0ms inference, 4.4ms postprocess per image at shape (1, 3, 384, 640)\n",
            "\n",
            "0: 384x640 2 peoples, 2 forks, 2 spoons, 2 cups, 1 kettle, 1 basket, 1 salad, 1 ribs, 1 Caesar, 1 fish, 1 soup, 1 borsch, 1 phone, 16.0ms\n",
            "Speed: 3.8ms preprocess, 16.0ms inference, 2.4ms postprocess per image at shape (1, 3, 384, 640)\n",
            "\n",
            "0: 384x640 2 peoples, 2 forks, 2 spoons, 2 cups, 1 kettle, 1 basket, 1 salad, 1 ribs, 1 Caesar, 1 fish, 1 soup, 1 borsch, 1 phone, 16.3ms\n",
            "Speed: 5.9ms preprocess, 16.3ms inference, 2.2ms postprocess per image at shape (1, 3, 384, 640)\n",
            "\n",
            "0: 384x640 2 peoples, 2 forks, 2 spoons, 2 cups, 1 kettle, 2 baskets, 1 salad, 1 ribs, 1 Caesar, 1 fish, 1 soup, 1 borsch, 1 phone, 23.2ms\n",
            "Speed: 3.5ms preprocess, 23.2ms inference, 2.4ms postprocess per image at shape (1, 3, 384, 640)\n",
            "\n",
            "0: 384x640 2 peoples, 2 forks, 2 spoons, 2 cups, 1 kettle, 1 basket, 1 salad, 1 ribs, 1 Caesar, 1 fish, 1 soup, 1 borsch, 1 phone, 16.0ms\n",
            "Speed: 3.6ms preprocess, 16.0ms inference, 2.3ms postprocess per image at shape (1, 3, 384, 640)\n",
            "\n",
            "0: 384x640 2 peoples, 2 forks, 2 spoons, 2 cups, 1 kettle, 1 basket, 1 salad, 1 ribs, 1 Caesar, 1 fish, 1 soup, 1 borsch, 1 phone, 15.5ms\n",
            "Speed: 3.8ms preprocess, 15.5ms inference, 2.2ms postprocess per image at shape (1, 3, 384, 640)\n",
            "\n",
            "0: 384x640 2 peoples, 2 forks, 2 spoons, 2 cups, 1 kettle, 2 baskets, 1 salad, 1 ribs, 1 Caesar, 1 fish, 1 soup, 1 borsch, 1 phone, 16.8ms\n",
            "Speed: 4.3ms preprocess, 16.8ms inference, 2.3ms postprocess per image at shape (1, 3, 384, 640)\n",
            "\n",
            "0: 384x640 1 people, 2 forks, 2 spoons, 2 cups, 1 kettle, 1 basket, 1 salad, 1 ribs, 1 Caesar, 1 fish, 1 soup, 1 borsch, 1 phone, 16.6ms\n",
            "Speed: 3.8ms preprocess, 16.6ms inference, 2.2ms postprocess per image at shape (1, 3, 384, 640)\n",
            "\n",
            "0: 384x640 2 peoples, 2 forks, 2 spoons, 2 cups, 1 kettle, 1 basket, 1 salad, 1 ribs, 1 Caesar, 1 fish, 1 soup, 1 borsch, 1 phone, 16.3ms\n",
            "Speed: 7.4ms preprocess, 16.3ms inference, 2.2ms postprocess per image at shape (1, 3, 384, 640)\n",
            "\n",
            "0: 384x640 2 peoples, 2 forks, 2 spoons, 2 cups, 1 kettle, 1 basket, 1 salad, 1 ribs, 1 Caesar, 1 fish, 1 soup, 1 borsch, 1 phone, 14.4ms\n",
            "Speed: 3.4ms preprocess, 14.4ms inference, 2.2ms postprocess per image at shape (1, 3, 384, 640)\n",
            "\n",
            "0: 384x640 3 peoples, 2 forks, 2 spoons, 2 cups, 1 kettle, 1 basket, 1 salad, 1 ribs, 1 Caesar, 1 fish, 1 soup, 1 borsch, 1 phone, 17.0ms\n",
            "Speed: 6.4ms preprocess, 17.0ms inference, 2.3ms postprocess per image at shape (1, 3, 384, 640)\n",
            "\n",
            "0: 384x640 3 peoples, 2 forks, 2 spoons, 2 cups, 1 kettle, 1 basket, 1 salad, 1 ribs, 1 Caesar, 1 fish, 1 soup, 1 borsch, 1 phone, 22.5ms\n",
            "Speed: 4.1ms preprocess, 22.5ms inference, 2.3ms postprocess per image at shape (1, 3, 384, 640)\n",
            "\n",
            "0: 384x640 3 peoples, 2 forks, 2 spoons, 2 cups, 1 kettle, 1 basket, 1 salad, 1 ribs, 1 Caesar, 1 fish, 1 soup, 1 borsch, 1 phone, 15.4ms\n",
            "Speed: 3.9ms preprocess, 15.4ms inference, 2.2ms postprocess per image at shape (1, 3, 384, 640)\n",
            "\n",
            "0: 384x640 3 peoples, 2 forks, 2 spoons, 2 cups, 1 kettle, 1 basket, 1 salad, 1 ribs, 1 Caesar, 1 fish, 1 soup, 1 borsch, 1 phone, 14.5ms\n",
            "Speed: 10.5ms preprocess, 14.5ms inference, 2.1ms postprocess per image at shape (1, 3, 384, 640)\n",
            "\n",
            "0: 384x640 3 peoples, 2 forks, 2 spoons, 2 cups, 1 kettle, 1 basket, 1 salad, 1 ribs, 1 Caesar, 1 fish, 1 soup, 1 borsch, 1 phone, 15.4ms\n",
            "Speed: 10.5ms preprocess, 15.4ms inference, 2.2ms postprocess per image at shape (1, 3, 384, 640)\n",
            "\n",
            "0: 384x640 2 peoples, 2 forks, 2 spoons, 2 cups, 1 kettle, 1 basket, 1 salad, 1 ribs, 1 Caesar, 1 fish, 1 soup, 1 borsch, 1 phone, 22.3ms\n",
            "Speed: 3.3ms preprocess, 22.3ms inference, 2.2ms postprocess per image at shape (1, 3, 384, 640)\n",
            "\n",
            "0: 384x640 3 peoples, 2 forks, 2 spoons, 2 cups, 1 kettle, 1 basket, 1 salad, 1 ribs, 1 Caesar, 1 fish, 1 soup, 1 borsch, 1 phone, 16.9ms\n",
            "Speed: 4.1ms preprocess, 16.9ms inference, 2.5ms postprocess per image at shape (1, 3, 384, 640)\n",
            "\n",
            "0: 384x640 3 peoples, 2 forks, 2 spoons, 2 cups, 1 kettle, 1 basket, 1 salad, 1 ribs, 1 Caesar, 1 fish, 1 soup, 1 borsch, 1 phone, 15.1ms\n",
            "Speed: 7.4ms preprocess, 15.1ms inference, 2.1ms postprocess per image at shape (1, 3, 384, 640)\n",
            "\n",
            "0: 384x640 2 peoples, 2 forks, 2 spoons, 2 cups, 1 kettle, 1 basket, 1 salad, 1 ribs, 1 Caesar, 1 fish, 1 soup, 1 borsch, 1 phone, 15.7ms\n",
            "Speed: 3.9ms preprocess, 15.7ms inference, 2.3ms postprocess per image at shape (1, 3, 384, 640)\n",
            "\n",
            "0: 384x640 2 peoples, 2 forks, 2 spoons, 2 cups, 1 kettle, 1 basket, 1 salad, 1 ribs, 1 Caesar, 1 fish, 1 soup, 1 borsch, 1 phone, 16.3ms\n",
            "Speed: 3.8ms preprocess, 16.3ms inference, 2.4ms postprocess per image at shape (1, 3, 384, 640)\n",
            "\n",
            "0: 384x640 2 peoples, 2 forks, 2 spoons, 2 cups, 1 kettle, 1 basket, 1 salad, 1 ribs, 1 Caesar, 1 fish, 1 soup, 1 borsch, 1 phone, 18.0ms\n",
            "Speed: 3.7ms preprocess, 18.0ms inference, 2.4ms postprocess per image at shape (1, 3, 384, 640)\n",
            "\n",
            "0: 384x640 2 peoples, 2 forks, 2 spoons, 2 cups, 1 kettle, 1 basket, 1 salad, 1 ribs, 1 Caesar, 1 fish, 1 soup, 1 borsch, 1 phone, 15.8ms\n",
            "Speed: 4.2ms preprocess, 15.8ms inference, 2.2ms postprocess per image at shape (1, 3, 384, 640)\n",
            "\n",
            "0: 384x640 2 peoples, 2 forks, 2 spoons, 2 cups, 1 kettle, 1 basket, 1 salad, 1 ribs, 1 Caesar, 1 fish, 1 soup, 1 borsch, 1 phone, 31.2ms\n",
            "Speed: 3.8ms preprocess, 31.2ms inference, 2.3ms postprocess per image at shape (1, 3, 384, 640)\n",
            "\n",
            "0: 384x640 2 peoples, 2 forks, 2 spoons, 2 cups, 1 kettle, 1 basket, 1 salad, 1 ribs, 1 Caesar, 1 fish, 1 soup, 1 borsch, 1 phone, 15.5ms\n",
            "Speed: 3.5ms preprocess, 15.5ms inference, 2.3ms postprocess per image at shape (1, 3, 384, 640)\n",
            "\n",
            "0: 384x640 2 peoples, 2 forks, 2 spoons, 2 cups, 1 kettle, 1 basket, 1 salad, 1 ribs, 1 Caesar, 1 fish, 1 soup, 1 borsch, 1 phone, 15.9ms\n",
            "Speed: 4.3ms preprocess, 15.9ms inference, 2.3ms postprocess per image at shape (1, 3, 384, 640)\n",
            "\n",
            "0: 384x640 2 peoples, 2 forks, 2 spoons, 2 cups, 1 kettle, 1 basket, 1 salad, 1 ribs, 1 Caesar, 1 fish, 1 soup, 1 borsch, 1 phone, 15.8ms\n",
            "Speed: 3.6ms preprocess, 15.8ms inference, 2.2ms postprocess per image at shape (1, 3, 384, 640)\n",
            "\n",
            "0: 384x640 2 peoples, 2 forks, 2 spoons, 2 cups, 1 kettle, 1 basket, 1 salad, 1 ribs, 1 Caesar, 1 fish, 1 soup, 1 borsch, 1 phone, 29.9ms\n",
            "Speed: 3.7ms preprocess, 29.9ms inference, 2.3ms postprocess per image at shape (1, 3, 384, 640)\n",
            "\n",
            "0: 384x640 2 peoples, 2 forks, 2 spoons, 2 cups, 1 kettle, 1 basket, 1 salad, 1 ribs, 1 Caesar, 1 fish, 1 soup, 1 borsch, 1 phone, 16.2ms\n",
            "Speed: 4.0ms preprocess, 16.2ms inference, 2.3ms postprocess per image at shape (1, 3, 384, 640)\n",
            "\n",
            "0: 384x640 2 peoples, 2 forks, 2 spoons, 2 cups, 1 kettle, 1 basket, 1 salad, 1 ribs, 1 Caesar, 1 fish, 1 soup, 1 borsch, 1 phone, 17.6ms\n",
            "Speed: 3.9ms preprocess, 17.6ms inference, 2.4ms postprocess per image at shape (1, 3, 384, 640)\n",
            "\n",
            "0: 384x640 2 peoples, 2 forks, 2 spoons, 2 cups, 1 kettle, 1 basket, 1 salad, 1 ribs, 1 Caesar, 1 fish, 1 soup, 1 borsch, 1 phone, 16.8ms\n",
            "Speed: 5.2ms preprocess, 16.8ms inference, 2.4ms postprocess per image at shape (1, 3, 384, 640)\n",
            "\n",
            "0: 384x640 2 peoples, 2 forks, 2 spoons, 2 cups, 1 kettle, 1 basket, 1 salad, 1 ribs, 1 Caesar, 1 fish, 1 soup, 1 borsch, 1 phone, 15.7ms\n",
            "Speed: 3.9ms preprocess, 15.7ms inference, 2.4ms postprocess per image at shape (1, 3, 384, 640)\n",
            "\n",
            "0: 384x640 2 peoples, 2 forks, 2 spoons, 2 cups, 1 kettle, 1 basket, 1 salad, 1 ribs, 1 Caesar, 1 fish, 1 soup, 1 borsch, 1 phone, 14.9ms\n",
            "Speed: 3.4ms preprocess, 14.9ms inference, 1.9ms postprocess per image at shape (1, 3, 384, 640)\n",
            "\n",
            "0: 384x640 2 peoples, 2 forks, 2 spoons, 2 cups, 1 kettle, 1 basket, 1 salad, 1 ribs, 1 Caesar, 1 fish, 1 soup, 1 borsch, 1 phone, 13.8ms\n",
            "Speed: 3.4ms preprocess, 13.8ms inference, 2.2ms postprocess per image at shape (1, 3, 384, 640)\n",
            "\n",
            "0: 384x640 2 peoples, 2 forks, 2 spoons, 2 cups, 1 kettle, 1 basket, 1 salad, 1 ribs, 1 Caesar, 1 fish, 1 soup, 1 borsch, 1 phone, 22.0ms\n",
            "Speed: 5.2ms preprocess, 22.0ms inference, 2.1ms postprocess per image at shape (1, 3, 384, 640)\n",
            "\n",
            "0: 384x640 2 peoples, 2 forks, 2 spoons, 2 cups, 1 kettle, 1 basket, 1 salad, 1 ribs, 1 Caesar, 1 fish, 1 soup, 1 borsch, 1 phone, 19.5ms\n",
            "Speed: 7.1ms preprocess, 19.5ms inference, 2.4ms postprocess per image at shape (1, 3, 384, 640)\n",
            "\n",
            "0: 384x640 2 peoples, 2 forks, 2 spoons, 2 cups, 1 kettle, 1 basket, 1 salad, 1 ribs, 1 Caesar, 1 fish, 1 soup, 1 borsch, 1 phone, 15.5ms\n",
            "Speed: 3.6ms preprocess, 15.5ms inference, 2.2ms postprocess per image at shape (1, 3, 384, 640)\n",
            "\n",
            "0: 384x640 2 peoples, 2 forks, 2 spoons, 2 cups, 1 kettle, 1 basket, 1 salad, 1 ribs, 1 Caesar, 1 fish, 1 soup, 1 borsch, 1 phone, 15.2ms\n",
            "Speed: 3.5ms preprocess, 15.2ms inference, 3.2ms postprocess per image at shape (1, 3, 384, 640)\n",
            "\n",
            "0: 384x640 2 peoples, 2 forks, 2 spoons, 2 cups, 1 kettle, 1 basket, 1 salad, 1 ribs, 1 Caesar, 1 fish, 1 soup, 1 borsch, 1 phone, 16.3ms\n",
            "Speed: 3.7ms preprocess, 16.3ms inference, 2.2ms postprocess per image at shape (1, 3, 384, 640)\n",
            "\n",
            "0: 384x640 2 peoples, 2 forks, 2 spoons, 2 cups, 1 kettle, 1 basket, 1 salad, 1 ribs, 1 Caesar, 1 fish, 1 soup, 1 borsch, 1 phone, 15.2ms\n",
            "Speed: 3.3ms preprocess, 15.2ms inference, 2.2ms postprocess per image at shape (1, 3, 384, 640)\n",
            "\n",
            "0: 384x640 2 peoples, 2 forks, 2 spoons, 2 cups, 1 kettle, 1 basket, 1 salad, 1 ribs, 1 Caesar, 1 fish, 1 soup, 1 borsch, 1 phone, 15.4ms\n",
            "Speed: 3.5ms preprocess, 15.4ms inference, 2.2ms postprocess per image at shape (1, 3, 384, 640)\n",
            "\n",
            "0: 384x640 2 peoples, 2 forks, 2 spoons, 2 cups, 1 kettle, 1 basket, 1 salad, 1 ribs, 1 Caesar, 1 fish, 1 soup, 1 borsch, 1 phone, 16.4ms\n",
            "Speed: 3.4ms preprocess, 16.4ms inference, 2.3ms postprocess per image at shape (1, 3, 384, 640)\n",
            "\n",
            "0: 384x640 1 people, 2 forks, 2 spoons, 2 cups, 1 kettle, 1 basket, 1 salad, 1 ribs, 1 Caesar, 1 fish, 1 soup, 1 borsch, 1 phone, 16.8ms\n",
            "Speed: 3.7ms preprocess, 16.8ms inference, 3.3ms postprocess per image at shape (1, 3, 384, 640)\n",
            "\n",
            "0: 384x640 1 people, 2 forks, 2 spoons, 2 cups, 1 kettle, 1 basket, 1 salad, 1 ribs, 1 Caesar, 1 fish, 1 soup, 1 borsch, 1 phone, 17.7ms\n",
            "Speed: 3.5ms preprocess, 17.7ms inference, 2.3ms postprocess per image at shape (1, 3, 384, 640)\n",
            "\n",
            "0: 384x640 1 people, 2 forks, 2 spoons, 2 cups, 1 kettle, 1 basket, 1 salad, 1 ribs, 1 Caesar, 1 fish, 1 soup, 1 borsch, 1 phone, 29.8ms\n",
            "Speed: 6.1ms preprocess, 29.8ms inference, 7.8ms postprocess per image at shape (1, 3, 384, 640)\n",
            "\n",
            "0: 384x640 1 people, 2 forks, 2 spoons, 2 cups, 1 kettle, 1 basket, 1 salad, 1 ribs, 1 Caesar, 1 fish, 1 soup, 1 borsch, 1 phone, 33.1ms\n",
            "Speed: 5.9ms preprocess, 33.1ms inference, 2.0ms postprocess per image at shape (1, 3, 384, 640)\n",
            "\n",
            "0: 384x640 1 people, 2 forks, 2 spoons, 2 cups, 1 kettle, 1 basket, 1 salad, 1 ribs, 1 Caesar, 1 fish, 1 soup, 1 borsch, 1 phone, 26.4ms\n",
            "Speed: 15.7ms preprocess, 26.4ms inference, 2.0ms postprocess per image at shape (1, 3, 384, 640)\n",
            "\n",
            "0: 384x640 1 people, 2 forks, 2 spoons, 2 cups, 1 kettle, 1 basket, 1 salad, 1 ribs, 1 Caesar, 1 fish, 1 soup, 1 borsch, 1 phone, 29.9ms\n",
            "Speed: 6.4ms preprocess, 29.9ms inference, 9.5ms postprocess per image at shape (1, 3, 384, 640)\n",
            "\n",
            "0: 384x640 2 peoples, 2 forks, 2 spoons, 2 cups, 1 kettle, 1 basket, 1 salad, 1 ribs, 1 Caesar, 1 fish, 1 soup, 1 borsch, 1 phone, 34.9ms\n",
            "Speed: 3.5ms preprocess, 34.9ms inference, 2.0ms postprocess per image at shape (1, 3, 384, 640)\n",
            "\n",
            "0: 384x640 2 peoples, 2 forks, 2 spoons, 2 cups, 1 kettle, 1 basket, 1 salad, 1 ribs, 1 Caesar, 1 fish, 1 soup, 1 borsch, 1 phone, 34.0ms\n",
            "Speed: 3.9ms preprocess, 34.0ms inference, 9.4ms postprocess per image at shape (1, 3, 384, 640)\n",
            "\n",
            "0: 384x640 2 peoples, 2 forks, 2 spoons, 2 cups, 1 kettle, 1 basket, 1 salad, 1 ribs, 1 Caesar, 1 fish, 1 soup, 1 borsch, 1 phone, 27.4ms\n",
            "Speed: 4.4ms preprocess, 27.4ms inference, 2.3ms postprocess per image at shape (1, 3, 384, 640)\n",
            "\n",
            "0: 384x640 2 peoples, 2 forks, 2 spoons, 2 cups, 1 kettle, 1 basket, 1 salad, 1 ribs, 1 Caesar, 1 fish, 1 soup, 1 borsch, 1 phone, 16.3ms\n",
            "Speed: 6.8ms preprocess, 16.3ms inference, 2.2ms postprocess per image at shape (1, 3, 384, 640)\n",
            "\n",
            "0: 384x640 2 peoples, 2 forks, 2 spoons, 2 cups, 1 kettle, 1 basket, 1 salad, 1 ribs, 1 Caesar, 1 fish, 1 soup, 1 borsch, 1 phone, 24.4ms\n",
            "Speed: 3.3ms preprocess, 24.4ms inference, 2.3ms postprocess per image at shape (1, 3, 384, 640)\n",
            "\n",
            "0: 384x640 2 peoples, 2 forks, 2 spoons, 2 cups, 1 kettle, 1 basket, 1 salad, 1 ribs, 1 Caesar, 1 fish, 1 soup, 1 borsch, 1 phone, 18.0ms\n",
            "Speed: 11.0ms preprocess, 18.0ms inference, 2.2ms postprocess per image at shape (1, 3, 384, 640)\n",
            "\n",
            "0: 384x640 2 peoples, 2 forks, 2 spoons, 2 cups, 1 kettle, 1 basket, 1 salad, 1 ribs, 1 Caesar, 1 fish, 1 soup, 1 borsch, 1 phone, 29.1ms\n",
            "Speed: 3.3ms preprocess, 29.1ms inference, 2.2ms postprocess per image at shape (1, 3, 384, 640)\n",
            "\n",
            "0: 384x640 2 peoples, 2 forks, 2 spoons, 2 cups, 1 kettle, 1 basket, 1 salad, 1 ribs, 1 Caesar, 1 fish, 1 soup, 1 borsch, 1 phone, 19.0ms\n",
            "Speed: 3.9ms preprocess, 19.0ms inference, 2.5ms postprocess per image at shape (1, 3, 384, 640)\n",
            "\n",
            "0: 384x640 2 peoples, 2 forks, 2 spoons, 2 cups, 1 kettle, 1 basket, 1 salad, 1 ribs, 1 Caesar, 1 fish, 1 soup, 1 borsch, 1 phone, 18.6ms\n",
            "Speed: 3.8ms preprocess, 18.6ms inference, 2.2ms postprocess per image at shape (1, 3, 384, 640)\n",
            "\n",
            "0: 384x640 2 peoples, 2 forks, 2 spoons, 2 cups, 1 kettle, 1 basket, 1 salad, 1 ribs, 1 Caesar, 1 fish, 1 soup, 1 borsch, 1 phone, 15.9ms\n",
            "Speed: 3.5ms preprocess, 15.9ms inference, 2.4ms postprocess per image at shape (1, 3, 384, 640)\n",
            "\n",
            "0: 384x640 2 peoples, 2 forks, 2 spoons, 2 cups, 1 kettle, 1 basket, 1 salad, 1 ribs, 1 Caesar, 1 fish, 1 soup, 1 borsch, 1 phone, 17.2ms\n",
            "Speed: 3.5ms preprocess, 17.2ms inference, 2.3ms postprocess per image at shape (1, 3, 384, 640)\n",
            "\n",
            "0: 384x640 3 peoples, 2 forks, 2 spoons, 2 cups, 1 kettle, 1 basket, 1 salad, 1 ribs, 1 Caesar, 1 fish, 1 soup, 1 borsch, 1 phone, 18.6ms\n",
            "Speed: 3.9ms preprocess, 18.6ms inference, 2.4ms postprocess per image at shape (1, 3, 384, 640)\n",
            "\n",
            "0: 384x640 2 peoples, 2 forks, 2 spoons, 2 cups, 1 kettle, 1 basket, 1 salad, 1 ribs, 1 Caesar, 1 fish, 1 soup, 1 borsch, 1 phone, 15.8ms\n",
            "Speed: 4.0ms preprocess, 15.8ms inference, 2.3ms postprocess per image at shape (1, 3, 384, 640)\n",
            "\n",
            "0: 384x640 2 peoples, 2 forks, 2 spoons, 2 cups, 1 kettle, 1 basket, 1 salad, 1 ribs, 1 Caesar, 1 fish, 1 soup, 1 borsch, 1 phone, 16.7ms\n",
            "Speed: 3.3ms preprocess, 16.7ms inference, 2.2ms postprocess per image at shape (1, 3, 384, 640)\n",
            "\n",
            "0: 384x640 2 peoples, 2 forks, 2 spoons, 2 cups, 1 kettle, 1 basket, 1 salad, 1 ribs, 1 Caesar, 1 fish, 1 soup, 1 borsch, 1 phone, 15.7ms\n",
            "Speed: 3.8ms preprocess, 15.7ms inference, 2.2ms postprocess per image at shape (1, 3, 384, 640)\n",
            "\n",
            "0: 384x640 2 peoples, 2 forks, 2 spoons, 2 cups, 1 kettle, 1 basket, 1 salad, 1 ribs, 1 Caesar, 1 fish, 1 soup, 1 borsch, 1 phone, 16.0ms\n",
            "Speed: 3.9ms preprocess, 16.0ms inference, 2.3ms postprocess per image at shape (1, 3, 384, 640)\n",
            "\n",
            "0: 384x640 2 peoples, 2 forks, 2 spoons, 2 cups, 1 kettle, 1 basket, 1 salad, 1 ribs, 1 Caesar, 1 fish, 1 soup, 1 borsch, 1 phone, 15.6ms\n",
            "Speed: 3.6ms preprocess, 15.6ms inference, 2.3ms postprocess per image at shape (1, 3, 384, 640)\n",
            "\n",
            "0: 384x640 2 peoples, 2 forks, 2 spoons, 2 cups, 1 kettle, 1 basket, 1 salad, 1 ribs, 1 Caesar, 1 fish, 1 soup, 1 borsch, 1 phone, 20.7ms\n",
            "Speed: 7.7ms preprocess, 20.7ms inference, 2.3ms postprocess per image at shape (1, 3, 384, 640)\n",
            "\n",
            "0: 384x640 2 peoples, 2 forks, 2 spoons, 2 cups, 1 kettle, 1 basket, 1 salad, 1 ribs, 1 Caesar, 1 fish, 1 soup, 1 borsch, 1 phone, 15.3ms\n",
            "Speed: 4.6ms preprocess, 15.3ms inference, 2.2ms postprocess per image at shape (1, 3, 384, 640)\n",
            "\n",
            "0: 384x640 2 peoples, 2 forks, 2 spoons, 2 cups, 1 kettle, 1 basket, 1 salad, 1 ribs, 1 Caesar, 1 fish, 1 soup, 1 borsch, 1 phone, 15.9ms\n",
            "Speed: 3.8ms preprocess, 15.9ms inference, 2.3ms postprocess per image at shape (1, 3, 384, 640)\n",
            "\n",
            "0: 384x640 2 peoples, 2 forks, 2 spoons, 2 cups, 1 kettle, 1 basket, 1 salad, 1 ribs, 1 Caesar, 1 fish, 1 soup, 1 borsch, 1 phone, 15.2ms\n",
            "Speed: 3.8ms preprocess, 15.2ms inference, 2.2ms postprocess per image at shape (1, 3, 384, 640)\n",
            "\n",
            "0: 384x640 2 peoples, 2 forks, 2 spoons, 2 cups, 1 kettle, 1 basket, 1 salad, 1 ribs, 1 Caesar, 1 fish, 1 soup, 1 borsch, 1 phone, 25.2ms\n",
            "Speed: 3.4ms preprocess, 25.2ms inference, 2.4ms postprocess per image at shape (1, 3, 384, 640)\n",
            "\n",
            "0: 384x640 1 people, 2 forks, 2 spoons, 2 cups, 1 kettle, 1 basket, 1 salad, 1 ribs, 1 Caesar, 1 fish, 1 soup, 1 borsch, 1 phone, 16.3ms\n",
            "Speed: 3.5ms preprocess, 16.3ms inference, 2.3ms postprocess per image at shape (1, 3, 384, 640)\n",
            "\n",
            "0: 384x640 1 people, 2 forks, 2 spoons, 2 cups, 1 kettle, 1 salad, 1 ribs, 1 Caesar, 1 fish, 1 soup, 1 borsch, 1 phone, 18.3ms\n",
            "Speed: 4.2ms preprocess, 18.3ms inference, 2.2ms postprocess per image at shape (1, 3, 384, 640)\n",
            "\n",
            "0: 384x640 1 people, 2 forks, 2 spoons, 2 cups, 1 kettle, 1 salad, 1 ribs, 1 Caesar, 1 fish, 1 soup, 1 borsch, 1 phone, 15.7ms\n",
            "Speed: 3.7ms preprocess, 15.7ms inference, 2.3ms postprocess per image at shape (1, 3, 384, 640)\n",
            "\n",
            "0: 384x640 1 people, 2 forks, 2 spoons, 2 cups, 1 kettle, 1 salad, 1 ribs, 1 Caesar, 1 fish, 1 soup, 1 borsch, 1 phone, 28.4ms\n",
            "Speed: 7.1ms preprocess, 28.4ms inference, 2.3ms postprocess per image at shape (1, 3, 384, 640)\n",
            "\n",
            "0: 384x640 1 people, 2 forks, 2 spoons, 2 cups, 1 kettle, 1 salad, 1 ribs, 1 Caesar, 1 fish, 1 soup, 1 borsch, 1 phone, 15.3ms\n",
            "Speed: 5.5ms preprocess, 15.3ms inference, 2.3ms postprocess per image at shape (1, 3, 384, 640)\n",
            "\n",
            "0: 384x640 1 people, 2 forks, 2 spoons, 2 cups, 1 kettle, 1 salad, 1 ribs, 1 Caesar, 1 fish, 1 soup, 1 borsch, 1 phone, 18.4ms\n",
            "Speed: 11.4ms preprocess, 18.4ms inference, 2.3ms postprocess per image at shape (1, 3, 384, 640)\n",
            "\n",
            "0: 384x640 1 people, 2 forks, 2 spoons, 2 cups, 1 kettle, 1 salad, 1 ribs, 1 Caesar, 1 fish, 1 soup, 1 borsch, 1 phone, 16.0ms\n",
            "Speed: 4.2ms preprocess, 16.0ms inference, 2.3ms postprocess per image at shape (1, 3, 384, 640)\n",
            "\n",
            "0: 384x640 1 people, 2 forks, 2 spoons, 2 cups, 1 kettle, 1 basket, 1 salad, 1 ribs, 1 Caesar, 1 fish, 1 soup, 1 borsch, 1 phone, 17.6ms\n",
            "Speed: 11.0ms preprocess, 17.6ms inference, 5.0ms postprocess per image at shape (1, 3, 384, 640)\n",
            "\n",
            "0: 384x640 1 people, 2 forks, 2 spoons, 2 cups, 1 kettle, 1 basket, 1 salad, 1 ribs, 1 Caesar, 1 fish, 1 soup, 1 borsch, 1 phone, 16.3ms\n",
            "Speed: 4.7ms preprocess, 16.3ms inference, 2.2ms postprocess per image at shape (1, 3, 384, 640)\n",
            "\n",
            "0: 384x640 1 people, 2 forks, 2 spoons, 2 cups, 1 kettle, 1 basket, 1 salad, 1 ribs, 1 Caesar, 1 fish, 1 soup, 1 borsch, 1 phone, 20.2ms\n",
            "Speed: 5.3ms preprocess, 20.2ms inference, 2.1ms postprocess per image at shape (1, 3, 384, 640)\n",
            "\n",
            "0: 384x640 1 people, 2 forks, 2 spoons, 2 cups, 1 kettle, 1 basket, 1 salad, 1 ribs, 1 Caesar, 1 fish, 1 soup, 1 borsch, 1 phone, 18.6ms\n",
            "Speed: 3.9ms preprocess, 18.6ms inference, 2.3ms postprocess per image at shape (1, 3, 384, 640)\n",
            "\n",
            "0: 384x640 1 people, 2 forks, 2 spoons, 2 cups, 1 kettle, 1 basket, 1 salad, 1 ribs, 1 Caesar, 1 fish, 1 soup, 1 borsch, 1 phone, 16.9ms\n",
            "Speed: 3.5ms preprocess, 16.9ms inference, 2.3ms postprocess per image at shape (1, 3, 384, 640)\n",
            "\n",
            "0: 384x640 1 people, 2 forks, 2 spoons, 2 cups, 1 kettle, 1 basket, 1 salad, 1 ribs, 1 Caesar, 1 fish, 1 borsch, 1 phone, 15.9ms\n",
            "Speed: 3.9ms preprocess, 15.9ms inference, 2.2ms postprocess per image at shape (1, 3, 384, 640)\n",
            "\n",
            "0: 384x640 1 people, 2 forks, 2 spoons, 2 cups, 1 kettle, 1 basket, 1 salad, 1 ribs, 1 Caesar, 1 fish, 1 borsch, 1 phone, 16.2ms\n",
            "Speed: 3.9ms preprocess, 16.2ms inference, 2.3ms postprocess per image at shape (1, 3, 384, 640)\n",
            "\n",
            "0: 384x640 1 people, 2 forks, 2 spoons, 2 cups, 1 kettle, 1 basket, 1 salad, 1 ribs, 1 Caesar, 1 fish, 1 borsch, 1 phone, 15.9ms\n",
            "Speed: 4.2ms preprocess, 15.9ms inference, 2.5ms postprocess per image at shape (1, 3, 384, 640)\n",
            "\n",
            "0: 384x640 1 people, 2 forks, 2 spoons, 2 cups, 1 kettle, 1 basket, 1 salad, 1 ribs, 1 Caesar, 1 fish, 1 borsch, 1 phone, 16.0ms\n",
            "Speed: 6.9ms preprocess, 16.0ms inference, 2.2ms postprocess per image at shape (1, 3, 384, 640)\n",
            "\n",
            "0: 384x640 1 people, 2 forks, 2 spoons, 2 cups, 1 kettle, 1 basket, 1 salad, 1 ribs, 1 Caesar, 1 fish, 1 borsch, 1 phone, 17.0ms\n",
            "Speed: 3.8ms preprocess, 17.0ms inference, 2.3ms postprocess per image at shape (1, 3, 384, 640)\n",
            "\n",
            "0: 384x640 1 people, 2 forks, 2 spoons, 2 cups, 1 kettle, 1 basket, 1 salad, 1 ribs, 1 Caesar, 1 fish, 1 borsch, 1 phone, 15.1ms\n",
            "Speed: 4.1ms preprocess, 15.1ms inference, 2.3ms postprocess per image at shape (1, 3, 384, 640)\n",
            "\n",
            "0: 384x640 1 people, 2 forks, 2 spoons, 2 cups, 1 kettle, 1 basket, 1 salad, 1 ribs, 1 Caesar, 1 fish, 1 borsch, 1 phone, 17.1ms\n",
            "Speed: 4.1ms preprocess, 17.1ms inference, 2.2ms postprocess per image at shape (1, 3, 384, 640)\n",
            "\n",
            "0: 384x640 1 people, 2 forks, 2 spoons, 2 cups, 1 kettle, 1 basket, 1 salad, 1 ribs, 1 Caesar, 1 fish, 1 borsch, 1 phone, 16.8ms\n",
            "Speed: 10.9ms preprocess, 16.8ms inference, 2.3ms postprocess per image at shape (1, 3, 384, 640)\n",
            "\n",
            "0: 384x640 1 people, 2 forks, 2 spoons, 2 cups, 1 kettle, 1 salad, 1 ribs, 1 Caesar, 1 fish, 1 borsch, 1 phone, 15.3ms\n",
            "Speed: 3.7ms preprocess, 15.3ms inference, 2.2ms postprocess per image at shape (1, 3, 384, 640)\n",
            "\n",
            "0: 384x640 1 people, 2 forks, 2 spoons, 2 cups, 1 kettle, 1 salad, 1 ribs, 1 Caesar, 1 fish, 1 borsch, 1 phone, 14.1ms\n",
            "Speed: 3.6ms preprocess, 14.1ms inference, 1.9ms postprocess per image at shape (1, 3, 384, 640)\n",
            "\n",
            "0: 384x640 2 peoples, 2 forks, 2 spoons, 2 cups, 1 kettle, 1 salad, 1 ribs, 1 Caesar, 1 fish, 1 borsch, 1 phone, 15.4ms\n",
            "Speed: 3.7ms preprocess, 15.4ms inference, 2.3ms postprocess per image at shape (1, 3, 384, 640)\n",
            "\n",
            "0: 384x640 2 peoples, 2 forks, 2 spoons, 2 cups, 1 kettle, 1 salad, 1 ribs, 1 Caesar, 1 fish, 1 soup, 1 borsch, 1 phone, 17.2ms\n",
            "Speed: 3.8ms preprocess, 17.2ms inference, 2.2ms postprocess per image at shape (1, 3, 384, 640)\n",
            "\n",
            "0: 384x640 2 peoples, 2 forks, 2 spoons, 2 cups, 1 kettle, 1 salad, 1 ribs, 1 Caesar, 1 fish, 2 soups, 1 borsch, 1 phone, 15.7ms\n",
            "Speed: 6.9ms preprocess, 15.7ms inference, 2.2ms postprocess per image at shape (1, 3, 384, 640)\n",
            "\n",
            "0: 384x640 2 peoples, 2 forks, 2 spoons, 2 cups, 1 kettle, 1 salad, 1 ribs, 1 Caesar, 1 fish, 2 soups, 1 borsch, 1 phone, 14.4ms\n",
            "Speed: 3.3ms preprocess, 14.4ms inference, 2.0ms postprocess per image at shape (1, 3, 384, 640)\n",
            "\n",
            "0: 384x640 2 peoples, 2 forks, 2 spoons, 2 cups, 1 kettle, 1 salad, 1 ribs, 1 Caesar, 1 fish, 1 soup, 1 borsch, 1 phone, 15.2ms\n",
            "Speed: 4.5ms preprocess, 15.2ms inference, 2.4ms postprocess per image at shape (1, 3, 384, 640)\n",
            "\n",
            "0: 384x640 2 peoples, 2 forks, 2 spoons, 2 cups, 1 kettle, 1 salad, 1 ribs, 1 Caesar, 1 fish, 1 soup, 1 borsch, 1 phone, 15.6ms\n",
            "Speed: 3.8ms preprocess, 15.6ms inference, 2.2ms postprocess per image at shape (1, 3, 384, 640)\n",
            "\n",
            "0: 384x640 2 peoples, 2 forks, 2 spoons, 2 cups, 1 kettle, 1 basket, 1 salad, 1 ribs, 1 Caesar, 1 fish, 1 soup, 1 borsch, 1 phone, 15.0ms\n",
            "Speed: 10.1ms preprocess, 15.0ms inference, 2.2ms postprocess per image at shape (1, 3, 384, 640)\n",
            "\n",
            "0: 384x640 2 peoples, 2 forks, 2 spoons, 2 cups, 1 kettle, 1 basket, 1 salad, 1 ribs, 1 Caesar, 1 fish, 1 soup, 1 borsch, 1 phone, 18.1ms\n",
            "Speed: 3.9ms preprocess, 18.1ms inference, 2.3ms postprocess per image at shape (1, 3, 384, 640)\n",
            "\n",
            "0: 384x640 2 peoples, 2 forks, 2 spoons, 2 cups, 1 kettle, 1 basket, 1 salad, 1 ribs, 1 Caesar, 1 fish, 1 soup, 1 borsch, 1 phone, 44.3ms\n",
            "Speed: 3.5ms preprocess, 44.3ms inference, 2.1ms postprocess per image at shape (1, 3, 384, 640)\n",
            "\n",
            "0: 384x640 2 peoples, 2 forks, 2 spoons, 2 cups, 1 kettle, 1 basket, 1 salad, 1 ribs, 1 Caesar, 1 fish, 1 soup, 1 borsch, 1 phone, 25.8ms\n",
            "Speed: 3.7ms preprocess, 25.8ms inference, 2.0ms postprocess per image at shape (1, 3, 384, 640)\n",
            "\n",
            "0: 384x640 2 peoples, 2 forks, 2 spoons, 2 cups, 1 kettle, 1 basket, 1 salad, 1 ribs, 1 Caesar, 1 fish, 1 soup, 1 borsch, 1 phone, 33.2ms\n",
            "Speed: 3.4ms preprocess, 33.2ms inference, 9.3ms postprocess per image at shape (1, 3, 384, 640)\n",
            "\n",
            "0: 384x640 2 peoples, 2 forks, 2 spoons, 2 cups, 1 kettle, 1 basket, 1 salad, 1 ribs, 1 Caesar, 1 fish, 1 soup, 1 borsch, 1 phone, 19.7ms\n",
            "Speed: 3.7ms preprocess, 19.7ms inference, 11.9ms postprocess per image at shape (1, 3, 384, 640)\n",
            "\n",
            "0: 384x640 2 peoples, 2 forks, 2 spoons, 2 cups, 1 kettle, 1 basket, 1 salad, 1 ribs, 1 Caesar, 1 fish, 1 soup, 1 borsch, 1 phone, 25.4ms\n",
            "Speed: 10.5ms preprocess, 25.4ms inference, 2.2ms postprocess per image at shape (1, 3, 384, 640)\n",
            "\n",
            "0: 384x640 2 peoples, 2 forks, 2 spoons, 2 cups, 1 kettle, 1 basket, 1 salad, 1 ribs, 1 Caesar, 1 fish, 1 soup, 1 borsch, 1 phone, 19.6ms\n",
            "Speed: 3.3ms preprocess, 19.6ms inference, 4.3ms postprocess per image at shape (1, 3, 384, 640)\n",
            "\n",
            "0: 384x640 2 peoples, 2 forks, 2 spoons, 2 cups, 1 kettle, 1 basket, 1 salad, 1 ribs, 1 Caesar, 1 fish, 1 soup, 1 borsch, 1 phone, 47.8ms\n",
            "Speed: 3.9ms preprocess, 47.8ms inference, 2.3ms postprocess per image at shape (1, 3, 384, 640)\n",
            "\n",
            "0: 384x640 2 peoples, 2 forks, 2 spoons, 2 cups, 1 kettle, 1 basket, 1 salad, 1 ribs, 1 Caesar, 1 fish, 1 soup, 1 borsch, 1 phone, 15.1ms\n",
            "Speed: 4.5ms preprocess, 15.1ms inference, 2.0ms postprocess per image at shape (1, 3, 384, 640)\n",
            "\n",
            "0: 384x640 2 peoples, 2 forks, 2 spoons, 2 cups, 1 kettle, 1 basket, 1 salad, 1 ribs, 1 Caesar, 1 fish, 1 soup, 1 borsch, 1 phone, 17.1ms\n",
            "Speed: 6.8ms preprocess, 17.1ms inference, 2.2ms postprocess per image at shape (1, 3, 384, 640)\n",
            "\n",
            "0: 384x640 2 peoples, 2 forks, 2 spoons, 2 cups, 1 kettle, 1 basket, 1 salad, 1 ribs, 1 Caesar, 1 fish, 1 soup, 1 borsch, 1 phone, 19.0ms\n",
            "Speed: 8.2ms preprocess, 19.0ms inference, 2.5ms postprocess per image at shape (1, 3, 384, 640)\n",
            "\n",
            "0: 384x640 2 peoples, 2 forks, 2 spoons, 2 cups, 1 kettle, 1 basket, 1 salad, 1 ribs, 1 Caesar, 1 fish, 1 soup, 1 borsch, 1 phone, 16.0ms\n",
            "Speed: 3.8ms preprocess, 16.0ms inference, 2.1ms postprocess per image at shape (1, 3, 384, 640)\n",
            "\n",
            "0: 384x640 1 people, 2 forks, 2 spoons, 2 cups, 1 kettle, 1 basket, 1 salad, 1 ribs, 1 Caesar, 1 fish, 1 soup, 1 borsch, 1 phone, 26.0ms\n",
            "Speed: 3.3ms preprocess, 26.0ms inference, 2.1ms postprocess per image at shape (1, 3, 384, 640)\n",
            "\n",
            "0: 384x640 2 peoples, 2 forks, 2 spoons, 2 cups, 1 kettle, 1 basket, 1 salad, 1 ribs, 1 Caesar, 1 fish, 1 soup, 1 borsch, 1 phone, 26.2ms\n",
            "Speed: 5.2ms preprocess, 26.2ms inference, 2.5ms postprocess per image at shape (1, 3, 384, 640)\n",
            "\n",
            "0: 384x640 1 people, 2 forks, 2 spoons, 2 cups, 1 kettle, 1 basket, 1 salad, 1 ribs, 1 Caesar, 1 fish, 1 soup, 1 borsch, 1 phone, 26.8ms\n",
            "Speed: 3.9ms preprocess, 26.8ms inference, 2.5ms postprocess per image at shape (1, 3, 384, 640)\n",
            "\n",
            "0: 384x640 1 people, 2 forks, 2 spoons, 2 cups, 1 kettle, 1 basket, 1 salad, 1 ribs, 1 Caesar, 1 fish, 1 borsch, 1 phone, 20.1ms\n",
            "Speed: 3.0ms preprocess, 20.1ms inference, 2.3ms postprocess per image at shape (1, 3, 384, 640)\n",
            "\n",
            "0: 384x640 1 people, 2 forks, 2 spoons, 2 cups, 1 kettle, 1 basket, 1 salad, 1 ribs, 1 Caesar, 1 fish, 1 borsch, 1 phone, 19.9ms\n",
            "Speed: 10.0ms preprocess, 19.9ms inference, 2.4ms postprocess per image at shape (1, 3, 384, 640)\n",
            "\n",
            "0: 384x640 1 people, 2 forks, 2 spoons, 2 cups, 1 kettle, 1 basket, 1 salad, 1 ribs, 1 Caesar, 1 fish, 1 borsch, 1 phone, 14.7ms\n",
            "Speed: 5.5ms preprocess, 14.7ms inference, 2.2ms postprocess per image at shape (1, 3, 384, 640)\n",
            "\n",
            "0: 384x640 1 people, 2 forks, 2 spoons, 2 cups, 1 kettle, 1 basket, 1 salad, 1 ribs, 1 Caesar, 1 fish, 1 borsch, 1 phone, 24.5ms\n",
            "Speed: 12.4ms preprocess, 24.5ms inference, 2.3ms postprocess per image at shape (1, 3, 384, 640)\n",
            "\n",
            "0: 384x640 1 people, 2 forks, 2 spoons, 2 cups, 1 kettle, 1 basket, 1 salad, 1 ribs, 1 Caesar, 1 fish, 1 borsch, 1 phone, 15.4ms\n",
            "Speed: 10.4ms preprocess, 15.4ms inference, 2.2ms postprocess per image at shape (1, 3, 384, 640)\n",
            "\n",
            "0: 384x640 1 people, 2 forks, 2 spoons, 2 cups, 1 kettle, 1 basket, 1 salad, 1 ribs, 1 Caesar, 1 fish, 1 borsch, 1 phone, 15.3ms\n",
            "Speed: 4.1ms preprocess, 15.3ms inference, 2.3ms postprocess per image at shape (1, 3, 384, 640)\n",
            "\n",
            "0: 384x640 1 people, 2 forks, 2 spoons, 2 cups, 1 kettle, 1 basket, 1 salad, 1 ribs, 1 Caesar, 1 fish, 1 borsch, 1 phone, 18.5ms\n",
            "Speed: 8.6ms preprocess, 18.5ms inference, 2.4ms postprocess per image at shape (1, 3, 384, 640)\n",
            "\n",
            "0: 384x640 1 people, 2 forks, 2 spoons, 2 cups, 1 kettle, 1 basket, 1 salad, 1 ribs, 1 Caesar, 1 fish, 1 borsch, 1 phone, 25.3ms\n",
            "Speed: 3.3ms preprocess, 25.3ms inference, 2.6ms postprocess per image at shape (1, 3, 384, 640)\n",
            "\n",
            "0: 384x640 1 people, 2 forks, 2 spoons, 2 cups, 1 kettle, 1 basket, 1 salad, 1 ribs, 1 Caesar, 1 fish, 1 borsch, 1 phone, 22.3ms\n",
            "Speed: 7.6ms preprocess, 22.3ms inference, 2.3ms postprocess per image at shape (1, 3, 384, 640)\n",
            "\n",
            "0: 384x640 1 people, 2 forks, 2 spoons, 2 cups, 1 kettle, 1 basket, 1 salad, 1 ribs, 1 Caesar, 1 fish, 1 borsch, 1 phone, 23.9ms\n",
            "Speed: 3.4ms preprocess, 23.9ms inference, 2.4ms postprocess per image at shape (1, 3, 384, 640)\n",
            "\n",
            "0: 384x640 1 people, 2 forks, 2 spoons, 2 cups, 1 kettle, 1 basket, 1 salad, 1 ribs, 1 Caesar, 1 fish, 1 borsch, 1 phone, 17.3ms\n",
            "Speed: 4.0ms preprocess, 17.3ms inference, 2.3ms postprocess per image at shape (1, 3, 384, 640)\n",
            "\n",
            "0: 384x640 1 people, 2 forks, 2 spoons, 2 cups, 1 kettle, 1 basket, 1 salad, 1 ribs, 1 Caesar, 1 fish, 1 borsch, 1 phone, 16.0ms\n",
            "Speed: 6.2ms preprocess, 16.0ms inference, 2.2ms postprocess per image at shape (1, 3, 384, 640)\n",
            "\n",
            "0: 384x640 1 people, 2 forks, 2 spoons, 2 cups, 1 kettle, 1 basket, 1 salad, 1 ribs, 1 Caesar, 1 fish, 1 borsch, 1 phone, 14.9ms\n",
            "Speed: 10.5ms preprocess, 14.9ms inference, 2.1ms postprocess per image at shape (1, 3, 384, 640)\n",
            "\n",
            "0: 384x640 1 people, 2 forks, 2 spoons, 2 cups, 1 kettle, 1 basket, 1 salad, 1 ribs, 1 Caesar, 1 fish, 1 borsch, 1 phone, 15.4ms\n",
            "Speed: 3.9ms preprocess, 15.4ms inference, 2.2ms postprocess per image at shape (1, 3, 384, 640)\n",
            "\n",
            "0: 384x640 1 people, 2 forks, 2 spoons, 2 cups, 1 kettle, 1 basket, 1 salad, 1 ribs, 1 Caesar, 1 fish, 1 borsch, 1 phone, 15.5ms\n",
            "Speed: 3.7ms preprocess, 15.5ms inference, 2.2ms postprocess per image at shape (1, 3, 384, 640)\n",
            "\n",
            "0: 384x640 1 people, 2 forks, 2 spoons, 2 cups, 1 kettle, 1 basket, 1 salad, 1 ribs, 1 Caesar, 1 fish, 1 borsch, 1 phone, 15.6ms\n",
            "Speed: 3.8ms preprocess, 15.6ms inference, 2.2ms postprocess per image at shape (1, 3, 384, 640)\n",
            "\n",
            "0: 384x640 1 people, 2 forks, 2 spoons, 2 cups, 1 kettle, 1 basket, 1 salad, 1 ribs, 1 Caesar, 1 fish, 1 borsch, 1 phone, 16.5ms\n",
            "Speed: 3.9ms preprocess, 16.5ms inference, 2.3ms postprocess per image at shape (1, 3, 384, 640)\n",
            "\n",
            "0: 384x640 1 people, 2 forks, 2 spoons, 2 cups, 1 kettle, 1 basket, 1 salad, 1 ribs, 1 Caesar, 1 fish, 1 borsch, 1 phone, 20.3ms\n",
            "Speed: 7.0ms preprocess, 20.3ms inference, 2.3ms postprocess per image at shape (1, 3, 384, 640)\n",
            "\n",
            "0: 384x640 1 people, 2 forks, 2 spoons, 2 cups, 1 kettle, 1 basket, 1 salad, 1 ribs, 1 Caesar, 1 fish, 1 borsch, 1 phone, 15.8ms\n",
            "Speed: 3.9ms preprocess, 15.8ms inference, 2.4ms postprocess per image at shape (1, 3, 384, 640)\n",
            "\n",
            "0: 384x640 1 people, 2 forks, 2 spoons, 2 cups, 1 kettle, 1 basket, 1 salad, 1 ribs, 1 Caesar, 1 fish, 1 borsch, 1 phone, 15.9ms\n",
            "Speed: 6.0ms preprocess, 15.9ms inference, 2.4ms postprocess per image at shape (1, 3, 384, 640)\n",
            "\n",
            "0: 384x640 1 people, 2 forks, 2 spoons, 2 cups, 1 kettle, 1 basket, 1 salad, 1 ribs, 1 Caesar, 1 fish, 1 borsch, 1 phone, 14.1ms\n",
            "Speed: 3.3ms preprocess, 14.1ms inference, 2.0ms postprocess per image at shape (1, 3, 384, 640)\n",
            "\n",
            "0: 384x640 1 people, 2 forks, 2 spoons, 2 cups, 1 kettle, 1 basket, 1 salad, 1 ribs, 1 Caesar, 1 fish, 1 borsch, 1 phone, 15.8ms\n",
            "Speed: 3.5ms preprocess, 15.8ms inference, 2.1ms postprocess per image at shape (1, 3, 384, 640)\n",
            "\n",
            "0: 384x640 1 people, 2 forks, 2 spoons, 2 cups, 1 kettle, 1 basket, 1 salad, 1 ribs, 1 Caesar, 1 fish, 1 borsch, 1 phone, 23.9ms\n",
            "Speed: 4.1ms preprocess, 23.9ms inference, 2.5ms postprocess per image at shape (1, 3, 384, 640)\n",
            "\n",
            "0: 384x640 1 people, 2 forks, 2 spoons, 2 cups, 1 kettle, 1 basket, 1 salad, 1 ribs, 1 Caesar, 1 fish, 1 borsch, 1 phone, 20.0ms\n",
            "Speed: 4.4ms preprocess, 20.0ms inference, 2.4ms postprocess per image at shape (1, 3, 384, 640)\n",
            "\n",
            "0: 384x640 1 people, 2 forks, 2 spoons, 2 cups, 1 kettle, 1 basket, 1 salad, 1 ribs, 1 Caesar, 1 fish, 1 borsch, 1 phone, 31.1ms\n",
            "Speed: 6.4ms preprocess, 31.1ms inference, 2.3ms postprocess per image at shape (1, 3, 384, 640)\n",
            "\n",
            "0: 384x640 1 people, 2 forks, 2 spoons, 2 cups, 1 kettle, 1 basket, 1 salad, 1 ribs, 1 Caesar, 1 fish, 1 borsch, 1 phone, 15.7ms\n",
            "Speed: 3.6ms preprocess, 15.7ms inference, 2.2ms postprocess per image at shape (1, 3, 384, 640)\n",
            "\n",
            "0: 384x640 1 people, 2 forks, 2 spoons, 2 cups, 1 kettle, 1 basket, 1 salad, 1 ribs, 1 Caesar, 1 fish, 1 borsch, 1 phone, 16.6ms\n",
            "Speed: 3.9ms preprocess, 16.6ms inference, 2.2ms postprocess per image at shape (1, 3, 384, 640)\n",
            "\n",
            "0: 384x640 1 people, 2 forks, 2 spoons, 2 cups, 1 kettle, 1 basket, 1 salad, 1 ribs, 1 Caesar, 1 fish, 1 borsch, 1 phone, 16.3ms\n",
            "Speed: 4.2ms preprocess, 16.3ms inference, 2.5ms postprocess per image at shape (1, 3, 384, 640)\n",
            "\n",
            "0: 384x640 1 people, 2 forks, 2 spoons, 2 cups, 1 kettle, 1 basket, 1 salad, 1 ribs, 1 Caesar, 1 fish, 1 borsch, 1 phone, 23.8ms\n",
            "Speed: 6.7ms preprocess, 23.8ms inference, 2.3ms postprocess per image at shape (1, 3, 384, 640)\n",
            "\n",
            "0: 384x640 1 people, 2 forks, 2 spoons, 2 cups, 1 kettle, 1 basket, 1 salad, 1 ribs, 1 Caesar, 1 fish, 1 borsch, 1 phone, 16.8ms\n",
            "Speed: 3.9ms preprocess, 16.8ms inference, 2.2ms postprocess per image at shape (1, 3, 384, 640)\n",
            "\n",
            "0: 384x640 1 people, 2 forks, 2 spoons, 2 cups, 1 kettle, 1 basket, 1 salad, 1 ribs, 1 Caesar, 1 fish, 1 borsch, 1 phone, 19.6ms\n",
            "Speed: 3.9ms preprocess, 19.6ms inference, 2.3ms postprocess per image at shape (1, 3, 384, 640)\n",
            "\n",
            "0: 384x640 1 people, 2 forks, 2 spoons, 2 cups, 1 kettle, 1 basket, 1 salad, 1 ribs, 1 Caesar, 1 fish, 1 borsch, 1 phone, 15.6ms\n",
            "Speed: 3.7ms preprocess, 15.6ms inference, 2.4ms postprocess per image at shape (1, 3, 384, 640)\n",
            "\n",
            "0: 384x640 1 people, 2 forks, 2 spoons, 2 cups, 1 kettle, 1 basket, 1 salad, 1 ribs, 1 Caesar, 1 fish, 1 borsch, 1 phone, 15.5ms\n",
            "Speed: 7.0ms preprocess, 15.5ms inference, 2.2ms postprocess per image at shape (1, 3, 384, 640)\n",
            "\n",
            "0: 384x640 2 peoples, 2 forks, 2 spoons, 2 cups, 1 kettle, 1 basket, 1 salad, 1 ribs, 1 Caesar, 1 fish, 1 soup, 1 borsch, 1 phone, 24.4ms\n",
            "Speed: 3.8ms preprocess, 24.4ms inference, 2.3ms postprocess per image at shape (1, 3, 384, 640)\n",
            "\n",
            "0: 384x640 2 peoples, 2 forks, 2 spoons, 2 cups, 1 kettle, 1 basket, 1 salad, 1 ribs, 1 Caesar, 1 fish, 1 soup, 1 borsch, 1 phone, 18.1ms\n",
            "Speed: 5.5ms preprocess, 18.1ms inference, 2.4ms postprocess per image at shape (1, 3, 384, 640)\n",
            "\n",
            "0: 384x640 2 peoples, 2 forks, 2 spoons, 2 cups, 1 kettle, 1 basket, 1 salad, 1 ribs, 1 Caesar, 1 fish, 1 soup, 1 borsch, 1 phone, 18.5ms\n",
            "Speed: 9.9ms preprocess, 18.5ms inference, 2.3ms postprocess per image at shape (1, 3, 384, 640)\n",
            "\n",
            "0: 384x640 2 peoples, 2 forks, 2 spoons, 2 cups, 1 kettle, 1 basket, 1 salad, 1 ribs, 1 Caesar, 1 fish, 1 soup, 1 borsch, 1 phone, 15.3ms\n",
            "Speed: 3.6ms preprocess, 15.3ms inference, 4.0ms postprocess per image at shape (1, 3, 384, 640)\n",
            "\n",
            "0: 384x640 2 peoples, 2 forks, 2 spoons, 2 cups, 1 kettle, 1 basket, 1 salad, 1 ribs, 1 Caesar, 1 fish, 1 soup, 1 borsch, 1 phone, 27.6ms\n",
            "Speed: 6.5ms preprocess, 27.6ms inference, 2.6ms postprocess per image at shape (1, 3, 384, 640)\n",
            "\n",
            "0: 384x640 2 peoples, 2 forks, 2 spoons, 2 cups, 1 kettle, 1 basket, 1 salad, 1 ribs, 1 Caesar, 1 fish, 1 soup, 1 borsch, 1 phone, 15.6ms\n",
            "Speed: 7.2ms preprocess, 15.6ms inference, 2.2ms postprocess per image at shape (1, 3, 384, 640)\n",
            "\n",
            "0: 384x640 2 peoples, 2 forks, 2 spoons, 2 cups, 1 kettle, 1 basket, 1 salad, 1 ribs, 1 Caesar, 1 fish, 1 soup, 1 borsch, 1 phone, 16.2ms\n",
            "Speed: 3.9ms preprocess, 16.2ms inference, 2.3ms postprocess per image at shape (1, 3, 384, 640)\n",
            "\n",
            "0: 384x640 2 peoples, 2 forks, 2 spoons, 2 cups, 1 kettle, 1 basket, 1 salad, 1 ribs, 1 Caesar, 1 fish, 1 soup, 1 borsch, 1 phone, 15.0ms\n",
            "Speed: 3.5ms preprocess, 15.0ms inference, 2.3ms postprocess per image at shape (1, 3, 384, 640)\n",
            "\n",
            "0: 384x640 2 peoples, 2 forks, 2 spoons, 2 cups, 1 kettle, 1 basket, 1 salad, 1 ribs, 1 Caesar, 1 fish, 1 soup, 1 borsch, 1 phone, 17.7ms\n",
            "Speed: 3.8ms preprocess, 17.7ms inference, 7.6ms postprocess per image at shape (1, 3, 384, 640)\n",
            "\n",
            "0: 384x640 2 peoples, 2 forks, 2 spoons, 2 cups, 1 kettle, 1 basket, 1 salad, 1 ribs, 1 Caesar, 1 fish, 1 soup, 1 borsch, 1 phone, 25.1ms\n",
            "Speed: 3.9ms preprocess, 25.1ms inference, 2.4ms postprocess per image at shape (1, 3, 384, 640)\n",
            "\n",
            "0: 384x640 2 peoples, 2 forks, 2 spoons, 2 cups, 1 kettle, 1 basket, 1 salad, 1 ribs, 1 Caesar, 1 fish, 1 soup, 1 borsch, 1 phone, 24.4ms\n",
            "Speed: 9.2ms preprocess, 24.4ms inference, 9.1ms postprocess per image at shape (1, 3, 384, 640)\n",
            "\n",
            "0: 384x640 2 peoples, 2 forks, 2 spoons, 2 cups, 1 kettle, 1 basket, 1 salad, 1 ribs, 1 Caesar, 1 fish, 1 soup, 1 borsch, 1 phone, 28.6ms\n",
            "Speed: 10.1ms preprocess, 28.6ms inference, 2.2ms postprocess per image at shape (1, 3, 384, 640)\n",
            "\n",
            "0: 384x640 2 peoples, 2 forks, 2 spoons, 2 cups, 1 kettle, 1 basket, 1 salad, 1 ribs, 1 Caesar, 1 fish, 1 soup, 1 borsch, 1 phone, 30.9ms\n",
            "Speed: 3.6ms preprocess, 30.9ms inference, 1.9ms postprocess per image at shape (1, 3, 384, 640)\n",
            "\n",
            "0: 384x640 2 peoples, 2 forks, 2 spoons, 2 cups, 1 kettle, 1 basket, 1 salad, 1 ribs, 1 Caesar, 1 fish, 1 soup, 1 borsch, 1 phone, 15.3ms\n",
            "Speed: 14.9ms preprocess, 15.3ms inference, 2.0ms postprocess per image at shape (1, 3, 384, 640)\n",
            "\n",
            "0: 384x640 2 peoples, 2 forks, 2 spoons, 2 cups, 1 kettle, 1 basket, 1 salad, 1 ribs, 1 Caesar, 1 fish, 1 soup, 1 borsch, 1 phone, 22.4ms\n",
            "Speed: 9.2ms preprocess, 22.4ms inference, 10.2ms postprocess per image at shape (1, 3, 384, 640)\n",
            "\n",
            "0: 384x640 2 peoples, 2 forks, 2 spoons, 2 cups, 1 kettle, 1 basket, 1 salad, 1 ribs, 1 Caesar, 1 fish, 2 soups, 1 borsch, 1 phone, 26.1ms\n",
            "Speed: 6.8ms preprocess, 26.1ms inference, 8.4ms postprocess per image at shape (1, 3, 384, 640)\n",
            "\n",
            "0: 384x640 2 peoples, 2 forks, 2 spoons, 2 cups, 1 kettle, 1 basket, 1 salad, 1 ribs, 1 Caesar, 1 fish, 1 soup, 1 borsch, 1 phone, 15.7ms\n",
            "Speed: 7.4ms preprocess, 15.7ms inference, 2.2ms postprocess per image at shape (1, 3, 384, 640)\n",
            "\n",
            "0: 384x640 2 peoples, 2 forks, 2 spoons, 2 cups, 1 kettle, 1 basket, 1 salad, 1 ribs, 1 Caesar, 1 fish, 1 soup, 1 borsch, 1 phone, 33.0ms\n",
            "Speed: 3.6ms preprocess, 33.0ms inference, 2.3ms postprocess per image at shape (1, 3, 384, 640)\n",
            "\n",
            "0: 384x640 2 peoples, 2 forks, 2 spoons, 2 cups, 1 kettle, 1 basket, 1 salad, 1 ribs, 1 Caesar, 1 fish, 1 soup, 1 borsch, 1 phone, 21.0ms\n",
            "Speed: 11.7ms preprocess, 21.0ms inference, 2.3ms postprocess per image at shape (1, 3, 384, 640)\n",
            "\n",
            "0: 384x640 2 peoples, 2 forks, 2 spoons, 2 cups, 1 kettle, 1 basket, 1 salad, 1 ribs, 1 Caesar, 1 fish, 1 soup, 1 borsch, 1 phone, 20.8ms\n",
            "Speed: 3.8ms preprocess, 20.8ms inference, 2.8ms postprocess per image at shape (1, 3, 384, 640)\n",
            "\n",
            "0: 384x640 2 peoples, 2 forks, 2 spoons, 2 cups, 1 kettle, 1 basket, 1 salad, 1 ribs, 1 Caesar, 1 fish, 1 soup, 1 borsch, 1 phone, 15.9ms\n",
            "Speed: 3.5ms preprocess, 15.9ms inference, 2.1ms postprocess per image at shape (1, 3, 384, 640)\n",
            "\n",
            "0: 384x640 2 peoples, 2 forks, 2 spoons, 2 cups, 1 kettle, 1 basket, 1 salad, 1 ribs, 1 Caesar, 1 fish, 1 soup, 1 borsch, 1 phone, 15.7ms\n",
            "Speed: 4.0ms preprocess, 15.7ms inference, 2.3ms postprocess per image at shape (1, 3, 384, 640)\n",
            "\n",
            "0: 384x640 2 peoples, 2 forks, 2 spoons, 2 cups, 1 kettle, 1 basket, 1 salad, 1 ribs, 1 Caesar, 1 fish, 1 soup, 1 borsch, 1 phone, 16.4ms\n",
            "Speed: 3.9ms preprocess, 16.4ms inference, 2.3ms postprocess per image at shape (1, 3, 384, 640)\n",
            "\n",
            "0: 384x640 2 peoples, 2 forks, 2 spoons, 2 cups, 1 kettle, 1 basket, 1 salad, 1 ribs, 1 Caesar, 1 fish, 1 soup, 1 borsch, 1 phone, 15.7ms\n",
            "Speed: 4.3ms preprocess, 15.7ms inference, 2.2ms postprocess per image at shape (1, 3, 384, 640)\n",
            "\n",
            "0: 384x640 2 peoples, 2 forks, 2 spoons, 2 cups, 1 kettle, 1 basket, 1 salad, 1 ribs, 1 Caesar, 1 fish, 1 soup, 1 borsch, 1 phone, 14.7ms\n",
            "Speed: 4.2ms preprocess, 14.7ms inference, 2.3ms postprocess per image at shape (1, 3, 384, 640)\n",
            "\n",
            "0: 384x640 2 peoples, 2 forks, 2 spoons, 2 cups, 1 kettle, 1 basket, 1 salad, 1 ribs, 1 Caesar, 1 fish, 1 soup, 1 borsch, 1 phone, 18.5ms\n",
            "Speed: 4.4ms preprocess, 18.5ms inference, 2.3ms postprocess per image at shape (1, 3, 384, 640)\n",
            "\n",
            "0: 384x640 2 peoples, 2 forks, 2 spoons, 2 cups, 1 kettle, 1 basket, 1 salad, 1 ribs, 1 Caesar, 1 fish, 1 soup, 1 borsch, 1 phone, 16.6ms\n",
            "Speed: 6.8ms preprocess, 16.6ms inference, 2.2ms postprocess per image at shape (1, 3, 384, 640)\n",
            "\n",
            "0: 384x640 2 peoples, 2 forks, 2 spoons, 2 cups, 1 kettle, 1 basket, 1 salad, 1 ribs, 1 Caesar, 1 fish, 1 soup, 1 borsch, 1 phone, 20.5ms\n",
            "Speed: 3.7ms preprocess, 20.5ms inference, 2.3ms postprocess per image at shape (1, 3, 384, 640)\n",
            "\n",
            "0: 384x640 2 peoples, 2 forks, 2 spoons, 2 cups, 1 kettle, 1 basket, 1 salad, 1 ribs, 1 Caesar, 1 fish, 1 soup, 1 borsch, 1 phone, 15.6ms\n",
            "Speed: 3.9ms preprocess, 15.6ms inference, 3.3ms postprocess per image at shape (1, 3, 384, 640)\n",
            "\n",
            "0: 384x640 2 peoples, 2 forks, 2 spoons, 2 cups, 1 kettle, 1 basket, 1 salad, 1 ribs, 1 Caesar, 1 fish, 1 soup, 1 borsch, 1 phone, 16.5ms\n",
            "Speed: 3.6ms preprocess, 16.5ms inference, 2.3ms postprocess per image at shape (1, 3, 384, 640)\n",
            "\n",
            "0: 384x640 2 peoples, 2 forks, 2 spoons, 2 cups, 1 kettle, 1 basket, 1 salad, 1 ribs, 1 Caesar, 1 fish, 1 soup, 1 borsch, 1 phone, 17.2ms\n",
            "Speed: 8.0ms preprocess, 17.2ms inference, 2.2ms postprocess per image at shape (1, 3, 384, 640)\n",
            "\n",
            "0: 384x640 2 peoples, 2 forks, 2 spoons, 2 cups, 1 kettle, 1 basket, 1 salad, 1 ribs, 1 Caesar, 1 fish, 1 soup, 1 borsch, 1 phone, 18.8ms\n",
            "Speed: 3.8ms preprocess, 18.8ms inference, 2.3ms postprocess per image at shape (1, 3, 384, 640)\n",
            "\n",
            "0: 384x640 2 peoples, 2 forks, 2 spoons, 2 cups, 1 kettle, 1 basket, 1 salad, 1 ribs, 1 Caesar, 1 fish, 1 soup, 1 borsch, 1 phone, 19.3ms\n",
            "Speed: 12.0ms preprocess, 19.3ms inference, 7.4ms postprocess per image at shape (1, 3, 384, 640)\n",
            "\n",
            "0: 384x640 2 peoples, 2 forks, 2 spoons, 2 cups, 1 kettle, 1 basket, 1 salad, 1 ribs, 1 Caesar, 1 fish, 1 soup, 1 borsch, 1 phone, 18.2ms\n",
            "Speed: 7.2ms preprocess, 18.2ms inference, 2.4ms postprocess per image at shape (1, 3, 384, 640)\n",
            "\n",
            "0: 384x640 2 peoples, 2 forks, 2 spoons, 2 cups, 1 kettle, 1 basket, 1 salad, 1 ribs, 1 Caesar, 1 fish, 1 soup, 1 borsch, 1 phone, 16.3ms\n",
            "Speed: 3.8ms preprocess, 16.3ms inference, 2.2ms postprocess per image at shape (1, 3, 384, 640)\n",
            "\n",
            "0: 384x640 2 peoples, 2 forks, 2 spoons, 2 cups, 1 kettle, 1 basket, 1 salad, 1 ribs, 1 Caesar, 1 fish, 1 soup, 1 borsch, 1 phone, 14.5ms\n",
            "Speed: 3.7ms preprocess, 14.5ms inference, 2.1ms postprocess per image at shape (1, 3, 384, 640)\n",
            "\n",
            "0: 384x640 2 peoples, 2 forks, 2 spoons, 2 cups, 1 kettle, 1 basket, 1 salad, 1 ribs, 1 Caesar, 1 fish, 1 soup, 1 borsch, 1 phone, 16.1ms\n",
            "Speed: 8.9ms preprocess, 16.1ms inference, 2.4ms postprocess per image at shape (1, 3, 384, 640)\n",
            "\n",
            "0: 384x640 2 peoples, 2 forks, 2 spoons, 2 cups, 1 kettle, 1 basket, 1 salad, 1 ribs, 1 Caesar, 1 fish, 1 soup, 1 borsch, 1 phone, 18.1ms\n",
            "Speed: 3.9ms preprocess, 18.1ms inference, 2.3ms postprocess per image at shape (1, 3, 384, 640)\n",
            "\n",
            "0: 384x640 2 peoples, 2 forks, 2 spoons, 2 cups, 1 kettle, 1 basket, 1 salad, 1 ribs, 1 Caesar, 1 fish, 1 soup, 1 borsch, 1 phone, 17.7ms\n",
            "Speed: 3.8ms preprocess, 17.7ms inference, 3.0ms postprocess per image at shape (1, 3, 384, 640)\n",
            "\n",
            "0: 384x640 2 peoples, 2 forks, 2 spoons, 2 cups, 1 kettle, 1 basket, 1 salad, 1 ribs, 1 Caesar, 1 fish, 1 soup, 1 borsch, 1 phone, 15.9ms\n",
            "Speed: 7.5ms preprocess, 15.9ms inference, 2.4ms postprocess per image at shape (1, 3, 384, 640)\n",
            "\n",
            "0: 384x640 2 peoples, 2 forks, 2 spoons, 2 cups, 1 kettle, 1 basket, 1 salad, 1 ribs, 1 Caesar, 1 fish, 1 soup, 1 borsch, 1 phone, 36.9ms\n",
            "Speed: 6.9ms preprocess, 36.9ms inference, 2.3ms postprocess per image at shape (1, 3, 384, 640)\n",
            "\n",
            "0: 384x640 2 peoples, 2 forks, 2 spoons, 2 cups, 1 kettle, 1 basket, 1 salad, 1 ribs, 1 Caesar, 1 fish, 1 soup, 1 borsch, 1 phone, 16.4ms\n",
            "Speed: 3.7ms preprocess, 16.4ms inference, 2.3ms postprocess per image at shape (1, 3, 384, 640)\n",
            "\n",
            "0: 384x640 2 peoples, 2 forks, 2 spoons, 2 cups, 1 kettle, 1 basket, 1 salad, 1 ribs, 1 Caesar, 1 fish, 1 soup, 1 borsch, 1 phone, 40.2ms\n",
            "Speed: 3.5ms preprocess, 40.2ms inference, 2.3ms postprocess per image at shape (1, 3, 384, 640)\n",
            "\n",
            "0: 384x640 2 peoples, 2 forks, 2 spoons, 2 cups, 1 kettle, 1 basket, 1 salad, 1 ribs, 1 Caesar, 1 fish, 1 soup, 1 borsch, 1 phone, 17.4ms\n",
            "Speed: 3.9ms preprocess, 17.4ms inference, 2.2ms postprocess per image at shape (1, 3, 384, 640)\n",
            "\n",
            "0: 384x640 2 peoples, 2 forks, 2 spoons, 2 cups, 1 kettle, 1 basket, 1 salad, 1 ribs, 1 Caesar, 1 fish, 1 soup, 1 borsch, 1 phone, 16.0ms\n",
            "Speed: 5.9ms preprocess, 16.0ms inference, 2.3ms postprocess per image at shape (1, 3, 384, 640)\n",
            "\n",
            "0: 384x640 2 peoples, 2 forks, 2 spoons, 2 cups, 1 kettle, 1 basket, 1 salad, 1 ribs, 1 Caesar, 1 fish, 1 soup, 1 borsch, 1 phone, 18.1ms\n",
            "Speed: 9.8ms preprocess, 18.1ms inference, 2.2ms postprocess per image at shape (1, 3, 384, 640)\n",
            "\n",
            "0: 384x640 2 peoples, 2 forks, 2 spoons, 2 cups, 1 kettle, 1 basket, 1 salad, 1 ribs, 1 Caesar, 1 fish, 1 soup, 1 borsch, 1 phone, 19.8ms\n",
            "Speed: 8.7ms preprocess, 19.8ms inference, 2.3ms postprocess per image at shape (1, 3, 384, 640)\n",
            "\n",
            "0: 384x640 2 peoples, 2 forks, 2 spoons, 2 cups, 1 kettle, 1 basket, 1 salad, 1 ribs, 1 Caesar, 1 fish, 1 soup, 1 borsch, 1 phone, 27.1ms\n",
            "Speed: 3.6ms preprocess, 27.1ms inference, 2.3ms postprocess per image at shape (1, 3, 384, 640)\n",
            "\n",
            "0: 384x640 2 peoples, 2 forks, 2 spoons, 2 cups, 1 kettle, 1 basket, 1 salad, 1 ribs, 1 Caesar, 1 fish, 1 soup, 1 borsch, 1 phone, 28.6ms\n",
            "Speed: 10.6ms preprocess, 28.6ms inference, 2.5ms postprocess per image at shape (1, 3, 384, 640)\n",
            "\n",
            "0: 384x640 2 peoples, 2 forks, 2 spoons, 2 cups, 1 kettle, 1 basket, 1 salad, 1 ribs, 1 Caesar, 1 fish, 1 soup, 1 borsch, 1 phone, 15.4ms\n",
            "Speed: 4.3ms preprocess, 15.4ms inference, 2.3ms postprocess per image at shape (1, 3, 384, 640)\n",
            "\n",
            "0: 384x640 2 peoples, 2 forks, 2 spoons, 2 cups, 1 kettle, 1 basket, 1 salad, 1 ribs, 1 Caesar, 1 fish, 1 soup, 1 borsch, 1 phone, 23.1ms\n",
            "Speed: 6.7ms preprocess, 23.1ms inference, 2.3ms postprocess per image at shape (1, 3, 384, 640)\n",
            "\n",
            "0: 384x640 2 peoples, 2 forks, 2 spoons, 2 cups, 1 kettle, 1 basket, 1 salad, 1 ribs, 1 Caesar, 1 fish, 1 soup, 1 borsch, 1 phone, 23.8ms\n",
            "Speed: 3.8ms preprocess, 23.8ms inference, 2.3ms postprocess per image at shape (1, 3, 384, 640)\n",
            "\n",
            "0: 384x640 2 peoples, 2 forks, 2 spoons, 2 cups, 1 kettle, 1 basket, 1 salad, 1 ribs, 1 Caesar, 1 fish, 1 soup, 1 borsch, 1 phone, 19.4ms\n",
            "Speed: 3.8ms preprocess, 19.4ms inference, 2.2ms postprocess per image at shape (1, 3, 384, 640)\n",
            "\n",
            "0: 384x640 2 peoples, 2 forks, 2 spoons, 2 cups, 1 kettle, 1 basket, 1 salad, 1 ribs, 1 Caesar, 1 fish, 2 soups, 1 borsch, 1 phone, 16.1ms\n",
            "Speed: 12.2ms preprocess, 16.1ms inference, 2.2ms postprocess per image at shape (1, 3, 384, 640)\n",
            "\n",
            "0: 384x640 2 peoples, 2 forks, 2 spoons, 2 cups, 1 kettle, 1 basket, 1 salad, 1 ribs, 1 Caesar, 1 fish, 1 soup, 1 borsch, 1 phone, 16.7ms\n",
            "Speed: 3.8ms preprocess, 16.7ms inference, 2.3ms postprocess per image at shape (1, 3, 384, 640)\n",
            "\n",
            "0: 384x640 2 peoples, 2 forks, 2 spoons, 2 cups, 1 kettle, 1 basket, 1 salad, 1 ribs, 1 Caesar, 1 fish, 1 soup, 1 borsch, 1 phone, 17.6ms\n",
            "Speed: 3.7ms preprocess, 17.6ms inference, 2.3ms postprocess per image at shape (1, 3, 384, 640)\n",
            "\n",
            "0: 384x640 2 peoples, 2 forks, 2 spoons, 2 cups, 1 kettle, 1 basket, 1 salad, 1 ribs, 1 Caesar, 1 fish, 1 soup, 1 borsch, 1 phone, 27.4ms\n",
            "Speed: 4.5ms preprocess, 27.4ms inference, 2.6ms postprocess per image at shape (1, 3, 384, 640)\n",
            "\n",
            "0: 384x640 2 peoples, 2 forks, 2 spoons, 2 cups, 1 kettle, 1 basket, 1 salad, 1 ribs, 1 Caesar, 1 fish, 1 soup, 1 borsch, 1 phone, 18.6ms\n",
            "Speed: 3.8ms preprocess, 18.6ms inference, 2.1ms postprocess per image at shape (1, 3, 384, 640)\n",
            "\n",
            "0: 384x640 2 peoples, 2 forks, 2 spoons, 2 cups, 1 kettle, 1 basket, 1 salad, 1 ribs, 1 Caesar, 1 fish, 1 soup, 1 borsch, 1 phone, 15.4ms\n",
            "Speed: 4.1ms preprocess, 15.4ms inference, 2.2ms postprocess per image at shape (1, 3, 384, 640)\n",
            "\n",
            "0: 384x640 2 peoples, 2 forks, 2 spoons, 2 cups, 1 kettle, 1 basket, 1 salad, 1 ribs, 1 Caesar, 1 fish, 1 soup, 1 borsch, 1 phone, 16.2ms\n",
            "Speed: 11.6ms preprocess, 16.2ms inference, 4.3ms postprocess per image at shape (1, 3, 384, 640)\n",
            "\n",
            "0: 384x640 2 peoples, 2 forks, 2 spoons, 2 cups, 1 kettle, 1 basket, 1 salad, 1 ribs, 1 Caesar, 1 fish, 2 soups, 1 borsch, 1 phone, 17.8ms\n",
            "Speed: 13.1ms preprocess, 17.8ms inference, 2.2ms postprocess per image at shape (1, 3, 384, 640)\n",
            "\n",
            "0: 384x640 2 peoples, 2 forks, 2 spoons, 2 cups, 1 kettle, 1 basket, 1 salad, 1 ribs, 1 Caesar, 1 fish, 1 soup, 1 borsch, 1 phone, 22.4ms\n",
            "Speed: 4.2ms preprocess, 22.4ms inference, 2.4ms postprocess per image at shape (1, 3, 384, 640)\n",
            "\n",
            "0: 384x640 2 peoples, 2 forks, 2 spoons, 2 cups, 1 kettle, 1 basket, 1 salad, 1 ribs, 1 Caesar, 1 fish, 1 soup, 1 borsch, 1 phone, 22.8ms\n",
            "Speed: 4.6ms preprocess, 22.8ms inference, 2.2ms postprocess per image at shape (1, 3, 384, 640)\n",
            "\n",
            "0: 384x640 2 peoples, 2 forks, 2 spoons, 2 cups, 1 kettle, 1 basket, 1 salad, 1 ribs, 1 Caesar, 1 fish, 1 soup, 1 borsch, 1 phone, 26.4ms\n",
            "Speed: 3.7ms preprocess, 26.4ms inference, 2.0ms postprocess per image at shape (1, 3, 384, 640)\n",
            "\n",
            "0: 384x640 2 peoples, 2 forks, 2 spoons, 2 cups, 1 kettle, 1 basket, 1 salad, 1 ribs, 1 Caesar, 1 fish, 1 soup, 1 borsch, 1 phone, 30.5ms\n",
            "Speed: 3.5ms preprocess, 30.5ms inference, 2.0ms postprocess per image at shape (1, 3, 384, 640)\n",
            "\n",
            "0: 384x640 2 peoples, 2 forks, 2 spoons, 2 cups, 1 kettle, 1 basket, 1 salad, 1 ribs, 1 Caesar, 1 fish, 1 soup, 1 borsch, 1 phone, 34.8ms\n",
            "Speed: 3.6ms preprocess, 34.8ms inference, 3.3ms postprocess per image at shape (1, 3, 384, 640)\n",
            "\n",
            "0: 384x640 2 peoples, 2 forks, 2 spoons, 2 cups, 1 kettle, 1 basket, 1 salad, 1 ribs, 1 Caesar, 1 fish, 1 soup, 1 borsch, 1 phone, 42.9ms\n",
            "Speed: 3.4ms preprocess, 42.9ms inference, 11.0ms postprocess per image at shape (1, 3, 384, 640)\n",
            "\n",
            "0: 384x640 2 peoples, 2 forks, 2 spoons, 2 cups, 1 kettle, 1 basket, 1 salad, 1 ribs, 1 Caesar, 1 fish, 1 soup, 1 borsch, 1 phone, 23.8ms\n",
            "Speed: 3.5ms preprocess, 23.8ms inference, 7.9ms postprocess per image at shape (1, 3, 384, 640)\n",
            "\n",
            "0: 384x640 2 peoples, 2 forks, 2 spoons, 2 cups, 1 kettle, 1 basket, 1 salad, 1 ribs, 1 Caesar, 1 fish, 1 soup, 1 borsch, 1 phone, 35.3ms\n",
            "Speed: 3.8ms preprocess, 35.3ms inference, 2.2ms postprocess per image at shape (1, 3, 384, 640)\n",
            "\n",
            "0: 384x640 2 peoples, 2 forks, 2 spoons, 2 cups, 1 kettle, 1 basket, 1 salad, 1 ribs, 1 Caesar, 1 fish, 1 soup, 1 borsch, 1 phone, 23.3ms\n",
            "Speed: 3.1ms preprocess, 23.3ms inference, 2.1ms postprocess per image at shape (1, 3, 384, 640)\n",
            "\n",
            "0: 384x640 2 peoples, 2 forks, 2 spoons, 2 cups, 1 kettle, 1 basket, 1 salad, 1 ribs, 1 Caesar, 1 fish, 1 soup, 1 borsch, 1 phone, 37.2ms\n",
            "Speed: 7.0ms preprocess, 37.2ms inference, 2.5ms postprocess per image at shape (1, 3, 384, 640)\n",
            "\n",
            "0: 384x640 2 peoples, 2 forks, 2 spoons, 2 cups, 1 kettle, 1 basket, 1 salad, 1 ribs, 1 Caesar, 1 fish, 1 soup, 1 borsch, 1 phone, 16.0ms\n",
            "Speed: 3.8ms preprocess, 16.0ms inference, 2.3ms postprocess per image at shape (1, 3, 384, 640)\n",
            "\n",
            "0: 384x640 2 peoples, 2 forks, 2 spoons, 2 cups, 1 kettle, 1 basket, 1 salad, 1 ribs, 1 Caesar, 1 fish, 1 soup, 1 borsch, 1 phone, 16.1ms\n",
            "Speed: 4.2ms preprocess, 16.1ms inference, 2.2ms postprocess per image at shape (1, 3, 384, 640)\n",
            "\n",
            "0: 384x640 2 peoples, 2 forks, 2 spoons, 2 cups, 1 kettle, 1 basket, 1 salad, 1 ribs, 1 Caesar, 1 fish, 1 soup, 1 borsch, 1 phone, 15.7ms\n",
            "Speed: 3.8ms preprocess, 15.7ms inference, 2.3ms postprocess per image at shape (1, 3, 384, 640)\n",
            "\n",
            "0: 384x640 2 peoples, 2 forks, 2 spoons, 2 cups, 1 kettle, 1 basket, 1 salad, 1 ribs, 1 Caesar, 1 fish, 1 soup, 1 borsch, 1 phone, 19.0ms\n",
            "Speed: 9.8ms preprocess, 19.0ms inference, 2.3ms postprocess per image at shape (1, 3, 384, 640)\n",
            "\n",
            "0: 384x640 2 peoples, 2 forks, 2 spoons, 2 cups, 1 kettle, 1 basket, 1 salad, 1 ribs, 1 Caesar, 1 fish, 1 soup, 1 borsch, 1 phone, 21.2ms\n",
            "Speed: 3.8ms preprocess, 21.2ms inference, 2.3ms postprocess per image at shape (1, 3, 384, 640)\n",
            "\n",
            "0: 384x640 2 peoples, 2 forks, 2 spoons, 2 cups, 1 kettle, 1 basket, 1 salad, 1 ribs, 1 Caesar, 1 fish, 1 soup, 1 borsch, 1 phone, 15.9ms\n",
            "Speed: 11.4ms preprocess, 15.9ms inference, 2.2ms postprocess per image at shape (1, 3, 384, 640)\n",
            "\n",
            "0: 384x640 2 peoples, 2 forks, 2 spoons, 2 cups, 1 kettle, 1 basket, 1 salad, 1 ribs, 1 Caesar, 1 fish, 1 soup, 1 borsch, 1 phone, 15.9ms\n",
            "Speed: 4.9ms preprocess, 15.9ms inference, 2.3ms postprocess per image at shape (1, 3, 384, 640)\n",
            "\n",
            "0: 384x640 2 peoples, 2 forks, 2 spoons, 2 cups, 1 kettle, 1 basket, 1 salad, 1 ribs, 1 Caesar, 1 fish, 1 soup, 1 borsch, 1 phone, 16.3ms\n",
            "Speed: 4.3ms preprocess, 16.3ms inference, 2.2ms postprocess per image at shape (1, 3, 384, 640)\n",
            "\n",
            "0: 384x640 2 peoples, 2 forks, 2 spoons, 2 cups, 1 kettle, 1 basket, 1 salad, 1 ribs, 1 Caesar, 1 fish, 1 soup, 1 borsch, 1 phone, 18.6ms\n",
            "Speed: 8.6ms preprocess, 18.6ms inference, 3.0ms postprocess per image at shape (1, 3, 384, 640)\n",
            "\n",
            "0: 384x640 2 peoples, 2 forks, 2 spoons, 2 cups, 1 kettle, 1 basket, 1 salad, 1 ribs, 1 Caesar, 1 fish, 1 soup, 1 borsch, 1 phone, 17.1ms\n",
            "Speed: 4.2ms preprocess, 17.1ms inference, 2.5ms postprocess per image at shape (1, 3, 384, 640)\n",
            "\n",
            "0: 384x640 2 peoples, 2 forks, 2 spoons, 2 cups, 1 kettle, 1 basket, 1 salad, 1 ribs, 1 Caesar, 1 fish, 1 soup, 1 borsch, 1 phone, 15.5ms\n",
            "Speed: 4.1ms preprocess, 15.5ms inference, 2.2ms postprocess per image at shape (1, 3, 384, 640)\n",
            "\n",
            "0: 384x640 2 peoples, 2 forks, 2 spoons, 2 cups, 1 kettle, 1 basket, 1 salad, 1 ribs, 1 Caesar, 1 fish, 1 soup, 1 borsch, 1 phone, 17.6ms\n",
            "Speed: 4.0ms preprocess, 17.6ms inference, 2.3ms postprocess per image at shape (1, 3, 384, 640)\n",
            "\n",
            "0: 384x640 2 peoples, 2 forks, 2 spoons, 2 cups, 1 kettle, 1 basket, 1 salad, 1 ribs, 1 Caesar, 1 fish, 1 soup, 1 borsch, 1 phone, 16.1ms\n",
            "Speed: 3.5ms preprocess, 16.1ms inference, 2.3ms postprocess per image at shape (1, 3, 384, 640)\n",
            "\n",
            "0: 384x640 2 peoples, 2 forks, 2 spoons, 2 cups, 1 kettle, 1 basket, 1 salad, 1 ribs, 1 Caesar, 1 fish, 1 soup, 1 borsch, 1 phone, 17.3ms\n",
            "Speed: 3.6ms preprocess, 17.3ms inference, 2.3ms postprocess per image at shape (1, 3, 384, 640)\n",
            "\n",
            "0: 384x640 2 peoples, 2 forks, 2 spoons, 2 cups, 1 kettle, 1 basket, 1 salad, 1 ribs, 1 Caesar, 1 fish, 1 soup, 1 borsch, 1 phone, 16.1ms\n",
            "Speed: 8.6ms preprocess, 16.1ms inference, 2.2ms postprocess per image at shape (1, 3, 384, 640)\n",
            "\n",
            "0: 384x640 2 peoples, 2 forks, 2 spoons, 2 cups, 1 kettle, 1 basket, 1 salad, 1 ribs, 1 Caesar, 1 fish, 1 soup, 1 borsch, 1 phone, 16.3ms\n",
            "Speed: 4.8ms preprocess, 16.3ms inference, 2.2ms postprocess per image at shape (1, 3, 384, 640)\n",
            "\n",
            "0: 384x640 2 peoples, 2 forks, 2 spoons, 2 cups, 1 kettle, 1 basket, 1 salad, 1 ribs, 1 Caesar, 1 fish, 1 soup, 1 borsch, 1 phone, 15.5ms\n",
            "Speed: 4.2ms preprocess, 15.5ms inference, 2.5ms postprocess per image at shape (1, 3, 384, 640)\n",
            "\n",
            "0: 384x640 2 peoples, 2 forks, 2 spoons, 2 cups, 1 kettle, 1 basket, 1 salad, 1 ribs, 1 Caesar, 1 fish, 1 soup, 1 borsch, 1 phone, 16.2ms\n",
            "Speed: 3.6ms preprocess, 16.2ms inference, 2.2ms postprocess per image at shape (1, 3, 384, 640)\n",
            "\n",
            "0: 384x640 2 peoples, 2 forks, 2 spoons, 2 cups, 1 kettle, 1 basket, 1 salad, 1 ribs, 1 Caesar, 1 fish, 1 soup, 1 borsch, 1 phone, 15.6ms\n",
            "Speed: 3.9ms preprocess, 15.6ms inference, 2.2ms postprocess per image at shape (1, 3, 384, 640)\n",
            "\n",
            "0: 384x640 2 peoples, 2 forks, 2 spoons, 2 cups, 1 kettle, 1 basket, 1 salad, 1 ribs, 1 Caesar, 1 fish, 1 soup, 1 borsch, 1 phone, 16.0ms\n",
            "Speed: 3.8ms preprocess, 16.0ms inference, 2.2ms postprocess per image at shape (1, 3, 384, 640)\n",
            "\n",
            "0: 384x640 2 peoples, 2 forks, 2 spoons, 2 cups, 1 kettle, 1 basket, 1 salad, 1 ribs, 1 Caesar, 1 fish, 1 soup, 1 borsch, 1 phone, 20.4ms\n",
            "Speed: 9.8ms preprocess, 20.4ms inference, 2.3ms postprocess per image at shape (1, 3, 384, 640)\n",
            "\n",
            "0: 384x640 2 peoples, 2 forks, 2 spoons, 2 cups, 1 kettle, 1 basket, 1 salad, 1 ribs, 1 Caesar, 1 fish, 1 soup, 1 borsch, 1 phone, 14.7ms\n",
            "Speed: 4.1ms preprocess, 14.7ms inference, 2.2ms postprocess per image at shape (1, 3, 384, 640)\n",
            "\n",
            "0: 384x640 2 peoples, 2 forks, 2 spoons, 2 cups, 1 kettle, 1 basket, 1 salad, 1 ribs, 1 Caesar, 1 fish, 1 soup, 1 borsch, 1 phone, 15.9ms\n",
            "Speed: 5.3ms preprocess, 15.9ms inference, 2.3ms postprocess per image at shape (1, 3, 384, 640)\n",
            "\n",
            "0: 384x640 2 peoples, 2 forks, 2 spoons, 2 cups, 1 kettle, 1 basket, 1 salad, 1 ribs, 1 Caesar, 1 fish, 1 soup, 1 borsch, 1 phone, 16.3ms\n",
            "Speed: 7.0ms preprocess, 16.3ms inference, 2.4ms postprocess per image at shape (1, 3, 384, 640)\n",
            "\n",
            "0: 384x640 2 peoples, 2 forks, 2 spoons, 2 cups, 1 kettle, 1 basket, 1 salad, 1 ribs, 1 Caesar, 1 fish, 1 soup, 1 borsch, 1 phone, 17.1ms\n",
            "Speed: 10.7ms preprocess, 17.1ms inference, 2.3ms postprocess per image at shape (1, 3, 384, 640)\n",
            "\n",
            "0: 384x640 2 peoples, 2 forks, 2 spoons, 2 cups, 1 kettle, 1 basket, 1 salad, 1 ribs, 1 Caesar, 1 fish, 1 soup, 1 borsch, 1 phone, 22.3ms\n",
            "Speed: 12.7ms preprocess, 22.3ms inference, 2.3ms postprocess per image at shape (1, 3, 384, 640)\n",
            "\n",
            "0: 384x640 2 peoples, 2 forks, 2 spoons, 2 cups, 1 kettle, 1 basket, 1 salad, 1 ribs, 1 Caesar, 1 fish, 1 soup, 1 borsch, 1 phone, 15.6ms\n",
            "Speed: 4.1ms preprocess, 15.6ms inference, 2.3ms postprocess per image at shape (1, 3, 384, 640)\n",
            "\n",
            "0: 384x640 2 peoples, 2 forks, 2 spoons, 2 cups, 1 kettle, 1 basket, 1 salad, 1 ribs, 1 Caesar, 1 fish, 1 soup, 1 borsch, 1 phone, 18.9ms\n",
            "Speed: 3.6ms preprocess, 18.9ms inference, 2.3ms postprocess per image at shape (1, 3, 384, 640)\n",
            "\n",
            "0: 384x640 2 peoples, 2 forks, 2 spoons, 2 cups, 1 kettle, 1 basket, 1 salad, 1 ribs, 1 Caesar, 1 fish, 1 soup, 1 borsch, 1 phone, 17.5ms\n",
            "Speed: 3.8ms preprocess, 17.5ms inference, 2.5ms postprocess per image at shape (1, 3, 384, 640)\n",
            "\n",
            "0: 384x640 2 peoples, 2 forks, 2 spoons, 2 cups, 1 kettle, 1 basket, 1 salad, 1 ribs, 1 Caesar, 1 fish, 1 soup, 1 borsch, 1 phone, 16.7ms\n",
            "Speed: 9.0ms preprocess, 16.7ms inference, 2.4ms postprocess per image at shape (1, 3, 384, 640)\n",
            "\n",
            "0: 384x640 2 peoples, 2 forks, 2 spoons, 2 cups, 1 kettle, 1 basket, 1 salad, 1 ribs, 1 Caesar, 1 fish, 1 soup, 1 borsch, 1 phone, 16.4ms\n",
            "Speed: 3.9ms preprocess, 16.4ms inference, 2.2ms postprocess per image at shape (1, 3, 384, 640)\n",
            "\n",
            "0: 384x640 2 peoples, 2 forks, 2 spoons, 2 cups, 1 kettle, 1 basket, 1 salad, 1 ribs, 1 Caesar, 1 fish, 1 soup, 1 borsch, 1 phone, 16.1ms\n",
            "Speed: 3.9ms preprocess, 16.1ms inference, 2.3ms postprocess per image at shape (1, 3, 384, 640)\n",
            "\n",
            "0: 384x640 2 peoples, 2 forks, 2 spoons, 2 cups, 1 kettle, 1 basket, 1 salad, 1 ribs, 1 Caesar, 1 fish, 1 soup, 1 borsch, 1 phone, 17.6ms\n",
            "Speed: 3.5ms preprocess, 17.6ms inference, 2.3ms postprocess per image at shape (1, 3, 384, 640)\n",
            "\n",
            "0: 384x640 2 peoples, 2 forks, 2 spoons, 2 cups, 1 kettle, 1 basket, 1 salad, 1 ribs, 1 Caesar, 1 fish, 1 soup, 1 borsch, 1 phone, 24.4ms\n",
            "Speed: 3.5ms preprocess, 24.4ms inference, 2.3ms postprocess per image at shape (1, 3, 384, 640)\n",
            "\n",
            "0: 384x640 2 peoples, 2 forks, 2 spoons, 2 cups, 1 kettle, 1 basket, 1 salad, 1 ribs, 1 Caesar, 1 fish, 1 soup, 1 borsch, 1 phone, 16.8ms\n",
            "Speed: 4.5ms preprocess, 16.8ms inference, 2.3ms postprocess per image at shape (1, 3, 384, 640)\n",
            "\n",
            "0: 384x640 2 peoples, 2 forks, 2 spoons, 2 cups, 1 kettle, 1 basket, 1 salad, 1 ribs, 1 Caesar, 1 fish, 1 soup, 1 borsch, 1 phone, 15.0ms\n",
            "Speed: 3.7ms preprocess, 15.0ms inference, 2.2ms postprocess per image at shape (1, 3, 384, 640)\n",
            "\n",
            "0: 384x640 2 peoples, 2 forks, 2 spoons, 2 cups, 1 kettle, 1 basket, 1 salad, 1 ribs, 1 Caesar, 1 fish, 1 soup, 1 borsch, 1 phone, 15.2ms\n",
            "Speed: 3.6ms preprocess, 15.2ms inference, 2.3ms postprocess per image at shape (1, 3, 384, 640)\n",
            "\n",
            "0: 384x640 2 peoples, 2 forks, 2 spoons, 2 cups, 1 kettle, 1 basket, 1 salad, 1 ribs, 1 Caesar, 1 fish, 1 soup, 1 borsch, 1 phone, 15.9ms\n",
            "Speed: 4.3ms preprocess, 15.9ms inference, 2.1ms postprocess per image at shape (1, 3, 384, 640)\n",
            "\n",
            "0: 384x640 2 peoples, 2 forks, 2 spoons, 2 cups, 1 kettle, 1 basket, 1 salad, 1 ribs, 1 Caesar, 1 fish, 1 soup, 1 borsch, 1 phone, 16.0ms\n",
            "Speed: 4.5ms preprocess, 16.0ms inference, 2.2ms postprocess per image at shape (1, 3, 384, 640)\n",
            "\n",
            "0: 384x640 2 peoples, 2 forks, 2 spoons, 2 cups, 1 kettle, 1 basket, 1 salad, 1 ribs, 1 Caesar, 1 fish, 1 soup, 1 borsch, 1 phone, 18.8ms\n",
            "Speed: 3.8ms preprocess, 18.8ms inference, 2.5ms postprocess per image at shape (1, 3, 384, 640)\n",
            "\n",
            "0: 384x640 2 peoples, 2 forks, 2 spoons, 2 cups, 1 kettle, 1 basket, 1 salad, 1 ribs, 1 Caesar, 1 fish, 1 soup, 1 borsch, 1 phone, 14.5ms\n",
            "Speed: 3.6ms preprocess, 14.5ms inference, 2.0ms postprocess per image at shape (1, 3, 384, 640)\n",
            "\n",
            "0: 384x640 2 peoples, 2 forks, 2 spoons, 2 cups, 1 kettle, 1 basket, 1 salad, 1 ribs, 1 Caesar, 1 fish, 1 soup, 1 borsch, 1 phone, 15.8ms\n",
            "Speed: 9.3ms preprocess, 15.8ms inference, 3.8ms postprocess per image at shape (1, 3, 384, 640)\n",
            "\n",
            "0: 384x640 2 peoples, 2 forks, 2 spoons, 2 cups, 1 kettle, 1 basket, 1 salad, 1 ribs, 1 Caesar, 1 fish, 1 soup, 1 borsch, 1 phone, 15.9ms\n",
            "Speed: 3.6ms preprocess, 15.9ms inference, 2.3ms postprocess per image at shape (1, 3, 384, 640)\n",
            "\n",
            "0: 384x640 2 peoples, 2 forks, 2 spoons, 2 cups, 1 kettle, 1 basket, 1 salad, 1 ribs, 1 Caesar, 1 fish, 1 soup, 1 borsch, 1 phone, 15.2ms\n",
            "Speed: 3.5ms preprocess, 15.2ms inference, 2.2ms postprocess per image at shape (1, 3, 384, 640)\n",
            "\n",
            "0: 384x640 2 peoples, 2 forks, 2 spoons, 2 cups, 1 kettle, 1 basket, 1 salad, 1 ribs, 1 Caesar, 1 fish, 1 soup, 1 borsch, 1 phone, 15.1ms\n",
            "Speed: 3.5ms preprocess, 15.1ms inference, 2.2ms postprocess per image at shape (1, 3, 384, 640)\n",
            "\n",
            "0: 384x640 2 peoples, 2 forks, 2 spoons, 2 cups, 1 kettle, 1 basket, 1 salad, 1 ribs, 1 Caesar, 1 fish, 1 soup, 1 borsch, 1 phone, 15.7ms\n",
            "Speed: 4.1ms preprocess, 15.7ms inference, 2.2ms postprocess per image at shape (1, 3, 384, 640)\n",
            "\n",
            "0: 384x640 2 peoples, 2 forks, 2 spoons, 2 cups, 1 kettle, 1 basket, 1 salad, 1 ribs, 1 Caesar, 1 fish, 1 soup, 1 borsch, 1 phone, 21.2ms\n",
            "Speed: 10.3ms preprocess, 21.2ms inference, 2.2ms postprocess per image at shape (1, 3, 384, 640)\n",
            "\n",
            "0: 384x640 2 peoples, 2 forks, 2 spoons, 2 cups, 1 kettle, 1 basket, 1 salad, 1 ribs, 1 Caesar, 1 fish, 1 soup, 1 borsch, 1 phone, 30.8ms\n",
            "Speed: 3.7ms preprocess, 30.8ms inference, 2.5ms postprocess per image at shape (1, 3, 384, 640)\n",
            "\n",
            "0: 384x640 2 peoples, 2 forks, 2 spoons, 2 cups, 1 kettle, 1 basket, 1 salad, 1 ribs, 1 Caesar, 1 fish, 1 soup, 1 borsch, 1 phone, 18.7ms\n",
            "Speed: 4.7ms preprocess, 18.7ms inference, 3.3ms postprocess per image at shape (1, 3, 384, 640)\n",
            "\n",
            "0: 384x640 2 peoples, 2 forks, 2 spoons, 2 cups, 1 kettle, 1 basket, 1 salad, 1 ribs, 1 Caesar, 1 fish, 1 soup, 1 borsch, 1 phone, 27.9ms\n",
            "Speed: 3.6ms preprocess, 27.9ms inference, 2.0ms postprocess per image at shape (1, 3, 384, 640)\n",
            "\n",
            "0: 384x640 2 peoples, 2 forks, 2 spoons, 2 cups, 1 kettle, 1 basket, 1 salad, 1 ribs, 1 Caesar, 1 fish, 1 soup, 1 borsch, 1 phone, 37.9ms\n",
            "Speed: 6.2ms preprocess, 37.9ms inference, 10.3ms postprocess per image at shape (1, 3, 384, 640)\n",
            "\n",
            "0: 384x640 2 peoples, 2 forks, 2 spoons, 2 cups, 1 kettle, 1 basket, 1 salad, 1 ribs, 1 Caesar, 1 fish, 1 soup, 1 borsch, 1 phone, 28.4ms\n",
            "Speed: 3.9ms preprocess, 28.4ms inference, 1.9ms postprocess per image at shape (1, 3, 384, 640)\n",
            "\n",
            "0: 384x640 2 peoples, 2 forks, 2 spoons, 2 cups, 1 kettle, 1 basket, 1 salad, 1 ribs, 1 Caesar, 1 fish, 1 soup, 1 borsch, 1 phone, 35.8ms\n",
            "Speed: 5.1ms preprocess, 35.8ms inference, 2.2ms postprocess per image at shape (1, 3, 384, 640)\n",
            "\n",
            "0: 384x640 2 peoples, 2 forks, 2 spoons, 2 cups, 1 kettle, 1 basket, 1 salad, 1 ribs, 1 Caesar, 1 fish, 1 soup, 1 borsch, 1 phone, 35.9ms\n",
            "Speed: 3.6ms preprocess, 35.9ms inference, 5.5ms postprocess per image at shape (1, 3, 384, 640)\n",
            "\n",
            "0: 384x640 2 peoples, 2 forks, 2 spoons, 2 cups, 1 kettle, 1 basket, 1 salad, 1 ribs, 1 Caesar, 1 fish, 1 soup, 1 borsch, 1 phone, 30.0ms\n",
            "Speed: 3.4ms preprocess, 30.0ms inference, 2.3ms postprocess per image at shape (1, 3, 384, 640)\n",
            "\n",
            "0: 384x640 2 peoples, 2 forks, 3 spoons, 2 cups, 1 kettle, 1 basket, 1 salad, 1 ribs, 1 Caesar, 1 fish, 1 soup, 1 borsch, 1 phone, 19.5ms\n",
            "Speed: 8.3ms preprocess, 19.5ms inference, 2.7ms postprocess per image at shape (1, 3, 384, 640)\n",
            "\n",
            "0: 384x640 2 peoples, 2 forks, 2 spoons, 2 cups, 1 kettle, 1 basket, 1 salad, 1 ribs, 1 Caesar, 1 fish, 1 soup, 1 borsch, 1 phone, 15.4ms\n",
            "Speed: 3.7ms preprocess, 15.4ms inference, 2.1ms postprocess per image at shape (1, 3, 384, 640)\n",
            "\n",
            "0: 384x640 2 peoples, 2 forks, 2 spoons, 2 cups, 1 kettle, 1 basket, 1 salad, 1 ribs, 1 Caesar, 1 fish, 1 soup, 1 borsch, 1 phone, 19.2ms\n",
            "Speed: 3.8ms preprocess, 19.2ms inference, 2.9ms postprocess per image at shape (1, 3, 384, 640)\n",
            "\n",
            "0: 384x640 2 peoples, 2 forks, 2 spoons, 2 cups, 1 kettle, 1 basket, 1 salad, 1 ribs, 1 Caesar, 1 fish, 1 soup, 1 borsch, 1 phone, 16.1ms\n",
            "Speed: 7.1ms preprocess, 16.1ms inference, 2.2ms postprocess per image at shape (1, 3, 384, 640)\n",
            "\n",
            "0: 384x640 2 peoples, 2 forks, 2 spoons, 2 cups, 1 kettle, 1 basket, 1 salad, 1 ribs, 1 Caesar, 1 fish, 1 soup, 1 borsch, 1 phone, 19.6ms\n",
            "Speed: 3.6ms preprocess, 19.6ms inference, 2.2ms postprocess per image at shape (1, 3, 384, 640)\n",
            "\n",
            "0: 384x640 2 peoples, 2 forks, 2 spoons, 2 cups, 1 kettle, 1 basket, 1 salad, 1 ribs, 1 Caesar, 1 fish, 1 soup, 1 borsch, 1 phone, 15.2ms\n",
            "Speed: 3.9ms preprocess, 15.2ms inference, 2.2ms postprocess per image at shape (1, 3, 384, 640)\n",
            "\n",
            "0: 384x640 2 peoples, 2 forks, 2 spoons, 2 cups, 1 kettle, 1 basket, 1 salad, 1 ribs, 1 Caesar, 1 fish, 1 soup, 1 borsch, 1 phone, 16.0ms\n",
            "Speed: 4.2ms preprocess, 16.0ms inference, 2.3ms postprocess per image at shape (1, 3, 384, 640)\n",
            "\n",
            "0: 384x640 2 peoples, 2 forks, 2 spoons, 2 cups, 1 kettle, 1 basket, 1 salad, 1 ribs, 1 Caesar, 1 fish, 1 soup, 1 borsch, 1 phone, 17.6ms\n",
            "Speed: 4.3ms preprocess, 17.6ms inference, 2.6ms postprocess per image at shape (1, 3, 384, 640)\n",
            "\n",
            "0: 384x640 2 peoples, 2 forks, 2 spoons, 2 cups, 1 kettle, 1 basket, 1 salad, 1 ribs, 1 Caesar, 1 fish, 1 soup, 1 borsch, 1 phone, 19.3ms\n",
            "Speed: 10.7ms preprocess, 19.3ms inference, 2.3ms postprocess per image at shape (1, 3, 384, 640)\n",
            "\n",
            "0: 384x640 2 peoples, 2 forks, 2 spoons, 2 cups, 1 kettle, 1 basket, 1 salad, 1 ribs, 1 Caesar, 1 fish, 1 soup, 1 borsch, 1 phone, 18.5ms\n",
            "Speed: 11.7ms preprocess, 18.5ms inference, 2.5ms postprocess per image at shape (1, 3, 384, 640)\n",
            "\n",
            "0: 384x640 2 peoples, 2 forks, 2 spoons, 2 cups, 1 kettle, 1 basket, 1 salad, 1 ribs, 1 Caesar, 1 fish, 1 soup, 1 borsch, 1 phone, 17.0ms\n",
            "Speed: 4.2ms preprocess, 17.0ms inference, 2.3ms postprocess per image at shape (1, 3, 384, 640)\n",
            "\n",
            "0: 384x640 2 peoples, 2 forks, 2 spoons, 2 cups, 1 kettle, 1 basket, 1 salad, 1 ribs, 1 Caesar, 1 fish, 1 soup, 1 borsch, 1 phone, 17.5ms\n",
            "Speed: 3.9ms preprocess, 17.5ms inference, 2.3ms postprocess per image at shape (1, 3, 384, 640)\n",
            "\n",
            "0: 384x640 2 peoples, 2 forks, 2 spoons, 2 cups, 1 kettle, 1 basket, 1 salad, 1 ribs, 1 Caesar, 1 fish, 1 soup, 1 borsch, 1 phone, 14.4ms\n",
            "Speed: 3.6ms preprocess, 14.4ms inference, 2.3ms postprocess per image at shape (1, 3, 384, 640)\n",
            "\n",
            "0: 384x640 2 peoples, 2 forks, 2 spoons, 2 cups, 1 kettle, 1 basket, 1 salad, 1 ribs, 1 Caesar, 1 fish, 1 soup, 1 borsch, 1 phone, 14.7ms\n",
            "Speed: 4.2ms preprocess, 14.7ms inference, 2.3ms postprocess per image at shape (1, 3, 384, 640)\n",
            "\n",
            "0: 384x640 2 peoples, 2 forks, 3 spoons, 2 cups, 1 kettle, 1 basket, 1 salad, 1 ribs, 1 Caesar, 1 fish, 1 soup, 1 borsch, 1 phone, 18.9ms\n",
            "Speed: 3.8ms preprocess, 18.9ms inference, 2.4ms postprocess per image at shape (1, 3, 384, 640)\n",
            "\n",
            "0: 384x640 2 peoples, 2 forks, 3 spoons, 2 cups, 1 kettle, 1 basket, 1 salad, 1 ribs, 1 Caesar, 1 fish, 1 soup, 1 borsch, 1 phone, 20.3ms\n",
            "Speed: 3.9ms preprocess, 20.3ms inference, 2.3ms postprocess per image at shape (1, 3, 384, 640)\n",
            "\n",
            "0: 384x640 2 peoples, 2 forks, 2 spoons, 2 cups, 1 kettle, 1 basket, 1 salad, 1 ribs, 1 Caesar, 1 fish, 1 soup, 1 borsch, 1 phone, 15.6ms\n",
            "Speed: 4.1ms preprocess, 15.6ms inference, 2.0ms postprocess per image at shape (1, 3, 384, 640)\n",
            "\n",
            "0: 384x640 2 peoples, 2 forks, 3 spoons, 2 cups, 1 kettle, 1 basket, 1 salad, 1 ribs, 1 Caesar, 1 fish, 1 soup, 1 borsch, 1 phone, 19.6ms\n",
            "Speed: 7.1ms preprocess, 19.6ms inference, 2.4ms postprocess per image at shape (1, 3, 384, 640)\n",
            "\n",
            "0: 384x640 2 peoples, 2 forks, 3 spoons, 2 cups, 1 kettle, 1 basket, 1 salad, 1 ribs, 1 Caesar, 1 fish, 1 soup, 1 borsch, 1 phone, 21.4ms\n",
            "Speed: 6.9ms preprocess, 21.4ms inference, 2.3ms postprocess per image at shape (1, 3, 384, 640)\n",
            "\n",
            "0: 384x640 2 peoples, 2 forks, 3 spoons, 2 cups, 1 kettle, 1 basket, 1 salad, 1 ribs, 1 Caesar, 1 fish, 1 soup, 1 borsch, 1 phone, 31.6ms\n",
            "Speed: 3.8ms preprocess, 31.6ms inference, 2.3ms postprocess per image at shape (1, 3, 384, 640)\n",
            "\n",
            "0: 384x640 2 peoples, 2 forks, 3 spoons, 2 cups, 1 kettle, 1 basket, 1 salad, 1 ribs, 1 Caesar, 1 fish, 1 soup, 1 borsch, 1 phone, 36.8ms\n",
            "Speed: 3.7ms preprocess, 36.8ms inference, 2.4ms postprocess per image at shape (1, 3, 384, 640)\n",
            "\n",
            "0: 384x640 2 peoples, 2 forks, 3 spoons, 2 cups, 1 kettle, 1 basket, 1 salad, 1 ribs, 1 Caesar, 1 fish, 1 soup, 1 borsch, 1 phone, 24.2ms\n",
            "Speed: 10.3ms preprocess, 24.2ms inference, 2.1ms postprocess per image at shape (1, 3, 384, 640)\n",
            "\n",
            "0: 384x640 2 peoples, 2 forks, 3 spoons, 2 cups, 1 kettle, 1 basket, 1 salad, 1 ribs, 1 Caesar, 1 fish, 1 soup, 1 borsch, 1 phone, 31.5ms\n",
            "Speed: 13.1ms preprocess, 31.5ms inference, 9.0ms postprocess per image at shape (1, 3, 384, 640)\n",
            "\n",
            "0: 384x640 2 peoples, 2 forks, 3 spoons, 2 cups, 1 kettle, 1 basket, 1 salad, 1 ribs, 1 Caesar, 1 fish, 1 soup, 1 borsch, 1 phone, 15.9ms\n",
            "Speed: 3.8ms preprocess, 15.9ms inference, 2.2ms postprocess per image at shape (1, 3, 384, 640)\n",
            "\n",
            "0: 384x640 2 peoples, 2 forks, 3 spoons, 2 cups, 1 kettle, 1 basket, 1 salad, 1 ribs, 1 Caesar, 1 fish, 1 soup, 1 borsch, 1 phone, 20.1ms\n",
            "Speed: 4.3ms preprocess, 20.1ms inference, 2.4ms postprocess per image at shape (1, 3, 384, 640)\n",
            "\n",
            "0: 384x640 2 peoples, 2 forks, 3 spoons, 2 cups, 1 kettle, 1 basket, 1 salad, 1 ribs, 1 Caesar, 1 fish, 1 soup, 1 borsch, 1 phone, 19.3ms\n",
            "Speed: 3.7ms preprocess, 19.3ms inference, 2.4ms postprocess per image at shape (1, 3, 384, 640)\n",
            "\n",
            "0: 384x640 2 peoples, 2 forks, 3 spoons, 2 cups, 1 kettle, 1 basket, 1 salad, 1 ribs, 1 Caesar, 1 fish, 1 soup, 1 borsch, 1 phone, 15.3ms\n",
            "Speed: 4.3ms preprocess, 15.3ms inference, 2.3ms postprocess per image at shape (1, 3, 384, 640)\n",
            "\n",
            "0: 384x640 2 peoples, 2 forks, 3 spoons, 2 cups, 1 kettle, 1 basket, 1 salad, 1 ribs, 1 Caesar, 1 fish, 1 borsch, 1 phone, 17.9ms\n",
            "Speed: 8.7ms preprocess, 17.9ms inference, 5.6ms postprocess per image at shape (1, 3, 384, 640)\n",
            "\n",
            "0: 384x640 2 peoples, 2 forks, 3 spoons, 2 cups, 1 kettle, 1 basket, 1 salad, 1 ribs, 1 Caesar, 1 fish, 1 borsch, 1 phone, 16.6ms\n",
            "Speed: 11.5ms preprocess, 16.6ms inference, 2.2ms postprocess per image at shape (1, 3, 384, 640)\n",
            "\n",
            "0: 384x640 2 peoples, 2 forks, 2 spoons, 2 cups, 1 kettle, 1 basket, 1 salad, 1 ribs, 1 Caesar, 1 fish, 1 borsch, 1 phone, 16.6ms\n",
            "Speed: 3.7ms preprocess, 16.6ms inference, 3.9ms postprocess per image at shape (1, 3, 384, 640)\n",
            "\n",
            "0: 384x640 2 peoples, 2 forks, 2 spoons, 2 cups, 1 kettle, 1 basket, 1 salad, 1 ribs, 1 Caesar, 1 fish, 1 borsch, 1 phone, 16.0ms\n",
            "Speed: 4.0ms preprocess, 16.0ms inference, 2.4ms postprocess per image at shape (1, 3, 384, 640)\n",
            "\n",
            "0: 384x640 2 peoples, 2 forks, 2 spoons, 2 cups, 1 kettle, 1 basket, 1 salad, 1 ribs, 1 Caesar, 1 fish, 1 borsch, 1 phone, 29.4ms\n",
            "Speed: 3.7ms preprocess, 29.4ms inference, 2.3ms postprocess per image at shape (1, 3, 384, 640)\n",
            "\n",
            "0: 384x640 2 peoples, 2 forks, 2 spoons, 2 cups, 1 kettle, 1 basket, 1 salad, 1 ribs, 1 Caesar, 1 fish, 1 borsch, 1 phone, 14.3ms\n",
            "Speed: 4.1ms preprocess, 14.3ms inference, 2.2ms postprocess per image at shape (1, 3, 384, 640)\n",
            "\n",
            "0: 384x640 2 peoples, 2 forks, 3 spoons, 2 cups, 1 kettle, 1 basket, 1 salad, 1 ribs, 1 Caesar, 1 fish, 1 borsch, 1 phone, 15.1ms\n",
            "Speed: 3.6ms preprocess, 15.1ms inference, 2.2ms postprocess per image at shape (1, 3, 384, 640)\n",
            "\n",
            "0: 384x640 2 peoples, 2 forks, 3 spoons, 2 cups, 1 kettle, 1 basket, 1 salad, 1 ribs, 1 Caesar, 1 fish, 1 borsch, 1 phone, 15.6ms\n",
            "Speed: 4.2ms preprocess, 15.6ms inference, 2.2ms postprocess per image at shape (1, 3, 384, 640)\n",
            "\n",
            "0: 384x640 2 peoples, 2 forks, 2 spoons, 2 cups, 1 kettle, 1 basket, 1 salad, 1 ribs, 1 Caesar, 1 fish, 1 borsch, 1 phone, 19.9ms\n",
            "Speed: 5.7ms preprocess, 19.9ms inference, 2.3ms postprocess per image at shape (1, 3, 384, 640)\n",
            "\n",
            "0: 384x640 2 peoples, 2 forks, 2 spoons, 2 cups, 1 kettle, 1 basket, 1 salad, 1 ribs, 1 Caesar, 1 fish, 1 borsch, 1 phone, 15.1ms\n",
            "Speed: 3.9ms preprocess, 15.1ms inference, 2.2ms postprocess per image at shape (1, 3, 384, 640)\n",
            "\n",
            "0: 384x640 2 peoples, 2 forks, 3 spoons, 2 cups, 1 kettle, 1 basket, 1 salad, 1 ribs, 1 Caesar, 1 fish, 1 borsch, 1 phone, 16.0ms\n",
            "Speed: 3.7ms preprocess, 16.0ms inference, 2.3ms postprocess per image at shape (1, 3, 384, 640)\n",
            "\n",
            "0: 384x640 2 peoples, 2 forks, 2 spoons, 2 cups, 1 kettle, 1 basket, 1 salad, 1 ribs, 1 Caesar, 1 fish, 1 borsch, 1 phone, 15.5ms\n",
            "Speed: 4.4ms preprocess, 15.5ms inference, 2.2ms postprocess per image at shape (1, 3, 384, 640)\n",
            "\n",
            "0: 384x640 2 peoples, 2 forks, 2 spoons, 2 cups, 1 kettle, 1 basket, 1 salad, 1 ribs, 1 Caesar, 1 fish, 1 borsch, 1 phone, 16.4ms\n",
            "Speed: 3.5ms preprocess, 16.4ms inference, 2.3ms postprocess per image at shape (1, 3, 384, 640)\n",
            "\n",
            "0: 384x640 2 peoples, 2 forks, 3 spoons, 2 cups, 1 kettle, 1 basket, 1 salad, 1 ribs, 1 Caesar, 1 fish, 1 borsch, 1 phone, 16.5ms\n",
            "Speed: 3.8ms preprocess, 16.5ms inference, 2.3ms postprocess per image at shape (1, 3, 384, 640)\n",
            "\n",
            "0: 384x640 2 peoples, 2 forks, 3 spoons, 2 cups, 1 kettle, 1 basket, 1 salad, 1 ribs, 1 Caesar, 1 fish, 1 borsch, 1 phone, 40.1ms\n",
            "Speed: 7.1ms preprocess, 40.1ms inference, 2.3ms postprocess per image at shape (1, 3, 384, 640)\n",
            "\n",
            "0: 384x640 2 peoples, 2 forks, 3 spoons, 2 cups, 1 kettle, 1 basket, 1 salad, 1 ribs, 1 Caesar, 1 fish, 1 borsch, 1 phone, 15.8ms\n",
            "Speed: 3.8ms preprocess, 15.8ms inference, 2.3ms postprocess per image at shape (1, 3, 384, 640)\n",
            "\n",
            "0: 384x640 2 peoples, 2 forks, 3 spoons, 2 cups, 1 kettle, 1 basket, 1 salad, 1 ribs, 1 Caesar, 1 fish, 1 borsch, 1 phone, 18.3ms\n",
            "Speed: 3.8ms preprocess, 18.3ms inference, 2.7ms postprocess per image at shape (1, 3, 384, 640)\n",
            "\n",
            "0: 384x640 2 peoples, 2 forks, 3 spoons, 2 cups, 1 kettle, 1 basket, 1 salad, 1 ribs, 1 Caesar, 1 fish, 1 borsch, 1 phone, 16.0ms\n",
            "Speed: 3.8ms preprocess, 16.0ms inference, 2.3ms postprocess per image at shape (1, 3, 384, 640)\n",
            "\n",
            "0: 384x640 2 peoples, 2 forks, 3 spoons, 2 cups, 1 kettle, 1 basket, 1 salad, 1 ribs, 1 Caesar, 1 fish, 1 borsch, 1 phone, 15.8ms\n",
            "Speed: 4.6ms preprocess, 15.8ms inference, 2.3ms postprocess per image at shape (1, 3, 384, 640)\n",
            "\n",
            "0: 384x640 2 peoples, 2 forks, 3 spoons, 2 cups, 1 kettle, 1 basket, 1 salad, 1 ribs, 1 Caesar, 1 fish, 1 borsch, 1 phone, 15.8ms\n",
            "Speed: 3.6ms preprocess, 15.8ms inference, 2.3ms postprocess per image at shape (1, 3, 384, 640)\n",
            "\n",
            "0: 384x640 2 peoples, 2 forks, 3 spoons, 2 cups, 1 kettle, 1 basket, 1 salad, 1 ribs, 1 Caesar, 1 fish, 1 borsch, 1 phone, 16.2ms\n",
            "Speed: 6.8ms preprocess, 16.2ms inference, 2.3ms postprocess per image at shape (1, 3, 384, 640)\n",
            "\n",
            "0: 384x640 2 peoples, 2 forks, 2 spoons, 2 cups, 1 kettle, 1 basket, 1 salad, 1 ribs, 1 Caesar, 1 fish, 1 borsch, 1 phone, 35.6ms\n",
            "Speed: 3.6ms preprocess, 35.6ms inference, 2.3ms postprocess per image at shape (1, 3, 384, 640)\n",
            "\n",
            "0: 384x640 2 peoples, 2 forks, 2 spoons, 2 cups, 1 kettle, 1 basket, 1 salad, 1 ribs, 1 Caesar, 1 fish, 1 borsch, 1 phone, 21.6ms\n",
            "Speed: 4.8ms preprocess, 21.6ms inference, 1.9ms postprocess per image at shape (1, 3, 384, 640)\n",
            "\n",
            "0: 384x640 2 peoples, 2 forks, 2 spoons, 2 cups, 1 kettle, 1 basket, 1 salad, 1 ribs, 1 Caesar, 1 fish, 1 borsch, 1 phone, 30.1ms\n",
            "Speed: 12.1ms preprocess, 30.1ms inference, 9.3ms postprocess per image at shape (1, 3, 384, 640)\n",
            "\n",
            "0: 384x640 2 peoples, 2 forks, 2 spoons, 2 cups, 1 kettle, 1 basket, 1 salad, 1 ribs, 1 Caesar, 1 fish, 1 borsch, 1 phone, 20.9ms\n",
            "Speed: 6.4ms preprocess, 20.9ms inference, 6.2ms postprocess per image at shape (1, 3, 384, 640)\n",
            "\n",
            "0: 384x640 2 peoples, 2 forks, 2 spoons, 2 cups, 1 kettle, 1 basket, 1 salad, 1 ribs, 1 Caesar, 1 fish, 1 borsch, 1 phone, 15.0ms\n",
            "Speed: 4.4ms preprocess, 15.0ms inference, 2.2ms postprocess per image at shape (1, 3, 384, 640)\n",
            "\n",
            "0: 384x640 2 peoples, 2 forks, 2 spoons, 2 cups, 1 kettle, 1 basket, 1 salad, 1 ribs, 1 Caesar, 1 fish, 1 borsch, 1 phone, 17.7ms\n",
            "Speed: 4.9ms preprocess, 17.7ms inference, 2.2ms postprocess per image at shape (1, 3, 384, 640)\n",
            "\n",
            "0: 384x640 2 peoples, 2 forks, 3 spoons, 2 cups, 1 kettle, 1 basket, 1 salad, 1 ribs, 1 Caesar, 1 fish, 1 soup, 1 borsch, 1 phone, 26.9ms\n",
            "Speed: 6.5ms preprocess, 26.9ms inference, 2.3ms postprocess per image at shape (1, 3, 384, 640)\n",
            "\n",
            "0: 384x640 2 peoples, 2 forks, 3 spoons, 2 cups, 1 kettle, 1 basket, 1 salad, 1 ribs, 1 Caesar, 1 fish, 1 soup, 1 borsch, 1 phone, 46.1ms\n",
            "Speed: 6.4ms preprocess, 46.1ms inference, 2.3ms postprocess per image at shape (1, 3, 384, 640)\n",
            "\n",
            "0: 384x640 2 peoples, 2 forks, 3 spoons, 2 cups, 1 kettle, 1 basket, 1 salad, 1 ribs, 1 Caesar, 1 fish, 1 soup, 1 borsch, 1 phone, 29.1ms\n",
            "Speed: 3.6ms preprocess, 29.1ms inference, 2.4ms postprocess per image at shape (1, 3, 384, 640)\n",
            "\n",
            "0: 384x640 2 peoples, 2 forks, 3 spoons, 2 cups, 1 kettle, 1 basket, 1 salad, 1 ribs, 1 Caesar, 1 fish, 1 soup, 1 borsch, 1 phone, 22.3ms\n",
            "Speed: 8.6ms preprocess, 22.3ms inference, 2.2ms postprocess per image at shape (1, 3, 384, 640)\n",
            "\n",
            "0: 384x640 2 peoples, 2 forks, 2 spoons, 2 cups, 1 kettle, 1 basket, 1 salad, 1 ribs, 1 Caesar, 1 fish, 1 soup, 1 borsch, 1 phone, 24.3ms\n",
            "Speed: 3.2ms preprocess, 24.3ms inference, 3.0ms postprocess per image at shape (1, 3, 384, 640)\n",
            "\n",
            "0: 384x640 2 peoples, 2 forks, 2 spoons, 2 cups, 1 kettle, 1 basket, 1 salad, 1 ribs, 1 Caesar, 1 fish, 1 soup, 1 borsch, 1 phone, 16.4ms\n",
            "Speed: 9.8ms preprocess, 16.4ms inference, 2.2ms postprocess per image at shape (1, 3, 384, 640)\n",
            "\n",
            "0: 384x640 2 peoples, 2 forks, 2 spoons, 2 cups, 1 kettle, 1 basket, 1 salad, 1 ribs, 1 Caesar, 1 fish, 1 soup, 1 borsch, 1 phone, 16.9ms\n",
            "Speed: 3.6ms preprocess, 16.9ms inference, 2.3ms postprocess per image at shape (1, 3, 384, 640)\n",
            "\n",
            "0: 384x640 2 peoples, 2 forks, 2 spoons, 2 cups, 1 kettle, 1 basket, 1 salad, 1 ribs, 1 Caesar, 1 fish, 1 soup, 1 borsch, 1 phone, 14.4ms\n",
            "Speed: 4.8ms preprocess, 14.4ms inference, 2.2ms postprocess per image at shape (1, 3, 384, 640)\n",
            "\n",
            "0: 384x640 2 peoples, 2 forks, 2 spoons, 2 cups, 1 kettle, 1 basket, 1 salad, 1 ribs, 1 Caesar, 1 fish, 1 soup, 1 borsch, 1 phone, 18.8ms\n",
            "Speed: 4.2ms preprocess, 18.8ms inference, 2.3ms postprocess per image at shape (1, 3, 384, 640)\n",
            "\n",
            "0: 384x640 2 peoples, 2 forks, 2 spoons, 2 cups, 1 kettle, 1 basket, 1 salad, 1 ribs, 1 Caesar, 1 fish, 1 soup, 1 borsch, 1 phone, 16.7ms\n",
            "Speed: 10.5ms preprocess, 16.7ms inference, 2.3ms postprocess per image at shape (1, 3, 384, 640)\n",
            "\n",
            "0: 384x640 2 peoples, 2 forks, 2 spoons, 2 cups, 1 kettle, 1 basket, 1 salad, 1 ribs, 1 Caesar, 1 fish, 1 soup, 1 borsch, 1 phone, 15.3ms\n",
            "Speed: 3.5ms preprocess, 15.3ms inference, 2.2ms postprocess per image at shape (1, 3, 384, 640)\n",
            "\n",
            "0: 384x640 2 peoples, 2 forks, 2 spoons, 2 cups, 1 kettle, 1 basket, 1 salad, 1 ribs, 1 Caesar, 1 fish, 1 soup, 1 borsch, 1 phone, 26.2ms\n",
            "Speed: 3.8ms preprocess, 26.2ms inference, 2.3ms postprocess per image at shape (1, 3, 384, 640)\n",
            "\n",
            "0: 384x640 2 peoples, 2 forks, 2 spoons, 2 cups, 1 kettle, 1 basket, 1 salad, 1 ribs, 1 Caesar, 1 fish, 1 soup, 1 borsch, 1 phone, 15.6ms\n",
            "Speed: 4.3ms preprocess, 15.6ms inference, 2.2ms postprocess per image at shape (1, 3, 384, 640)\n",
            "\n",
            "0: 384x640 2 peoples, 2 forks, 2 spoons, 2 cups, 1 kettle, 1 basket, 1 salad, 1 ribs, 1 Caesar, 1 fish, 1 soup, 1 borsch, 1 phone, 17.9ms\n",
            "Speed: 4.2ms preprocess, 17.9ms inference, 2.6ms postprocess per image at shape (1, 3, 384, 640)\n",
            "\n",
            "0: 384x640 2 peoples, 2 forks, 2 spoons, 2 cups, 1 kettle, 1 basket, 1 salad, 1 ribs, 1 Caesar, 1 fish, 1 soup, 1 borsch, 1 phone, 21.8ms\n",
            "Speed: 3.8ms preprocess, 21.8ms inference, 2.4ms postprocess per image at shape (1, 3, 384, 640)\n",
            "\n",
            "0: 384x640 2 peoples, 2 forks, 2 spoons, 2 cups, 1 kettle, 1 basket, 1 salad, 1 ribs, 1 Caesar, 1 fish, 1 soup, 1 borsch, 1 phone, 14.8ms\n",
            "Speed: 3.7ms preprocess, 14.8ms inference, 2.3ms postprocess per image at shape (1, 3, 384, 640)\n",
            "\n",
            "0: 384x640 2 peoples, 2 forks, 2 spoons, 2 cups, 1 kettle, 1 basket, 1 salad, 1 ribs, 1 Caesar, 1 fish, 1 soup, 1 borsch, 1 phone, 14.7ms\n",
            "Speed: 3.4ms preprocess, 14.7ms inference, 2.2ms postprocess per image at shape (1, 3, 384, 640)\n",
            "\n",
            "0: 384x640 2 peoples, 2 forks, 2 spoons, 2 cups, 1 kettle, 1 basket, 1 salad, 1 ribs, 1 Caesar, 1 fish, 1 soup, 1 borsch, 1 phone, 14.6ms\n",
            "Speed: 3.7ms preprocess, 14.6ms inference, 1.9ms postprocess per image at shape (1, 3, 384, 640)\n",
            "\n",
            "0: 384x640 2 peoples, 2 forks, 2 spoons, 2 cups, 1 kettle, 1 basket, 1 salad, 1 ribs, 1 Caesar, 1 fish, 1 soup, 1 borsch, 1 phone, 20.5ms\n",
            "Speed: 3.4ms preprocess, 20.5ms inference, 2.4ms postprocess per image at shape (1, 3, 384, 640)\n",
            "\n",
            "0: 384x640 2 peoples, 2 forks, 2 spoons, 2 cups, 1 kettle, 1 basket, 1 salad, 1 ribs, 1 Caesar, 1 fish, 1 soup, 1 borsch, 1 phone, 33.1ms\n",
            "Speed: 3.7ms preprocess, 33.1ms inference, 2.3ms postprocess per image at shape (1, 3, 384, 640)\n",
            "\n",
            "0: 384x640 2 peoples, 2 forks, 2 spoons, 2 cups, 1 kettle, 1 basket, 1 salad, 1 ribs, 1 Caesar, 1 fish, 1 soup, 1 borsch, 1 phone, 16.9ms\n",
            "Speed: 5.8ms preprocess, 16.9ms inference, 2.2ms postprocess per image at shape (1, 3, 384, 640)\n",
            "\n",
            "0: 384x640 2 peoples, 2 forks, 2 spoons, 2 cups, 1 kettle, 1 basket, 1 salad, 1 ribs, 1 Caesar, 1 fish, 1 soup, 1 borsch, 1 phone, 20.7ms\n",
            "Speed: 4.2ms preprocess, 20.7ms inference, 2.3ms postprocess per image at shape (1, 3, 384, 640)\n",
            "\n",
            "0: 384x640 2 peoples, 2 forks, 2 spoons, 2 cups, 1 kettle, 1 basket, 1 salad, 1 ribs, 1 Caesar, 1 fish, 1 soup, 1 borsch, 1 phone, 17.6ms\n",
            "Speed: 4.1ms preprocess, 17.6ms inference, 2.3ms postprocess per image at shape (1, 3, 384, 640)\n",
            "\n",
            "0: 384x640 2 peoples, 2 forks, 2 spoons, 2 cups, 1 kettle, 1 basket, 1 salad, 1 ribs, 1 Caesar, 1 fish, 1 soup, 1 borsch, 1 phone, 16.8ms\n",
            "Speed: 9.1ms preprocess, 16.8ms inference, 2.1ms postprocess per image at shape (1, 3, 384, 640)\n",
            "\n",
            "0: 384x640 2 peoples, 2 forks, 2 spoons, 2 cups, 1 kettle, 1 basket, 1 salad, 1 ribs, 1 Caesar, 1 fish, 1 soup, 1 borsch, 1 phone, 16.9ms\n",
            "Speed: 3.6ms preprocess, 16.9ms inference, 2.3ms postprocess per image at shape (1, 3, 384, 640)\n",
            "\n",
            "0: 384x640 2 peoples, 2 forks, 2 spoons, 2 cups, 1 kettle, 1 basket, 1 salad, 1 ribs, 1 Caesar, 1 fish, 1 soup, 1 borsch, 1 phone, 15.8ms\n",
            "Speed: 8.3ms preprocess, 15.8ms inference, 2.2ms postprocess per image at shape (1, 3, 384, 640)\n",
            "\n",
            "0: 384x640 2 peoples, 2 forks, 2 spoons, 2 cups, 1 kettle, 1 basket, 1 salad, 1 ribs, 1 Caesar, 1 fish, 1 soup, 1 borsch, 1 phone, 16.4ms\n",
            "Speed: 4.9ms preprocess, 16.4ms inference, 2.3ms postprocess per image at shape (1, 3, 384, 640)\n",
            "\n",
            "0: 384x640 2 peoples, 2 forks, 3 spoons, 2 cups, 1 kettle, 1 basket, 1 salad, 1 ribs, 1 Caesar, 1 fish, 1 soup, 1 borsch, 1 phone, 15.6ms\n",
            "Speed: 6.8ms preprocess, 15.6ms inference, 2.4ms postprocess per image at shape (1, 3, 384, 640)\n",
            "\n",
            "0: 384x640 2 peoples, 2 forks, 3 spoons, 2 cups, 1 kettle, 1 basket, 1 salad, 1 ribs, 1 Caesar, 1 fish, 1 soup, 1 borsch, 1 phone, 27.7ms\n",
            "Speed: 4.0ms preprocess, 27.7ms inference, 2.4ms postprocess per image at shape (1, 3, 384, 640)\n",
            "\n",
            "0: 384x640 2 peoples, 2 forks, 3 spoons, 2 cups, 1 kettle, 1 basket, 1 salad, 1 ribs, 1 Caesar, 1 fish, 1 soup, 1 borsch, 1 phone, 15.5ms\n",
            "Speed: 3.6ms preprocess, 15.5ms inference, 2.3ms postprocess per image at shape (1, 3, 384, 640)\n",
            "\n",
            "0: 384x640 2 peoples, 2 forks, 3 spoons, 2 cups, 1 kettle, 1 basket, 1 salad, 1 ribs, 1 Caesar, 1 fish, 1 soup, 1 borsch, 1 phone, 15.9ms\n",
            "Speed: 3.9ms preprocess, 15.9ms inference, 2.4ms postprocess per image at shape (1, 3, 384, 640)\n",
            "\n",
            "0: 384x640 2 peoples, 2 forks, 3 spoons, 2 cups, 1 kettle, 1 basket, 1 salad, 1 ribs, 1 Caesar, 1 fish, 1 soup, 1 borsch, 1 phone, 15.2ms\n",
            "Speed: 3.6ms preprocess, 15.2ms inference, 2.3ms postprocess per image at shape (1, 3, 384, 640)\n",
            "\n",
            "0: 384x640 2 peoples, 2 forks, 3 spoons, 2 cups, 1 kettle, 1 basket, 1 salad, 1 ribs, 1 Caesar, 1 fish, 1 soup, 1 borsch, 1 phone, 20.1ms\n",
            "Speed: 3.4ms preprocess, 20.1ms inference, 2.7ms postprocess per image at shape (1, 3, 384, 640)\n",
            "\n",
            "0: 384x640 2 peoples, 2 forks, 3 spoons, 2 cups, 1 kettle, 1 basket, 1 salad, 1 ribs, 1 Caesar, 1 fish, 1 soup, 1 borsch, 1 phone, 25.1ms\n",
            "Speed: 7.2ms preprocess, 25.1ms inference, 2.3ms postprocess per image at shape (1, 3, 384, 640)\n",
            "\n",
            "0: 384x640 2 peoples, 2 forks, 3 spoons, 2 cups, 1 kettle, 1 basket, 1 salad, 1 ribs, 1 Caesar, 1 fish, 1 soup, 1 borsch, 1 phone, 17.0ms\n",
            "Speed: 6.2ms preprocess, 17.0ms inference, 2.3ms postprocess per image at shape (1, 3, 384, 640)\n",
            "\n",
            "0: 384x640 2 peoples, 2 forks, 3 spoons, 2 cups, 1 kettle, 1 basket, 1 salad, 1 ribs, 1 Caesar, 1 fish, 1 soup, 1 borsch, 1 phone, 18.4ms\n",
            "Speed: 4.0ms preprocess, 18.4ms inference, 2.2ms postprocess per image at shape (1, 3, 384, 640)\n",
            "\n",
            "0: 384x640 2 peoples, 2 forks, 3 spoons, 2 cups, 1 kettle, 1 basket, 1 salad, 1 ribs, 1 Caesar, 1 fish, 1 soup, 1 borsch, 1 phone, 16.9ms\n",
            "Speed: 11.0ms preprocess, 16.9ms inference, 2.3ms postprocess per image at shape (1, 3, 384, 640)\n",
            "\n",
            "0: 384x640 2 peoples, 2 forks, 3 spoons, 2 cups, 1 kettle, 1 basket, 1 salad, 1 ribs, 1 Caesar, 1 fish, 1 soup, 1 borsch, 1 phone, 18.5ms\n",
            "Speed: 3.7ms preprocess, 18.5ms inference, 2.4ms postprocess per image at shape (1, 3, 384, 640)\n",
            "\n",
            "0: 384x640 2 peoples, 2 forks, 3 spoons, 2 cups, 1 kettle, 1 basket, 1 salad, 1 ribs, 1 Caesar, 1 fish, 1 soup, 1 borsch, 1 phone, 22.3ms\n",
            "Speed: 11.8ms preprocess, 22.3ms inference, 2.4ms postprocess per image at shape (1, 3, 384, 640)\n",
            "\n",
            "0: 384x640 2 peoples, 2 forks, 3 spoons, 2 cups, 1 kettle, 1 basket, 1 salad, 1 ribs, 1 Caesar, 1 fish, 1 soup, 1 borsch, 1 phone, 36.8ms\n",
            "Speed: 3.7ms preprocess, 36.8ms inference, 2.3ms postprocess per image at shape (1, 3, 384, 640)\n",
            "\n",
            "0: 384x640 2 peoples, 2 forks, 3 spoons, 2 cups, 1 kettle, 1 basket, 1 salad, 1 ribs, 1 Caesar, 1 fish, 1 soup, 1 borsch, 1 phone, 18.2ms\n",
            "Speed: 7.9ms preprocess, 18.2ms inference, 2.4ms postprocess per image at shape (1, 3, 384, 640)\n",
            "\n",
            "0: 384x640 2 peoples, 2 forks, 3 spoons, 2 cups, 1 kettle, 1 basket, 1 salad, 1 ribs, 1 Caesar, 1 fish, 1 soup, 1 borsch, 1 phone, 15.8ms\n",
            "Speed: 3.7ms preprocess, 15.8ms inference, 2.3ms postprocess per image at shape (1, 3, 384, 640)\n",
            "\n",
            "0: 384x640 2 peoples, 2 forks, 3 spoons, 2 cups, 1 kettle, 1 basket, 1 salad, 1 ribs, 1 Caesar, 1 fish, 1 soup, 1 borsch, 1 phone, 17.1ms\n",
            "Speed: 6.6ms preprocess, 17.1ms inference, 2.3ms postprocess per image at shape (1, 3, 384, 640)\n",
            "\n",
            "0: 384x640 2 peoples, 2 forks, 3 spoons, 2 cups, 1 kettle, 1 basket, 1 salad, 1 ribs, 1 Caesar, 1 fish, 1 soup, 1 borsch, 1 phone, 14.9ms\n",
            "Speed: 3.6ms preprocess, 14.9ms inference, 2.2ms postprocess per image at shape (1, 3, 384, 640)\n",
            "\n",
            "0: 384x640 2 peoples, 2 forks, 3 spoons, 2 cups, 1 kettle, 1 basket, 1 salad, 1 ribs, 1 Caesar, 1 fish, 1 soup, 1 borsch, 1 phone, 17.6ms\n",
            "Speed: 3.8ms preprocess, 17.6ms inference, 2.1ms postprocess per image at shape (1, 3, 384, 640)\n",
            "\n",
            "0: 384x640 2 peoples, 2 forks, 2 spoons, 2 cups, 1 kettle, 1 basket, 1 salad, 1 ribs, 1 Caesar, 1 fish, 1 soup, 1 borsch, 1 phone, 15.8ms\n",
            "Speed: 3.9ms preprocess, 15.8ms inference, 2.3ms postprocess per image at shape (1, 3, 384, 640)\n",
            "\n",
            "0: 384x640 2 peoples, 2 forks, 2 spoons, 2 cups, 1 kettle, 1 basket, 1 salad, 1 ribs, 1 Caesar, 1 fish, 1 soup, 1 borsch, 1 phone, 14.5ms\n",
            "Speed: 3.6ms preprocess, 14.5ms inference, 2.2ms postprocess per image at shape (1, 3, 384, 640)\n",
            "\n",
            "0: 384x640 2 peoples, 2 forks, 2 spoons, 2 cups, 1 kettle, 1 basket, 1 salad, 1 ribs, 1 Caesar, 1 fish, 1 soup, 1 borsch, 1 phone, 22.8ms\n",
            "Speed: 6.3ms preprocess, 22.8ms inference, 2.5ms postprocess per image at shape (1, 3, 384, 640)\n",
            "\n",
            "0: 384x640 2 peoples, 2 forks, 2 spoons, 2 cups, 1 kettle, 1 basket, 1 salad, 1 ribs, 1 Caesar, 1 fish, 1 soup, 1 borsch, 1 phone, 21.1ms\n",
            "Speed: 3.2ms preprocess, 21.1ms inference, 3.1ms postprocess per image at shape (1, 3, 384, 640)\n",
            "\n",
            "0: 384x640 2 peoples, 2 forks, 2 spoons, 2 cups, 1 kettle, 1 basket, 1 salad, 1 ribs, 1 Caesar, 1 fish, 1 soup, 1 borsch, 1 phone, 21.0ms\n",
            "Speed: 10.9ms preprocess, 21.0ms inference, 2.3ms postprocess per image at shape (1, 3, 384, 640)\n",
            "\n",
            "0: 384x640 2 peoples, 2 forks, 2 spoons, 2 cups, 1 kettle, 1 basket, 1 salad, 1 ribs, 1 Caesar, 1 fish, 1 soup, 1 borsch, 1 phone, 39.0ms\n",
            "Speed: 6.0ms preprocess, 39.0ms inference, 8.6ms postprocess per image at shape (1, 3, 384, 640)\n",
            "\n",
            "0: 384x640 2 peoples, 2 forks, 2 spoons, 2 cups, 1 kettle, 1 basket, 1 salad, 1 ribs, 1 Caesar, 1 fish, 2 soups, 1 borsch, 1 phone, 22.1ms\n",
            "Speed: 4.5ms preprocess, 22.1ms inference, 3.1ms postprocess per image at shape (1, 3, 384, 640)\n",
            "\n",
            "0: 384x640 2 peoples, 2 forks, 2 spoons, 2 cups, 1 kettle, 1 basket, 1 salad, 1 ribs, 1 Caesar, 1 fish, 1 soup, 1 borsch, 1 phone, 25.7ms\n",
            "Speed: 3.6ms preprocess, 25.7ms inference, 1.9ms postprocess per image at shape (1, 3, 384, 640)\n",
            "\n",
            "0: 384x640 2 peoples, 2 forks, 2 spoons, 2 cups, 1 kettle, 1 basket, 1 salad, 1 ribs, 1 Caesar, 1 fish, 1 soup, 1 borsch, 1 phone, 15.2ms\n",
            "Speed: 3.7ms preprocess, 15.2ms inference, 2.3ms postprocess per image at shape (1, 3, 384, 640)\n",
            "\n",
            "0: 384x640 2 peoples, 2 forks, 2 spoons, 2 cups, 1 kettle, 1 basket, 1 salad, 1 ribs, 1 Caesar, 1 fish, 2 soups, 1 borsch, 1 phone, 40.3ms\n",
            "Speed: 3.6ms preprocess, 40.3ms inference, 2.1ms postprocess per image at shape (1, 3, 384, 640)\n",
            "\n",
            "0: 384x640 2 peoples, 2 forks, 2 spoons, 2 cups, 1 kettle, 1 basket, 1 salad, 1 ribs, 1 Caesar, 1 fish, 1 soup, 1 borsch, 1 phone, 27.7ms\n",
            "Speed: 3.9ms preprocess, 27.7ms inference, 1.9ms postprocess per image at shape (1, 3, 384, 640)\n",
            "\n",
            "0: 384x640 2 peoples, 2 forks, 2 spoons, 2 cups, 1 kettle, 1 basket, 1 salad, 1 ribs, 1 Caesar, 1 fish, 1 soup, 1 borsch, 1 phone, 23.0ms\n",
            "Speed: 7.2ms preprocess, 23.0ms inference, 1.9ms postprocess per image at shape (1, 3, 384, 640)\n",
            "\n",
            "0: 384x640 2 peoples, 2 forks, 2 spoons, 2 cups, 1 kettle, 1 basket, 1 salad, 1 ribs, 1 Caesar, 1 fish, 1 soup, 1 borsch, 1 phone, 34.0ms\n",
            "Speed: 3.4ms preprocess, 34.0ms inference, 4.3ms postprocess per image at shape (1, 3, 384, 640)\n",
            "\n",
            "0: 384x640 2 peoples, 2 forks, 2 spoons, 2 cups, 1 kettle, 1 basket, 1 salad, 1 ribs, 1 Caesar, 1 fish, 1 soup, 1 borsch, 1 phone, 16.0ms\n",
            "Speed: 3.8ms preprocess, 16.0ms inference, 2.3ms postprocess per image at shape (1, 3, 384, 640)\n",
            "\n",
            "0: 384x640 2 peoples, 2 forks, 2 spoons, 2 cups, 1 kettle, 1 basket, 1 salad, 1 ribs, 1 Caesar, 1 fish, 1 soup, 1 borsch, 1 phone, 18.4ms\n",
            "Speed: 7.6ms preprocess, 18.4ms inference, 2.3ms postprocess per image at shape (1, 3, 384, 640)\n",
            "\n",
            "0: 384x640 2 peoples, 2 forks, 2 spoons, 2 cups, 1 kettle, 1 basket, 1 salad, 1 ribs, 1 Caesar, 1 fish, 1 soup, 1 borsch, 1 phone, 15.5ms\n",
            "Speed: 3.8ms preprocess, 15.5ms inference, 2.5ms postprocess per image at shape (1, 3, 384, 640)\n",
            "\n",
            "0: 384x640 2 peoples, 2 forks, 3 spoons, 2 cups, 1 kettle, 1 basket, 1 salad, 1 ribs, 1 Caesar, 1 fish, 1 soup, 1 borsch, 1 phone, 19.0ms\n",
            "Speed: 3.6ms preprocess, 19.0ms inference, 2.5ms postprocess per image at shape (1, 3, 384, 640)\n",
            "\n",
            "0: 384x640 2 peoples, 2 forks, 2 spoons, 2 cups, 1 kettle, 1 basket, 1 salad, 1 ribs, 1 Caesar, 1 fish, 1 soup, 1 borsch, 1 phone, 16.3ms\n",
            "Speed: 4.1ms preprocess, 16.3ms inference, 2.3ms postprocess per image at shape (1, 3, 384, 640)\n",
            "\n",
            "0: 384x640 2 peoples, 2 forks, 3 spoons, 2 cups, 1 kettle, 1 basket, 1 salad, 1 ribs, 1 Caesar, 1 fish, 1 soup, 1 borsch, 1 phone, 15.3ms\n",
            "Speed: 3.5ms preprocess, 15.3ms inference, 2.3ms postprocess per image at shape (1, 3, 384, 640)\n",
            "\n",
            "0: 384x640 2 peoples, 2 forks, 3 spoons, 2 cups, 1 kettle, 1 basket, 1 salad, 1 ribs, 1 Caesar, 1 fish, 1 soup, 1 borsch, 1 phone, 15.3ms\n",
            "Speed: 3.6ms preprocess, 15.3ms inference, 2.2ms postprocess per image at shape (1, 3, 384, 640)\n",
            "\n",
            "0: 384x640 2 peoples, 2 forks, 3 spoons, 2 cups, 1 kettle, 1 basket, 1 salad, 1 ribs, 1 Caesar, 1 fish, 1 soup, 1 borsch, 1 phone, 16.0ms\n",
            "Speed: 3.7ms preprocess, 16.0ms inference, 2.6ms postprocess per image at shape (1, 3, 384, 640)\n",
            "\n",
            "0: 384x640 2 peoples, 2 forks, 3 spoons, 2 cups, 1 kettle, 1 basket, 1 salad, 1 ribs, 1 Caesar, 1 fish, 1 soup, 1 borsch, 1 phone, 22.2ms\n",
            "Speed: 3.9ms preprocess, 22.2ms inference, 2.3ms postprocess per image at shape (1, 3, 384, 640)\n",
            "\n",
            "0: 384x640 2 peoples, 2 forks, 3 spoons, 2 cups, 1 kettle, 1 basket, 1 salad, 1 ribs, 1 Caesar, 1 fish, 1 soup, 1 borsch, 1 phone, 14.0ms\n",
            "Speed: 12.2ms preprocess, 14.0ms inference, 2.3ms postprocess per image at shape (1, 3, 384, 640)\n",
            "\n",
            "0: 384x640 2 peoples, 2 forks, 3 spoons, 2 cups, 1 kettle, 1 basket, 1 salad, 1 ribs, 1 Caesar, 1 fish, 1 soup, 1 borsch, 1 phone, 15.5ms\n",
            "Speed: 4.8ms preprocess, 15.5ms inference, 2.2ms postprocess per image at shape (1, 3, 384, 640)\n",
            "\n",
            "0: 384x640 2 peoples, 2 forks, 3 spoons, 2 cups, 1 kettle, 1 basket, 1 salad, 1 ribs, 1 Caesar, 1 fish, 1 soup, 1 borsch, 1 phone, 15.3ms\n",
            "Speed: 4.1ms preprocess, 15.3ms inference, 2.2ms postprocess per image at shape (1, 3, 384, 640)\n",
            "\n",
            "0: 384x640 2 peoples, 2 forks, 3 spoons, 2 cups, 1 kettle, 1 basket, 1 salad, 1 ribs, 1 Caesar, 1 fish, 1 soup, 1 borsch, 1 phone, 17.9ms\n",
            "Speed: 4.1ms preprocess, 17.9ms inference, 2.6ms postprocess per image at shape (1, 3, 384, 640)\n",
            "\n",
            "0: 384x640 2 peoples, 2 forks, 3 spoons, 2 cups, 1 kettle, 1 basket, 1 salad, 1 ribs, 1 Caesar, 1 fish, 1 soup, 1 borsch, 1 phone, 27.8ms\n",
            "Speed: 3.5ms preprocess, 27.8ms inference, 2.4ms postprocess per image at shape (1, 3, 384, 640)\n",
            "\n",
            "0: 384x640 2 peoples, 2 forks, 3 spoons, 2 cups, 1 kettle, 1 basket, 1 salad, 1 ribs, 1 Caesar, 1 fish, 1 soup, 1 borsch, 1 phone, 20.3ms\n",
            "Speed: 4.6ms preprocess, 20.3ms inference, 2.3ms postprocess per image at shape (1, 3, 384, 640)\n",
            "\n",
            "0: 384x640 2 peoples, 2 forks, 3 spoons, 2 cups, 1 kettle, 1 basket, 1 salad, 1 ribs, 1 Caesar, 1 fish, 1 soup, 1 borsch, 1 phone, 16.4ms\n",
            "Speed: 3.7ms preprocess, 16.4ms inference, 2.2ms postprocess per image at shape (1, 3, 384, 640)\n",
            "\n",
            "0: 384x640 2 peoples, 2 forks, 3 spoons, 2 cups, 1 kettle, 1 basket, 1 salad, 1 ribs, 1 Caesar, 1 fish, 1 soup, 1 borsch, 1 phone, 16.2ms\n",
            "Speed: 3.8ms preprocess, 16.2ms inference, 2.2ms postprocess per image at shape (1, 3, 384, 640)\n",
            "\n",
            "0: 384x640 2 peoples, 2 forks, 3 spoons, 2 cups, 1 kettle, 1 basket, 1 salad, 1 ribs, 1 Caesar, 1 fish, 1 soup, 1 borsch, 1 phone, 19.7ms\n",
            "Speed: 3.9ms preprocess, 19.7ms inference, 2.2ms postprocess per image at shape (1, 3, 384, 640)\n",
            "\n",
            "0: 384x640 2 peoples, 2 forks, 3 spoons, 2 cups, 1 kettle, 1 basket, 1 salad, 1 ribs, 1 Caesar, 1 fish, 1 soup, 1 borsch, 1 phone, 29.2ms\n",
            "Speed: 11.0ms preprocess, 29.2ms inference, 2.2ms postprocess per image at shape (1, 3, 384, 640)\n",
            "\n",
            "0: 384x640 2 peoples, 2 forks, 3 spoons, 2 cups, 1 kettle, 1 basket, 1 salad, 1 ribs, 1 Caesar, 1 fish, 1 soup, 1 borsch, 1 phone, 13.8ms\n",
            "Speed: 3.4ms preprocess, 13.8ms inference, 2.0ms postprocess per image at shape (1, 3, 384, 640)\n",
            "\n",
            "0: 384x640 2 peoples, 2 forks, 3 spoons, 2 cups, 1 kettle, 1 basket, 1 salad, 1 ribs, 1 Caesar, 1 fish, 1 soup, 1 borsch, 1 phone, 16.8ms\n",
            "Speed: 6.8ms preprocess, 16.8ms inference, 2.3ms postprocess per image at shape (1, 3, 384, 640)\n",
            "\n",
            "0: 384x640 2 peoples, 2 forks, 3 spoons, 2 cups, 1 kettle, 1 basket, 1 salad, 1 ribs, 1 Caesar, 1 fish, 1 soup, 1 borsch, 1 phone, 14.5ms\n",
            "Speed: 5.0ms preprocess, 14.5ms inference, 2.2ms postprocess per image at shape (1, 3, 384, 640)\n",
            "\n",
            "0: 384x640 2 peoples, 2 forks, 3 spoons, 2 cups, 1 kettle, 1 basket, 1 salad, 1 ribs, 1 Caesar, 1 fish, 1 soup, 1 borsch, 1 phone, 16.2ms\n",
            "Speed: 3.6ms preprocess, 16.2ms inference, 2.3ms postprocess per image at shape (1, 3, 384, 640)\n",
            "\n",
            "0: 384x640 2 peoples, 2 forks, 3 spoons, 2 cups, 1 kettle, 1 basket, 1 salad, 1 ribs, 1 Caesar, 1 fish, 1 soup, 1 borsch, 1 phone, 28.3ms\n",
            "Speed: 3.6ms preprocess, 28.3ms inference, 2.5ms postprocess per image at shape (1, 3, 384, 640)\n",
            "\n",
            "0: 384x640 2 peoples, 2 forks, 3 spoons, 2 cups, 1 kettle, 1 basket, 1 salad, 1 ribs, 1 Caesar, 1 fish, 1 soup, 1 borsch, 1 phone, 16.7ms\n",
            "Speed: 9.5ms preprocess, 16.7ms inference, 2.3ms postprocess per image at shape (1, 3, 384, 640)\n",
            "\n",
            "0: 384x640 2 peoples, 2 forks, 3 spoons, 2 cups, 1 kettle, 1 basket, 1 salad, 1 ribs, 1 Caesar, 1 fish, 1 soup, 1 borsch, 1 phone, 15.7ms\n",
            "Speed: 10.4ms preprocess, 15.7ms inference, 2.4ms postprocess per image at shape (1, 3, 384, 640)\n",
            "\n",
            "0: 384x640 2 peoples, 2 forks, 3 spoons, 2 cups, 1 kettle, 1 basket, 1 salad, 1 ribs, 1 Caesar, 1 fish, 1 soup, 1 borsch, 1 phone, 24.0ms\n",
            "Speed: 8.3ms preprocess, 24.0ms inference, 2.5ms postprocess per image at shape (1, 3, 384, 640)\n",
            "\n",
            "0: 384x640 2 peoples, 2 forks, 3 spoons, 2 cups, 1 kettle, 1 basket, 1 salad, 1 ribs, 1 Caesar, 1 fish, 1 soup, 1 borsch, 1 phone, 25.6ms\n",
            "Speed: 8.4ms preprocess, 25.6ms inference, 2.3ms postprocess per image at shape (1, 3, 384, 640)\n",
            "\n",
            "0: 384x640 2 peoples, 2 forks, 3 spoons, 2 cups, 1 kettle, 1 basket, 1 salad, 1 ribs, 1 Caesar, 1 fish, 1 soup, 1 borsch, 1 phone, 17.9ms\n",
            "Speed: 3.9ms preprocess, 17.9ms inference, 2.5ms postprocess per image at shape (1, 3, 384, 640)\n",
            "\n",
            "0: 384x640 2 peoples, 2 forks, 3 spoons, 2 cups, 1 kettle, 1 basket, 1 salad, 1 ribs, 1 Caesar, 1 fish, 1 soup, 1 borsch, 1 phone, 22.3ms\n",
            "Speed: 3.8ms preprocess, 22.3ms inference, 2.2ms postprocess per image at shape (1, 3, 384, 640)\n",
            "\n",
            "0: 384x640 2 peoples, 2 forks, 3 spoons, 2 cups, 1 kettle, 1 basket, 1 salad, 1 ribs, 1 Caesar, 1 fish, 1 soup, 1 borsch, 1 phone, 15.8ms\n",
            "Speed: 5.7ms preprocess, 15.8ms inference, 2.3ms postprocess per image at shape (1, 3, 384, 640)\n",
            "\n",
            "0: 384x640 2 peoples, 2 forks, 3 spoons, 2 cups, 1 kettle, 1 basket, 1 salad, 1 ribs, 1 Caesar, 1 fish, 1 soup, 1 borsch, 1 phone, 35.7ms\n",
            "Speed: 6.4ms preprocess, 35.7ms inference, 6.6ms postprocess per image at shape (1, 3, 384, 640)\n",
            "\n",
            "0: 384x640 2 peoples, 2 forks, 3 spoons, 2 cups, 1 kettle, 1 basket, 1 salad, 1 ribs, 1 Caesar, 1 fish, 1 soup, 1 borsch, 1 phone, 16.0ms\n",
            "Speed: 4.0ms preprocess, 16.0ms inference, 2.4ms postprocess per image at shape (1, 3, 384, 640)\n",
            "\n",
            "0: 384x640 2 peoples, 2 forks, 3 spoons, 2 cups, 1 kettle, 1 basket, 1 salad, 1 ribs, 1 Caesar, 1 fish, 1 soup, 1 borsch, 1 phone, 14.8ms\n",
            "Speed: 3.7ms preprocess, 14.8ms inference, 2.2ms postprocess per image at shape (1, 3, 384, 640)\n",
            "\n",
            "0: 384x640 2 peoples, 2 forks, 3 spoons, 2 cups, 1 kettle, 1 basket, 1 salad, 1 ribs, 1 Caesar, 1 fish, 1 soup, 1 borsch, 1 phone, 17.0ms\n",
            "Speed: 5.1ms preprocess, 17.0ms inference, 2.3ms postprocess per image at shape (1, 3, 384, 640)\n",
            "\n",
            "0: 384x640 2 peoples, 2 forks, 3 spoons, 2 cups, 1 kettle, 1 basket, 1 salad, 1 ribs, 1 Caesar, 1 fish, 1 soup, 1 borsch, 1 phone, 27.2ms\n",
            "Speed: 5.5ms preprocess, 27.2ms inference, 2.4ms postprocess per image at shape (1, 3, 384, 640)\n",
            "\n",
            "0: 384x640 2 peoples, 2 forks, 3 spoons, 2 cups, 1 kettle, 1 basket, 1 salad, 1 ribs, 1 Caesar, 1 fish, 1 soup, 1 borsch, 1 phone, 31.4ms\n",
            "Speed: 11.1ms preprocess, 31.4ms inference, 8.7ms postprocess per image at shape (1, 3, 384, 640)\n",
            "\n",
            "0: 384x640 2 peoples, 2 forks, 3 spoons, 2 cups, 1 kettle, 1 basket, 1 salad, 1 ribs, 1 Caesar, 1 fish, 1 soup, 1 borsch, 1 phone, 19.2ms\n",
            "Speed: 14.2ms preprocess, 19.2ms inference, 2.3ms postprocess per image at shape (1, 3, 384, 640)\n",
            "\n",
            "0: 384x640 2 peoples, 2 forks, 3 spoons, 2 cups, 1 kettle, 1 basket, 1 salad, 1 ribs, 1 Caesar, 1 fish, 1 soup, 1 borsch, 1 phone, 15.6ms\n",
            "Speed: 4.2ms preprocess, 15.6ms inference, 2.3ms postprocess per image at shape (1, 3, 384, 640)\n",
            "\n",
            "0: 384x640 2 peoples, 2 forks, 3 spoons, 2 cups, 1 kettle, 1 basket, 1 salad, 1 ribs, 1 Caesar, 1 fish, 1 soup, 1 borsch, 1 phone, 15.8ms\n",
            "Speed: 4.3ms preprocess, 15.8ms inference, 2.3ms postprocess per image at shape (1, 3, 384, 640)\n",
            "\n",
            "0: 384x640 2 peoples, 2 forks, 3 spoons, 2 cups, 1 kettle, 1 basket, 1 salad, 1 ribs, 1 Caesar, 1 fish, 1 soup, 1 borsch, 1 phone, 15.2ms\n",
            "Speed: 4.4ms preprocess, 15.2ms inference, 2.3ms postprocess per image at shape (1, 3, 384, 640)\n",
            "\n",
            "0: 384x640 2 peoples, 2 forks, 2 spoons, 2 cups, 1 kettle, 1 basket, 1 salad, 1 ribs, 1 Caesar, 1 fish, 1 soup, 1 borsch, 1 phone, 26.7ms\n",
            "Speed: 6.7ms preprocess, 26.7ms inference, 2.2ms postprocess per image at shape (1, 3, 384, 640)\n",
            "\n",
            "0: 384x640 2 peoples, 2 forks, 3 spoons, 2 cups, 1 kettle, 1 basket, 1 salad, 1 ribs, 1 Caesar, 1 fish, 1 soup, 1 borsch, 1 phone, 15.3ms\n",
            "Speed: 3.7ms preprocess, 15.3ms inference, 2.4ms postprocess per image at shape (1, 3, 384, 640)\n",
            "\n",
            "0: 384x640 2 peoples, 2 forks, 3 spoons, 2 cups, 1 kettle, 1 basket, 1 salad, 1 ribs, 1 Caesar, 1 fish, 1 soup, 1 borsch, 1 phone, 17.4ms\n",
            "Speed: 3.9ms preprocess, 17.4ms inference, 2.3ms postprocess per image at shape (1, 3, 384, 640)\n",
            "\n",
            "0: 384x640 2 peoples, 2 forks, 3 spoons, 2 cups, 1 kettle, 1 basket, 1 salad, 1 ribs, 1 Caesar, 1 fish, 1 soup, 1 borsch, 1 phone, 14.8ms\n",
            "Speed: 3.5ms preprocess, 14.8ms inference, 2.2ms postprocess per image at shape (1, 3, 384, 640)\n",
            "\n",
            "0: 384x640 2 peoples, 2 forks, 3 spoons, 2 cups, 1 kettle, 1 basket, 1 salad, 1 ribs, 1 Caesar, 1 fish, 1 soup, 1 borsch, 1 phone, 13.9ms\n",
            "Speed: 3.3ms preprocess, 13.9ms inference, 2.0ms postprocess per image at shape (1, 3, 384, 640)\n",
            "\n",
            "0: 384x640 2 peoples, 2 forks, 2 spoons, 2 cups, 1 kettle, 1 basket, 1 salad, 1 ribs, 1 Caesar, 1 fish, 1 soup, 1 borsch, 1 phone, 22.7ms\n",
            "Speed: 4.7ms preprocess, 22.7ms inference, 2.7ms postprocess per image at shape (1, 3, 384, 640)\n",
            "\n",
            "0: 384x640 2 peoples, 2 forks, 3 spoons, 2 cups, 1 kettle, 1 basket, 1 salad, 1 ribs, 1 Caesar, 1 fish, 1 soup, 1 borsch, 1 phone, 15.5ms\n",
            "Speed: 3.6ms preprocess, 15.5ms inference, 2.3ms postprocess per image at shape (1, 3, 384, 640)\n",
            "\n",
            "0: 384x640 2 peoples, 2 forks, 3 spoons, 2 cups, 1 kettle, 1 basket, 1 salad, 1 ribs, 1 Caesar, 1 fish, 1 soup, 1 borsch, 1 phone, 21.1ms\n",
            "Speed: 3.6ms preprocess, 21.1ms inference, 2.3ms postprocess per image at shape (1, 3, 384, 640)\n",
            "\n",
            "0: 384x640 2 peoples, 2 forks, 3 spoons, 2 cups, 1 kettle, 1 basket, 1 salad, 1 ribs, 1 Caesar, 1 fish, 1 soup, 1 borsch, 1 phone, 33.4ms\n",
            "Speed: 11.8ms preprocess, 33.4ms inference, 2.2ms postprocess per image at shape (1, 3, 384, 640)\n",
            "\n",
            "0: 384x640 2 peoples, 2 forks, 3 spoons, 2 cups, 1 kettle, 1 basket, 1 salad, 1 ribs, 1 Caesar, 1 fish, 1 soup, 1 borsch, 1 phone, 30.5ms\n",
            "Speed: 6.7ms preprocess, 30.5ms inference, 5.2ms postprocess per image at shape (1, 3, 384, 640)\n",
            "\n",
            "0: 384x640 2 peoples, 2 forks, 3 spoons, 2 cups, 1 kettle, 1 basket, 1 salad, 1 ribs, 1 Caesar, 1 fish, 1 soup, 1 borsch, 1 phone, 29.3ms\n",
            "Speed: 3.5ms preprocess, 29.3ms inference, 3.9ms postprocess per image at shape (1, 3, 384, 640)\n",
            "\n",
            "0: 384x640 2 peoples, 2 forks, 2 spoons, 2 cups, 1 kettle, 1 basket, 1 salad, 1 ribs, 1 Caesar, 1 fish, 1 soup, 1 borsch, 1 phone, 45.2ms\n",
            "Speed: 7.1ms preprocess, 45.2ms inference, 2.3ms postprocess per image at shape (1, 3, 384, 640)\n",
            "\n",
            "0: 384x640 2 peoples, 2 forks, 2 spoons, 2 cups, 1 kettle, 1 basket, 1 salad, 1 ribs, 1 Caesar, 1 fish, 1 soup, 1 borsch, 1 phone, 21.6ms\n",
            "Speed: 4.6ms preprocess, 21.6ms inference, 2.0ms postprocess per image at shape (1, 3, 384, 640)\n",
            "\n",
            "0: 384x640 2 peoples, 2 forks, 2 spoons, 2 cups, 1 kettle, 1 basket, 1 salad, 1 ribs, 1 Caesar, 1 fish, 1 soup, 1 borsch, 1 phone, 18.3ms\n",
            "Speed: 13.1ms preprocess, 18.3ms inference, 2.8ms postprocess per image at shape (1, 3, 384, 640)\n",
            "\n",
            "0: 384x640 2 peoples, 2 forks, 2 spoons, 2 cups, 1 kettle, 1 basket, 1 salad, 1 ribs, 1 Caesar, 1 fish, 1 soup, 1 borsch, 1 phone, 37.3ms\n",
            "Speed: 3.4ms preprocess, 37.3ms inference, 15.3ms postprocess per image at shape (1, 3, 384, 640)\n",
            "\n",
            "0: 384x640 2 peoples, 2 forks, 2 spoons, 2 cups, 1 kettle, 1 basket, 1 salad, 1 ribs, 1 Caesar, 1 fish, 1 soup, 1 borsch, 1 phone, 26.1ms\n",
            "Speed: 4.0ms preprocess, 26.1ms inference, 7.7ms postprocess per image at shape (1, 3, 384, 640)\n",
            "\n",
            "0: 384x640 2 peoples, 2 forks, 2 spoons, 2 cups, 1 kettle, 1 basket, 1 salad, 1 ribs, 1 Caesar, 1 fish, 1 soup, 1 borsch, 1 phone, 31.3ms\n",
            "Speed: 3.3ms preprocess, 31.3ms inference, 5.4ms postprocess per image at shape (1, 3, 384, 640)\n",
            "\n",
            "0: 384x640 2 peoples, 2 forks, 2 spoons, 2 cups, 1 kettle, 1 basket, 1 salad, 1 ribs, 1 Caesar, 1 fish, 1 soup, 1 borsch, 1 phone, 17.7ms\n",
            "Speed: 3.6ms preprocess, 17.7ms inference, 2.3ms postprocess per image at shape (1, 3, 384, 640)\n",
            "\n",
            "0: 384x640 2 peoples, 2 forks, 2 spoons, 2 cups, 1 kettle, 1 basket, 1 salad, 1 ribs, 1 Caesar, 1 fish, 1 soup, 1 borsch, 1 phone, 14.9ms\n",
            "Speed: 3.7ms preprocess, 14.9ms inference, 2.1ms postprocess per image at shape (1, 3, 384, 640)\n",
            "\n",
            "0: 384x640 2 peoples, 2 forks, 2 spoons, 2 cups, 1 kettle, 1 basket, 1 salad, 1 ribs, 1 Caesar, 1 fish, 1 soup, 1 borsch, 1 phone, 15.6ms\n",
            "Speed: 3.8ms preprocess, 15.6ms inference, 2.3ms postprocess per image at shape (1, 3, 384, 640)\n",
            "\n",
            "0: 384x640 2 peoples, 2 forks, 2 spoons, 2 cups, 1 kettle, 1 basket, 1 salad, 1 ribs, 1 Caesar, 1 fish, 1 soup, 1 borsch, 1 phone, 21.3ms\n",
            "Speed: 3.3ms preprocess, 21.3ms inference, 2.2ms postprocess per image at shape (1, 3, 384, 640)\n",
            "\n",
            "0: 384x640 2 peoples, 2 forks, 2 spoons, 2 cups, 1 kettle, 1 basket, 1 salad, 1 ribs, 1 Caesar, 1 fish, 1 soup, 1 borsch, 1 phone, 15.7ms\n",
            "Speed: 8.6ms preprocess, 15.7ms inference, 2.3ms postprocess per image at shape (1, 3, 384, 640)\n",
            "\n",
            "0: 384x640 2 peoples, 2 forks, 2 spoons, 2 cups, 1 kettle, 1 basket, 1 salad, 1 ribs, 1 Caesar, 1 fish, 1 soup, 1 borsch, 1 phone, 17.4ms\n",
            "Speed: 4.4ms preprocess, 17.4ms inference, 2.3ms postprocess per image at shape (1, 3, 384, 640)\n",
            "\n",
            "0: 384x640 2 peoples, 2 forks, 2 spoons, 2 cups, 1 kettle, 1 basket, 1 salad, 1 ribs, 1 Caesar, 1 fish, 1 soup, 1 borsch, 1 phone, 17.7ms\n",
            "Speed: 3.7ms preprocess, 17.7ms inference, 2.3ms postprocess per image at shape (1, 3, 384, 640)\n",
            "\n",
            "0: 384x640 2 peoples, 2 forks, 2 spoons, 2 cups, 1 kettle, 1 basket, 1 salad, 1 ribs, 1 Caesar, 1 fish, 1 soup, 1 borsch, 1 phone, 17.4ms\n",
            "Speed: 10.8ms preprocess, 17.4ms inference, 2.7ms postprocess per image at shape (1, 3, 384, 640)\n",
            "\n",
            "0: 384x640 2 peoples, 2 forks, 2 spoons, 2 cups, 1 kettle, 1 basket, 1 salad, 1 ribs, 1 Caesar, 1 fish, 1 soup, 1 borsch, 1 phone, 17.1ms\n",
            "Speed: 3.8ms preprocess, 17.1ms inference, 2.3ms postprocess per image at shape (1, 3, 384, 640)\n",
            "\n",
            "0: 384x640 2 peoples, 2 forks, 2 spoons, 2 cups, 1 kettle, 1 basket, 1 salad, 1 ribs, 1 Caesar, 1 fish, 1 soup, 1 borsch, 1 phone, 15.7ms\n",
            "Speed: 4.0ms preprocess, 15.7ms inference, 2.2ms postprocess per image at shape (1, 3, 384, 640)\n",
            "\n",
            "0: 384x640 2 peoples, 2 forks, 2 spoons, 2 cups, 1 kettle, 1 basket, 1 salad, 1 ribs, 1 Caesar, 1 fish, 1 soup, 1 borsch, 1 phone, 17.2ms\n",
            "Speed: 3.3ms preprocess, 17.2ms inference, 2.2ms postprocess per image at shape (1, 3, 384, 640)\n",
            "\n",
            "0: 384x640 2 peoples, 2 forks, 3 spoons, 2 cups, 1 kettle, 1 basket, 1 salad, 1 ribs, 1 Caesar, 1 fish, 1 soup, 1 borsch, 1 phone, 21.5ms\n",
            "Speed: 3.4ms preprocess, 21.5ms inference, 2.2ms postprocess per image at shape (1, 3, 384, 640)\n",
            "\n",
            "0: 384x640 2 peoples, 2 forks, 2 spoons, 2 cups, 1 kettle, 1 basket, 1 salad, 1 ribs, 1 Caesar, 1 fish, 1 soup, 1 borsch, 1 phone, 15.0ms\n",
            "Speed: 3.9ms preprocess, 15.0ms inference, 2.3ms postprocess per image at shape (1, 3, 384, 640)\n",
            "\n",
            "0: 384x640 2 peoples, 2 forks, 2 spoons, 2 cups, 1 kettle, 1 basket, 1 salad, 1 ribs, 1 Caesar, 1 fish, 1 soup, 1 borsch, 1 phone, 15.8ms\n",
            "Speed: 4.0ms preprocess, 15.8ms inference, 2.2ms postprocess per image at shape (1, 3, 384, 640)\n",
            "\n",
            "0: 384x640 2 peoples, 2 forks, 2 spoons, 2 cups, 1 kettle, 1 basket, 1 salad, 1 ribs, 1 Caesar, 1 fish, 1 soup, 1 borsch, 1 phone, 16.4ms\n",
            "Speed: 3.8ms preprocess, 16.4ms inference, 2.1ms postprocess per image at shape (1, 3, 384, 640)\n",
            "\n",
            "0: 384x640 2 peoples, 2 forks, 2 spoons, 2 cups, 1 kettle, 1 basket, 1 salad, 1 ribs, 1 Caesar, 1 fish, 1 soup, 1 borsch, 1 phone, 16.9ms\n",
            "Speed: 3.7ms preprocess, 16.9ms inference, 2.3ms postprocess per image at shape (1, 3, 384, 640)\n",
            "\n",
            "0: 384x640 2 peoples, 2 forks, 2 spoons, 2 cups, 1 kettle, 1 basket, 1 salad, 1 ribs, 1 Caesar, 1 fish, 1 soup, 1 borsch, 1 phone, 15.1ms\n",
            "Speed: 3.7ms preprocess, 15.1ms inference, 2.2ms postprocess per image at shape (1, 3, 384, 640)\n",
            "\n",
            "0: 384x640 2 peoples, 2 forks, 2 spoons, 2 cups, 1 kettle, 1 basket, 1 salad, 1 ribs, 1 Caesar, 1 fish, 1 soup, 1 borsch, 1 phone, 16.6ms\n",
            "Speed: 3.3ms preprocess, 16.6ms inference, 2.2ms postprocess per image at shape (1, 3, 384, 640)\n",
            "\n",
            "0: 384x640 2 peoples, 2 forks, 2 spoons, 2 cups, 1 kettle, 1 basket, 1 salad, 1 ribs, 1 Caesar, 1 fish, 1 soup, 1 borsch, 1 phone, 14.8ms\n",
            "Speed: 3.4ms preprocess, 14.8ms inference, 2.1ms postprocess per image at shape (1, 3, 384, 640)\n",
            "\n",
            "0: 384x640 2 peoples, 2 forks, 2 spoons, 2 cups, 1 kettle, 1 basket, 1 salad, 1 ribs, 1 Caesar, 1 fish, 1 soup, 1 borsch, 1 phone, 17.5ms\n",
            "Speed: 3.7ms preprocess, 17.5ms inference, 2.5ms postprocess per image at shape (1, 3, 384, 640)\n",
            "\n",
            "0: 384x640 2 peoples, 2 forks, 2 spoons, 2 cups, 1 kettle, 1 basket, 1 salad, 1 ribs, 1 Caesar, 1 fish, 1 borsch, 1 phone, 18.5ms\n",
            "Speed: 3.9ms preprocess, 18.5ms inference, 2.3ms postprocess per image at shape (1, 3, 384, 640)\n",
            "\n",
            "0: 384x640 2 peoples, 2 forks, 2 spoons, 2 cups, 1 kettle, 1 basket, 1 salad, 1 ribs, 1 Caesar, 1 fish, 1 soup, 1 borsch, 1 phone, 28.5ms\n",
            "Speed: 3.6ms preprocess, 28.5ms inference, 2.5ms postprocess per image at shape (1, 3, 384, 640)\n",
            "\n",
            "0: 384x640 2 peoples, 2 forks, 2 spoons, 2 cups, 1 kettle, 1 basket, 1 salad, 1 ribs, 1 Caesar, 1 fish, 1 borsch, 1 phone, 15.2ms\n",
            "Speed: 4.4ms preprocess, 15.2ms inference, 2.6ms postprocess per image at shape (1, 3, 384, 640)\n",
            "\n",
            "0: 384x640 2 peoples, 2 forks, 2 spoons, 2 cups, 1 kettle, 1 basket, 1 salad, 1 ribs, 1 Caesar, 1 fish, 1 borsch, 1 phone, 14.8ms\n",
            "Speed: 3.8ms preprocess, 14.8ms inference, 2.2ms postprocess per image at shape (1, 3, 384, 640)\n",
            "\n",
            "0: 384x640 2 peoples, 2 forks, 2 spoons, 2 cups, 1 kettle, 1 basket, 1 salad, 1 ribs, 1 Caesar, 1 fish, 1 borsch, 1 phone, 15.4ms\n",
            "Speed: 8.6ms preprocess, 15.4ms inference, 2.3ms postprocess per image at shape (1, 3, 384, 640)\n",
            "\n",
            "0: 384x640 2 peoples, 2 forks, 2 spoons, 2 cups, 1 kettle, 1 basket, 1 salad, 1 ribs, 1 Caesar, 1 fish, 1 borsch, 1 phone, 15.7ms\n",
            "Speed: 3.6ms preprocess, 15.7ms inference, 2.3ms postprocess per image at shape (1, 3, 384, 640)\n",
            "\n",
            "0: 384x640 2 peoples, 2 forks, 2 spoons, 2 cups, 1 kettle, 1 basket, 1 salad, 1 ribs, 1 Caesar, 1 fish, 1 borsch, 1 phone, 17.7ms\n",
            "Speed: 4.5ms preprocess, 17.7ms inference, 2.7ms postprocess per image at shape (1, 3, 384, 640)\n",
            "\n",
            "0: 384x640 2 peoples, 2 forks, 2 spoons, 2 cups, 1 kettle, 1 basket, 1 salad, 1 ribs, 1 Caesar, 1 fish, 1 borsch, 1 phone, 16.3ms\n",
            "Speed: 3.9ms preprocess, 16.3ms inference, 2.4ms postprocess per image at shape (1, 3, 384, 640)\n",
            "\n",
            "0: 384x640 2 peoples, 2 forks, 2 spoons, 2 cups, 1 kettle, 1 basket, 1 salad, 1 ribs, 1 Caesar, 1 fish, 1 borsch, 1 phone, 18.8ms\n",
            "Speed: 6.0ms preprocess, 18.8ms inference, 2.5ms postprocess per image at shape (1, 3, 384, 640)\n",
            "\n",
            "0: 384x640 2 peoples, 2 forks, 2 spoons, 2 cups, 1 kettle, 1 basket, 1 salad, 1 ribs, 1 Caesar, 1 fish, 1 borsch, 1 phone, 31.6ms\n",
            "Speed: 3.7ms preprocess, 31.6ms inference, 2.2ms postprocess per image at shape (1, 3, 384, 640)\n",
            "\n",
            "0: 384x640 2 peoples, 2 forks, 2 spoons, 2 cups, 1 kettle, 1 basket, 1 salad, 1 ribs, 1 Caesar, 1 fish, 1 borsch, 1 phone, 16.5ms\n",
            "Speed: 3.6ms preprocess, 16.5ms inference, 2.3ms postprocess per image at shape (1, 3, 384, 640)\n",
            "\n",
            "0: 384x640 2 peoples, 2 forks, 2 spoons, 2 cups, 1 kettle, 1 basket, 1 salad, 1 ribs, 1 Caesar, 1 fish, 1 soup, 1 borsch, 1 phone, 18.7ms\n",
            "Speed: 7.6ms preprocess, 18.7ms inference, 2.4ms postprocess per image at shape (1, 3, 384, 640)\n",
            "\n",
            "0: 384x640 2 peoples, 2 forks, 2 spoons, 2 cups, 1 kettle, 1 basket, 1 salad, 1 ribs, 1 Caesar, 1 fish, 1 soup, 1 borsch, 1 phone, 15.6ms\n",
            "Speed: 3.9ms preprocess, 15.6ms inference, 2.3ms postprocess per image at shape (1, 3, 384, 640)\n",
            "\n",
            "0: 384x640 2 peoples, 2 forks, 2 spoons, 2 cups, 1 kettle, 1 basket, 1 salad, 1 ribs, 1 Caesar, 1 fish, 1 soup, 1 borsch, 1 phone, 18.7ms\n",
            "Speed: 10.6ms preprocess, 18.7ms inference, 2.2ms postprocess per image at shape (1, 3, 384, 640)\n",
            "\n",
            "0: 384x640 2 peoples, 2 forks, 2 spoons, 2 cups, 1 kettle, 1 basket, 1 salad, 1 ribs, 1 Caesar, 1 fish, 1 soup, 1 borsch, 1 phone, 32.8ms\n",
            "Speed: 6.7ms preprocess, 32.8ms inference, 2.4ms postprocess per image at shape (1, 3, 384, 640)\n",
            "\n",
            "0: 384x640 2 peoples, 2 forks, 2 spoons, 2 cups, 1 kettle, 1 basket, 1 salad, 1 ribs, 1 Caesar, 1 fish, 1 soup, 1 borsch, 1 phone, 20.6ms\n",
            "Speed: 7.7ms preprocess, 20.6ms inference, 2.2ms postprocess per image at shape (1, 3, 384, 640)\n",
            "\n",
            "0: 384x640 2 peoples, 2 forks, 2 spoons, 2 cups, 1 kettle, 1 basket, 1 salad, 1 ribs, 1 Caesar, 1 fish, 1 soup, 1 borsch, 1 phone, 16.3ms\n",
            "Speed: 6.3ms preprocess, 16.3ms inference, 2.2ms postprocess per image at shape (1, 3, 384, 640)\n",
            "\n",
            "0: 384x640 2 peoples, 2 forks, 2 spoons, 2 cups, 1 kettle, 1 basket, 1 salad, 1 ribs, 1 Caesar, 1 fish, 1 soup, 1 borsch, 1 phone, 20.3ms\n",
            "Speed: 3.4ms preprocess, 20.3ms inference, 2.4ms postprocess per image at shape (1, 3, 384, 640)\n",
            "\n",
            "0: 384x640 2 peoples, 2 forks, 2 spoons, 2 cups, 1 kettle, 1 basket, 1 salad, 1 ribs, 1 Caesar, 1 fish, 1 soup, 1 borsch, 1 phone, 17.1ms\n",
            "Speed: 10.6ms preprocess, 17.1ms inference, 2.3ms postprocess per image at shape (1, 3, 384, 640)\n",
            "\n",
            "0: 384x640 2 peoples, 2 forks, 2 spoons, 2 cups, 1 kettle, 1 basket, 1 salad, 1 ribs, 1 Caesar, 1 fish, 1 soup, 1 borsch, 1 phone, 16.2ms\n",
            "Speed: 7.4ms preprocess, 16.2ms inference, 2.2ms postprocess per image at shape (1, 3, 384, 640)\n",
            "\n",
            "0: 384x640 2 peoples, 2 forks, 2 spoons, 2 cups, 1 kettle, 1 basket, 1 salad, 1 ribs, 1 Caesar, 1 fish, 1 soup, 1 borsch, 1 phone, 15.8ms\n",
            "Speed: 3.9ms preprocess, 15.8ms inference, 2.4ms postprocess per image at shape (1, 3, 384, 640)\n",
            "\n",
            "0: 384x640 2 peoples, 2 forks, 2 spoons, 2 cups, 1 kettle, 1 basket, 1 salad, 1 ribs, 1 Caesar, 1 fish, 1 soup, 1 borsch, 1 phone, 21.5ms\n",
            "Speed: 6.5ms preprocess, 21.5ms inference, 2.2ms postprocess per image at shape (1, 3, 384, 640)\n",
            "\n",
            "0: 384x640 2 peoples, 2 forks, 2 spoons, 2 cups, 1 kettle, 1 basket, 1 salad, 1 ribs, 1 Caesar, 1 fish, 1 soup, 1 borsch, 1 phone, 16.3ms\n",
            "Speed: 7.6ms preprocess, 16.3ms inference, 2.5ms postprocess per image at shape (1, 3, 384, 640)\n",
            "\n",
            "0: 384x640 2 peoples, 2 forks, 2 spoons, 2 cups, 1 kettle, 1 basket, 1 salad, 1 ribs, 1 Caesar, 1 fish, 1 soup, 1 borsch, 1 phone, 15.4ms\n",
            "Speed: 3.7ms preprocess, 15.4ms inference, 2.1ms postprocess per image at shape (1, 3, 384, 640)\n",
            "\n",
            "0: 384x640 2 peoples, 2 forks, 2 spoons, 2 cups, 1 kettle, 1 basket, 1 salad, 1 ribs, 1 Caesar, 1 fish, 1 soup, 1 borsch, 1 phone, 16.4ms\n",
            "Speed: 3.6ms preprocess, 16.4ms inference, 2.5ms postprocess per image at shape (1, 3, 384, 640)\n",
            "\n",
            "0: 384x640 2 peoples, 2 forks, 2 spoons, 2 cups, 1 kettle, 1 basket, 1 salad, 1 ribs, 1 Caesar, 1 fish, 1 borsch, 1 phone, 17.5ms\n",
            "Speed: 3.5ms preprocess, 17.5ms inference, 2.2ms postprocess per image at shape (1, 3, 384, 640)\n",
            "\n",
            "0: 384x640 2 peoples, 2 forks, 2 spoons, 2 cups, 1 kettle, 1 basket, 1 salad, 1 ribs, 1 Caesar, 1 fish, 1 borsch, 1 phone, 29.8ms\n",
            "Speed: 10.3ms preprocess, 29.8ms inference, 2.3ms postprocess per image at shape (1, 3, 384, 640)\n",
            "\n",
            "0: 384x640 2 peoples, 2 forks, 2 spoons, 2 cups, 1 kettle, 1 basket, 1 salad, 1 ribs, 1 Caesar, 1 fish, 1 soup, 1 borsch, 1 phone, 12.9ms\n",
            "Speed: 9.0ms preprocess, 12.9ms inference, 1.9ms postprocess per image at shape (1, 3, 384, 640)\n",
            "\n",
            "0: 384x640 2 peoples, 2 forks, 2 spoons, 2 cups, 1 kettle, 1 basket, 1 salad, 1 ribs, 1 Caesar, 1 fish, 1 soup, 1 borsch, 1 phone, 28.6ms\n",
            "Speed: 3.5ms preprocess, 28.6ms inference, 2.1ms postprocess per image at shape (1, 3, 384, 640)\n",
            "\n",
            "0: 384x640 2 peoples, 2 forks, 2 spoons, 2 cups, 1 kettle, 1 basket, 1 salad, 1 ribs, 1 Caesar, 1 fish, 1 soup, 1 borsch, 1 phone, 32.6ms\n",
            "Speed: 3.5ms preprocess, 32.6ms inference, 1.9ms postprocess per image at shape (1, 3, 384, 640)\n",
            "\n",
            "0: 384x640 2 peoples, 2 forks, 2 spoons, 2 cups, 1 kettle, 1 basket, 1 salad, 1 ribs, 1 Caesar, 1 fish, 1 soup, 1 borsch, 1 phone, 29.4ms\n",
            "Speed: 3.7ms preprocess, 29.4ms inference, 2.0ms postprocess per image at shape (1, 3, 384, 640)\n",
            "\n",
            "0: 384x640 2 peoples, 2 forks, 2 spoons, 2 cups, 1 kettle, 1 basket, 1 salad, 1 ribs, 1 Caesar, 1 fish, 1 soup, 1 borsch, 1 phone, 36.6ms\n",
            "Speed: 6.3ms preprocess, 36.6ms inference, 1.9ms postprocess per image at shape (1, 3, 384, 640)\n",
            "\n",
            "0: 384x640 2 peoples, 2 forks, 2 spoons, 2 cups, 1 kettle, 1 basket, 1 salad, 1 ribs, 1 Caesar, 1 fish, 1 soup, 1 borsch, 1 phone, 25.4ms\n",
            "Speed: 5.6ms preprocess, 25.4ms inference, 1.9ms postprocess per image at shape (1, 3, 384, 640)\n",
            "\n",
            "0: 384x640 2 peoples, 2 forks, 2 spoons, 2 cups, 1 kettle, 1 basket, 1 salad, 1 ribs, 1 Caesar, 1 fish, 1 soup, 1 borsch, 1 phone, 14.2ms\n",
            "Speed: 3.6ms preprocess, 14.2ms inference, 2.2ms postprocess per image at shape (1, 3, 384, 640)\n",
            "\n",
            "0: 384x640 2 peoples, 2 forks, 2 spoons, 2 cups, 1 kettle, 1 basket, 1 salad, 1 ribs, 1 Caesar, 1 fish, 1 soup, 1 borsch, 1 phone, 39.9ms\n",
            "Speed: 3.6ms preprocess, 39.9ms inference, 2.3ms postprocess per image at shape (1, 3, 384, 640)\n",
            "\n",
            "0: 384x640 2 peoples, 2 forks, 2 spoons, 2 cups, 1 kettle, 1 basket, 1 salad, 1 ribs, 1 Caesar, 1 fish, 1 soup, 1 borsch, 1 phone, 28.6ms\n",
            "Speed: 8.1ms preprocess, 28.6ms inference, 2.3ms postprocess per image at shape (1, 3, 384, 640)\n",
            "\n",
            "0: 384x640 2 peoples, 2 forks, 2 spoons, 2 cups, 1 kettle, 1 basket, 1 salad, 1 ribs, 1 Caesar, 1 fish, 1 soup, 1 borsch, 1 phone, 22.2ms\n",
            "Speed: 4.5ms preprocess, 22.2ms inference, 2.3ms postprocess per image at shape (1, 3, 384, 640)\n",
            "\n",
            "0: 384x640 2 peoples, 2 forks, 2 spoons, 2 cups, 1 kettle, 1 basket, 1 salad, 1 ribs, 1 Caesar, 1 fish, 1 soup, 1 borsch, 1 phone, 15.7ms\n",
            "Speed: 4.2ms preprocess, 15.7ms inference, 2.5ms postprocess per image at shape (1, 3, 384, 640)\n",
            "\n",
            "0: 384x640 2 peoples, 2 forks, 2 spoons, 2 cups, 1 kettle, 1 basket, 1 salad, 1 ribs, 1 Caesar, 1 fish, 1 soup, 1 borsch, 1 phone, 21.2ms\n",
            "Speed: 4.2ms preprocess, 21.2ms inference, 2.5ms postprocess per image at shape (1, 3, 384, 640)\n",
            "\n",
            "0: 384x640 2 peoples, 2 forks, 2 spoons, 2 cups, 1 kettle, 1 basket, 1 salad, 1 ribs, 1 Caesar, 1 fish, 1 soup, 1 borsch, 1 phone, 23.6ms\n",
            "Speed: 3.9ms preprocess, 23.6ms inference, 2.3ms postprocess per image at shape (1, 3, 384, 640)\n",
            "\n",
            "0: 384x640 2 peoples, 2 forks, 2 spoons, 2 cups, 1 kettle, 1 basket, 1 salad, 1 ribs, 1 Caesar, 1 fish, 1 soup, 1 borsch, 1 phone, 34.0ms\n",
            "Speed: 10.8ms preprocess, 34.0ms inference, 3.9ms postprocess per image at shape (1, 3, 384, 640)\n",
            "\n",
            "0: 384x640 2 peoples, 2 forks, 2 spoons, 2 cups, 1 kettle, 1 basket, 1 salad, 1 ribs, 1 Caesar, 1 fish, 1 soup, 1 borsch, 1 phone, 22.0ms\n",
            "Speed: 8.5ms preprocess, 22.0ms inference, 2.4ms postprocess per image at shape (1, 3, 384, 640)\n",
            "\n",
            "0: 384x640 2 peoples, 2 forks, 2 spoons, 2 cups, 1 kettle, 1 basket, 1 salad, 1 ribs, 1 Caesar, 1 fish, 1 borsch, 1 phone, 20.3ms\n",
            "Speed: 12.3ms preprocess, 20.3ms inference, 2.3ms postprocess per image at shape (1, 3, 384, 640)\n",
            "\n",
            "0: 384x640 2 peoples, 2 forks, 2 spoons, 2 cups, 1 kettle, 1 basket, 1 salad, 1 ribs, 1 Caesar, 1 fish, 1 soup, 1 borsch, 1 phone, 15.6ms\n",
            "Speed: 3.6ms preprocess, 15.6ms inference, 2.4ms postprocess per image at shape (1, 3, 384, 640)\n",
            "\n",
            "0: 384x640 2 peoples, 2 forks, 2 spoons, 2 cups, 1 kettle, 1 basket, 1 salad, 1 ribs, 1 Caesar, 1 fish, 1 borsch, 1 phone, 23.5ms\n",
            "Speed: 10.3ms preprocess, 23.5ms inference, 2.3ms postprocess per image at shape (1, 3, 384, 640)\n",
            "\n",
            "0: 384x640 2 peoples, 2 forks, 2 spoons, 2 cups, 1 kettle, 1 basket, 1 salad, 1 ribs, 1 Caesar, 1 fish, 1 borsch, 1 phone, 16.1ms\n",
            "Speed: 4.0ms preprocess, 16.1ms inference, 2.5ms postprocess per image at shape (1, 3, 384, 640)\n",
            "\n",
            "0: 384x640 2 peoples, 2 forks, 2 spoons, 2 cups, 1 kettle, 1 basket, 1 salad, 1 ribs, 1 Caesar, 1 fish, 1 borsch, 1 phone, 16.5ms\n",
            "Speed: 12.7ms preprocess, 16.5ms inference, 2.3ms postprocess per image at shape (1, 3, 384, 640)\n",
            "\n",
            "0: 384x640 2 peoples, 2 forks, 2 spoons, 2 cups, 1 kettle, 1 basket, 1 salad, 1 ribs, 1 Caesar, 1 fish, 1 borsch, 1 phone, 18.6ms\n",
            "Speed: 4.1ms preprocess, 18.6ms inference, 2.3ms postprocess per image at shape (1, 3, 384, 640)\n",
            "\n",
            "0: 384x640 2 peoples, 2 forks, 2 spoons, 2 cups, 1 kettle, 1 basket, 1 salad, 1 ribs, 1 Caesar, 1 fish, 1 borsch, 1 phone, 17.9ms\n",
            "Speed: 7.4ms preprocess, 17.9ms inference, 2.3ms postprocess per image at shape (1, 3, 384, 640)\n",
            "\n",
            "0: 384x640 2 peoples, 2 forks, 2 spoons, 2 cups, 1 kettle, 1 basket, 1 salad, 1 ribs, 1 Caesar, 1 fish, 1 borsch, 1 phone, 15.9ms\n",
            "Speed: 4.3ms preprocess, 15.9ms inference, 2.4ms postprocess per image at shape (1, 3, 384, 640)\n",
            "\n",
            "0: 384x640 2 peoples, 2 forks, 2 spoons, 2 cups, 1 kettle, 1 basket, 1 salad, 1 ribs, 1 Caesar, 1 fish, 1 soup, 1 borsch, 1 phone, 23.1ms\n",
            "Speed: 4.0ms preprocess, 23.1ms inference, 2.3ms postprocess per image at shape (1, 3, 384, 640)\n",
            "\n",
            "0: 384x640 2 peoples, 2 forks, 2 spoons, 2 cups, 1 kettle, 1 basket, 1 salad, 1 ribs, 1 Caesar, 1 fish, 1 soup, 1 borsch, 1 phone, 15.6ms\n",
            "Speed: 4.4ms preprocess, 15.6ms inference, 2.5ms postprocess per image at shape (1, 3, 384, 640)\n",
            "\n",
            "0: 384x640 2 peoples, 2 forks, 2 spoons, 2 cups, 1 kettle, 1 basket, 1 salad, 1 ribs, 1 Caesar, 1 fish, 1 soup, 1 borsch, 1 phone, 19.4ms\n",
            "Speed: 8.0ms preprocess, 19.4ms inference, 2.2ms postprocess per image at shape (1, 3, 384, 640)\n",
            "\n",
            "0: 384x640 2 peoples, 2 forks, 2 spoons, 2 cups, 1 kettle, 1 basket, 1 salad, 1 ribs, 1 Caesar, 1 fish, 1 soup, 1 borsch, 1 phone, 23.2ms\n",
            "Speed: 4.0ms preprocess, 23.2ms inference, 2.3ms postprocess per image at shape (1, 3, 384, 640)\n",
            "\n",
            "0: 384x640 2 peoples, 2 forks, 2 spoons, 2 cups, 1 kettle, 1 basket, 1 salad, 1 ribs, 1 Caesar, 1 fish, 1 soup, 1 borsch, 1 phone, 21.7ms\n",
            "Speed: 4.0ms preprocess, 21.7ms inference, 2.9ms postprocess per image at shape (1, 3, 384, 640)\n",
            "\n",
            "0: 384x640 2 peoples, 2 forks, 2 spoons, 2 cups, 1 kettle, 1 basket, 1 salad, 1 ribs, 1 Caesar, 1 fish, 1 soup, 1 borsch, 1 phone, 14.6ms\n",
            "Speed: 4.2ms preprocess, 14.6ms inference, 2.2ms postprocess per image at shape (1, 3, 384, 640)\n",
            "\n",
            "0: 384x640 2 peoples, 2 forks, 2 spoons, 2 cups, 1 kettle, 1 basket, 1 salad, 1 ribs, 1 Caesar, 1 fish, 1 soup, 1 borsch, 1 phone, 16.6ms\n",
            "Speed: 3.6ms preprocess, 16.6ms inference, 2.2ms postprocess per image at shape (1, 3, 384, 640)\n",
            "\n",
            "0: 384x640 2 peoples, 2 forks, 2 spoons, 2 cups, 1 kettle, 1 basket, 1 salad, 1 ribs, 1 Caesar, 1 fish, 1 soup, 1 borsch, 1 phone, 15.0ms\n",
            "Speed: 3.6ms preprocess, 15.0ms inference, 2.2ms postprocess per image at shape (1, 3, 384, 640)\n",
            "\n",
            "0: 384x640 2 peoples, 2 forks, 2 spoons, 2 cups, 1 kettle, 1 basket, 1 salad, 1 ribs, 1 Caesar, 1 fish, 1 soup, 1 borsch, 1 phone, 22.4ms\n",
            "Speed: 8.1ms preprocess, 22.4ms inference, 2.2ms postprocess per image at shape (1, 3, 384, 640)\n",
            "\n",
            "0: 384x640 2 peoples, 2 forks, 2 spoons, 2 cups, 1 kettle, 1 basket, 1 salad, 1 ribs, 1 Caesar, 1 fish, 1 soup, 1 borsch, 1 phone, 20.5ms\n",
            "Speed: 8.6ms preprocess, 20.5ms inference, 2.6ms postprocess per image at shape (1, 3, 384, 640)\n",
            "\n",
            "0: 384x640 2 peoples, 2 forks, 2 spoons, 2 cups, 1 kettle, 1 basket, 1 salad, 1 ribs, 1 Caesar, 1 fish, 1 soup, 1 borsch, 1 phone, 18.7ms\n",
            "Speed: 3.8ms preprocess, 18.7ms inference, 2.2ms postprocess per image at shape (1, 3, 384, 640)\n",
            "\n",
            "0: 384x640 1 people, 2 forks, 2 spoons, 2 cups, 1 kettle, 1 basket, 1 salad, 1 ribs, 1 Caesar, 1 fish, 1 soup, 1 borsch, 1 phone, 16.2ms\n",
            "Speed: 4.5ms preprocess, 16.2ms inference, 2.2ms postprocess per image at shape (1, 3, 384, 640)\n",
            "\n",
            "0: 384x640 2 peoples, 2 forks, 2 spoons, 2 cups, 1 kettle, 1 basket, 1 salad, 1 ribs, 1 Caesar, 1 fish, 1 soup, 1 borsch, 1 phone, 15.7ms\n",
            "Speed: 9.3ms preprocess, 15.7ms inference, 2.3ms postprocess per image at shape (1, 3, 384, 640)\n",
            "\n",
            "0: 384x640 2 peoples, 2 forks, 2 spoons, 2 cups, 1 kettle, 1 basket, 1 salad, 1 ribs, 1 Caesar, 1 fish, 1 soup, 1 borsch, 1 phone, 15.6ms\n",
            "Speed: 5.0ms preprocess, 15.6ms inference, 2.3ms postprocess per image at shape (1, 3, 384, 640)\n",
            "\n",
            "0: 384x640 2 peoples, 2 forks, 2 spoons, 2 cups, 1 kettle, 1 basket, 1 salad, 1 ribs, 1 Caesar, 1 fish, 1 soup, 1 borsch, 1 phone, 19.2ms\n",
            "Speed: 4.0ms preprocess, 19.2ms inference, 2.3ms postprocess per image at shape (1, 3, 384, 640)\n",
            "\n",
            "0: 384x640 2 peoples, 2 forks, 2 spoons, 2 cups, 1 kettle, 1 basket, 1 salad, 1 ribs, 1 Caesar, 1 fish, 1 soup, 1 borsch, 1 phone, 18.4ms\n",
            "Speed: 3.4ms preprocess, 18.4ms inference, 2.2ms postprocess per image at shape (1, 3, 384, 640)\n",
            "\n",
            "0: 384x640 2 peoples, 2 forks, 2 spoons, 2 cups, 1 kettle, 1 basket, 1 salad, 1 ribs, 1 Caesar, 1 fish, 1 soup, 1 borsch, 1 phone, 22.5ms\n",
            "Speed: 3.9ms preprocess, 22.5ms inference, 2.2ms postprocess per image at shape (1, 3, 384, 640)\n",
            "\n",
            "0: 384x640 2 peoples, 2 forks, 2 spoons, 2 cups, 1 kettle, 1 basket, 1 salad, 1 ribs, 1 Caesar, 1 fish, 1 soup, 1 borsch, 1 phone, 20.1ms\n",
            "Speed: 3.5ms preprocess, 20.1ms inference, 2.3ms postprocess per image at shape (1, 3, 384, 640)\n",
            "\n",
            "0: 384x640 2 peoples, 2 forks, 2 spoons, 2 cups, 1 kettle, 1 basket, 1 salad, 1 ribs, 1 Caesar, 1 fish, 1 soup, 1 borsch, 1 phone, 16.1ms\n",
            "Speed: 5.2ms preprocess, 16.1ms inference, 4.1ms postprocess per image at shape (1, 3, 384, 640)\n",
            "\n",
            "0: 384x640 2 peoples, 2 forks, 2 spoons, 2 cups, 1 kettle, 1 basket, 1 salad, 1 ribs, 1 Caesar, 1 fish, 1 soup, 1 borsch, 1 phone, 27.4ms\n",
            "Speed: 4.3ms preprocess, 27.4ms inference, 2.3ms postprocess per image at shape (1, 3, 384, 640)\n",
            "\n",
            "0: 384x640 2 peoples, 2 forks, 2 spoons, 2 cups, 1 kettle, 1 basket, 1 salad, 1 ribs, 1 Caesar, 1 fish, 1 soup, 1 borsch, 1 phone, 16.2ms\n",
            "Speed: 3.8ms preprocess, 16.2ms inference, 2.2ms postprocess per image at shape (1, 3, 384, 640)\n",
            "\n",
            "0: 384x640 2 peoples, 2 forks, 2 spoons, 2 cups, 1 kettle, 1 basket, 1 salad, 1 ribs, 1 Caesar, 1 fish, 1 soup, 1 borsch, 1 phone, 15.7ms\n",
            "Speed: 3.8ms preprocess, 15.7ms inference, 2.1ms postprocess per image at shape (1, 3, 384, 640)\n",
            "\n",
            "0: 384x640 2 peoples, 2 forks, 3 spoons, 2 cups, 1 kettle, 1 basket, 1 salad, 1 ribs, 1 Caesar, 1 fish, 1 soup, 1 borsch, 1 phone, 17.3ms\n",
            "Speed: 7.3ms preprocess, 17.3ms inference, 2.2ms postprocess per image at shape (1, 3, 384, 640)\n",
            "\n",
            "0: 384x640 2 peoples, 2 forks, 2 spoons, 2 cups, 1 kettle, 1 basket, 1 salad, 1 ribs, 1 Caesar, 1 fish, 1 soup, 1 borsch, 1 phone, 27.7ms\n",
            "Speed: 7.4ms preprocess, 27.7ms inference, 2.2ms postprocess per image at shape (1, 3, 384, 640)\n",
            "\n",
            "0: 384x640 2 peoples, 2 forks, 2 spoons, 2 cups, 1 kettle, 1 basket, 1 salad, 1 ribs, 1 Caesar, 1 fish, 1 soup, 1 borsch, 1 phone, 17.8ms\n",
            "Speed: 4.3ms preprocess, 17.8ms inference, 2.3ms postprocess per image at shape (1, 3, 384, 640)\n",
            "\n",
            "0: 384x640 2 peoples, 2 forks, 2 spoons, 2 cups, 1 kettle, 1 basket, 1 salad, 1 ribs, 1 Caesar, 1 fish, 1 soup, 1 borsch, 1 phone, 28.2ms\n",
            "Speed: 3.9ms preprocess, 28.2ms inference, 2.3ms postprocess per image at shape (1, 3, 384, 640)\n",
            "\n",
            "0: 384x640 2 peoples, 2 forks, 2 spoons, 2 cups, 1 kettle, 1 basket, 1 salad, 1 ribs, 1 Caesar, 1 fish, 1 soup, 1 borsch, 1 phone, 15.1ms\n",
            "Speed: 3.8ms preprocess, 15.1ms inference, 2.2ms postprocess per image at shape (1, 3, 384, 640)\n",
            "\n",
            "0: 384x640 2 peoples, 2 forks, 2 spoons, 2 cups, 1 kettle, 1 basket, 1 salad, 1 ribs, 1 Caesar, 1 fish, 1 soup, 1 borsch, 1 phone, 15.0ms\n",
            "Speed: 3.4ms preprocess, 15.0ms inference, 2.3ms postprocess per image at shape (1, 3, 384, 640)\n",
            "\n",
            "0: 384x640 2 peoples, 2 forks, 2 spoons, 2 cups, 1 kettle, 1 basket, 1 salad, 1 ribs, 1 Caesar, 1 fish, 1 soup, 1 borsch, 1 phone, 15.2ms\n",
            "Speed: 5.3ms preprocess, 15.2ms inference, 2.2ms postprocess per image at shape (1, 3, 384, 640)\n",
            "\n",
            "0: 384x640 2 peoples, 2 forks, 2 spoons, 2 cups, 1 kettle, 1 basket, 1 salad, 1 ribs, 1 Caesar, 1 fish, 1 soup, 1 borsch, 1 phone, 32.7ms\n",
            "Speed: 3.9ms preprocess, 32.7ms inference, 2.4ms postprocess per image at shape (1, 3, 384, 640)\n",
            "\n",
            "0: 384x640 2 peoples, 2 forks, 2 spoons, 2 cups, 1 kettle, 1 basket, 1 salad, 1 ribs, 1 Caesar, 1 fish, 1 soup, 1 borsch, 1 phone, 15.4ms\n",
            "Speed: 4.4ms preprocess, 15.4ms inference, 2.2ms postprocess per image at shape (1, 3, 384, 640)\n",
            "\n",
            "0: 384x640 2 peoples, 2 forks, 2 spoons, 2 cups, 1 kettle, 1 basket, 1 salad, 1 ribs, 1 Caesar, 1 fish, 1 soup, 1 borsch, 1 phone, 18.8ms\n",
            "Speed: 4.5ms preprocess, 18.8ms inference, 2.8ms postprocess per image at shape (1, 3, 384, 640)\n",
            "\n",
            "0: 384x640 2 peoples, 2 forks, 2 spoons, 2 cups, 1 kettle, 1 basket, 1 salad, 1 ribs, 1 Caesar, 1 fish, 1 soup, 1 borsch, 1 phone, 38.6ms\n",
            "Speed: 9.2ms preprocess, 38.6ms inference, 9.5ms postprocess per image at shape (1, 3, 384, 640)\n",
            "\n",
            "0: 384x640 2 peoples, 2 forks, 2 spoons, 2 cups, 1 kettle, 1 basket, 1 salad, 1 ribs, 1 Caesar, 1 fish, 1 soup, 1 borsch, 1 phone, 31.5ms\n",
            "Speed: 5.8ms preprocess, 31.5ms inference, 1.9ms postprocess per image at shape (1, 3, 384, 640)\n",
            "\n",
            "0: 384x640 2 peoples, 2 forks, 2 spoons, 2 cups, 1 kettle, 1 basket, 1 salad, 1 ribs, 1 Caesar, 1 fish, 1 soup, 1 borsch, 33.4ms\n",
            "Speed: 7.7ms preprocess, 33.4ms inference, 2.4ms postprocess per image at shape (1, 3, 384, 640)\n",
            "\n",
            "0: 384x640 2 peoples, 2 forks, 2 spoons, 2 cups, 1 kettle, 1 basket, 1 salad, 1 ribs, 1 Caesar, 1 fish, 1 soup, 1 borsch, 1 phone, 29.1ms\n",
            "Speed: 9.3ms preprocess, 29.1ms inference, 2.0ms postprocess per image at shape (1, 3, 384, 640)\n",
            "\n",
            "0: 384x640 2 peoples, 2 forks, 3 spoons, 2 cups, 1 kettle, 1 basket, 1 salad, 1 ribs, 1 Caesar, 1 fish, 1 soup, 1 borsch, 1 phone, 51.5ms\n",
            "Speed: 3.9ms preprocess, 51.5ms inference, 2.1ms postprocess per image at shape (1, 3, 384, 640)\n",
            "\n",
            "0: 384x640 2 peoples, 2 forks, 2 spoons, 2 cups, 1 kettle, 1 basket, 1 salad, 1 ribs, 1 Caesar, 1 fish, 1 soup, 1 borsch, 1 phone, 18.9ms\n",
            "Speed: 6.1ms preprocess, 18.9ms inference, 2.3ms postprocess per image at shape (1, 3, 384, 640)\n",
            "\n",
            "0: 384x640 2 peoples, 2 forks, 3 spoons, 2 cups, 1 kettle, 1 basket, 1 salad, 1 ribs, 1 Caesar, 1 fish, 1 soup, 1 borsch, 1 phone, 33.1ms\n",
            "Speed: 3.8ms preprocess, 33.1ms inference, 7.1ms postprocess per image at shape (1, 3, 384, 640)\n",
            "\n",
            "0: 384x640 1 people, 2 forks, 3 spoons, 2 cups, 1 kettle, 1 basket, 1 salad, 1 ribs, 1 Caesar, 1 fish, 1 soup, 1 borsch, 1 phone, 16.2ms\n",
            "Speed: 3.7ms preprocess, 16.2ms inference, 2.4ms postprocess per image at shape (1, 3, 384, 640)\n",
            "\n",
            "0: 384x640 2 peoples, 2 forks, 3 spoons, 2 cups, 1 kettle, 1 basket, 1 salad, 1 ribs, 1 Caesar, 1 fish, 1 soup, 1 borsch, 1 phone, 20.1ms\n",
            "Speed: 8.7ms preprocess, 20.1ms inference, 8.4ms postprocess per image at shape (1, 3, 384, 640)\n",
            "\n",
            "0: 384x640 2 peoples, 2 forks, 3 spoons, 2 cups, 1 kettle, 1 basket, 1 salad, 1 ribs, 1 Caesar, 1 fish, 1 soup, 1 borsch, 1 phone, 22.4ms\n",
            "Speed: 3.7ms preprocess, 22.4ms inference, 2.5ms postprocess per image at shape (1, 3, 384, 640)\n",
            "\n",
            "0: 384x640 2 peoples, 2 forks, 3 spoons, 2 cups, 1 kettle, 1 basket, 1 salad, 1 ribs, 1 Caesar, 1 fish, 1 soup, 1 borsch, 1 phone, 27.5ms\n",
            "Speed: 7.5ms preprocess, 27.5ms inference, 2.2ms postprocess per image at shape (1, 3, 384, 640)\n",
            "\n",
            "0: 384x640 1 people, 2 forks, 2 spoons, 2 cups, 1 kettle, 1 basket, 1 salad, 1 ribs, 1 Caesar, 1 fish, 1 soup, 1 borsch, 1 phone, 20.3ms\n",
            "Speed: 11.9ms preprocess, 20.3ms inference, 2.4ms postprocess per image at shape (1, 3, 384, 640)\n",
            "\n",
            "0: 384x640 2 peoples, 2 forks, 2 spoons, 2 cups, 1 kettle, 1 basket, 1 salad, 1 ribs, 1 Caesar, 1 fish, 1 soup, 1 borsch, 1 phone, 13.6ms\n",
            "Speed: 3.3ms preprocess, 13.6ms inference, 1.9ms postprocess per image at shape (1, 3, 384, 640)\n",
            "\n",
            "0: 384x640 2 peoples, 2 forks, 2 spoons, 2 cups, 1 kettle, 1 basket, 1 salad, 1 ribs, 1 Caesar, 1 fish, 1 soup, 1 borsch, 1 phone, 19.3ms\n",
            "Speed: 3.3ms preprocess, 19.3ms inference, 3.4ms postprocess per image at shape (1, 3, 384, 640)\n",
            "\n",
            "0: 384x640 2 peoples, 2 forks, 2 spoons, 2 cups, 1 kettle, 1 basket, 1 salad, 1 ribs, 1 Caesar, 1 fish, 1 soup, 1 borsch, 1 phone, 15.0ms\n",
            "Speed: 3.6ms preprocess, 15.0ms inference, 2.3ms postprocess per image at shape (1, 3, 384, 640)\n",
            "\n",
            "0: 384x640 2 peoples, 2 forks, 2 spoons, 2 cups, 1 kettle, 1 basket, 1 salad, 1 ribs, 1 Caesar, 1 fish, 1 soup, 1 borsch, 1 phone, 14.4ms\n",
            "Speed: 3.2ms preprocess, 14.4ms inference, 2.0ms postprocess per image at shape (1, 3, 384, 640)\n",
            "\n",
            "0: 384x640 2 peoples, 2 forks, 3 spoons, 2 cups, 1 kettle, 1 basket, 1 salad, 1 ribs, 1 Caesar, 1 fish, 1 soup, 1 borsch, 1 phone, 15.9ms\n",
            "Speed: 5.7ms preprocess, 15.9ms inference, 2.2ms postprocess per image at shape (1, 3, 384, 640)\n",
            "\n",
            "0: 384x640 2 peoples, 2 forks, 3 spoons, 2 cups, 1 kettle, 1 basket, 1 salad, 1 ribs, 1 Caesar, 1 fish, 1 soup, 1 borsch, 1 phone, 16.6ms\n",
            "Speed: 3.8ms preprocess, 16.6ms inference, 2.3ms postprocess per image at shape (1, 3, 384, 640)\n",
            "\n",
            "0: 384x640 2 peoples, 2 forks, 3 spoons, 2 cups, 1 kettle, 1 basket, 1 salad, 1 ribs, 1 Caesar, 1 fish, 1 soup, 1 borsch, 1 phone, 16.3ms\n",
            "Speed: 3.9ms preprocess, 16.3ms inference, 2.3ms postprocess per image at shape (1, 3, 384, 640)\n",
            "\n",
            "0: 384x640 2 peoples, 2 forks, 3 spoons, 2 cups, 1 kettle, 1 basket, 1 salad, 1 ribs, 1 Caesar, 1 fish, 1 soup, 1 borsch, 1 phone, 15.3ms\n",
            "Speed: 3.8ms preprocess, 15.3ms inference, 2.2ms postprocess per image at shape (1, 3, 384, 640)\n",
            "\n",
            "0: 384x640 2 peoples, 2 forks, 3 spoons, 2 cups, 1 kettle, 1 basket, 1 salad, 1 ribs, 1 Caesar, 1 fish, 1 soup, 1 borsch, 1 phone, 16.0ms\n",
            "Speed: 6.0ms preprocess, 16.0ms inference, 2.4ms postprocess per image at shape (1, 3, 384, 640)\n",
            "\n",
            "0: 384x640 2 peoples, 2 forks, 3 spoons, 2 cups, 1 kettle, 1 basket, 1 salad, 1 ribs, 1 Caesar, 1 fish, 1 soup, 1 borsch, 1 phone, 13.2ms\n",
            "Speed: 3.2ms preprocess, 13.2ms inference, 5.3ms postprocess per image at shape (1, 3, 384, 640)\n",
            "\n",
            "0: 384x640 2 peoples, 2 forks, 3 spoons, 2 cups, 1 kettle, 1 basket, 1 salad, 1 ribs, 1 Caesar, 1 fish, 1 soup, 1 borsch, 1 phone, 19.3ms\n",
            "Speed: 4.0ms preprocess, 19.3ms inference, 2.2ms postprocess per image at shape (1, 3, 384, 640)\n",
            "\n",
            "0: 384x640 2 peoples, 2 forks, 3 spoons, 2 cups, 1 kettle, 1 basket, 1 salad, 1 ribs, 1 Caesar, 1 fish, 1 soup, 1 borsch, 1 phone, 33.9ms\n",
            "Speed: 3.5ms preprocess, 33.9ms inference, 2.8ms postprocess per image at shape (1, 3, 384, 640)\n",
            "\n",
            "0: 384x640 2 peoples, 2 forks, 3 spoons, 2 cups, 1 kettle, 1 basket, 1 salad, 1 ribs, 1 Caesar, 1 fish, 1 soup, 1 borsch, 1 phone, 14.7ms\n",
            "Speed: 3.7ms preprocess, 14.7ms inference, 2.0ms postprocess per image at shape (1, 3, 384, 640)\n",
            "\n",
            "0: 384x640 2 peoples, 2 forks, 3 spoons, 2 cups, 1 kettle, 1 basket, 1 salad, 1 ribs, 1 Caesar, 1 fish, 1 soup, 1 borsch, 1 phone, 14.5ms\n",
            "Speed: 3.2ms preprocess, 14.5ms inference, 2.2ms postprocess per image at shape (1, 3, 384, 640)\n",
            "\n",
            "0: 384x640 2 peoples, 2 forks, 3 spoons, 2 cups, 1 kettle, 1 basket, 1 salad, 1 ribs, 1 Caesar, 1 fish, 1 soup, 1 borsch, 1 phone, 15.7ms\n",
            "Speed: 4.2ms preprocess, 15.7ms inference, 2.3ms postprocess per image at shape (1, 3, 384, 640)\n",
            "\n",
            "0: 384x640 2 peoples, 2 forks, 3 spoons, 2 cups, 1 kettle, 1 basket, 1 salad, 1 ribs, 1 Caesar, 1 fish, 1 soup, 1 borsch, 1 phone, 15.2ms\n",
            "Speed: 3.5ms preprocess, 15.2ms inference, 2.2ms postprocess per image at shape (1, 3, 384, 640)\n",
            "\n",
            "0: 384x640 2 peoples, 2 forks, 3 spoons, 2 cups, 1 kettle, 1 basket, 1 salad, 1 ribs, 1 Caesar, 1 fish, 1 soup, 1 borsch, 1 phone, 20.6ms\n",
            "Speed: 7.3ms preprocess, 20.6ms inference, 2.2ms postprocess per image at shape (1, 3, 384, 640)\n",
            "\n",
            "0: 384x640 2 peoples, 2 forks, 3 spoons, 2 cups, 1 kettle, 1 basket, 1 salad, 1 ribs, 1 Caesar, 1 fish, 1 soup, 1 borsch, 1 phone, 13.5ms\n",
            "Speed: 3.4ms preprocess, 13.5ms inference, 2.2ms postprocess per image at shape (1, 3, 384, 640)\n",
            "\n",
            "0: 384x640 2 peoples, 2 forks, 3 spoons, 2 cups, 1 kettle, 1 basket, 1 salad, 1 ribs, 1 Caesar, 1 fish, 1 soup, 1 borsch, 1 phone, 30.4ms\n",
            "Speed: 17.2ms preprocess, 30.4ms inference, 2.4ms postprocess per image at shape (1, 3, 384, 640)\n",
            "\n",
            "0: 384x640 2 peoples, 2 forks, 3 spoons, 2 cups, 1 kettle, 1 basket, 1 salad, 1 ribs, 1 Caesar, 1 fish, 1 soup, 1 borsch, 1 phone, 19.4ms\n",
            "Speed: 14.6ms preprocess, 19.4ms inference, 2.3ms postprocess per image at shape (1, 3, 384, 640)\n",
            "\n",
            "0: 384x640 2 peoples, 2 forks, 3 spoons, 2 cups, 1 kettle, 1 basket, 1 salad, 1 ribs, 1 Caesar, 1 fish, 1 soup, 1 borsch, 1 phone, 19.8ms\n",
            "Speed: 5.0ms preprocess, 19.8ms inference, 2.6ms postprocess per image at shape (1, 3, 384, 640)\n",
            "\n",
            "0: 384x640 2 peoples, 2 forks, 3 spoons, 2 cups, 1 kettle, 1 basket, 1 salad, 1 ribs, 1 Caesar, 1 fish, 1 soup, 1 borsch, 1 phone, 15.4ms\n",
            "Speed: 8.2ms preprocess, 15.4ms inference, 2.2ms postprocess per image at shape (1, 3, 384, 640)\n",
            "\n",
            "0: 384x640 2 peoples, 2 forks, 3 spoons, 2 cups, 1 kettle, 1 basket, 1 salad, 1 ribs, 1 Caesar, 1 fish, 1 soup, 1 borsch, 1 phone, 16.1ms\n",
            "Speed: 6.7ms preprocess, 16.1ms inference, 2.3ms postprocess per image at shape (1, 3, 384, 640)\n",
            "\n",
            "0: 384x640 2 peoples, 2 forks, 3 spoons, 2 cups, 1 kettle, 1 basket, 1 salad, 1 ribs, 1 Caesar, 1 fish, 1 soup, 1 borsch, 1 phone, 15.7ms\n",
            "Speed: 4.4ms preprocess, 15.7ms inference, 2.3ms postprocess per image at shape (1, 3, 384, 640)\n",
            "\n",
            "0: 384x640 2 peoples, 2 forks, 3 spoons, 2 cups, 1 kettle, 1 basket, 1 salad, 1 ribs, 1 Caesar, 1 fish, 1 soup, 1 borsch, 1 phone, 23.4ms\n",
            "Speed: 10.5ms preprocess, 23.4ms inference, 2.3ms postprocess per image at shape (1, 3, 384, 640)\n",
            "\n",
            "0: 384x640 2 peoples, 2 forks, 3 spoons, 2 cups, 1 kettle, 1 basket, 1 salad, 1 ribs, 1 Caesar, 1 fish, 1 soup, 1 borsch, 1 phone, 15.0ms\n",
            "Speed: 4.4ms preprocess, 15.0ms inference, 2.4ms postprocess per image at shape (1, 3, 384, 640)\n",
            "\n",
            "0: 384x640 2 peoples, 2 forks, 3 spoons, 2 cups, 1 kettle, 1 basket, 1 salad, 1 ribs, 1 Caesar, 1 fish, 1 soup, 1 borsch, 1 phone, 16.7ms\n",
            "Speed: 8.8ms preprocess, 16.7ms inference, 2.2ms postprocess per image at shape (1, 3, 384, 640)\n",
            "\n",
            "0: 384x640 1 people, 2 forks, 2 spoons, 2 cups, 1 kettle, 1 basket, 1 salad, 1 ribs, 1 Caesar, 1 fish, 1 soup, 1 borsch, 1 phone, 18.2ms\n",
            "Speed: 3.8ms preprocess, 18.2ms inference, 2.4ms postprocess per image at shape (1, 3, 384, 640)\n",
            "\n",
            "0: 384x640 1 people, 2 forks, 2 spoons, 2 cups, 1 kettle, 1 basket, 1 salad, 1 ribs, 1 Caesar, 1 fish, 1 soup, 1 borsch, 1 phone, 15.0ms\n",
            "Speed: 3.7ms preprocess, 15.0ms inference, 2.3ms postprocess per image at shape (1, 3, 384, 640)\n",
            "\n",
            "0: 384x640 1 people, 2 forks, 2 spoons, 2 cups, 1 kettle, 1 basket, 1 salad, 1 ribs, 1 Caesar, 1 fish, 1 soup, 1 borsch, 1 phone, 16.1ms\n",
            "Speed: 3.8ms preprocess, 16.1ms inference, 2.3ms postprocess per image at shape (1, 3, 384, 640)\n",
            "\n",
            "0: 384x640 1 people, 2 forks, 2 spoons, 2 cups, 1 kettle, 1 basket, 1 salad, 1 ribs, 1 Caesar, 1 fish, 1 soup, 1 borsch, 1 phone, 14.8ms\n",
            "Speed: 3.8ms preprocess, 14.8ms inference, 2.3ms postprocess per image at shape (1, 3, 384, 640)\n",
            "\n",
            "0: 384x640 1 people, 2 forks, 2 spoons, 2 cups, 1 kettle, 1 basket, 1 salad, 1 ribs, 1 Caesar, 1 fish, 1 soup, 1 borsch, 1 phone, 20.1ms\n",
            "Speed: 4.2ms preprocess, 20.1ms inference, 2.4ms postprocess per image at shape (1, 3, 384, 640)\n",
            "\n",
            "0: 384x640 2 peoples, 2 forks, 2 spoons, 2 cups, 1 kettle, 1 basket, 1 salad, 1 ribs, 1 Caesar, 1 fish, 1 soup, 1 borsch, 1 phone, 22.1ms\n",
            "Speed: 3.7ms preprocess, 22.1ms inference, 2.5ms postprocess per image at shape (1, 3, 384, 640)\n",
            "\n",
            "0: 384x640 2 peoples, 2 forks, 2 spoons, 2 cups, 1 kettle, 1 basket, 1 salad, 1 ribs, 1 Caesar, 1 fish, 1 soup, 1 borsch, 1 phone, 30.6ms\n",
            "Speed: 4.3ms preprocess, 30.6ms inference, 2.3ms postprocess per image at shape (1, 3, 384, 640)\n",
            "\n",
            "0: 384x640 2 peoples, 2 forks, 2 spoons, 2 cups, 1 kettle, 1 basket, 1 salad, 1 ribs, 1 Caesar, 1 fish, 1 soup, 1 borsch, 1 phone, 16.6ms\n",
            "Speed: 11.0ms preprocess, 16.6ms inference, 2.4ms postprocess per image at shape (1, 3, 384, 640)\n",
            "\n",
            "0: 384x640 2 peoples, 2 forks, 2 spoons, 2 cups, 1 kettle, 1 basket, 1 salad, 1 ribs, 1 Caesar, 1 fish, 1 soup, 1 borsch, 1 phone, 14.5ms\n",
            "Speed: 3.5ms preprocess, 14.5ms inference, 2.1ms postprocess per image at shape (1, 3, 384, 640)\n",
            "\n",
            "0: 384x640 2 peoples, 2 forks, 2 spoons, 2 cups, 1 kettle, 1 basket, 1 salad, 1 ribs, 1 Caesar, 1 fish, 1 soup, 1 borsch, 1 phone, 21.2ms\n",
            "Speed: 7.8ms preprocess, 21.2ms inference, 2.3ms postprocess per image at shape (1, 3, 384, 640)\n",
            "\n",
            "0: 384x640 2 peoples, 2 forks, 2 spoons, 2 cups, 1 kettle, 1 basket, 1 salad, 1 ribs, 1 Caesar, 1 fish, 1 soup, 1 borsch, 1 phone, 32.8ms\n",
            "Speed: 9.8ms preprocess, 32.8ms inference, 2.3ms postprocess per image at shape (1, 3, 384, 640)\n",
            "\n",
            "0: 384x640 2 peoples, 2 forks, 2 spoons, 2 cups, 1 kettle, 1 basket, 1 salad, 1 ribs, 1 Caesar, 1 fish, 1 soup, 1 borsch, 1 phone, 18.3ms\n",
            "Speed: 3.7ms preprocess, 18.3ms inference, 2.2ms postprocess per image at shape (1, 3, 384, 640)\n",
            "\n",
            "0: 384x640 2 peoples, 2 forks, 2 spoons, 2 cups, 1 kettle, 1 basket, 1 salad, 1 ribs, 1 Caesar, 1 fish, 1 soup, 1 borsch, 1 phone, 17.3ms\n",
            "Speed: 7.4ms preprocess, 17.3ms inference, 2.1ms postprocess per image at shape (1, 3, 384, 640)\n",
            "\n",
            "0: 384x640 2 peoples, 2 forks, 2 spoons, 2 cups, 1 kettle, 1 basket, 1 salad, 1 ribs, 1 Caesar, 1 fish, 1 soup, 1 borsch, 1 phone, 16.0ms\n",
            "Speed: 4.2ms preprocess, 16.0ms inference, 2.3ms postprocess per image at shape (1, 3, 384, 640)\n",
            "\n",
            "0: 384x640 2 peoples, 2 forks, 2 spoons, 2 cups, 1 kettle, 1 basket, 1 salad, 1 ribs, 1 Caesar, 1 fish, 1 soup, 1 borsch, 1 phone, 22.7ms\n",
            "Speed: 3.4ms preprocess, 22.7ms inference, 2.3ms postprocess per image at shape (1, 3, 384, 640)\n",
            "\n",
            "0: 384x640 2 peoples, 2 forks, 2 spoons, 2 cups, 1 kettle, 1 basket, 1 salad, 1 ribs, 1 Caesar, 1 fish, 1 soup, 1 borsch, 1 phone, 22.5ms\n",
            "Speed: 3.6ms preprocess, 22.5ms inference, 5.6ms postprocess per image at shape (1, 3, 384, 640)\n",
            "\n",
            "0: 384x640 2 peoples, 2 forks, 2 spoons, 2 cups, 1 kettle, 1 basket, 1 salad, 1 ribs, 1 Caesar, 1 fish, 1 soup, 1 borsch, 1 phone, 17.6ms\n",
            "Speed: 8.1ms preprocess, 17.6ms inference, 5.5ms postprocess per image at shape (1, 3, 384, 640)\n",
            "\n",
            "0: 384x640 2 peoples, 2 forks, 2 spoons, 2 cups, 1 kettle, 1 basket, 1 salad, 1 ribs, 1 Caesar, 1 fish, 1 soup, 1 borsch, 1 phone, 13.9ms\n",
            "Speed: 8.2ms preprocess, 13.9ms inference, 2.0ms postprocess per image at shape (1, 3, 384, 640)\n",
            "\n",
            "0: 384x640 2 peoples, 2 forks, 2 spoons, 2 cups, 1 kettle, 1 basket, 1 salad, 1 ribs, 1 Caesar, 1 fish, 1 soup, 1 borsch, 1 phone, 36.7ms\n",
            "Speed: 3.7ms preprocess, 36.7ms inference, 1.9ms postprocess per image at shape (1, 3, 384, 640)\n",
            "\n",
            "0: 384x640 2 peoples, 2 forks, 2 spoons, 2 cups, 1 kettle, 1 basket, 1 salad, 1 ribs, 1 Caesar, 1 fish, 1 soup, 1 borsch, 1 phone, 25.2ms\n",
            "Speed: 8.1ms preprocess, 25.2ms inference, 1.8ms postprocess per image at shape (1, 3, 384, 640)\n",
            "\n",
            "0: 384x640 2 peoples, 2 forks, 2 spoons, 2 cups, 1 kettle, 1 basket, 1 salad, 1 ribs, 1 Caesar, 1 fish, 1 soup, 1 borsch, 1 phone, 31.2ms\n",
            "Speed: 3.6ms preprocess, 31.2ms inference, 1.9ms postprocess per image at shape (1, 3, 384, 640)\n",
            "\n",
            "0: 384x640 2 peoples, 2 forks, 2 spoons, 2 cups, 1 kettle, 1 basket, 1 salad, 1 ribs, 1 Caesar, 1 fish, 1 soup, 1 borsch, 1 phone, 14.6ms\n",
            "Speed: 9.0ms preprocess, 14.6ms inference, 2.2ms postprocess per image at shape (1, 3, 384, 640)\n",
            "\n",
            "0: 384x640 2 peoples, 2 forks, 2 spoons, 2 cups, 1 kettle, 1 basket, 1 salad, 1 ribs, 1 Caesar, 1 fish, 1 soup, 1 borsch, 1 phone, 30.6ms\n",
            "Speed: 10.8ms preprocess, 30.6ms inference, 5.8ms postprocess per image at shape (1, 3, 384, 640)\n",
            "\n",
            "0: 384x640 2 peoples, 2 forks, 2 spoons, 2 cups, 1 kettle, 1 basket, 1 salad, 1 ribs, 1 Caesar, 1 fish, 1 soup, 1 borsch, 1 phone, 17.9ms\n",
            "Speed: 7.2ms preprocess, 17.9ms inference, 2.2ms postprocess per image at shape (1, 3, 384, 640)\n",
            "\n",
            "0: 384x640 2 peoples, 2 forks, 2 spoons, 2 cups, 1 kettle, 1 basket, 1 salad, 1 ribs, 1 Caesar, 1 fish, 1 soup, 1 borsch, 1 phone, 25.2ms\n",
            "Speed: 3.6ms preprocess, 25.2ms inference, 2.3ms postprocess per image at shape (1, 3, 384, 640)\n",
            "\n",
            "0: 384x640 2 peoples, 2 forks, 2 spoons, 2 cups, 1 kettle, 1 basket, 1 salad, 1 ribs, 1 Caesar, 1 fish, 1 soup, 1 borsch, 1 phone, 15.8ms\n",
            "Speed: 8.5ms preprocess, 15.8ms inference, 2.2ms postprocess per image at shape (1, 3, 384, 640)\n",
            "\n",
            "0: 384x640 2 peoples, 2 forks, 2 spoons, 2 cups, 1 kettle, 1 basket, 1 salad, 1 ribs, 1 Caesar, 1 fish, 1 soup, 1 borsch, 1 phone, 24.8ms\n",
            "Speed: 4.1ms preprocess, 24.8ms inference, 2.1ms postprocess per image at shape (1, 3, 384, 640)\n",
            "\n",
            "0: 384x640 2 peoples, 2 forks, 2 spoons, 2 cups, 1 kettle, 1 basket, 1 salad, 1 ribs, 1 Caesar, 1 fish, 1 soup, 1 borsch, 1 phone, 16.3ms\n",
            "Speed: 10.9ms preprocess, 16.3ms inference, 2.2ms postprocess per image at shape (1, 3, 384, 640)\n",
            "\n",
            "0: 384x640 2 peoples, 2 forks, 2 spoons, 2 cups, 1 kettle, 1 basket, 1 salad, 1 ribs, 1 Caesar, 1 fish, 1 soup, 1 borsch, 1 phone, 14.6ms\n",
            "Speed: 3.6ms preprocess, 14.6ms inference, 2.2ms postprocess per image at shape (1, 3, 384, 640)\n",
            "\n",
            "0: 384x640 2 peoples, 2 forks, 2 spoons, 2 cups, 1 kettle, 1 basket, 1 salad, 1 ribs, 1 Caesar, 1 fish, 1 soup, 1 borsch, 1 phone, 27.3ms\n",
            "Speed: 3.9ms preprocess, 27.3ms inference, 3.4ms postprocess per image at shape (1, 3, 384, 640)\n",
            "\n",
            "0: 384x640 2 peoples, 2 forks, 2 spoons, 2 cups, 1 kettle, 1 basket, 1 salad, 1 ribs, 1 Caesar, 1 fish, 1 soup, 1 borsch, 1 phone, 13.3ms\n",
            "Speed: 3.4ms preprocess, 13.3ms inference, 1.9ms postprocess per image at shape (1, 3, 384, 640)\n",
            "\n",
            "0: 384x640 2 peoples, 2 forks, 2 spoons, 2 cups, 1 kettle, 1 basket, 1 salad, 1 ribs, 1 Caesar, 1 fish, 1 soup, 1 borsch, 1 phone, 22.8ms\n",
            "Speed: 10.4ms preprocess, 22.8ms inference, 2.2ms postprocess per image at shape (1, 3, 384, 640)\n",
            "\n",
            "0: 384x640 2 peoples, 2 forks, 2 spoons, 2 cups, 1 kettle, 1 basket, 1 salad, 1 ribs, 1 Caesar, 1 fish, 1 soup, 1 borsch, 1 phone, 16.9ms\n",
            "Speed: 10.6ms preprocess, 16.9ms inference, 2.2ms postprocess per image at shape (1, 3, 384, 640)\n",
            "\n",
            "0: 384x640 2 peoples, 2 forks, 2 spoons, 2 cups, 1 kettle, 1 basket, 1 salad, 1 ribs, 1 Caesar, 1 fish, 1 soup, 1 borsch, 1 phone, 16.0ms\n",
            "Speed: 11.9ms preprocess, 16.0ms inference, 2.2ms postprocess per image at shape (1, 3, 384, 640)\n",
            "\n",
            "0: 384x640 2 peoples, 2 forks, 2 spoons, 2 cups, 1 kettle, 1 basket, 1 salad, 1 ribs, 1 Caesar, 1 fish, 1 soup, 1 borsch, 1 phone, 29.9ms\n",
            "Speed: 11.5ms preprocess, 29.9ms inference, 2.4ms postprocess per image at shape (1, 3, 384, 640)\n",
            "\n",
            "0: 384x640 2 peoples, 2 forks, 2 spoons, 2 cups, 1 kettle, 1 basket, 1 salad, 1 ribs, 1 Caesar, 1 fish, 1 soup, 1 borsch, 1 phone, 17.8ms\n",
            "Speed: 10.2ms preprocess, 17.8ms inference, 2.3ms postprocess per image at shape (1, 3, 384, 640)\n",
            "\n",
            "0: 384x640 2 peoples, 2 forks, 2 spoons, 2 cups, 1 kettle, 1 basket, 1 salad, 1 ribs, 1 Caesar, 1 fish, 1 soup, 1 borsch, 1 phone, 21.8ms\n",
            "Speed: 4.2ms preprocess, 21.8ms inference, 3.5ms postprocess per image at shape (1, 3, 384, 640)\n",
            "\n",
            "0: 384x640 2 peoples, 2 forks, 2 spoons, 2 cups, 1 kettle, 1 basket, 1 salad, 1 ribs, 1 Caesar, 1 fish, 1 soup, 1 borsch, 1 phone, 32.1ms\n",
            "Speed: 12.9ms preprocess, 32.1ms inference, 2.4ms postprocess per image at shape (1, 3, 384, 640)\n",
            "\n",
            "0: 384x640 2 peoples, 2 forks, 2 spoons, 2 cups, 1 kettle, 1 basket, 1 salad, 1 ribs, 1 Caesar, 1 fish, 1 soup, 1 borsch, 1 phone, 24.3ms\n",
            "Speed: 3.4ms preprocess, 24.3ms inference, 2.5ms postprocess per image at shape (1, 3, 384, 640)\n",
            "\n",
            "0: 384x640 2 peoples, 2 forks, 2 spoons, 2 cups, 1 kettle, 1 basket, 1 salad, 1 ribs, 1 Caesar, 1 fish, 1 soup, 1 borsch, 1 phone, 27.9ms\n",
            "Speed: 10.3ms preprocess, 27.9ms inference, 3.6ms postprocess per image at shape (1, 3, 384, 640)\n",
            "\n",
            "0: 384x640 2 peoples, 2 forks, 2 spoons, 2 cups, 1 kettle, 1 basket, 1 salad, 1 ribs, 1 Caesar, 1 fish, 1 soup, 1 borsch, 1 phone, 20.6ms\n",
            "Speed: 2.9ms preprocess, 20.6ms inference, 2.2ms postprocess per image at shape (1, 3, 384, 640)\n",
            "\n",
            "0: 384x640 2 peoples, 2 forks, 2 spoons, 2 cups, 1 kettle, 1 basket, 1 salad, 1 ribs, 1 Caesar, 1 fish, 1 soup, 1 borsch, 1 phone, 16.2ms\n",
            "Speed: 3.5ms preprocess, 16.2ms inference, 2.3ms postprocess per image at shape (1, 3, 384, 640)\n",
            "\n",
            "0: 384x640 2 peoples, 2 forks, 2 spoons, 2 cups, 1 kettle, 1 basket, 1 salad, 1 ribs, 1 Caesar, 1 fish, 1 soup, 1 borsch, 1 phone, 16.7ms\n",
            "Speed: 5.9ms preprocess, 16.7ms inference, 2.3ms postprocess per image at shape (1, 3, 384, 640)\n",
            "\n",
            "0: 384x640 2 peoples, 2 forks, 2 spoons, 2 cups, 1 kettle, 1 basket, 1 salad, 1 ribs, 1 Caesar, 1 fish, 1 soup, 1 borsch, 1 phone, 20.5ms\n",
            "Speed: 8.2ms preprocess, 20.5ms inference, 2.3ms postprocess per image at shape (1, 3, 384, 640)\n",
            "\n",
            "0: 384x640 2 peoples, 2 forks, 2 spoons, 2 cups, 1 kettle, 1 basket, 1 salad, 1 ribs, 1 Caesar, 1 fish, 1 soup, 1 borsch, 1 phone, 15.2ms\n",
            "Speed: 4.4ms preprocess, 15.2ms inference, 2.4ms postprocess per image at shape (1, 3, 384, 640)\n",
            "\n",
            "0: 384x640 2 peoples, 2 forks, 2 spoons, 2 cups, 1 kettle, 1 basket, 1 salad, 1 ribs, 1 Caesar, 1 fish, 1 soup, 1 borsch, 1 phone, 17.0ms\n",
            "Speed: 3.8ms preprocess, 17.0ms inference, 2.5ms postprocess per image at shape (1, 3, 384, 640)\n",
            "\n",
            "0: 384x640 2 peoples, 2 forks, 2 spoons, 2 cups, 1 kettle, 1 basket, 1 salad, 1 ribs, 1 Caesar, 1 fish, 1 soup, 1 borsch, 1 phone, 14.6ms\n",
            "Speed: 5.2ms preprocess, 14.6ms inference, 2.1ms postprocess per image at shape (1, 3, 384, 640)\n",
            "\n",
            "0: 384x640 2 peoples, 2 forks, 2 spoons, 2 cups, 1 kettle, 1 basket, 1 salad, 1 ribs, 1 Caesar, 1 fish, 1 soup, 1 borsch, 1 phone, 15.3ms\n",
            "Speed: 4.3ms preprocess, 15.3ms inference, 2.2ms postprocess per image at shape (1, 3, 384, 640)\n",
            "\n",
            "0: 384x640 2 peoples, 2 forks, 2 spoons, 2 cups, 1 kettle, 1 basket, 1 salad, 1 ribs, 1 Caesar, 1 fish, 1 soup, 1 borsch, 1 phone, 18.4ms\n",
            "Speed: 8.8ms preprocess, 18.4ms inference, 2.5ms postprocess per image at shape (1, 3, 384, 640)\n",
            "\n",
            "0: 384x640 2 peoples, 2 forks, 2 spoons, 2 cups, 1 kettle, 1 basket, 1 salad, 1 ribs, 1 Caesar, 1 fish, 1 soup, 1 borsch, 1 phone, 17.0ms\n",
            "Speed: 3.7ms preprocess, 17.0ms inference, 2.5ms postprocess per image at shape (1, 3, 384, 640)\n",
            "\n",
            "0: 384x640 2 peoples, 2 forks, 2 spoons, 2 cups, 1 kettle, 1 basket, 1 salad, 1 ribs, 1 Caesar, 1 fish, 1 soup, 1 borsch, 1 phone, 23.7ms\n",
            "Speed: 5.1ms preprocess, 23.7ms inference, 2.2ms postprocess per image at shape (1, 3, 384, 640)\n",
            "\n",
            "0: 384x640 2 peoples, 2 forks, 2 spoons, 2 cups, 1 kettle, 1 basket, 1 salad, 1 ribs, 1 Caesar, 1 fish, 1 soup, 1 borsch, 1 phone, 16.4ms\n",
            "Speed: 3.8ms preprocess, 16.4ms inference, 2.2ms postprocess per image at shape (1, 3, 384, 640)\n",
            "\n",
            "0: 384x640 2 peoples, 2 forks, 2 spoons, 2 cups, 1 kettle, 1 basket, 1 salad, 1 ribs, 1 Caesar, 1 fish, 1 soup, 1 borsch, 1 phone, 16.3ms\n",
            "Speed: 5.8ms preprocess, 16.3ms inference, 2.3ms postprocess per image at shape (1, 3, 384, 640)\n",
            "\n",
            "0: 384x640 2 peoples, 2 forks, 2 spoons, 2 cups, 1 kettle, 1 basket, 1 salad, 1 ribs, 1 Caesar, 1 fish, 1 soup, 1 borsch, 1 phone, 15.8ms\n",
            "Speed: 4.0ms preprocess, 15.8ms inference, 2.4ms postprocess per image at shape (1, 3, 384, 640)\n",
            "\n",
            "0: 384x640 2 peoples, 2 forks, 2 spoons, 2 cups, 1 kettle, 1 basket, 1 salad, 1 ribs, 1 Caesar, 1 fish, 1 soup, 1 borsch, 1 phone, 13.9ms\n",
            "Speed: 3.4ms preprocess, 13.9ms inference, 1.9ms postprocess per image at shape (1, 3, 384, 640)\n",
            "\n",
            "0: 384x640 2 peoples, 2 forks, 2 spoons, 2 cups, 1 kettle, 1 basket, 1 salad, 1 ribs, 1 Caesar, 1 fish, 1 soup, 1 borsch, 1 phone, 33.1ms\n",
            "Speed: 3.4ms preprocess, 33.1ms inference, 2.3ms postprocess per image at shape (1, 3, 384, 640)\n",
            "\n",
            "0: 384x640 2 peoples, 2 forks, 2 spoons, 2 cups, 1 kettle, 1 basket, 1 salad, 1 ribs, 1 Caesar, 1 fish, 1 soup, 1 borsch, 1 phone, 24.9ms\n",
            "Speed: 3.8ms preprocess, 24.9ms inference, 2.3ms postprocess per image at shape (1, 3, 384, 640)\n",
            "\n",
            "0: 384x640 2 peoples, 2 forks, 2 spoons, 2 cups, 1 kettle, 1 basket, 1 salad, 1 ribs, 1 Caesar, 1 fish, 1 soup, 1 borsch, 1 phone, 23.3ms\n",
            "Speed: 3.6ms preprocess, 23.3ms inference, 2.4ms postprocess per image at shape (1, 3, 384, 640)\n",
            "\n",
            "0: 384x640 2 peoples, 2 forks, 2 spoons, 2 cups, 1 kettle, 1 basket, 1 salad, 1 ribs, 1 Caesar, 1 fish, 1 soup, 1 borsch, 1 phone, 16.7ms\n",
            "Speed: 11.6ms preprocess, 16.7ms inference, 2.3ms postprocess per image at shape (1, 3, 384, 640)\n",
            "\n",
            "0: 384x640 2 peoples, 2 forks, 2 spoons, 2 cups, 1 kettle, 1 basket, 1 salad, 1 ribs, 1 Caesar, 1 fish, 1 soup, 1 borsch, 1 phone, 20.8ms\n",
            "Speed: 3.9ms preprocess, 20.8ms inference, 2.3ms postprocess per image at shape (1, 3, 384, 640)\n",
            "\n",
            "0: 384x640 2 peoples, 2 forks, 2 spoons, 2 cups, 1 kettle, 1 basket, 1 salad, 1 ribs, 1 Caesar, 1 fish, 1 soup, 1 borsch, 1 phone, 15.3ms\n",
            "Speed: 3.7ms preprocess, 15.3ms inference, 2.3ms postprocess per image at shape (1, 3, 384, 640)\n",
            "\n",
            "0: 384x640 2 peoples, 2 forks, 2 spoons, 2 cups, 1 kettle, 1 basket, 1 salad, 1 ribs, 1 Caesar, 1 fish, 1 soup, 1 borsch, 1 phone, 20.1ms\n",
            "Speed: 8.2ms preprocess, 20.1ms inference, 2.4ms postprocess per image at shape (1, 3, 384, 640)\n",
            "\n",
            "0: 384x640 2 peoples, 2 forks, 3 spoons, 2 cups, 1 kettle, 1 basket, 1 salad, 1 ribs, 1 Caesar, 1 fish, 1 soup, 1 borsch, 1 phone, 20.5ms\n",
            "Speed: 7.4ms preprocess, 20.5ms inference, 2.3ms postprocess per image at shape (1, 3, 384, 640)\n",
            "\n",
            "0: 384x640 3 peoples, 2 forks, 3 spoons, 2 cups, 1 kettle, 1 basket, 1 salad, 1 ribs, 1 Caesar, 1 fish, 1 soup, 1 borsch, 1 phone, 15.5ms\n",
            "Speed: 4.5ms preprocess, 15.5ms inference, 2.2ms postprocess per image at shape (1, 3, 384, 640)\n",
            "\n",
            "0: 384x640 2 peoples, 2 forks, 3 spoons, 2 cups, 1 kettle, 1 basket, 1 salad, 1 ribs, 1 Caesar, 1 fish, 1 soup, 1 borsch, 1 phone, 22.6ms\n",
            "Speed: 3.6ms preprocess, 22.6ms inference, 2.5ms postprocess per image at shape (1, 3, 384, 640)\n",
            "\n",
            "0: 384x640 2 peoples, 2 forks, 3 spoons, 2 cups, 1 kettle, 1 basket, 1 salad, 1 ribs, 1 Caesar, 1 fish, 1 soup, 1 borsch, 1 phone, 27.8ms\n",
            "Speed: 3.9ms preprocess, 27.8ms inference, 2.2ms postprocess per image at shape (1, 3, 384, 640)\n",
            "\n",
            "0: 384x640 2 peoples, 2 forks, 3 spoons, 2 cups, 1 kettle, 1 basket, 1 salad, 1 ribs, 1 Caesar, 1 fish, 1 soup, 1 borsch, 1 phone, 24.3ms\n",
            "Speed: 3.6ms preprocess, 24.3ms inference, 2.3ms postprocess per image at shape (1, 3, 384, 640)\n",
            "\n",
            "0: 384x640 2 peoples, 2 forks, 2 spoons, 2 cups, 1 kettle, 1 basket, 1 salad, 1 ribs, 1 Caesar, 1 fish, 1 soup, 1 borsch, 1 phone, 22.6ms\n",
            "Speed: 3.8ms preprocess, 22.6ms inference, 2.3ms postprocess per image at shape (1, 3, 384, 640)\n",
            "\n",
            "0: 384x640 2 peoples, 2 forks, 2 spoons, 2 cups, 1 kettle, 1 basket, 1 salad, 1 ribs, 1 Caesar, 1 fish, 1 soup, 1 borsch, 1 phone, 19.8ms\n",
            "Speed: 3.9ms preprocess, 19.8ms inference, 2.5ms postprocess per image at shape (1, 3, 384, 640)\n",
            "\n",
            "0: 384x640 2 peoples, 2 forks, 2 spoons, 2 cups, 1 kettle, 1 basket, 1 salad, 1 ribs, 1 Caesar, 1 fish, 1 soup, 1 borsch, 1 phone, 33.1ms\n",
            "Speed: 8.6ms preprocess, 33.1ms inference, 2.7ms postprocess per image at shape (1, 3, 384, 640)\n",
            "\n",
            "0: 384x640 2 peoples, 2 forks, 2 spoons, 2 cups, 1 kettle, 1 basket, 1 salad, 1 ribs, 1 Caesar, 1 fish, 1 soup, 1 borsch, 1 phone, 16.8ms\n",
            "Speed: 3.3ms preprocess, 16.8ms inference, 2.2ms postprocess per image at shape (1, 3, 384, 640)\n",
            "\n",
            "0: 384x640 2 peoples, 2 forks, 2 spoons, 2 cups, 1 kettle, 1 basket, 1 salad, 1 ribs, 1 Caesar, 1 fish, 1 soup, 1 borsch, 1 phone, 35.7ms\n",
            "Speed: 3.9ms preprocess, 35.7ms inference, 2.4ms postprocess per image at shape (1, 3, 384, 640)\n",
            "\n",
            "0: 384x640 2 peoples, 2 forks, 2 spoons, 2 cups, 1 kettle, 1 basket, 1 salad, 1 ribs, 1 Caesar, 1 fish, 1 soup, 1 borsch, 1 phone, 35.2ms\n",
            "Speed: 3.5ms preprocess, 35.2ms inference, 2.0ms postprocess per image at shape (1, 3, 384, 640)\n",
            "\n",
            "0: 384x640 2 peoples, 2 forks, 2 spoons, 2 cups, 1 kettle, 1 basket, 1 salad, 1 ribs, 1 Caesar, 1 fish, 1 soup, 1 borsch, 1 phone, 22.2ms\n",
            "Speed: 6.6ms preprocess, 22.2ms inference, 2.0ms postprocess per image at shape (1, 3, 384, 640)\n",
            "\n",
            "0: 384x640 2 peoples, 2 forks, 2 spoons, 2 cups, 1 kettle, 1 basket, 1 salad, 1 ribs, 1 Caesar, 1 fish, 1 soup, 1 borsch, 1 phone, 15.0ms\n",
            "Speed: 5.1ms preprocess, 15.0ms inference, 2.2ms postprocess per image at shape (1, 3, 384, 640)\n",
            "\n",
            "0: 384x640 2 peoples, 2 forks, 2 spoons, 2 cups, 1 kettle, 1 basket, 1 salad, 1 ribs, 1 Caesar, 1 fish, 1 soup, 1 borsch, 1 phone, 26.1ms\n",
            "Speed: 3.5ms preprocess, 26.1ms inference, 9.0ms postprocess per image at shape (1, 3, 384, 640)\n",
            "\n",
            "0: 384x640 2 peoples, 2 forks, 2 spoons, 2 cups, 1 kettle, 1 basket, 1 salad, 1 ribs, 1 Caesar, 1 fish, 1 soup, 1 borsch, 1 phone, 27.2ms\n",
            "Speed: 6.3ms preprocess, 27.2ms inference, 7.0ms postprocess per image at shape (1, 3, 384, 640)\n",
            "\n",
            "0: 384x640 2 peoples, 2 forks, 2 spoons, 2 cups, 1 kettle, 1 basket, 1 salad, 1 ribs, 1 Caesar, 1 fish, 1 soup, 1 borsch, 1 phone, 26.6ms\n",
            "Speed: 4.5ms preprocess, 26.6ms inference, 2.3ms postprocess per image at shape (1, 3, 384, 640)\n",
            "\n",
            "0: 384x640 2 peoples, 2 forks, 2 spoons, 2 cups, 1 kettle, 1 basket, 1 salad, 1 ribs, 1 Caesar, 1 fish, 1 soup, 1 borsch, 1 phone, 15.2ms\n",
            "Speed: 3.7ms preprocess, 15.2ms inference, 2.4ms postprocess per image at shape (1, 3, 384, 640)\n",
            "\n",
            "0: 384x640 2 peoples, 2 forks, 2 spoons, 2 cups, 1 kettle, 1 basket, 1 salad, 1 ribs, 1 Caesar, 1 fish, 1 soup, 1 borsch, 1 phone, 26.9ms\n",
            "Speed: 3.2ms preprocess, 26.9ms inference, 2.2ms postprocess per image at shape (1, 3, 384, 640)\n",
            "\n",
            "0: 384x640 2 peoples, 2 forks, 2 spoons, 2 cups, 1 kettle, 1 basket, 1 salad, 1 ribs, 1 Caesar, 1 fish, 1 soup, 1 borsch, 1 phone, 16.5ms\n",
            "Speed: 6.4ms preprocess, 16.5ms inference, 2.2ms postprocess per image at shape (1, 3, 384, 640)\n",
            "\n",
            "0: 384x640 2 peoples, 2 forks, 2 spoons, 2 cups, 1 kettle, 1 basket, 1 salad, 1 ribs, 1 Caesar, 1 fish, 1 soup, 1 borsch, 1 phone, 15.6ms\n",
            "Speed: 3.6ms preprocess, 15.6ms inference, 2.3ms postprocess per image at shape (1, 3, 384, 640)\n",
            "\n",
            "0: 384x640 2 peoples, 2 forks, 2 spoons, 2 cups, 1 kettle, 1 basket, 1 salad, 1 ribs, 1 Caesar, 1 fish, 1 soup, 1 borsch, 1 phone, 15.7ms\n",
            "Speed: 3.6ms preprocess, 15.7ms inference, 2.2ms postprocess per image at shape (1, 3, 384, 640)\n",
            "\n",
            "0: 384x640 2 peoples, 2 forks, 2 spoons, 2 cups, 1 kettle, 1 basket, 1 salad, 1 ribs, 1 Caesar, 1 fish, 1 soup, 1 borsch, 1 phone, 15.5ms\n",
            "Speed: 4.0ms preprocess, 15.5ms inference, 2.5ms postprocess per image at shape (1, 3, 384, 640)\n",
            "\n",
            "0: 384x640 2 peoples, 2 forks, 2 spoons, 2 cups, 1 kettle, 1 basket, 1 salad, 1 ribs, 1 Caesar, 1 fish, 1 soup, 1 borsch, 1 phone, 14.0ms\n",
            "Speed: 3.3ms preprocess, 14.0ms inference, 2.2ms postprocess per image at shape (1, 3, 384, 640)\n",
            "\n",
            "0: 384x640 2 peoples, 2 forks, 2 spoons, 2 cups, 1 kettle, 1 basket, 1 salad, 1 ribs, 1 Caesar, 1 fish, 1 soup, 1 borsch, 1 phone, 14.1ms\n",
            "Speed: 3.4ms preprocess, 14.1ms inference, 1.9ms postprocess per image at shape (1, 3, 384, 640)\n",
            "\n",
            "0: 384x640 2 peoples, 2 forks, 2 spoons, 2 cups, 1 kettle, 1 basket, 1 salad, 1 ribs, 1 Caesar, 1 fish, 1 soup, 1 borsch, 1 phone, 16.6ms\n",
            "Speed: 6.9ms preprocess, 16.6ms inference, 2.3ms postprocess per image at shape (1, 3, 384, 640)\n",
            "\n",
            "0: 384x640 2 peoples, 2 forks, 2 spoons, 2 cups, 1 kettle, 1 basket, 1 salad, 1 ribs, 1 Caesar, 1 fish, 1 soup, 1 borsch, 1 phone, 36.6ms\n",
            "Speed: 9.6ms preprocess, 36.6ms inference, 2.2ms postprocess per image at shape (1, 3, 384, 640)\n",
            "\n",
            "0: 384x640 2 peoples, 2 forks, 2 spoons, 2 cups, 1 kettle, 1 basket, 1 salad, 1 ribs, 1 Caesar, 1 fish, 1 soup, 1 borsch, 1 phone, 33.1ms\n",
            "Speed: 3.9ms preprocess, 33.1ms inference, 2.3ms postprocess per image at shape (1, 3, 384, 640)\n",
            "\n",
            "0: 384x640 2 peoples, 2 forks, 2 spoons, 2 cups, 1 kettle, 1 basket, 1 salad, 1 ribs, 1 Caesar, 1 fish, 1 soup, 1 borsch, 1 phone, 13.5ms\n",
            "Speed: 3.6ms preprocess, 13.5ms inference, 1.9ms postprocess per image at shape (1, 3, 384, 640)\n",
            "\n",
            "0: 384x640 2 peoples, 2 forks, 2 spoons, 2 cups, 1 kettle, 1 basket, 1 salad, 1 ribs, 1 Caesar, 1 fish, 1 soup, 1 borsch, 1 phone, 22.2ms\n",
            "Speed: 3.6ms preprocess, 22.2ms inference, 2.3ms postprocess per image at shape (1, 3, 384, 640)\n",
            "\n",
            "0: 384x640 2 peoples, 2 forks, 2 spoons, 2 cups, 1 kettle, 1 basket, 1 salad, 1 ribs, 1 Caesar, 1 fish, 1 soup, 1 borsch, 1 phone, 14.6ms\n",
            "Speed: 8.4ms preprocess, 14.6ms inference, 1.9ms postprocess per image at shape (1, 3, 384, 640)\n",
            "\n",
            "0: 384x640 2 peoples, 2 forks, 2 spoons, 2 cups, 1 kettle, 1 basket, 1 salad, 1 ribs, 1 Caesar, 1 fish, 1 soup, 1 borsch, 1 phone, 16.1ms\n",
            "Speed: 4.2ms preprocess, 16.1ms inference, 2.3ms postprocess per image at shape (1, 3, 384, 640)\n",
            "\n",
            "0: 384x640 2 peoples, 2 forks, 2 spoons, 2 cups, 1 kettle, 1 basket, 1 salad, 1 ribs, 1 Caesar, 1 fish, 1 soup, 1 borsch, 1 phone, 15.2ms\n",
            "Speed: 4.2ms preprocess, 15.2ms inference, 2.2ms postprocess per image at shape (1, 3, 384, 640)\n",
            "\n",
            "0: 384x640 2 peoples, 2 forks, 2 spoons, 2 cups, 1 kettle, 1 basket, 1 salad, 1 ribs, 1 Caesar, 1 fish, 1 soup, 1 borsch, 1 phone, 17.6ms\n",
            "Speed: 3.9ms preprocess, 17.6ms inference, 2.3ms postprocess per image at shape (1, 3, 384, 640)\n",
            "\n",
            "0: 384x640 2 peoples, 2 forks, 2 spoons, 2 cups, 1 kettle, 1 basket, 1 salad, 1 ribs, 1 Caesar, 1 fish, 1 soup, 1 borsch, 1 phone, 18.0ms\n",
            "Speed: 3.6ms preprocess, 18.0ms inference, 2.3ms postprocess per image at shape (1, 3, 384, 640)\n",
            "\n",
            "0: 384x640 2 peoples, 2 forks, 2 spoons, 2 cups, 1 kettle, 1 basket, 1 salad, 1 ribs, 1 Caesar, 1 fish, 1 soup, 1 borsch, 1 phone, 18.1ms\n",
            "Speed: 4.0ms preprocess, 18.1ms inference, 2.3ms postprocess per image at shape (1, 3, 384, 640)\n",
            "\n",
            "0: 384x640 2 peoples, 2 forks, 2 spoons, 2 cups, 1 kettle, 1 basket, 1 salad, 1 ribs, 1 Caesar, 1 fish, 1 soup, 1 borsch, 1 phone, 16.7ms\n",
            "Speed: 3.8ms preprocess, 16.7ms inference, 2.3ms postprocess per image at shape (1, 3, 384, 640)\n",
            "\n",
            "0: 384x640 2 peoples, 2 forks, 2 spoons, 2 cups, 1 kettle, 1 basket, 1 salad, 1 ribs, 1 Caesar, 1 fish, 1 soup, 1 borsch, 1 phone, 14.2ms\n",
            "Speed: 3.7ms preprocess, 14.2ms inference, 2.2ms postprocess per image at shape (1, 3, 384, 640)\n",
            "\n",
            "0: 384x640 2 peoples, 2 forks, 2 spoons, 2 cups, 1 kettle, 1 basket, 1 salad, 1 ribs, 1 Caesar, 1 fish, 1 soup, 1 borsch, 1 phone, 23.3ms\n",
            "Speed: 3.6ms preprocess, 23.3ms inference, 2.3ms postprocess per image at shape (1, 3, 384, 640)\n",
            "\n",
            "0: 384x640 2 peoples, 2 forks, 2 spoons, 2 cups, 1 kettle, 1 basket, 1 salad, 1 ribs, 1 Caesar, 1 fish, 1 soup, 1 borsch, 1 phone, 17.8ms\n",
            "Speed: 3.4ms preprocess, 17.8ms inference, 2.3ms postprocess per image at shape (1, 3, 384, 640)\n",
            "\n",
            "0: 384x640 2 peoples, 2 forks, 2 spoons, 2 cups, 1 kettle, 1 basket, 1 salad, 1 ribs, 1 Caesar, 1 fish, 1 soup, 1 borsch, 1 phone, 18.6ms\n",
            "Speed: 3.7ms preprocess, 18.6ms inference, 2.4ms postprocess per image at shape (1, 3, 384, 640)\n",
            "\n",
            "0: 384x640 2 peoples, 2 forks, 2 spoons, 2 cups, 1 kettle, 1 basket, 1 salad, 1 ribs, 1 Caesar, 1 fish, 1 soup, 1 borsch, 1 phone, 15.6ms\n",
            "Speed: 3.8ms preprocess, 15.6ms inference, 2.2ms postprocess per image at shape (1, 3, 384, 640)\n",
            "\n",
            "0: 384x640 2 peoples, 2 forks, 2 spoons, 2 cups, 1 kettle, 1 basket, 1 salad, 1 ribs, 1 Caesar, 1 fish, 1 soup, 1 borsch, 1 phone, 15.4ms\n",
            "Speed: 9.0ms preprocess, 15.4ms inference, 2.2ms postprocess per image at shape (1, 3, 384, 640)\n",
            "\n",
            "0: 384x640 2 peoples, 2 forks, 2 spoons, 2 cups, 1 kettle, 1 basket, 1 salad, 1 ribs, 1 Caesar, 1 fish, 2 soups, 1 borsch, 1 phone, 18.5ms\n",
            "Speed: 6.5ms preprocess, 18.5ms inference, 2.4ms postprocess per image at shape (1, 3, 384, 640)\n",
            "\n",
            "0: 384x640 2 peoples, 2 forks, 2 spoons, 2 cups, 1 kettle, 1 basket, 1 salad, 1 ribs, 1 Caesar, 1 fish, 2 soups, 1 borsch, 1 phone, 19.6ms\n",
            "Speed: 3.8ms preprocess, 19.6ms inference, 2.2ms postprocess per image at shape (1, 3, 384, 640)\n",
            "\n",
            "0: 384x640 2 peoples, 2 forks, 2 spoons, 2 cups, 1 kettle, 1 basket, 1 salad, 1 ribs, 1 Caesar, 1 fish, 1 soup, 1 borsch, 1 phone, 25.2ms\n",
            "Speed: 3.4ms preprocess, 25.2ms inference, 2.3ms postprocess per image at shape (1, 3, 384, 640)\n",
            "\n",
            "0: 384x640 2 peoples, 2 forks, 3 spoons, 2 cups, 1 kettle, 1 basket, 1 salad, 1 ribs, 1 Caesar, 1 fish, 1 soup, 1 borsch, 1 phone, 17.2ms\n",
            "Speed: 3.7ms preprocess, 17.2ms inference, 2.2ms postprocess per image at shape (1, 3, 384, 640)\n",
            "\n",
            "0: 384x640 2 peoples, 2 forks, 3 spoons, 2 cups, 1 kettle, 1 basket, 1 salad, 1 ribs, 1 Caesar, 1 fish, 1 soup, 1 borsch, 1 phone, 15.9ms\n",
            "Speed: 7.8ms preprocess, 15.9ms inference, 2.2ms postprocess per image at shape (1, 3, 384, 640)\n",
            "\n",
            "0: 384x640 2 peoples, 2 forks, 3 spoons, 2 cups, 1 kettle, 1 basket, 1 salad, 1 ribs, 1 Caesar, 1 fish, 2 soups, 1 borsch, 1 phone, 15.7ms\n",
            "Speed: 5.1ms preprocess, 15.7ms inference, 2.3ms postprocess per image at shape (1, 3, 384, 640)\n",
            "\n",
            "0: 384x640 2 peoples, 2 forks, 3 spoons, 2 cups, 1 kettle, 1 basket, 1 salad, 1 ribs, 1 Caesar, 1 fish, 1 soup, 1 borsch, 1 phone, 15.5ms\n",
            "Speed: 6.3ms preprocess, 15.5ms inference, 2.2ms postprocess per image at shape (1, 3, 384, 640)\n",
            "\n",
            "0: 384x640 2 peoples, 2 forks, 3 spoons, 2 cups, 1 kettle, 1 basket, 1 salad, 1 ribs, 1 Caesar, 1 fish, 1 soup, 1 borsch, 1 phone, 15.5ms\n",
            "Speed: 3.6ms preprocess, 15.5ms inference, 2.3ms postprocess per image at shape (1, 3, 384, 640)\n",
            "\n",
            "0: 384x640 2 peoples, 2 forks, 3 spoons, 2 cups, 1 kettle, 1 basket, 1 salad, 1 ribs, 1 Caesar, 1 fish, 1 soup, 1 borsch, 1 phone, 28.2ms\n",
            "Speed: 3.8ms preprocess, 28.2ms inference, 2.6ms postprocess per image at shape (1, 3, 384, 640)\n",
            "\n",
            "0: 384x640 2 peoples, 2 forks, 3 spoons, 2 cups, 1 kettle, 1 basket, 1 salad, 1 ribs, 1 Caesar, 1 fish, 1 soup, 1 borsch, 1 phone, 15.0ms\n",
            "Speed: 5.6ms preprocess, 15.0ms inference, 2.3ms postprocess per image at shape (1, 3, 384, 640)\n",
            "\n",
            "0: 384x640 2 peoples, 2 forks, 3 spoons, 2 cups, 1 kettle, 1 basket, 1 salad, 1 ribs, 1 Caesar, 1 fish, 1 soup, 1 borsch, 1 phone, 16.1ms\n",
            "Speed: 3.7ms preprocess, 16.1ms inference, 2.1ms postprocess per image at shape (1, 3, 384, 640)\n",
            "\n",
            "0: 384x640 2 peoples, 2 forks, 3 spoons, 2 cups, 1 kettle, 1 basket, 1 salad, 1 ribs, 1 Caesar, 1 fish, 1 soup, 1 borsch, 1 phone, 16.2ms\n",
            "Speed: 6.8ms preprocess, 16.2ms inference, 2.3ms postprocess per image at shape (1, 3, 384, 640)\n",
            "\n",
            "0: 384x640 2 peoples, 2 forks, 3 spoons, 2 cups, 1 kettle, 1 basket, 1 salad, 1 ribs, 1 Caesar, 1 fish, 1 soup, 1 borsch, 1 phone, 15.9ms\n",
            "Speed: 3.7ms preprocess, 15.9ms inference, 2.3ms postprocess per image at shape (1, 3, 384, 640)\n",
            "\n",
            "0: 384x640 2 peoples, 2 forks, 3 spoons, 2 cups, 1 kettle, 1 basket, 1 salad, 1 ribs, 1 Caesar, 1 fish, 1 soup, 1 borsch, 1 phone, 15.7ms\n",
            "Speed: 6.7ms preprocess, 15.7ms inference, 2.4ms postprocess per image at shape (1, 3, 384, 640)\n",
            "\n",
            "0: 384x640 2 peoples, 2 forks, 3 spoons, 2 cups, 1 kettle, 1 basket, 1 salad, 1 ribs, 1 Caesar, 1 fish, 1 soup, 1 borsch, 1 phone, 16.5ms\n",
            "Speed: 4.6ms preprocess, 16.5ms inference, 2.2ms postprocess per image at shape (1, 3, 384, 640)\n",
            "\n",
            "0: 384x640 2 peoples, 2 forks, 3 spoons, 2 cups, 1 kettle, 1 basket, 1 salad, 1 ribs, 1 Caesar, 1 fish, 1 soup, 1 borsch, 1 phone, 16.5ms\n",
            "Speed: 11.1ms preprocess, 16.5ms inference, 2.2ms postprocess per image at shape (1, 3, 384, 640)\n",
            "\n",
            "0: 384x640 2 peoples, 2 forks, 3 spoons, 2 cups, 1 kettle, 1 basket, 1 salad, 1 ribs, 1 Caesar, 1 fish, 1 soup, 1 borsch, 1 phone, 21.8ms\n",
            "Speed: 4.2ms preprocess, 21.8ms inference, 2.4ms postprocess per image at shape (1, 3, 384, 640)\n",
            "\n",
            "0: 384x640 2 peoples, 2 forks, 3 spoons, 2 cups, 1 kettle, 1 basket, 1 salad, 1 ribs, 1 Caesar, 1 fish, 2 soups, 1 borsch, 1 phone, 16.3ms\n",
            "Speed: 3.7ms preprocess, 16.3ms inference, 2.3ms postprocess per image at shape (1, 3, 384, 640)\n",
            "\n",
            "0: 384x640 2 peoples, 2 forks, 3 spoons, 2 cups, 1 kettle, 1 basket, 1 salad, 1 ribs, 1 Caesar, 1 fish, 1 soup, 1 borsch, 1 phone, 15.6ms\n",
            "Speed: 4.3ms preprocess, 15.6ms inference, 2.3ms postprocess per image at shape (1, 3, 384, 640)\n",
            "\n",
            "0: 384x640 2 peoples, 2 forks, 3 spoons, 2 cups, 1 kettle, 1 basket, 1 salad, 1 ribs, 1 Caesar, 1 fish, 1 soup, 1 borsch, 1 phone, 15.5ms\n",
            "Speed: 11.7ms preprocess, 15.5ms inference, 2.3ms postprocess per image at shape (1, 3, 384, 640)\n",
            "\n",
            "0: 384x640 2 peoples, 2 forks, 3 spoons, 2 cups, 1 kettle, 1 basket, 1 salad, 1 ribs, 1 Caesar, 1 fish, 1 soup, 1 borsch, 1 phone, 13.9ms\n",
            "Speed: 3.9ms preprocess, 13.9ms inference, 2.0ms postprocess per image at shape (1, 3, 384, 640)\n",
            "\n",
            "0: 384x640 2 peoples, 2 forks, 3 spoons, 2 cups, 1 kettle, 1 basket, 1 salad, 1 ribs, 1 Caesar, 1 fish, 2 soups, 1 borsch, 1 phone, 31.7ms\n",
            "Speed: 9.8ms preprocess, 31.7ms inference, 2.2ms postprocess per image at shape (1, 3, 384, 640)\n",
            "\n",
            "0: 384x640 2 peoples, 2 forks, 3 spoons, 2 cups, 1 kettle, 1 basket, 1 salad, 1 ribs, 1 Caesar, 1 fish, 1 soup, 1 borsch, 1 phone, 37.1ms\n",
            "Speed: 8.2ms preprocess, 37.1ms inference, 2.4ms postprocess per image at shape (1, 3, 384, 640)\n",
            "\n",
            "0: 384x640 2 peoples, 2 forks, 3 spoons, 2 cups, 1 kettle, 1 basket, 1 salad, 1 ribs, 1 Caesar, 1 fish, 1 soup, 1 borsch, 1 phone, 28.0ms\n",
            "Speed: 5.7ms preprocess, 28.0ms inference, 9.2ms postprocess per image at shape (1, 3, 384, 640)\n",
            "\n",
            "0: 384x640 2 peoples, 2 forks, 3 spoons, 2 cups, 1 kettle, 1 basket, 1 salad, 1 ribs, 1 Caesar, 1 fish, 1 soup, 1 borsch, 1 phone, 26.5ms\n",
            "Speed: 3.7ms preprocess, 26.5ms inference, 12.1ms postprocess per image at shape (1, 3, 384, 640)\n",
            "\n",
            "0: 384x640 2 peoples, 2 forks, 3 spoons, 2 cups, 1 kettle, 1 basket, 1 salad, 1 ribs, 1 Caesar, 1 fish, 1 soup, 1 borsch, 1 phone, 23.4ms\n",
            "Speed: 11.0ms preprocess, 23.4ms inference, 1.9ms postprocess per image at shape (1, 3, 384, 640)\n",
            "\n",
            "0: 384x640 2 peoples, 2 forks, 3 spoons, 2 cups, 1 kettle, 1 basket, 1 salad, 1 ribs, 1 Caesar, 1 fish, 1 soup, 1 borsch, 1 phone, 29.0ms\n",
            "Speed: 15.0ms preprocess, 29.0ms inference, 8.3ms postprocess per image at shape (1, 3, 384, 640)\n",
            "\n",
            "0: 384x640 2 peoples, 2 forks, 3 spoons, 2 cups, 1 kettle, 1 basket, 1 salad, 1 ribs, 1 Caesar, 1 fish, 1 soup, 1 borsch, 1 phone, 31.5ms\n",
            "Speed: 9.7ms preprocess, 31.5ms inference, 6.1ms postprocess per image at shape (1, 3, 384, 640)\n",
            "\n",
            "0: 384x640 2 peoples, 2 forks, 3 spoons, 2 cups, 1 kettle, 1 basket, 1 salad, 1 ribs, 1 Caesar, 1 fish, 1 soup, 1 borsch, 1 phone, 38.4ms\n",
            "Speed: 7.3ms preprocess, 38.4ms inference, 2.5ms postprocess per image at shape (1, 3, 384, 640)\n",
            "\n",
            "0: 384x640 2 peoples, 2 forks, 3 spoons, 2 cups, 1 kettle, 1 basket, 1 salad, 1 ribs, 1 Caesar, 1 fish, 1 soup, 1 borsch, 1 phone, 15.3ms\n",
            "Speed: 3.3ms preprocess, 15.3ms inference, 2.0ms postprocess per image at shape (1, 3, 384, 640)\n",
            "\n",
            "0: 384x640 2 peoples, 2 forks, 3 spoons, 2 cups, 1 kettle, 1 basket, 1 salad, 1 ribs, 1 Caesar, 1 fish, 1 soup, 1 borsch, 1 phone, 21.0ms\n",
            "Speed: 3.8ms preprocess, 21.0ms inference, 2.2ms postprocess per image at shape (1, 3, 384, 640)\n",
            "\n",
            "0: 384x640 2 peoples, 2 forks, 3 spoons, 2 cups, 1 kettle, 1 basket, 1 salad, 1 ribs, 1 Caesar, 1 fish, 1 soup, 1 borsch, 1 phone, 27.6ms\n",
            "Speed: 4.6ms preprocess, 27.6ms inference, 2.8ms postprocess per image at shape (1, 3, 384, 640)\n",
            "\n",
            "0: 384x640 2 peoples, 2 forks, 3 spoons, 2 cups, 1 kettle, 1 basket, 1 salad, 1 ribs, 1 Caesar, 1 fish, 1 soup, 1 borsch, 1 phone, 16.2ms\n",
            "Speed: 8.0ms preprocess, 16.2ms inference, 2.3ms postprocess per image at shape (1, 3, 384, 640)\n",
            "\n",
            "0: 384x640 2 peoples, 2 forks, 3 spoons, 2 cups, 1 kettle, 1 basket, 1 salad, 1 ribs, 1 Caesar, 1 fish, 1 soup, 1 borsch, 1 phone, 16.4ms\n",
            "Speed: 3.9ms preprocess, 16.4ms inference, 2.2ms postprocess per image at shape (1, 3, 384, 640)\n",
            "\n",
            "0: 384x640 2 peoples, 2 forks, 3 spoons, 2 cups, 1 kettle, 1 basket, 1 salad, 1 ribs, 1 Caesar, 1 fish, 1 soup, 1 borsch, 1 phone, 20.8ms\n",
            "Speed: 8.1ms preprocess, 20.8ms inference, 2.3ms postprocess per image at shape (1, 3, 384, 640)\n",
            "\n",
            "0: 384x640 2 peoples, 2 forks, 3 spoons, 2 cups, 1 kettle, 1 basket, 1 salad, 1 ribs, 1 Caesar, 1 fish, 1 soup, 1 borsch, 1 phone, 28.0ms\n",
            "Speed: 6.5ms preprocess, 28.0ms inference, 2.3ms postprocess per image at shape (1, 3, 384, 640)\n",
            "\n",
            "0: 384x640 2 peoples, 2 forks, 3 spoons, 2 cups, 1 kettle, 1 basket, 1 salad, 1 ribs, 1 Caesar, 1 fish, 1 soup, 1 borsch, 1 phone, 20.9ms\n",
            "Speed: 6.7ms preprocess, 20.9ms inference, 2.3ms postprocess per image at shape (1, 3, 384, 640)\n",
            "\n",
            "0: 384x640 2 peoples, 2 forks, 3 spoons, 2 cups, 1 kettle, 1 basket, 1 salad, 1 ribs, 1 Caesar, 1 fish, 1 soup, 1 borsch, 1 phone, 15.7ms\n",
            "Speed: 6.6ms preprocess, 15.7ms inference, 2.2ms postprocess per image at shape (1, 3, 384, 640)\n",
            "\n",
            "0: 384x640 2 peoples, 2 forks, 3 spoons, 2 cups, 1 kettle, 1 basket, 1 salad, 1 ribs, 1 Caesar, 1 fish, 1 soup, 1 borsch, 1 phone, 16.5ms\n",
            "Speed: 6.4ms preprocess, 16.5ms inference, 2.2ms postprocess per image at shape (1, 3, 384, 640)\n",
            "\n",
            "0: 384x640 2 peoples, 2 forks, 3 spoons, 2 cups, 1 kettle, 1 basket, 1 salad, 1 ribs, 1 Caesar, 1 fish, 1 soup, 1 borsch, 1 phone, 35.8ms\n",
            "Speed: 3.8ms preprocess, 35.8ms inference, 2.4ms postprocess per image at shape (1, 3, 384, 640)\n",
            "\n",
            "0: 384x640 2 peoples, 2 forks, 3 spoons, 2 cups, 1 kettle, 1 basket, 1 salad, 1 ribs, 1 Caesar, 1 fish, 2 soups, 1 borsch, 1 phone, 20.2ms\n",
            "Speed: 12.0ms preprocess, 20.2ms inference, 2.6ms postprocess per image at shape (1, 3, 384, 640)\n",
            "\n",
            "0: 384x640 2 peoples, 2 forks, 3 spoons, 2 cups, 1 kettle, 1 basket, 1 salad, 1 ribs, 1 Caesar, 1 fish, 2 soups, 1 borsch, 1 phone, 18.3ms\n",
            "Speed: 3.9ms preprocess, 18.3ms inference, 2.2ms postprocess per image at shape (1, 3, 384, 640)\n",
            "\n",
            "0: 384x640 2 peoples, 2 forks, 3 spoons, 2 cups, 1 kettle, 1 basket, 1 salad, 1 ribs, 1 Caesar, 1 fish, 1 soup, 1 borsch, 1 phone, 15.6ms\n",
            "Speed: 3.8ms preprocess, 15.6ms inference, 2.2ms postprocess per image at shape (1, 3, 384, 640)\n",
            "\n",
            "0: 384x640 3 peoples, 2 forks, 3 spoons, 2 cups, 1 kettle, 1 basket, 1 salad, 1 ribs, 1 Caesar, 1 fish, 1 soup, 1 borsch, 1 phone, 21.0ms\n",
            "Speed: 3.4ms preprocess, 21.0ms inference, 2.3ms postprocess per image at shape (1, 3, 384, 640)\n",
            "\n",
            "0: 384x640 2 peoples, 2 forks, 3 spoons, 2 cups, 1 kettle, 1 basket, 1 salad, 1 ribs, 1 Caesar, 1 fish, 1 soup, 1 borsch, 1 phone, 21.8ms\n",
            "Speed: 3.7ms preprocess, 21.8ms inference, 2.3ms postprocess per image at shape (1, 3, 384, 640)\n",
            "\n",
            "0: 384x640 2 peoples, 2 forks, 3 spoons, 2 cups, 1 kettle, 1 basket, 1 salad, 1 ribs, 1 Caesar, 1 fish, 1 soup, 1 borsch, 1 phone, 20.3ms\n",
            "Speed: 3.4ms preprocess, 20.3ms inference, 1.8ms postprocess per image at shape (1, 3, 384, 640)\n",
            "\n",
            "0: 384x640 2 peoples, 2 forks, 3 spoons, 2 cups, 1 kettle, 1 basket, 1 salad, 1 ribs, 1 Caesar, 1 fish, 1 soup, 1 borsch, 1 phone, 16.3ms\n",
            "Speed: 3.8ms preprocess, 16.3ms inference, 2.3ms postprocess per image at shape (1, 3, 384, 640)\n",
            "\n",
            "0: 384x640 2 peoples, 2 forks, 3 spoons, 2 cups, 1 kettle, 1 basket, 1 salad, 1 ribs, 1 Caesar, 1 fish, 1 soup, 1 borsch, 1 phone, 15.9ms\n",
            "Speed: 3.9ms preprocess, 15.9ms inference, 2.4ms postprocess per image at shape (1, 3, 384, 640)\n",
            "\n",
            "0: 384x640 2 peoples, 2 forks, 3 spoons, 2 cups, 1 kettle, 1 basket, 1 salad, 1 ribs, 1 Caesar, 1 fish, 1 soup, 1 borsch, 1 phone, 17.8ms\n",
            "Speed: 3.7ms preprocess, 17.8ms inference, 2.2ms postprocess per image at shape (1, 3, 384, 640)\n",
            "\n",
            "0: 384x640 1 people, 2 forks, 3 spoons, 2 cups, 1 kettle, 1 basket, 1 salad, 1 ribs, 1 Caesar, 1 fish, 1 soup, 1 borsch, 1 phone, 15.7ms\n",
            "Speed: 4.2ms preprocess, 15.7ms inference, 2.2ms postprocess per image at shape (1, 3, 384, 640)\n",
            "\n",
            "0: 384x640 1 people, 2 forks, 3 spoons, 2 cups, 1 kettle, 1 basket, 1 salad, 1 ribs, 1 Caesar, 1 fish, 1 soup, 1 borsch, 27.4ms\n",
            "Speed: 4.2ms preprocess, 27.4ms inference, 2.6ms postprocess per image at shape (1, 3, 384, 640)\n",
            "\n",
            "0: 384x640 2 peoples, 2 forks, 3 spoons, 2 cups, 1 kettle, 1 basket, 1 salad, 1 ribs, 1 Caesar, 1 fish, 1 soup, 1 borsch, 1 phone, 16.0ms\n",
            "Speed: 4.3ms preprocess, 16.0ms inference, 2.3ms postprocess per image at shape (1, 3, 384, 640)\n",
            "\n",
            "0: 384x640 1 people, 2 forks, 3 spoons, 2 cups, 1 kettle, 1 basket, 1 salad, 1 ribs, 1 Caesar, 1 fish, 1 soup, 1 borsch, 1 phone, 15.9ms\n",
            "Speed: 8.2ms preprocess, 15.9ms inference, 2.4ms postprocess per image at shape (1, 3, 384, 640)\n",
            "\n",
            "0: 384x640 2 peoples, 2 forks, 3 spoons, 2 cups, 1 kettle, 1 basket, 1 salad, 1 ribs, 1 Caesar, 1 fish, 1 soup, 1 borsch, 1 phone, 21.6ms\n",
            "Speed: 3.8ms preprocess, 21.6ms inference, 2.3ms postprocess per image at shape (1, 3, 384, 640)\n",
            "\n",
            "0: 384x640 2 peoples, 2 forks, 3 spoons, 2 cups, 1 kettle, 1 basket, 1 salad, 1 ribs, 1 Caesar, 1 fish, 1 soup, 1 borsch, 16.3ms\n",
            "Speed: 3.8ms preprocess, 16.3ms inference, 2.1ms postprocess per image at shape (1, 3, 384, 640)\n",
            "\n",
            "0: 384x640 2 peoples, 2 forks, 3 spoons, 2 cups, 1 kettle, 1 basket, 1 salad, 1 ribs, 1 Caesar, 1 fish, 1 soup, 1 borsch, 29.6ms\n",
            "Speed: 3.9ms preprocess, 29.6ms inference, 2.3ms postprocess per image at shape (1, 3, 384, 640)\n",
            "\n",
            "0: 384x640 2 peoples, 2 forks, 3 spoons, 2 cups, 1 kettle, 1 basket, 1 salad, 1 ribs, 1 Caesar, 1 fish, 1 soup, 1 borsch, 1 phone, 17.0ms\n",
            "Speed: 3.8ms preprocess, 17.0ms inference, 2.2ms postprocess per image at shape (1, 3, 384, 640)\n",
            "\n",
            "0: 384x640 2 peoples, 2 forks, 3 spoons, 2 cups, 1 kettle, 1 basket, 1 salad, 1 ribs, 1 Caesar, 1 fish, 1 soup, 1 borsch, 15.8ms\n",
            "Speed: 3.8ms preprocess, 15.8ms inference, 2.2ms postprocess per image at shape (1, 3, 384, 640)\n",
            "\n",
            "0: 384x640 2 peoples, 2 forks, 3 spoons, 2 cups, 1 kettle, 1 basket, 1 salad, 1 ribs, 1 Caesar, 1 fish, 1 soup, 1 borsch, 17.1ms\n",
            "Speed: 3.6ms preprocess, 17.1ms inference, 2.3ms postprocess per image at shape (1, 3, 384, 640)\n",
            "\n",
            "0: 384x640 2 peoples, 2 forks, 3 spoons, 2 cups, 1 kettle, 1 basket, 1 salad, 1 ribs, 1 Caesar, 1 fish, 1 soup, 1 borsch, 16.6ms\n",
            "Speed: 6.1ms preprocess, 16.6ms inference, 2.8ms postprocess per image at shape (1, 3, 384, 640)\n",
            "\n",
            "0: 384x640 2 peoples, 2 forks, 3 spoons, 2 cups, 1 kettle, 1 basket, 1 salad, 1 ribs, 1 Caesar, 1 fish, 1 soup, 1 borsch, 23.8ms\n",
            "Speed: 4.7ms preprocess, 23.8ms inference, 2.3ms postprocess per image at shape (1, 3, 384, 640)\n",
            "\n",
            "0: 384x640 2 peoples, 2 forks, 3 spoons, 2 cups, 1 kettle, 1 basket, 1 salad, 1 ribs, 1 Caesar, 1 fish, 1 soup, 1 borsch, 1 phone, 14.3ms\n",
            "Speed: 3.4ms preprocess, 14.3ms inference, 3.2ms postprocess per image at shape (1, 3, 384, 640)\n",
            "\n",
            "0: 384x640 2 peoples, 2 forks, 3 spoons, 2 cups, 1 kettle, 1 basket, 1 salad, 1 ribs, 1 Caesar, 1 fish, 1 soup, 1 borsch, 1 phone, 33.1ms\n",
            "Speed: 3.8ms preprocess, 33.1ms inference, 2.9ms postprocess per image at shape (1, 3, 384, 640)\n",
            "\n",
            "0: 384x640 2 peoples, 2 forks, 3 spoons, 2 cups, 1 kettle, 1 basket, 1 salad, 1 ribs, 1 Caesar, 1 fish, 1 soup, 1 borsch, 1 phone, 25.6ms\n",
            "Speed: 10.8ms preprocess, 25.6ms inference, 2.4ms postprocess per image at shape (1, 3, 384, 640)\n",
            "\n",
            "0: 384x640 2 peoples, 2 forks, 3 spoons, 2 cups, 1 kettle, 1 basket, 1 salad, 1 ribs, 1 Caesar, 1 fish, 1 soup, 1 borsch, 1 phone, 16.3ms\n",
            "Speed: 3.9ms preprocess, 16.3ms inference, 2.2ms postprocess per image at shape (1, 3, 384, 640)\n",
            "\n",
            "0: 384x640 2 peoples, 2 forks, 3 spoons, 2 cups, 1 kettle, 1 basket, 1 salad, 1 ribs, 1 Caesar, 1 fish, 1 soup, 1 borsch, 1 phone, 17.1ms\n",
            "Speed: 3.5ms preprocess, 17.1ms inference, 2.3ms postprocess per image at shape (1, 3, 384, 640)\n",
            "\n",
            "0: 384x640 2 peoples, 2 forks, 3 spoons, 2 cups, 1 kettle, 1 basket, 1 salad, 1 ribs, 1 Caesar, 1 fish, 1 soup, 1 borsch, 1 phone, 15.9ms\n",
            "Speed: 4.8ms preprocess, 15.9ms inference, 2.4ms postprocess per image at shape (1, 3, 384, 640)\n",
            "\n",
            "0: 384x640 2 peoples, 2 forks, 3 spoons, 2 cups, 1 kettle, 1 basket, 1 salad, 1 ribs, 1 Caesar, 1 fish, 1 soup, 1 borsch, 1 phone, 24.1ms\n",
            "Speed: 3.3ms preprocess, 24.1ms inference, 2.3ms postprocess per image at shape (1, 3, 384, 640)\n",
            "\n",
            "0: 384x640 2 peoples, 2 forks, 3 spoons, 2 cups, 1 kettle, 1 basket, 1 salad, 1 ribs, 1 Caesar, 1 fish, 1 soup, 1 borsch, 1 phone, 14.6ms\n",
            "Speed: 3.6ms preprocess, 14.6ms inference, 2.2ms postprocess per image at shape (1, 3, 384, 640)\n",
            "\n",
            "0: 384x640 2 peoples, 2 forks, 3 spoons, 2 cups, 1 kettle, 1 basket, 1 salad, 1 ribs, 1 Caesar, 1 fish, 1 soup, 1 borsch, 1 phone, 14.7ms\n",
            "Speed: 3.7ms preprocess, 14.7ms inference, 2.3ms postprocess per image at shape (1, 3, 384, 640)\n",
            "\n",
            "0: 384x640 3 peoples, 2 forks, 3 spoons, 2 cups, 1 kettle, 1 basket, 1 salad, 1 ribs, 1 Caesar, 1 fish, 1 soup, 1 borsch, 1 phone, 14.1ms\n",
            "Speed: 5.4ms preprocess, 14.1ms inference, 2.1ms postprocess per image at shape (1, 3, 384, 640)\n",
            "\n",
            "0: 384x640 4 peoples, 2 forks, 3 spoons, 2 cups, 1 kettle, 1 basket, 1 salad, 1 ribs, 1 Caesar, 1 fish, 1 soup, 1 borsch, 1 phone, 13.6ms\n",
            "Speed: 5.9ms preprocess, 13.6ms inference, 2.1ms postprocess per image at shape (1, 3, 384, 640)\n",
            "\n",
            "0: 384x640 3 peoples, 2 forks, 3 spoons, 2 cups, 1 kettle, 1 basket, 1 salad, 1 ribs, 1 Caesar, 1 fish, 1 soup, 1 borsch, 1 phone, 14.7ms\n",
            "Speed: 4.1ms preprocess, 14.7ms inference, 2.2ms postprocess per image at shape (1, 3, 384, 640)\n",
            "\n",
            "0: 384x640 3 peoples, 2 forks, 3 spoons, 2 cups, 1 kettle, 1 basket, 1 salad, 1 ribs, 1 Caesar, 1 fish, 1 soup, 1 borsch, 1 phone, 15.8ms\n",
            "Speed: 3.6ms preprocess, 15.8ms inference, 2.2ms postprocess per image at shape (1, 3, 384, 640)\n",
            "\n",
            "0: 384x640 4 peoples, 2 forks, 3 spoons, 2 cups, 1 kettle, 1 basket, 1 salad, 1 ribs, 1 Caesar, 1 fish, 1 soup, 1 borsch, 1 phone, 16.5ms\n",
            "Speed: 4.7ms preprocess, 16.5ms inference, 2.2ms postprocess per image at shape (1, 3, 384, 640)\n",
            "\n",
            "0: 384x640 4 peoples, 2 forks, 3 spoons, 2 cups, 1 kettle, 1 basket, 1 salad, 1 ribs, 1 Caesar, 1 fish, 1 soup, 1 borsch, 1 phone, 17.8ms\n",
            "Speed: 3.8ms preprocess, 17.8ms inference, 4.5ms postprocess per image at shape (1, 3, 384, 640)\n",
            "\n",
            "0: 384x640 4 peoples, 2 forks, 3 spoons, 2 cups, 1 kettle, 1 basket, 1 salad, 1 ribs, 1 Caesar, 1 fish, 1 soup, 1 borsch, 1 phone, 30.3ms\n",
            "Speed: 14.0ms preprocess, 30.3ms inference, 8.4ms postprocess per image at shape (1, 3, 384, 640)\n",
            "\n",
            "0: 384x640 2 peoples, 2 forks, 2 spoons, 2 cups, 1 kettle, 1 basket, 1 salad, 1 ribs, 1 Caesar, 1 fish, 1 soup, 1 borsch, 1 phone, 36.0ms\n",
            "Speed: 3.6ms preprocess, 36.0ms inference, 5.7ms postprocess per image at shape (1, 3, 384, 640)\n",
            "\n",
            "0: 384x640 2 peoples, 2 forks, 3 spoons, 2 cups, 1 kettle, 1 basket, 1 salad, 1 ribs, 1 Caesar, 1 fish, 1 soup, 1 borsch, 1 phone, 22.4ms\n",
            "Speed: 7.7ms preprocess, 22.4ms inference, 10.2ms postprocess per image at shape (1, 3, 384, 640)\n",
            "\n",
            "0: 384x640 2 peoples, 2 forks, 3 spoons, 2 cups, 1 kettle, 1 basket, 1 salad, 1 ribs, 1 Caesar, 1 fish, 1 soup, 1 borsch, 1 phone, 26.2ms\n",
            "Speed: 3.4ms preprocess, 26.2ms inference, 8.1ms postprocess per image at shape (1, 3, 384, 640)\n",
            "\n",
            "0: 384x640 2 peoples, 2 forks, 3 spoons, 2 cups, 1 kettle, 1 basket, 1 salad, 1 ribs, 1 Caesar, 1 fish, 1 soup, 1 borsch, 1 phone, 13.7ms\n",
            "Speed: 10.3ms preprocess, 13.7ms inference, 2.1ms postprocess per image at shape (1, 3, 384, 640)\n",
            "\n",
            "0: 384x640 2 peoples, 2 forks, 3 spoons, 2 cups, 1 kettle, 1 basket, 1 salad, 1 ribs, 1 Caesar, 1 fish, 1 soup, 1 borsch, 1 phone, 30.3ms\n",
            "Speed: 4.3ms preprocess, 30.3ms inference, 8.1ms postprocess per image at shape (1, 3, 384, 640)\n",
            "\n",
            "0: 384x640 1 people, 2 forks, 3 spoons, 2 cups, 1 kettle, 1 basket, 1 salad, 1 ribs, 1 Caesar, 1 fish, 1 soup, 1 borsch, 1 phone, 29.2ms\n",
            "Speed: 6.8ms preprocess, 29.2ms inference, 4.0ms postprocess per image at shape (1, 3, 384, 640)\n",
            "\n",
            "0: 384x640 2 peoples, 2 forks, 3 spoons, 2 cups, 1 kettle, 1 basket, 1 salad, 1 ribs, 1 Caesar, 1 fish, 1 soup, 1 borsch, 1 phone, 15.7ms\n",
            "Speed: 4.3ms preprocess, 15.7ms inference, 2.2ms postprocess per image at shape (1, 3, 384, 640)\n",
            "\n",
            "0: 384x640 2 peoples, 2 forks, 3 spoons, 2 cups, 1 kettle, 1 basket, 1 salad, 1 ribs, 1 Caesar, 1 fish, 1 soup, 1 borsch, 1 phone, 15.2ms\n",
            "Speed: 4.3ms preprocess, 15.2ms inference, 2.2ms postprocess per image at shape (1, 3, 384, 640)\n",
            "\n",
            "0: 384x640 1 people, 2 forks, 3 spoons, 2 cups, 1 kettle, 1 basket, 1 salad, 1 ribs, 1 Caesar, 1 fish, 1 soup, 1 borsch, 1 phone, 16.4ms\n",
            "Speed: 13.0ms preprocess, 16.4ms inference, 2.4ms postprocess per image at shape (1, 3, 384, 640)\n",
            "\n",
            "0: 384x640 2 peoples, 2 forks, 3 spoons, 2 cups, 1 kettle, 1 basket, 1 salad, 1 ribs, 1 Caesar, 1 fish, 1 soup, 1 borsch, 1 phone, 15.0ms\n",
            "Speed: 3.7ms preprocess, 15.0ms inference, 2.1ms postprocess per image at shape (1, 3, 384, 640)\n",
            "\n",
            "0: 384x640 2 peoples, 2 forks, 3 spoons, 2 cups, 1 kettle, 1 basket, 1 salad, 1 ribs, 1 Caesar, 1 fish, 1 soup, 1 borsch, 1 phone, 16.9ms\n",
            "Speed: 4.0ms preprocess, 16.9ms inference, 2.4ms postprocess per image at shape (1, 3, 384, 640)\n",
            "\n",
            "0: 384x640 2 peoples, 2 forks, 3 spoons, 2 cups, 1 kettle, 1 basket, 1 salad, 1 ribs, 1 Caesar, 1 fish, 1 soup, 1 borsch, 1 phone, 20.4ms\n",
            "Speed: 13.9ms preprocess, 20.4ms inference, 2.2ms postprocess per image at shape (1, 3, 384, 640)\n",
            "\n",
            "0: 384x640 2 peoples, 2 forks, 3 spoons, 2 cups, 1 kettle, 1 basket, 1 salad, 1 ribs, 1 Caesar, 1 fish, 1 soup, 1 borsch, 1 phone, 15.8ms\n",
            "Speed: 3.9ms preprocess, 15.8ms inference, 2.2ms postprocess per image at shape (1, 3, 384, 640)\n",
            "\n",
            "0: 384x640 2 peoples, 2 forks, 3 spoons, 2 cups, 1 kettle, 1 basket, 1 salad, 1 ribs, 1 Caesar, 1 fish, 1 soup, 1 borsch, 1 phone, 20.8ms\n",
            "Speed: 5.9ms preprocess, 20.8ms inference, 2.4ms postprocess per image at shape (1, 3, 384, 640)\n",
            "\n",
            "0: 384x640 2 peoples, 2 forks, 3 spoons, 2 cups, 1 kettle, 1 basket, 1 salad, 1 ribs, 1 Caesar, 1 fish, 1 soup, 1 borsch, 1 phone, 15.9ms\n",
            "Speed: 3.8ms preprocess, 15.9ms inference, 2.2ms postprocess per image at shape (1, 3, 384, 640)\n",
            "\n",
            "0: 384x640 2 peoples, 2 forks, 3 spoons, 2 cups, 1 kettle, 1 basket, 1 salad, 1 ribs, 1 Caesar, 1 fish, 1 soup, 1 borsch, 1 phone, 25.1ms\n",
            "Speed: 3.3ms preprocess, 25.1ms inference, 2.2ms postprocess per image at shape (1, 3, 384, 640)\n",
            "\n",
            "0: 384x640 2 peoples, 2 forks, 3 spoons, 2 cups, 1 kettle, 1 basket, 1 salad, 1 ribs, 1 Caesar, 1 fish, 1 soup, 1 borsch, 1 phone, 15.9ms\n",
            "Speed: 4.9ms preprocess, 15.9ms inference, 2.2ms postprocess per image at shape (1, 3, 384, 640)\n",
            "\n",
            "0: 384x640 2 peoples, 2 forks, 3 spoons, 2 cups, 1 kettle, 1 basket, 1 salad, 1 ribs, 1 Caesar, 1 fish, 1 soup, 1 borsch, 1 phone, 16.8ms\n",
            "Speed: 3.9ms preprocess, 16.8ms inference, 2.3ms postprocess per image at shape (1, 3, 384, 640)\n",
            "\n",
            "0: 384x640 2 peoples, 2 forks, 3 spoons, 2 cups, 1 kettle, 1 basket, 1 salad, 1 ribs, 1 Caesar, 1 fish, 1 soup, 1 borsch, 1 phone, 25.5ms\n",
            "Speed: 4.1ms preprocess, 25.5ms inference, 2.6ms postprocess per image at shape (1, 3, 384, 640)\n",
            "\n",
            "0: 384x640 2 peoples, 2 forks, 3 spoons, 2 cups, 1 kettle, 1 basket, 1 salad, 1 ribs, 1 Caesar, 1 fish, 1 soup, 1 borsch, 1 phone, 16.5ms\n",
            "Speed: 4.1ms preprocess, 16.5ms inference, 2.3ms postprocess per image at shape (1, 3, 384, 640)\n",
            "\n",
            "0: 384x640 2 peoples, 2 forks, 3 spoons, 2 cups, 1 kettle, 1 basket, 1 salad, 1 ribs, 1 Caesar, 1 fish, 1 soup, 1 borsch, 1 phone, 24.8ms\n",
            "Speed: 3.6ms preprocess, 24.8ms inference, 2.3ms postprocess per image at shape (1, 3, 384, 640)\n",
            "\n",
            "0: 384x640 2 peoples, 2 forks, 3 spoons, 2 cups, 1 kettle, 1 basket, 1 salad, 1 ribs, 1 Caesar, 1 fish, 1 soup, 1 borsch, 1 phone, 15.3ms\n",
            "Speed: 4.4ms preprocess, 15.3ms inference, 2.3ms postprocess per image at shape (1, 3, 384, 640)\n",
            "\n",
            "0: 384x640 2 peoples, 2 forks, 3 spoons, 2 cups, 1 kettle, 1 basket, 1 salad, 1 ribs, 1 Caesar, 1 fish, 1 soup, 1 borsch, 1 phone, 16.2ms\n",
            "Speed: 4.6ms preprocess, 16.2ms inference, 2.2ms postprocess per image at shape (1, 3, 384, 640)\n",
            "\n",
            "0: 384x640 2 peoples, 2 forks, 3 spoons, 2 cups, 1 kettle, 1 basket, 1 salad, 1 ribs, 1 Caesar, 1 fish, 1 soup, 1 borsch, 1 phone, 30.7ms\n",
            "Speed: 5.7ms preprocess, 30.7ms inference, 2.4ms postprocess per image at shape (1, 3, 384, 640)\n",
            "\n",
            "0: 384x640 2 peoples, 2 forks, 3 spoons, 2 cups, 1 kettle, 1 basket, 1 salad, 1 ribs, 1 Caesar, 1 fish, 1 soup, 1 borsch, 1 phone, 15.7ms\n",
            "Speed: 4.4ms preprocess, 15.7ms inference, 2.5ms postprocess per image at shape (1, 3, 384, 640)\n",
            "\n",
            "0: 384x640 2 peoples, 2 forks, 3 spoons, 2 cups, 1 kettle, 1 basket, 1 salad, 1 ribs, 1 Caesar, 1 fish, 1 soup, 1 borsch, 1 phone, 16.4ms\n",
            "Speed: 4.4ms preprocess, 16.4ms inference, 2.0ms postprocess per image at shape (1, 3, 384, 640)\n",
            "\n",
            "0: 384x640 2 peoples, 2 forks, 3 spoons, 2 cups, 1 kettle, 1 basket, 1 salad, 1 ribs, 1 Caesar, 1 fish, 1 soup, 1 borsch, 1 phone, 16.2ms\n",
            "Speed: 4.5ms preprocess, 16.2ms inference, 2.6ms postprocess per image at shape (1, 3, 384, 640)\n",
            "\n",
            "0: 384x640 2 peoples, 2 forks, 3 spoons, 2 cups, 1 kettle, 1 basket, 1 salad, 1 ribs, 1 Caesar, 1 fish, 1 soup, 1 borsch, 1 phone, 20.4ms\n",
            "Speed: 5.5ms preprocess, 20.4ms inference, 2.3ms postprocess per image at shape (1, 3, 384, 640)\n",
            "\n",
            "0: 384x640 2 peoples, 2 forks, 3 spoons, 2 cups, 1 kettle, 1 basket, 1 salad, 1 ribs, 1 Caesar, 1 fish, 1 soup, 1 borsch, 1 phone, 23.6ms\n",
            "Speed: 3.4ms preprocess, 23.6ms inference, 2.3ms postprocess per image at shape (1, 3, 384, 640)\n",
            "\n",
            "0: 384x640 2 peoples, 2 forks, 3 spoons, 2 cups, 1 kettle, 1 basket, 1 salad, 1 ribs, 1 Caesar, 1 fish, 1 soup, 1 borsch, 1 phone, 22.8ms\n",
            "Speed: 15.7ms preprocess, 22.8ms inference, 2.6ms postprocess per image at shape (1, 3, 384, 640)\n",
            "\n",
            "0: 384x640 2 peoples, 2 forks, 3 spoons, 2 cups, 1 kettle, 1 basket, 1 salad, 1 ribs, 1 Caesar, 1 fish, 1 soup, 1 borsch, 1 phone, 15.3ms\n",
            "Speed: 4.4ms preprocess, 15.3ms inference, 2.4ms postprocess per image at shape (1, 3, 384, 640)\n",
            "\n",
            "0: 384x640 2 peoples, 2 forks, 3 spoons, 2 cups, 1 kettle, 1 basket, 1 salad, 1 ribs, 1 Caesar, 1 fish, 1 soup, 1 borsch, 1 phone, 16.2ms\n",
            "Speed: 5.8ms preprocess, 16.2ms inference, 2.4ms postprocess per image at shape (1, 3, 384, 640)\n",
            "\n",
            "0: 384x640 2 peoples, 2 forks, 3 spoons, 2 cups, 1 kettle, 1 basket, 1 salad, 1 ribs, 1 Caesar, 1 fish, 1 soup, 1 borsch, 1 phone, 16.1ms\n",
            "Speed: 4.4ms preprocess, 16.1ms inference, 2.4ms postprocess per image at shape (1, 3, 384, 640)\n",
            "\n",
            "0: 384x640 2 peoples, 2 forks, 3 spoons, 2 cups, 1 kettle, 1 basket, 1 salad, 1 ribs, 1 Caesar, 1 fish, 1 soup, 1 borsch, 1 phone, 15.0ms\n",
            "Speed: 7.7ms preprocess, 15.0ms inference, 2.1ms postprocess per image at shape (1, 3, 384, 640)\n",
            "\n",
            "0: 384x640 2 peoples, 2 forks, 3 spoons, 2 cups, 1 kettle, 1 basket, 1 salad, 1 ribs, 1 Caesar, 1 fish, 1 soup, 1 borsch, 1 phone, 14.8ms\n",
            "Speed: 4.2ms preprocess, 14.8ms inference, 1.9ms postprocess per image at shape (1, 3, 384, 640)\n",
            "\n",
            "0: 384x640 2 peoples, 2 forks, 3 spoons, 2 cups, 1 kettle, 1 basket, 1 salad, 1 ribs, 1 Caesar, 1 fish, 1 soup, 1 borsch, 1 phone, 16.4ms\n",
            "Speed: 4.3ms preprocess, 16.4ms inference, 2.2ms postprocess per image at shape (1, 3, 384, 640)\n",
            "\n",
            "0: 384x640 2 peoples, 2 forks, 3 spoons, 2 cups, 1 kettle, 1 basket, 1 salad, 1 ribs, 1 Caesar, 1 fish, 1 soup, 1 borsch, 1 phone, 15.2ms\n",
            "Speed: 4.1ms preprocess, 15.2ms inference, 2.2ms postprocess per image at shape (1, 3, 384, 640)\n",
            "\n",
            "0: 384x640 2 peoples, 2 forks, 3 spoons, 2 cups, 1 kettle, 1 basket, 1 salad, 1 ribs, 1 Caesar, 1 fish, 1 soup, 1 borsch, 1 phone, 18.8ms\n",
            "Speed: 3.8ms preprocess, 18.8ms inference, 2.3ms postprocess per image at shape (1, 3, 384, 640)\n",
            "\n",
            "0: 384x640 2 peoples, 2 forks, 3 spoons, 2 cups, 1 kettle, 1 basket, 1 salad, 1 ribs, 1 Caesar, 1 fish, 1 soup, 1 borsch, 1 phone, 21.9ms\n",
            "Speed: 4.3ms preprocess, 21.9ms inference, 2.3ms postprocess per image at shape (1, 3, 384, 640)\n",
            "\n",
            "0: 384x640 2 peoples, 2 forks, 3 spoons, 2 cups, 1 kettle, 1 basket, 1 salad, 1 ribs, 1 Caesar, 1 fish, 1 soup, 1 borsch, 1 phone, 14.0ms\n",
            "Speed: 3.5ms preprocess, 14.0ms inference, 2.3ms postprocess per image at shape (1, 3, 384, 640)\n",
            "\n",
            "0: 384x640 2 peoples, 2 forks, 3 spoons, 2 cups, 1 kettle, 1 basket, 1 salad, 1 ribs, 1 Caesar, 1 fish, 1 soup, 1 borsch, 1 phone, 15.5ms\n",
            "Speed: 3.7ms preprocess, 15.5ms inference, 2.1ms postprocess per image at shape (1, 3, 384, 640)\n",
            "\n",
            "0: 384x640 2 peoples, 2 forks, 3 spoons, 2 cups, 1 kettle, 1 basket, 1 salad, 1 ribs, 1 Caesar, 1 fish, 1 soup, 1 borsch, 1 phone, 15.3ms\n",
            "Speed: 3.6ms preprocess, 15.3ms inference, 2.3ms postprocess per image at shape (1, 3, 384, 640)\n",
            "\n",
            "0: 384x640 2 peoples, 2 forks, 3 spoons, 2 cups, 1 kettle, 1 basket, 1 salad, 1 ribs, 1 Caesar, 1 fish, 1 soup, 1 borsch, 1 phone, 19.9ms\n",
            "Speed: 3.9ms preprocess, 19.9ms inference, 2.2ms postprocess per image at shape (1, 3, 384, 640)\n",
            "\n",
            "0: 384x640 2 peoples, 2 forks, 3 spoons, 2 cups, 1 kettle, 1 basket, 1 salad, 1 ribs, 1 Caesar, 1 fish, 1 soup, 1 borsch, 1 phone, 22.5ms\n",
            "Speed: 11.8ms preprocess, 22.5ms inference, 2.4ms postprocess per image at shape (1, 3, 384, 640)\n",
            "\n",
            "0: 384x640 2 peoples, 2 forks, 3 spoons, 2 cups, 1 kettle, 1 basket, 1 salad, 1 ribs, 1 Caesar, 1 fish, 1 soup, 1 borsch, 1 phone, 16.1ms\n",
            "Speed: 3.8ms preprocess, 16.1ms inference, 2.3ms postprocess per image at shape (1, 3, 384, 640)\n",
            "\n",
            "0: 384x640 2 peoples, 2 forks, 3 spoons, 2 cups, 1 kettle, 1 basket, 1 salad, 1 ribs, 1 Caesar, 1 fish, 1 soup, 1 borsch, 1 phone, 15.7ms\n",
            "Speed: 3.9ms preprocess, 15.7ms inference, 2.2ms postprocess per image at shape (1, 3, 384, 640)\n",
            "\n",
            "0: 384x640 2 peoples, 2 forks, 3 spoons, 2 cups, 1 kettle, 1 basket, 1 salad, 1 ribs, 1 Caesar, 1 fish, 1 soup, 1 borsch, 1 phone, 15.4ms\n",
            "Speed: 3.4ms preprocess, 15.4ms inference, 2.3ms postprocess per image at shape (1, 3, 384, 640)\n",
            "\n",
            "0: 384x640 2 peoples, 2 forks, 3 spoons, 2 cups, 1 kettle, 1 basket, 1 salad, 1 ribs, 1 Caesar, 1 fish, 1 soup, 1 borsch, 1 phone, 20.0ms\n",
            "Speed: 7.0ms preprocess, 20.0ms inference, 2.4ms postprocess per image at shape (1, 3, 384, 640)\n",
            "\n",
            "0: 384x640 2 peoples, 2 forks, 2 spoons, 2 cups, 1 kettle, 1 basket, 1 salad, 1 ribs, 1 Caesar, 1 fish, 1 soup, 1 borsch, 1 phone, 35.3ms\n",
            "Speed: 3.9ms preprocess, 35.3ms inference, 2.2ms postprocess per image at shape (1, 3, 384, 640)\n",
            "\n",
            "0: 384x640 2 peoples, 2 forks, 3 spoons, 2 cups, 1 kettle, 1 basket, 1 salad, 1 ribs, 1 Caesar, 1 fish, 1 soup, 1 borsch, 1 phone, 14.4ms\n",
            "Speed: 3.7ms preprocess, 14.4ms inference, 2.3ms postprocess per image at shape (1, 3, 384, 640)\n",
            "\n",
            "0: 384x640 2 peoples, 2 forks, 3 spoons, 2 cups, 1 kettle, 1 basket, 1 salad, 1 ribs, 1 Caesar, 1 fish, 1 soup, 1 borsch, 1 phone, 15.8ms\n",
            "Speed: 6.4ms preprocess, 15.8ms inference, 2.3ms postprocess per image at shape (1, 3, 384, 640)\n",
            "\n",
            "0: 384x640 2 peoples, 2 forks, 2 spoons, 2 cups, 1 kettle, 1 basket, 1 salad, 1 ribs, 1 Caesar, 1 fish, 1 soup, 1 borsch, 1 phone, 16.8ms\n",
            "Speed: 6.7ms preprocess, 16.8ms inference, 2.2ms postprocess per image at shape (1, 3, 384, 640)\n",
            "\n",
            "0: 384x640 2 peoples, 2 forks, 2 spoons, 2 cups, 1 kettle, 1 basket, 1 salad, 1 ribs, 1 Caesar, 1 fish, 1 soup, 1 borsch, 1 phone, 34.7ms\n",
            "Speed: 6.0ms preprocess, 34.7ms inference, 2.3ms postprocess per image at shape (1, 3, 384, 640)\n",
            "\n",
            "0: 384x640 2 peoples, 2 forks, 2 spoons, 2 cups, 1 kettle, 1 basket, 1 salad, 1 ribs, 1 Caesar, 1 fish, 1 soup, 1 borsch, 1 phone, 44.1ms\n",
            "Speed: 7.5ms preprocess, 44.1ms inference, 3.0ms postprocess per image at shape (1, 3, 384, 640)\n",
            "\n",
            "0: 384x640 2 peoples, 2 forks, 2 spoons, 2 cups, 1 kettle, 1 basket, 1 salad, 1 ribs, 1 Caesar, 1 fish, 1 soup, 1 borsch, 1 phone, 24.0ms\n",
            "Speed: 6.8ms preprocess, 24.0ms inference, 2.0ms postprocess per image at shape (1, 3, 384, 640)\n",
            "\n",
            "0: 384x640 2 peoples, 2 forks, 2 spoons, 2 cups, 1 kettle, 1 basket, 1 salad, 1 ribs, 1 Caesar, 1 fish, 1 soup, 1 borsch, 1 phone, 26.8ms\n",
            "Speed: 5.1ms preprocess, 26.8ms inference, 1.9ms postprocess per image at shape (1, 3, 384, 640)\n",
            "\n",
            "0: 384x640 2 peoples, 2 forks, 2 spoons, 2 cups, 1 kettle, 1 basket, 1 salad, 1 ribs, 1 Caesar, 1 fish, 1 soup, 1 borsch, 1 phone, 27.5ms\n",
            "Speed: 3.6ms preprocess, 27.5ms inference, 1.9ms postprocess per image at shape (1, 3, 384, 640)\n",
            "\n",
            "0: 384x640 2 peoples, 2 forks, 2 spoons, 2 cups, 1 kettle, 1 basket, 1 salad, 1 ribs, 1 Caesar, 1 fish, 1 soup, 1 borsch, 1 phone, 38.4ms\n",
            "Speed: 3.6ms preprocess, 38.4ms inference, 2.5ms postprocess per image at shape (1, 3, 384, 640)\n",
            "\n",
            "0: 384x640 2 peoples, 2 forks, 2 spoons, 2 cups, 1 kettle, 1 basket, 1 salad, 1 ribs, 1 Caesar, 1 fish, 1 soup, 1 borsch, 1 phone, 34.3ms\n",
            "Speed: 3.6ms preprocess, 34.3ms inference, 2.3ms postprocess per image at shape (1, 3, 384, 640)\n",
            "\n",
            "0: 384x640 2 peoples, 2 forks, 2 spoons, 2 cups, 1 kettle, 1 basket, 1 salad, 1 ribs, 1 Caesar, 1 fish, 1 soup, 1 borsch, 1 phone, 38.0ms\n",
            "Speed: 3.4ms preprocess, 38.0ms inference, 8.4ms postprocess per image at shape (1, 3, 384, 640)\n",
            "\n",
            "0: 384x640 2 peoples, 2 forks, 2 spoons, 2 cups, 1 kettle, 1 basket, 1 salad, 1 ribs, 1 Caesar, 1 fish, 1 soup, 1 borsch, 1 phone, 16.0ms\n",
            "Speed: 11.4ms preprocess, 16.0ms inference, 2.3ms postprocess per image at shape (1, 3, 384, 640)\n",
            "\n",
            "0: 384x640 2 peoples, 2 forks, 2 spoons, 2 cups, 1 kettle, 1 basket, 1 salad, 1 ribs, 1 Caesar, 1 fish, 1 soup, 1 borsch, 1 phone, 13.4ms\n",
            "Speed: 3.4ms preprocess, 13.4ms inference, 1.9ms postprocess per image at shape (1, 3, 384, 640)\n",
            "\n",
            "0: 384x640 2 peoples, 2 forks, 2 spoons, 2 cups, 1 kettle, 1 basket, 1 salad, 1 ribs, 1 Caesar, 1 fish, 1 soup, 1 borsch, 1 phone, 19.5ms\n",
            "Speed: 8.7ms preprocess, 19.5ms inference, 2.2ms postprocess per image at shape (1, 3, 384, 640)\n",
            "\n",
            "0: 384x640 2 peoples, 2 forks, 2 spoons, 2 cups, 1 kettle, 1 basket, 1 salad, 1 ribs, 1 Caesar, 1 fish, 1 soup, 1 borsch, 1 phone, 43.9ms\n",
            "Speed: 9.3ms preprocess, 43.9ms inference, 2.6ms postprocess per image at shape (1, 3, 384, 640)\n",
            "\n",
            "0: 384x640 2 peoples, 2 forks, 2 spoons, 2 cups, 1 kettle, 1 basket, 1 salad, 1 ribs, 1 Caesar, 1 fish, 1 soup, 1 borsch, 1 phone, 14.1ms\n",
            "Speed: 4.5ms preprocess, 14.1ms inference, 2.1ms postprocess per image at shape (1, 3, 384, 640)\n",
            "\n",
            "0: 384x640 2 peoples, 2 forks, 2 spoons, 2 cups, 1 kettle, 1 basket, 1 salad, 1 ribs, 1 Caesar, 1 fish, 1 soup, 1 borsch, 1 phone, 29.7ms\n",
            "Speed: 7.0ms preprocess, 29.7ms inference, 4.4ms postprocess per image at shape (1, 3, 384, 640)\n",
            "\n",
            "0: 384x640 2 peoples, 2 forks, 2 spoons, 2 cups, 1 kettle, 1 basket, 1 salad, 1 ribs, 1 Caesar, 1 fish, 1 soup, 1 borsch, 1 phone, 14.8ms\n",
            "Speed: 4.2ms preprocess, 14.8ms inference, 2.2ms postprocess per image at shape (1, 3, 384, 640)\n",
            "\n",
            "0: 384x640 2 peoples, 2 forks, 2 spoons, 2 cups, 1 kettle, 1 basket, 1 salad, 1 ribs, 1 Caesar, 1 fish, 1 soup, 1 borsch, 1 phone, 17.4ms\n",
            "Speed: 4.0ms preprocess, 17.4ms inference, 2.3ms postprocess per image at shape (1, 3, 384, 640)\n",
            "\n",
            "0: 384x640 2 peoples, 2 forks, 2 spoons, 2 cups, 1 kettle, 1 basket, 1 salad, 1 ribs, 1 Caesar, 1 fish, 1 soup, 1 borsch, 1 phone, 22.4ms\n",
            "Speed: 3.5ms preprocess, 22.4ms inference, 2.4ms postprocess per image at shape (1, 3, 384, 640)\n",
            "\n",
            "0: 384x640 2 peoples, 2 forks, 2 spoons, 2 cups, 1 kettle, 1 basket, 1 salad, 1 ribs, 1 Caesar, 1 fish, 1 soup, 1 borsch, 1 phone, 16.8ms\n",
            "Speed: 3.8ms preprocess, 16.8ms inference, 2.2ms postprocess per image at shape (1, 3, 384, 640)\n",
            "\n",
            "0: 384x640 2 peoples, 2 forks, 2 spoons, 2 cups, 1 kettle, 1 basket, 1 salad, 1 ribs, 1 Caesar, 1 fish, 1 soup, 1 borsch, 1 phone, 16.5ms\n",
            "Speed: 6.4ms preprocess, 16.5ms inference, 2.3ms postprocess per image at shape (1, 3, 384, 640)\n",
            "\n",
            "0: 384x640 2 peoples, 2 forks, 2 spoons, 2 cups, 1 kettle, 1 basket, 1 salad, 1 ribs, 1 Caesar, 1 fish, 1 soup, 1 borsch, 1 phone, 16.9ms\n",
            "Speed: 3.8ms preprocess, 16.9ms inference, 2.2ms postprocess per image at shape (1, 3, 384, 640)\n",
            "\n",
            "0: 384x640 2 peoples, 2 forks, 2 spoons, 2 cups, 1 kettle, 1 basket, 1 salad, 1 ribs, 1 Caesar, 1 fish, 1 soup, 1 borsch, 1 phone, 29.1ms\n",
            "Speed: 9.8ms preprocess, 29.1ms inference, 2.2ms postprocess per image at shape (1, 3, 384, 640)\n",
            "\n",
            "0: 384x640 2 peoples, 2 forks, 2 spoons, 2 cups, 1 kettle, 1 basket, 1 salad, 1 ribs, 1 Caesar, 1 fish, 1 soup, 1 borsch, 1 phone, 26.3ms\n",
            "Speed: 5.8ms preprocess, 26.3ms inference, 7.2ms postprocess per image at shape (1, 3, 384, 640)\n",
            "\n",
            "0: 384x640 2 peoples, 2 forks, 2 spoons, 2 cups, 1 kettle, 1 basket, 1 salad, 1 ribs, 1 Caesar, 1 fish, 1 soup, 1 borsch, 1 phone, 18.6ms\n",
            "Speed: 8.8ms preprocess, 18.6ms inference, 2.3ms postprocess per image at shape (1, 3, 384, 640)\n",
            "\n",
            "0: 384x640 2 peoples, 2 forks, 2 spoons, 2 cups, 1 kettle, 1 basket, 1 salad, 1 ribs, 1 Caesar, 1 fish, 1 soup, 1 borsch, 1 phone, 16.4ms\n",
            "Speed: 3.7ms preprocess, 16.4ms inference, 2.1ms postprocess per image at shape (1, 3, 384, 640)\n",
            "\n",
            "0: 384x640 2 peoples, 2 forks, 2 spoons, 2 cups, 1 kettle, 1 basket, 1 salad, 1 ribs, 1 Caesar, 1 fish, 1 soup, 1 borsch, 1 phone, 16.0ms\n",
            "Speed: 3.5ms preprocess, 16.0ms inference, 2.4ms postprocess per image at shape (1, 3, 384, 640)\n",
            "\n",
            "0: 384x640 2 peoples, 2 forks, 2 spoons, 2 cups, 1 kettle, 1 basket, 1 salad, 1 ribs, 1 Caesar, 1 fish, 1 soup, 1 borsch, 1 phone, 23.6ms\n",
            "Speed: 3.9ms preprocess, 23.6ms inference, 2.3ms postprocess per image at shape (1, 3, 384, 640)\n",
            "\n",
            "0: 384x640 2 peoples, 2 forks, 2 spoons, 2 cups, 1 kettle, 1 basket, 1 salad, 1 ribs, 1 Caesar, 1 fish, 1 soup, 1 borsch, 1 phone, 20.5ms\n",
            "Speed: 3.7ms preprocess, 20.5ms inference, 2.3ms postprocess per image at shape (1, 3, 384, 640)\n",
            "\n",
            "0: 384x640 2 peoples, 2 forks, 2 spoons, 2 cups, 1 kettle, 1 basket, 1 salad, 1 ribs, 1 Caesar, 1 fish, 1 soup, 1 borsch, 1 phone, 16.3ms\n",
            "Speed: 3.6ms preprocess, 16.3ms inference, 2.3ms postprocess per image at shape (1, 3, 384, 640)\n",
            "\n",
            "0: 384x640 2 peoples, 2 forks, 2 spoons, 2 cups, 1 kettle, 1 basket, 1 salad, 1 ribs, 1 Caesar, 1 fish, 1 soup, 1 borsch, 1 phone, 17.4ms\n",
            "Speed: 3.7ms preprocess, 17.4ms inference, 2.3ms postprocess per image at shape (1, 3, 384, 640)\n",
            "\n",
            "0: 384x640 2 peoples, 2 forks, 2 spoons, 2 cups, 1 kettle, 1 basket, 1 salad, 1 ribs, 1 Caesar, 1 fish, 1 soup, 1 borsch, 1 phone, 24.3ms\n",
            "Speed: 3.6ms preprocess, 24.3ms inference, 2.3ms postprocess per image at shape (1, 3, 384, 640)\n",
            "\n",
            "0: 384x640 2 peoples, 2 forks, 2 spoons, 2 cups, 1 kettle, 1 basket, 1 salad, 1 ribs, 1 Caesar, 1 fish, 1 soup, 1 borsch, 1 phone, 23.1ms\n",
            "Speed: 11.8ms preprocess, 23.1ms inference, 2.3ms postprocess per image at shape (1, 3, 384, 640)\n",
            "\n",
            "0: 384x640 2 peoples, 2 forks, 2 spoons, 2 cups, 1 kettle, 1 basket, 1 salad, 1 ribs, 1 Caesar, 1 fish, 1 soup, 1 borsch, 1 phone, 14.1ms\n",
            "Speed: 4.4ms preprocess, 14.1ms inference, 2.0ms postprocess per image at shape (1, 3, 384, 640)\n",
            "\n",
            "0: 384x640 2 peoples, 2 forks, 2 spoons, 2 cups, 1 kettle, 1 basket, 1 salad, 1 ribs, 1 Caesar, 1 fish, 1 soup, 1 borsch, 1 phone, 19.9ms\n",
            "Speed: 4.6ms preprocess, 19.9ms inference, 2.4ms postprocess per image at shape (1, 3, 384, 640)\n",
            "\n",
            "0: 384x640 2 peoples, 2 forks, 2 spoons, 2 cups, 1 kettle, 1 basket, 1 salad, 1 ribs, 1 Caesar, 1 fish, 1 soup, 1 borsch, 1 phone, 22.3ms\n",
            "Speed: 4.5ms preprocess, 22.3ms inference, 2.2ms postprocess per image at shape (1, 3, 384, 640)\n",
            "\n",
            "0: 384x640 2 peoples, 2 forks, 2 spoons, 2 cups, 1 kettle, 1 basket, 1 salad, 1 ribs, 1 Caesar, 1 fish, 1 soup, 1 borsch, 1 phone, 15.6ms\n",
            "Speed: 4.3ms preprocess, 15.6ms inference, 2.3ms postprocess per image at shape (1, 3, 384, 640)\n",
            "\n",
            "0: 384x640 2 peoples, 2 forks, 2 spoons, 2 cups, 1 kettle, 1 basket, 1 salad, 1 ribs, 1 Caesar, 1 fish, 1 soup, 1 borsch, 1 phone, 16.4ms\n",
            "Speed: 4.5ms preprocess, 16.4ms inference, 2.4ms postprocess per image at shape (1, 3, 384, 640)\n",
            "\n",
            "0: 384x640 2 peoples, 2 forks, 2 spoons, 2 cups, 1 kettle, 1 basket, 1 salad, 1 ribs, 1 Caesar, 1 fish, 1 soup, 1 borsch, 1 phone, 15.9ms\n",
            "Speed: 4.2ms preprocess, 15.9ms inference, 2.2ms postprocess per image at shape (1, 3, 384, 640)\n",
            "\n",
            "0: 384x640 2 peoples, 2 forks, 2 spoons, 2 cups, 1 kettle, 1 basket, 1 salad, 1 ribs, 1 Caesar, 1 fish, 1 soup, 1 borsch, 1 phone, 13.5ms\n",
            "Speed: 7.5ms preprocess, 13.5ms inference, 1.9ms postprocess per image at shape (1, 3, 384, 640)\n",
            "\n",
            "0: 384x640 2 peoples, 2 forks, 2 spoons, 2 cups, 1 kettle, 1 basket, 1 salad, 1 ribs, 1 Caesar, 1 fish, 2 soups, 1 borsch, 1 phone, 15.4ms\n",
            "Speed: 12.4ms preprocess, 15.4ms inference, 2.2ms postprocess per image at shape (1, 3, 384, 640)\n",
            "\n",
            "0: 384x640 2 peoples, 2 forks, 2 spoons, 2 cups, 1 kettle, 1 basket, 1 salad, 1 ribs, 1 Caesar, 1 fish, 2 soups, 1 borsch, 1 phone, 15.2ms\n",
            "Speed: 4.4ms preprocess, 15.2ms inference, 2.2ms postprocess per image at shape (1, 3, 384, 640)\n",
            "\n",
            "0: 384x640 2 peoples, 2 forks, 2 spoons, 2 cups, 1 kettle, 1 basket, 1 salad, 1 ribs, 1 Caesar, 1 fish, 2 soups, 1 borsch, 1 phone, 15.4ms\n",
            "Speed: 4.2ms preprocess, 15.4ms inference, 2.3ms postprocess per image at shape (1, 3, 384, 640)\n",
            "\n",
            "0: 384x640 2 peoples, 2 forks, 2 spoons, 2 cups, 1 kettle, 1 basket, 1 salad, 1 ribs, 1 Caesar, 1 fish, 2 soups, 1 borsch, 1 phone, 24.6ms\n",
            "Speed: 8.0ms preprocess, 24.6ms inference, 10.8ms postprocess per image at shape (1, 3, 384, 640)\n",
            "\n",
            "0: 384x640 2 peoples, 2 forks, 2 spoons, 2 cups, 1 kettle, 1 basket, 1 salad, 1 ribs, 1 Caesar, 1 fish, 2 soups, 1 borsch, 1 phone, 15.8ms\n",
            "Speed: 3.7ms preprocess, 15.8ms inference, 2.2ms postprocess per image at shape (1, 3, 384, 640)\n",
            "\n",
            "0: 384x640 2 peoples, 2 forks, 2 spoons, 2 cups, 1 kettle, 1 basket, 1 salad, 1 ribs, 1 Caesar, 1 fish, 2 soups, 1 borsch, 1 phone, 20.4ms\n",
            "Speed: 3.5ms preprocess, 20.4ms inference, 2.3ms postprocess per image at shape (1, 3, 384, 640)\n",
            "\n",
            "0: 384x640 2 peoples, 2 forks, 2 spoons, 2 cups, 1 kettle, 1 basket, 1 salad, 1 ribs, 1 Caesar, 1 fish, 2 soups, 1 borsch, 1 phone, 16.2ms\n",
            "Speed: 3.7ms preprocess, 16.2ms inference, 2.0ms postprocess per image at shape (1, 3, 384, 640)\n",
            "\n",
            "0: 384x640 2 peoples, 2 forks, 2 spoons, 2 cups, 1 kettle, 1 basket, 1 salad, 1 ribs, 1 Caesar, 1 fish, 2 soups, 1 borsch, 1 phone, 22.2ms\n",
            "Speed: 3.7ms preprocess, 22.2ms inference, 2.1ms postprocess per image at shape (1, 3, 384, 640)\n",
            "\n",
            "0: 384x640 2 peoples, 2 forks, 2 spoons, 2 cups, 1 kettle, 1 basket, 1 salad, 1 ribs, 1 Caesar, 1 fish, 2 soups, 1 borsch, 1 phone, 31.6ms\n",
            "Speed: 8.9ms preprocess, 31.6ms inference, 2.7ms postprocess per image at shape (1, 3, 384, 640)\n",
            "\n",
            "0: 384x640 2 peoples, 2 forks, 2 spoons, 2 cups, 1 kettle, 1 basket, 1 salad, 1 ribs, 1 Caesar, 1 fish, 2 soups, 1 borsch, 1 phone, 22.0ms\n",
            "Speed: 3.5ms preprocess, 22.0ms inference, 2.4ms postprocess per image at shape (1, 3, 384, 640)\n",
            "\n",
            "0: 384x640 2 peoples, 2 forks, 2 spoons, 2 cups, 1 kettle, 1 basket, 1 salad, 1 ribs, 1 Caesar, 1 fish, 2 soups, 1 borsch, 1 phone, 21.2ms\n",
            "Speed: 11.4ms preprocess, 21.2ms inference, 2.4ms postprocess per image at shape (1, 3, 384, 640)\n",
            "\n",
            "0: 384x640 2 peoples, 2 forks, 2 spoons, 2 cups, 1 kettle, 1 basket, 1 salad, 1 ribs, 1 Caesar, 1 fish, 2 soups, 1 borsch, 1 phone, 33.6ms\n",
            "Speed: 3.7ms preprocess, 33.6ms inference, 2.2ms postprocess per image at shape (1, 3, 384, 640)\n",
            "\n",
            "0: 384x640 2 peoples, 2 forks, 2 spoons, 2 cups, 1 kettle, 1 basket, 1 salad, 1 ribs, 1 Caesar, 1 fish, 2 soups, 1 borsch, 1 phone, 24.4ms\n",
            "Speed: 3.4ms preprocess, 24.4ms inference, 2.2ms postprocess per image at shape (1, 3, 384, 640)\n",
            "\n",
            "0: 384x640 1 people, 2 forks, 2 spoons, 2 cups, 1 kettle, 1 basket, 1 salad, 1 ribs, 1 Caesar, 1 fish, 2 soups, 1 borsch, 1 phone, 22.4ms\n",
            "Speed: 3.6ms preprocess, 22.4ms inference, 2.3ms postprocess per image at shape (1, 3, 384, 640)\n",
            "\n",
            "0: 384x640 1 people, 2 forks, 2 spoons, 2 cups, 1 kettle, 1 basket, 1 salad, 1 ribs, 1 Caesar, 1 fish, 2 soups, 1 borsch, 1 phone, 15.3ms\n",
            "Speed: 3.8ms preprocess, 15.3ms inference, 2.2ms postprocess per image at shape (1, 3, 384, 640)\n",
            "\n",
            "0: 384x640 1 people, 2 forks, 2 spoons, 2 cups, 1 kettle, 1 basket, 1 salad, 1 ribs, 1 Caesar, 1 fish, 2 soups, 1 borsch, 1 phone, 14.4ms\n",
            "Speed: 3.4ms preprocess, 14.4ms inference, 2.3ms postprocess per image at shape (1, 3, 384, 640)\n",
            "\n",
            "0: 384x640 1 people, 2 forks, 2 spoons, 2 cups, 1 kettle, 1 basket, 1 salad, 1 ribs, 1 Caesar, 1 fish, 2 soups, 1 borsch, 1 phone, 17.1ms\n",
            "Speed: 3.9ms preprocess, 17.1ms inference, 1.9ms postprocess per image at shape (1, 3, 384, 640)\n",
            "\n",
            "0: 384x640 2 peoples, 2 forks, 2 spoons, 2 cups, 1 kettle, 1 basket, 1 salad, 1 ribs, 1 Caesar, 1 fish, 2 soups, 1 borsch, 1 phone, 36.1ms\n",
            "Speed: 9.4ms preprocess, 36.1ms inference, 2.4ms postprocess per image at shape (1, 3, 384, 640)\n",
            "\n",
            "0: 384x640 2 peoples, 2 forks, 2 spoons, 2 cups, 1 kettle, 1 basket, 1 salad, 1 ribs, 1 Caesar, 1 fish, 2 soups, 1 borsch, 1 phone, 24.6ms\n",
            "Speed: 8.7ms preprocess, 24.6ms inference, 2.0ms postprocess per image at shape (1, 3, 384, 640)\n",
            "\n",
            "0: 384x640 1 people, 2 forks, 2 spoons, 2 cups, 1 kettle, 1 basket, 1 salad, 1 ribs, 1 Caesar, 1 fish, 2 soups, 1 borsch, 1 phone, 32.1ms\n",
            "Speed: 3.6ms preprocess, 32.1ms inference, 2.0ms postprocess per image at shape (1, 3, 384, 640)\n",
            "\n",
            "0: 384x640 1 people, 2 forks, 2 spoons, 2 cups, 1 kettle, 1 basket, 1 salad, 1 ribs, 1 Caesar, 1 fish, 2 soups, 1 borsch, 1 phone, 33.4ms\n",
            "Speed: 3.9ms preprocess, 33.4ms inference, 1.8ms postprocess per image at shape (1, 3, 384, 640)\n",
            "\n",
            "0: 384x640 2 peoples, 2 forks, 2 spoons, 2 cups, 1 kettle, 1 basket, 1 salad, 1 ribs, 1 Caesar, 1 fish, 2 soups, 1 borsch, 1 phone, 24.2ms\n",
            "Speed: 3.4ms preprocess, 24.2ms inference, 9.0ms postprocess per image at shape (1, 3, 384, 640)\n",
            "\n",
            "0: 384x640 2 peoples, 2 forks, 2 spoons, 2 cups, 1 kettle, 1 basket, 1 salad, 1 ribs, 1 Caesar, 1 fish, 2 soups, 1 borsch, 1 phone, 55.4ms\n",
            "Speed: 9.8ms preprocess, 55.4ms inference, 10.5ms postprocess per image at shape (1, 3, 384, 640)\n",
            "\n",
            "0: 384x640 2 peoples, 2 forks, 2 spoons, 2 cups, 1 kettle, 1 basket, 1 salad, 1 ribs, 1 Caesar, 1 fish, 2 soups, 1 borsch, 1 phone, 22.3ms\n",
            "Speed: 3.5ms preprocess, 22.3ms inference, 1.9ms postprocess per image at shape (1, 3, 384, 640)\n",
            "\n",
            "0: 384x640 2 peoples, 2 forks, 2 spoons, 2 cups, 1 kettle, 1 basket, 1 salad, 1 ribs, 1 Caesar, 1 fish, 2 soups, 1 borsch, 1 phone, 38.6ms\n",
            "Speed: 3.9ms preprocess, 38.6ms inference, 5.0ms postprocess per image at shape (1, 3, 384, 640)\n",
            "\n",
            "0: 384x640 2 peoples, 2 forks, 2 spoons, 2 cups, 1 kettle, 1 basket, 1 salad, 1 ribs, 1 Caesar, 1 fish, 2 soups, 1 borsch, 1 phone, 16.5ms\n",
            "Speed: 7.5ms preprocess, 16.5ms inference, 2.4ms postprocess per image at shape (1, 3, 384, 640)\n",
            "\n",
            "0: 384x640 2 peoples, 2 forks, 2 spoons, 2 cups, 1 kettle, 1 basket, 1 salad, 1 ribs, 1 Caesar, 1 fish, 2 soups, 1 borsch, 1 phone, 25.1ms\n",
            "Speed: 7.6ms preprocess, 25.1ms inference, 2.4ms postprocess per image at shape (1, 3, 384, 640)\n",
            "\n",
            "0: 384x640 2 peoples, 2 forks, 2 spoons, 2 cups, 1 kettle, 1 basket, 1 salad, 1 ribs, 1 Caesar, 1 fish, 2 soups, 1 borsch, 1 phone, 34.9ms\n",
            "Speed: 3.6ms preprocess, 34.9ms inference, 3.9ms postprocess per image at shape (1, 3, 384, 640)\n",
            "\n",
            "0: 384x640 2 peoples, 2 forks, 2 spoons, 2 cups, 1 kettle, 1 basket, 1 salad, 1 ribs, 1 Caesar, 1 fish, 2 soups, 1 borsch, 1 phone, 20.5ms\n",
            "Speed: 3.3ms preprocess, 20.5ms inference, 2.2ms postprocess per image at shape (1, 3, 384, 640)\n",
            "\n",
            "0: 384x640 2 peoples, 2 forks, 2 spoons, 2 cups, 1 kettle, 1 basket, 1 salad, 1 ribs, 1 Caesar, 1 fish, 2 soups, 1 borsch, 1 phone, 28.8ms\n",
            "Speed: 3.9ms preprocess, 28.8ms inference, 2.3ms postprocess per image at shape (1, 3, 384, 640)\n",
            "\n",
            "0: 384x640 2 peoples, 2 forks, 2 spoons, 2 cups, 1 kettle, 1 basket, 1 salad, 1 ribs, 1 Caesar, 1 fish, 2 soups, 1 borsch, 1 phone, 18.0ms\n",
            "Speed: 4.2ms preprocess, 18.0ms inference, 2.3ms postprocess per image at shape (1, 3, 384, 640)\n",
            "\n",
            "0: 384x640 2 peoples, 2 forks, 2 spoons, 2 cups, 1 kettle, 1 basket, 1 salad, 1 ribs, 1 Caesar, 1 fish, 2 soups, 1 borsch, 1 phone, 17.1ms\n",
            "Speed: 3.5ms preprocess, 17.1ms inference, 2.2ms postprocess per image at shape (1, 3, 384, 640)\n",
            "\n",
            "0: 384x640 2 peoples, 2 forks, 2 spoons, 2 cups, 1 kettle, 1 basket, 1 salad, 1 ribs, 1 Caesar, 1 fish, 2 soups, 1 borsch, 1 phone, 25.1ms\n",
            "Speed: 10.9ms preprocess, 25.1ms inference, 2.3ms postprocess per image at shape (1, 3, 384, 640)\n",
            "\n",
            "0: 384x640 2 peoples, 2 forks, 2 spoons, 2 cups, 1 kettle, 1 basket, 1 salad, 1 ribs, 1 Caesar, 1 fish, 2 soups, 1 borsch, 1 phone, 20.2ms\n",
            "Speed: 11.8ms preprocess, 20.2ms inference, 2.3ms postprocess per image at shape (1, 3, 384, 640)\n",
            "\n",
            "0: 384x640 2 peoples, 2 forks, 2 spoons, 2 cups, 1 kettle, 1 basket, 1 salad, 1 ribs, 1 Caesar, 1 fish, 2 soups, 1 borsch, 1 phone, 29.1ms\n",
            "Speed: 8.3ms preprocess, 29.1ms inference, 8.5ms postprocess per image at shape (1, 3, 384, 640)\n",
            "\n",
            "0: 384x640 2 peoples, 2 forks, 2 spoons, 2 cups, 1 kettle, 1 basket, 1 salad, 1 ribs, 1 Caesar, 1 fish, 1 soup, 1 borsch, 1 phone, 13.7ms\n",
            "Speed: 3.4ms preprocess, 13.7ms inference, 2.0ms postprocess per image at shape (1, 3, 384, 640)\n",
            "\n",
            "0: 384x640 2 peoples, 2 forks, 2 spoons, 2 cups, 1 kettle, 1 basket, 1 salad, 1 ribs, 1 Caesar, 1 fish, 1 soup, 1 borsch, 1 phone, 16.0ms\n",
            "Speed: 10.0ms preprocess, 16.0ms inference, 2.2ms postprocess per image at shape (1, 3, 384, 640)\n",
            "\n",
            "0: 384x640 2 peoples, 2 forks, 2 spoons, 2 cups, 1 kettle, 1 basket, 1 salad, 1 ribs, 1 Caesar, 1 fish, 1 soup, 1 borsch, 1 phone, 16.7ms\n",
            "Speed: 11.3ms preprocess, 16.7ms inference, 2.2ms postprocess per image at shape (1, 3, 384, 640)\n",
            "\n",
            "0: 384x640 2 peoples, 2 forks, 2 spoons, 2 cups, 1 kettle, 1 basket, 1 salad, 1 ribs, 1 Caesar, 1 fish, 1 soup, 1 borsch, 1 phone, 17.6ms\n",
            "Speed: 10.4ms preprocess, 17.6ms inference, 2.2ms postprocess per image at shape (1, 3, 384, 640)\n",
            "\n",
            "0: 384x640 2 peoples, 2 forks, 2 spoons, 2 cups, 1 kettle, 1 basket, 1 salad, 1 ribs, 1 Caesar, 1 fish, 1 soup, 1 borsch, 1 phone, 39.5ms\n",
            "Speed: 9.7ms preprocess, 39.5ms inference, 4.3ms postprocess per image at shape (1, 3, 384, 640)\n",
            "\n",
            "0: 384x640 2 peoples, 2 forks, 2 spoons, 2 cups, 1 kettle, 1 basket, 1 salad, 1 ribs, 1 Caesar, 1 fish, 1 soup, 1 borsch, 1 phone, 15.4ms\n",
            "Speed: 10.8ms preprocess, 15.4ms inference, 2.2ms postprocess per image at shape (1, 3, 384, 640)\n",
            "\n",
            "0: 384x640 2 peoples, 2 forks, 2 spoons, 2 cups, 1 kettle, 1 basket, 1 salad, 1 ribs, 1 Caesar, 1 fish, 1 soup, 1 borsch, 1 phone, 15.6ms\n",
            "Speed: 10.4ms preprocess, 15.6ms inference, 2.2ms postprocess per image at shape (1, 3, 384, 640)\n",
            "\n",
            "0: 384x640 2 peoples, 2 forks, 2 spoons, 2 cups, 1 kettle, 1 basket, 1 salad, 1 ribs, 1 Caesar, 1 fish, 1 soup, 1 borsch, 1 phone, 16.1ms\n",
            "Speed: 11.5ms preprocess, 16.1ms inference, 2.3ms postprocess per image at shape (1, 3, 384, 640)\n",
            "\n",
            "0: 384x640 2 peoples, 2 forks, 2 spoons, 2 cups, 1 kettle, 1 basket, 1 salad, 1 ribs, 1 Caesar, 1 fish, 1 soup, 1 borsch, 1 phone, 13.8ms\n",
            "Speed: 4.2ms preprocess, 13.8ms inference, 2.3ms postprocess per image at shape (1, 3, 384, 640)\n",
            "\n",
            "0: 384x640 2 peoples, 2 forks, 2 spoons, 2 cups, 1 kettle, 1 basket, 1 salad, 1 ribs, 1 Caesar, 1 fish, 1 soup, 1 borsch, 1 phone, 38.2ms\n",
            "Speed: 5.9ms preprocess, 38.2ms inference, 2.3ms postprocess per image at shape (1, 3, 384, 640)\n",
            "\n",
            "0: 384x640 2 peoples, 2 forks, 2 spoons, 2 cups, 1 kettle, 1 basket, 1 salad, 1 ribs, 1 Caesar, 1 fish, 1 soup, 1 borsch, 1 phone, 24.8ms\n",
            "Speed: 12.0ms preprocess, 24.8ms inference, 2.2ms postprocess per image at shape (1, 3, 384, 640)\n",
            "\n",
            "0: 384x640 2 peoples, 2 forks, 2 spoons, 2 cups, 1 kettle, 1 basket, 1 salad, 1 ribs, 1 Caesar, 1 fish, 1 soup, 1 borsch, 1 phone, 18.4ms\n",
            "Speed: 3.4ms preprocess, 18.4ms inference, 2.3ms postprocess per image at shape (1, 3, 384, 640)\n",
            "\n",
            "0: 384x640 2 peoples, 2 forks, 2 spoons, 2 cups, 1 kettle, 1 basket, 1 salad, 1 ribs, 1 Caesar, 1 fish, 1 soup, 1 borsch, 1 phone, 25.7ms\n",
            "Speed: 4.5ms preprocess, 25.7ms inference, 3.5ms postprocess per image at shape (1, 3, 384, 640)\n",
            "\n",
            "0: 384x640 2 peoples, 2 forks, 2 spoons, 2 cups, 1 kettle, 1 basket, 1 salad, 1 ribs, 1 Caesar, 1 fish, 1 soup, 1 borsch, 1 phone, 16.5ms\n",
            "Speed: 4.0ms preprocess, 16.5ms inference, 2.2ms postprocess per image at shape (1, 3, 384, 640)\n",
            "\n",
            "0: 384x640 2 peoples, 2 forks, 2 spoons, 2 cups, 1 kettle, 1 basket, 1 salad, 1 ribs, 1 Caesar, 1 fish, 1 soup, 1 borsch, 1 phone, 15.0ms\n",
            "Speed: 4.2ms preprocess, 15.0ms inference, 2.1ms postprocess per image at shape (1, 3, 384, 640)\n",
            "\n",
            "0: 384x640 2 peoples, 2 forks, 2 spoons, 2 cups, 1 kettle, 1 basket, 1 salad, 1 ribs, 1 Caesar, 1 fish, 1 soup, 1 borsch, 1 phone, 14.9ms\n",
            "Speed: 4.3ms preprocess, 14.9ms inference, 2.3ms postprocess per image at shape (1, 3, 384, 640)\n",
            "\n",
            "0: 384x640 2 peoples, 2 forks, 2 spoons, 2 cups, 1 kettle, 1 basket, 1 salad, 1 ribs, 1 Caesar, 1 fish, 1 soup, 1 borsch, 1 phone, 14.8ms\n",
            "Speed: 3.6ms preprocess, 14.8ms inference, 1.9ms postprocess per image at shape (1, 3, 384, 640)\n",
            "\n",
            "0: 384x640 2 peoples, 2 forks, 2 spoons, 2 cups, 1 kettle, 1 basket, 1 salad, 1 ribs, 1 Caesar, 1 fish, 1 soup, 1 borsch, 1 phone, 16.4ms\n",
            "Speed: 4.2ms preprocess, 16.4ms inference, 2.4ms postprocess per image at shape (1, 3, 384, 640)\n",
            "\n",
            "0: 384x640 2 peoples, 2 forks, 2 spoons, 2 cups, 1 kettle, 1 basket, 1 salad, 1 ribs, 1 Caesar, 1 fish, 1 soup, 1 borsch, 1 phone, 17.3ms\n",
            "Speed: 3.8ms preprocess, 17.3ms inference, 2.3ms postprocess per image at shape (1, 3, 384, 640)\n",
            "\n",
            "0: 384x640 2 peoples, 2 forks, 2 spoons, 2 cups, 1 kettle, 1 basket, 1 salad, 1 ribs, 1 Caesar, 1 fish, 1 soup, 1 borsch, 1 phone, 15.7ms\n",
            "Speed: 3.8ms preprocess, 15.7ms inference, 3.9ms postprocess per image at shape (1, 3, 384, 640)\n",
            "\n",
            "0: 384x640 2 peoples, 2 forks, 2 spoons, 2 cups, 1 kettle, 1 basket, 1 salad, 1 ribs, 1 Caesar, 1 fish, 1 soup, 1 borsch, 1 phone, 14.6ms\n",
            "Speed: 3.9ms preprocess, 14.6ms inference, 2.1ms postprocess per image at shape (1, 3, 384, 640)\n",
            "\n",
            "0: 384x640 2 peoples, 2 forks, 2 spoons, 2 cups, 1 kettle, 1 basket, 1 salad, 1 ribs, 1 Caesar, 1 fish, 1 soup, 1 borsch, 1 phone, 20.9ms\n",
            "Speed: 4.1ms preprocess, 20.9ms inference, 2.2ms postprocess per image at shape (1, 3, 384, 640)\n",
            "\n",
            "0: 384x640 2 peoples, 2 forks, 2 spoons, 2 cups, 1 kettle, 1 basket, 1 salad, 1 ribs, 1 Caesar, 1 fish, 1 soup, 1 borsch, 1 phone, 15.8ms\n",
            "Speed: 3.8ms preprocess, 15.8ms inference, 2.3ms postprocess per image at shape (1, 3, 384, 640)\n",
            "\n",
            "0: 384x640 2 peoples, 2 forks, 2 spoons, 2 cups, 1 kettle, 1 basket, 1 salad, 1 ribs, 1 Caesar, 1 fish, 1 soup, 1 borsch, 1 phone, 17.6ms\n",
            "Speed: 4.2ms preprocess, 17.6ms inference, 2.4ms postprocess per image at shape (1, 3, 384, 640)\n",
            "\n",
            "0: 384x640 2 peoples, 2 forks, 2 spoons, 2 cups, 1 kettle, 1 basket, 1 salad, 1 ribs, 1 Caesar, 1 fish, 1 soup, 1 borsch, 1 phone, 19.6ms\n",
            "Speed: 5.7ms preprocess, 19.6ms inference, 2.5ms postprocess per image at shape (1, 3, 384, 640)\n",
            "\n",
            "0: 384x640 2 peoples, 2 forks, 2 spoons, 2 cups, 1 kettle, 1 basket, 1 salad, 1 ribs, 1 Caesar, 1 fish, 1 soup, 1 borsch, 1 phone, 19.7ms\n",
            "Speed: 4.0ms preprocess, 19.7ms inference, 2.5ms postprocess per image at shape (1, 3, 384, 640)\n",
            "\n",
            "0: 384x640 2 peoples, 2 forks, 2 spoons, 2 cups, 1 kettle, 1 basket, 1 salad, 1 ribs, 1 Caesar, 1 fish, 1 soup, 1 borsch, 1 phone, 16.4ms\n",
            "Speed: 6.5ms preprocess, 16.4ms inference, 2.4ms postprocess per image at shape (1, 3, 384, 640)\n",
            "\n",
            "0: 384x640 2 peoples, 2 forks, 2 spoons, 2 cups, 1 kettle, 1 basket, 1 salad, 1 ribs, 1 Caesar, 1 fish, 1 borsch, 1 phone, 21.9ms\n",
            "Speed: 8.0ms preprocess, 21.9ms inference, 2.5ms postprocess per image at shape (1, 3, 384, 640)\n",
            "\n",
            "0: 384x640 2 peoples, 2 forks, 2 spoons, 2 cups, 1 kettle, 1 basket, 1 salad, 1 ribs, 1 Caesar, 1 fish, 1 borsch, 1 phone, 20.7ms\n",
            "Speed: 7.9ms preprocess, 20.7ms inference, 2.3ms postprocess per image at shape (1, 3, 384, 640)\n",
            "\n",
            "0: 384x640 2 peoples, 2 forks, 2 spoons, 2 cups, 1 kettle, 1 basket, 1 salad, 1 ribs, 1 Caesar, 1 fish, 1 borsch, 1 phone, 14.7ms\n",
            "Speed: 3.6ms preprocess, 14.7ms inference, 2.2ms postprocess per image at shape (1, 3, 384, 640)\n",
            "\n",
            "0: 384x640 2 peoples, 2 forks, 2 spoons, 2 cups, 1 kettle, 1 basket, 1 salad, 1 ribs, 1 Caesar, 1 fish, 1 borsch, 1 phone, 14.9ms\n",
            "Speed: 3.4ms preprocess, 14.9ms inference, 2.2ms postprocess per image at shape (1, 3, 384, 640)\n",
            "\n",
            "0: 384x640 2 peoples, 2 forks, 2 spoons, 2 cups, 1 kettle, 1 basket, 1 salad, 1 ribs, 1 Caesar, 1 fish, 1 borsch, 1 phone, 17.3ms\n",
            "Speed: 3.5ms preprocess, 17.3ms inference, 2.4ms postprocess per image at shape (1, 3, 384, 640)\n",
            "\n",
            "0: 384x640 2 peoples, 2 forks, 2 spoons, 2 cups, 1 kettle, 1 basket, 1 salad, 1 ribs, 1 Caesar, 1 fish, 1 borsch, 1 phone, 34.4ms\n",
            "Speed: 11.7ms preprocess, 34.4ms inference, 2.3ms postprocess per image at shape (1, 3, 384, 640)\n",
            "\n",
            "0: 384x640 2 peoples, 2 forks, 2 spoons, 2 cups, 1 kettle, 1 basket, 1 salad, 1 ribs, 1 Caesar, 1 fish, 1 soup, 1 borsch, 1 phone, 15.8ms\n",
            "Speed: 3.7ms preprocess, 15.8ms inference, 2.3ms postprocess per image at shape (1, 3, 384, 640)\n",
            "\n",
            "0: 384x640 2 peoples, 2 forks, 2 spoons, 2 cups, 1 kettle, 1 basket, 1 salad, 1 ribs, 1 Caesar, 1 fish, 1 soup, 1 borsch, 1 phone, 20.3ms\n",
            "Speed: 4.4ms preprocess, 20.3ms inference, 2.3ms postprocess per image at shape (1, 3, 384, 640)\n",
            "\n",
            "0: 384x640 2 peoples, 2 forks, 2 spoons, 2 cups, 1 kettle, 1 basket, 1 salad, 1 ribs, 1 Caesar, 1 fish, 1 soup, 1 borsch, 1 phone, 16.6ms\n",
            "Speed: 3.8ms preprocess, 16.6ms inference, 2.3ms postprocess per image at shape (1, 3, 384, 640)\n",
            "\n",
            "0: 384x640 2 peoples, 2 forks, 2 spoons, 2 cups, 1 kettle, 1 basket, 1 salad, 1 ribs, 1 Caesar, 1 fish, 1 soup, 1 borsch, 1 phone, 20.0ms\n",
            "Speed: 5.7ms preprocess, 20.0ms inference, 2.3ms postprocess per image at shape (1, 3, 384, 640)\n",
            "\n",
            "0: 384x640 2 peoples, 2 forks, 2 spoons, 2 cups, 1 kettle, 1 basket, 1 salad, 1 ribs, 1 Caesar, 1 fish, 1 soup, 1 borsch, 1 phone, 32.6ms\n",
            "Speed: 11.9ms preprocess, 32.6ms inference, 4.6ms postprocess per image at shape (1, 3, 384, 640)\n",
            "\n",
            "0: 384x640 2 peoples, 2 forks, 2 spoons, 2 cups, 1 kettle, 1 basket, 1 salad, 1 ribs, 1 Caesar, 1 fish, 1 soup, 1 borsch, 1 phone, 27.2ms\n",
            "Speed: 6.9ms preprocess, 27.2ms inference, 9.0ms postprocess per image at shape (1, 3, 384, 640)\n",
            "\n",
            "0: 384x640 2 peoples, 2 forks, 2 spoons, 2 cups, 1 kettle, 1 basket, 1 salad, 1 ribs, 1 Caesar, 1 fish, 1 soup, 1 borsch, 1 phone, 24.8ms\n",
            "Speed: 8.2ms preprocess, 24.8ms inference, 2.0ms postprocess per image at shape (1, 3, 384, 640)\n",
            "\n",
            "0: 384x640 2 peoples, 2 forks, 2 spoons, 2 cups, 1 kettle, 1 basket, 1 salad, 1 ribs, 1 Caesar, 1 fish, 1 soup, 1 borsch, 1 phone, 27.7ms\n",
            "Speed: 6.1ms preprocess, 27.7ms inference, 4.0ms postprocess per image at shape (1, 3, 384, 640)\n",
            "\n",
            "0: 384x640 2 peoples, 2 forks, 2 spoons, 2 cups, 1 kettle, 1 basket, 1 salad, 1 ribs, 1 Caesar, 1 fish, 1 soup, 1 borsch, 1 phone, 24.0ms\n",
            "Speed: 3.4ms preprocess, 24.0ms inference, 2.0ms postprocess per image at shape (1, 3, 384, 640)\n",
            "\n",
            "0: 384x640 2 peoples, 2 forks, 2 spoons, 2 cups, 1 kettle, 1 basket, 1 salad, 1 ribs, 1 Caesar, 1 fish, 1 soup, 1 borsch, 1 phone, 41.2ms\n",
            "Speed: 3.5ms preprocess, 41.2ms inference, 2.6ms postprocess per image at shape (1, 3, 384, 640)\n",
            "\n",
            "0: 384x640 2 peoples, 2 forks, 2 spoons, 2 cups, 1 kettle, 1 basket, 1 salad, 1 ribs, 1 Caesar, 1 fish, 1 soup, 1 borsch, 1 phone, 27.0ms\n",
            "Speed: 3.3ms preprocess, 27.0ms inference, 2.3ms postprocess per image at shape (1, 3, 384, 640)\n",
            "\n",
            "0: 384x640 2 peoples, 2 forks, 2 spoons, 2 cups, 1 kettle, 1 basket, 1 salad, 1 ribs, 1 Caesar, 1 fish, 1 soup, 1 borsch, 1 phone, 21.8ms\n",
            "Speed: 6.6ms preprocess, 21.8ms inference, 2.3ms postprocess per image at shape (1, 3, 384, 640)\n",
            "\n",
            "0: 384x640 2 peoples, 2 forks, 2 spoons, 2 cups, 1 kettle, 1 basket, 1 salad, 1 ribs, 1 Caesar, 1 fish, 1 soup, 1 borsch, 1 phone, 15.8ms\n",
            "Speed: 4.3ms preprocess, 15.8ms inference, 2.2ms postprocess per image at shape (1, 3, 384, 640)\n",
            "\n",
            "0: 384x640 2 peoples, 2 forks, 2 spoons, 2 cups, 1 kettle, 1 basket, 1 salad, 1 ribs, 1 Caesar, 1 fish, 2 soups, 1 borsch, 1 phone, 16.0ms\n",
            "Speed: 8.2ms preprocess, 16.0ms inference, 2.4ms postprocess per image at shape (1, 3, 384, 640)\n",
            "\n",
            "0: 384x640 2 peoples, 2 forks, 2 spoons, 2 cups, 1 kettle, 1 basket, 1 salad, 1 ribs, 1 Caesar, 1 fish, 2 soups, 1 borsch, 1 phone, 15.1ms\n",
            "Speed: 4.6ms preprocess, 15.1ms inference, 2.3ms postprocess per image at shape (1, 3, 384, 640)\n",
            "\n",
            "0: 384x640 2 peoples, 2 forks, 2 spoons, 2 cups, 1 kettle, 1 basket, 1 salad, 1 ribs, 1 Caesar, 1 fish, 2 soups, 1 borsch, 1 phone, 15.4ms\n",
            "Speed: 4.8ms preprocess, 15.4ms inference, 2.1ms postprocess per image at shape (1, 3, 384, 640)\n",
            "\n",
            "0: 384x640 2 peoples, 2 forks, 2 spoons, 2 cups, 1 kettle, 1 basket, 1 salad, 1 ribs, 1 Caesar, 1 fish, 2 soups, 1 borsch, 1 phone, 16.0ms\n",
            "Speed: 4.1ms preprocess, 16.0ms inference, 2.3ms postprocess per image at shape (1, 3, 384, 640)\n",
            "\n",
            "0: 384x640 2 peoples, 2 forks, 2 spoons, 2 cups, 1 kettle, 1 basket, 1 salad, 1 ribs, 1 Caesar, 1 fish, 2 soups, 1 borsch, 1 phone, 17.6ms\n",
            "Speed: 4.0ms preprocess, 17.6ms inference, 2.5ms postprocess per image at shape (1, 3, 384, 640)\n",
            "\n",
            "0: 384x640 2 peoples, 2 forks, 2 spoons, 2 cups, 1 kettle, 1 basket, 1 salad, 1 ribs, 1 Caesar, 1 fish, 2 soups, 1 borsch, 1 phone, 18.2ms\n",
            "Speed: 4.2ms preprocess, 18.2ms inference, 2.3ms postprocess per image at shape (1, 3, 384, 640)\n",
            "\n",
            "0: 384x640 2 peoples, 2 forks, 2 spoons, 2 cups, 1 kettle, 1 basket, 1 salad, 1 ribs, 1 Caesar, 1 fish, 2 soups, 1 borsch, 1 phone, 24.0ms\n",
            "Speed: 6.9ms preprocess, 24.0ms inference, 2.2ms postprocess per image at shape (1, 3, 384, 640)\n",
            "\n",
            "0: 384x640 2 peoples, 2 forks, 2 spoons, 2 cups, 1 kettle, 1 basket, 1 salad, 1 ribs, 1 Caesar, 1 fish, 1 soup, 1 borsch, 1 phone, 17.5ms\n",
            "Speed: 7.9ms preprocess, 17.5ms inference, 2.2ms postprocess per image at shape (1, 3, 384, 640)\n",
            "\n",
            "0: 384x640 2 peoples, 2 forks, 2 spoons, 2 cups, 1 kettle, 1 basket, 1 salad, 1 ribs, 1 Caesar, 1 fish, 1 soup, 1 borsch, 1 phone, 36.3ms\n",
            "Speed: 4.0ms preprocess, 36.3ms inference, 6.4ms postprocess per image at shape (1, 3, 384, 640)\n",
            "\n",
            "0: 384x640 2 peoples, 2 forks, 2 spoons, 2 cups, 1 kettle, 1 basket, 1 salad, 1 ribs, 1 Caesar, 1 fish, 1 soup, 1 borsch, 1 phone, 14.1ms\n",
            "Speed: 3.6ms preprocess, 14.1ms inference, 2.3ms postprocess per image at shape (1, 3, 384, 640)\n",
            "\n",
            "0: 384x640 2 peoples, 2 forks, 2 spoons, 2 cups, 1 kettle, 1 basket, 1 salad, 1 ribs, 1 Caesar, 1 fish, 1 soup, 1 borsch, 1 phone, 16.5ms\n",
            "Speed: 11.9ms preprocess, 16.5ms inference, 2.2ms postprocess per image at shape (1, 3, 384, 640)\n",
            "\n",
            "0: 384x640 2 peoples, 2 forks, 2 spoons, 2 cups, 1 kettle, 1 basket, 1 salad, 1 ribs, 1 Caesar, 1 fish, 2 soups, 1 borsch, 1 phone, 16.9ms\n",
            "Speed: 4.2ms preprocess, 16.9ms inference, 2.1ms postprocess per image at shape (1, 3, 384, 640)\n",
            "\n",
            "0: 384x640 2 peoples, 2 forks, 2 spoons, 2 cups, 1 kettle, 1 basket, 1 salad, 1 ribs, 1 Caesar, 1 fish, 1 soup, 1 borsch, 1 phone, 18.0ms\n",
            "Speed: 3.8ms preprocess, 18.0ms inference, 2.2ms postprocess per image at shape (1, 3, 384, 640)\n",
            "\n",
            "0: 384x640 2 peoples, 2 forks, 2 spoons, 2 cups, 1 kettle, 1 basket, 1 salad, 1 ribs, 1 Caesar, 1 fish, 1 soup, 1 borsch, 1 phone, 15.5ms\n",
            "Speed: 4.1ms preprocess, 15.5ms inference, 2.2ms postprocess per image at shape (1, 3, 384, 640)\n",
            "\n",
            "0: 384x640 2 peoples, 2 forks, 2 spoons, 2 cups, 1 kettle, 1 basket, 1 salad, 1 ribs, 1 Caesar, 1 fish, 1 soup, 1 borsch, 1 phone, 15.2ms\n",
            "Speed: 4.4ms preprocess, 15.2ms inference, 2.1ms postprocess per image at shape (1, 3, 384, 640)\n",
            "\n",
            "0: 384x640 2 peoples, 2 forks, 2 spoons, 2 cups, 1 kettle, 1 basket, 1 salad, 1 ribs, 1 Caesar, 1 fish, 1 soup, 1 borsch, 1 phone, 15.3ms\n",
            "Speed: 4.6ms preprocess, 15.3ms inference, 2.1ms postprocess per image at shape (1, 3, 384, 640)\n",
            "\n",
            "0: 384x640 2 peoples, 2 forks, 2 spoons, 2 cups, 1 kettle, 1 basket, 1 salad, 1 ribs, 1 Caesar, 1 fish, 1 soup, 1 borsch, 1 phone, 19.8ms\n",
            "Speed: 4.3ms preprocess, 19.8ms inference, 2.2ms postprocess per image at shape (1, 3, 384, 640)\n",
            "\n",
            "0: 384x640 2 peoples, 2 forks, 2 spoons, 2 cups, 1 kettle, 1 basket, 1 salad, 1 ribs, 1 Caesar, 1 fish, 1 soup, 1 borsch, 15.2ms\n",
            "Speed: 4.2ms preprocess, 15.2ms inference, 2.4ms postprocess per image at shape (1, 3, 384, 640)\n",
            "\n",
            "0: 384x640 2 peoples, 2 forks, 2 spoons, 2 cups, 1 kettle, 1 basket, 1 salad, 1 ribs, 1 Caesar, 1 fish, 1 soup, 1 borsch, 1 phone, 15.6ms\n",
            "Speed: 3.5ms preprocess, 15.6ms inference, 2.4ms postprocess per image at shape (1, 3, 384, 640)\n",
            "\n",
            "0: 384x640 2 peoples, 2 forks, 2 spoons, 2 cups, 1 kettle, 1 basket, 1 salad, 1 ribs, 1 Caesar, 1 fish, 1 soup, 1 borsch, 1 phone, 16.7ms\n",
            "Speed: 3.8ms preprocess, 16.7ms inference, 2.1ms postprocess per image at shape (1, 3, 384, 640)\n",
            "\n",
            "0: 384x640 2 peoples, 2 forks, 2 spoons, 2 cups, 1 kettle, 1 basket, 1 salad, 1 ribs, 1 Caesar, 1 fish, 1 soup, 1 borsch, 1 phone, 14.6ms\n",
            "Speed: 3.5ms preprocess, 14.6ms inference, 2.3ms postprocess per image at shape (1, 3, 384, 640)\n",
            "\n",
            "0: 384x640 2 peoples, 2 forks, 2 spoons, 2 cups, 1 kettle, 1 basket, 1 salad, 1 ribs, 1 Caesar, 1 fish, 1 soup, 1 borsch, 1 phone, 15.7ms\n",
            "Speed: 3.7ms preprocess, 15.7ms inference, 2.3ms postprocess per image at shape (1, 3, 384, 640)\n",
            "\n",
            "0: 384x640 2 peoples, 2 forks, 2 spoons, 2 cups, 1 kettle, 1 basket, 1 salad, 1 ribs, 1 Caesar, 1 fish, 1 soup, 1 borsch, 1 phone, 19.3ms\n",
            "Speed: 4.0ms preprocess, 19.3ms inference, 2.3ms postprocess per image at shape (1, 3, 384, 640)\n",
            "\n",
            "0: 384x640 2 peoples, 2 forks, 2 spoons, 2 cups, 1 kettle, 1 basket, 1 salad, 1 ribs, 1 Caesar, 1 fish, 1 soup, 1 borsch, 1 phone, 26.2ms\n",
            "Speed: 3.8ms preprocess, 26.2ms inference, 2.4ms postprocess per image at shape (1, 3, 384, 640)\n",
            "\n",
            "0: 384x640 2 peoples, 2 forks, 2 spoons, 2 cups, 1 kettle, 1 basket, 1 salad, 1 ribs, 1 Caesar, 1 fish, 1 soup, 1 borsch, 1 phone, 15.3ms\n",
            "Speed: 6.8ms preprocess, 15.3ms inference, 2.4ms postprocess per image at shape (1, 3, 384, 640)\n",
            "\n",
            "0: 384x640 2 peoples, 2 forks, 2 spoons, 2 cups, 1 kettle, 1 basket, 1 salad, 1 ribs, 1 Caesar, 1 fish, 1 soup, 1 borsch, 1 phone, 15.6ms\n",
            "Speed: 8.7ms preprocess, 15.6ms inference, 2.3ms postprocess per image at shape (1, 3, 384, 640)\n",
            "\n",
            "0: 384x640 2 peoples, 2 forks, 2 spoons, 2 cups, 1 kettle, 1 basket, 1 salad, 1 ribs, 1 Caesar, 1 fish, 1 soup, 1 borsch, 1 phone, 15.6ms\n",
            "Speed: 13.4ms preprocess, 15.6ms inference, 2.2ms postprocess per image at shape (1, 3, 384, 640)\n",
            "\n",
            "0: 384x640 2 peoples, 2 forks, 2 spoons, 2 cups, 1 kettle, 1 basket, 1 salad, 1 ribs, 1 Caesar, 1 fish, 1 soup, 1 borsch, 1 phone, 17.9ms\n",
            "Speed: 11.5ms preprocess, 17.9ms inference, 2.3ms postprocess per image at shape (1, 3, 384, 640)\n",
            "\n",
            "0: 384x640 2 peoples, 2 forks, 2 spoons, 2 cups, 1 kettle, 1 basket, 1 salad, 1 ribs, 1 Caesar, 1 fish, 1 soup, 1 borsch, 1 phone, 15.7ms\n",
            "Speed: 10.4ms preprocess, 15.7ms inference, 2.4ms postprocess per image at shape (1, 3, 384, 640)\n",
            "\n",
            "0: 384x640 2 peoples, 2 forks, 2 spoons, 2 cups, 1 kettle, 1 basket, 1 salad, 1 ribs, 1 Caesar, 1 fish, 1 soup, 1 borsch, 1 phone, 15.0ms\n",
            "Speed: 3.8ms preprocess, 15.0ms inference, 2.2ms postprocess per image at shape (1, 3, 384, 640)\n",
            "\n",
            "0: 384x640 2 peoples, 2 forks, 2 spoons, 2 cups, 1 kettle, 1 basket, 1 salad, 1 ribs, 1 Caesar, 1 fish, 1 soup, 1 borsch, 1 phone, 14.8ms\n",
            "Speed: 3.5ms preprocess, 14.8ms inference, 2.1ms postprocess per image at shape (1, 3, 384, 640)\n",
            "\n",
            "0: 384x640 2 peoples, 2 forks, 2 spoons, 2 cups, 1 kettle, 1 basket, 1 salad, 1 ribs, 1 Caesar, 1 fish, 1 soup, 1 borsch, 1 phone, 14.4ms\n",
            "Speed: 3.6ms preprocess, 14.4ms inference, 2.1ms postprocess per image at shape (1, 3, 384, 640)\n",
            "\n",
            "0: 384x640 2 peoples, 2 forks, 2 spoons, 2 cups, 1 kettle, 1 basket, 1 salad, 1 ribs, 1 Caesar, 1 fish, 1 soup, 1 borsch, 1 phone, 15.8ms\n",
            "Speed: 6.2ms preprocess, 15.8ms inference, 2.1ms postprocess per image at shape (1, 3, 384, 640)\n",
            "\n",
            "0: 384x640 2 peoples, 2 forks, 2 spoons, 2 cups, 1 kettle, 1 basket, 1 salad, 1 ribs, 1 Caesar, 1 fish, 1 soup, 1 borsch, 1 phone, 19.2ms\n",
            "Speed: 3.7ms preprocess, 19.2ms inference, 2.4ms postprocess per image at shape (1, 3, 384, 640)\n",
            "\n",
            "0: 384x640 2 peoples, 2 forks, 2 spoons, 2 cups, 1 kettle, 1 basket, 1 salad, 1 ribs, 1 Caesar, 1 fish, 1 soup, 1 borsch, 1 phone, 17.5ms\n",
            "Speed: 3.7ms preprocess, 17.5ms inference, 2.2ms postprocess per image at shape (1, 3, 384, 640)\n",
            "\n",
            "0: 384x640 2 peoples, 2 forks, 2 spoons, 2 cups, 1 kettle, 1 basket, 1 salad, 1 ribs, 1 Caesar, 1 fish, 1 soup, 1 borsch, 1 phone, 23.6ms\n",
            "Speed: 7.7ms preprocess, 23.6ms inference, 2.3ms postprocess per image at shape (1, 3, 384, 640)\n",
            "\n",
            "0: 384x640 2 peoples, 2 forks, 2 spoons, 2 cups, 1 kettle, 1 basket, 1 salad, 1 ribs, 1 Caesar, 1 fish, 1 soup, 1 borsch, 1 phone, 29.1ms\n",
            "Speed: 6.6ms preprocess, 29.1ms inference, 2.3ms postprocess per image at shape (1, 3, 384, 640)\n",
            "\n",
            "0: 384x640 2 peoples, 2 forks, 2 spoons, 2 cups, 1 kettle, 1 basket, 1 salad, 1 ribs, 1 Caesar, 1 fish, 1 soup, 1 borsch, 1 phone, 15.5ms\n",
            "Speed: 3.5ms preprocess, 15.5ms inference, 2.1ms postprocess per image at shape (1, 3, 384, 640)\n",
            "\n",
            "0: 384x640 2 peoples, 2 forks, 3 spoons, 2 cups, 1 kettle, 1 basket, 1 salad, 1 ribs, 1 Caesar, 1 fish, 1 soup, 1 borsch, 1 phone, 14.8ms\n",
            "Speed: 3.8ms preprocess, 14.8ms inference, 2.3ms postprocess per image at shape (1, 3, 384, 640)\n",
            "\n",
            "0: 384x640 2 peoples, 2 forks, 3 spoons, 2 cups, 1 kettle, 1 basket, 1 salad, 1 ribs, 1 Caesar, 1 fish, 1 soup, 1 borsch, 1 phone, 15.1ms\n",
            "Speed: 5.8ms preprocess, 15.1ms inference, 2.2ms postprocess per image at shape (1, 3, 384, 640)\n",
            "\n",
            "0: 384x640 2 peoples, 2 forks, 3 spoons, 2 cups, 1 kettle, 1 basket, 1 salad, 1 ribs, 1 Caesar, 1 fish, 1 soup, 1 borsch, 1 phone, 17.1ms\n",
            "Speed: 3.4ms preprocess, 17.1ms inference, 2.2ms postprocess per image at shape (1, 3, 384, 640)\n",
            "\n",
            "0: 384x640 2 peoples, 2 forks, 2 spoons, 2 cups, 1 kettle, 1 basket, 1 salad, 1 ribs, 1 Caesar, 1 fish, 1 soup, 1 borsch, 1 phone, 15.0ms\n",
            "Speed: 3.4ms preprocess, 15.0ms inference, 2.2ms postprocess per image at shape (1, 3, 384, 640)\n",
            "\n",
            "0: 384x640 2 peoples, 2 forks, 2 spoons, 2 cups, 1 kettle, 1 basket, 1 salad, 1 ribs, 1 Caesar, 1 fish, 1 soup, 1 borsch, 1 phone, 15.3ms\n",
            "Speed: 3.7ms preprocess, 15.3ms inference, 2.4ms postprocess per image at shape (1, 3, 384, 640)\n",
            "\n",
            "0: 384x640 2 peoples, 2 forks, 2 spoons, 2 cups, 1 kettle, 1 basket, 1 salad, 1 ribs, 1 Caesar, 1 fish, 1 soup, 1 borsch, 1 phone, 14.2ms\n",
            "Speed: 3.4ms preprocess, 14.2ms inference, 2.0ms postprocess per image at shape (1, 3, 384, 640)\n",
            "\n",
            "0: 384x640 2 peoples, 2 forks, 2 spoons, 2 cups, 1 kettle, 1 basket, 1 salad, 1 ribs, 1 Caesar, 1 fish, 1 soup, 1 borsch, 1 phone, 21.7ms\n",
            "Speed: 3.4ms preprocess, 21.7ms inference, 2.2ms postprocess per image at shape (1, 3, 384, 640)\n",
            "\n",
            "0: 384x640 2 peoples, 2 forks, 2 spoons, 2 cups, 1 kettle, 1 basket, 1 salad, 1 ribs, 1 Caesar, 1 fish, 1 soup, 1 borsch, 1 phone, 20.8ms\n",
            "Speed: 6.6ms preprocess, 20.8ms inference, 2.3ms postprocess per image at shape (1, 3, 384, 640)\n",
            "\n",
            "0: 384x640 2 peoples, 2 forks, 2 spoons, 2 cups, 1 kettle, 1 basket, 1 salad, 1 ribs, 1 Caesar, 1 fish, 1 soup, 1 borsch, 1 phone, 31.9ms\n",
            "Speed: 3.7ms preprocess, 31.9ms inference, 2.3ms postprocess per image at shape (1, 3, 384, 640)\n",
            "\n",
            "0: 384x640 2 peoples, 2 forks, 2 spoons, 2 cups, 1 kettle, 1 basket, 1 salad, 1 ribs, 1 Caesar, 1 fish, 1 soup, 1 borsch, 1 phone, 23.3ms\n",
            "Speed: 10.5ms preprocess, 23.3ms inference, 6.2ms postprocess per image at shape (1, 3, 384, 640)\n",
            "\n",
            "0: 384x640 2 peoples, 2 forks, 2 spoons, 2 cups, 1 kettle, 1 basket, 1 salad, 1 ribs, 1 Caesar, 1 fish, 1 soup, 1 borsch, 1 phone, 36.9ms\n",
            "Speed: 3.5ms preprocess, 36.9ms inference, 2.0ms postprocess per image at shape (1, 3, 384, 640)\n",
            "\n",
            "0: 384x640 2 peoples, 2 forks, 2 spoons, 2 cups, 1 kettle, 1 basket, 1 salad, 1 ribs, 1 Caesar, 1 fish, 1 soup, 1 borsch, 1 phone, 22.7ms\n",
            "Speed: 3.7ms preprocess, 22.7ms inference, 3.2ms postprocess per image at shape (1, 3, 384, 640)\n",
            "\n",
            "0: 384x640 2 peoples, 2 forks, 2 spoons, 2 cups, 1 kettle, 1 basket, 1 salad, 1 ribs, 1 Caesar, 1 fish, 1 soup, 1 borsch, 1 phone, 37.9ms\n",
            "Speed: 3.4ms preprocess, 37.9ms inference, 2.0ms postprocess per image at shape (1, 3, 384, 640)\n",
            "\n",
            "0: 384x640 2 peoples, 2 forks, 2 spoons, 2 cups, 1 kettle, 1 basket, 1 salad, 1 ribs, 1 Caesar, 1 fish, 1 soup, 1 borsch, 1 phone, 27.9ms\n",
            "Speed: 4.7ms preprocess, 27.9ms inference, 2.2ms postprocess per image at shape (1, 3, 384, 640)\n",
            "\n",
            "0: 384x640 2 peoples, 2 forks, 2 spoons, 2 cups, 1 kettle, 1 basket, 1 salad, 1 ribs, 1 Caesar, 1 fish, 1 soup, 1 borsch, 1 phone, 36.4ms\n",
            "Speed: 8.7ms preprocess, 36.4ms inference, 2.3ms postprocess per image at shape (1, 3, 384, 640)\n",
            "\n",
            "0: 384x640 2 peoples, 2 forks, 2 spoons, 2 cups, 1 kettle, 1 basket, 1 salad, 1 ribs, 1 Caesar, 1 fish, 1 soup, 1 borsch, 1 phone, 39.1ms\n",
            "Speed: 3.6ms preprocess, 39.1ms inference, 11.4ms postprocess per image at shape (1, 3, 384, 640)\n",
            "\n",
            "0: 384x640 2 peoples, 2 forks, 2 spoons, 2 cups, 1 kettle, 1 basket, 1 salad, 1 ribs, 1 Caesar, 1 fish, 1 soup, 1 borsch, 1 phone, 17.0ms\n",
            "Speed: 6.7ms preprocess, 17.0ms inference, 2.4ms postprocess per image at shape (1, 3, 384, 640)\n",
            "\n",
            "0: 384x640 2 peoples, 2 forks, 2 spoons, 2 cups, 1 kettle, 1 basket, 1 salad, 1 ribs, 1 Caesar, 1 fish, 1 soup, 1 borsch, 1 phone, 20.8ms\n",
            "Speed: 3.8ms preprocess, 20.8ms inference, 2.3ms postprocess per image at shape (1, 3, 384, 640)\n",
            "\n",
            "0: 384x640 2 peoples, 2 forks, 2 spoons, 2 cups, 1 kettle, 1 basket, 1 salad, 1 ribs, 1 Caesar, 1 fish, 1 soup, 1 borsch, 1 phone, 15.1ms\n",
            "Speed: 8.5ms preprocess, 15.1ms inference, 2.3ms postprocess per image at shape (1, 3, 384, 640)\n",
            "\n",
            "0: 384x640 2 peoples, 2 forks, 2 spoons, 2 cups, 1 kettle, 1 basket, 1 salad, 1 ribs, 1 Caesar, 1 fish, 1 soup, 1 borsch, 1 phone, 17.9ms\n",
            "Speed: 5.0ms preprocess, 17.9ms inference, 2.5ms postprocess per image at shape (1, 3, 384, 640)\n",
            "\n",
            "0: 384x640 2 peoples, 2 forks, 2 spoons, 2 cups, 1 kettle, 1 basket, 1 salad, 1 ribs, 1 Caesar, 1 fish, 1 soup, 1 borsch, 1 phone, 15.0ms\n",
            "Speed: 4.1ms preprocess, 15.0ms inference, 2.2ms postprocess per image at shape (1, 3, 384, 640)\n",
            "\n",
            "0: 384x640 2 peoples, 2 forks, 2 spoons, 2 cups, 1 kettle, 1 basket, 1 salad, 1 ribs, 1 Caesar, 1 fish, 1 soup, 1 borsch, 1 phone, 25.4ms\n",
            "Speed: 3.9ms preprocess, 25.4ms inference, 2.3ms postprocess per image at shape (1, 3, 384, 640)\n",
            "\n",
            "0: 384x640 2 peoples, 2 forks, 2 spoons, 2 cups, 1 kettle, 1 basket, 1 salad, 1 ribs, 1 Caesar, 1 fish, 1 soup, 1 borsch, 1 phone, 13.7ms\n",
            "Speed: 3.6ms preprocess, 13.7ms inference, 2.2ms postprocess per image at shape (1, 3, 384, 640)\n",
            "\n",
            "0: 384x640 2 peoples, 2 forks, 2 spoons, 2 cups, 1 kettle, 1 basket, 1 salad, 1 ribs, 1 Caesar, 1 fish, 1 soup, 1 borsch, 1 phone, 16.2ms\n",
            "Speed: 7.9ms preprocess, 16.2ms inference, 2.4ms postprocess per image at shape (1, 3, 384, 640)\n",
            "\n",
            "0: 384x640 2 peoples, 2 forks, 2 spoons, 2 cups, 1 kettle, 1 basket, 1 salad, 1 ribs, 1 Caesar, 1 fish, 1 soup, 1 borsch, 1 phone, 14.9ms\n",
            "Speed: 3.9ms preprocess, 14.9ms inference, 2.2ms postprocess per image at shape (1, 3, 384, 640)\n",
            "\n",
            "0: 384x640 2 peoples, 2 forks, 2 spoons, 2 cups, 1 kettle, 1 basket, 1 salad, 1 ribs, 1 Caesar, 1 fish, 1 soup, 1 borsch, 1 phone, 26.6ms\n",
            "Speed: 5.4ms preprocess, 26.6ms inference, 2.4ms postprocess per image at shape (1, 3, 384, 640)\n",
            "\n",
            "0: 384x640 2 peoples, 2 forks, 2 spoons, 2 cups, 1 kettle, 1 basket, 1 salad, 1 ribs, 1 Caesar, 1 fish, 1 soup, 1 borsch, 1 phone, 14.3ms\n",
            "Speed: 4.1ms preprocess, 14.3ms inference, 2.2ms postprocess per image at shape (1, 3, 384, 640)\n",
            "\n",
            "0: 384x640 2 peoples, 2 forks, 2 spoons, 2 cups, 1 kettle, 1 basket, 1 salad, 1 ribs, 1 Caesar, 1 fish, 1 soup, 1 borsch, 1 phone, 17.1ms\n",
            "Speed: 3.9ms preprocess, 17.1ms inference, 2.2ms postprocess per image at shape (1, 3, 384, 640)\n",
            "\n",
            "0: 384x640 2 peoples, 2 forks, 2 spoons, 2 cups, 1 kettle, 1 basket, 1 salad, 1 ribs, 1 Caesar, 1 fish, 1 soup, 1 borsch, 1 phone, 15.6ms\n",
            "Speed: 4.4ms preprocess, 15.6ms inference, 2.2ms postprocess per image at shape (1, 3, 384, 640)\n",
            "\n",
            "0: 384x640 2 peoples, 2 forks, 2 spoons, 2 cups, 1 kettle, 1 basket, 1 salad, 1 ribs, 1 Caesar, 1 fish, 1 soup, 1 borsch, 1 phone, 20.8ms\n",
            "Speed: 9.9ms preprocess, 20.8ms inference, 2.3ms postprocess per image at shape (1, 3, 384, 640)\n",
            "\n",
            "0: 384x640 2 peoples, 2 forks, 2 spoons, 2 cups, 1 kettle, 1 basket, 1 salad, 1 ribs, 1 Caesar, 1 fish, 1 soup, 1 borsch, 1 phone, 21.2ms\n",
            "Speed: 7.0ms preprocess, 21.2ms inference, 2.1ms postprocess per image at shape (1, 3, 384, 640)\n",
            "\n",
            "0: 384x640 2 peoples, 2 forks, 2 spoons, 2 cups, 1 kettle, 1 basket, 1 salad, 1 ribs, 1 Caesar, 1 fish, 1 soup, 1 borsch, 1 phone, 17.5ms\n",
            "Speed: 3.5ms preprocess, 17.5ms inference, 2.1ms postprocess per image at shape (1, 3, 384, 640)\n",
            "\n",
            "0: 384x640 2 peoples, 2 forks, 2 spoons, 2 cups, 1 kettle, 1 basket, 1 salad, 1 ribs, 1 Caesar, 1 fish, 1 soup, 1 borsch, 1 phone, 18.2ms\n",
            "Speed: 8.9ms preprocess, 18.2ms inference, 2.2ms postprocess per image at shape (1, 3, 384, 640)\n",
            "\n",
            "0: 384x640 2 peoples, 2 forks, 2 spoons, 2 cups, 1 kettle, 1 basket, 1 salad, 1 ribs, 1 Caesar, 1 fish, 1 soup, 1 borsch, 1 phone, 17.0ms\n",
            "Speed: 3.6ms preprocess, 17.0ms inference, 2.2ms postprocess per image at shape (1, 3, 384, 640)\n",
            "\n",
            "0: 384x640 2 peoples, 2 forks, 3 spoons, 2 cups, 1 kettle, 1 basket, 1 salad, 1 ribs, 1 Caesar, 1 fish, 1 soup, 1 borsch, 1 phone, 15.1ms\n",
            "Speed: 3.5ms preprocess, 15.1ms inference, 2.4ms postprocess per image at shape (1, 3, 384, 640)\n",
            "\n",
            "0: 384x640 2 peoples, 2 forks, 2 spoons, 2 cups, 1 kettle, 1 basket, 1 salad, 1 ribs, 1 Caesar, 1 fish, 2 soups, 1 borsch, 1 phone, 15.5ms\n",
            "Speed: 7.3ms preprocess, 15.5ms inference, 2.4ms postprocess per image at shape (1, 3, 384, 640)\n",
            "\n",
            "0: 384x640 2 peoples, 2 forks, 3 spoons, 2 cups, 1 kettle, 1 basket, 1 salad, 1 ribs, 1 Caesar, 1 fish, 2 soups, 1 borsch, 1 phone, 17.3ms\n",
            "Speed: 3.4ms preprocess, 17.3ms inference, 2.3ms postprocess per image at shape (1, 3, 384, 640)\n",
            "\n",
            "0: 384x640 2 peoples, 2 forks, 2 spoons, 2 cups, 1 kettle, 1 basket, 1 salad, 1 ribs, 1 Caesar, 1 fish, 2 soups, 1 borsch, 1 phone, 26.0ms\n",
            "Speed: 3.3ms preprocess, 26.0ms inference, 2.2ms postprocess per image at shape (1, 3, 384, 640)\n",
            "\n",
            "0: 384x640 2 peoples, 2 forks, 2 spoons, 2 cups, 1 kettle, 1 basket, 1 salad, 1 ribs, 1 Caesar, 1 fish, 1 soup, 1 borsch, 1 phone, 14.8ms\n",
            "Speed: 3.8ms preprocess, 14.8ms inference, 2.2ms postprocess per image at shape (1, 3, 384, 640)\n",
            "\n",
            "0: 384x640 2 peoples, 2 forks, 2 spoons, 2 cups, 1 kettle, 1 basket, 1 salad, 1 ribs, 1 Caesar, 1 fish, 1 soup, 1 borsch, 1 phone, 18.2ms\n",
            "Speed: 5.8ms preprocess, 18.2ms inference, 2.2ms postprocess per image at shape (1, 3, 384, 640)\n",
            "\n",
            "0: 384x640 2 peoples, 2 forks, 2 spoons, 2 cups, 1 kettle, 1 basket, 1 salad, 1 ribs, 1 Caesar, 1 fish, 1 soup, 1 borsch, 1 phone, 17.0ms\n",
            "Speed: 3.7ms preprocess, 17.0ms inference, 2.1ms postprocess per image at shape (1, 3, 384, 640)\n",
            "\n",
            "0: 384x640 2 peoples, 2 forks, 2 spoons, 2 cups, 1 kettle, 1 basket, 1 salad, 1 ribs, 1 Caesar, 1 fish, 1 soup, 1 borsch, 1 phone, 18.7ms\n",
            "Speed: 3.8ms preprocess, 18.7ms inference, 2.3ms postprocess per image at shape (1, 3, 384, 640)\n",
            "\n",
            "0: 384x640 2 peoples, 2 forks, 2 spoons, 2 cups, 1 kettle, 1 basket, 1 salad, 1 ribs, 1 Caesar, 1 fish, 1 soup, 1 borsch, 1 phone, 16.3ms\n",
            "Speed: 5.0ms preprocess, 16.3ms inference, 2.2ms postprocess per image at shape (1, 3, 384, 640)\n",
            "\n",
            "0: 384x640 2 peoples, 2 forks, 2 spoons, 2 cups, 1 kettle, 1 basket, 1 salad, 1 ribs, 1 Caesar, 1 fish, 1 soup, 1 borsch, 1 phone, 27.8ms\n",
            "Speed: 9.8ms preprocess, 27.8ms inference, 2.4ms postprocess per image at shape (1, 3, 384, 640)\n",
            "\n",
            "0: 384x640 2 peoples, 2 forks, 2 spoons, 2 cups, 1 kettle, 1 basket, 1 salad, 1 ribs, 1 Caesar, 1 fish, 1 soup, 1 borsch, 1 phone, 15.4ms\n",
            "Speed: 3.6ms preprocess, 15.4ms inference, 2.2ms postprocess per image at shape (1, 3, 384, 640)\n",
            "\n",
            "0: 384x640 2 peoples, 2 forks, 2 spoons, 2 cups, 1 kettle, 1 basket, 1 salad, 1 ribs, 1 Caesar, 1 fish, 1 soup, 1 borsch, 1 phone, 15.7ms\n",
            "Speed: 4.2ms preprocess, 15.7ms inference, 2.3ms postprocess per image at shape (1, 3, 384, 640)\n",
            "\n",
            "0: 384x640 2 peoples, 2 forks, 2 spoons, 2 cups, 1 kettle, 1 basket, 1 salad, 1 ribs, 1 Caesar, 1 fish, 1 soup, 1 borsch, 1 phone, 15.4ms\n",
            "Speed: 5.1ms preprocess, 15.4ms inference, 2.2ms postprocess per image at shape (1, 3, 384, 640)\n",
            "\n",
            "0: 384x640 2 peoples, 2 forks, 2 spoons, 2 cups, 1 kettle, 1 basket, 1 salad, 1 ribs, 1 Caesar, 1 fish, 1 soup, 1 borsch, 1 phone, 16.1ms\n",
            "Speed: 4.9ms preprocess, 16.1ms inference, 2.2ms postprocess per image at shape (1, 3, 384, 640)\n",
            "\n",
            "0: 384x640 2 peoples, 2 forks, 2 spoons, 2 cups, 1 kettle, 1 basket, 1 salad, 1 ribs, 1 Caesar, 1 fish, 1 soup, 1 borsch, 1 phone, 14.7ms\n",
            "Speed: 10.7ms preprocess, 14.7ms inference, 2.1ms postprocess per image at shape (1, 3, 384, 640)\n",
            "\n",
            "0: 384x640 2 peoples, 2 forks, 2 spoons, 2 cups, 1 kettle, 1 basket, 1 salad, 1 ribs, 1 Caesar, 1 fish, 1 soup, 1 borsch, 1 phone, 18.0ms\n",
            "Speed: 4.2ms preprocess, 18.0ms inference, 2.3ms postprocess per image at shape (1, 3, 384, 640)\n",
            "\n",
            "0: 384x640 2 peoples, 2 forks, 2 spoons, 2 cups, 1 kettle, 1 basket, 1 salad, 1 ribs, 1 Caesar, 1 fish, 1 soup, 1 borsch, 1 phone, 13.4ms\n",
            "Speed: 8.2ms preprocess, 13.4ms inference, 1.9ms postprocess per image at shape (1, 3, 384, 640)\n",
            "\n",
            "0: 384x640 2 peoples, 2 forks, 2 spoons, 2 cups, 1 kettle, 1 basket, 1 salad, 1 ribs, 1 Caesar, 1 fish, 1 soup, 1 borsch, 1 phone, 18.2ms\n",
            "Speed: 4.1ms preprocess, 18.2ms inference, 2.1ms postprocess per image at shape (1, 3, 384, 640)\n",
            "\n",
            "0: 384x640 2 peoples, 2 forks, 2 spoons, 2 cups, 1 kettle, 1 basket, 1 salad, 1 ribs, 1 Caesar, 1 fish, 1 soup, 1 borsch, 1 phone, 16.6ms\n",
            "Speed: 3.5ms preprocess, 16.6ms inference, 2.1ms postprocess per image at shape (1, 3, 384, 640)\n",
            "\n",
            "0: 384x640 2 peoples, 2 forks, 3 spoons, 2 cups, 1 kettle, 1 basket, 1 salad, 1 ribs, 1 Caesar, 1 fish, 1 soup, 1 borsch, 1 phone, 15.5ms\n",
            "Speed: 4.3ms preprocess, 15.5ms inference, 2.1ms postprocess per image at shape (1, 3, 384, 640)\n",
            "\n",
            "0: 384x640 2 peoples, 2 forks, 3 spoons, 2 cups, 1 kettle, 1 basket, 1 salad, 1 ribs, 1 Caesar, 1 fish, 1 soup, 1 borsch, 1 phone, 13.4ms\n",
            "Speed: 4.2ms preprocess, 13.4ms inference, 2.1ms postprocess per image at shape (1, 3, 384, 640)\n",
            "\n",
            "0: 384x640 2 peoples, 2 forks, 3 spoons, 2 cups, 1 kettle, 1 basket, 1 salad, 1 ribs, 1 Caesar, 1 fish, 1 soup, 1 borsch, 1 phone, 15.0ms\n",
            "Speed: 4.1ms preprocess, 15.0ms inference, 2.2ms postprocess per image at shape (1, 3, 384, 640)\n",
            "\n",
            "0: 384x640 2 peoples, 2 forks, 3 spoons, 2 cups, 1 kettle, 1 basket, 1 salad, 1 ribs, 1 Caesar, 1 fish, 1 soup, 1 borsch, 1 phone, 15.4ms\n",
            "Speed: 3.8ms preprocess, 15.4ms inference, 2.1ms postprocess per image at shape (1, 3, 384, 640)\n",
            "\n",
            "0: 384x640 2 peoples, 2 forks, 2 spoons, 2 cups, 1 kettle, 1 basket, 1 salad, 1 ribs, 1 Caesar, 1 fish, 1 soup, 1 borsch, 1 phone, 25.6ms\n",
            "Speed: 6.1ms preprocess, 25.6ms inference, 2.2ms postprocess per image at shape (1, 3, 384, 640)\n",
            "\n",
            "0: 384x640 2 peoples, 2 forks, 3 spoons, 2 cups, 1 kettle, 1 basket, 1 salad, 1 ribs, 1 Caesar, 1 fish, 1 soup, 1 borsch, 25.0ms\n",
            "Speed: 2.9ms preprocess, 25.0ms inference, 2.3ms postprocess per image at shape (1, 3, 384, 640)\n",
            "\n",
            "0: 384x640 2 peoples, 2 forks, 3 spoons, 2 cups, 1 kettle, 1 basket, 1 salad, 1 ribs, 1 Caesar, 1 fish, 1 soup, 1 borsch, 1 phone, 25.8ms\n",
            "Speed: 9.6ms preprocess, 25.8ms inference, 2.3ms postprocess per image at shape (1, 3, 384, 640)\n",
            "\n",
            "0: 384x640 2 peoples, 2 forks, 3 spoons, 2 cups, 1 kettle, 1 basket, 1 salad, 1 ribs, 1 Caesar, 1 fish, 1 soup, 1 borsch, 30.2ms\n",
            "Speed: 11.7ms preprocess, 30.2ms inference, 4.6ms postprocess per image at shape (1, 3, 384, 640)\n",
            "\n",
            "0: 384x640 2 peoples, 2 forks, 3 spoons, 2 cups, 1 kettle, 1 basket, 1 salad, 1 ribs, 1 Caesar, 1 fish, 1 soup, 1 borsch, 1 phone, 24.4ms\n",
            "Speed: 3.9ms preprocess, 24.4ms inference, 2.2ms postprocess per image at shape (1, 3, 384, 640)\n",
            "\n",
            "0: 384x640 2 peoples, 2 forks, 3 spoons, 2 cups, 1 kettle, 1 basket, 1 salad, 1 ribs, 1 Caesar, 1 fish, 1 soup, 1 borsch, 1 phone, 15.1ms\n",
            "Speed: 3.5ms preprocess, 15.1ms inference, 2.2ms postprocess per image at shape (1, 3, 384, 640)\n",
            "\n",
            "0: 384x640 2 peoples, 2 forks, 3 spoons, 2 cups, 1 kettle, 1 basket, 1 salad, 1 ribs, 1 Caesar, 1 fish, 1 soup, 1 borsch, 1 phone, 27.5ms\n",
            "Speed: 14.2ms preprocess, 27.5ms inference, 7.2ms postprocess per image at shape (1, 3, 384, 640)\n",
            "\n",
            "0: 384x640 2 peoples, 2 forks, 3 spoons, 2 cups, 1 kettle, 1 basket, 1 salad, 1 ribs, 1 Caesar, 1 fish, 1 soup, 1 borsch, 1 phone, 33.4ms\n",
            "Speed: 3.5ms preprocess, 33.4ms inference, 6.8ms postprocess per image at shape (1, 3, 384, 640)\n",
            "\n",
            "0: 384x640 2 peoples, 2 forks, 3 spoons, 2 cups, 1 kettle, 1 basket, 1 salad, 1 ribs, 1 Caesar, 1 fish, 1 soup, 1 borsch, 1 phone, 25.5ms\n",
            "Speed: 8.8ms preprocess, 25.5ms inference, 2.4ms postprocess per image at shape (1, 3, 384, 640)\n",
            "\n",
            "0: 384x640 2 peoples, 2 forks, 3 spoons, 2 cups, 1 kettle, 1 basket, 1 salad, 1 ribs, 1 Caesar, 1 fish, 1 soup, 1 borsch, 1 phone, 28.0ms\n",
            "Speed: 7.2ms preprocess, 28.0ms inference, 2.0ms postprocess per image at shape (1, 3, 384, 640)\n",
            "\n",
            "0: 384x640 2 peoples, 2 forks, 3 spoons, 2 cups, 1 kettle, 1 basket, 1 salad, 1 ribs, 1 Caesar, 1 fish, 1 soup, 1 borsch, 1 phone, 22.9ms\n",
            "Speed: 3.6ms preprocess, 22.9ms inference, 2.0ms postprocess per image at shape (1, 3, 384, 640)\n",
            "\n",
            "0: 384x640 2 peoples, 2 forks, 3 spoons, 2 cups, 1 kettle, 1 basket, 1 salad, 1 ribs, 1 Caesar, 1 fish, 1 soup, 1 borsch, 1 phone, 28.8ms\n",
            "Speed: 7.2ms preprocess, 28.8ms inference, 6.6ms postprocess per image at shape (1, 3, 384, 640)\n",
            "\n",
            "0: 384x640 2 peoples, 2 forks, 3 spoons, 2 cups, 1 kettle, 1 basket, 1 salad, 1 ribs, 1 Caesar, 1 fish, 1 soup, 1 borsch, 1 phone, 24.7ms\n",
            "Speed: 3.6ms preprocess, 24.7ms inference, 1.8ms postprocess per image at shape (1, 3, 384, 640)\n",
            "\n",
            "0: 384x640 2 peoples, 2 forks, 2 spoons, 2 cups, 1 kettle, 1 basket, 1 salad, 1 ribs, 1 Caesar, 1 fish, 1 soup, 1 borsch, 1 phone, 25.1ms\n",
            "Speed: 3.4ms preprocess, 25.1ms inference, 2.3ms postprocess per image at shape (1, 3, 384, 640)\n",
            "\n",
            "0: 384x640 2 peoples, 2 forks, 2 spoons, 2 cups, 1 kettle, 1 basket, 1 salad, 1 ribs, 1 Caesar, 1 fish, 1 soup, 1 borsch, 1 phone, 42.8ms\n",
            "Speed: 3.4ms preprocess, 42.8ms inference, 4.6ms postprocess per image at shape (1, 3, 384, 640)\n",
            "\n",
            "0: 384x640 2 peoples, 2 forks, 2 spoons, 2 cups, 1 kettle, 1 basket, 1 salad, 1 ribs, 1 Caesar, 1 fish, 1 soup, 1 borsch, 1 phone, 30.8ms\n",
            "Speed: 4.0ms preprocess, 30.8ms inference, 2.2ms postprocess per image at shape (1, 3, 384, 640)\n",
            "\n",
            "0: 384x640 2 peoples, 2 forks, 2 spoons, 2 cups, 1 kettle, 1 basket, 1 salad, 1 ribs, 1 Caesar, 1 fish, 1 soup, 1 borsch, 1 phone, 15.4ms\n",
            "Speed: 3.8ms preprocess, 15.4ms inference, 2.2ms postprocess per image at shape (1, 3, 384, 640)\n",
            "\n",
            "0: 384x640 2 peoples, 2 forks, 2 spoons, 2 cups, 1 kettle, 1 basket, 1 salad, 1 ribs, 1 Caesar, 1 fish, 1 soup, 1 borsch, 16.2ms\n",
            "Speed: 3.8ms preprocess, 16.2ms inference, 2.2ms postprocess per image at shape (1, 3, 384, 640)\n",
            "\n",
            "0: 384x640 2 peoples, 2 forks, 2 spoons, 2 cups, 1 kettle, 1 basket, 1 salad, 1 ribs, 1 Caesar, 1 fish, 1 soup, 1 borsch, 1 phone, 15.8ms\n",
            "Speed: 3.8ms preprocess, 15.8ms inference, 2.2ms postprocess per image at shape (1, 3, 384, 640)\n",
            "\n",
            "0: 384x640 2 peoples, 2 forks, 2 spoons, 2 cups, 1 kettle, 1 basket, 1 salad, 1 ribs, 1 Caesar, 1 fish, 1 soup, 1 borsch, 1 phone, 16.5ms\n",
            "Speed: 3.8ms preprocess, 16.5ms inference, 2.2ms postprocess per image at shape (1, 3, 384, 640)\n",
            "\n",
            "0: 384x640 2 peoples, 2 forks, 2 spoons, 2 cups, 1 kettle, 1 basket, 1 salad, 1 ribs, 1 Caesar, 1 fish, 1 soup, 1 borsch, 1 phone, 23.2ms\n",
            "Speed: 5.1ms preprocess, 23.2ms inference, 5.4ms postprocess per image at shape (1, 3, 384, 640)\n",
            "\n",
            "0: 384x640 2 peoples, 2 forks, 2 spoons, 2 cups, 1 kettle, 1 basket, 1 salad, 1 ribs, 1 Caesar, 1 fish, 1 soup, 1 borsch, 1 phone, 17.1ms\n",
            "Speed: 4.1ms preprocess, 17.1ms inference, 2.2ms postprocess per image at shape (1, 3, 384, 640)\n",
            "\n",
            "0: 384x640 2 peoples, 2 forks, 2 spoons, 2 cups, 1 kettle, 1 basket, 1 salad, 1 ribs, 1 Caesar, 1 fish, 1 soup, 1 borsch, 1 phone, 23.0ms\n",
            "Speed: 3.3ms preprocess, 23.0ms inference, 2.2ms postprocess per image at shape (1, 3, 384, 640)\n",
            "\n",
            "0: 384x640 2 peoples, 2 forks, 2 spoons, 2 cups, 1 kettle, 1 basket, 1 salad, 1 ribs, 1 Caesar, 1 fish, 1 soup, 1 borsch, 1 phone, 20.6ms\n",
            "Speed: 4.2ms preprocess, 20.6ms inference, 2.2ms postprocess per image at shape (1, 3, 384, 640)\n",
            "\n",
            "0: 384x640 2 peoples, 2 forks, 2 spoons, 2 cups, 1 kettle, 1 basket, 1 salad, 1 ribs, 1 Caesar, 1 fish, 1 soup, 1 borsch, 1 phone, 17.9ms\n",
            "Speed: 3.8ms preprocess, 17.9ms inference, 2.2ms postprocess per image at shape (1, 3, 384, 640)\n",
            "\n",
            "0: 384x640 2 peoples, 2 forks, 2 spoons, 2 cups, 1 kettle, 1 basket, 1 salad, 1 ribs, 1 Caesar, 1 fish, 1 soup, 1 borsch, 1 phone, 15.9ms\n",
            "Speed: 3.8ms preprocess, 15.9ms inference, 2.2ms postprocess per image at shape (1, 3, 384, 640)\n",
            "\n",
            "0: 384x640 2 peoples, 2 forks, 2 spoons, 2 cups, 1 kettle, 1 basket, 1 salad, 1 ribs, 1 Caesar, 1 fish, 1 soup, 1 borsch, 1 phone, 17.7ms\n",
            "Speed: 3.8ms preprocess, 17.7ms inference, 2.5ms postprocess per image at shape (1, 3, 384, 640)\n",
            "\n",
            "0: 384x640 2 peoples, 2 forks, 2 spoons, 2 cups, 1 kettle, 1 basket, 1 salad, 1 ribs, 1 Caesar, 1 fish, 1 soup, 1 borsch, 1 phone, 18.6ms\n",
            "Speed: 3.9ms preprocess, 18.6ms inference, 2.2ms postprocess per image at shape (1, 3, 384, 640)\n",
            "\n",
            "0: 384x640 2 peoples, 2 forks, 2 spoons, 2 cups, 1 kettle, 1 basket, 1 salad, 1 ribs, 1 Caesar, 1 fish, 1 soup, 1 borsch, 1 phone, 27.7ms\n",
            "Speed: 11.7ms preprocess, 27.7ms inference, 2.6ms postprocess per image at shape (1, 3, 384, 640)\n",
            "\n",
            "0: 384x640 1 people, 2 forks, 2 spoons, 2 cups, 1 kettle, 1 basket, 1 salad, 1 ribs, 1 Caesar, 1 fish, 1 soup, 1 borsch, 1 phone, 15.1ms\n",
            "Speed: 3.9ms preprocess, 15.1ms inference, 2.2ms postprocess per image at shape (1, 3, 384, 640)\n",
            "\n",
            "0: 384x640 2 peoples, 2 forks, 2 spoons, 2 cups, 1 kettle, 1 basket, 1 salad, 1 ribs, 1 Caesar, 1 fish, 1 soup, 1 borsch, 1 phone, 16.6ms\n",
            "Speed: 3.7ms preprocess, 16.6ms inference, 2.1ms postprocess per image at shape (1, 3, 384, 640)\n",
            "\n",
            "0: 384x640 2 peoples, 2 forks, 2 spoons, 2 cups, 1 kettle, 1 basket, 1 salad, 1 ribs, 1 Caesar, 1 fish, 1 soup, 1 borsch, 1 phone, 26.8ms\n",
            "Speed: 3.3ms preprocess, 26.8ms inference, 2.1ms postprocess per image at shape (1, 3, 384, 640)\n",
            "\n",
            "0: 384x640 2 peoples, 2 forks, 2 spoons, 2 cups, 1 kettle, 1 basket, 1 salad, 1 ribs, 1 Caesar, 1 fish, 1 soup, 1 borsch, 1 phone, 15.5ms\n",
            "Speed: 4.8ms preprocess, 15.5ms inference, 2.2ms postprocess per image at shape (1, 3, 384, 640)\n",
            "\n",
            "0: 384x640 2 peoples, 2 forks, 2 spoons, 2 cups, 1 kettle, 1 basket, 1 salad, 1 ribs, 1 Caesar, 1 fish, 1 soup, 1 borsch, 1 phone, 16.2ms\n",
            "Speed: 4.6ms preprocess, 16.2ms inference, 2.4ms postprocess per image at shape (1, 3, 384, 640)\n",
            "\n",
            "0: 384x640 2 peoples, 2 forks, 2 spoons, 2 cups, 1 kettle, 1 basket, 1 salad, 1 ribs, 1 Caesar, 1 fish, 1 soup, 1 borsch, 1 phone, 17.2ms\n",
            "Speed: 3.7ms preprocess, 17.2ms inference, 2.3ms postprocess per image at shape (1, 3, 384, 640)\n",
            "\n",
            "0: 384x640 2 peoples, 2 forks, 2 spoons, 2 cups, 1 kettle, 1 basket, 1 salad, 1 ribs, 1 Caesar, 1 fish, 1 soup, 1 borsch, 1 phone, 25.3ms\n",
            "Speed: 3.7ms preprocess, 25.3ms inference, 2.3ms postprocess per image at shape (1, 3, 384, 640)\n",
            "\n",
            "0: 384x640 2 peoples, 2 forks, 2 spoons, 2 cups, 1 kettle, 1 basket, 1 salad, 1 ribs, 1 Caesar, 1 fish, 1 soup, 1 borsch, 1 phone, 15.5ms\n",
            "Speed: 4.0ms preprocess, 15.5ms inference, 2.2ms postprocess per image at shape (1, 3, 384, 640)\n",
            "\n",
            "0: 384x640 2 peoples, 2 forks, 2 spoons, 2 cups, 1 kettle, 1 basket, 1 salad, 1 ribs, 1 Caesar, 1 fish, 1 soup, 1 borsch, 1 phone, 14.8ms\n",
            "Speed: 4.2ms preprocess, 14.8ms inference, 2.2ms postprocess per image at shape (1, 3, 384, 640)\n",
            "\n",
            "0: 384x640 2 peoples, 2 forks, 2 spoons, 2 cups, 1 kettle, 1 basket, 1 salad, 1 ribs, 1 Caesar, 1 fish, 1 soup, 1 borsch, 1 phone, 15.8ms\n",
            "Speed: 4.3ms preprocess, 15.8ms inference, 2.3ms postprocess per image at shape (1, 3, 384, 640)\n",
            "\n",
            "0: 384x640 2 peoples, 2 forks, 2 spoons, 2 cups, 1 kettle, 1 basket, 1 salad, 1 ribs, 1 Caesar, 1 fish, 1 soup, 1 borsch, 1 phone, 15.5ms\n",
            "Speed: 5.3ms preprocess, 15.5ms inference, 2.2ms postprocess per image at shape (1, 3, 384, 640)\n",
            "\n",
            "0: 384x640 2 peoples, 2 forks, 2 spoons, 2 cups, 1 kettle, 1 basket, 1 salad, 1 ribs, 1 Caesar, 1 fish, 1 soup, 1 borsch, 1 phone, 13.8ms\n",
            "Speed: 3.4ms preprocess, 13.8ms inference, 1.9ms postprocess per image at shape (1, 3, 384, 640)\n",
            "\n",
            "0: 384x640 2 peoples, 2 forks, 2 spoons, 2 cups, 1 kettle, 1 basket, 1 salad, 1 ribs, 1 Caesar, 1 fish, 1 soup, 1 borsch, 1 phone, 15.8ms\n",
            "Speed: 8.5ms preprocess, 15.8ms inference, 2.3ms postprocess per image at shape (1, 3, 384, 640)\n",
            "\n",
            "0: 384x640 2 peoples, 2 forks, 2 spoons, 2 cups, 1 kettle, 1 basket, 1 salad, 1 ribs, 1 Caesar, 1 fish, 1 soup, 1 borsch, 1 phone, 14.6ms\n",
            "Speed: 3.6ms preprocess, 14.6ms inference, 2.2ms postprocess per image at shape (1, 3, 384, 640)\n",
            "\n",
            "0: 384x640 2 peoples, 2 forks, 2 spoons, 2 cups, 1 kettle, 1 basket, 1 salad, 1 ribs, 1 Caesar, 1 fish, 1 soup, 1 borsch, 1 phone, 15.7ms\n",
            "Speed: 3.6ms preprocess, 15.7ms inference, 2.9ms postprocess per image at shape (1, 3, 384, 640)\n",
            "\n",
            "0: 384x640 2 peoples, 2 forks, 2 spoons, 2 cups, 1 kettle, 1 basket, 1 salad, 1 ribs, 1 Caesar, 1 fish, 1 soup, 1 borsch, 1 phone, 14.8ms\n",
            "Speed: 3.8ms preprocess, 14.8ms inference, 1.9ms postprocess per image at shape (1, 3, 384, 640)\n",
            "\n",
            "0: 384x640 2 peoples, 2 forks, 2 spoons, 2 cups, 1 kettle, 1 basket, 1 salad, 1 ribs, 1 Caesar, 1 fish, 1 soup, 1 borsch, 1 phone, 16.0ms\n",
            "Speed: 10.3ms preprocess, 16.0ms inference, 2.3ms postprocess per image at shape (1, 3, 384, 640)\n",
            "\n",
            "0: 384x640 2 peoples, 2 forks, 2 spoons, 2 cups, 1 kettle, 1 basket, 1 salad, 1 ribs, 1 Caesar, 1 fish, 1 soup, 1 borsch, 1 phone, 21.8ms\n",
            "Speed: 7.2ms preprocess, 21.8ms inference, 2.3ms postprocess per image at shape (1, 3, 384, 640)\n",
            "\n",
            "0: 384x640 2 peoples, 2 forks, 2 spoons, 2 cups, 1 kettle, 1 basket, 1 salad, 1 ribs, 1 Caesar, 1 fish, 1 soup, 1 borsch, 1 phone, 14.2ms\n",
            "Speed: 3.8ms preprocess, 14.2ms inference, 2.1ms postprocess per image at shape (1, 3, 384, 640)\n",
            "\n",
            "0: 384x640 2 peoples, 2 forks, 2 spoons, 2 cups, 1 kettle, 1 basket, 1 salad, 1 ribs, 1 Caesar, 1 fish, 1 soup, 1 borsch, 1 phone, 15.6ms\n",
            "Speed: 3.7ms preprocess, 15.6ms inference, 2.4ms postprocess per image at shape (1, 3, 384, 640)\n",
            "\n",
            "0: 384x640 2 peoples, 2 forks, 2 spoons, 2 cups, 1 kettle, 1 basket, 1 salad, 1 ribs, 1 Caesar, 1 fish, 2 soups, 1 borsch, 1 phone, 15.1ms\n",
            "Speed: 4.3ms preprocess, 15.1ms inference, 2.4ms postprocess per image at shape (1, 3, 384, 640)\n",
            "\n",
            "0: 384x640 2 peoples, 2 forks, 2 spoons, 2 cups, 1 kettle, 1 basket, 1 salad, 1 ribs, 1 Caesar, 1 fish, 1 soup, 1 borsch, 1 phone, 15.2ms\n",
            "Speed: 3.3ms preprocess, 15.2ms inference, 2.3ms postprocess per image at shape (1, 3, 384, 640)\n",
            "\n",
            "0: 384x640 2 peoples, 2 forks, 2 spoons, 2 cups, 1 kettle, 1 basket, 1 salad, 1 ribs, 1 Caesar, 1 fish, 2 soups, 1 borsch, 1 phone, 18.7ms\n",
            "Speed: 3.1ms preprocess, 18.7ms inference, 2.1ms postprocess per image at shape (1, 3, 384, 640)\n",
            "\n",
            "0: 384x640 2 peoples, 2 forks, 2 spoons, 2 cups, 1 kettle, 1 basket, 1 salad, 1 ribs, 1 Caesar, 1 fish, 2 soups, 1 borsch, 1 phone, 27.4ms\n",
            "Speed: 12.9ms preprocess, 27.4ms inference, 2.2ms postprocess per image at shape (1, 3, 384, 640)\n",
            "\n",
            "0: 384x640 2 peoples, 2 forks, 2 spoons, 2 cups, 1 kettle, 1 basket, 1 salad, 1 ribs, 1 Caesar, 1 fish, 2 soups, 1 borsch, 1 phone, 15.5ms\n",
            "Speed: 5.7ms preprocess, 15.5ms inference, 2.3ms postprocess per image at shape (1, 3, 384, 640)\n",
            "\n",
            "0: 384x640 2 peoples, 2 forks, 2 spoons, 2 cups, 1 kettle, 1 basket, 1 salad, 1 ribs, 1 Caesar, 1 fish, 1 soup, 1 borsch, 1 phone, 16.3ms\n",
            "Speed: 4.1ms preprocess, 16.3ms inference, 2.3ms postprocess per image at shape (1, 3, 384, 640)\n",
            "\n",
            "0: 384x640 2 peoples, 2 forks, 2 spoons, 2 cups, 1 kettle, 1 basket, 1 salad, 1 ribs, 1 Caesar, 1 fish, 1 soup, 1 borsch, 1 phone, 19.6ms\n",
            "Speed: 3.8ms preprocess, 19.6ms inference, 2.4ms postprocess per image at shape (1, 3, 384, 640)\n",
            "\n",
            "0: 384x640 2 peoples, 2 forks, 2 spoons, 2 cups, 1 kettle, 1 basket, 1 salad, 1 ribs, 1 Caesar, 1 fish, 2 soups, 1 borsch, 1 phone, 14.0ms\n",
            "Speed: 3.3ms preprocess, 14.0ms inference, 1.9ms postprocess per image at shape (1, 3, 384, 640)\n",
            "\n",
            "0: 384x640 2 peoples, 2 forks, 2 spoons, 2 cups, 1 kettle, 1 basket, 1 salad, 1 ribs, 1 Caesar, 1 fish, 2 soups, 1 borsch, 1 phone, 14.4ms\n",
            "Speed: 3.6ms preprocess, 14.4ms inference, 2.2ms postprocess per image at shape (1, 3, 384, 640)\n",
            "\n",
            "0: 384x640 2 peoples, 2 forks, 2 spoons, 2 cups, 1 kettle, 1 basket, 1 salad, 1 ribs, 1 Caesar, 1 fish, 2 soups, 1 borsch, 1 phone, 14.3ms\n",
            "Speed: 3.5ms preprocess, 14.3ms inference, 2.2ms postprocess per image at shape (1, 3, 384, 640)\n",
            "\n",
            "0: 384x640 2 peoples, 2 forks, 2 spoons, 2 cups, 1 kettle, 1 basket, 1 salad, 1 ribs, 1 Caesar, 1 fish, 2 soups, 1 borsch, 1 phone, 15.5ms\n",
            "Speed: 10.8ms preprocess, 15.5ms inference, 2.3ms postprocess per image at shape (1, 3, 384, 640)\n",
            "\n",
            "0: 384x640 2 peoples, 2 forks, 2 spoons, 2 cups, 1 kettle, 1 basket, 1 salad, 1 ribs, 1 Caesar, 1 fish, 2 soups, 1 borsch, 1 phone, 15.5ms\n",
            "Speed: 10.3ms preprocess, 15.5ms inference, 2.3ms postprocess per image at shape (1, 3, 384, 640)\n",
            "\n",
            "0: 384x640 2 peoples, 2 forks, 2 spoons, 2 cups, 1 kettle, 1 basket, 1 salad, 1 ribs, 1 Caesar, 1 fish, 2 soups, 1 borsch, 1 phone, 19.9ms\n",
            "Speed: 11.5ms preprocess, 19.9ms inference, 2.3ms postprocess per image at shape (1, 3, 384, 640)\n",
            "\n",
            "0: 384x640 2 peoples, 2 forks, 2 spoons, 2 cups, 1 kettle, 1 basket, 1 salad, 1 ribs, 1 Caesar, 1 fish, 2 soups, 1 borsch, 1 phone, 24.5ms\n",
            "Speed: 8.1ms preprocess, 24.5ms inference, 2.4ms postprocess per image at shape (1, 3, 384, 640)\n",
            "\n",
            "0: 384x640 2 peoples, 2 forks, 2 spoons, 2 cups, 1 kettle, 1 basket, 1 salad, 1 ribs, 1 Caesar, 1 fish, 2 soups, 1 borsch, 1 phone, 28.8ms\n",
            "Speed: 10.8ms preprocess, 28.8ms inference, 9.2ms postprocess per image at shape (1, 3, 384, 640)\n",
            "\n",
            "0: 384x640 2 peoples, 2 forks, 2 spoons, 2 cups, 1 kettle, 1 basket, 1 salad, 1 ribs, 1 Caesar, 1 fish, 2 soups, 1 borsch, 1 phone, 18.8ms\n",
            "Speed: 3.5ms preprocess, 18.8ms inference, 3.9ms postprocess per image at shape (1, 3, 384, 640)\n",
            "\n",
            "0: 384x640 2 peoples, 2 forks, 2 spoons, 2 cups, 1 kettle, 1 basket, 1 salad, 1 ribs, 1 Caesar, 1 fish, 2 soups, 1 borsch, 1 phone, 28.1ms\n",
            "Speed: 6.6ms preprocess, 28.1ms inference, 2.2ms postprocess per image at shape (1, 3, 384, 640)\n",
            "\n",
            "0: 384x640 2 peoples, 2 forks, 2 spoons, 2 cups, 1 kettle, 1 basket, 1 salad, 1 ribs, 1 Caesar, 1 fish, 2 soups, 1 borsch, 1 phone, 30.7ms\n",
            "Speed: 10.5ms preprocess, 30.7ms inference, 1.9ms postprocess per image at shape (1, 3, 384, 640)\n",
            "\n",
            "0: 384x640 2 peoples, 2 forks, 2 spoons, 2 cups, 1 kettle, 1 basket, 1 salad, 1 ribs, 1 Caesar, 1 fish, 2 soups, 1 borsch, 1 phone, 26.5ms\n",
            "Speed: 5.5ms preprocess, 26.5ms inference, 1.9ms postprocess per image at shape (1, 3, 384, 640)\n",
            "\n",
            "0: 384x640 2 peoples, 2 forks, 2 spoons, 2 cups, 1 kettle, 1 basket, 1 salad, 1 ribs, 1 Caesar, 1 fish, 2 soups, 1 borsch, 1 phone, 34.9ms\n",
            "Speed: 9.8ms preprocess, 34.9ms inference, 10.5ms postprocess per image at shape (1, 3, 384, 640)\n",
            "\n",
            "0: 384x640 2 peoples, 2 forks, 2 spoons, 2 cups, 1 kettle, 1 basket, 1 salad, 1 ribs, 1 Caesar, 1 fish, 2 soups, 1 borsch, 1 phone, 19.3ms\n",
            "Speed: 3.5ms preprocess, 19.3ms inference, 3.6ms postprocess per image at shape (1, 3, 384, 640)\n",
            "\n",
            "0: 384x640 2 peoples, 2 forks, 2 spoons, 2 cups, 1 kettle, 1 basket, 1 salad, 1 ribs, 1 Caesar, 1 fish, 1 soup, 1 borsch, 1 phone, 28.7ms\n",
            "Speed: 3.7ms preprocess, 28.7ms inference, 2.3ms postprocess per image at shape (1, 3, 384, 640)\n",
            "\n",
            "0: 384x640 2 peoples, 2 forks, 2 spoons, 2 cups, 1 kettle, 1 basket, 1 salad, 1 ribs, 1 Caesar, 1 fish, 1 soup, 1 borsch, 1 phone, 22.0ms\n",
            "Speed: 13.0ms preprocess, 22.0ms inference, 2.2ms postprocess per image at shape (1, 3, 384, 640)\n",
            "\n",
            "0: 384x640 2 peoples, 2 forks, 2 spoons, 2 cups, 1 kettle, 1 basket, 1 salad, 1 ribs, 1 Caesar, 1 fish, 1 soup, 1 borsch, 1 phone, 15.3ms\n",
            "Speed: 3.7ms preprocess, 15.3ms inference, 2.2ms postprocess per image at shape (1, 3, 384, 640)\n",
            "\n",
            "0: 384x640 2 peoples, 2 forks, 2 spoons, 2 cups, 1 kettle, 1 basket, 1 salad, 1 ribs, 1 Caesar, 1 fish, 2 soups, 1 borsch, 1 phone, 31.3ms\n",
            "Speed: 10.1ms preprocess, 31.3ms inference, 2.3ms postprocess per image at shape (1, 3, 384, 640)\n",
            "\n",
            "0: 384x640 2 peoples, 2 forks, 2 spoons, 2 cups, 1 kettle, 1 basket, 1 salad, 1 ribs, 1 Caesar, 1 fish, 2 soups, 1 borsch, 1 phone, 16.3ms\n",
            "Speed: 10.6ms preprocess, 16.3ms inference, 2.3ms postprocess per image at shape (1, 3, 384, 640)\n",
            "\n",
            "0: 384x640 2 peoples, 2 forks, 2 spoons, 2 cups, 1 kettle, 1 basket, 1 salad, 1 ribs, 1 Caesar, 1 fish, 1 soup, 1 borsch, 1 phone, 15.0ms\n",
            "Speed: 11.4ms preprocess, 15.0ms inference, 2.1ms postprocess per image at shape (1, 3, 384, 640)\n",
            "\n",
            "0: 384x640 2 peoples, 2 forks, 2 spoons, 2 cups, 1 kettle, 1 basket, 1 salad, 1 ribs, 1 Caesar, 1 fish, 1 soup, 1 borsch, 1 phone, 16.8ms\n",
            "Speed: 10.1ms preprocess, 16.8ms inference, 2.3ms postprocess per image at shape (1, 3, 384, 640)\n",
            "\n",
            "0: 384x640 2 peoples, 2 forks, 2 spoons, 2 cups, 1 kettle, 1 basket, 1 salad, 1 ribs, 1 Caesar, 1 fish, 1 soup, 1 borsch, 1 phone, 16.2ms\n",
            "Speed: 4.4ms preprocess, 16.2ms inference, 2.2ms postprocess per image at shape (1, 3, 384, 640)\n",
            "\n",
            "0: 384x640 2 peoples, 2 forks, 2 spoons, 2 cups, 1 kettle, 1 basket, 1 salad, 1 ribs, 1 Caesar, 1 fish, 2 soups, 1 borsch, 1 phone, 15.6ms\n",
            "Speed: 4.8ms preprocess, 15.6ms inference, 2.4ms postprocess per image at shape (1, 3, 384, 640)\n",
            "\n",
            "0: 384x640 2 peoples, 2 forks, 2 spoons, 2 cups, 1 kettle, 1 basket, 1 salad, 1 ribs, 1 Caesar, 1 fish, 2 soups, 1 borsch, 1 phone, 14.1ms\n",
            "Speed: 3.4ms preprocess, 14.1ms inference, 2.0ms postprocess per image at shape (1, 3, 384, 640)\n",
            "\n",
            "0: 384x640 2 peoples, 2 forks, 2 spoons, 2 cups, 1 kettle, 1 basket, 1 salad, 1 ribs, 1 Caesar, 1 fish, 2 soups, 1 borsch, 1 phone, 15.8ms\n",
            "Speed: 3.7ms preprocess, 15.8ms inference, 2.3ms postprocess per image at shape (1, 3, 384, 640)\n",
            "\n",
            "0: 384x640 2 peoples, 2 forks, 2 spoons, 2 cups, 1 kettle, 1 basket, 1 salad, 1 ribs, 1 Caesar, 1 fish, 2 soups, 1 borsch, 1 phone, 15.9ms\n",
            "Speed: 5.3ms preprocess, 15.9ms inference, 2.3ms postprocess per image at shape (1, 3, 384, 640)\n",
            "\n",
            "0: 384x640 2 peoples, 2 forks, 2 spoons, 2 cups, 1 kettle, 1 basket, 1 salad, 1 ribs, 1 Caesar, 1 fish, 1 soup, 1 borsch, 1 phone, 17.5ms\n",
            "Speed: 5.6ms preprocess, 17.5ms inference, 2.3ms postprocess per image at shape (1, 3, 384, 640)\n",
            "\n",
            "0: 384x640 2 peoples, 2 forks, 2 spoons, 2 cups, 1 kettle, 1 basket, 1 salad, 1 ribs, 1 Caesar, 1 fish, 1 soup, 1 borsch, 1 phone, 31.6ms\n",
            "Speed: 3.3ms preprocess, 31.6ms inference, 2.1ms postprocess per image at shape (1, 3, 384, 640)\n",
            "\n",
            "0: 384x640 2 peoples, 2 forks, 2 spoons, 2 cups, 1 kettle, 1 basket, 1 salad, 1 ribs, 1 Caesar, 1 fish, 1 soup, 1 borsch, 1 phone, 15.8ms\n",
            "Speed: 5.2ms preprocess, 15.8ms inference, 2.3ms postprocess per image at shape (1, 3, 384, 640)\n",
            "\n",
            "0: 384x640 2 peoples, 2 forks, 2 spoons, 2 cups, 1 kettle, 1 basket, 1 salad, 1 ribs, 1 Caesar, 1 fish, 1 soup, 1 borsch, 1 phone, 15.9ms\n",
            "Speed: 3.8ms preprocess, 15.9ms inference, 2.3ms postprocess per image at shape (1, 3, 384, 640)\n",
            "\n",
            "0: 384x640 2 peoples, 2 forks, 2 spoons, 2 cups, 1 kettle, 1 basket, 1 salad, 1 ribs, 1 Caesar, 1 fish, 1 soup, 1 borsch, 1 phone, 15.4ms\n",
            "Speed: 4.3ms preprocess, 15.4ms inference, 2.3ms postprocess per image at shape (1, 3, 384, 640)\n",
            "\n",
            "0: 384x640 2 peoples, 2 forks, 2 spoons, 2 cups, 1 kettle, 1 basket, 1 salad, 1 ribs, 1 Caesar, 1 fish, 1 soup, 1 borsch, 1 phone, 28.1ms\n",
            "Speed: 3.5ms preprocess, 28.1ms inference, 2.7ms postprocess per image at shape (1, 3, 384, 640)\n",
            "\n",
            "0: 384x640 2 peoples, 2 forks, 2 spoons, 2 cups, 1 kettle, 1 basket, 1 salad, 1 ribs, 1 Caesar, 1 fish, 1 soup, 1 borsch, 1 phone, 24.5ms\n",
            "Speed: 3.9ms preprocess, 24.5ms inference, 2.3ms postprocess per image at shape (1, 3, 384, 640)\n",
            "\n",
            "0: 384x640 2 peoples, 2 forks, 2 spoons, 2 cups, 1 kettle, 1 basket, 1 salad, 1 ribs, 1 Caesar, 1 fish, 1 soup, 1 borsch, 1 phone, 17.2ms\n",
            "Speed: 3.3ms preprocess, 17.2ms inference, 7.3ms postprocess per image at shape (1, 3, 384, 640)\n",
            "\n",
            "0: 384x640 2 peoples, 2 forks, 2 spoons, 2 cups, 1 kettle, 1 basket, 1 salad, 1 ribs, 1 Caesar, 1 fish, 1 soup, 1 borsch, 1 phone, 15.1ms\n",
            "Speed: 3.8ms preprocess, 15.1ms inference, 2.1ms postprocess per image at shape (1, 3, 384, 640)\n",
            "\n",
            "0: 384x640 2 peoples, 2 forks, 2 spoons, 2 cups, 1 kettle, 1 basket, 1 salad, 1 ribs, 1 Caesar, 1 fish, 1 soup, 1 borsch, 1 phone, 16.2ms\n",
            "Speed: 4.3ms preprocess, 16.2ms inference, 2.4ms postprocess per image at shape (1, 3, 384, 640)\n",
            "\n",
            "0: 384x640 2 peoples, 2 forks, 2 spoons, 2 cups, 1 kettle, 1 basket, 1 salad, 1 ribs, 1 Caesar, 1 fish, 1 soup, 1 borsch, 1 phone, 15.4ms\n",
            "Speed: 11.3ms preprocess, 15.4ms inference, 2.3ms postprocess per image at shape (1, 3, 384, 640)\n",
            "\n",
            "0: 384x640 2 peoples, 2 forks, 2 spoons, 2 cups, 1 kettle, 1 basket, 1 salad, 1 ribs, 1 Caesar, 1 fish, 1 soup, 1 borsch, 1 phone, 25.5ms\n",
            "Speed: 3.9ms preprocess, 25.5ms inference, 2.2ms postprocess per image at shape (1, 3, 384, 640)\n",
            "\n",
            "0: 384x640 2 peoples, 2 forks, 2 spoons, 2 cups, 1 kettle, 1 basket, 1 salad, 1 ribs, 1 Caesar, 1 fish, 1 soup, 1 borsch, 1 phone, 30.5ms\n",
            "Speed: 8.9ms preprocess, 30.5ms inference, 2.3ms postprocess per image at shape (1, 3, 384, 640)\n",
            "\n",
            "0: 384x640 2 peoples, 2 forks, 2 spoons, 2 cups, 1 kettle, 1 basket, 1 salad, 1 ribs, 1 Caesar, 1 fish, 1 soup, 1 borsch, 1 phone, 13.9ms\n",
            "Speed: 3.8ms preprocess, 13.9ms inference, 4.3ms postprocess per image at shape (1, 3, 384, 640)\n",
            "\n",
            "0: 384x640 2 peoples, 2 forks, 2 spoons, 2 cups, 1 kettle, 1 basket, 1 salad, 1 ribs, 1 Caesar, 1 fish, 1 soup, 1 borsch, 1 phone, 13.8ms\n",
            "Speed: 4.7ms preprocess, 13.8ms inference, 3.6ms postprocess per image at shape (1, 3, 384, 640)\n",
            "\n",
            "0: 384x640 2 peoples, 2 forks, 2 spoons, 2 cups, 1 kettle, 1 basket, 1 salad, 1 ribs, 1 Caesar, 1 fish, 1 soup, 1 borsch, 1 phone, 18.8ms\n",
            "Speed: 7.6ms preprocess, 18.8ms inference, 2.3ms postprocess per image at shape (1, 3, 384, 640)\n",
            "\n",
            "0: 384x640 2 peoples, 2 forks, 2 spoons, 2 cups, 1 kettle, 1 basket, 1 salad, 1 ribs, 1 Caesar, 1 fish, 1 soup, 1 borsch, 1 phone, 14.7ms\n",
            "Speed: 3.4ms preprocess, 14.7ms inference, 2.3ms postprocess per image at shape (1, 3, 384, 640)\n",
            "\n",
            "0: 384x640 2 peoples, 2 forks, 2 spoons, 2 cups, 1 kettle, 1 basket, 1 salad, 1 ribs, 1 Caesar, 1 fish, 1 soup, 1 borsch, 1 phone, 15.8ms\n",
            "Speed: 3.7ms preprocess, 15.8ms inference, 2.3ms postprocess per image at shape (1, 3, 384, 640)\n",
            "\n",
            "0: 384x640 2 peoples, 2 forks, 2 spoons, 2 cups, 1 kettle, 1 basket, 1 salad, 1 ribs, 1 Caesar, 1 fish, 1 soup, 1 borsch, 1 phone, 15.6ms\n",
            "Speed: 3.6ms preprocess, 15.6ms inference, 2.2ms postprocess per image at shape (1, 3, 384, 640)\n",
            "\n",
            "0: 384x640 2 peoples, 2 forks, 2 spoons, 2 cups, 1 kettle, 1 basket, 1 salad, 1 ribs, 1 Caesar, 1 fish, 1 soup, 1 borsch, 1 phone, 16.8ms\n",
            "Speed: 9.6ms preprocess, 16.8ms inference, 2.3ms postprocess per image at shape (1, 3, 384, 640)\n",
            "\n",
            "0: 384x640 2 peoples, 2 forks, 2 spoons, 2 cups, 1 kettle, 1 basket, 1 salad, 1 ribs, 1 Caesar, 1 fish, 1 soup, 1 borsch, 1 phone, 30.7ms\n",
            "Speed: 8.8ms preprocess, 30.7ms inference, 2.4ms postprocess per image at shape (1, 3, 384, 640)\n",
            "\n",
            "0: 384x640 2 peoples, 2 forks, 2 spoons, 2 cups, 1 kettle, 1 basket, 1 salad, 1 ribs, 1 Caesar, 1 fish, 1 soup, 1 borsch, 1 phone, 17.3ms\n",
            "Speed: 6.2ms preprocess, 17.3ms inference, 2.1ms postprocess per image at shape (1, 3, 384, 640)\n",
            "\n",
            "0: 384x640 2 peoples, 2 forks, 2 spoons, 2 cups, 1 kettle, 1 basket, 1 salad, 1 ribs, 1 Caesar, 1 fish, 1 soup, 1 borsch, 1 phone, 16.7ms\n",
            "Speed: 13.4ms preprocess, 16.7ms inference, 2.2ms postprocess per image at shape (1, 3, 384, 640)\n",
            "\n",
            "0: 384x640 2 peoples, 2 forks, 2 spoons, 2 cups, 1 kettle, 1 basket, 1 salad, 1 ribs, 1 Caesar, 1 fish, 1 soup, 1 borsch, 1 phone, 18.4ms\n",
            "Speed: 7.9ms preprocess, 18.4ms inference, 2.3ms postprocess per image at shape (1, 3, 384, 640)\n",
            "\n",
            "0: 384x640 2 peoples, 2 forks, 2 spoons, 2 cups, 1 kettle, 1 basket, 1 salad, 1 ribs, 1 Caesar, 1 fish, 1 soup, 1 borsch, 1 phone, 18.1ms\n",
            "Speed: 3.7ms preprocess, 18.1ms inference, 2.5ms postprocess per image at shape (1, 3, 384, 640)\n",
            "\n",
            "0: 384x640 2 peoples, 2 forks, 2 spoons, 2 cups, 1 kettle, 1 basket, 1 salad, 1 ribs, 1 Caesar, 1 fish, 1 soup, 1 borsch, 1 phone, 14.8ms\n",
            "Speed: 3.8ms preprocess, 14.8ms inference, 2.4ms postprocess per image at shape (1, 3, 384, 640)\n",
            "\n",
            "0: 384x640 2 peoples, 2 forks, 2 spoons, 2 cups, 1 kettle, 1 basket, 1 salad, 1 ribs, 1 Caesar, 1 fish, 2 soups, 1 borsch, 1 phone, 14.7ms\n",
            "Speed: 3.6ms preprocess, 14.7ms inference, 2.2ms postprocess per image at shape (1, 3, 384, 640)\n",
            "\n",
            "0: 384x640 2 peoples, 2 forks, 2 spoons, 2 cups, 1 kettle, 1 basket, 1 salad, 1 ribs, 1 Caesar, 1 fish, 1 soup, 1 borsch, 1 phone, 15.7ms\n",
            "Speed: 3.5ms preprocess, 15.7ms inference, 2.2ms postprocess per image at shape (1, 3, 384, 640)\n",
            "\n",
            "0: 384x640 2 peoples, 2 forks, 2 spoons, 2 cups, 1 kettle, 1 basket, 1 salad, 1 ribs, 1 Caesar, 1 fish, 1 soup, 1 borsch, 1 phone, 15.8ms\n",
            "Speed: 3.7ms preprocess, 15.8ms inference, 2.3ms postprocess per image at shape (1, 3, 384, 640)\n",
            "\n",
            "0: 384x640 2 peoples, 2 forks, 2 spoons, 2 cups, 1 kettle, 1 basket, 1 salad, 1 ribs, 1 Caesar, 1 fish, 1 soup, 1 borsch, 1 phone, 15.0ms\n",
            "Speed: 3.6ms preprocess, 15.0ms inference, 2.2ms postprocess per image at shape (1, 3, 384, 640)\n",
            "\n",
            "0: 384x640 2 peoples, 2 forks, 2 spoons, 2 cups, 1 kettle, 1 basket, 1 salad, 1 ribs, 1 Caesar, 1 fish, 1 soup, 1 borsch, 1 phone, 18.2ms\n",
            "Speed: 3.5ms preprocess, 18.2ms inference, 1.9ms postprocess per image at shape (1, 3, 384, 640)\n",
            "\n",
            "0: 384x640 2 peoples, 2 forks, 2 spoons, 2 cups, 1 kettle, 1 basket, 1 salad, 1 ribs, 1 Caesar, 1 fish, 1 soup, 1 borsch, 1 phone, 22.0ms\n",
            "Speed: 3.8ms preprocess, 22.0ms inference, 2.3ms postprocess per image at shape (1, 3, 384, 640)\n",
            "\n",
            "0: 384x640 2 peoples, 2 forks, 2 spoons, 2 cups, 1 kettle, 1 basket, 1 salad, 1 ribs, 1 Caesar, 1 fish, 1 soup, 1 borsch, 1 phone, 15.2ms\n",
            "Speed: 3.6ms preprocess, 15.2ms inference, 2.2ms postprocess per image at shape (1, 3, 384, 640)\n",
            "\n",
            "0: 384x640 2 peoples, 2 forks, 2 spoons, 2 cups, 1 kettle, 1 basket, 1 salad, 1 ribs, 1 Caesar, 1 fish, 1 soup, 1 borsch, 1 phone, 18.4ms\n",
            "Speed: 3.6ms preprocess, 18.4ms inference, 3.3ms postprocess per image at shape (1, 3, 384, 640)\n",
            "\n",
            "0: 384x640 2 peoples, 2 forks, 2 spoons, 2 cups, 1 kettle, 1 basket, 1 salad, 1 ribs, 1 Caesar, 1 fish, 1 soup, 1 borsch, 1 phone, 15.8ms\n",
            "Speed: 6.3ms preprocess, 15.8ms inference, 2.2ms postprocess per image at shape (1, 3, 384, 640)\n",
            "\n",
            "0: 384x640 2 peoples, 2 forks, 2 spoons, 2 cups, 1 kettle, 1 basket, 1 salad, 1 ribs, 1 Caesar, 1 fish, 1 soup, 1 borsch, 1 phone, 15.5ms\n",
            "Speed: 3.5ms preprocess, 15.5ms inference, 2.3ms postprocess per image at shape (1, 3, 384, 640)\n",
            "\n",
            "0: 384x640 2 peoples, 2 forks, 2 spoons, 2 cups, 1 kettle, 1 basket, 1 salad, 1 ribs, 1 Caesar, 1 fish, 1 soup, 1 borsch, 1 phone, 18.1ms\n",
            "Speed: 4.1ms preprocess, 18.1ms inference, 2.3ms postprocess per image at shape (1, 3, 384, 640)\n",
            "\n",
            "0: 384x640 2 peoples, 2 forks, 2 spoons, 2 cups, 1 kettle, 1 basket, 1 salad, 1 ribs, 1 Caesar, 1 fish, 1 soup, 1 borsch, 1 phone, 33.4ms\n",
            "Speed: 13.2ms preprocess, 33.4ms inference, 2.2ms postprocess per image at shape (1, 3, 384, 640)\n",
            "\n",
            "0: 384x640 2 peoples, 2 forks, 2 spoons, 2 cups, 1 kettle, 1 basket, 1 salad, 1 ribs, 1 Caesar, 1 fish, 1 soup, 1 borsch, 1 phone, 30.6ms\n",
            "Speed: 8.2ms preprocess, 30.6ms inference, 6.9ms postprocess per image at shape (1, 3, 384, 640)\n",
            "\n",
            "0: 384x640 2 peoples, 2 forks, 2 spoons, 2 cups, 1 kettle, 1 basket, 1 salad, 1 ribs, 1 Caesar, 1 fish, 1 soup, 1 borsch, 1 phone, 28.9ms\n",
            "Speed: 3.6ms preprocess, 28.9ms inference, 1.9ms postprocess per image at shape (1, 3, 384, 640)\n",
            "\n",
            "0: 384x640 2 peoples, 2 forks, 2 spoons, 2 cups, 1 kettle, 1 basket, 1 salad, 1 ribs, 1 Caesar, 1 fish, 1 soup, 1 borsch, 1 phone, 31.5ms\n",
            "Speed: 6.6ms preprocess, 31.5ms inference, 9.0ms postprocess per image at shape (1, 3, 384, 640)\n",
            "\n",
            "0: 384x640 2 peoples, 2 forks, 2 spoons, 2 cups, 1 kettle, 1 basket, 1 salad, 1 ribs, 1 Caesar, 1 fish, 1 soup, 1 borsch, 1 phone, 25.6ms\n",
            "Speed: 4.7ms preprocess, 25.6ms inference, 1.9ms postprocess per image at shape (1, 3, 384, 640)\n",
            "\n",
            "0: 384x640 2 peoples, 2 forks, 2 spoons, 2 cups, 1 kettle, 1 basket, 1 salad, 1 ribs, 1 Caesar, 1 fish, 1 soup, 1 borsch, 1 phone, 26.4ms\n",
            "Speed: 3.3ms preprocess, 26.4ms inference, 9.2ms postprocess per image at shape (1, 3, 384, 640)\n",
            "\n",
            "0: 384x640 2 peoples, 2 forks, 2 spoons, 2 cups, 1 kettle, 1 basket, 1 salad, 1 ribs, 1 Caesar, 1 fish, 1 soup, 1 borsch, 1 phone, 34.8ms\n",
            "Speed: 4.5ms preprocess, 34.8ms inference, 2.2ms postprocess per image at shape (1, 3, 384, 640)\n",
            "\n",
            "0: 384x640 2 peoples, 2 forks, 2 spoons, 2 cups, 1 kettle, 1 basket, 1 salad, 1 ribs, 1 Caesar, 1 fish, 1 soup, 1 borsch, 1 phone, 30.8ms\n",
            "Speed: 7.3ms preprocess, 30.8ms inference, 2.4ms postprocess per image at shape (1, 3, 384, 640)\n",
            "\n",
            "0: 384x640 2 peoples, 2 forks, 2 spoons, 2 cups, 1 kettle, 1 basket, 1 salad, 1 ribs, 1 Caesar, 1 fish, 1 soup, 1 borsch, 1 phone, 23.9ms\n",
            "Speed: 6.0ms preprocess, 23.9ms inference, 2.2ms postprocess per image at shape (1, 3, 384, 640)\n",
            "\n",
            "0: 384x640 2 peoples, 2 forks, 2 spoons, 2 cups, 1 kettle, 1 basket, 1 salad, 1 ribs, 1 Caesar, 1 fish, 1 soup, 1 borsch, 1 phone, 18.4ms\n",
            "Speed: 10.6ms preprocess, 18.4ms inference, 2.3ms postprocess per image at shape (1, 3, 384, 640)\n",
            "\n",
            "0: 384x640 2 peoples, 2 forks, 2 spoons, 2 cups, 1 kettle, 1 basket, 1 salad, 1 ribs, 1 Caesar, 1 fish, 1 soup, 1 borsch, 1 phone, 20.2ms\n",
            "Speed: 6.4ms preprocess, 20.2ms inference, 2.3ms postprocess per image at shape (1, 3, 384, 640)\n",
            "\n",
            "0: 384x640 2 peoples, 2 forks, 2 spoons, 2 cups, 1 kettle, 1 basket, 1 salad, 1 ribs, 1 Caesar, 1 fish, 1 soup, 1 borsch, 1 phone, 20.1ms\n",
            "Speed: 8.6ms preprocess, 20.1ms inference, 2.2ms postprocess per image at shape (1, 3, 384, 640)\n",
            "\n",
            "0: 384x640 2 peoples, 2 forks, 2 spoons, 2 cups, 1 kettle, 1 basket, 1 salad, 1 ribs, 1 Caesar, 1 fish, 1 soup, 1 borsch, 1 phone, 16.7ms\n",
            "Speed: 3.6ms preprocess, 16.7ms inference, 2.2ms postprocess per image at shape (1, 3, 384, 640)\n",
            "\n",
            "0: 384x640 2 peoples, 2 forks, 2 spoons, 2 cups, 1 kettle, 1 basket, 1 salad, 1 ribs, 1 Caesar, 1 fish, 1 soup, 1 borsch, 1 phone, 16.2ms\n",
            "Speed: 3.8ms preprocess, 16.2ms inference, 2.2ms postprocess per image at shape (1, 3, 384, 640)\n",
            "\n",
            "0: 384x640 2 peoples, 2 forks, 2 spoons, 2 cups, 1 kettle, 1 basket, 1 salad, 1 ribs, 1 Caesar, 1 fish, 1 soup, 1 borsch, 1 phone, 29.3ms\n",
            "Speed: 3.8ms preprocess, 29.3ms inference, 2.3ms postprocess per image at shape (1, 3, 384, 640)\n",
            "\n",
            "0: 384x640 2 peoples, 2 forks, 2 spoons, 2 cups, 1 kettle, 1 basket, 1 salad, 1 ribs, 1 Caesar, 1 fish, 1 soup, 1 borsch, 1 phone, 19.3ms\n",
            "Speed: 3.5ms preprocess, 19.3ms inference, 5.3ms postprocess per image at shape (1, 3, 384, 640)\n",
            "\n",
            "0: 384x640 2 peoples, 2 forks, 2 spoons, 2 cups, 1 kettle, 1 basket, 1 salad, 1 ribs, 1 Caesar, 1 fish, 1 soup, 1 borsch, 1 phone, 13.8ms\n",
            "Speed: 3.8ms preprocess, 13.8ms inference, 2.1ms postprocess per image at shape (1, 3, 384, 640)\n",
            "\n",
            "0: 384x640 2 peoples, 2 forks, 2 spoons, 2 cups, 1 kettle, 1 basket, 1 salad, 1 ribs, 1 Caesar, 1 fish, 1 soup, 1 borsch, 1 phone, 15.3ms\n",
            "Speed: 4.2ms preprocess, 15.3ms inference, 2.3ms postprocess per image at shape (1, 3, 384, 640)\n",
            "\n",
            "0: 384x640 2 peoples, 2 forks, 2 spoons, 2 cups, 1 kettle, 1 basket, 1 salad, 1 ribs, 1 Caesar, 1 fish, 1 soup, 1 borsch, 1 phone, 27.4ms\n",
            "Speed: 3.3ms preprocess, 27.4ms inference, 2.3ms postprocess per image at shape (1, 3, 384, 640)\n",
            "\n",
            "0: 384x640 2 peoples, 2 forks, 2 spoons, 2 cups, 1 kettle, 1 basket, 1 salad, 1 ribs, 1 Caesar, 1 fish, 1 soup, 1 borsch, 1 phone, 16.3ms\n",
            "Speed: 6.8ms preprocess, 16.3ms inference, 2.3ms postprocess per image at shape (1, 3, 384, 640)\n",
            "\n",
            "0: 384x640 2 peoples, 2 forks, 2 spoons, 2 cups, 1 kettle, 1 basket, 1 salad, 1 ribs, 1 Caesar, 1 fish, 1 soup, 1 borsch, 1 phone, 15.9ms\n",
            "Speed: 3.7ms preprocess, 15.9ms inference, 2.2ms postprocess per image at shape (1, 3, 384, 640)\n",
            "\n",
            "0: 384x640 2 peoples, 2 forks, 2 spoons, 2 cups, 1 kettle, 1 basket, 1 salad, 1 ribs, 1 Caesar, 1 fish, 1 soup, 1 borsch, 1 phone, 15.3ms\n",
            "Speed: 3.8ms preprocess, 15.3ms inference, 2.4ms postprocess per image at shape (1, 3, 384, 640)\n",
            "\n",
            "0: 384x640 2 peoples, 2 forks, 2 spoons, 2 cups, 1 kettle, 1 basket, 1 salad, 1 ribs, 1 Caesar, 1 fish, 1 soup, 1 borsch, 1 phone, 15.3ms\n",
            "Speed: 3.6ms preprocess, 15.3ms inference, 2.2ms postprocess per image at shape (1, 3, 384, 640)\n",
            "\n",
            "0: 384x640 2 peoples, 2 forks, 2 spoons, 2 cups, 1 kettle, 1 basket, 1 salad, 1 ribs, 1 Caesar, 1 fish, 1 soup, 1 borsch, 1 phone, 15.6ms\n",
            "Speed: 10.3ms preprocess, 15.6ms inference, 2.2ms postprocess per image at shape (1, 3, 384, 640)\n",
            "\n",
            "0: 384x640 2 peoples, 2 forks, 2 spoons, 2 cups, 1 kettle, 1 basket, 1 salad, 1 ribs, 1 Caesar, 1 fish, 1 soup, 1 borsch, 1 phone, 16.3ms\n",
            "Speed: 8.3ms preprocess, 16.3ms inference, 2.3ms postprocess per image at shape (1, 3, 384, 640)\n",
            "\n",
            "0: 384x640 2 peoples, 2 forks, 2 spoons, 2 cups, 1 kettle, 1 basket, 1 salad, 1 ribs, 1 Caesar, 1 fish, 1 soup, 1 borsch, 1 phone, 14.8ms\n",
            "Speed: 4.5ms preprocess, 14.8ms inference, 2.2ms postprocess per image at shape (1, 3, 384, 640)\n",
            "\n",
            "0: 384x640 2 peoples, 2 forks, 2 spoons, 2 cups, 1 kettle, 1 basket, 1 salad, 1 ribs, 1 Caesar, 1 fish, 1 soup, 1 borsch, 1 phone, 14.8ms\n",
            "Speed: 3.6ms preprocess, 14.8ms inference, 2.2ms postprocess per image at shape (1, 3, 384, 640)\n",
            "\n",
            "0: 384x640 2 peoples, 2 forks, 2 spoons, 2 cups, 1 kettle, 1 basket, 1 salad, 1 ribs, 1 Caesar, 1 fish, 1 soup, 1 borsch, 1 phone, 14.0ms\n",
            "Speed: 3.4ms preprocess, 14.0ms inference, 1.8ms postprocess per image at shape (1, 3, 384, 640)\n",
            "\n",
            "0: 384x640 2 peoples, 2 forks, 2 spoons, 2 cups, 1 kettle, 1 basket, 1 salad, 1 ribs, 1 Caesar, 1 fish, 1 soup, 1 borsch, 1 phone, 18.1ms\n",
            "Speed: 4.3ms preprocess, 18.1ms inference, 6.3ms postprocess per image at shape (1, 3, 384, 640)\n",
            "\n",
            "0: 384x640 2 peoples, 2 forks, 2 spoons, 2 cups, 1 kettle, 1 basket, 1 salad, 1 ribs, 1 Caesar, 1 fish, 1 soup, 1 borsch, 1 phone, 20.2ms\n",
            "Speed: 5.0ms preprocess, 20.2ms inference, 2.4ms postprocess per image at shape (1, 3, 384, 640)\n",
            "\n",
            "0: 384x640 2 peoples, 2 forks, 2 spoons, 2 cups, 1 kettle, 1 basket, 1 salad, 1 ribs, 1 Caesar, 1 fish, 1 soup, 1 borsch, 1 phone, 13.6ms\n",
            "Speed: 3.7ms preprocess, 13.6ms inference, 2.1ms postprocess per image at shape (1, 3, 384, 640)\n",
            "\n",
            "0: 384x640 2 peoples, 2 forks, 2 spoons, 2 cups, 1 kettle, 1 basket, 1 salad, 1 ribs, 1 Caesar, 1 fish, 1 soup, 1 borsch, 1 phone, 15.4ms\n",
            "Speed: 3.7ms preprocess, 15.4ms inference, 2.2ms postprocess per image at shape (1, 3, 384, 640)\n",
            "\n",
            "0: 384x640 2 peoples, 2 forks, 2 spoons, 2 cups, 1 kettle, 1 basket, 1 salad, 1 ribs, 1 Caesar, 1 fish, 1 soup, 1 borsch, 1 phone, 15.1ms\n",
            "Speed: 3.7ms preprocess, 15.1ms inference, 2.2ms postprocess per image at shape (1, 3, 384, 640)\n",
            "\n",
            "0: 384x640 2 peoples, 2 forks, 2 spoons, 2 cups, 1 kettle, 1 basket, 1 salad, 1 ribs, 1 Caesar, 1 fish, 1 soup, 1 borsch, 1 phone, 13.9ms\n",
            "Speed: 3.4ms preprocess, 13.9ms inference, 2.3ms postprocess per image at shape (1, 3, 384, 640)\n",
            "\n",
            "0: 384x640 2 peoples, 2 forks, 2 spoons, 2 cups, 1 kettle, 1 basket, 1 salad, 1 ribs, 1 Caesar, 1 fish, 1 soup, 1 borsch, 1 phone, 14.9ms\n",
            "Speed: 3.5ms preprocess, 14.9ms inference, 2.2ms postprocess per image at shape (1, 3, 384, 640)\n",
            "\n",
            "0: 384x640 2 peoples, 2 forks, 2 spoons, 2 cups, 1 kettle, 1 basket, 1 salad, 1 ribs, 1 Caesar, 1 fish, 1 soup, 1 borsch, 1 phone, 15.4ms\n",
            "Speed: 3.7ms preprocess, 15.4ms inference, 2.2ms postprocess per image at shape (1, 3, 384, 640)\n",
            "\n",
            "0: 384x640 2 peoples, 2 forks, 2 spoons, 2 cups, 1 kettle, 1 basket, 1 salad, 1 ribs, 1 Caesar, 1 fish, 1 soup, 1 borsch, 1 phone, 15.2ms\n",
            "Speed: 3.7ms preprocess, 15.2ms inference, 2.2ms postprocess per image at shape (1, 3, 384, 640)\n",
            "\n",
            "0: 384x640 2 peoples, 2 forks, 2 spoons, 2 cups, 1 kettle, 1 basket, 1 salad, 1 ribs, 1 Caesar, 1 fish, 1 soup, 1 borsch, 1 phone, 17.1ms\n",
            "Speed: 8.0ms preprocess, 17.1ms inference, 2.2ms postprocess per image at shape (1, 3, 384, 640)\n",
            "\n",
            "0: 384x640 2 peoples, 2 forks, 2 spoons, 2 cups, 1 kettle, 1 basket, 1 salad, 1 ribs, 1 Caesar, 1 fish, 1 soup, 1 borsch, 1 phone, 14.6ms\n",
            "Speed: 3.5ms preprocess, 14.6ms inference, 2.1ms postprocess per image at shape (1, 3, 384, 640)\n",
            "\n",
            "0: 384x640 2 peoples, 2 forks, 2 spoons, 2 cups, 1 kettle, 1 basket, 1 salad, 1 ribs, 1 Caesar, 1 fish, 1 soup, 1 borsch, 1 phone, 21.1ms\n",
            "Speed: 4.3ms preprocess, 21.1ms inference, 2.2ms postprocess per image at shape (1, 3, 384, 640)\n",
            "\n",
            "0: 384x640 2 peoples, 2 forks, 2 spoons, 2 cups, 1 kettle, 1 basket, 1 salad, 1 ribs, 1 Caesar, 1 fish, 1 soup, 1 borsch, 1 phone, 18.4ms\n",
            "Speed: 3.7ms preprocess, 18.4ms inference, 5.7ms postprocess per image at shape (1, 3, 384, 640)\n",
            "\n",
            "0: 384x640 2 peoples, 2 forks, 2 spoons, 2 cups, 1 kettle, 1 basket, 1 salad, 1 ribs, 1 Caesar, 1 fish, 1 soup, 1 borsch, 1 phone, 13.4ms\n",
            "Speed: 3.4ms preprocess, 13.4ms inference, 8.8ms postprocess per image at shape (1, 3, 384, 640)\n",
            "\n",
            "0: 384x640 2 peoples, 2 forks, 2 spoons, 2 cups, 1 kettle, 1 basket, 1 salad, 1 ribs, 1 Caesar, 1 fish, 1 soup, 1 borsch, 1 phone, 16.2ms\n",
            "Speed: 4.7ms preprocess, 16.2ms inference, 2.6ms postprocess per image at shape (1, 3, 384, 640)\n",
            "\n",
            "0: 384x640 2 peoples, 2 forks, 2 spoons, 2 cups, 1 kettle, 1 basket, 1 salad, 1 ribs, 1 Caesar, 1 fish, 1 soup, 1 borsch, 1 phone, 22.0ms\n",
            "Speed: 4.2ms preprocess, 22.0ms inference, 2.3ms postprocess per image at shape (1, 3, 384, 640)\n",
            "\n",
            "0: 384x640 2 peoples, 2 forks, 2 spoons, 2 cups, 1 kettle, 1 basket, 1 salad, 1 ribs, 1 Caesar, 1 fish, 1 soup, 1 borsch, 1 phone, 15.1ms\n",
            "Speed: 4.4ms preprocess, 15.1ms inference, 2.2ms postprocess per image at shape (1, 3, 384, 640)\n",
            "\n",
            "0: 384x640 2 peoples, 2 forks, 2 spoons, 2 cups, 1 kettle, 1 basket, 1 salad, 1 ribs, 1 Caesar, 1 fish, 1 soup, 1 borsch, 1 phone, 13.9ms\n",
            "Speed: 8.0ms preprocess, 13.9ms inference, 2.1ms postprocess per image at shape (1, 3, 384, 640)\n",
            "\n",
            "0: 384x640 2 peoples, 2 forks, 2 spoons, 2 cups, 1 kettle, 1 basket, 1 salad, 1 ribs, 1 Caesar, 1 fish, 1 soup, 1 borsch, 1 phone, 15.3ms\n",
            "Speed: 3.6ms preprocess, 15.3ms inference, 2.3ms postprocess per image at shape (1, 3, 384, 640)\n",
            "\n",
            "0: 384x640 2 peoples, 2 forks, 2 spoons, 2 cups, 1 kettle, 1 basket, 1 salad, 1 ribs, 1 Caesar, 1 fish, 1 soup, 1 borsch, 1 phone, 15.7ms\n",
            "Speed: 4.3ms preprocess, 15.7ms inference, 2.3ms postprocess per image at shape (1, 3, 384, 640)\n",
            "\n",
            "0: 384x640 2 peoples, 2 forks, 2 spoons, 2 cups, 1 kettle, 1 basket, 1 salad, 1 ribs, 1 Caesar, 1 fish, 1 soup, 1 borsch, 1 phone, 15.5ms\n",
            "Speed: 3.6ms preprocess, 15.5ms inference, 2.3ms postprocess per image at shape (1, 3, 384, 640)\n",
            "\n",
            "0: 384x640 2 peoples, 2 forks, 2 spoons, 2 cups, 1 kettle, 1 basket, 1 salad, 1 ribs, 1 Caesar, 1 fish, 1 soup, 1 borsch, 1 phone, 16.0ms\n",
            "Speed: 6.5ms preprocess, 16.0ms inference, 2.3ms postprocess per image at shape (1, 3, 384, 640)\n",
            "\n",
            "0: 384x640 2 peoples, 2 forks, 2 spoons, 2 cups, 1 kettle, 1 basket, 1 salad, 1 ribs, 1 Caesar, 1 fish, 1 soup, 1 borsch, 1 phone, 15.1ms\n",
            "Speed: 3.5ms preprocess, 15.1ms inference, 2.3ms postprocess per image at shape (1, 3, 384, 640)\n",
            "\n",
            "0: 384x640 2 peoples, 2 forks, 2 spoons, 2 cups, 1 kettle, 1 basket, 1 salad, 1 ribs, 1 Caesar, 1 fish, 1 soup, 1 borsch, 1 phone, 15.3ms\n",
            "Speed: 4.6ms preprocess, 15.3ms inference, 2.3ms postprocess per image at shape (1, 3, 384, 640)\n",
            "\n",
            "0: 384x640 2 peoples, 2 forks, 2 spoons, 2 cups, 1 kettle, 1 basket, 1 salad, 1 ribs, 1 Caesar, 1 fish, 1 soup, 1 borsch, 1 phone, 14.6ms\n",
            "Speed: 3.7ms preprocess, 14.6ms inference, 2.1ms postprocess per image at shape (1, 3, 384, 640)\n",
            "\n",
            "0: 384x640 2 peoples, 2 forks, 2 spoons, 2 cups, 1 kettle, 1 basket, 1 salad, 1 ribs, 1 Caesar, 1 fish, 1 soup, 1 borsch, 1 phone, 15.2ms\n",
            "Speed: 8.7ms preprocess, 15.2ms inference, 2.2ms postprocess per image at shape (1, 3, 384, 640)\n",
            "\n",
            "0: 384x640 2 peoples, 2 forks, 2 spoons, 2 cups, 1 kettle, 1 basket, 1 salad, 1 ribs, 1 Caesar, 1 fish, 1 soup, 1 borsch, 1 phone, 29.7ms\n",
            "Speed: 3.4ms preprocess, 29.7ms inference, 2.6ms postprocess per image at shape (1, 3, 384, 640)\n",
            "\n",
            "0: 384x640 2 peoples, 2 forks, 2 spoons, 2 cups, 1 kettle, 1 basket, 1 salad, 1 ribs, 1 Caesar, 1 fish, 1 soup, 1 borsch, 1 phone, 22.3ms\n",
            "Speed: 5.5ms preprocess, 22.3ms inference, 2.2ms postprocess per image at shape (1, 3, 384, 640)\n",
            "\n",
            "0: 384x640 2 peoples, 2 forks, 2 spoons, 2 cups, 1 kettle, 1 basket, 1 salad, 1 ribs, 1 Caesar, 1 fish, 1 soup, 1 borsch, 1 phone, 37.9ms\n",
            "Speed: 3.6ms preprocess, 37.9ms inference, 2.3ms postprocess per image at shape (1, 3, 384, 640)\n",
            "\n",
            "0: 384x640 2 peoples, 2 forks, 2 spoons, 2 cups, 1 kettle, 1 basket, 1 salad, 1 ribs, 1 Caesar, 1 fish, 1 soup, 1 borsch, 1 phone, 29.6ms\n",
            "Speed: 8.3ms preprocess, 29.6ms inference, 5.4ms postprocess per image at shape (1, 3, 384, 640)\n",
            "\n",
            "0: 384x640 2 peoples, 2 forks, 2 spoons, 2 cups, 1 kettle, 1 basket, 1 salad, 1 ribs, 1 Caesar, 1 fish, 1 soup, 1 borsch, 1 phone, 40.2ms\n",
            "Speed: 3.4ms preprocess, 40.2ms inference, 7.3ms postprocess per image at shape (1, 3, 384, 640)\n",
            "\n",
            "0: 384x640 2 peoples, 2 forks, 2 spoons, 2 cups, 1 kettle, 1 basket, 1 salad, 1 ribs, 1 Caesar, 1 fish, 1 soup, 1 borsch, 1 phone, 27.2ms\n",
            "Speed: 3.4ms preprocess, 27.2ms inference, 1.9ms postprocess per image at shape (1, 3, 384, 640)\n",
            "\n",
            "0: 384x640 2 peoples, 2 forks, 3 spoons, 2 cups, 1 kettle, 1 basket, 1 salad, 1 ribs, 1 Caesar, 1 fish, 1 soup, 1 borsch, 1 phone, 25.4ms\n",
            "Speed: 3.5ms preprocess, 25.4ms inference, 2.0ms postprocess per image at shape (1, 3, 384, 640)\n",
            "\n",
            "0: 384x640 2 peoples, 2 forks, 2 spoons, 2 cups, 1 kettle, 1 basket, 1 salad, 1 ribs, 1 Caesar, 1 fish, 1 soup, 1 borsch, 1 phone, 35.7ms\n",
            "Speed: 3.6ms preprocess, 35.7ms inference, 2.0ms postprocess per image at shape (1, 3, 384, 640)\n",
            "\n",
            "0: 384x640 2 peoples, 2 forks, 3 spoons, 2 cups, 1 kettle, 1 basket, 1 salad, 1 ribs, 1 Caesar, 1 fish, 1 soup, 1 borsch, 1 phone, 24.7ms\n",
            "Speed: 8.3ms preprocess, 24.7ms inference, 9.2ms postprocess per image at shape (1, 3, 384, 640)\n",
            "\n",
            "0: 384x640 2 peoples, 2 forks, 3 spoons, 2 cups, 1 kettle, 1 basket, 1 salad, 1 ribs, 1 Caesar, 1 fish, 1 soup, 1 borsch, 1 phone, 37.6ms\n",
            "Speed: 10.2ms preprocess, 37.6ms inference, 2.4ms postprocess per image at shape (1, 3, 384, 640)\n",
            "\n",
            "0: 384x640 2 peoples, 2 forks, 2 spoons, 2 cups, 1 kettle, 1 basket, 1 salad, 1 ribs, 1 Caesar, 1 fish, 1 soup, 1 borsch, 1 phone, 44.2ms\n",
            "Speed: 7.7ms preprocess, 44.2ms inference, 2.5ms postprocess per image at shape (1, 3, 384, 640)\n",
            "\n",
            "0: 384x640 2 peoples, 2 forks, 2 spoons, 2 cups, 1 kettle, 1 basket, 1 salad, 1 ribs, 1 Caesar, 1 fish, 1 soup, 1 borsch, 1 phone, 17.0ms\n",
            "Speed: 3.8ms preprocess, 17.0ms inference, 2.3ms postprocess per image at shape (1, 3, 384, 640)\n",
            "\n",
            "0: 384x640 2 peoples, 2 forks, 2 spoons, 2 cups, 1 kettle, 1 basket, 1 salad, 1 ribs, 1 Caesar, 1 fish, 1 soup, 1 borsch, 1 phone, 16.5ms\n",
            "Speed: 3.8ms preprocess, 16.5ms inference, 2.4ms postprocess per image at shape (1, 3, 384, 640)\n",
            "\n",
            "0: 384x640 2 peoples, 2 forks, 2 spoons, 2 cups, 1 kettle, 1 basket, 1 salad, 1 ribs, 1 Caesar, 1 fish, 1 soup, 1 borsch, 1 phone, 17.1ms\n",
            "Speed: 3.7ms preprocess, 17.1ms inference, 2.3ms postprocess per image at shape (1, 3, 384, 640)\n",
            "\n",
            "0: 384x640 2 peoples, 2 forks, 2 spoons, 2 cups, 1 kettle, 1 basket, 1 salad, 1 ribs, 1 Caesar, 1 fish, 1 soup, 1 borsch, 1 phone, 16.8ms\n",
            "Speed: 4.5ms preprocess, 16.8ms inference, 2.2ms postprocess per image at shape (1, 3, 384, 640)\n",
            "\n",
            "0: 384x640 2 peoples, 2 forks, 2 spoons, 2 cups, 1 kettle, 1 basket, 1 salad, 1 ribs, 1 Caesar, 1 fish, 1 soup, 1 borsch, 1 phone, 16.1ms\n",
            "Speed: 11.0ms preprocess, 16.1ms inference, 2.4ms postprocess per image at shape (1, 3, 384, 640)\n",
            "\n",
            "0: 384x640 2 peoples, 2 forks, 2 spoons, 2 cups, 1 kettle, 1 basket, 1 salad, 1 ribs, 1 Caesar, 1 fish, 1 soup, 1 borsch, 1 phone, 14.0ms\n",
            "Speed: 4.1ms preprocess, 14.0ms inference, 2.2ms postprocess per image at shape (1, 3, 384, 640)\n",
            "\n",
            "0: 384x640 2 peoples, 2 forks, 2 spoons, 2 cups, 1 kettle, 1 basket, 1 salad, 1 ribs, 1 Caesar, 1 fish, 1 soup, 1 borsch, 1 phone, 14.1ms\n",
            "Speed: 3.3ms preprocess, 14.1ms inference, 2.2ms postprocess per image at shape (1, 3, 384, 640)\n",
            "\n",
            "0: 384x640 2 peoples, 2 forks, 2 spoons, 2 cups, 1 kettle, 1 basket, 1 salad, 1 ribs, 1 Caesar, 1 fish, 1 soup, 1 borsch, 1 phone, 15.0ms\n",
            "Speed: 3.9ms preprocess, 15.0ms inference, 3.0ms postprocess per image at shape (1, 3, 384, 640)\n",
            "\n",
            "0: 384x640 2 peoples, 2 forks, 2 spoons, 2 cups, 1 kettle, 1 basket, 1 salad, 1 ribs, 1 Caesar, 1 fish, 1 soup, 1 borsch, 1 phone, 31.2ms\n",
            "Speed: 3.1ms preprocess, 31.2ms inference, 2.2ms postprocess per image at shape (1, 3, 384, 640)\n",
            "\n",
            "0: 384x640 2 peoples, 2 forks, 3 spoons, 2 cups, 1 kettle, 1 basket, 1 salad, 1 ribs, 1 Caesar, 1 fish, 1 soup, 1 borsch, 1 phone, 16.1ms\n",
            "Speed: 3.6ms preprocess, 16.1ms inference, 2.3ms postprocess per image at shape (1, 3, 384, 640)\n",
            "\n",
            "0: 384x640 2 peoples, 2 forks, 2 spoons, 2 cups, 1 kettle, 1 basket, 1 salad, 1 ribs, 1 Caesar, 1 fish, 1 soup, 1 borsch, 1 phone, 17.4ms\n",
            "Speed: 11.3ms preprocess, 17.4ms inference, 2.2ms postprocess per image at shape (1, 3, 384, 640)\n",
            "\n",
            "0: 384x640 2 peoples, 2 forks, 2 spoons, 2 cups, 1 kettle, 1 basket, 1 salad, 1 ribs, 1 Caesar, 1 fish, 1 soup, 1 borsch, 1 phone, 15.5ms\n",
            "Speed: 5.6ms preprocess, 15.5ms inference, 2.2ms postprocess per image at shape (1, 3, 384, 640)\n",
            "\n",
            "0: 384x640 2 peoples, 2 forks, 2 spoons, 2 cups, 1 kettle, 1 basket, 1 salad, 1 ribs, 1 Caesar, 1 fish, 1 soup, 1 borsch, 1 phone, 24.7ms\n",
            "Speed: 3.9ms preprocess, 24.7ms inference, 2.2ms postprocess per image at shape (1, 3, 384, 640)\n",
            "\n",
            "0: 384x640 2 peoples, 2 forks, 2 spoons, 2 cups, 1 kettle, 1 basket, 1 salad, 1 ribs, 1 Caesar, 1 fish, 1 soup, 1 borsch, 1 phone, 16.3ms\n",
            "Speed: 3.9ms preprocess, 16.3ms inference, 2.4ms postprocess per image at shape (1, 3, 384, 640)\n",
            "\n",
            "0: 384x640 2 peoples, 2 forks, 2 spoons, 2 cups, 1 kettle, 1 basket, 1 salad, 1 ribs, 1 Caesar, 1 fish, 1 soup, 1 borsch, 1 phone, 15.3ms\n",
            "Speed: 3.5ms preprocess, 15.3ms inference, 2.3ms postprocess per image at shape (1, 3, 384, 640)\n",
            "\n",
            "0: 384x640 2 peoples, 2 forks, 2 spoons, 2 cups, 1 kettle, 1 basket, 1 salad, 1 ribs, 1 Caesar, 1 fish, 1 soup, 1 borsch, 1 phone, 16.0ms\n",
            "Speed: 3.6ms preprocess, 16.0ms inference, 2.3ms postprocess per image at shape (1, 3, 384, 640)\n",
            "\n",
            "0: 384x640 2 peoples, 2 forks, 2 spoons, 2 cups, 1 kettle, 1 basket, 1 salad, 1 ribs, 1 Caesar, 1 fish, 1 soup, 1 borsch, 1 phone, 17.9ms\n",
            "Speed: 14.2ms preprocess, 17.9ms inference, 2.3ms postprocess per image at shape (1, 3, 384, 640)\n",
            "\n",
            "0: 384x640 2 peoples, 2 forks, 2 spoons, 2 cups, 1 kettle, 1 basket, 1 salad, 1 ribs, 1 Caesar, 1 fish, 1 soup, 1 borsch, 1 phone, 15.8ms\n",
            "Speed: 6.3ms preprocess, 15.8ms inference, 2.3ms postprocess per image at shape (1, 3, 384, 640)\n",
            "\n",
            "0: 384x640 2 peoples, 2 forks, 2 spoons, 2 cups, 1 kettle, 1 basket, 1 salad, 1 ribs, 1 Caesar, 1 fish, 1 soup, 1 borsch, 1 phone, 18.2ms\n",
            "Speed: 3.9ms preprocess, 18.2ms inference, 2.5ms postprocess per image at shape (1, 3, 384, 640)\n",
            "\n",
            "0: 384x640 2 peoples, 2 forks, 2 spoons, 2 cups, 1 kettle, 1 basket, 1 salad, 1 ribs, 1 Caesar, 1 fish, 1 soup, 1 borsch, 1 phone, 16.8ms\n",
            "Speed: 3.8ms preprocess, 16.8ms inference, 2.3ms postprocess per image at shape (1, 3, 384, 640)\n",
            "\n",
            "0: 384x640 2 peoples, 2 forks, 2 spoons, 2 cups, 1 kettle, 1 basket, 1 salad, 1 ribs, 1 Caesar, 1 fish, 1 soup, 1 borsch, 1 phone, 16.7ms\n",
            "Speed: 4.0ms preprocess, 16.7ms inference, 2.3ms postprocess per image at shape (1, 3, 384, 640)\n",
            "\n",
            "0: 384x640 2 peoples, 2 forks, 2 spoons, 2 cups, 1 kettle, 1 basket, 1 salad, 1 ribs, 1 Caesar, 1 fish, 1 soup, 1 borsch, 1 phone, 15.6ms\n",
            "Speed: 7.5ms preprocess, 15.6ms inference, 2.3ms postprocess per image at shape (1, 3, 384, 640)\n",
            "\n",
            "0: 384x640 2 peoples, 2 forks, 2 spoons, 2 cups, 1 kettle, 1 basket, 1 salad, 1 ribs, 1 Caesar, 1 fish, 1 soup, 1 borsch, 1 phone, 15.7ms\n",
            "Speed: 8.0ms preprocess, 15.7ms inference, 2.4ms postprocess per image at shape (1, 3, 384, 640)\n",
            "\n",
            "0: 384x640 2 peoples, 2 forks, 2 spoons, 2 cups, 1 kettle, 1 basket, 1 salad, 1 ribs, 1 Caesar, 1 fish, 1 soup, 1 borsch, 1 phone, 19.9ms\n",
            "Speed: 7.6ms preprocess, 19.9ms inference, 2.1ms postprocess per image at shape (1, 3, 384, 640)\n",
            "\n",
            "0: 384x640 2 peoples, 2 forks, 2 spoons, 2 cups, 1 kettle, 1 basket, 1 salad, 1 ribs, 1 Caesar, 1 fish, 1 soup, 1 borsch, 1 phone, 16.7ms\n",
            "Speed: 11.8ms preprocess, 16.7ms inference, 2.2ms postprocess per image at shape (1, 3, 384, 640)\n",
            "\n",
            "0: 384x640 2 peoples, 2 forks, 2 spoons, 2 cups, 1 kettle, 1 basket, 1 salad, 1 ribs, 1 Caesar, 1 fish, 1 soup, 1 borsch, 1 phone, 19.9ms\n",
            "Speed: 3.3ms preprocess, 19.9ms inference, 2.2ms postprocess per image at shape (1, 3, 384, 640)\n",
            "\n",
            "0: 384x640 2 peoples, 2 forks, 2 spoons, 2 cups, 1 kettle, 1 basket, 1 salad, 1 ribs, 1 Caesar, 1 fish, 1 soup, 1 borsch, 1 phone, 26.1ms\n",
            "Speed: 5.9ms preprocess, 26.1ms inference, 2.2ms postprocess per image at shape (1, 3, 384, 640)\n",
            "\n",
            "0: 384x640 2 peoples, 2 forks, 2 spoons, 2 cups, 1 kettle, 1 basket, 1 salad, 1 ribs, 1 Caesar, 1 fish, 2 soups, 1 borsch, 1 phone, 15.1ms\n",
            "Speed: 4.1ms preprocess, 15.1ms inference, 2.1ms postprocess per image at shape (1, 3, 384, 640)\n",
            "\n",
            "0: 384x640 2 peoples, 2 forks, 2 spoons, 2 cups, 1 kettle, 1 basket, 1 salad, 1 ribs, 1 Caesar, 1 fish, 2 soups, 1 borsch, 1 phone, 16.8ms\n",
            "Speed: 4.3ms preprocess, 16.8ms inference, 2.4ms postprocess per image at shape (1, 3, 384, 640)\n",
            "\n",
            "0: 384x640 2 peoples, 2 forks, 2 spoons, 2 cups, 1 kettle, 1 basket, 1 salad, 1 ribs, 1 Caesar, 1 fish, 2 soups, 1 borsch, 1 phone, 24.9ms\n",
            "Speed: 3.8ms preprocess, 24.9ms inference, 2.4ms postprocess per image at shape (1, 3, 384, 640)\n",
            "\n",
            "0: 384x640 2 peoples, 2 forks, 2 spoons, 2 cups, 1 kettle, 1 basket, 1 salad, 1 ribs, 1 Caesar, 1 fish, 2 soups, 1 borsch, 1 phone, 15.1ms\n",
            "Speed: 4.1ms preprocess, 15.1ms inference, 2.3ms postprocess per image at shape (1, 3, 384, 640)\n",
            "\n",
            "0: 384x640 2 peoples, 2 forks, 2 spoons, 2 cups, 1 kettle, 1 basket, 1 salad, 1 ribs, 1 Caesar, 1 fish, 2 soups, 1 borsch, 1 phone, 14.1ms\n",
            "Speed: 3.2ms preprocess, 14.1ms inference, 2.1ms postprocess per image at shape (1, 3, 384, 640)\n",
            "\n",
            "0: 384x640 2 peoples, 2 forks, 2 spoons, 2 cups, 1 kettle, 1 basket, 1 salad, 1 ribs, 1 Caesar, 1 fish, 2 soups, 1 borsch, 1 phone, 29.2ms\n",
            "Speed: 9.9ms preprocess, 29.2ms inference, 2.5ms postprocess per image at shape (1, 3, 384, 640)\n",
            "\n",
            "0: 384x640 2 peoples, 2 forks, 2 spoons, 2 cups, 1 kettle, 1 basket, 1 salad, 1 ribs, 1 Caesar, 1 fish, 2 soups, 1 borsch, 1 phone, 15.7ms\n",
            "Speed: 4.1ms preprocess, 15.7ms inference, 2.2ms postprocess per image at shape (1, 3, 384, 640)\n",
            "\n",
            "0: 384x640 2 peoples, 2 forks, 2 spoons, 2 cups, 1 kettle, 1 basket, 1 salad, 1 ribs, 1 Caesar, 1 fish, 2 soups, 1 borsch, 1 phone, 16.4ms\n",
            "Speed: 7.6ms preprocess, 16.4ms inference, 2.3ms postprocess per image at shape (1, 3, 384, 640)\n",
            "\n",
            "0: 384x640 2 peoples, 2 forks, 2 spoons, 2 cups, 1 kettle, 1 basket, 1 salad, 1 ribs, 1 Caesar, 1 fish, 2 soups, 1 borsch, 1 phone, 25.3ms\n",
            "Speed: 9.7ms preprocess, 25.3ms inference, 2.4ms postprocess per image at shape (1, 3, 384, 640)\n",
            "\n",
            "0: 384x640 2 peoples, 2 forks, 2 spoons, 2 cups, 1 kettle, 1 basket, 1 salad, 1 ribs, 1 Caesar, 1 fish, 2 soups, 1 borsch, 1 phone, 17.8ms\n",
            "Speed: 4.1ms preprocess, 17.8ms inference, 2.5ms postprocess per image at shape (1, 3, 384, 640)\n",
            "\n",
            "0: 384x640 2 peoples, 2 forks, 2 spoons, 2 cups, 1 kettle, 1 basket, 1 salad, 1 ribs, 1 Caesar, 1 fish, 1 soup, 1 borsch, 1 phone, 17.8ms\n",
            "Speed: 3.9ms preprocess, 17.8ms inference, 2.2ms postprocess per image at shape (1, 3, 384, 640)\n",
            "\n",
            "0: 384x640 2 peoples, 2 forks, 2 spoons, 2 cups, 1 kettle, 1 basket, 1 salad, 1 ribs, 1 Caesar, 1 fish, 1 soup, 1 borsch, 1 phone, 16.3ms\n",
            "Speed: 6.5ms preprocess, 16.3ms inference, 2.4ms postprocess per image at shape (1, 3, 384, 640)\n",
            "\n",
            "0: 384x640 2 peoples, 2 forks, 2 spoons, 2 cups, 1 kettle, 1 basket, 1 salad, 1 ribs, 1 Caesar, 1 fish, 1 soup, 1 borsch, 1 phone, 13.8ms\n",
            "Speed: 3.4ms preprocess, 13.8ms inference, 2.0ms postprocess per image at shape (1, 3, 384, 640)\n",
            "\n",
            "0: 384x640 2 peoples, 2 forks, 2 spoons, 2 cups, 1 kettle, 1 basket, 1 salad, 1 ribs, 1 Caesar, 1 fish, 1 soup, 1 borsch, 1 phone, 15.5ms\n",
            "Speed: 7.1ms preprocess, 15.5ms inference, 2.3ms postprocess per image at shape (1, 3, 384, 640)\n",
            "\n",
            "0: 384x640 2 peoples, 2 forks, 2 spoons, 2 cups, 1 kettle, 1 basket, 1 salad, 1 ribs, 1 Caesar, 1 fish, 1 soup, 1 borsch, 1 phone, 16.2ms\n",
            "Speed: 6.6ms preprocess, 16.2ms inference, 2.3ms postprocess per image at shape (1, 3, 384, 640)\n",
            "\n",
            "0: 384x640 2 peoples, 2 forks, 2 spoons, 2 cups, 1 kettle, 1 basket, 1 salad, 1 ribs, 1 Caesar, 1 fish, 1 soup, 1 borsch, 1 phone, 32.9ms\n",
            "Speed: 7.8ms preprocess, 32.9ms inference, 2.3ms postprocess per image at shape (1, 3, 384, 640)\n",
            "\n",
            "0: 384x640 2 peoples, 2 forks, 2 spoons, 2 cups, 1 kettle, 1 basket, 1 salad, 1 ribs, 1 Caesar, 1 fish, 1 soup, 1 borsch, 1 phone, 23.6ms\n",
            "Speed: 3.3ms preprocess, 23.6ms inference, 2.4ms postprocess per image at shape (1, 3, 384, 640)\n",
            "\n",
            "0: 384x640 2 peoples, 2 forks, 2 spoons, 2 cups, 1 kettle, 1 basket, 1 salad, 1 ribs, 1 Caesar, 1 fish, 1 soup, 1 borsch, 1 phone, 18.1ms\n",
            "Speed: 4.9ms preprocess, 18.1ms inference, 2.2ms postprocess per image at shape (1, 3, 384, 640)\n",
            "\n",
            "0: 384x640 2 peoples, 2 forks, 2 spoons, 2 cups, 1 kettle, 1 basket, 1 salad, 1 ribs, 1 Caesar, 1 fish, 1 soup, 1 borsch, 1 phone, 16.0ms\n",
            "Speed: 6.3ms preprocess, 16.0ms inference, 2.3ms postprocess per image at shape (1, 3, 384, 640)\n",
            "\n",
            "0: 384x640 2 peoples, 2 forks, 2 spoons, 2 cups, 1 kettle, 1 basket, 1 salad, 1 ribs, 1 Caesar, 1 fish, 1 soup, 1 borsch, 1 phone, 15.7ms\n",
            "Speed: 6.8ms preprocess, 15.7ms inference, 2.2ms postprocess per image at shape (1, 3, 384, 640)\n",
            "\n",
            "0: 384x640 2 peoples, 2 forks, 2 spoons, 2 cups, 1 kettle, 1 basket, 1 salad, 1 ribs, 1 Caesar, 1 fish, 1 soup, 1 borsch, 1 phone, 27.4ms\n",
            "Speed: 3.7ms preprocess, 27.4ms inference, 6.0ms postprocess per image at shape (1, 3, 384, 640)\n",
            "\n",
            "0: 384x640 2 peoples, 2 forks, 2 spoons, 2 cups, 1 kettle, 1 basket, 1 salad, 1 ribs, 1 Caesar, 1 fish, 1 soup, 1 borsch, 1 phone, 27.7ms\n",
            "Speed: 3.7ms preprocess, 27.7ms inference, 3.0ms postprocess per image at shape (1, 3, 384, 640)\n",
            "\n",
            "0: 384x640 2 peoples, 2 forks, 2 spoons, 2 cups, 1 kettle, 1 basket, 1 salad, 1 ribs, 1 Caesar, 1 fish, 1 soup, 1 borsch, 1 phone, 16.3ms\n",
            "Speed: 4.6ms preprocess, 16.3ms inference, 2.0ms postprocess per image at shape (1, 3, 384, 640)\n",
            "\n",
            "0: 384x640 2 peoples, 2 forks, 2 spoons, 2 cups, 1 kettle, 1 basket, 1 salad, 1 ribs, 1 Caesar, 1 fish, 1 soup, 1 borsch, 1 phone, 47.0ms\n",
            "Speed: 6.4ms preprocess, 47.0ms inference, 2.4ms postprocess per image at shape (1, 3, 384, 640)\n",
            "\n",
            "0: 384x640 2 peoples, 2 forks, 2 spoons, 2 cups, 1 kettle, 1 basket, 1 salad, 1 ribs, 1 Caesar, 1 fish, 1 soup, 1 borsch, 1 phone, 26.7ms\n",
            "Speed: 3.5ms preprocess, 26.7ms inference, 1.8ms postprocess per image at shape (1, 3, 384, 640)\n",
            "\n",
            "0: 384x640 2 peoples, 2 forks, 2 spoons, 2 cups, 1 kettle, 1 basket, 1 salad, 1 ribs, 1 Caesar, 1 fish, 1 soup, 1 borsch, 1 phone, 26.7ms\n",
            "Speed: 3.3ms preprocess, 26.7ms inference, 9.0ms postprocess per image at shape (1, 3, 384, 640)\n",
            "\n",
            "0: 384x640 2 peoples, 2 forks, 2 spoons, 2 cups, 1 kettle, 1 basket, 1 salad, 1 ribs, 1 Caesar, 1 fish, 1 soup, 1 borsch, 1 phone, 32.0ms\n",
            "Speed: 5.2ms preprocess, 32.0ms inference, 5.2ms postprocess per image at shape (1, 3, 384, 640)\n",
            "\n",
            "0: 384x640 2 peoples, 2 forks, 2 spoons, 2 cups, 1 kettle, 1 basket, 1 salad, 1 ribs, 1 Caesar, 1 fish, 1 soup, 1 borsch, 1 phone, 24.5ms\n",
            "Speed: 5.3ms preprocess, 24.5ms inference, 7.3ms postprocess per image at shape (1, 3, 384, 640)\n",
            "\n",
            "0: 384x640 2 peoples, 2 forks, 2 spoons, 2 cups, 1 kettle, 1 basket, 1 salad, 1 ribs, 1 Caesar, 1 fish, 1 soup, 1 borsch, 1 phone, 29.0ms\n",
            "Speed: 3.4ms preprocess, 29.0ms inference, 9.4ms postprocess per image at shape (1, 3, 384, 640)\n",
            "\n",
            "0: 384x640 2 peoples, 2 forks, 2 spoons, 2 cups, 1 kettle, 1 basket, 1 salad, 1 ribs, 1 Caesar, 1 fish, 1 soup, 1 borsch, 1 phone, 20.5ms\n",
            "Speed: 4.0ms preprocess, 20.5ms inference, 2.2ms postprocess per image at shape (1, 3, 384, 640)\n",
            "\n",
            "0: 384x640 2 peoples, 2 forks, 2 spoons, 2 cups, 1 kettle, 1 basket, 1 salad, 1 ribs, 1 Caesar, 1 fish, 1 soup, 1 borsch, 1 phone, 25.0ms\n",
            "Speed: 3.7ms preprocess, 25.0ms inference, 2.2ms postprocess per image at shape (1, 3, 384, 640)\n",
            "\n",
            "0: 384x640 2 peoples, 2 forks, 2 spoons, 2 cups, 1 kettle, 1 basket, 1 salad, 1 ribs, 1 Caesar, 1 fish, 1 soup, 1 borsch, 1 phone, 15.3ms\n",
            "Speed: 5.5ms preprocess, 15.3ms inference, 2.3ms postprocess per image at shape (1, 3, 384, 640)\n",
            "\n",
            "0: 384x640 2 peoples, 2 forks, 2 spoons, 2 cups, 1 kettle, 1 basket, 1 salad, 1 ribs, 1 Caesar, 1 fish, 1 soup, 1 borsch, 1 phone, 14.9ms\n",
            "Speed: 3.8ms preprocess, 14.9ms inference, 2.2ms postprocess per image at shape (1, 3, 384, 640)\n",
            "\n",
            "0: 384x640 2 peoples, 2 forks, 2 spoons, 2 cups, 1 kettle, 1 basket, 1 salad, 1 ribs, 1 Caesar, 1 fish, 1 soup, 1 borsch, 1 phone, 14.8ms\n",
            "Speed: 3.6ms preprocess, 14.8ms inference, 2.2ms postprocess per image at shape (1, 3, 384, 640)\n",
            "\n",
            "0: 384x640 2 peoples, 2 forks, 2 spoons, 2 cups, 1 kettle, 1 basket, 1 salad, 1 ribs, 1 Caesar, 1 fish, 1 soup, 1 borsch, 1 phone, 15.4ms\n",
            "Speed: 7.3ms preprocess, 15.4ms inference, 2.3ms postprocess per image at shape (1, 3, 384, 640)\n",
            "\n",
            "0: 384x640 2 peoples, 2 forks, 2 spoons, 2 cups, 1 kettle, 1 basket, 1 salad, 1 ribs, 1 Caesar, 1 fish, 1 soup, 1 borsch, 1 phone, 15.5ms\n",
            "Speed: 5.4ms preprocess, 15.5ms inference, 2.3ms postprocess per image at shape (1, 3, 384, 640)\n",
            "\n",
            "0: 384x640 2 peoples, 2 forks, 2 spoons, 2 cups, 1 kettle, 1 basket, 1 salad, 1 ribs, 1 Caesar, 1 fish, 1 soup, 1 borsch, 1 phone, 18.2ms\n",
            "Speed: 3.0ms preprocess, 18.2ms inference, 2.2ms postprocess per image at shape (1, 3, 384, 640)\n",
            "\n",
            "0: 384x640 2 peoples, 2 forks, 2 spoons, 2 cups, 1 kettle, 1 basket, 1 salad, 1 ribs, 1 Caesar, 1 fish, 1 soup, 1 borsch, 1 phone, 24.0ms\n",
            "Speed: 8.4ms preprocess, 24.0ms inference, 2.4ms postprocess per image at shape (1, 3, 384, 640)\n",
            "\n",
            "0: 384x640 2 peoples, 2 forks, 2 spoons, 2 cups, 1 kettle, 1 basket, 1 salad, 1 ribs, 1 Caesar, 1 fish, 1 soup, 1 borsch, 1 phone, 14.1ms\n",
            "Speed: 3.2ms preprocess, 14.1ms inference, 2.2ms postprocess per image at shape (1, 3, 384, 640)\n",
            "\n",
            "0: 384x640 2 peoples, 2 forks, 2 spoons, 2 cups, 1 kettle, 1 basket, 1 salad, 1 ribs, 1 Caesar, 1 fish, 1 soup, 1 borsch, 1 phone, 16.7ms\n",
            "Speed: 6.7ms preprocess, 16.7ms inference, 2.3ms postprocess per image at shape (1, 3, 384, 640)\n",
            "\n",
            "0: 384x640 2 peoples, 2 forks, 2 spoons, 2 cups, 1 kettle, 1 basket, 1 salad, 1 ribs, 1 Caesar, 1 fish, 1 soup, 1 borsch, 1 phone, 18.8ms\n",
            "Speed: 3.4ms preprocess, 18.8ms inference, 2.3ms postprocess per image at shape (1, 3, 384, 640)\n",
            "\n",
            "0: 384x640 2 peoples, 2 forks, 2 spoons, 2 cups, 1 kettle, 1 basket, 1 salad, 1 ribs, 1 Caesar, 1 fish, 1 soup, 1 borsch, 1 phone, 15.5ms\n",
            "Speed: 3.4ms preprocess, 15.5ms inference, 2.2ms postprocess per image at shape (1, 3, 384, 640)\n",
            "\n",
            "0: 384x640 2 peoples, 2 forks, 2 spoons, 2 cups, 1 kettle, 1 basket, 1 salad, 1 ribs, 1 Caesar, 1 fish, 1 soup, 1 borsch, 1 phone, 14.9ms\n",
            "Speed: 4.3ms preprocess, 14.9ms inference, 2.1ms postprocess per image at shape (1, 3, 384, 640)\n",
            "\n",
            "0: 384x640 2 peoples, 2 forks, 2 spoons, 2 cups, 1 kettle, 1 basket, 1 salad, 1 ribs, 1 Caesar, 1 fish, 1 soup, 1 borsch, 1 phone, 18.3ms\n",
            "Speed: 10.6ms preprocess, 18.3ms inference, 2.5ms postprocess per image at shape (1, 3, 384, 640)\n",
            "\n",
            "0: 384x640 2 peoples, 2 forks, 2 spoons, 2 cups, 1 kettle, 1 basket, 1 salad, 1 ribs, 1 Caesar, 1 fish, 1 soup, 1 borsch, 1 phone, 16.9ms\n",
            "Speed: 3.1ms preprocess, 16.9ms inference, 1.9ms postprocess per image at shape (1, 3, 384, 640)\n",
            "\n",
            "0: 384x640 2 peoples, 2 forks, 2 spoons, 2 cups, 1 kettle, 1 basket, 1 salad, 1 ribs, 1 Caesar, 1 fish, 1 soup, 1 borsch, 1 phone, 15.0ms\n",
            "Speed: 3.3ms preprocess, 15.0ms inference, 2.3ms postprocess per image at shape (1, 3, 384, 640)\n",
            "\n",
            "0: 384x640 2 peoples, 2 forks, 2 spoons, 2 cups, 1 kettle, 1 basket, 1 salad, 1 ribs, 1 Caesar, 1 fish, 1 soup, 1 borsch, 1 phone, 16.1ms\n",
            "Speed: 4.0ms preprocess, 16.1ms inference, 2.3ms postprocess per image at shape (1, 3, 384, 640)\n",
            "\n",
            "0: 384x640 2 peoples, 2 forks, 2 spoons, 2 cups, 1 kettle, 1 basket, 1 salad, 1 ribs, 1 Caesar, 1 fish, 1 soup, 1 borsch, 1 phone, 14.8ms\n",
            "Speed: 3.4ms preprocess, 14.8ms inference, 2.2ms postprocess per image at shape (1, 3, 384, 640)\n",
            "\n",
            "0: 384x640 2 peoples, 2 forks, 2 spoons, 2 cups, 1 kettle, 1 basket, 1 salad, 1 ribs, 1 Caesar, 1 fish, 1 soup, 1 borsch, 1 phone, 30.3ms\n",
            "Speed: 3.3ms preprocess, 30.3ms inference, 2.4ms postprocess per image at shape (1, 3, 384, 640)\n",
            "\n",
            "0: 384x640 2 peoples, 2 forks, 2 spoons, 2 cups, 1 kettle, 1 basket, 1 salad, 1 ribs, 1 Caesar, 1 fish, 1 soup, 1 borsch, 1 phone, 29.0ms\n",
            "Speed: 3.6ms preprocess, 29.0ms inference, 2.5ms postprocess per image at shape (1, 3, 384, 640)\n",
            "\n",
            "0: 384x640 2 peoples, 2 forks, 2 spoons, 2 cups, 1 kettle, 1 basket, 1 salad, 1 ribs, 1 Caesar, 1 fish, 1 soup, 1 borsch, 1 phone, 21.1ms\n",
            "Speed: 4.0ms preprocess, 21.1ms inference, 2.2ms postprocess per image at shape (1, 3, 384, 640)\n",
            "\n",
            "0: 384x640 2 peoples, 2 forks, 2 spoons, 2 cups, 1 kettle, 1 basket, 1 salad, 1 ribs, 1 Caesar, 1 fish, 1 soup, 1 borsch, 1 phone, 14.3ms\n",
            "Speed: 3.9ms preprocess, 14.3ms inference, 2.1ms postprocess per image at shape (1, 3, 384, 640)\n",
            "\n",
            "0: 384x640 2 peoples, 2 forks, 2 spoons, 2 cups, 1 kettle, 1 basket, 1 salad, 1 ribs, 1 Caesar, 1 fish, 1 soup, 1 borsch, 1 phone, 14.1ms\n",
            "Speed: 4.0ms preprocess, 14.1ms inference, 1.8ms postprocess per image at shape (1, 3, 384, 640)\n",
            "\n",
            "0: 384x640 2 peoples, 2 forks, 2 spoons, 2 cups, 1 kettle, 1 basket, 1 salad, 1 ribs, 1 Caesar, 1 fish, 1 soup, 1 borsch, 1 phone, 17.7ms\n",
            "Speed: 4.0ms preprocess, 17.7ms inference, 2.2ms postprocess per image at shape (1, 3, 384, 640)\n",
            "\n",
            "0: 384x640 2 peoples, 2 forks, 2 spoons, 2 cups, 1 kettle, 1 basket, 1 salad, 1 ribs, 1 Caesar, 1 fish, 1 soup, 1 borsch, 1 phone, 18.3ms\n",
            "Speed: 3.6ms preprocess, 18.3ms inference, 2.2ms postprocess per image at shape (1, 3, 384, 640)\n",
            "\n",
            "0: 384x640 2 peoples, 2 forks, 2 spoons, 2 cups, 1 kettle, 1 basket, 1 salad, 1 ribs, 1 Caesar, 1 fish, 1 soup, 1 borsch, 1 phone, 17.7ms\n",
            "Speed: 3.9ms preprocess, 17.7ms inference, 2.3ms postprocess per image at shape (1, 3, 384, 640)\n",
            "\n",
            "0: 384x640 2 peoples, 2 forks, 2 spoons, 2 cups, 1 kettle, 1 basket, 1 salad, 1 ribs, 1 Caesar, 1 fish, 1 soup, 1 borsch, 1 phone, 15.9ms\n",
            "Speed: 3.7ms preprocess, 15.9ms inference, 2.2ms postprocess per image at shape (1, 3, 384, 640)\n",
            "\n",
            "0: 384x640 2 peoples, 2 forks, 2 spoons, 2 cups, 1 kettle, 1 basket, 1 salad, 1 ribs, 1 Caesar, 1 fish, 1 soup, 1 borsch, 1 phone, 23.2ms\n",
            "Speed: 7.3ms preprocess, 23.2ms inference, 2.4ms postprocess per image at shape (1, 3, 384, 640)\n",
            "\n",
            "0: 384x640 2 peoples, 2 forks, 2 spoons, 2 cups, 1 kettle, 1 basket, 1 salad, 1 ribs, 1 Caesar, 1 fish, 1 soup, 1 borsch, 1 phone, 15.2ms\n",
            "Speed: 3.6ms preprocess, 15.2ms inference, 2.3ms postprocess per image at shape (1, 3, 384, 640)\n",
            "\n",
            "0: 384x640 2 peoples, 2 forks, 2 spoons, 2 cups, 1 kettle, 1 basket, 1 salad, 1 ribs, 1 Caesar, 1 fish, 1 soup, 1 borsch, 1 phone, 18.9ms\n",
            "Speed: 3.6ms preprocess, 18.9ms inference, 2.3ms postprocess per image at shape (1, 3, 384, 640)\n",
            "\n",
            "0: 384x640 2 peoples, 2 forks, 2 spoons, 2 cups, 1 kettle, 1 basket, 1 salad, 1 ribs, 1 Caesar, 1 fish, 1 soup, 1 borsch, 1 phone, 16.9ms\n",
            "Speed: 3.6ms preprocess, 16.9ms inference, 2.3ms postprocess per image at shape (1, 3, 384, 640)\n",
            "\n",
            "0: 384x640 2 peoples, 2 forks, 2 spoons, 2 cups, 1 kettle, 1 basket, 1 salad, 1 ribs, 1 Caesar, 1 fish, 1 soup, 1 borsch, 1 phone, 15.4ms\n",
            "Speed: 3.7ms preprocess, 15.4ms inference, 2.2ms postprocess per image at shape (1, 3, 384, 640)\n",
            "\n",
            "0: 384x640 2 peoples, 2 forks, 2 spoons, 2 cups, 1 kettle, 1 basket, 1 salad, 1 ribs, 1 Caesar, 1 fish, 1 soup, 1 borsch, 1 phone, 22.2ms\n",
            "Speed: 3.6ms preprocess, 22.2ms inference, 2.3ms postprocess per image at shape (1, 3, 384, 640)\n",
            "\n",
            "0: 384x640 2 peoples, 2 forks, 2 spoons, 2 cups, 1 kettle, 1 basket, 1 salad, 1 ribs, 1 Caesar, 1 fish, 1 soup, 1 borsch, 1 phone, 16.3ms\n",
            "Speed: 7.4ms preprocess, 16.3ms inference, 2.2ms postprocess per image at shape (1, 3, 384, 640)\n",
            "\n",
            "0: 384x640 2 peoples, 2 forks, 2 spoons, 2 cups, 1 kettle, 1 basket, 1 salad, 1 ribs, 1 Caesar, 1 fish, 1 soup, 1 borsch, 1 phone, 15.5ms\n",
            "Speed: 7.9ms preprocess, 15.5ms inference, 2.1ms postprocess per image at shape (1, 3, 384, 640)\n",
            "\n",
            "0: 384x640 2 peoples, 2 forks, 2 spoons, 2 cups, 1 kettle, 1 basket, 1 salad, 1 ribs, 1 Caesar, 1 fish, 1 soup, 1 borsch, 1 phone, 13.9ms\n",
            "Speed: 3.2ms preprocess, 13.9ms inference, 2.2ms postprocess per image at shape (1, 3, 384, 640)\n",
            "\n",
            "0: 384x640 2 peoples, 2 forks, 2 spoons, 2 cups, 1 kettle, 1 basket, 1 salad, 1 ribs, 1 Caesar, 1 fish, 1 soup, 1 borsch, 1 phone, 17.2ms\n",
            "Speed: 3.6ms preprocess, 17.2ms inference, 2.3ms postprocess per image at shape (1, 3, 384, 640)\n",
            "\n",
            "0: 384x640 2 peoples, 2 forks, 2 spoons, 2 cups, 1 kettle, 1 basket, 1 salad, 1 ribs, 1 Caesar, 1 fish, 1 soup, 1 borsch, 1 phone, 23.2ms\n",
            "Speed: 3.3ms preprocess, 23.2ms inference, 2.6ms postprocess per image at shape (1, 3, 384, 640)\n",
            "\n",
            "0: 384x640 2 peoples, 2 forks, 2 spoons, 2 cups, 1 kettle, 1 basket, 1 salad, 1 ribs, 1 Caesar, 1 fish, 1 soup, 1 borsch, 1 phone, 15.8ms\n",
            "Speed: 3.9ms preprocess, 15.8ms inference, 2.2ms postprocess per image at shape (1, 3, 384, 640)\n",
            "\n",
            "0: 384x640 2 peoples, 2 forks, 2 spoons, 2 cups, 1 kettle, 1 basket, 1 salad, 1 ribs, 1 Caesar, 1 fish, 1 soup, 1 borsch, 1 phone, 15.8ms\n",
            "Speed: 5.8ms preprocess, 15.8ms inference, 2.2ms postprocess per image at shape (1, 3, 384, 640)\n",
            "\n",
            "0: 384x640 2 peoples, 2 forks, 2 spoons, 2 cups, 1 kettle, 1 basket, 1 salad, 1 ribs, 1 Caesar, 1 fish, 1 soup, 1 borsch, 1 phone, 15.3ms\n",
            "Speed: 4.2ms preprocess, 15.3ms inference, 2.2ms postprocess per image at shape (1, 3, 384, 640)\n",
            "\n",
            "0: 384x640 2 peoples, 2 forks, 2 spoons, 2 cups, 1 kettle, 1 basket, 1 salad, 1 ribs, 1 Caesar, 1 fish, 1 soup, 1 borsch, 1 phone, 15.1ms\n",
            "Speed: 4.3ms preprocess, 15.1ms inference, 2.3ms postprocess per image at shape (1, 3, 384, 640)\n",
            "\n",
            "0: 384x640 2 peoples, 2 forks, 2 spoons, 2 cups, 1 kettle, 1 basket, 1 salad, 1 ribs, 1 Caesar, 1 fish, 1 soup, 1 borsch, 1 phone, 15.2ms\n",
            "Speed: 4.1ms preprocess, 15.2ms inference, 2.3ms postprocess per image at shape (1, 3, 384, 640)\n",
            "\n",
            "0: 384x640 2 peoples, 2 forks, 2 spoons, 2 cups, 1 kettle, 1 basket, 1 salad, 1 ribs, 1 Caesar, 1 fish, 1 soup, 1 borsch, 1 phone, 15.8ms\n",
            "Speed: 3.3ms preprocess, 15.8ms inference, 2.3ms postprocess per image at shape (1, 3, 384, 640)\n",
            "\n",
            "0: 384x640 2 peoples, 2 forks, 2 spoons, 2 cups, 1 kettle, 1 basket, 1 salad, 1 ribs, 1 Caesar, 1 fish, 1 soup, 1 borsch, 1 phone, 15.0ms\n",
            "Speed: 3.4ms preprocess, 15.0ms inference, 2.2ms postprocess per image at shape (1, 3, 384, 640)\n",
            "\n",
            "0: 384x640 2 peoples, 2 forks, 2 spoons, 2 cups, 1 kettle, 1 basket, 1 salad, 1 ribs, 1 Caesar, 1 fish, 1 soup, 1 borsch, 1 phone, 15.2ms\n",
            "Speed: 11.1ms preprocess, 15.2ms inference, 2.4ms postprocess per image at shape (1, 3, 384, 640)\n",
            "\n",
            "0: 384x640 2 peoples, 2 forks, 2 spoons, 2 cups, 1 kettle, 1 basket, 1 salad, 1 ribs, 1 Caesar, 1 fish, 1 soup, 1 borsch, 1 phone, 13.9ms\n",
            "Speed: 3.7ms preprocess, 13.9ms inference, 2.1ms postprocess per image at shape (1, 3, 384, 640)\n",
            "\n",
            "0: 384x640 2 peoples, 2 forks, 2 spoons, 2 cups, 1 kettle, 1 basket, 1 salad, 1 ribs, 1 Caesar, 1 fish, 1 soup, 1 borsch, 1 phone, 24.3ms\n",
            "Speed: 5.2ms preprocess, 24.3ms inference, 6.5ms postprocess per image at shape (1, 3, 384, 640)\n",
            "\n",
            "0: 384x640 2 peoples, 2 forks, 2 spoons, 2 cups, 1 kettle, 1 basket, 1 salad, 1 ribs, 1 Caesar, 1 fish, 1 soup, 1 borsch, 1 phone, 34.7ms\n",
            "Speed: 3.4ms preprocess, 34.7ms inference, 2.4ms postprocess per image at shape (1, 3, 384, 640)\n",
            "\n",
            "0: 384x640 2 peoples, 2 forks, 2 spoons, 2 cups, 1 kettle, 1 basket, 1 salad, 1 ribs, 1 Caesar, 1 fish, 1 soup, 1 borsch, 1 phone, 27.6ms\n",
            "Speed: 3.4ms preprocess, 27.6ms inference, 2.0ms postprocess per image at shape (1, 3, 384, 640)\n",
            "\n",
            "0: 384x640 2 peoples, 2 forks, 2 spoons, 2 cups, 1 kettle, 1 basket, 1 salad, 1 ribs, 1 Caesar, 1 fish, 1 soup, 1 borsch, 1 phone, 26.8ms\n",
            "Speed: 14.6ms preprocess, 26.8ms inference, 8.9ms postprocess per image at shape (1, 3, 384, 640)\n",
            "\n",
            "0: 384x640 2 peoples, 2 forks, 2 spoons, 2 cups, 1 kettle, 1 basket, 1 salad, 1 ribs, 1 Caesar, 1 fish, 1 soup, 1 borsch, 1 phone, 39.2ms\n",
            "Speed: 4.1ms preprocess, 39.2ms inference, 1.9ms postprocess per image at shape (1, 3, 384, 640)\n",
            "\n",
            "0: 384x640 2 peoples, 2 forks, 2 spoons, 2 cups, 1 kettle, 1 basket, 1 salad, 1 ribs, 1 Caesar, 1 fish, 1 soup, 1 borsch, 1 phone, 31.0ms\n",
            "Speed: 3.5ms preprocess, 31.0ms inference, 1.9ms postprocess per image at shape (1, 3, 384, 640)\n",
            "\n",
            "0: 384x640 2 peoples, 2 forks, 2 spoons, 2 cups, 1 kettle, 1 basket, 1 salad, 1 ribs, 1 Caesar, 1 fish, 1 soup, 1 borsch, 1 phone, 37.0ms\n",
            "Speed: 10.5ms preprocess, 37.0ms inference, 2.4ms postprocess per image at shape (1, 3, 384, 640)\n",
            "\n",
            "0: 384x640 2 peoples, 2 forks, 2 spoons, 2 cups, 1 kettle, 1 basket, 1 salad, 1 ribs, 1 Caesar, 1 fish, 1 soup, 1 borsch, 1 phone, 35.1ms\n",
            "Speed: 3.3ms preprocess, 35.1ms inference, 2.3ms postprocess per image at shape (1, 3, 384, 640)\n",
            "\n",
            "0: 384x640 2 peoples, 2 forks, 2 spoons, 2 cups, 1 kettle, 1 basket, 1 salad, 1 ribs, 1 Caesar, 1 fish, 1 soup, 1 borsch, 1 phone, 25.4ms\n",
            "Speed: 3.3ms preprocess, 25.4ms inference, 2.6ms postprocess per image at shape (1, 3, 384, 640)\n",
            "\n",
            "0: 384x640 2 peoples, 2 forks, 2 spoons, 2 cups, 1 kettle, 1 basket, 1 salad, 1 ribs, 1 Caesar, 1 fish, 1 soup, 1 borsch, 1 phone, 19.2ms\n",
            "Speed: 11.4ms preprocess, 19.2ms inference, 2.3ms postprocess per image at shape (1, 3, 384, 640)\n",
            "\n",
            "0: 384x640 2 peoples, 2 forks, 2 spoons, 2 cups, 1 kettle, 1 basket, 1 salad, 1 ribs, 1 Caesar, 1 fish, 1 soup, 1 borsch, 1 phone, 22.4ms\n",
            "Speed: 9.0ms preprocess, 22.4ms inference, 2.3ms postprocess per image at shape (1, 3, 384, 640)\n",
            "\n",
            "0: 384x640 2 peoples, 2 forks, 2 spoons, 2 cups, 1 kettle, 1 basket, 1 salad, 1 ribs, 1 Caesar, 1 fish, 1 soup, 1 borsch, 1 phone, 32.2ms\n",
            "Speed: 3.6ms preprocess, 32.2ms inference, 2.2ms postprocess per image at shape (1, 3, 384, 640)\n",
            "\n",
            "0: 384x640 2 peoples, 2 forks, 2 spoons, 2 cups, 1 kettle, 1 basket, 1 salad, 1 ribs, 1 Caesar, 1 fish, 1 soup, 1 borsch, 1 phone, 14.3ms\n",
            "Speed: 3.4ms preprocess, 14.3ms inference, 2.2ms postprocess per image at shape (1, 3, 384, 640)\n",
            "\n",
            "0: 384x640 2 peoples, 2 forks, 2 spoons, 2 cups, 1 kettle, 1 basket, 1 salad, 1 ribs, 1 Caesar, 1 fish, 1 soup, 1 borsch, 1 phone, 15.6ms\n",
            "Speed: 3.5ms preprocess, 15.6ms inference, 12.2ms postprocess per image at shape (1, 3, 384, 640)\n",
            "\n",
            "0: 384x640 2 peoples, 2 forks, 2 spoons, 2 cups, 1 kettle, 1 basket, 1 salad, 1 ribs, 1 Caesar, 1 fish, 1 soup, 1 borsch, 1 phone, 15.1ms\n",
            "Speed: 3.2ms preprocess, 15.1ms inference, 2.3ms postprocess per image at shape (1, 3, 384, 640)\n",
            "\n",
            "0: 384x640 2 peoples, 2 forks, 2 spoons, 2 cups, 1 kettle, 1 basket, 1 salad, 1 ribs, 1 Caesar, 1 fish, 1 soup, 1 borsch, 1 phone, 16.8ms\n",
            "Speed: 3.6ms preprocess, 16.8ms inference, 2.3ms postprocess per image at shape (1, 3, 384, 640)\n",
            "\n",
            "0: 384x640 2 peoples, 2 forks, 2 spoons, 2 cups, 1 kettle, 1 basket, 1 salad, 1 ribs, 1 Caesar, 1 fish, 1 soup, 1 borsch, 1 phone, 20.7ms\n",
            "Speed: 8.3ms preprocess, 20.7ms inference, 2.2ms postprocess per image at shape (1, 3, 384, 640)\n",
            "\n",
            "0: 384x640 2 peoples, 2 forks, 2 spoons, 2 cups, 1 kettle, 1 basket, 1 salad, 1 ribs, 1 Caesar, 1 fish, 1 soup, 1 borsch, 1 phone, 15.9ms\n",
            "Speed: 3.8ms preprocess, 15.9ms inference, 2.3ms postprocess per image at shape (1, 3, 384, 640)\n",
            "\n",
            "0: 384x640 2 peoples, 2 forks, 2 spoons, 2 cups, 1 kettle, 1 basket, 1 salad, 1 ribs, 1 Caesar, 1 fish, 1 soup, 1 borsch, 1 phone, 28.3ms\n",
            "Speed: 3.6ms preprocess, 28.3ms inference, 4.6ms postprocess per image at shape (1, 3, 384, 640)\n",
            "\n",
            "0: 384x640 2 peoples, 2 forks, 2 spoons, 2 cups, 1 kettle, 1 basket, 1 salad, 1 ribs, 1 Caesar, 1 fish, 1 soup, 1 borsch, 1 phone, 16.0ms\n",
            "Speed: 5.8ms preprocess, 16.0ms inference, 2.4ms postprocess per image at shape (1, 3, 384, 640)\n",
            "\n",
            "0: 384x640 2 peoples, 2 forks, 2 spoons, 2 cups, 1 kettle, 1 basket, 1 salad, 1 ribs, 1 Caesar, 1 fish, 1 soup, 1 borsch, 1 phone, 20.0ms\n",
            "Speed: 9.0ms preprocess, 20.0ms inference, 2.3ms postprocess per image at shape (1, 3, 384, 640)\n",
            "\n",
            "0: 384x640 2 peoples, 2 forks, 2 spoons, 2 cups, 1 kettle, 1 basket, 1 salad, 1 ribs, 1 Caesar, 1 fish, 1 soup, 1 borsch, 1 phone, 14.5ms\n",
            "Speed: 4.0ms preprocess, 14.5ms inference, 3.6ms postprocess per image at shape (1, 3, 384, 640)\n",
            "\n",
            "0: 384x640 2 peoples, 2 forks, 2 spoons, 2 cups, 1 kettle, 1 basket, 1 salad, 1 ribs, 1 Caesar, 1 fish, 1 soup, 1 borsch, 1 phone, 16.9ms\n",
            "Speed: 9.3ms preprocess, 16.9ms inference, 2.4ms postprocess per image at shape (1, 3, 384, 640)\n",
            "\n",
            "0: 384x640 2 peoples, 2 forks, 2 spoons, 2 cups, 1 kettle, 1 basket, 1 salad, 1 ribs, 1 Caesar, 1 fish, 1 soup, 1 borsch, 1 phone, 15.1ms\n",
            "Speed: 4.2ms preprocess, 15.1ms inference, 2.2ms postprocess per image at shape (1, 3, 384, 640)\n",
            "\n",
            "0: 384x640 2 peoples, 2 forks, 2 spoons, 2 cups, 1 kettle, 1 basket, 1 salad, 1 ribs, 1 Caesar, 1 fish, 1 soup, 1 borsch, 1 phone, 15.1ms\n",
            "Speed: 4.4ms preprocess, 15.1ms inference, 2.2ms postprocess per image at shape (1, 3, 384, 640)\n",
            "\n",
            "0: 384x640 2 peoples, 2 forks, 2 spoons, 2 cups, 1 kettle, 1 basket, 1 salad, 1 ribs, 1 Caesar, 1 fish, 1 soup, 1 borsch, 1 phone, 15.8ms\n",
            "Speed: 6.7ms preprocess, 15.8ms inference, 2.2ms postprocess per image at shape (1, 3, 384, 640)\n",
            "\n",
            "0: 384x640 2 peoples, 2 forks, 2 spoons, 2 cups, 1 kettle, 1 basket, 1 salad, 1 ribs, 1 Caesar, 1 fish, 1 soup, 1 borsch, 1 phone, 17.7ms\n",
            "Speed: 5.9ms preprocess, 17.7ms inference, 2.3ms postprocess per image at shape (1, 3, 384, 640)\n",
            "\n",
            "0: 384x640 2 peoples, 2 forks, 2 spoons, 2 cups, 1 kettle, 1 basket, 1 salad, 1 ribs, 1 Caesar, 1 fish, 1 soup, 1 borsch, 1 phone, 13.2ms\n",
            "Speed: 3.5ms preprocess, 13.2ms inference, 1.9ms postprocess per image at shape (1, 3, 384, 640)\n",
            "\n",
            "0: 384x640 2 peoples, 2 forks, 2 spoons, 2 cups, 1 kettle, 1 basket, 1 salad, 1 ribs, 1 Caesar, 1 fish, 1 soup, 1 borsch, 1 phone, 16.2ms\n",
            "Speed: 3.9ms preprocess, 16.2ms inference, 2.2ms postprocess per image at shape (1, 3, 384, 640)\n",
            "\n",
            "0: 384x640 2 peoples, 2 forks, 2 spoons, 2 cups, 1 kettle, 1 basket, 1 salad, 1 ribs, 1 Caesar, 1 fish, 1 soup, 1 borsch, 1 phone, 15.2ms\n",
            "Speed: 3.6ms preprocess, 15.2ms inference, 2.1ms postprocess per image at shape (1, 3, 384, 640)\n",
            "\n",
            "0: 384x640 2 peoples, 2 forks, 2 spoons, 2 cups, 1 kettle, 1 basket, 1 salad, 1 ribs, 1 Caesar, 1 fish, 1 soup, 1 borsch, 1 phone, 15.4ms\n",
            "Speed: 7.6ms preprocess, 15.4ms inference, 2.2ms postprocess per image at shape (1, 3, 384, 640)\n",
            "\n",
            "0: 384x640 2 peoples, 2 forks, 2 spoons, 2 cups, 1 kettle, 1 basket, 1 salad, 1 ribs, 1 Caesar, 1 fish, 1 soup, 1 borsch, 1 phone, 18.2ms\n",
            "Speed: 10.1ms preprocess, 18.2ms inference, 2.1ms postprocess per image at shape (1, 3, 384, 640)\n",
            "\n",
            "0: 384x640 2 peoples, 2 forks, 2 spoons, 2 cups, 1 kettle, 1 basket, 1 salad, 1 ribs, 1 Caesar, 1 fish, 1 soup, 1 borsch, 1 phone, 16.2ms\n",
            "Speed: 3.8ms preprocess, 16.2ms inference, 2.2ms postprocess per image at shape (1, 3, 384, 640)\n",
            "\n",
            "0: 384x640 2 peoples, 2 forks, 2 spoons, 2 cups, 1 kettle, 1 basket, 1 salad, 1 ribs, 1 Caesar, 1 fish, 1 soup, 1 borsch, 1 phone, 15.4ms\n",
            "Speed: 8.9ms preprocess, 15.4ms inference, 2.2ms postprocess per image at shape (1, 3, 384, 640)\n",
            "\n",
            "0: 384x640 2 peoples, 2 forks, 2 spoons, 2 cups, 1 kettle, 1 basket, 1 salad, 1 ribs, 1 Caesar, 1 fish, 1 soup, 1 borsch, 1 phone, 18.5ms\n",
            "Speed: 5.1ms preprocess, 18.5ms inference, 2.4ms postprocess per image at shape (1, 3, 384, 640)\n",
            "\n",
            "0: 384x640 2 peoples, 2 forks, 2 spoons, 2 cups, 1 kettle, 1 basket, 1 salad, 1 ribs, 1 Caesar, 1 fish, 1 soup, 1 borsch, 1 phone, 15.3ms\n",
            "Speed: 3.9ms preprocess, 15.3ms inference, 2.3ms postprocess per image at shape (1, 3, 384, 640)\n",
            "\n",
            "0: 384x640 2 peoples, 2 forks, 2 spoons, 2 cups, 1 kettle, 1 basket, 1 salad, 1 ribs, 1 Caesar, 1 fish, 1 soup, 1 borsch, 1 phone, 15.0ms\n",
            "Speed: 3.8ms preprocess, 15.0ms inference, 2.2ms postprocess per image at shape (1, 3, 384, 640)\n",
            "\n",
            "0: 384x640 2 peoples, 2 forks, 2 spoons, 2 cups, 1 kettle, 1 basket, 1 salad, 1 ribs, 1 Caesar, 1 fish, 1 soup, 1 borsch, 1 phone, 16.0ms\n",
            "Speed: 3.9ms preprocess, 16.0ms inference, 2.2ms postprocess per image at shape (1, 3, 384, 640)\n",
            "\n",
            "0: 384x640 2 peoples, 2 forks, 2 spoons, 2 cups, 1 kettle, 1 basket, 1 salad, 1 ribs, 1 Caesar, 1 fish, 1 soup, 1 borsch, 1 phone, 14.0ms\n",
            "Speed: 3.6ms preprocess, 14.0ms inference, 1.9ms postprocess per image at shape (1, 3, 384, 640)\n",
            "\n",
            "0: 384x640 2 peoples, 2 forks, 2 spoons, 2 cups, 1 kettle, 1 basket, 1 salad, 1 ribs, 1 Caesar, 1 fish, 1 soup, 1 borsch, 1 phone, 14.4ms\n",
            "Speed: 3.8ms preprocess, 14.4ms inference, 2.2ms postprocess per image at shape (1, 3, 384, 640)\n",
            "\n",
            "0: 384x640 2 peoples, 2 forks, 2 spoons, 2 cups, 1 kettle, 1 basket, 1 salad, 1 ribs, 1 Caesar, 1 fish, 1 soup, 1 borsch, 1 phone, 15.5ms\n",
            "Speed: 4.1ms preprocess, 15.5ms inference, 2.3ms postprocess per image at shape (1, 3, 384, 640)\n",
            "\n",
            "0: 384x640 2 peoples, 2 forks, 2 spoons, 2 cups, 1 kettle, 1 basket, 1 salad, 1 ribs, 1 Caesar, 1 fish, 1 soup, 1 borsch, 1 phone, 17.1ms\n",
            "Speed: 5.1ms preprocess, 17.1ms inference, 2.2ms postprocess per image at shape (1, 3, 384, 640)\n",
            "\n",
            "0: 384x640 2 peoples, 2 forks, 2 spoons, 2 cups, 1 kettle, 1 basket, 1 salad, 1 ribs, 1 Caesar, 1 fish, 1 soup, 1 borsch, 1 phone, 15.9ms\n",
            "Speed: 13.7ms preprocess, 15.9ms inference, 2.4ms postprocess per image at shape (1, 3, 384, 640)\n",
            "\n",
            "0: 384x640 2 peoples, 2 forks, 2 spoons, 2 cups, 1 kettle, 1 basket, 1 salad, 1 ribs, 1 Caesar, 1 fish, 1 soup, 1 borsch, 1 phone, 15.1ms\n",
            "Speed: 3.6ms preprocess, 15.1ms inference, 2.2ms postprocess per image at shape (1, 3, 384, 640)\n",
            "\n",
            "0: 384x640 2 peoples, 2 forks, 2 spoons, 2 cups, 1 kettle, 1 basket, 1 salad, 1 ribs, 1 Caesar, 1 fish, 1 soup, 1 borsch, 1 phone, 21.4ms\n",
            "Speed: 4.0ms preprocess, 21.4ms inference, 2.5ms postprocess per image at shape (1, 3, 384, 640)\n",
            "\n",
            "0: 384x640 2 peoples, 2 forks, 2 spoons, 2 cups, 1 kettle, 1 basket, 1 salad, 1 ribs, 1 Caesar, 1 fish, 1 soup, 1 borsch, 1 phone, 15.3ms\n",
            "Speed: 3.7ms preprocess, 15.3ms inference, 2.2ms postprocess per image at shape (1, 3, 384, 640)\n",
            "\n",
            "0: 384x640 2 peoples, 2 forks, 2 spoons, 2 cups, 1 kettle, 1 basket, 1 salad, 1 ribs, 1 Caesar, 1 fish, 1 soup, 1 borsch, 1 phone, 13.7ms\n",
            "Speed: 3.4ms preprocess, 13.7ms inference, 1.9ms postprocess per image at shape (1, 3, 384, 640)\n",
            "\n",
            "0: 384x640 2 peoples, 2 forks, 2 spoons, 2 cups, 1 kettle, 1 basket, 1 salad, 1 ribs, 1 Caesar, 1 fish, 1 soup, 1 borsch, 1 phone, 15.8ms\n",
            "Speed: 10.4ms preprocess, 15.8ms inference, 2.3ms postprocess per image at shape (1, 3, 384, 640)\n",
            "\n",
            "0: 384x640 2 peoples, 2 forks, 2 spoons, 2 cups, 1 kettle, 1 basket, 1 salad, 1 ribs, 1 Caesar, 1 fish, 1 soup, 1 borsch, 1 phone, 21.9ms\n",
            "Speed: 4.5ms preprocess, 21.9ms inference, 2.5ms postprocess per image at shape (1, 3, 384, 640)\n",
            "\n",
            "0: 384x640 2 peoples, 2 forks, 2 spoons, 2 cups, 1 kettle, 1 basket, 1 salad, 1 ribs, 1 Caesar, 1 fish, 1 soup, 1 borsch, 1 phone, 16.7ms\n",
            "Speed: 6.0ms preprocess, 16.7ms inference, 2.3ms postprocess per image at shape (1, 3, 384, 640)\n",
            "\n",
            "0: 384x640 2 peoples, 2 forks, 2 spoons, 2 cups, 1 kettle, 1 basket, 1 salad, 1 ribs, 1 Caesar, 1 fish, 1 soup, 1 borsch, 1 phone, 16.2ms\n",
            "Speed: 8.5ms preprocess, 16.2ms inference, 2.2ms postprocess per image at shape (1, 3, 384, 640)\n",
            "\n",
            "0: 384x640 2 peoples, 2 forks, 2 spoons, 2 cups, 1 kettle, 1 basket, 1 salad, 1 ribs, 1 Caesar, 1 fish, 1 soup, 1 borsch, 1 phone, 15.5ms\n",
            "Speed: 3.9ms preprocess, 15.5ms inference, 2.3ms postprocess per image at shape (1, 3, 384, 640)\n",
            "\n",
            "0: 384x640 2 peoples, 2 forks, 2 spoons, 2 cups, 1 kettle, 1 basket, 1 salad, 1 ribs, 1 Caesar, 1 fish, 1 soup, 1 borsch, 1 phone, 16.8ms\n",
            "Speed: 3.8ms preprocess, 16.8ms inference, 2.2ms postprocess per image at shape (1, 3, 384, 640)\n",
            "\n",
            "0: 384x640 2 peoples, 2 forks, 2 spoons, 2 cups, 1 kettle, 1 basket, 1 salad, 1 ribs, 1 Caesar, 1 fish, 1 soup, 1 borsch, 1 phone, 15.3ms\n",
            "Speed: 7.8ms preprocess, 15.3ms inference, 2.3ms postprocess per image at shape (1, 3, 384, 640)\n",
            "\n",
            "0: 384x640 2 peoples, 2 forks, 2 spoons, 2 cups, 1 kettle, 1 basket, 1 salad, 1 ribs, 1 Caesar, 1 fish, 1 soup, 1 borsch, 1 phone, 19.2ms\n",
            "Speed: 3.7ms preprocess, 19.2ms inference, 2.6ms postprocess per image at shape (1, 3, 384, 640)\n",
            "\n",
            "0: 384x640 2 peoples, 2 forks, 2 spoons, 2 cups, 1 kettle, 1 basket, 1 salad, 1 ribs, 1 Caesar, 1 fish, 1 soup, 1 borsch, 1 phone, 36.8ms\n",
            "Speed: 7.8ms preprocess, 36.8ms inference, 1.9ms postprocess per image at shape (1, 3, 384, 640)\n",
            "\n",
            "0: 384x640 2 peoples, 2 forks, 2 spoons, 2 cups, 1 kettle, 1 basket, 1 salad, 1 ribs, 1 Caesar, 1 fish, 1 soup, 1 borsch, 1 phone, 28.0ms\n",
            "Speed: 9.5ms preprocess, 28.0ms inference, 7.4ms postprocess per image at shape (1, 3, 384, 640)\n",
            "\n",
            "0: 384x640 2 peoples, 2 forks, 2 spoons, 2 cups, 1 kettle, 1 basket, 1 salad, 1 ribs, 1 Caesar, 1 fish, 1 soup, 1 borsch, 1 phone, 19.2ms\n",
            "Speed: 5.5ms preprocess, 19.2ms inference, 2.1ms postprocess per image at shape (1, 3, 384, 640)\n",
            "\n",
            "0: 384x640 2 peoples, 2 forks, 2 spoons, 2 cups, 1 kettle, 1 basket, 1 salad, 1 ribs, 1 Caesar, 1 fish, 1 soup, 1 borsch, 1 phone, 35.2ms\n",
            "Speed: 3.4ms preprocess, 35.2ms inference, 1.9ms postprocess per image at shape (1, 3, 384, 640)\n",
            "\n",
            "0: 384x640 2 peoples, 2 forks, 2 spoons, 2 cups, 1 kettle, 1 basket, 1 salad, 1 ribs, 1 Caesar, 1 fish, 1 soup, 1 borsch, 1 phone, 27.9ms\n",
            "Speed: 8.4ms preprocess, 27.9ms inference, 2.1ms postprocess per image at shape (1, 3, 384, 640)\n",
            "\n",
            "0: 384x640 2 peoples, 2 forks, 2 spoons, 2 cups, 1 kettle, 1 basket, 1 salad, 1 ribs, 1 Caesar, 1 fish, 1 soup, 1 borsch, 1 phone, 34.2ms\n",
            "Speed: 4.8ms preprocess, 34.2ms inference, 2.2ms postprocess per image at shape (1, 3, 384, 640)\n",
            "\n",
            "0: 384x640 2 peoples, 2 forks, 2 spoons, 2 cups, 1 kettle, 1 basket, 1 salad, 1 ribs, 1 Caesar, 1 fish, 1 soup, 1 borsch, 1 phone, 16.3ms\n",
            "Speed: 13.1ms preprocess, 16.3ms inference, 2.3ms postprocess per image at shape (1, 3, 384, 640)\n",
            "\n",
            "0: 384x640 2 peoples, 2 forks, 2 spoons, 2 cups, 1 kettle, 1 basket, 1 salad, 1 ribs, 1 Caesar, 1 fish, 1 soup, 1 borsch, 1 phone, 25.5ms\n",
            "Speed: 9.4ms preprocess, 25.5ms inference, 2.1ms postprocess per image at shape (1, 3, 384, 640)\n",
            "\n",
            "0: 384x640 2 peoples, 2 forks, 2 spoons, 2 cups, 1 kettle, 1 basket, 1 salad, 1 ribs, 1 Caesar, 1 fish, 1 soup, 1 borsch, 1 phone, 37.3ms\n",
            "Speed: 7.9ms preprocess, 37.3ms inference, 3.3ms postprocess per image at shape (1, 3, 384, 640)\n",
            "\n",
            "0: 384x640 2 peoples, 2 forks, 2 spoons, 2 cups, 1 kettle, 1 basket, 1 salad, 1 ribs, 1 Caesar, 1 fish, 1 soup, 1 borsch, 1 phone, 17.0ms\n",
            "Speed: 6.6ms preprocess, 17.0ms inference, 2.5ms postprocess per image at shape (1, 3, 384, 640)\n",
            "\n",
            "0: 384x640 2 peoples, 2 forks, 2 spoons, 2 cups, 1 kettle, 1 basket, 1 salad, 1 ribs, 1 Caesar, 1 fish, 2 soups, 1 borsch, 1 phone, 15.8ms\n",
            "Speed: 4.3ms preprocess, 15.8ms inference, 2.2ms postprocess per image at shape (1, 3, 384, 640)\n",
            "\n",
            "0: 384x640 2 peoples, 2 forks, 2 spoons, 2 cups, 1 kettle, 1 basket, 1 salad, 1 ribs, 1 Caesar, 1 fish, 2 soups, 1 borsch, 1 phone, 24.5ms\n",
            "Speed: 3.9ms preprocess, 24.5ms inference, 2.0ms postprocess per image at shape (1, 3, 384, 640)\n",
            "\n",
            "0: 384x640 2 peoples, 2 forks, 2 spoons, 2 cups, 1 kettle, 1 basket, 1 salad, 1 ribs, 1 Caesar, 1 fish, 2 soups, 1 borsch, 1 phone, 19.8ms\n",
            "Speed: 8.9ms preprocess, 19.8ms inference, 2.2ms postprocess per image at shape (1, 3, 384, 640)\n",
            "\n",
            "0: 384x640 2 peoples, 2 forks, 2 spoons, 2 cups, 1 kettle, 1 basket, 1 salad, 1 ribs, 1 Caesar, 1 fish, 2 soups, 1 borsch, 1 phone, 24.9ms\n",
            "Speed: 3.7ms preprocess, 24.9ms inference, 2.4ms postprocess per image at shape (1, 3, 384, 640)\n",
            "\n",
            "0: 384x640 2 peoples, 2 forks, 2 spoons, 2 cups, 1 kettle, 1 basket, 1 salad, 1 ribs, 1 Caesar, 1 fish, 1 soup, 1 borsch, 1 phone, 19.4ms\n",
            "Speed: 7.0ms preprocess, 19.4ms inference, 2.4ms postprocess per image at shape (1, 3, 384, 640)\n",
            "\n",
            "0: 384x640 2 peoples, 2 forks, 2 spoons, 2 cups, 1 kettle, 1 basket, 1 salad, 1 ribs, 1 Caesar, 1 fish, 2 soups, 1 borsch, 1 phone, 15.3ms\n",
            "Speed: 9.7ms preprocess, 15.3ms inference, 2.2ms postprocess per image at shape (1, 3, 384, 640)\n",
            "\n",
            "0: 384x640 2 peoples, 2 forks, 2 spoons, 2 cups, 1 kettle, 1 basket, 1 salad, 1 ribs, 1 Caesar, 1 fish, 2 soups, 1 borsch, 1 phone, 13.2ms\n",
            "Speed: 3.3ms preprocess, 13.2ms inference, 2.0ms postprocess per image at shape (1, 3, 384, 640)\n",
            "\n",
            "0: 384x640 2 peoples, 2 forks, 2 spoons, 2 cups, 1 kettle, 1 basket, 1 salad, 1 ribs, 1 Caesar, 1 fish, 2 soups, 1 borsch, 1 phone, 13.8ms\n",
            "Speed: 3.3ms preprocess, 13.8ms inference, 1.9ms postprocess per image at shape (1, 3, 384, 640)\n",
            "\n",
            "0: 384x640 2 peoples, 2 forks, 2 spoons, 2 cups, 1 kettle, 1 basket, 1 salad, 1 ribs, 1 Caesar, 1 fish, 1 soup, 1 borsch, 1 phone, 13.6ms\n",
            "Speed: 3.3ms preprocess, 13.6ms inference, 1.9ms postprocess per image at shape (1, 3, 384, 640)\n",
            "\n",
            "0: 384x640 2 peoples, 2 forks, 2 spoons, 2 cups, 1 kettle, 1 basket, 1 salad, 1 ribs, 1 Caesar, 1 fish, 1 soup, 1 borsch, 1 phone, 17.2ms\n",
            "Speed: 3.5ms preprocess, 17.2ms inference, 2.0ms postprocess per image at shape (1, 3, 384, 640)\n",
            "\n",
            "0: 384x640 2 peoples, 2 forks, 2 spoons, 2 cups, 1 kettle, 1 basket, 1 salad, 1 ribs, 1 Caesar, 1 fish, 1 soup, 1 borsch, 1 phone, 15.7ms\n",
            "Speed: 3.6ms preprocess, 15.7ms inference, 2.0ms postprocess per image at shape (1, 3, 384, 640)\n",
            "\n",
            "0: 384x640 2 peoples, 2 forks, 2 spoons, 2 cups, 1 kettle, 1 basket, 1 salad, 1 ribs, 1 Caesar, 1 fish, 1 soup, 1 borsch, 1 phone, 26.4ms\n",
            "Speed: 3.8ms preprocess, 26.4ms inference, 2.2ms postprocess per image at shape (1, 3, 384, 640)\n",
            "\n",
            "0: 384x640 2 peoples, 2 forks, 2 spoons, 2 cups, 1 kettle, 1 basket, 1 salad, 1 ribs, 1 Caesar, 1 fish, 1 soup, 1 borsch, 1 phone, 17.0ms\n",
            "Speed: 3.7ms preprocess, 17.0ms inference, 2.2ms postprocess per image at shape (1, 3, 384, 640)\n",
            "\n",
            "0: 384x640 2 peoples, 2 forks, 2 spoons, 2 cups, 1 kettle, 1 basket, 1 salad, 1 ribs, 1 Caesar, 1 fish, 1 soup, 1 borsch, 1 phone, 16.8ms\n",
            "Speed: 3.6ms preprocess, 16.8ms inference, 2.2ms postprocess per image at shape (1, 3, 384, 640)\n",
            "\n",
            "0: 384x640 2 peoples, 2 forks, 2 spoons, 2 cups, 1 kettle, 1 basket, 1 salad, 1 ribs, 1 Caesar, 1 fish, 1 soup, 1 borsch, 1 phone, 15.8ms\n",
            "Speed: 6.4ms preprocess, 15.8ms inference, 2.3ms postprocess per image at shape (1, 3, 384, 640)\n",
            "\n",
            "0: 384x640 2 peoples, 2 forks, 2 spoons, 2 cups, 1 kettle, 1 basket, 1 salad, 1 ribs, 1 Caesar, 1 fish, 2 soups, 1 borsch, 1 phone, 27.1ms\n",
            "Speed: 3.8ms preprocess, 27.1ms inference, 2.3ms postprocess per image at shape (1, 3, 384, 640)\n",
            "\n",
            "0: 384x640 2 peoples, 2 forks, 2 spoons, 2 cups, 1 kettle, 1 basket, 1 salad, 1 ribs, 1 Caesar, 1 fish, 2 soups, 1 borsch, 1 phone, 15.9ms\n",
            "Speed: 3.5ms preprocess, 15.9ms inference, 2.2ms postprocess per image at shape (1, 3, 384, 640)\n",
            "\n",
            "0: 384x640 2 peoples, 2 forks, 2 spoons, 2 cups, 1 kettle, 1 basket, 1 salad, 1 ribs, 1 Caesar, 1 fish, 1 soup, 1 borsch, 1 phone, 18.4ms\n",
            "Speed: 4.9ms preprocess, 18.4ms inference, 2.3ms postprocess per image at shape (1, 3, 384, 640)\n",
            "\n",
            "0: 384x640 2 peoples, 2 forks, 2 spoons, 2 cups, 1 kettle, 1 basket, 1 salad, 1 ribs, 1 Caesar, 1 fish, 1 soup, 1 borsch, 1 phone, 16.3ms\n",
            "Speed: 3.8ms preprocess, 16.3ms inference, 2.3ms postprocess per image at shape (1, 3, 384, 640)\n",
            "\n",
            "0: 384x640 2 peoples, 2 forks, 2 spoons, 2 cups, 1 kettle, 1 basket, 1 salad, 1 ribs, 1 Caesar, 1 fish, 1 soup, 1 borsch, 1 phone, 15.6ms\n",
            "Speed: 4.1ms preprocess, 15.6ms inference, 2.3ms postprocess per image at shape (1, 3, 384, 640)\n",
            "\n",
            "0: 384x640 2 peoples, 2 forks, 2 spoons, 2 cups, 1 kettle, 1 basket, 1 salad, 1 ribs, 1 Caesar, 1 fish, 1 soup, 1 borsch, 1 phone, 21.5ms\n",
            "Speed: 5.3ms preprocess, 21.5ms inference, 2.5ms postprocess per image at shape (1, 3, 384, 640)\n",
            "\n",
            "0: 384x640 2 peoples, 2 forks, 2 spoons, 2 cups, 1 kettle, 1 basket, 1 salad, 1 ribs, 1 Caesar, 1 fish, 1 soup, 1 borsch, 1 phone, 25.3ms\n",
            "Speed: 3.7ms preprocess, 25.3ms inference, 2.4ms postprocess per image at shape (1, 3, 384, 640)\n",
            "\n",
            "0: 384x640 2 peoples, 2 forks, 2 spoons, 2 cups, 1 kettle, 1 basket, 1 salad, 1 ribs, 1 Caesar, 1 fish, 1 soup, 1 borsch, 1 phone, 26.5ms\n",
            "Speed: 6.1ms preprocess, 26.5ms inference, 2.3ms postprocess per image at shape (1, 3, 384, 640)\n",
            "\n",
            "0: 384x640 2 peoples, 2 forks, 2 spoons, 2 cups, 1 kettle, 1 basket, 1 salad, 1 ribs, 1 Caesar, 1 fish, 1 soup, 1 borsch, 1 phone, 28.3ms\n",
            "Speed: 3.4ms preprocess, 28.3ms inference, 2.2ms postprocess per image at shape (1, 3, 384, 640)\n",
            "\n",
            "0: 384x640 2 peoples, 2 forks, 2 spoons, 2 cups, 1 kettle, 1 basket, 1 salad, 1 ribs, 1 Caesar, 1 fish, 1 soup, 1 borsch, 1 phone, 23.2ms\n",
            "Speed: 3.4ms preprocess, 23.2ms inference, 2.3ms postprocess per image at shape (1, 3, 384, 640)\n",
            "\n",
            "0: 384x640 2 peoples, 2 forks, 2 spoons, 2 cups, 1 kettle, 1 basket, 1 salad, 1 ribs, 1 Caesar, 1 fish, 1 soup, 1 borsch, 1 phone, 16.2ms\n",
            "Speed: 4.3ms preprocess, 16.2ms inference, 2.4ms postprocess per image at shape (1, 3, 384, 640)\n",
            "\n",
            "0: 384x640 2 peoples, 2 forks, 2 spoons, 2 cups, 1 kettle, 1 basket, 1 salad, 1 ribs, 1 Caesar, 1 fish, 1 soup, 1 borsch, 1 phone, 15.1ms\n",
            "Speed: 3.7ms preprocess, 15.1ms inference, 2.3ms postprocess per image at shape (1, 3, 384, 640)\n",
            "\n",
            "0: 384x640 2 peoples, 2 forks, 2 spoons, 2 cups, 1 kettle, 1 basket, 1 salad, 1 ribs, 1 Caesar, 1 fish, 1 soup, 1 borsch, 1 phone, 16.4ms\n",
            "Speed: 3.8ms preprocess, 16.4ms inference, 2.2ms postprocess per image at shape (1, 3, 384, 640)\n",
            "\n",
            "0: 384x640 2 peoples, 2 forks, 2 spoons, 2 cups, 1 kettle, 1 basket, 1 salad, 1 ribs, 1 Caesar, 1 fish, 1 soup, 1 borsch, 1 phone, 28.1ms\n",
            "Speed: 9.8ms preprocess, 28.1ms inference, 2.3ms postprocess per image at shape (1, 3, 384, 640)\n",
            "\n",
            "0: 384x640 2 peoples, 2 forks, 2 spoons, 2 cups, 1 kettle, 1 basket, 1 salad, 1 ribs, 1 Caesar, 1 fish, 1 soup, 1 borsch, 1 phone, 17.3ms\n",
            "Speed: 3.9ms preprocess, 17.3ms inference, 2.3ms postprocess per image at shape (1, 3, 384, 640)\n",
            "\n",
            "0: 384x640 2 peoples, 2 forks, 2 spoons, 2 cups, 1 kettle, 1 basket, 1 salad, 1 ribs, 1 Caesar, 1 fish, 1 soup, 1 borsch, 1 phone, 23.6ms\n",
            "Speed: 3.6ms preprocess, 23.6ms inference, 2.2ms postprocess per image at shape (1, 3, 384, 640)\n",
            "\n",
            "0: 384x640 2 peoples, 2 forks, 2 spoons, 2 cups, 1 kettle, 1 basket, 1 salad, 1 ribs, 1 Caesar, 1 fish, 1 soup, 1 borsch, 1 phone, 15.5ms\n",
            "Speed: 3.6ms preprocess, 15.5ms inference, 2.2ms postprocess per image at shape (1, 3, 384, 640)\n",
            "\n",
            "0: 384x640 2 peoples, 2 forks, 2 spoons, 2 cups, 1 kettle, 1 basket, 1 salad, 1 ribs, 1 Caesar, 1 fish, 1 soup, 1 borsch, 1 phone, 22.8ms\n",
            "Speed: 3.6ms preprocess, 22.8ms inference, 2.5ms postprocess per image at shape (1, 3, 384, 640)\n",
            "\n",
            "0: 384x640 2 peoples, 2 forks, 2 spoons, 2 cups, 1 kettle, 1 basket, 1 salad, 1 ribs, 1 Caesar, 1 fish, 1 soup, 1 borsch, 1 phone, 27.5ms\n",
            "Speed: 3.8ms preprocess, 27.5ms inference, 2.3ms postprocess per image at shape (1, 3, 384, 640)\n",
            "\n",
            "0: 384x640 2 peoples, 2 forks, 2 spoons, 2 cups, 1 kettle, 1 basket, 1 salad, 1 ribs, 1 Caesar, 1 fish, 1 soup, 1 borsch, 1 phone, 14.9ms\n",
            "Speed: 3.5ms preprocess, 14.9ms inference, 2.2ms postprocess per image at shape (1, 3, 384, 640)\n",
            "\n",
            "0: 384x640 2 peoples, 2 forks, 2 spoons, 2 cups, 1 kettle, 1 basket, 1 salad, 1 ribs, 1 Caesar, 1 fish, 1 soup, 1 borsch, 1 phone, 15.9ms\n",
            "Speed: 3.8ms preprocess, 15.9ms inference, 2.3ms postprocess per image at shape (1, 3, 384, 640)\n",
            "\n",
            "0: 384x640 2 peoples, 2 forks, 2 spoons, 2 cups, 1 kettle, 1 basket, 1 salad, 1 ribs, 1 Caesar, 1 fish, 1 soup, 1 borsch, 1 phone, 14.9ms\n",
            "Speed: 3.9ms preprocess, 14.9ms inference, 2.3ms postprocess per image at shape (1, 3, 384, 640)\n",
            "\n",
            "0: 384x640 2 peoples, 2 forks, 2 spoons, 2 cups, 1 kettle, 1 basket, 1 salad, 1 ribs, 1 Caesar, 1 fish, 1 soup, 1 borsch, 1 phone, 19.6ms\n",
            "Speed: 12.4ms preprocess, 19.6ms inference, 2.1ms postprocess per image at shape (1, 3, 384, 640)\n",
            "\n",
            "0: 384x640 2 peoples, 2 forks, 2 spoons, 2 cups, 1 kettle, 1 basket, 1 salad, 1 ribs, 1 Caesar, 1 fish, 1 soup, 1 borsch, 1 phone, 15.4ms\n",
            "Speed: 3.8ms preprocess, 15.4ms inference, 2.3ms postprocess per image at shape (1, 3, 384, 640)\n",
            "\n",
            "0: 384x640 2 peoples, 2 forks, 2 spoons, 2 cups, 1 kettle, 1 basket, 1 salad, 1 ribs, 1 Caesar, 1 fish, 1 soup, 1 borsch, 1 phone, 22.6ms\n",
            "Speed: 3.2ms preprocess, 22.6ms inference, 2.3ms postprocess per image at shape (1, 3, 384, 640)\n",
            "\n",
            "0: 384x640 2 peoples, 2 forks, 2 spoons, 2 cups, 1 kettle, 1 basket, 1 salad, 1 ribs, 1 Caesar, 1 fish, 1 soup, 1 borsch, 1 phone, 16.2ms\n",
            "Speed: 3.6ms preprocess, 16.2ms inference, 2.3ms postprocess per image at shape (1, 3, 384, 640)\n",
            "\n",
            "0: 384x640 2 peoples, 2 forks, 2 spoons, 2 cups, 1 kettle, 1 basket, 1 salad, 1 ribs, 1 Caesar, 1 fish, 1 soup, 1 borsch, 1 phone, 14.8ms\n",
            "Speed: 3.7ms preprocess, 14.8ms inference, 2.2ms postprocess per image at shape (1, 3, 384, 640)\n",
            "\n",
            "0: 384x640 2 peoples, 2 forks, 2 spoons, 2 cups, 1 kettle, 1 basket, 1 salad, 1 ribs, 1 Caesar, 1 fish, 1 soup, 1 borsch, 1 phone, 18.0ms\n",
            "Speed: 3.5ms preprocess, 18.0ms inference, 3.2ms postprocess per image at shape (1, 3, 384, 640)\n",
            "\n",
            "0: 384x640 2 peoples, 2 forks, 2 spoons, 2 cups, 1 kettle, 1 basket, 1 salad, 1 ribs, 1 Caesar, 1 fish, 1 soup, 1 borsch, 1 phone, 16.2ms\n",
            "Speed: 7.8ms preprocess, 16.2ms inference, 2.3ms postprocess per image at shape (1, 3, 384, 640)\n",
            "\n",
            "0: 384x640 2 peoples, 2 forks, 2 spoons, 2 cups, 1 kettle, 1 basket, 1 salad, 1 ribs, 1 Caesar, 1 fish, 1 soup, 1 borsch, 1 phone, 15.1ms\n",
            "Speed: 3.5ms preprocess, 15.1ms inference, 2.2ms postprocess per image at shape (1, 3, 384, 640)\n",
            "\n",
            "0: 384x640 2 peoples, 2 forks, 2 spoons, 2 cups, 1 kettle, 1 basket, 1 salad, 1 ribs, 1 Caesar, 1 fish, 1 soup, 1 borsch, 1 phone, 14.9ms\n",
            "Speed: 7.4ms preprocess, 14.9ms inference, 2.1ms postprocess per image at shape (1, 3, 384, 640)\n",
            "\n",
            "0: 384x640 2 peoples, 2 forks, 2 spoons, 2 cups, 1 kettle, 1 basket, 1 salad, 1 ribs, 1 Caesar, 1 fish, 1 soup, 1 borsch, 1 phone, 30.0ms\n",
            "Speed: 5.4ms preprocess, 30.0ms inference, 9.4ms postprocess per image at shape (1, 3, 384, 640)\n",
            "\n",
            "0: 384x640 2 peoples, 2 forks, 2 spoons, 2 cups, 1 kettle, 1 basket, 1 salad, 1 ribs, 1 Caesar, 1 fish, 1 soup, 1 borsch, 1 phone, 14.7ms\n",
            "Speed: 9.2ms preprocess, 14.7ms inference, 1.9ms postprocess per image at shape (1, 3, 384, 640)\n",
            "\n",
            "0: 384x640 2 peoples, 2 forks, 2 spoons, 2 cups, 1 kettle, 1 basket, 1 salad, 1 ribs, 1 Caesar, 1 fish, 1 soup, 1 borsch, 1 phone, 25.0ms\n",
            "Speed: 9.7ms preprocess, 25.0ms inference, 2.0ms postprocess per image at shape (1, 3, 384, 640)\n",
            "\n",
            "0: 384x640 2 peoples, 2 forks, 2 spoons, 2 cups, 1 kettle, 1 basket, 1 salad, 1 ribs, 1 Caesar, 1 fish, 1 soup, 1 borsch, 1 phone, 32.0ms\n",
            "Speed: 11.1ms preprocess, 32.0ms inference, 2.0ms postprocess per image at shape (1, 3, 384, 640)\n",
            "\n",
            "0: 384x640 2 peoples, 2 forks, 2 spoons, 2 cups, 1 kettle, 1 basket, 1 salad, 1 ribs, 1 Caesar, 1 fish, 1 soup, 1 borsch, 1 phone, 35.9ms\n",
            "Speed: 3.5ms preprocess, 35.9ms inference, 1.9ms postprocess per image at shape (1, 3, 384, 640)\n",
            "\n",
            "0: 384x640 2 peoples, 2 forks, 2 spoons, 2 cups, 1 kettle, 1 basket, 1 salad, 1 ribs, 1 Caesar, 1 fish, 1 soup, 1 borsch, 1 phone, 29.1ms\n",
            "Speed: 14.1ms preprocess, 29.1ms inference, 3.6ms postprocess per image at shape (1, 3, 384, 640)\n",
            "\n",
            "0: 384x640 2 peoples, 2 forks, 2 spoons, 2 cups, 1 kettle, 1 basket, 1 salad, 1 ribs, 1 Caesar, 1 fish, 1 soup, 1 borsch, 1 phone, 25.9ms\n",
            "Speed: 3.3ms preprocess, 25.9ms inference, 2.2ms postprocess per image at shape (1, 3, 384, 640)\n",
            "\n",
            "0: 384x640 2 peoples, 2 forks, 2 spoons, 2 cups, 1 kettle, 1 basket, 1 salad, 1 ribs, 1 Caesar, 1 fish, 1 soup, 1 borsch, 1 phone, 20.6ms\n",
            "Speed: 8.8ms preprocess, 20.6ms inference, 2.4ms postprocess per image at shape (1, 3, 384, 640)\n",
            "\n",
            "0: 384x640 2 peoples, 2 forks, 2 spoons, 2 cups, 1 kettle, 1 basket, 1 salad, 1 ribs, 1 Caesar, 1 fish, 1 soup, 1 borsch, 1 phone, 15.6ms\n",
            "Speed: 3.9ms preprocess, 15.6ms inference, 2.3ms postprocess per image at shape (1, 3, 384, 640)\n",
            "\n",
            "0: 384x640 2 peoples, 2 forks, 2 spoons, 2 cups, 1 kettle, 1 basket, 1 salad, 1 ribs, 1 Caesar, 1 fish, 1 soup, 1 borsch, 1 phone, 15.2ms\n",
            "Speed: 4.5ms preprocess, 15.2ms inference, 2.2ms postprocess per image at shape (1, 3, 384, 640)\n",
            "\n",
            "0: 384x640 2 peoples, 2 forks, 2 spoons, 2 cups, 1 kettle, 1 basket, 1 salad, 1 ribs, 1 Caesar, 1 fish, 1 soup, 1 borsch, 1 phone, 15.9ms\n",
            "Speed: 4.4ms preprocess, 15.9ms inference, 2.3ms postprocess per image at shape (1, 3, 384, 640)\n",
            "\n",
            "0: 384x640 2 peoples, 2 forks, 2 spoons, 2 cups, 1 kettle, 1 basket, 1 salad, 1 ribs, 1 Caesar, 1 fish, 1 soup, 1 borsch, 1 phone, 23.0ms\n",
            "Speed: 4.6ms preprocess, 23.0ms inference, 3.0ms postprocess per image at shape (1, 3, 384, 640)\n",
            "\n",
            "0: 384x640 2 peoples, 2 forks, 2 spoons, 2 cups, 1 kettle, 1 basket, 1 salad, 1 ribs, 1 Caesar, 1 fish, 1 soup, 1 borsch, 1 phone, 14.5ms\n",
            "Speed: 4.3ms preprocess, 14.5ms inference, 2.1ms postprocess per image at shape (1, 3, 384, 640)\n",
            "\n",
            "0: 384x640 2 peoples, 2 forks, 2 spoons, 2 cups, 1 kettle, 1 basket, 1 salad, 1 ribs, 1 Caesar, 1 fish, 1 soup, 1 borsch, 1 phone, 30.7ms\n",
            "Speed: 3.6ms preprocess, 30.7ms inference, 2.2ms postprocess per image at shape (1, 3, 384, 640)\n",
            "\n",
            "0: 384x640 2 peoples, 2 forks, 2 spoons, 2 cups, 1 kettle, 1 basket, 1 salad, 1 ribs, 1 Caesar, 1 fish, 1 soup, 1 borsch, 1 phone, 14.6ms\n",
            "Speed: 10.9ms preprocess, 14.6ms inference, 2.0ms postprocess per image at shape (1, 3, 384, 640)\n",
            "\n",
            "0: 384x640 2 peoples, 2 forks, 2 spoons, 2 cups, 1 kettle, 1 basket, 1 salad, 1 ribs, 1 Caesar, 1 fish, 1 soup, 1 borsch, 1 phone, 28.2ms\n",
            "Speed: 3.5ms preprocess, 28.2ms inference, 2.5ms postprocess per image at shape (1, 3, 384, 640)\n",
            "\n",
            "0: 384x640 2 peoples, 2 forks, 2 spoons, 2 cups, 1 kettle, 1 basket, 1 salad, 1 ribs, 1 Caesar, 1 fish, 1 soup, 1 borsch, 1 phone, 28.9ms\n",
            "Speed: 3.2ms preprocess, 28.9ms inference, 2.2ms postprocess per image at shape (1, 3, 384, 640)\n",
            "\n",
            "0: 384x640 2 peoples, 2 forks, 2 spoons, 2 cups, 1 kettle, 1 basket, 1 salad, 1 ribs, 1 Caesar, 1 fish, 1 soup, 1 borsch, 1 phone, 23.0ms\n",
            "Speed: 3.8ms preprocess, 23.0ms inference, 2.2ms postprocess per image at shape (1, 3, 384, 640)\n",
            "\n",
            "0: 384x640 2 peoples, 2 forks, 2 spoons, 2 cups, 1 kettle, 1 basket, 1 salad, 1 ribs, 1 Caesar, 1 fish, 1 soup, 1 borsch, 1 phone, 23.3ms\n",
            "Speed: 12.8ms preprocess, 23.3ms inference, 2.3ms postprocess per image at shape (1, 3, 384, 640)\n",
            "\n",
            "0: 384x640 2 peoples, 2 forks, 2 spoons, 2 cups, 1 kettle, 1 basket, 1 salad, 1 ribs, 1 Caesar, 1 fish, 1 soup, 1 borsch, 1 phone, 16.0ms\n",
            "Speed: 3.4ms preprocess, 16.0ms inference, 2.5ms postprocess per image at shape (1, 3, 384, 640)\n",
            "\n",
            "0: 384x640 2 peoples, 2 forks, 2 spoons, 2 cups, 1 kettle, 1 basket, 1 salad, 1 ribs, 1 Caesar, 1 fish, 1 soup, 1 borsch, 1 phone, 15.9ms\n",
            "Speed: 5.0ms preprocess, 15.9ms inference, 2.2ms postprocess per image at shape (1, 3, 384, 640)\n",
            "\n",
            "0: 384x640 2 peoples, 2 forks, 2 spoons, 2 cups, 1 kettle, 1 basket, 1 salad, 1 ribs, 1 Caesar, 1 fish, 1 soup, 1 borsch, 1 phone, 16.0ms\n",
            "Speed: 5.0ms preprocess, 16.0ms inference, 2.4ms postprocess per image at shape (1, 3, 384, 640)\n",
            "\n",
            "0: 384x640 2 peoples, 2 forks, 2 spoons, 2 cups, 1 kettle, 1 basket, 1 salad, 1 ribs, 1 Caesar, 1 fish, 1 soup, 1 borsch, 1 phone, 14.9ms\n",
            "Speed: 3.5ms preprocess, 14.9ms inference, 2.3ms postprocess per image at shape (1, 3, 384, 640)\n",
            "\n",
            "0: 384x640 2 peoples, 2 forks, 2 spoons, 2 cups, 1 kettle, 1 basket, 1 salad, 1 ribs, 1 Caesar, 1 fish, 1 soup, 1 borsch, 1 phone, 14.8ms\n",
            "Speed: 3.5ms preprocess, 14.8ms inference, 2.3ms postprocess per image at shape (1, 3, 384, 640)\n",
            "\n",
            "0: 384x640 2 peoples, 2 forks, 2 spoons, 2 cups, 1 kettle, 1 basket, 1 salad, 1 ribs, 1 Caesar, 1 fish, 1 soup, 1 borsch, 1 phone, 15.5ms\n",
            "Speed: 5.1ms preprocess, 15.5ms inference, 2.4ms postprocess per image at shape (1, 3, 384, 640)\n",
            "\n",
            "0: 384x640 2 peoples, 2 forks, 2 spoons, 2 cups, 1 kettle, 1 basket, 1 salad, 1 ribs, 1 Caesar, 1 fish, 1 soup, 1 borsch, 1 phone, 20.2ms\n",
            "Speed: 4.5ms preprocess, 20.2ms inference, 2.4ms postprocess per image at shape (1, 3, 384, 640)\n",
            "\n",
            "0: 384x640 2 peoples, 2 forks, 2 spoons, 2 cups, 1 kettle, 1 basket, 1 salad, 1 ribs, 1 Caesar, 1 fish, 1 soup, 1 borsch, 1 phone, 22.6ms\n",
            "Speed: 3.5ms preprocess, 22.6ms inference, 2.2ms postprocess per image at shape (1, 3, 384, 640)\n",
            "\n",
            "0: 384x640 2 peoples, 2 forks, 2 spoons, 2 cups, 1 kettle, 1 basket, 1 salad, 1 ribs, 1 Caesar, 1 fish, 1 soup, 1 borsch, 1 phone, 21.8ms\n",
            "Speed: 7.8ms preprocess, 21.8ms inference, 2.1ms postprocess per image at shape (1, 3, 384, 640)\n",
            "\n",
            "0: 384x640 2 peoples, 2 forks, 2 spoons, 2 cups, 1 kettle, 1 basket, 1 salad, 1 ribs, 1 Caesar, 1 fish, 1 soup, 1 borsch, 1 phone, 21.9ms\n",
            "Speed: 3.3ms preprocess, 21.9ms inference, 2.2ms postprocess per image at shape (1, 3, 384, 640)\n",
            "\n",
            "0: 384x640 2 peoples, 2 forks, 2 spoons, 2 cups, 1 kettle, 1 basket, 1 salad, 1 ribs, 1 Caesar, 1 fish, 1 soup, 1 borsch, 1 phone, 15.5ms\n",
            "Speed: 3.3ms preprocess, 15.5ms inference, 2.2ms postprocess per image at shape (1, 3, 384, 640)\n",
            "\n",
            "0: 384x640 2 peoples, 2 forks, 2 spoons, 2 cups, 1 kettle, 1 basket, 1 salad, 1 ribs, 1 Caesar, 1 fish, 1 soup, 1 borsch, 1 phone, 25.5ms\n",
            "Speed: 5.9ms preprocess, 25.5ms inference, 2.2ms postprocess per image at shape (1, 3, 384, 640)\n",
            "\n",
            "0: 384x640 2 peoples, 2 forks, 2 spoons, 2 cups, 1 kettle, 1 basket, 1 salad, 1 ribs, 1 Caesar, 1 fish, 1 soup, 1 borsch, 1 phone, 17.8ms\n",
            "Speed: 3.9ms preprocess, 17.8ms inference, 2.3ms postprocess per image at shape (1, 3, 384, 640)\n",
            "\n",
            "0: 384x640 2 peoples, 2 forks, 2 spoons, 2 cups, 1 kettle, 1 basket, 1 salad, 1 ribs, 1 Caesar, 1 fish, 1 soup, 1 borsch, 1 phone, 15.4ms\n",
            "Speed: 3.6ms preprocess, 15.4ms inference, 2.4ms postprocess per image at shape (1, 3, 384, 640)\n",
            "\n",
            "0: 384x640 2 peoples, 2 forks, 2 spoons, 2 cups, 1 kettle, 1 basket, 1 salad, 1 ribs, 1 Caesar, 1 fish, 1 soup, 1 borsch, 1 phone, 16.5ms\n",
            "Speed: 6.3ms preprocess, 16.5ms inference, 2.2ms postprocess per image at shape (1, 3, 384, 640)\n",
            "\n",
            "0: 384x640 2 peoples, 2 forks, 2 spoons, 2 cups, 1 kettle, 1 basket, 1 salad, 1 ribs, 1 Caesar, 1 fish, 1 soup, 1 borsch, 1 phone, 16.1ms\n",
            "Speed: 3.9ms preprocess, 16.1ms inference, 2.2ms postprocess per image at shape (1, 3, 384, 640)\n",
            "\n",
            "0: 384x640 2 peoples, 2 forks, 2 spoons, 2 cups, 1 kettle, 1 basket, 1 salad, 1 ribs, 1 Caesar, 1 fish, 1 soup, 1 borsch, 1 phone, 22.6ms\n",
            "Speed: 4.8ms preprocess, 22.6ms inference, 2.2ms postprocess per image at shape (1, 3, 384, 640)\n",
            "\n",
            "0: 384x640 2 peoples, 2 forks, 2 spoons, 2 cups, 1 kettle, 1 basket, 1 salad, 1 ribs, 1 Caesar, 1 fish, 1 soup, 1 borsch, 1 phone, 15.2ms\n",
            "Speed: 3.8ms preprocess, 15.2ms inference, 2.1ms postprocess per image at shape (1, 3, 384, 640)\n",
            "\n",
            "0: 384x640 2 peoples, 2 forks, 2 spoons, 2 cups, 1 kettle, 1 basket, 1 salad, 1 ribs, 1 Caesar, 1 fish, 1 soup, 1 borsch, 1 phone, 14.9ms\n",
            "Speed: 3.6ms preprocess, 14.9ms inference, 2.4ms postprocess per image at shape (1, 3, 384, 640)\n",
            "\n",
            "0: 384x640 2 peoples, 2 forks, 2 spoons, 2 cups, 1 kettle, 1 basket, 1 salad, 1 ribs, 1 Caesar, 1 fish, 1 soup, 1 borsch, 1 phone, 15.6ms\n",
            "Speed: 3.9ms preprocess, 15.6ms inference, 2.4ms postprocess per image at shape (1, 3, 384, 640)\n",
            "\n",
            "0: 384x640 2 peoples, 2 forks, 2 spoons, 2 cups, 1 kettle, 1 basket, 1 salad, 1 ribs, 1 Caesar, 1 fish, 1 soup, 1 borsch, 1 phone, 16.2ms\n",
            "Speed: 7.6ms preprocess, 16.2ms inference, 2.4ms postprocess per image at shape (1, 3, 384, 640)\n",
            "\n",
            "0: 384x640 2 peoples, 2 forks, 2 spoons, 2 cups, 1 kettle, 1 basket, 1 salad, 1 ribs, 1 Caesar, 1 fish, 1 soup, 1 borsch, 1 phone, 16.8ms\n",
            "Speed: 3.6ms preprocess, 16.8ms inference, 2.1ms postprocess per image at shape (1, 3, 384, 640)\n",
            "\n",
            "0: 384x640 2 peoples, 2 forks, 2 spoons, 2 cups, 1 kettle, 1 basket, 1 salad, 1 ribs, 1 Caesar, 1 fish, 1 soup, 1 borsch, 1 phone, 15.4ms\n",
            "Speed: 4.9ms preprocess, 15.4ms inference, 2.4ms postprocess per image at shape (1, 3, 384, 640)\n",
            "\n",
            "0: 384x640 2 peoples, 2 forks, 2 spoons, 2 cups, 1 kettle, 1 basket, 1 salad, 1 ribs, 1 Caesar, 1 fish, 1 soup, 1 borsch, 1 phone, 16.0ms\n",
            "Speed: 5.9ms preprocess, 16.0ms inference, 2.3ms postprocess per image at shape (1, 3, 384, 640)\n",
            "\n",
            "0: 384x640 2 peoples, 2 forks, 2 spoons, 2 cups, 1 kettle, 1 basket, 1 salad, 1 ribs, 1 Caesar, 1 fish, 1 soup, 1 borsch, 1 phone, 23.7ms\n",
            "Speed: 3.9ms preprocess, 23.7ms inference, 2.2ms postprocess per image at shape (1, 3, 384, 640)\n",
            "\n",
            "0: 384x640 2 peoples, 2 forks, 2 spoons, 2 cups, 1 kettle, 1 basket, 1 salad, 1 ribs, 1 Caesar, 1 fish, 1 soup, 1 borsch, 1 phone, 15.3ms\n",
            "Speed: 4.1ms preprocess, 15.3ms inference, 2.1ms postprocess per image at shape (1, 3, 384, 640)\n",
            "\n",
            "0: 384x640 2 peoples, 2 forks, 2 spoons, 2 cups, 1 kettle, 1 basket, 1 salad, 1 ribs, 1 Caesar, 1 fish, 1 soup, 1 borsch, 1 phone, 15.4ms\n",
            "Speed: 4.0ms preprocess, 15.4ms inference, 2.1ms postprocess per image at shape (1, 3, 384, 640)\n",
            "\n",
            "0: 384x640 2 peoples, 2 forks, 2 spoons, 2 cups, 1 kettle, 1 basket, 1 salad, 1 ribs, 1 Caesar, 1 fish, 1 soup, 1 borsch, 1 phone, 15.4ms\n",
            "Speed: 4.2ms preprocess, 15.4ms inference, 2.3ms postprocess per image at shape (1, 3, 384, 640)\n",
            "\n",
            "0: 384x640 2 peoples, 2 forks, 2 spoons, 2 cups, 1 kettle, 1 basket, 1 salad, 1 ribs, 1 Caesar, 1 fish, 1 soup, 1 borsch, 1 phone, 13.8ms\n",
            "Speed: 3.2ms preprocess, 13.8ms inference, 2.0ms postprocess per image at shape (1, 3, 384, 640)\n",
            "\n",
            "0: 384x640 2 peoples, 2 forks, 2 spoons, 2 cups, 1 kettle, 1 basket, 1 salad, 1 ribs, 1 Caesar, 1 fish, 1 soup, 1 borsch, 1 phone, 14.5ms\n",
            "Speed: 3.6ms preprocess, 14.5ms inference, 2.1ms postprocess per image at shape (1, 3, 384, 640)\n",
            "\n",
            "0: 384x640 2 peoples, 2 forks, 2 spoons, 2 cups, 1 kettle, 1 basket, 1 salad, 1 ribs, 1 Caesar, 1 fish, 1 soup, 1 borsch, 1 phone, 16.8ms\n",
            "Speed: 3.5ms preprocess, 16.8ms inference, 2.6ms postprocess per image at shape (1, 3, 384, 640)\n",
            "\n",
            "0: 384x640 2 peoples, 2 forks, 2 spoons, 2 cups, 1 kettle, 1 basket, 1 salad, 1 ribs, 1 Caesar, 1 fish, 1 soup, 1 borsch, 1 phone, 15.4ms\n",
            "Speed: 3.9ms preprocess, 15.4ms inference, 2.4ms postprocess per image at shape (1, 3, 384, 640)\n",
            "\n",
            "0: 384x640 2 peoples, 2 forks, 2 spoons, 2 cups, 1 kettle, 1 basket, 1 salad, 1 ribs, 1 Caesar, 1 fish, 1 soup, 1 borsch, 1 phone, 15.0ms\n",
            "Speed: 3.8ms preprocess, 15.0ms inference, 2.2ms postprocess per image at shape (1, 3, 384, 640)\n",
            "\n",
            "0: 384x640 2 peoples, 2 forks, 2 spoons, 2 cups, 1 kettle, 1 basket, 1 salad, 1 ribs, 1 Caesar, 1 fish, 1 soup, 1 borsch, 1 phone, 14.1ms\n",
            "Speed: 3.6ms preprocess, 14.1ms inference, 2.1ms postprocess per image at shape (1, 3, 384, 640)\n",
            "\n",
            "0: 384x640 2 peoples, 2 forks, 2 spoons, 2 cups, 1 kettle, 1 basket, 1 salad, 1 ribs, 1 Caesar, 1 fish, 1 soup, 1 borsch, 1 phone, 14.6ms\n",
            "Speed: 4.1ms preprocess, 14.6ms inference, 2.1ms postprocess per image at shape (1, 3, 384, 640)\n",
            "\n",
            "0: 384x640 2 peoples, 2 forks, 2 spoons, 2 cups, 1 kettle, 1 basket, 1 salad, 1 ribs, 1 Caesar, 1 fish, 1 soup, 1 borsch, 1 phone, 17.8ms\n",
            "Speed: 3.7ms preprocess, 17.8ms inference, 2.6ms postprocess per image at shape (1, 3, 384, 640)\n",
            "\n",
            "0: 384x640 2 peoples, 2 forks, 2 spoons, 2 cups, 1 kettle, 1 basket, 1 salad, 1 ribs, 1 Caesar, 1 fish, 1 soup, 1 borsch, 1 phone, 17.2ms\n",
            "Speed: 11.9ms preprocess, 17.2ms inference, 2.3ms postprocess per image at shape (1, 3, 384, 640)\n",
            "\n",
            "0: 384x640 2 peoples, 2 forks, 2 spoons, 2 cups, 1 kettle, 1 basket, 1 salad, 1 ribs, 1 Caesar, 1 fish, 1 soup, 1 borsch, 1 phone, 23.8ms\n",
            "Speed: 3.7ms preprocess, 23.8ms inference, 2.4ms postprocess per image at shape (1, 3, 384, 640)\n",
            "\n",
            "0: 384x640 2 peoples, 2 forks, 2 spoons, 2 cups, 1 kettle, 1 basket, 1 salad, 1 ribs, 1 Caesar, 1 fish, 1 soup, 1 borsch, 1 phone, 35.3ms\n",
            "Speed: 6.1ms preprocess, 35.3ms inference, 2.4ms postprocess per image at shape (1, 3, 384, 640)\n",
            "\n",
            "0: 384x640 2 peoples, 2 forks, 2 spoons, 2 cups, 1 kettle, 1 basket, 1 salad, 1 ribs, 1 Caesar, 1 fish, 1 soup, 1 borsch, 1 phone, 25.1ms\n",
            "Speed: 5.0ms preprocess, 25.1ms inference, 2.0ms postprocess per image at shape (1, 3, 384, 640)\n",
            "\n",
            "0: 384x640 2 peoples, 2 forks, 2 spoons, 2 cups, 1 kettle, 1 basket, 1 salad, 1 ribs, 1 Caesar, 1 fish, 1 soup, 1 borsch, 1 phone, 27.8ms\n",
            "Speed: 3.6ms preprocess, 27.8ms inference, 1.9ms postprocess per image at shape (1, 3, 384, 640)\n",
            "\n",
            "0: 384x640 2 peoples, 2 forks, 2 spoons, 2 cups, 1 kettle, 1 basket, 1 salad, 1 ribs, 1 Caesar, 1 fish, 1 soup, 1 borsch, 1 phone, 21.2ms\n",
            "Speed: 5.4ms preprocess, 21.2ms inference, 9.0ms postprocess per image at shape (1, 3, 384, 640)\n",
            "\n",
            "0: 384x640 2 peoples, 2 forks, 2 spoons, 2 cups, 1 kettle, 1 basket, 1 salad, 1 ribs, 1 Caesar, 1 fish, 1 soup, 1 borsch, 1 phone, 28.6ms\n",
            "Speed: 5.8ms preprocess, 28.6ms inference, 15.8ms postprocess per image at shape (1, 3, 384, 640)\n",
            "\n",
            "0: 384x640 2 peoples, 2 forks, 2 spoons, 2 cups, 1 kettle, 1 basket, 1 salad, 1 ribs, 1 Caesar, 1 fish, 1 soup, 1 borsch, 1 phone, 29.8ms\n",
            "Speed: 3.6ms preprocess, 29.8ms inference, 7.2ms postprocess per image at shape (1, 3, 384, 640)\n",
            "\n",
            "0: 384x640 2 peoples, 2 forks, 2 spoons, 2 cups, 1 kettle, 1 basket, 1 salad, 1 ribs, 1 Caesar, 1 fish, 1 soup, 1 borsch, 1 phone, 39.5ms\n",
            "Speed: 7.7ms preprocess, 39.5ms inference, 9.1ms postprocess per image at shape (1, 3, 384, 640)\n",
            "\n",
            "0: 384x640 2 peoples, 2 forks, 2 spoons, 2 cups, 1 kettle, 1 basket, 1 salad, 1 ribs, 1 Caesar, 1 fish, 1 soup, 1 borsch, 1 phone, 17.9ms\n",
            "Speed: 6.5ms preprocess, 17.9ms inference, 2.2ms postprocess per image at shape (1, 3, 384, 640)\n",
            "\n",
            "0: 384x640 2 peoples, 2 forks, 2 spoons, 2 cups, 1 kettle, 1 basket, 1 salad, 1 ribs, 1 Caesar, 1 fish, 1 soup, 1 borsch, 1 phone, 25.4ms\n",
            "Speed: 3.7ms preprocess, 25.4ms inference, 2.3ms postprocess per image at shape (1, 3, 384, 640)\n",
            "\n",
            "0: 384x640 2 peoples, 2 forks, 2 spoons, 2 cups, 1 kettle, 1 basket, 1 salad, 1 ribs, 1 Caesar, 1 fish, 1 soup, 1 borsch, 1 phone, 15.8ms\n",
            "Speed: 3.5ms preprocess, 15.8ms inference, 2.2ms postprocess per image at shape (1, 3, 384, 640)\n",
            "\n",
            "0: 384x640 2 peoples, 2 forks, 2 spoons, 2 cups, 1 kettle, 1 basket, 1 salad, 1 ribs, 1 Caesar, 1 fish, 1 soup, 1 borsch, 1 phone, 15.9ms\n",
            "Speed: 3.8ms preprocess, 15.9ms inference, 2.3ms postprocess per image at shape (1, 3, 384, 640)\n",
            "\n",
            "0: 384x640 2 peoples, 2 forks, 2 spoons, 2 cups, 1 kettle, 1 basket, 1 salad, 1 ribs, 1 Caesar, 1 fish, 1 soup, 1 borsch, 1 phone, 15.0ms\n",
            "Speed: 4.1ms preprocess, 15.0ms inference, 2.1ms postprocess per image at shape (1, 3, 384, 640)\n",
            "\n",
            "0: 384x640 2 peoples, 2 forks, 2 spoons, 2 cups, 1 kettle, 1 basket, 1 salad, 1 ribs, 1 Caesar, 1 fish, 1 soup, 1 borsch, 1 phone, 16.6ms\n",
            "Speed: 4.2ms preprocess, 16.6ms inference, 2.3ms postprocess per image at shape (1, 3, 384, 640)\n",
            "\n",
            "0: 384x640 2 peoples, 2 forks, 2 spoons, 2 cups, 1 kettle, 1 basket, 1 salad, 1 ribs, 1 Caesar, 1 fish, 1 soup, 1 borsch, 1 phone, 15.1ms\n",
            "Speed: 4.1ms preprocess, 15.1ms inference, 2.2ms postprocess per image at shape (1, 3, 384, 640)\n",
            "\n",
            "0: 384x640 2 peoples, 2 forks, 2 spoons, 2 cups, 1 kettle, 1 basket, 1 salad, 1 ribs, 1 Caesar, 1 fish, 1 soup, 1 borsch, 1 phone, 15.3ms\n",
            "Speed: 3.6ms preprocess, 15.3ms inference, 2.3ms postprocess per image at shape (1, 3, 384, 640)\n",
            "\n",
            "0: 384x640 2 peoples, 2 forks, 2 spoons, 2 cups, 1 kettle, 1 basket, 1 salad, 1 ribs, 1 Caesar, 1 fish, 1 soup, 1 borsch, 1 phone, 15.4ms\n",
            "Speed: 3.8ms preprocess, 15.4ms inference, 2.2ms postprocess per image at shape (1, 3, 384, 640)\n",
            "\n",
            "0: 384x640 2 peoples, 2 forks, 2 spoons, 2 cups, 1 kettle, 1 basket, 1 salad, 1 ribs, 1 Caesar, 1 fish, 1 soup, 1 borsch, 1 phone, 33.5ms\n",
            "Speed: 3.8ms preprocess, 33.5ms inference, 2.3ms postprocess per image at shape (1, 3, 384, 640)\n",
            "\n",
            "0: 384x640 2 peoples, 2 forks, 2 spoons, 2 cups, 1 kettle, 1 basket, 1 salad, 1 ribs, 1 Caesar, 1 fish, 1 soup, 1 borsch, 1 phone, 17.4ms\n",
            "Speed: 3.9ms preprocess, 17.4ms inference, 2.2ms postprocess per image at shape (1, 3, 384, 640)\n",
            "\n",
            "0: 384x640 2 peoples, 2 forks, 2 spoons, 2 cups, 1 kettle, 1 basket, 1 salad, 1 ribs, 1 Caesar, 1 fish, 1 soup, 1 borsch, 1 phone, 15.7ms\n",
            "Speed: 6.7ms preprocess, 15.7ms inference, 2.2ms postprocess per image at shape (1, 3, 384, 640)\n",
            "\n",
            "0: 384x640 2 peoples, 2 forks, 2 spoons, 2 cups, 1 kettle, 1 basket, 1 salad, 1 ribs, 1 Caesar, 1 fish, 1 soup, 1 borsch, 1 phone, 15.3ms\n",
            "Speed: 9.5ms preprocess, 15.3ms inference, 2.2ms postprocess per image at shape (1, 3, 384, 640)\n",
            "\n",
            "0: 384x640 2 peoples, 2 forks, 2 spoons, 2 cups, 1 kettle, 1 basket, 1 salad, 1 ribs, 1 Caesar, 1 fish, 1 soup, 1 borsch, 1 phone, 26.3ms\n",
            "Speed: 11.9ms preprocess, 26.3ms inference, 2.2ms postprocess per image at shape (1, 3, 384, 640)\n",
            "\n",
            "0: 384x640 2 peoples, 2 forks, 2 spoons, 2 cups, 1 kettle, 1 basket, 1 salad, 1 ribs, 1 Caesar, 1 fish, 1 soup, 1 borsch, 1 phone, 22.8ms\n",
            "Speed: 11.8ms preprocess, 22.8ms inference, 2.5ms postprocess per image at shape (1, 3, 384, 640)\n",
            "\n",
            "0: 384x640 2 peoples, 2 forks, 2 spoons, 2 cups, 1 kettle, 1 basket, 1 salad, 1 ribs, 1 Caesar, 1 fish, 1 soup, 1 borsch, 1 phone, 23.9ms\n",
            "Speed: 11.1ms preprocess, 23.9ms inference, 2.2ms postprocess per image at shape (1, 3, 384, 640)\n",
            "\n",
            "0: 384x640 2 peoples, 2 forks, 2 spoons, 2 cups, 1 kettle, 1 basket, 1 salad, 1 ribs, 1 Caesar, 1 fish, 1 soup, 1 borsch, 1 phone, 22.0ms\n",
            "Speed: 2.9ms preprocess, 22.0ms inference, 2.3ms postprocess per image at shape (1, 3, 384, 640)\n",
            "\n",
            "0: 384x640 2 peoples, 2 forks, 2 spoons, 2 cups, 1 kettle, 1 basket, 1 salad, 1 ribs, 1 Caesar, 1 fish, 1 soup, 1 borsch, 1 phone, 18.8ms\n",
            "Speed: 5.5ms preprocess, 18.8ms inference, 2.2ms postprocess per image at shape (1, 3, 384, 640)\n",
            "\n",
            "0: 384x640 2 peoples, 2 forks, 2 spoons, 2 cups, 1 kettle, 1 basket, 1 salad, 1 ribs, 1 Caesar, 1 fish, 1 soup, 1 borsch, 1 phone, 42.8ms\n",
            "Speed: 24.9ms preprocess, 42.8ms inference, 3.4ms postprocess per image at shape (1, 3, 384, 640)\n",
            "\n",
            "0: 384x640 2 peoples, 2 forks, 2 spoons, 2 cups, 1 kettle, 1 basket, 1 salad, 1 ribs, 1 Caesar, 1 fish, 1 soup, 1 borsch, 1 phone, 16.1ms\n",
            "Speed: 3.8ms preprocess, 16.1ms inference, 2.2ms postprocess per image at shape (1, 3, 384, 640)\n",
            "\n",
            "0: 384x640 2 peoples, 2 forks, 2 spoons, 2 cups, 1 kettle, 1 basket, 1 salad, 1 ribs, 1 Caesar, 1 fish, 1 soup, 1 borsch, 1 phone, 16.7ms\n",
            "Speed: 7.0ms preprocess, 16.7ms inference, 2.2ms postprocess per image at shape (1, 3, 384, 640)\n",
            "\n",
            "0: 384x640 2 peoples, 2 forks, 2 spoons, 2 cups, 1 kettle, 1 basket, 1 salad, 1 ribs, 1 Caesar, 1 fish, 1 soup, 1 borsch, 1 phone, 15.5ms\n",
            "Speed: 7.0ms preprocess, 15.5ms inference, 2.4ms postprocess per image at shape (1, 3, 384, 640)\n",
            "\n",
            "0: 384x640 2 peoples, 2 forks, 2 spoons, 2 cups, 1 kettle, 1 basket, 1 salad, 1 ribs, 1 Caesar, 1 fish, 1 soup, 1 borsch, 1 phone, 15.5ms\n",
            "Speed: 3.7ms preprocess, 15.5ms inference, 2.2ms postprocess per image at shape (1, 3, 384, 640)\n",
            "\n",
            "0: 384x640 2 peoples, 2 forks, 2 spoons, 2 cups, 1 kettle, 1 basket, 1 salad, 1 ribs, 1 Caesar, 1 fish, 2 soups, 1 borsch, 1 phone, 15.1ms\n",
            "Speed: 3.8ms preprocess, 15.1ms inference, 2.4ms postprocess per image at shape (1, 3, 384, 640)\n",
            "\n",
            "0: 384x640 2 peoples, 2 forks, 2 spoons, 2 cups, 1 kettle, 1 basket, 1 salad, 1 ribs, 1 Caesar, 1 fish, 2 soups, 1 borsch, 1 phone, 16.7ms\n",
            "Speed: 3.9ms preprocess, 16.7ms inference, 2.0ms postprocess per image at shape (1, 3, 384, 640)\n",
            "\n",
            "0: 384x640 2 peoples, 2 forks, 2 spoons, 2 cups, 1 kettle, 1 basket, 1 salad, 1 ribs, 1 Caesar, 1 fish, 2 soups, 1 borsch, 1 phone, 14.5ms\n",
            "Speed: 4.0ms preprocess, 14.5ms inference, 2.0ms postprocess per image at shape (1, 3, 384, 640)\n",
            "\n",
            "0: 384x640 2 peoples, 2 forks, 2 spoons, 2 cups, 1 kettle, 1 basket, 1 salad, 1 ribs, 1 Caesar, 1 fish, 2 soups, 1 borsch, 1 phone, 16.0ms\n",
            "Speed: 4.1ms preprocess, 16.0ms inference, 2.3ms postprocess per image at shape (1, 3, 384, 640)\n",
            "\n",
            "0: 384x640 2 peoples, 2 forks, 2 spoons, 2 cups, 1 kettle, 1 basket, 1 salad, 1 ribs, 1 Caesar, 1 fish, 2 soups, 1 borsch, 1 phone, 20.5ms\n",
            "Speed: 10.4ms preprocess, 20.5ms inference, 2.3ms postprocess per image at shape (1, 3, 384, 640)\n",
            "\n",
            "0: 384x640 2 peoples, 2 forks, 2 spoons, 2 cups, 1 kettle, 1 basket, 1 salad, 1 ribs, 1 Caesar, 1 fish, 2 soups, 1 borsch, 1 phone, 15.7ms\n",
            "Speed: 3.7ms preprocess, 15.7ms inference, 2.2ms postprocess per image at shape (1, 3, 384, 640)\n",
            "\n",
            "0: 384x640 2 peoples, 2 forks, 2 spoons, 2 cups, 1 kettle, 1 basket, 1 salad, 1 ribs, 1 Caesar, 1 fish, 2 soups, 1 borsch, 1 phone, 18.3ms\n",
            "Speed: 3.8ms preprocess, 18.3ms inference, 2.2ms postprocess per image at shape (1, 3, 384, 640)\n",
            "\n",
            "0: 384x640 2 peoples, 2 forks, 2 spoons, 2 cups, 1 kettle, 1 basket, 1 salad, 1 ribs, 1 Caesar, 1 fish, 2 soups, 1 borsch, 1 phone, 16.2ms\n",
            "Speed: 3.8ms preprocess, 16.2ms inference, 2.2ms postprocess per image at shape (1, 3, 384, 640)\n",
            "\n",
            "0: 384x640 2 peoples, 2 forks, 2 spoons, 2 cups, 1 kettle, 1 basket, 1 salad, 1 ribs, 1 Caesar, 1 fish, 2 soups, 1 borsch, 1 phone, 15.1ms\n",
            "Speed: 4.1ms preprocess, 15.1ms inference, 2.3ms postprocess per image at shape (1, 3, 384, 640)\n",
            "\n",
            "0: 384x640 2 peoples, 2 forks, 2 spoons, 2 cups, 1 kettle, 1 basket, 1 salad, 1 ribs, 1 Caesar, 1 fish, 2 soups, 1 borsch, 1 phone, 13.7ms\n",
            "Speed: 4.0ms preprocess, 13.7ms inference, 2.0ms postprocess per image at shape (1, 3, 384, 640)\n",
            "\n",
            "0: 384x640 2 peoples, 2 forks, 2 spoons, 2 cups, 1 kettle, 1 basket, 1 salad, 1 ribs, 1 Caesar, 1 fish, 2 soups, 1 borsch, 1 phone, 14.7ms\n",
            "Speed: 3.6ms preprocess, 14.7ms inference, 2.2ms postprocess per image at shape (1, 3, 384, 640)\n",
            "\n",
            "0: 384x640 2 peoples, 2 forks, 2 spoons, 2 cups, 1 kettle, 1 basket, 1 salad, 1 ribs, 1 Caesar, 1 fish, 1 soup, 1 borsch, 1 phone, 15.0ms\n",
            "Speed: 3.7ms preprocess, 15.0ms inference, 2.2ms postprocess per image at shape (1, 3, 384, 640)\n",
            "\n",
            "0: 384x640 2 peoples, 2 forks, 2 spoons, 2 cups, 1 kettle, 1 basket, 1 salad, 1 ribs, 1 Caesar, 1 fish, 2 soups, 1 borsch, 1 phone, 15.2ms\n",
            "Speed: 4.0ms preprocess, 15.2ms inference, 3.9ms postprocess per image at shape (1, 3, 384, 640)\n",
            "\n",
            "0: 384x640 2 peoples, 2 forks, 3 spoons, 2 cups, 1 kettle, 1 basket, 1 salad, 1 ribs, 1 Caesar, 1 fish, 2 soups, 1 borsch, 1 phone, 23.4ms\n",
            "Speed: 3.8ms preprocess, 23.4ms inference, 2.5ms postprocess per image at shape (1, 3, 384, 640)\n",
            "\n",
            "0: 384x640 2 peoples, 2 forks, 3 spoons, 2 cups, 1 kettle, 1 basket, 1 salad, 1 ribs, 1 Caesar, 1 fish, 2 soups, 1 borsch, 1 phone, 28.7ms\n",
            "Speed: 9.1ms preprocess, 28.7ms inference, 2.3ms postprocess per image at shape (1, 3, 384, 640)\n",
            "\n",
            "0: 384x640 2 peoples, 2 forks, 2 spoons, 2 cups, 1 kettle, 1 basket, 1 salad, 1 ribs, 1 Caesar, 1 fish, 2 soups, 1 borsch, 1 phone, 18.0ms\n",
            "Speed: 3.8ms preprocess, 18.0ms inference, 2.5ms postprocess per image at shape (1, 3, 384, 640)\n",
            "\n",
            "0: 384x640 2 peoples, 2 forks, 2 spoons, 2 cups, 1 kettle, 1 basket, 1 salad, 1 ribs, 1 Caesar, 1 fish, 2 soups, 1 borsch, 1 phone, 16.1ms\n",
            "Speed: 4.5ms preprocess, 16.1ms inference, 2.3ms postprocess per image at shape (1, 3, 384, 640)\n",
            "\n",
            "0: 384x640 2 peoples, 2 forks, 2 spoons, 2 cups, 1 kettle, 1 basket, 1 salad, 1 ribs, 1 Caesar, 1 fish, 2 soups, 1 borsch, 1 phone, 15.3ms\n",
            "Speed: 5.3ms preprocess, 15.3ms inference, 2.2ms postprocess per image at shape (1, 3, 384, 640)\n",
            "\n",
            "0: 384x640 2 peoples, 2 forks, 2 spoons, 2 cups, 1 kettle, 1 basket, 1 salad, 1 ribs, 1 Caesar, 1 fish, 2 soups, 1 borsch, 1 phone, 15.6ms\n",
            "Speed: 4.3ms preprocess, 15.6ms inference, 2.3ms postprocess per image at shape (1, 3, 384, 640)\n",
            "\n",
            "0: 384x640 2 peoples, 2 forks, 2 spoons, 2 cups, 1 kettle, 1 basket, 1 salad, 1 ribs, 1 Caesar, 1 fish, 1 soup, 1 borsch, 1 phone, 22.0ms\n",
            "Speed: 3.6ms preprocess, 22.0ms inference, 2.3ms postprocess per image at shape (1, 3, 384, 640)\n",
            "\n",
            "0: 384x640 2 peoples, 2 forks, 2 spoons, 2 cups, 1 kettle, 1 basket, 1 salad, 1 ribs, 1 Caesar, 1 fish, 2 soups, 1 borsch, 1 phone, 16.0ms\n",
            "Speed: 11.2ms preprocess, 16.0ms inference, 2.1ms postprocess per image at shape (1, 3, 384, 640)\n",
            "\n",
            "0: 384x640 2 peoples, 2 forks, 2 spoons, 2 cups, 1 kettle, 1 basket, 1 salad, 1 ribs, 1 Caesar, 1 fish, 1 soup, 1 borsch, 1 phone, 20.3ms\n",
            "Speed: 9.6ms preprocess, 20.3ms inference, 2.2ms postprocess per image at shape (1, 3, 384, 640)\n",
            "\n",
            "0: 384x640 2 peoples, 2 forks, 2 spoons, 2 cups, 1 kettle, 1 basket, 1 salad, 1 ribs, 1 Caesar, 1 fish, 1 soup, 1 borsch, 1 phone, 17.3ms\n",
            "Speed: 10.4ms preprocess, 17.3ms inference, 2.2ms postprocess per image at shape (1, 3, 384, 640)\n",
            "\n",
            "0: 384x640 2 peoples, 2 forks, 2 spoons, 2 cups, 1 kettle, 1 basket, 1 salad, 1 ribs, 1 Caesar, 1 fish, 1 soup, 1 borsch, 1 phone, 16.9ms\n",
            "Speed: 8.7ms preprocess, 16.9ms inference, 2.4ms postprocess per image at shape (1, 3, 384, 640)\n",
            "\n",
            "0: 384x640 2 peoples, 2 forks, 2 spoons, 2 cups, 1 kettle, 1 basket, 1 salad, 1 ribs, 1 Caesar, 1 fish, 1 soup, 1 borsch, 1 phone, 25.6ms\n",
            "Speed: 8.1ms preprocess, 25.6ms inference, 2.5ms postprocess per image at shape (1, 3, 384, 640)\n",
            "\n",
            "0: 384x640 2 peoples, 2 forks, 2 spoons, 2 cups, 1 kettle, 1 basket, 1 salad, 1 ribs, 1 Caesar, 1 fish, 1 soup, 1 borsch, 1 phone, 15.5ms\n",
            "Speed: 5.1ms preprocess, 15.5ms inference, 2.5ms postprocess per image at shape (1, 3, 384, 640)\n",
            "\n",
            "0: 384x640 2 peoples, 2 forks, 2 spoons, 2 cups, 1 kettle, 1 basket, 1 salad, 1 ribs, 1 Caesar, 1 fish, 1 soup, 1 borsch, 1 phone, 13.6ms\n",
            "Speed: 9.4ms preprocess, 13.6ms inference, 1.9ms postprocess per image at shape (1, 3, 384, 640)\n",
            "\n",
            "0: 384x640 2 peoples, 2 forks, 2 spoons, 2 cups, 1 kettle, 1 basket, 1 salad, 1 ribs, 1 Caesar, 1 fish, 1 soup, 1 borsch, 1 phone, 33.4ms\n",
            "Speed: 3.4ms preprocess, 33.4ms inference, 7.3ms postprocess per image at shape (1, 3, 384, 640)\n",
            "\n",
            "0: 384x640 2 peoples, 2 forks, 2 spoons, 2 cups, 1 kettle, 1 basket, 1 salad, 1 ribs, 1 Caesar, 1 fish, 1 soup, 1 borsch, 1 phone, 19.7ms\n",
            "Speed: 8.7ms preprocess, 19.7ms inference, 2.2ms postprocess per image at shape (1, 3, 384, 640)\n",
            "\n",
            "0: 384x640 2 peoples, 2 forks, 2 spoons, 2 cups, 1 kettle, 1 basket, 1 salad, 1 ribs, 1 Caesar, 1 fish, 1 soup, 1 borsch, 1 phone, 27.4ms\n",
            "Speed: 4.8ms preprocess, 27.4ms inference, 1.9ms postprocess per image at shape (1, 3, 384, 640)\n",
            "\n",
            "0: 384x640 2 peoples, 2 forks, 2 spoons, 2 cups, 1 kettle, 1 basket, 1 salad, 1 ribs, 1 Caesar, 1 fish, 1 soup, 1 borsch, 1 phone, 29.2ms\n",
            "Speed: 3.5ms preprocess, 29.2ms inference, 3.0ms postprocess per image at shape (1, 3, 384, 640)\n",
            "\n",
            "0: 384x640 2 peoples, 2 forks, 2 spoons, 2 cups, 1 kettle, 1 basket, 1 salad, 1 ribs, 1 Caesar, 1 fish, 1 soup, 1 borsch, 1 phone, 32.5ms\n",
            "Speed: 3.4ms preprocess, 32.5ms inference, 4.8ms postprocess per image at shape (1, 3, 384, 640)\n",
            "\n",
            "0: 384x640 2 peoples, 2 forks, 2 spoons, 2 cups, 1 kettle, 1 basket, 1 salad, 1 ribs, 1 Caesar, 1 fish, 1 soup, 1 borsch, 1 phone, 22.4ms\n",
            "Speed: 3.7ms preprocess, 22.4ms inference, 2.2ms postprocess per image at shape (1, 3, 384, 640)\n",
            "\n",
            "0: 384x640 2 peoples, 2 forks, 2 spoons, 2 cups, 1 kettle, 1 basket, 1 salad, 1 ribs, 1 Caesar, 1 fish, 1 soup, 1 borsch, 1 phone, 41.4ms\n",
            "Speed: 3.3ms preprocess, 41.4ms inference, 2.2ms postprocess per image at shape (1, 3, 384, 640)\n",
            "\n",
            "0: 384x640 2 peoples, 2 forks, 2 spoons, 2 cups, 1 kettle, 1 basket, 1 salad, 1 ribs, 1 Caesar, 1 fish, 1 soup, 1 borsch, 1 phone, 15.7ms\n",
            "Speed: 3.6ms preprocess, 15.7ms inference, 2.3ms postprocess per image at shape (1, 3, 384, 640)\n",
            "\n",
            "0: 384x640 2 peoples, 2 forks, 2 spoons, 2 cups, 1 kettle, 1 basket, 1 salad, 1 ribs, 1 Caesar, 1 fish, 1 soup, 1 borsch, 1 phone, 22.0ms\n",
            "Speed: 3.6ms preprocess, 22.0ms inference, 2.2ms postprocess per image at shape (1, 3, 384, 640)\n",
            "\n",
            "0: 384x640 2 peoples, 2 forks, 2 spoons, 2 cups, 1 kettle, 1 basket, 1 salad, 1 ribs, 1 Caesar, 1 fish, 1 soup, 1 borsch, 1 phone, 16.1ms\n",
            "Speed: 3.9ms preprocess, 16.1ms inference, 2.2ms postprocess per image at shape (1, 3, 384, 640)\n",
            "\n",
            "0: 384x640 2 peoples, 2 forks, 2 spoons, 2 cups, 1 kettle, 1 basket, 1 salad, 1 ribs, 1 Caesar, 1 fish, 1 soup, 1 borsch, 1 phone, 14.2ms\n",
            "Speed: 7.5ms preprocess, 14.2ms inference, 2.1ms postprocess per image at shape (1, 3, 384, 640)\n",
            "\n",
            "0: 384x640 2 peoples, 2 forks, 2 spoons, 2 cups, 1 kettle, 1 basket, 1 salad, 1 ribs, 1 Caesar, 1 fish, 1 soup, 1 borsch, 1 phone, 19.6ms\n",
            "Speed: 6.8ms preprocess, 19.6ms inference, 2.3ms postprocess per image at shape (1, 3, 384, 640)\n",
            "\n",
            "0: 384x640 2 peoples, 2 forks, 2 spoons, 2 cups, 1 kettle, 1 basket, 1 salad, 1 ribs, 1 Caesar, 1 fish, 1 soup, 1 borsch, 1 phone, 17.0ms\n",
            "Speed: 6.5ms preprocess, 17.0ms inference, 2.4ms postprocess per image at shape (1, 3, 384, 640)\n",
            "\n",
            "0: 384x640 2 peoples, 2 forks, 2 spoons, 2 cups, 1 kettle, 1 basket, 1 salad, 1 ribs, 1 Caesar, 1 fish, 1 soup, 1 borsch, 1 phone, 17.7ms\n",
            "Speed: 4.6ms preprocess, 17.7ms inference, 2.3ms postprocess per image at shape (1, 3, 384, 640)\n",
            "\n",
            "0: 384x640 2 peoples, 2 forks, 2 spoons, 2 cups, 1 kettle, 1 basket, 1 salad, 1 ribs, 1 Caesar, 1 fish, 1 soup, 1 borsch, 1 phone, 16.7ms\n",
            "Speed: 3.7ms preprocess, 16.7ms inference, 2.2ms postprocess per image at shape (1, 3, 384, 640)\n",
            "\n",
            "0: 384x640 2 peoples, 2 forks, 2 spoons, 2 cups, 1 kettle, 1 basket, 1 salad, 1 ribs, 1 Caesar, 1 fish, 1 soup, 1 borsch, 1 phone, 21.1ms\n",
            "Speed: 4.0ms preprocess, 21.1ms inference, 2.3ms postprocess per image at shape (1, 3, 384, 640)\n",
            "\n",
            "0: 384x640 2 peoples, 2 forks, 2 spoons, 2 cups, 1 kettle, 1 basket, 1 salad, 1 ribs, 1 Caesar, 1 fish, 1 soup, 1 borsch, 1 phone, 15.6ms\n",
            "Speed: 4.1ms preprocess, 15.6ms inference, 2.2ms postprocess per image at shape (1, 3, 384, 640)\n",
            "\n",
            "0: 384x640 2 peoples, 2 forks, 2 spoons, 2 cups, 1 kettle, 1 basket, 1 salad, 1 ribs, 1 Caesar, 1 fish, 1 soup, 1 borsch, 1 phone, 20.5ms\n",
            "Speed: 4.7ms preprocess, 20.5ms inference, 2.2ms postprocess per image at shape (1, 3, 384, 640)\n",
            "\n",
            "0: 384x640 2 peoples, 2 forks, 2 spoons, 2 cups, 1 kettle, 1 basket, 1 salad, 1 ribs, 1 Caesar, 1 fish, 1 soup, 1 borsch, 1 phone, 14.7ms\n",
            "Speed: 4.7ms preprocess, 14.7ms inference, 2.2ms postprocess per image at shape (1, 3, 384, 640)\n",
            "\n",
            "0: 384x640 2 peoples, 2 forks, 2 spoons, 2 cups, 1 kettle, 1 basket, 1 salad, 1 ribs, 1 Caesar, 1 fish, 1 soup, 1 borsch, 1 phone, 14.8ms\n",
            "Speed: 4.2ms preprocess, 14.8ms inference, 2.2ms postprocess per image at shape (1, 3, 384, 640)\n",
            "\n",
            "0: 384x640 2 peoples, 2 forks, 2 spoons, 2 cups, 1 kettle, 1 basket, 1 salad, 1 ribs, 1 Caesar, 1 fish, 1 soup, 1 borsch, 1 phone, 13.2ms\n",
            "Speed: 3.5ms preprocess, 13.2ms inference, 2.1ms postprocess per image at shape (1, 3, 384, 640)\n",
            "\n",
            "0: 384x640 2 peoples, 2 forks, 2 spoons, 2 cups, 1 kettle, 1 basket, 1 salad, 1 ribs, 1 Caesar, 1 fish, 1 soup, 1 borsch, 1 phone, 14.7ms\n",
            "Speed: 3.4ms preprocess, 14.7ms inference, 1.9ms postprocess per image at shape (1, 3, 384, 640)\n",
            "\n",
            "0: 384x640 2 peoples, 2 forks, 2 spoons, 2 cups, 1 kettle, 1 basket, 1 salad, 1 ribs, 1 Caesar, 1 fish, 1 soup, 1 borsch, 1 phone, 11.7ms\n",
            "Speed: 3.6ms preprocess, 11.7ms inference, 1.6ms postprocess per image at shape (1, 3, 384, 640)\n"
          ]
        }
      ]
    }
  ]
}